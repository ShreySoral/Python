{
 "cells": [
  {
   "cell_type": "code",
   "execution_count": 2,
   "id": "4e03a881",
   "metadata": {},
   "outputs": [
    {
     "name": "stdout",
     "output_type": "stream",
     "text": [
      "list1 = [10, 'a']\n",
      "list2 = [123]\n",
      "list3 = [10, 'a']\n"
     ]
    }
   ],
   "source": [
    "def extendList(val, list=[]): \n",
    "\n",
    "    list.append(val) \n",
    "\n",
    "    return list \n",
    "\n",
    "list1 = extendList(10) \n",
    "\n",
    "list2 = extendList(123,[]) \n",
    "\n",
    "list3 = extendList('a') \n",
    "\n",
    "print(f\"list1 = {list1}\")  \n",
    "\n",
    "print(f\"list2 = {list2}\") \n",
    "\n",
    "print(f\"list3 = {list3}\") "
   ]
  },
  {
   "cell_type": "markdown",
   "id": "c2e14cec",
   "metadata": {},
   "source": [
    "### OOPs\n",
    "\n",
    "    05:30 PM to 07:00 PM \n",
    "    \n",
    "    "
   ]
  },
  {
   "cell_type": "code",
   "execution_count": 27,
   "id": "aad88dcf",
   "metadata": {},
   "outputs": [
    {
     "name": "stdout",
     "output_type": "stream",
     "text": [
      "Overwriting 51.bank_app\\\\accounts\\\\1001\n"
     ]
    }
   ],
   "source": [
    "%%writefile \"51.bank_app\\\\accounts\\\\1001\"\n",
    "{\"name\": \"sachin\", \"balance\": 60000.0, \"password\": \"redhat\"}"
   ]
  },
  {
   "cell_type": "code",
   "execution_count": 29,
   "id": "4b344956",
   "metadata": {},
   "outputs": [],
   "source": [
    "with open(\"51.bank_app\\\\accounts\\\\1001\") as file:\n",
    "    data = json.load(file)"
   ]
  },
  {
   "cell_type": "code",
   "execution_count": 30,
   "id": "f2f84ca6",
   "metadata": {},
   "outputs": [
    {
     "data": {
      "text/plain": [
       "{'name': 'sachin', 'balance': 60000.0, 'password': 'redhat'}"
      ]
     },
     "execution_count": 30,
     "metadata": {},
     "output_type": "execute_result"
    }
   ],
   "source": [
    "data"
   ]
  },
  {
   "cell_type": "code",
   "execution_count": 28,
   "id": "6af3e020",
   "metadata": {},
   "outputs": [
    {
     "name": "stdout",
     "output_type": "stream",
     "text": [
      "{\"name\": \"sachin\", \"balance\": 60000.0, \"password\": \"redhat\"}\n"
     ]
    }
   ],
   "source": [
    "!type \"51.bank_app\\\\accounts\\\\1001\""
   ]
  },
  {
   "cell_type": "code",
   "execution_count": 3,
   "id": "721301a4",
   "metadata": {},
   "outputs": [
    {
     "name": "stdout",
     "output_type": "stream",
     "text": [
      "1001\n",
      "1002\n"
     ]
    }
   ],
   "source": [
    "!ls 51.bank_app/accounts/"
   ]
  },
  {
   "cell_type": "code",
   "execution_count": 8,
   "id": "1cfa89cc",
   "metadata": {},
   "outputs": [],
   "source": [
    "import os"
   ]
  },
  {
   "cell_type": "code",
   "execution_count": 10,
   "id": "be32f206",
   "metadata": {},
   "outputs": [
    {
     "name": "stdout",
     "output_type": "stream",
     "text": [
      "['1001', '1002']\n"
     ]
    }
   ],
   "source": [
    "location = \"51.bank_app/accounts\"\n",
    "\n",
    "files = os.listdir(location)\n",
    "\n",
    "files = [ file for file in files if os.path.isfile(os.path.join(location, file))]\n",
    "print(files)"
   ]
  },
  {
   "cell_type": "code",
   "execution_count": 12,
   "id": "67a2d405",
   "metadata": {},
   "outputs": [
    {
     "data": {
      "text/plain": [
       "False"
      ]
     },
     "execution_count": 12,
     "metadata": {},
     "output_type": "execute_result"
    }
   ],
   "source": [
    "1001 in ['1001', '1002']"
   ]
  },
  {
   "cell_type": "code",
   "execution_count": 14,
   "id": "ff0c7ed8",
   "metadata": {},
   "outputs": [
    {
     "name": "stdout",
     "output_type": "stream",
     "text": [
      "Account Number: 1001\n",
      "Yes! you have an account with us\n"
     ]
    }
   ],
   "source": [
    "acc = input(\"Account Number: \")\n",
    "\n",
    "if acc in files:\n",
    "    print(\"Yes! you have an account with us\")\n",
    "else:\n",
    "    print(\"No! you don't have an account\")"
   ]
  },
  {
   "cell_type": "code",
   "execution_count": 33,
   "id": "22ff62fe",
   "metadata": {},
   "outputs": [
    {
     "name": "stdout",
     "output_type": "stream",
     "text": [
      "1001\n",
      "1002\n",
      "1003\n"
     ]
    }
   ],
   "source": [
    "!ls \"51.bank_app\\\\accounts\""
   ]
  },
  {
   "cell_type": "code",
   "execution_count": 34,
   "id": "b3f081bc",
   "metadata": {},
   "outputs": [
    {
     "name": "stdout",
     "output_type": "stream",
     "text": [
      "{\"name\": \"rahul\", \"balance\": 40000.0, \"password\": \"rahul\"}\n"
     ]
    }
   ],
   "source": [
    "!type \"51.bank_app\\\\accounts\\\\1003\""
   ]
  },
  {
   "cell_type": "code",
   "execution_count": 19,
   "id": "0d885766",
   "metadata": {},
   "outputs": [],
   "source": [
    "import json"
   ]
  },
  {
   "cell_type": "code",
   "execution_count": 20,
   "id": "eae6c60d",
   "metadata": {},
   "outputs": [],
   "source": [
    "with open( \"51.bank_app\\\\accounts\\\\1002\") as file:\n",
    "    data = json.load(file)"
   ]
  },
  {
   "cell_type": "code",
   "execution_count": 21,
   "id": "f8281941",
   "metadata": {},
   "outputs": [
    {
     "name": "stdout",
     "output_type": "stream",
     "text": [
      "{'name': 'rajat', 'balance': 50000.0, 'password': 'tajra'} <class 'dict'>\n"
     ]
    }
   ],
   "source": [
    "print(data, type(data))"
   ]
  },
  {
   "cell_type": "code",
   "execution_count": 22,
   "id": "2fb3efdb",
   "metadata": {},
   "outputs": [
    {
     "data": {
      "text/plain": [
       "'tajra'"
      ]
     },
     "execution_count": 22,
     "metadata": {},
     "output_type": "execute_result"
    }
   ],
   "source": [
    "data[\"password\"]"
   ]
  },
  {
   "cell_type": "code",
   "execution_count": null,
   "id": "7f45b97c",
   "metadata": {},
   "outputs": [],
   "source": []
  }
 ],
 "metadata": {
  "kernelspec": {
   "display_name": "Python 3 (ipykernel)",
   "language": "python",
   "name": "python3"
  },
  "language_info": {
   "codemirror_mode": {
    "name": "ipython",
    "version": 3
   },
   "file_extension": ".py",
   "mimetype": "text/x-python",
   "name": "python",
   "nbconvert_exporter": "python",
   "pygments_lexer": "ipython3",
   "version": "3.9.13"
  }
 },
 "nbformat": 4,
 "nbformat_minor": 5
}
