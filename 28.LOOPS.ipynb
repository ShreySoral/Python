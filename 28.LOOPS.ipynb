{
 "cells": [
  {
   "cell_type": "code",
   "execution_count": 3,
   "id": "5355b095",
   "metadata": {},
   "outputs": [
    {
     "name": "stdout",
     "output_type": "stream",
     "text": [
      "15\n",
      "30\n",
      "45\n",
      "60\n",
      "75\n",
      "90\n"
     ]
    }
   ],
   "source": [
    "# print all numbers divisible by 3 and 5 between 1-100\n",
    "for i in range(1,101):\n",
    "    if((i%3==0) and (i%5==0)):\n",
    "      print(i)"
   ]
  },
  {
   "cell_type": "code",
   "execution_count": 4,
   "id": "f1d9c782",
   "metadata": {},
   "outputs": [
    {
     "name": "stdout",
     "output_type": "stream",
     "text": [
      "num: 3\n",
      "Summation of first 3 numbers is : 6\n"
     ]
    }
   ],
   "source": [
    "# print summation of first n numbers eg 5 --> (1+2+3+4+5) =>15\n",
    "num =int(input(\"num: \"))\n",
    "sum =0\n",
    "for i in range (1,num+1):\n",
    "    sum+=i\n",
    "print(f\"Summation of first {num} numbers is : {sum}\")"
   ]
  },
  {
   "cell_type": "code",
   "execution_count": 5,
   "id": "ddc6c22e",
   "metadata": {},
   "outputs": [
    {
     "name": "stdout",
     "output_type": "stream",
     "text": [
      "1\n",
      "2\n",
      "3\n",
      "4\n",
      "5\n"
     ]
    }
   ],
   "source": [
    "num=1\n",
    "while num<=5:\n",
    "    print(num)\n",
    "    num=num+1"
   ]
  },
  {
   "cell_type": "code",
   "execution_count": 6,
   "id": "a630cd82",
   "metadata": {},
   "outputs": [
    {
     "name": "stdout",
     "output_type": "stream",
     "text": [
      "15\n",
      "30\n",
      "45\n",
      "60\n",
      "75\n",
      "90\n"
     ]
    }
   ],
   "source": [
    "num=1\n",
    "while num<=100:\n",
    "    if(num%3==0) and (num%5==0):\n",
    "        print(num)\n",
    "    num+=1"
   ]
  },
  {
   "cell_type": "code",
   "execution_count": 7,
   "id": "a8751fb0",
   "metadata": {},
   "outputs": [
    {
     "name": "stdout",
     "output_type": "stream",
     "text": [
      "15\n"
     ]
    }
   ],
   "source": [
    "# print summation of first n numbers eg 5 --> (1+2+3+4+5) =>15\n",
    "from pprint import pprint\n",
    "sum_=0\n",
    "sum_=sum_+1\n",
    "sum_=sum_+2\n",
    "sum_=sum_+3\n",
    "sum_=sum_+4\n",
    "sum_=sum_+5\n",
    "\n",
    "pprint(sum_)"
   ]
  },
  {
   "cell_type": "code",
   "execution_count": 10,
   "id": "c4658c2c",
   "metadata": {},
   "outputs": [
    {
     "name": "stdout",
     "output_type": "stream",
     "text": [
      "enter n:3\n",
      "3\n"
     ]
    }
   ],
   "source": [
    "sum_=0\n",
    "n=int(input(\"enter n:\\n\"))\n",
    "num=1\n",
    "while num<n:\n",
    "    sum_+=num\n",
    "    num+=1\n",
    "print(sum_)"
   ]
  },
  {
   "cell_type": "code",
   "execution_count": 11,
   "id": "988fac7a",
   "metadata": {},
   "outputs": [
    {
     "name": "stdout",
     "output_type": "stream",
     "text": [
      "5\n"
     ]
    }
   ],
   "source": [
    "c=1\n",
    "while c<=5:\n",
    "    acc=0\n",
    "    acc=acc+c\n",
    "    c+=1\n",
    "print(acc)"
   ]
  },
  {
   "cell_type": "code",
   "execution_count": 12,
   "id": "28098aef",
   "metadata": {},
   "outputs": [
    {
     "name": "stdout",
     "output_type": "stream",
     "text": [
      "57\n"
     ]
    }
   ],
   "source": [
    "c=1\n",
    "acc=0\n",
    "while c<=5:\n",
    "    acc=2*acc+c\n",
    "    c+=1\n",
    "print(acc)"
   ]
  },
  {
   "cell_type": "code",
   "execution_count": null,
   "id": "da613bc6",
   "metadata": {},
   "outputs": [],
   "source": []
  }
 ],
 "metadata": {
  "kernelspec": {
   "display_name": "Python 3 (ipykernel)",
   "language": "python",
   "name": "python3"
  },
  "language_info": {
   "codemirror_mode": {
    "name": "ipython",
    "version": 3
   },
   "file_extension": ".py",
   "mimetype": "text/x-python",
   "name": "python",
   "nbconvert_exporter": "python",
   "pygments_lexer": "ipython3",
   "version": "3.10.5"
  }
 },
 "nbformat": 4,
 "nbformat_minor": 5
}
