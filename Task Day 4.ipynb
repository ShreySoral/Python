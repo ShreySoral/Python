{
 "cells": [
  {
   "cell_type": "markdown",
   "id": "37254fed",
   "metadata": {},
   "source": [
    "1. Explore split, strip, replace, center, title methods of string data type in python \n",
    "\n",
    "2. Explore append, pop, remove, sort methods of list data type \n",
    "\n",
    "3. Create 5 real time list to store some useful information in python eg. Language = [ ‘java’, ‘c’, ‘c++’, ‘ruby’ ] \n",
    "\n",
    "4. What is difference between mutable and immutable data types in python \n",
    "\n",
    "5. What are identifiers, list rules of identifiers in python "
   ]
  },
  {
   "cell_type": "code",
   "execution_count": 1,
   "id": "0f3456c8",
   "metadata": {},
   "outputs": [
    {
     "name": "stdout",
     "output_type": "stream",
     "text": [
      "8\n",
      "72\n",
      "e\n",
      "p\n",
      "['o', 'g', 'r']\n",
      "['a', 'm', 'i', 'z']\n",
      "['p', 'r', 'o', 'g', 'r', 'a', 'm', 'i', 'z']\n"
     ]
    }
   ],
   "source": [
    "L1 = [1,2,3,4,5,6,7,8] \n",
    "print(len(L1))\n",
    "L2 = [12,34,26,48,72] \n",
    "print(max(L2))\n",
    "# nested list\n",
    "my_list = [\"mouse\", [8, 4, 6], ['a']]\n",
    "# Negative indexing in lists\n",
    "my_list = ['p','r','o','b','e']\n",
    "\n",
    "# last item\n",
    "print(my_list[-1])\n",
    "\n",
    "# fifth last item\n",
    "print(my_list[-5])\n",
    "# List slicing in Python\n",
    "\n",
    "my_list = ['p','r','o','g','r','a','m','i','z']\n",
    "\n",
    "# elements from index 2 to index 4\n",
    "print(my_list[2:5])\n",
    "\n",
    "# elements from index 5 to end\n",
    "print(my_list[5:])\n",
    "\n",
    "# elements beginning to end\n",
    "print(my_list[:])"
   ]
  },
  {
   "cell_type": "code",
   "execution_count": 2,
   "id": "5e7b82c2",
   "metadata": {},
   "outputs": [],
   "source": [
    "# mutable objects can change their state or contents and immutable objects can't change their state or content. Immutable Objects : These are of in-built types like int, float, bool, string, unicode, tuple. In simple words, an immutable object can't be changed after it is created."
   ]
  },
  {
   "cell_type": "code",
   "execution_count": 3,
   "id": "ac43d151",
   "metadata": {},
   "outputs": [],
   "source": [
    "# A Python identifier is a name used to identify a variable, function, class, module or other object. An identifier starts with a letter A to Z or a to z or an underscore (_) followed by zero or more letters, underscores and digits (0 to 9)."
   ]
  },
  {
   "cell_type": "code",
   "execution_count": null,
   "id": "371b5fc6",
   "metadata": {},
   "outputs": [],
   "source": [
    "# fruits = ['apple', 'banana', 'cherry']\n",
    "# fruits.append(\"orange\")\n",
    "# fruits = ['apple', 'banana', 'cherry', 'orange']\n",
    "\n",
    "# fruits.clear()\n",
    "# fruits = ['apple', 'banana', 'cherry', 'orange']\n",
    "\n",
    "# x = fruits.copy()\n",
    "# points = [1, 4, 2, 9, 7, 8, 9, 3, 1]\n",
    "\n",
    "# x = points.count(9)\n",
    "# fruits = ['apple', 'banana', 'cherry']\n",
    "\n",
    "# cars = ['Ford', 'BMW', 'Volvo']\n",
    "\n",
    "# fruits.extend(cars)\n",
    "# fruits = ['apple', 'banana', 'cherry']\n",
    "\n",
    "# x = fruits.index(\"cherry\")\n",
    "# fruits = ['apple', 'banana', 'cherry']\n",
    "\n",
    "# fruits.insert(1, \"orange\")\n",
    "# fruits = ['apple', 'banana', 'cherry']\n",
    "\n",
    "# fruits.pop(1)\n",
    "# fruits = ['apple', 'banana', 'cherry']\n",
    "\n",
    "# fruits.remove(\"banana\")\n",
    "# fruits = ['apple', 'banana', 'cherry']\n",
    "\n",
    "# fruits.reverse()\n",
    "# cars = ['Ford', 'BMW', 'Volvo']\n",
    "\n",
    "# cars.sort()"
   ]
  }
 ],
 "metadata": {
  "kernelspec": {
   "display_name": "Python 3 (ipykernel)",
   "language": "python",
   "name": "python3"
  },
  "language_info": {
   "codemirror_mode": {
    "name": "ipython",
    "version": 3
   },
   "file_extension": ".py",
   "mimetype": "text/x-python",
   "name": "python",
   "nbconvert_exporter": "python",
   "pygments_lexer": "ipython3",
   "version": "3.10.5"
  }
 },
 "nbformat": 4,
 "nbformat_minor": 5
}
