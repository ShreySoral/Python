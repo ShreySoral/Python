{
 "cells": [
  {
   "cell_type": "markdown",
   "id": "2220bba3",
   "metadata": {},
   "source": [
    "    https://www.codechef.com/OCT21C/problems/THREEBOX\n",
    "    \n",
    "    https://www.hackerrank.com/challenges/py-if-else/problem?isFullScreen=true"
   ]
  },
  {
   "cell_type": "code",
   "execution_count": 5,
   "id": "9d0890df",
   "metadata": {},
   "outputs": [
    {
     "name": "stdout",
     "output_type": "stream",
     "text": [
      "Enter a number: -5\n",
      "warning! be carefull you have given a negative number\n",
      "hello your input is -5.\n"
     ]
    }
   ],
   "source": [
    "num = int(input(\"Enter a number: \"))\n",
    "\n",
    "if num < 0:\n",
    "    print(\"warning! be carefull you have given a negative number\")\n",
    "    \n",
    "print(f\"hello your input is {num}.\")"
   ]
  },
  {
   "cell_type": "code",
   "execution_count": 7,
   "id": "a5ac521d",
   "metadata": {},
   "outputs": [
    {
     "name": "stdout",
     "output_type": "stream",
     "text": [
      "do that work\n",
      "only if condition is False\n"
     ]
    }
   ],
   "source": [
    "if False:\n",
    "    print(\"do this work\")\n",
    "    print('only if condition is True')\n",
    "else:\n",
    "    print(\"do that work\")\n",
    "    print(\"only if condition is False\")"
   ]
  },
  {
   "cell_type": "code",
   "execution_count": null,
   "id": "f8378eaf",
   "metadata": {},
   "outputs": [],
   "source": []
  },
  {
   "cell_type": "code",
   "execution_count": 9,
   "id": "fbe58f49",
   "metadata": {},
   "outputs": [
    {
     "name": "stdout",
     "output_type": "stream",
     "text": [
      "before if statement\n",
      "This is a block of code inside if-statement\n",
      "It will only execute if given condition is True\n",
      "after if statement\n"
     ]
    }
   ],
   "source": [
    "print('before if statement')\n",
    "\n",
    "if True:\n",
    "    print(\"This is a block of code inside if-statement\")\n",
    "    print(\"It will only execute if given condition is True\")\n",
    "\n",
    "print(\"after if statement\")"
   ]
  },
  {
   "cell_type": "code",
   "execution_count": 10,
   "id": "44e16053",
   "metadata": {},
   "outputs": [],
   "source": [
    "pass"
   ]
  },
  {
   "cell_type": "code",
   "execution_count": 11,
   "id": "701a3c9a",
   "metadata": {},
   "outputs": [
    {
     "ename": "NameError",
     "evalue": "name 'timepass' is not defined",
     "output_type": "error",
     "traceback": [
      "\u001b[1;31m---------------------------------------------------------------------------\u001b[0m",
      "\u001b[1;31mNameError\u001b[0m                                 Traceback (most recent call last)",
      "Input \u001b[1;32mIn [11]\u001b[0m, in \u001b[0;36m<cell line: 1>\u001b[1;34m()\u001b[0m\n\u001b[1;32m----> 1\u001b[0m \u001b[43mtimepass\u001b[49m\n",
      "\u001b[1;31mNameError\u001b[0m: name 'timepass' is not defined"
     ]
    }
   ],
   "source": [
    "timepass"
   ]
  },
  {
   "cell_type": "code",
   "execution_count": 17,
   "id": "bddad644",
   "metadata": {},
   "outputs": [],
   "source": [
    "if True:\n",
    "    # comment there\n",
    "    pass\n",
    "else:\n",
    "    print('ha ha ')"
   ]
  },
  {
   "cell_type": "code",
   "execution_count": 12,
   "id": "3b29bc1d",
   "metadata": {},
   "outputs": [
    {
     "name": "stdout",
     "output_type": "stream",
     "text": [
      "hello world\n",
      "kuch nh karne k liye\n"
     ]
    }
   ],
   "source": [
    "print('hello world')\n",
    "pass\n",
    "print('kuch nh karne k liye')\n",
    "pass"
   ]
  },
  {
   "cell_type": "code",
   "execution_count": 18,
   "id": "dc3b086e",
   "metadata": {},
   "outputs": [
    {
     "ename": "SyntaxError",
     "evalue": "invalid syntax (547399770.py, line 1)",
     "output_type": "error",
     "traceback": [
      "\u001b[1;36m  Input \u001b[1;32mIn [18]\u001b[1;36m\u001b[0m\n\u001b[1;33m    if while:\u001b[0m\n\u001b[1;37m       ^\u001b[0m\n\u001b[1;31mSyntaxError\u001b[0m\u001b[1;31m:\u001b[0m invalid syntax\n"
     ]
    }
   ],
   "source": [
    "if while:\n",
    "    print('words')"
   ]
  },
  {
   "cell_type": "code",
   "execution_count": 19,
   "id": "a543a8df",
   "metadata": {},
   "outputs": [
    {
     "name": "stdout",
     "output_type": "stream",
     "text": [
      "['False', 'None', 'True', '__peg_parser__', 'and', 'as', 'assert', 'async', 'await', 'break', 'class', 'continue', 'def', 'del', 'elif', 'else', 'except', 'finally', 'for', 'from', 'global', 'if', 'import', 'in', 'is', 'lambda', 'nonlocal', 'not', 'or', 'pass', 'raise', 'return', 'try', 'while', 'with', 'yield']\n"
     ]
    }
   ],
   "source": [
    "from keyword import kwlist\n",
    "print(kwlist)"
   ]
  },
  {
   "cell_type": "code",
   "execution_count": 20,
   "id": "5de64787",
   "metadata": {},
   "outputs": [],
   "source": [
    "a = print"
   ]
  },
  {
   "cell_type": "code",
   "execution_count": 21,
   "id": "71e6c940",
   "metadata": {},
   "outputs": [
    {
     "ename": "SyntaxError",
     "evalue": "invalid syntax (299887587.py, line 1)",
     "output_type": "error",
     "traceback": [
      "\u001b[1;36m  Input \u001b[1;32mIn [21]\u001b[1;36m\u001b[0m\n\u001b[1;33m    a = if\u001b[0m\n\u001b[1;37m        ^\u001b[0m\n\u001b[1;31mSyntaxError\u001b[0m\u001b[1;31m:\u001b[0m invalid syntax\n"
     ]
    }
   ],
   "source": [
    "a = if"
   ]
  },
  {
   "cell_type": "markdown",
   "id": "a9cc2c26",
   "metadata": {},
   "source": [
    "    print  # built-in function\n",
    "    input  # built-in function \n",
    "\n",
    "    if else elif pass except try while for  # keywords -> grammer"
   ]
  },
  {
   "cell_type": "code",
   "execution_count": 22,
   "id": "ef5955ea",
   "metadata": {},
   "outputs": [
    {
     "ename": "SyntaxError",
     "evalue": "invalid syntax (3495732638.py, line 1)",
     "output_type": "error",
     "traceback": [
      "\u001b[1;36m  Input \u001b[1;32mIn [22]\u001b[1;36m\u001b[0m\n\u001b[1;33m    a = pass\u001b[0m\n\u001b[1;37m        ^\u001b[0m\n\u001b[1;31mSyntaxError\u001b[0m\u001b[1;31m:\u001b[0m invalid syntax\n"
     ]
    }
   ],
   "source": [
    "a = pass"
   ]
  },
  {
   "cell_type": "markdown",
   "id": "8733e118",
   "metadata": {},
   "source": [
    "### Bank"
   ]
  },
  {
   "cell_type": "code",
   "execution_count": 32,
   "id": "cd1ce3fc",
   "metadata": {},
   "outputs": [
    {
     "name": "stdout",
     "output_type": "stream",
     "text": [
      "Job Type [government/private/business]: private\n",
      "Not Eligible\n"
     ]
    }
   ],
   "source": [
    "job_type = input(\"Job Type [government/private/business]: \").strip().lower()\n",
    "\n",
    "\n",
    "if job_type == \"government\":\n",
    "    # do some work according to gove job\n",
    "    salary = float(input(\"Enter your salary: \"))\n",
    "    if salary >= 50000:\n",
    "        print(\"Eligible\")\n",
    "    else:\n",
    "        print(\"Not Eligible\")\n",
    "elif job_type == \"business\":\n",
    "    turn_over = float(input(\"Turn Over: \"))\n",
    "    if turn_over >= 20000000:\n",
    "        print(\"Eligible\")\n",
    "    else:\n",
    "        print(\"Not Eligible\")\n",
    "else:\n",
    "    print(\"Not Eligible\")\n",
    "\n",
    "\n"
   ]
  },
  {
   "cell_type": "markdown",
   "id": "aaa8dfb1",
   "metadata": {},
   "source": [
    "# calculator \n",
    "\n",
    "\n",
    "    input x: \n",
    "    input y: \n",
    "    \n",
    "    sign: [+, -, *, /, **]\n",
    "    \n",
    "    result"
   ]
  },
  {
   "cell_type": "markdown",
   "id": "39708e73",
   "metadata": {},
   "source": [
    "input\n",
    "\n",
    "    x: 10\n",
    "    y: 20\n",
    "    sign: +\n",
    "\n",
    "output \n",
    "\n",
    "    30"
   ]
  },
  {
   "cell_type": "markdown",
   "id": "04a47cbf",
   "metadata": {},
   "source": [
    "input \n",
    "\n",
    "    x: 22\n",
    "    y: 7\n",
    "    sign: /\n",
    "    \n",
    "ouput \n",
    "\n",
    "    3.14...."
   ]
  },
  {
   "cell_type": "code",
   "execution_count": 35,
   "id": "4592c61d",
   "metadata": {},
   "outputs": [
    {
     "ename": "SyntaxError",
     "evalue": "invalid syntax (800688409.py, line 1)",
     "output_type": "error",
     "traceback": [
      "\u001b[1;36m  Input \u001b[1;32mIn [35]\u001b[1;36m\u001b[0m\n\u001b[1;33m    10.0 \"+\" 20.0\u001b[0m\n\u001b[1;37m         ^\u001b[0m\n\u001b[1;31mSyntaxError\u001b[0m\u001b[1;31m:\u001b[0m invalid syntax\n"
     ]
    }
   ],
   "source": [
    "10.0 \"+\" 20.0"
   ]
  },
  {
   "cell_type": "code",
   "execution_count": 34,
   "id": "20863cb3",
   "metadata": {},
   "outputs": [
    {
     "ename": "SyntaxError",
     "evalue": "invalid syntax (4066567400.py, line 1)",
     "output_type": "error",
     "traceback": [
      "\u001b[1;36m  Input \u001b[1;32mIn [34]\u001b[1;36m\u001b[0m\n\u001b[1;33m    x sign y\u001b[0m\n\u001b[1;37m      ^\u001b[0m\n\u001b[1;31mSyntaxError\u001b[0m\u001b[1;31m:\u001b[0m invalid syntax\n"
     ]
    }
   ],
   "source": [
    "x sign y"
   ]
  },
  {
   "cell_type": "code",
   "execution_count": null,
   "id": "aa963f99",
   "metadata": {},
   "outputs": [],
   "source": []
  },
  {
   "cell_type": "code",
   "execution_count": null,
   "id": "a7b65c0e",
   "metadata": {},
   "outputs": [],
   "source": []
  },
  {
   "cell_type": "code",
   "execution_count": null,
   "id": "c2de6dc6",
   "metadata": {},
   "outputs": [],
   "source": []
  },
  {
   "cell_type": "code",
   "execution_count": 37,
   "id": "3b027544",
   "metadata": {},
   "outputs": [
    {
     "name": "stdout",
     "output_type": "stream",
     "text": [
      "X: 15\n",
      "Y: 3\n",
      "Sign [+, -, *, /, **] : /\n",
      " 15.0 /   3.0 = 5.0  \n"
     ]
    }
   ],
   "source": [
    "x = float(input(\"X: \"))\n",
    "# x = 10.0\n",
    "y = float(input(\"Y: \"))\n",
    "# y = 20.0\n",
    "sign = input(\"Sign [+, -, *, /, **] : \")\n",
    "# sign = \"+\"\n",
    "\n",
    "if sign == \"+\":\n",
    "    print(f\"{x} + {y} = {x+y}\")\n",
    "elif sign == \"-\":\n",
    "     print(f\"{x} - {y} = {x-y}\")\n",
    "elif sign == \"*\":\n",
    "     print(f\"{x} * {y} = {x*y}\")\n",
    "elif sign == \"/\":\n",
    "     print(f\"{x} / {y} = {x/y}\")\n",
    "elif sign == \"**\":\n",
    "     print(f\"{x} ** {y} = {x**y}\")\n",
    "else:\n",
    "    print(\"invalid sign\")\n",
    "\n",
    "\n",
    "\n"
   ]
  },
  {
   "cell_type": "code",
   "execution_count": 39,
   "id": "f3cf143d",
   "metadata": {},
   "outputs": [
    {
     "name": "stdout",
     "output_type": "stream",
     "text": [
      "String Formatting\n"
     ]
    }
   ],
   "source": [
    "\"<  left justify\"\n",
    "\"> right justify\"\n",
    "\"^ center justify\"\n",
    "\n",
    "print('String Formatting')"
   ]
  },
  {
   "cell_type": "code",
   "execution_count": null,
   "id": "f27b36cb",
   "metadata": {},
   "outputs": [],
   "source": [
    "x = float(input(\"X: \"))\n",
    "# x = 10.0\n",
    "y = float(input(\"Y: \"))\n",
    "# y = 20.0\n",
    "sign = input(\"Sign [+, -, *, /, **] : \")\n",
    "# sign = \"+\"\n",
    "\n",
    "if sign == \"+\":\n",
    "    print(f\"{x} + {y} = {x+y}\")\n",
    "elif sign == \"-\":\n",
    "     print(f\"{x} - {y} = {x-y}\")\n",
    "elif sign == \"*\":\n",
    "     print(f\"{x} * {y} = {x*y}\")\n",
    "elif sign == \"/\":\n",
    "     print(f\"{x} / {y} = {x/y}\")\n",
    "elif sign == \"**\":\n",
    "     print(f\"{x} ** {y} = {x**y}\")\n",
    "else:\n",
    "    print(\"invalid sign\")\n",
    "\n",
    "\n",
    "\n"
   ]
  },
  {
   "cell_type": "code",
   "execution_count": null,
   "id": "aa3596ca",
   "metadata": {},
   "outputs": [],
   "source": [
    "First Name \n",
    "\n",
    "[ ]\n",
    "\n",
    "Last Name\n",
    "[ ]"
   ]
  },
  {
   "cell_type": "code",
   "execution_count": 44,
   "id": "3e9b5d40",
   "metadata": {},
   "outputs": [
    {
     "name": "stdout",
     "output_type": "stream",
     "text": [
      "Enter Name: \n",
      "sachin\n",
      "Enter Age: \n",
      "26\n",
      "hey sachin you are 26 years old.\n"
     ]
    }
   ],
   "source": [
    "print(\"Enter Name: \")\n",
    "name = input()\n",
    "print(\"Enter Age: \")\n",
    "age = input()\n",
    "\n",
    "\n",
    "print(\"hey\", name, \"you are\", age, \"years old.\")"
   ]
  },
  {
   "cell_type": "code",
   "execution_count": 45,
   "id": "4114b6d6",
   "metadata": {},
   "outputs": [
    {
     "name": "stdout",
     "output_type": "stream",
     "text": [
      "name: sachin\n",
      "age: 26\n",
      "hey sachin you are 26 years old.\n"
     ]
    }
   ],
   "source": [
    "name = input(\"name: \")\n",
    "age = input(\"age: \")\n",
    "\n",
    "\n",
    "print(\"hey\", name, \"you are\", age, \"years old.\")"
   ]
  },
  {
   "cell_type": "code",
   "execution_count": 43,
   "id": "620b6246",
   "metadata": {},
   "outputs": [
    {
     "name": "stdout",
     "output_type": "stream",
     "text": [
      "Sachin\n",
      "26\n",
      "hey Sachin you are 26 years old.\n"
     ]
    }
   ],
   "source": [
    "name = input()\n",
    "age = input()\n",
    "\n",
    "\n",
    "print(\"hey\", name, \"you are\", age, \"years old.\")"
   ]
  },
  {
   "cell_type": "code",
   "execution_count": null,
   "id": "984ea169",
   "metadata": {},
   "outputs": [],
   "source": []
  },
  {
   "cell_type": "code",
   "execution_count": 42,
   "id": "d6b21037",
   "metadata": {},
   "outputs": [
    {
     "name": "stdout",
     "output_type": "stream",
     "text": [
      "65\n"
     ]
    }
   ],
   "source": [
    "a = input()"
   ]
  },
  {
   "cell_type": "code",
   "execution_count": null,
   "id": "f738480f",
   "metadata": {},
   "outputs": [],
   "source": []
  },
  {
   "cell_type": "code",
   "execution_count": 41,
   "id": "48cc7aa6",
   "metadata": {},
   "outputs": [
    {
     "name": "stdout",
     "output_type": "stream",
     "text": [
      "X: 45\n",
      "Y: 95\n",
      "Sign [+, -, *, /, **] : /\n",
      "0.47368421052631576\n"
     ]
    }
   ],
   "source": [
    "x = float(input(\"X: \"))\n",
    "# x = 10.0\n",
    "y = float(input(\"Y: \"))\n",
    "# y = 20.0\n",
    "sign = input(\"Sign [+, -, *, /, **] : \")\n",
    "# sign = \"+\"\n",
    "\n",
    "if sign == \"+\":\n",
    "    print(x+y)\n",
    "elif sign == \"-\":\n",
    "     print(x-y)\n",
    "elif sign == \"*\":\n",
    "     print(x*y)\n",
    "elif sign == \"/\":\n",
    "     print(x/y)\n",
    "elif sign == \"**\":\n",
    "     print(x**y)\n",
    "else:\n",
    "    print(\"invalid sign\")\n",
    "\n",
    "\n",
    "\n"
   ]
  },
  {
   "cell_type": "code",
   "execution_count": 48,
   "id": "d762bd5c",
   "metadata": {},
   "outputs": [
    {
     "name": "stdout",
     "output_type": "stream",
     "text": [
      "\n",
      "    press 1 if you are a business man\n",
      "    press 2 if you are a government employee\n",
      "    press 3 if you are a private employee\n",
      "\n",
      "your choice[1/2/3]: 3\n",
      "private\n"
     ]
    }
   ],
   "source": [
    "menu = \"\"\"\n",
    "    press 1 if you are a business man\n",
    "    press 2 if you are a government employee\n",
    "    press 3 if you are a private employee\n",
    "\"\"\"\n",
    "print(menu)\n",
    "\n",
    "choice = int(input(\"your choice[1/2/3]: \"))\n",
    "\n",
    "if choice == 1:\n",
    "    print(\"business\")\n",
    "elif choice == 2:\n",
    "    print(\"government\")\n",
    "elif choice == 3:\n",
    "    print(\"private\")\n",
    "else:\n",
    "    print(\"invalid choice press either 1 or 2 or 3\")"
   ]
  },
  {
   "cell_type": "code",
   "execution_count": 49,
   "id": "76174565",
   "metadata": {},
   "outputs": [
    {
     "name": "stdout",
     "output_type": "stream",
     "text": [
      "₹\n"
     ]
    }
   ],
   "source": [
    "print(\"\\u20B9\")"
   ]
  },
  {
   "cell_type": "markdown",
   "id": "2f9746e5",
   "metadata": {},
   "source": [
    "#### Question\n",
    "\n",
    "    Calculate Total Bill For a Swiggy Order\n",
    "\n",
    "    Constraints:\n",
    "            you need add 20% tax on Final Bill\n",
    "            \n",
    "            add delivery charge give as follows \n",
    "            \n",
    "                for first 3 km delivery is free\n",
    "                for next 3 km delivery charge is 5 ₹/km \n",
    "                for next 3 km delivery charge is 10 ₹/km\n",
    "                for remaining distance delivery charge is 20 ₹/km\n",
    "\n",
    "\n",
    "    Input:\n",
    "    \n",
    "        Item     - Burger\n",
    "        Price    - 40\n",
    "        Quantity - 20\n",
    "        Discount - 10\n",
    "        Distance - 3\n",
    "      \n",
    "    Ouput:\n",
    "    \n",
    "        You have to pay 864 rupees for this order.\n",
    "        \n",
    "    Explanation:\n",
    "    \n",
    "        done in class\n",
    "    \n"
   ]
  },
  {
   "cell_type": "markdown",
   "id": "c4fd22cd",
   "metadata": {},
   "source": [
    "    price = 100\n",
    "    quantity = 10\n",
    "\n",
    "    discount = 0\n",
    "\n",
    "    distance = 13\n",
    "\n",
    "\n",
    "    bill -> 1200 ₹\n",
    "    \n",
    "    \n",
    "    13 - 3 -> free\n",
    "    \n",
    "    10 - 3 -> 5 * 3 -> 15 ₹\n",
    "    \n",
    "    7  - 3  -> 10 * 3 -> 30 ₹\n",
    "    \n",
    "    4  * 20 -> 80 ₹\n",
    "    \n",
    "    Final Bill = 1325 rupees\n",
    "    "
   ]
  },
  {
   "cell_type": "markdown",
   "id": "0909d9f2",
   "metadata": {},
   "source": [
    "    Teams -> genral --> doubt publish ?"
   ]
  },
  {
   "cell_type": "code",
   "execution_count": null,
   "id": "efe3413e",
   "metadata": {},
   "outputs": [],
   "source": []
  }
 ],
 "metadata": {
  "kernelspec": {
   "display_name": "Python 3 (ipykernel)",
   "language": "python",
   "name": "python3"
  },
  "language_info": {
   "codemirror_mode": {
    "name": "ipython",
    "version": 3
   },
   "file_extension": ".py",
   "mimetype": "text/x-python",
   "name": "python",
   "nbconvert_exporter": "python",
   "pygments_lexer": "ipython3",
   "version": "3.9.12"
  }
 },
 "nbformat": 4,
 "nbformat_minor": 5
}
