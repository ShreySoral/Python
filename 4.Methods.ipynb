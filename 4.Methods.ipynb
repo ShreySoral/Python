{
 "cells": [
  {
   "cell_type": "markdown",
   "id": "8b7ffe15",
   "metadata": {},
   "source": [
    "### OOPs "
   ]
  },
  {
   "cell_type": "code",
   "execution_count": 15,
   "id": "bec87c06",
   "metadata": {},
   "outputs": [],
   "source": [
    "a = [ 10, 20, 30]\n",
    "# varaible ---> data\n",
    "b = {'sachin': 10, 'rajat': 5, 'kushal': 7}"
   ]
  },
  {
   "cell_type": "code",
   "execution_count": 10,
   "id": "c3ad2aad",
   "metadata": {},
   "outputs": [],
   "source": [
    "# operation --> function\n",
    "def square(lst):\n",
    "    for i in range(len(lst)):\n",
    "        #     0, 1, 2, 3, ..(n-1)\n",
    "        lst[i] = lst[i]**2\n",
    "    return lst"
   ]
  },
  {
   "cell_type": "code",
   "execution_count": 16,
   "id": "f2680472",
   "metadata": {},
   "outputs": [],
   "source": [
    "def square(dct):\n",
    "    for key in dct.keys():\n",
    "        dct[key] = dct[key]**2\n",
    "    return dct"
   ]
  },
  {
   "cell_type": "code",
   "execution_count": 18,
   "id": "a7843264",
   "metadata": {},
   "outputs": [
    {
     "ename": "AttributeError",
     "evalue": "'list' object has no attribute 'keys'",
     "output_type": "error",
     "traceback": [
      "\u001b[1;31m---------------------------------------------------------------------------\u001b[0m",
      "\u001b[1;31mAttributeError\u001b[0m                            Traceback (most recent call last)",
      "\u001b[1;32m~\\AppData\\Local\\Temp\\ipykernel_15632\\3367218261.py\u001b[0m in \u001b[0;36m<module>\u001b[1;34m\u001b[0m\n\u001b[0;32m      2\u001b[0m \u001b[0mb\u001b[0m \u001b[1;33m=\u001b[0m \u001b[1;33m{\u001b[0m\u001b[1;34m'sachin'\u001b[0m\u001b[1;33m:\u001b[0m \u001b[1;36m10\u001b[0m\u001b[1;33m,\u001b[0m \u001b[1;34m'rajat'\u001b[0m\u001b[1;33m:\u001b[0m \u001b[1;36m5\u001b[0m\u001b[1;33m,\u001b[0m \u001b[1;34m'kushal'\u001b[0m\u001b[1;33m:\u001b[0m \u001b[1;36m7\u001b[0m\u001b[1;33m}\u001b[0m\u001b[1;33m\u001b[0m\u001b[1;33m\u001b[0m\u001b[0m\n\u001b[0;32m      3\u001b[0m \u001b[1;31m# varaible ---> data\u001b[0m\u001b[1;33m\u001b[0m\u001b[1;33m\u001b[0m\u001b[0m\n\u001b[1;32m----> 4\u001b[1;33m \u001b[0ma\u001b[0m \u001b[1;33m=\u001b[0m \u001b[0msquare\u001b[0m\u001b[1;33m(\u001b[0m\u001b[0ma\u001b[0m\u001b[1;33m)\u001b[0m\u001b[1;33m\u001b[0m\u001b[1;33m\u001b[0m\u001b[0m\n\u001b[0m\u001b[0;32m      5\u001b[0m \u001b[0mprint\u001b[0m\u001b[1;33m(\u001b[0m\u001b[0ma\u001b[0m\u001b[1;33m)\u001b[0m\u001b[1;33m\u001b[0m\u001b[1;33m\u001b[0m\u001b[0m\n\u001b[0;32m      6\u001b[0m \u001b[0mb\u001b[0m \u001b[1;33m=\u001b[0m \u001b[0msquare\u001b[0m\u001b[1;33m(\u001b[0m\u001b[0mb\u001b[0m\u001b[1;33m)\u001b[0m\u001b[1;33m\u001b[0m\u001b[1;33m\u001b[0m\u001b[0m\n",
      "\u001b[1;32m~\\AppData\\Local\\Temp\\ipykernel_15632\\1789643653.py\u001b[0m in \u001b[0;36msquare\u001b[1;34m(dct)\u001b[0m\n\u001b[0;32m      1\u001b[0m \u001b[1;32mdef\u001b[0m \u001b[0msquare\u001b[0m\u001b[1;33m(\u001b[0m\u001b[0mdct\u001b[0m\u001b[1;33m)\u001b[0m\u001b[1;33m:\u001b[0m\u001b[1;33m\u001b[0m\u001b[1;33m\u001b[0m\u001b[0m\n\u001b[1;32m----> 2\u001b[1;33m     \u001b[1;32mfor\u001b[0m \u001b[0mkey\u001b[0m \u001b[1;32min\u001b[0m \u001b[0mdct\u001b[0m\u001b[1;33m.\u001b[0m\u001b[0mkeys\u001b[0m\u001b[1;33m(\u001b[0m\u001b[1;33m)\u001b[0m\u001b[1;33m:\u001b[0m\u001b[1;33m\u001b[0m\u001b[1;33m\u001b[0m\u001b[0m\n\u001b[0m\u001b[0;32m      3\u001b[0m         \u001b[0mdct\u001b[0m\u001b[1;33m[\u001b[0m\u001b[0mkey\u001b[0m\u001b[1;33m]\u001b[0m \u001b[1;33m=\u001b[0m \u001b[0mdct\u001b[0m\u001b[1;33m[\u001b[0m\u001b[0mkey\u001b[0m\u001b[1;33m]\u001b[0m\u001b[1;33m**\u001b[0m\u001b[1;36m2\u001b[0m\u001b[1;33m\u001b[0m\u001b[1;33m\u001b[0m\u001b[0m\n\u001b[0;32m      4\u001b[0m     \u001b[1;32mreturn\u001b[0m \u001b[0mdct\u001b[0m\u001b[1;33m\u001b[0m\u001b[1;33m\u001b[0m\u001b[0m\n",
      "\u001b[1;31mAttributeError\u001b[0m: 'list' object has no attribute 'keys'"
     ]
    }
   ],
   "source": [
    "a = [ 10, 20, 30]\n",
    "b = {'sachin': 10, 'rajat': 5, 'kushal': 7}\n",
    "# varaible ---> data\n",
    "a = square(a)\n",
    "print(a)\n",
    "b = square(b)\n",
    "print(b)"
   ]
  },
  {
   "cell_type": "code",
   "execution_count": 19,
   "id": "69c99712",
   "metadata": {},
   "outputs": [],
   "source": [
    "# operation --> function\n",
    "def square_list(lst):\n",
    "    for i in range(len(lst)):\n",
    "        #     0, 1, 2, 3, ..(n-1)\n",
    "        lst[i] = lst[i]**2\n",
    "    return lst"
   ]
  },
  {
   "cell_type": "code",
   "execution_count": 20,
   "id": "1a9cce66",
   "metadata": {},
   "outputs": [],
   "source": [
    "def square_dict(dct):\n",
    "    for key in dct.keys():\n",
    "        dct[key] = dct[key]**2\n",
    "    return dct"
   ]
  },
  {
   "cell_type": "code",
   "execution_count": 21,
   "id": "02eaeacc",
   "metadata": {},
   "outputs": [],
   "source": [
    "a = [ 10, 20, 30]\n",
    "b = {'sachin': 10, 'rajat': 5, 'kushal': 7}"
   ]
  },
  {
   "cell_type": "code",
   "execution_count": 22,
   "id": "b7bb0511",
   "metadata": {},
   "outputs": [
    {
     "name": "stdout",
     "output_type": "stream",
     "text": [
      "[100, 400, 900]\n",
      "{'sachin': 100, 'rajat': 25, 'kushal': 49}\n"
     ]
    }
   ],
   "source": [
    "a = square_list(a)\n",
    "print(a)\n",
    "b = square_dict(b)\n",
    "print(b)"
   ]
  },
  {
   "cell_type": "code",
   "execution_count": 23,
   "id": "648d08f7",
   "metadata": {},
   "outputs": [
    {
     "data": {
      "text/plain": [
       "400"
      ]
     },
     "execution_count": 23,
     "metadata": {},
     "output_type": "execute_result"
    }
   ],
   "source": [
    "a[1]"
   ]
  },
  {
   "cell_type": "code",
   "execution_count": 26,
   "id": "b77d6bd4",
   "metadata": {},
   "outputs": [
    {
     "data": {
      "text/plain": [
       "400"
      ]
     },
     "execution_count": 26,
     "metadata": {},
     "output_type": "execute_result"
    }
   ],
   "source": [
    "list.__getitem__(a, 1)"
   ]
  },
  {
   "cell_type": "code",
   "execution_count": 24,
   "id": "0c401c36",
   "metadata": {},
   "outputs": [
    {
     "data": {
      "text/plain": [
       "25"
      ]
     },
     "execution_count": 24,
     "metadata": {},
     "output_type": "execute_result"
    }
   ],
   "source": [
    "b['rajat']"
   ]
  },
  {
   "cell_type": "code",
   "execution_count": 28,
   "id": "8dbd000f",
   "metadata": {},
   "outputs": [
    {
     "name": "stdout",
     "output_type": "stream",
     "text": [
      "ha ha\n",
      "oh this is scope\n",
      "he he\n"
     ]
    }
   ],
   "source": [
    "def func1():\n",
    "    x = \"ha ha\"\n",
    "    print(x)\n",
    "    \n",
    "def func2():\n",
    "    x = 'he he'\n",
    "    print(x)\n",
    "    \n",
    "x = 'oh this is scope'\n",
    "\n",
    "func1()\n",
    "print(x)\n",
    "func2()"
   ]
  },
  {
   "cell_type": "code",
   "execution_count": null,
   "id": "6e53408f",
   "metadata": {},
   "outputs": [],
   "source": []
  },
  {
   "cell_type": "code",
   "execution_count": 27,
   "id": "caaf842a",
   "metadata": {},
   "outputs": [
    {
     "data": {
      "text/plain": [
       "25"
      ]
     },
     "execution_count": 27,
     "metadata": {},
     "output_type": "execute_result"
    }
   ],
   "source": [
    "dict.__getitem__(b, 'rajat')"
   ]
  },
  {
   "cell_type": "markdown",
   "id": "adb46796",
   "metadata": {},
   "source": [
    "`Duck Typing`"
   ]
  },
  {
   "cell_type": "code",
   "execution_count": 31,
   "id": "ab5fefdf",
   "metadata": {},
   "outputs": [
    {
     "name": "stdout",
     "output_type": "stream",
     "text": [
      "bhauu bhauuu\n",
      "meow meow\n",
      "Namstae\n"
     ]
    }
   ],
   "source": [
    "class Dog:\n",
    "    def speak(self):\n",
    "        print(\"bhauu bhauuu\")\n",
    "        \n",
    "class Cat:\n",
    "    def speak(self):\n",
    "        print(\"meow meow\")\n",
    "        \n",
    "class Human:\n",
    "    def speak(self):\n",
    "        print(\"Namstae\")\n",
    "        \n",
    "data = [ Dog(), Cat(), Human()]\n",
    "\n",
    "for obj in data:\n",
    "    obj.speak()"
   ]
  },
  {
   "cell_type": "code",
   "execution_count": null,
   "id": "783f5995",
   "metadata": {},
   "outputs": [],
   "source": []
  },
  {
   "cell_type": "markdown",
   "id": "8238028e",
   "metadata": {},
   "source": [
    "#### Objects"
   ]
  },
  {
   "cell_type": "code",
   "execution_count": 32,
   "id": "9a019f4f",
   "metadata": {},
   "outputs": [],
   "source": [
    "class A:\n",
    "    def hello(self):\n",
    "        print(\"Hello World! This is Awesome\")\n",
    "    def bye(self):\n",
    "        print(\"I am good\")"
   ]
  },
  {
   "cell_type": "code",
   "execution_count": 33,
   "id": "7816b97b",
   "metadata": {},
   "outputs": [],
   "source": [
    "x = A()"
   ]
  },
  {
   "cell_type": "code",
   "execution_count": 34,
   "id": "5d253fda",
   "metadata": {},
   "outputs": [
    {
     "name": "stdout",
     "output_type": "stream",
     "text": [
      "Hello World! This is Awesome\n"
     ]
    }
   ],
   "source": [
    "x.hello()"
   ]
  },
  {
   "cell_type": "code",
   "execution_count": 35,
   "id": "74e09d9f",
   "metadata": {},
   "outputs": [
    {
     "name": "stdout",
     "output_type": "stream",
     "text": [
      "I am good\n"
     ]
    }
   ],
   "source": [
    "x.bye()"
   ]
  },
  {
   "cell_type": "raw",
   "id": "9fe1b848",
   "metadata": {},
   "source": [
    "class list:\n",
    "    def __init__(self, data):\n",
    "        pass # store data into an object\n",
    "    def append(self, obj):\n",
    "        pass # add new obj into your list\n",
    "    def pop(self, index=-1):\n",
    "        pass # delete data from given index\n",
    "    ...\n",
    "    \n",
    "    \n",
    "a = list([10, 20, 30])\n",
    "a.append(50)"
   ]
  },
  {
   "cell_type": "code",
   "execution_count": 36,
   "id": "6f5d55c5",
   "metadata": {},
   "outputs": [
    {
     "name": "stdout",
     "output_type": "stream",
     "text": [
      "Help on class list in module builtins:\n",
      "\n",
      "class list(object)\n",
      " |  list(iterable=(), /)\n",
      " |  \n",
      " |  Built-in mutable sequence.\n",
      " |  \n",
      " |  If no argument is given, the constructor creates a new empty list.\n",
      " |  The argument must be an iterable if specified.\n",
      " |  \n",
      " |  Methods defined here:\n",
      " |  \n",
      " |  __add__(self, value, /)\n",
      " |      Return self+value.\n",
      " |  \n",
      " |  __contains__(self, key, /)\n",
      " |      Return key in self.\n",
      " |  \n",
      " |  __delitem__(self, key, /)\n",
      " |      Delete self[key].\n",
      " |  \n",
      " |  __eq__(self, value, /)\n",
      " |      Return self==value.\n",
      " |  \n",
      " |  __ge__(self, value, /)\n",
      " |      Return self>=value.\n",
      " |  \n",
      " |  __getattribute__(self, name, /)\n",
      " |      Return getattr(self, name).\n",
      " |  \n",
      " |  __getitem__(...)\n",
      " |      x.__getitem__(y) <==> x[y]\n",
      " |  \n",
      " |  __gt__(self, value, /)\n",
      " |      Return self>value.\n",
      " |  \n",
      " |  __iadd__(self, value, /)\n",
      " |      Implement self+=value.\n",
      " |  \n",
      " |  __imul__(self, value, /)\n",
      " |      Implement self*=value.\n",
      " |  \n",
      " |  __init__(self, /, *args, **kwargs)\n",
      " |      Initialize self.  See help(type(self)) for accurate signature.\n",
      " |  \n",
      " |  __iter__(self, /)\n",
      " |      Implement iter(self).\n",
      " |  \n",
      " |  __le__(self, value, /)\n",
      " |      Return self<=value.\n",
      " |  \n",
      " |  __len__(self, /)\n",
      " |      Return len(self).\n",
      " |  \n",
      " |  __lt__(self, value, /)\n",
      " |      Return self<value.\n",
      " |  \n",
      " |  __mul__(self, value, /)\n",
      " |      Return self*value.\n",
      " |  \n",
      " |  __ne__(self, value, /)\n",
      " |      Return self!=value.\n",
      " |  \n",
      " |  __repr__(self, /)\n",
      " |      Return repr(self).\n",
      " |  \n",
      " |  __reversed__(self, /)\n",
      " |      Return a reverse iterator over the list.\n",
      " |  \n",
      " |  __rmul__(self, value, /)\n",
      " |      Return value*self.\n",
      " |  \n",
      " |  __setitem__(self, key, value, /)\n",
      " |      Set self[key] to value.\n",
      " |  \n",
      " |  __sizeof__(self, /)\n",
      " |      Return the size of the list in memory, in bytes.\n",
      " |  \n",
      " |  append(self, object, /)\n",
      " |      Append object to the end of the list.\n",
      " |  \n",
      " |  clear(self, /)\n",
      " |      Remove all items from list.\n",
      " |  \n",
      " |  copy(self, /)\n",
      " |      Return a shallow copy of the list.\n",
      " |  \n",
      " |  count(self, value, /)\n",
      " |      Return number of occurrences of value.\n",
      " |  \n",
      " |  extend(self, iterable, /)\n",
      " |      Extend list by appending elements from the iterable.\n",
      " |  \n",
      " |  index(self, value, start=0, stop=9223372036854775807, /)\n",
      " |      Return first index of value.\n",
      " |      \n",
      " |      Raises ValueError if the value is not present.\n",
      " |  \n",
      " |  insert(self, index, object, /)\n",
      " |      Insert object before index.\n",
      " |  \n",
      " |  pop(self, index=-1, /)\n",
      " |      Remove and return item at index (default last).\n",
      " |      \n",
      " |      Raises IndexError if list is empty or index is out of range.\n",
      " |  \n",
      " |  remove(self, value, /)\n",
      " |      Remove first occurrence of value.\n",
      " |      \n",
      " |      Raises ValueError if the value is not present.\n",
      " |  \n",
      " |  reverse(self, /)\n",
      " |      Reverse *IN PLACE*.\n",
      " |  \n",
      " |  sort(self, /, *, key=None, reverse=False)\n",
      " |      Sort the list in ascending order and return None.\n",
      " |      \n",
      " |      The sort is in-place (i.e. the list itself is modified) and stable (i.e. the\n",
      " |      order of two equal elements is maintained).\n",
      " |      \n",
      " |      If a key function is given, apply it once to each list item and sort them,\n",
      " |      ascending or descending, according to their function values.\n",
      " |      \n",
      " |      The reverse flag can be set to sort in descending order.\n",
      " |  \n",
      " |  ----------------------------------------------------------------------\n",
      " |  Class methods defined here:\n",
      " |  \n",
      " |  __class_getitem__(...) from builtins.type\n",
      " |      See PEP 585\n",
      " |  \n",
      " |  ----------------------------------------------------------------------\n",
      " |  Static methods defined here:\n",
      " |  \n",
      " |  __new__(*args, **kwargs) from builtins.type\n",
      " |      Create and return a new object.  See help(type) for accurate signature.\n",
      " |  \n",
      " |  ----------------------------------------------------------------------\n",
      " |  Data and other attributes defined here:\n",
      " |  \n",
      " |  __hash__ = None\n",
      "\n"
     ]
    }
   ],
   "source": [
    "help(list)"
   ]
  },
  {
   "cell_type": "code",
   "execution_count": 37,
   "id": "d1dbf877",
   "metadata": {},
   "outputs": [],
   "source": [
    "class A:\n",
    "    pass"
   ]
  },
  {
   "cell_type": "code",
   "execution_count": 39,
   "id": "a6e81d1d",
   "metadata": {},
   "outputs": [
    {
     "ename": "TypeError",
     "evalue": "A() takes no arguments",
     "output_type": "error",
     "traceback": [
      "\u001b[1;31m---------------------------------------------------------------------------\u001b[0m",
      "\u001b[1;31mTypeError\u001b[0m                                 Traceback (most recent call last)",
      "\u001b[1;32m~\\AppData\\Local\\Temp\\ipykernel_15632\\3449226381.py\u001b[0m in \u001b[0;36m<module>\u001b[1;34m\u001b[0m\n\u001b[1;32m----> 1\u001b[1;33m \u001b[0mx\u001b[0m \u001b[1;33m=\u001b[0m \u001b[0mA\u001b[0m\u001b[1;33m(\u001b[0m\u001b[1;34m\"sachin\"\u001b[0m\u001b[1;33m)\u001b[0m \u001b[1;31m# object create --> constructors\u001b[0m\u001b[1;33m\u001b[0m\u001b[1;33m\u001b[0m\u001b[0m\n\u001b[0m",
      "\u001b[1;31mTypeError\u001b[0m: A() takes no arguments"
     ]
    }
   ],
   "source": [
    "x = A(\"sachin\") # object create --> constructors"
   ]
  },
  {
   "cell_type": "markdown",
   "id": "d1fce754",
   "metadata": {},
   "source": [
    "Class Diagram \n",
    "\n",
    "    Object Attributes\n",
    "        \n",
    "        name, cry_style, laugh_style\n",
    "        \n",
    "    Methods\n",
    "    \n",
    "        getter\n",
    "        \n",
    "            get_name\n",
    "            cry\n",
    "            laugh\n",
    "  \n",
    "        setter\n",
    "            set_name\n",
    "            set_cry_style\n",
    "            set_laugh_style\n",
    "        "
   ]
  },
  {
   "cell_type": "code",
   "execution_count": null,
   "id": "13542df4",
   "metadata": {},
   "outputs": [],
   "source": []
  },
  {
   "cell_type": "code",
   "execution_count": 44,
   "id": "8a5f9d86",
   "metadata": {},
   "outputs": [],
   "source": [
    "class Human:\n",
    "    def get_name(self):\n",
    "        print(\"Hello I am \", self.name)\n",
    "    def cry(self):\n",
    "        print(f\"{self.name} -> {self.cry_style}\")\n",
    "    def laugh(self):\n",
    "        print(f\"{self.name} -> {self.laugh_style}\")\n",
    "    def set_name(self, new_name):\n",
    "        self.name = new_name\n",
    "    def set_cry_style(self, style):\n",
    "        self.cry_style = style\n",
    "    def set_laugh_style(self, style):\n",
    "        self.laugh_style = style"
   ]
  },
  {
   "cell_type": "code",
   "execution_count": 45,
   "id": "40fb4f0b",
   "metadata": {},
   "outputs": [],
   "source": [
    "a = Human()\n",
    "a.set_name(\"Ramesh\")\n",
    "a.set_laugh_style(\"heeee heeee hee\")\n",
    "a.set_cry_style(\"uuuuaaaa uuuuaaaa uuuuaaaaa\")\n",
    "\n",
    "b = Human()\n",
    "b.set_name(\"Suresh\")\n",
    "b.set_laugh_style(\"haaaaaa haaaaa haaaaahahaaa\")\n",
    "b.set_cry_style(\"mumyyyyyyeeeee aaaaauuuu aaaaauuu\")\n"
   ]
  },
  {
   "cell_type": "code",
   "execution_count": 46,
   "id": "d1d73d34",
   "metadata": {},
   "outputs": [
    {
     "name": "stdout",
     "output_type": "stream",
     "text": [
      "Hello I am  Ramesh\n"
     ]
    }
   ],
   "source": [
    "a.get_name()"
   ]
  },
  {
   "cell_type": "code",
   "execution_count": 47,
   "id": "b314c8fd",
   "metadata": {},
   "outputs": [
    {
     "name": "stdout",
     "output_type": "stream",
     "text": [
      "Hello I am  Suresh\n"
     ]
    }
   ],
   "source": [
    "b.get_name()"
   ]
  },
  {
   "cell_type": "code",
   "execution_count": 48,
   "id": "121379c2",
   "metadata": {},
   "outputs": [
    {
     "name": "stdout",
     "output_type": "stream",
     "text": [
      "Ramesh -> uuuuaaaa uuuuaaaa uuuuaaaaa\n"
     ]
    }
   ],
   "source": [
    "a.cry()"
   ]
  },
  {
   "cell_type": "code",
   "execution_count": 49,
   "id": "f9214330",
   "metadata": {},
   "outputs": [
    {
     "name": "stdout",
     "output_type": "stream",
     "text": [
      "Suresh -> mumyyyyyyeeeee aaaaauuuu aaaaauuu\n"
     ]
    }
   ],
   "source": [
    "b.cry()"
   ]
  },
  {
   "cell_type": "code",
   "execution_count": 50,
   "id": "63b8a468",
   "metadata": {},
   "outputs": [
    {
     "name": "stdout",
     "output_type": "stream",
     "text": [
      "Ramesh -> heeee heeee hee\n"
     ]
    }
   ],
   "source": [
    "a.laugh()"
   ]
  },
  {
   "cell_type": "code",
   "execution_count": 51,
   "id": "a860f969",
   "metadata": {},
   "outputs": [
    {
     "name": "stdout",
     "output_type": "stream",
     "text": [
      "Suresh -> haaaaaa haaaaa haaaaahahaaa\n"
     ]
    }
   ],
   "source": [
    "b.laugh()"
   ]
  },
  {
   "cell_type": "code",
   "execution_count": 52,
   "id": "2bd70762",
   "metadata": {},
   "outputs": [
    {
     "name": "stdout",
     "output_type": "stream",
     "text": [
      "Ramesh\n"
     ]
    }
   ],
   "source": [
    "print(a.name) # getattr"
   ]
  },
  {
   "cell_type": "code",
   "execution_count": 53,
   "id": "2b117749",
   "metadata": {},
   "outputs": [],
   "source": [
    "a.name = \"Ramesh Chand Chauhan\" # setattr"
   ]
  },
  {
   "cell_type": "code",
   "execution_count": 54,
   "id": "76e20e90",
   "metadata": {},
   "outputs": [
    {
     "name": "stdout",
     "output_type": "stream",
     "text": [
      "Hello I am  Ramesh Chand Chauhan\n"
     ]
    }
   ],
   "source": [
    "a.get_name()"
   ]
  },
  {
   "cell_type": "code",
   "execution_count": 55,
   "id": "e1862fcd",
   "metadata": {},
   "outputs": [
    {
     "name": "stdout",
     "output_type": "stream",
     "text": [
      "Ramesh Chand Chauhan\n"
     ]
    }
   ],
   "source": [
    "value = getattr(a, \"name\")\n",
    "print(value)"
   ]
  },
  {
   "cell_type": "code",
   "execution_count": 56,
   "id": "62443dbf",
   "metadata": {},
   "outputs": [],
   "source": [
    "setattr(a, \"name\", \"yahoo\")"
   ]
  },
  {
   "cell_type": "code",
   "execution_count": 57,
   "id": "3e45fdf9",
   "metadata": {},
   "outputs": [
    {
     "name": "stdout",
     "output_type": "stream",
     "text": [
      "Hello I am  yahoo\n"
     ]
    }
   ],
   "source": [
    "a.get_name()"
   ]
  },
  {
   "cell_type": "code",
   "execution_count": 58,
   "id": "a09bfcf0",
   "metadata": {},
   "outputs": [],
   "source": [
    "class A:\n",
    "    pass"
   ]
  },
  {
   "cell_type": "code",
   "execution_count": 70,
   "id": "1583a958",
   "metadata": {},
   "outputs": [],
   "source": [
    "a = A()"
   ]
  },
  {
   "cell_type": "code",
   "execution_count": 71,
   "id": "2baabbab",
   "metadata": {},
   "outputs": [],
   "source": [
    "a.name = 'sachin'\n",
    "a.age = 16"
   ]
  },
  {
   "cell_type": "code",
   "execution_count": 72,
   "id": "52758e17",
   "metadata": {},
   "outputs": [
    {
     "name": "stdout",
     "output_type": "stream",
     "text": [
      "sachin\n"
     ]
    }
   ],
   "source": [
    "print(a.name)"
   ]
  },
  {
   "cell_type": "code",
   "execution_count": 73,
   "id": "8f34e911",
   "metadata": {},
   "outputs": [
    {
     "name": "stdout",
     "output_type": "stream",
     "text": [
      "16\n"
     ]
    }
   ],
   "source": [
    "print(a.age)"
   ]
  },
  {
   "cell_type": "code",
   "execution_count": 74,
   "id": "3b2bed03",
   "metadata": {},
   "outputs": [
    {
     "name": "stdout",
     "output_type": "stream",
     "text": [
      "sachin\n"
     ]
    }
   ],
   "source": [
    "value = getattr(a, \"name\")\n",
    "print(value)"
   ]
  },
  {
   "cell_type": "code",
   "execution_count": 75,
   "id": "6f386429",
   "metadata": {},
   "outputs": [],
   "source": [
    "setattr(a, \"gender\", \"Male\")"
   ]
  },
  {
   "cell_type": "code",
   "execution_count": 76,
   "id": "42361233",
   "metadata": {},
   "outputs": [
    {
     "name": "stdout",
     "output_type": "stream",
     "text": [
      "Male\n"
     ]
    }
   ],
   "source": [
    "print(a.gender)"
   ]
  },
  {
   "cell_type": "code",
   "execution_count": 77,
   "id": "f6119bbc",
   "metadata": {},
   "outputs": [],
   "source": [
    "setattr(A, \"get_info\", lambda self: print(self.name, self.age, self.gender))"
   ]
  },
  {
   "cell_type": "code",
   "execution_count": 79,
   "id": "f928f918",
   "metadata": {},
   "outputs": [
    {
     "name": "stdout",
     "output_type": "stream",
     "text": [
      "sachin 16 Male\n"
     ]
    }
   ],
   "source": [
    "a.get_info() # late binding / dynamic binding / monkey patching"
   ]
  },
  {
   "cell_type": "code",
   "execution_count": null,
   "id": "eda29b47",
   "metadata": {},
   "outputs": [],
   "source": []
  }
 ],
 "metadata": {
  "kernelspec": {
   "display_name": "Python 3 (ipykernel)",
   "language": "python",
   "name": "python3"
  },
  "language_info": {
   "codemirror_mode": {
    "name": "ipython",
    "version": 3
   },
   "file_extension": ".py",
   "mimetype": "text/x-python",
   "name": "python",
   "nbconvert_exporter": "python",
   "pygments_lexer": "ipython3",
   "version": "3.9.13"
  }
 },
 "nbformat": 4,
 "nbformat_minor": 5
}
