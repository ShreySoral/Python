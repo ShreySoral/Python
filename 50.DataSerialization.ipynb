{
 "cells": [
  {
   "cell_type": "code",
   "execution_count": 1,
   "metadata": {},
   "outputs": [
    {
     "name": "stdout",
     "output_type": "stream",
     "text": [
      "c:\\Users\\Sachi\\Grras Solution Pvt. Ltd\\Python_107_hindi_8Aug_6pm - Live Class 📺\\ClassCode\\Advance Python\\50.DataSerialization\n"
     ]
    }
   ],
   "source": [
    "import os\n",
    "\n",
    "curr_path = os.getcwd()\n",
    "print(curr_path)"
   ]
  },
  {
   "cell_type": "code",
   "execution_count": 2,
   "metadata": {},
   "outputs": [],
   "source": [
    "path = \"records.csv\""
   ]
  },
  {
   "cell_type": "markdown",
   "metadata": {},
   "source": [
    "`with` statement is used to manage context in python program"
   ]
  },
  {
   "cell_type": "code",
   "execution_count": 3,
   "metadata": {},
   "outputs": [],
   "source": [
    "file = open(\"records.csv\", \"r\")\n",
    "content = file.read()\n",
    "file.close()"
   ]
  },
  {
   "cell_type": "code",
   "execution_count": 5,
   "metadata": {},
   "outputs": [
    {
     "name": "stdout",
     "output_type": "stream",
     "text": [
      "Name,Maths,Chemistry,Physics\n",
      "Sachin,80,70,60\n",
      "Rajat,80,80,80\n",
      "Simran,50,70,80\n",
      "Ravi,60,70,90\n",
      "Shivani,80,60,70\n"
     ]
    }
   ],
   "source": [
    "print(content)"
   ]
  },
  {
   "cell_type": "code",
   "execution_count": 6,
   "metadata": {},
   "outputs": [
    {
     "data": {
      "text/plain": [
       "True"
      ]
     },
     "execution_count": 6,
     "metadata": {},
     "output_type": "execute_result"
    }
   ],
   "source": [
    "file.closed"
   ]
  },
  {
   "cell_type": "code",
   "execution_count": 7,
   "metadata": {},
   "outputs": [],
   "source": [
    "fp = open(\"records.csv\")"
   ]
  },
  {
   "cell_type": "code",
   "execution_count": 8,
   "metadata": {},
   "outputs": [
    {
     "data": {
      "text/plain": [
       "False"
      ]
     },
     "execution_count": 8,
     "metadata": {},
     "output_type": "execute_result"
    }
   ],
   "source": [
    "fp.closed"
   ]
  },
  {
   "cell_type": "code",
   "execution_count": 9,
   "metadata": {},
   "outputs": [],
   "source": [
    "fp.close()"
   ]
  },
  {
   "cell_type": "code",
   "execution_count": 10,
   "metadata": {},
   "outputs": [
    {
     "data": {
      "text/plain": [
       "True"
      ]
     },
     "execution_count": 10,
     "metadata": {},
     "output_type": "execute_result"
    }
   ],
   "source": [
    "fp.closed"
   ]
  },
  {
   "cell_type": "code",
   "execution_count": 11,
   "metadata": {},
   "outputs": [
    {
     "name": "stdout",
     "output_type": "stream",
     "text": [
      "hello\n"
     ]
    }
   ],
   "source": [
    "with open(\"records.csv\", \"r\") as file:\n",
    "    print(\"hello\")"
   ]
  },
  {
   "cell_type": "code",
   "execution_count": 12,
   "metadata": {},
   "outputs": [
    {
     "data": {
      "text/plain": [
       "True"
      ]
     },
     "execution_count": 12,
     "metadata": {},
     "output_type": "execute_result"
    }
   ],
   "source": [
    "file.closed"
   ]
  },
  {
   "cell_type": "code",
   "execution_count": 13,
   "metadata": {},
   "outputs": [
    {
     "ename": "TypeError",
     "evalue": "write() argument must be str, not int",
     "output_type": "error",
     "traceback": [
      "\u001b[1;31m---------------------------------------------------------------------------\u001b[0m",
      "\u001b[1;31mTypeError\u001b[0m                                 Traceback (most recent call last)",
      "\u001b[1;32m~\\AppData\\Local\\Temp\\ipykernel_13100\\3966058921.py\u001b[0m in \u001b[0;36m<module>\u001b[1;34m\u001b[0m\n\u001b[0;32m      1\u001b[0m \u001b[0mfp\u001b[0m \u001b[1;33m=\u001b[0m \u001b[0mopen\u001b[0m\u001b[1;33m(\u001b[0m\u001b[1;34m'abcd.txt'\u001b[0m\u001b[1;33m,\u001b[0m \u001b[1;34m'w'\u001b[0m\u001b[1;33m)\u001b[0m\u001b[1;33m\u001b[0m\u001b[1;33m\u001b[0m\u001b[0m\n\u001b[1;32m----> 2\u001b[1;33m \u001b[0mfp\u001b[0m\u001b[1;33m.\u001b[0m\u001b[0mwrite\u001b[0m\u001b[1;33m(\u001b[0m\u001b[1;36m100\u001b[0m\u001b[1;33m)\u001b[0m\u001b[1;33m\u001b[0m\u001b[1;33m\u001b[0m\u001b[0m\n\u001b[0m",
      "\u001b[1;31mTypeError\u001b[0m: write() argument must be str, not int"
     ]
    }
   ],
   "source": [
    "fp = open('abcd.txt', 'w')\n",
    "fp.write(100)"
   ]
  },
  {
   "cell_type": "code",
   "execution_count": null,
   "metadata": {},
   "outputs": [],
   "source": []
  },
  {
   "cell_type": "markdown",
   "metadata": {},
   "source": [
    "`map(function, sequence)`"
   ]
  },
  {
   "cell_type": "code",
   "execution_count": 20,
   "metadata": {},
   "outputs": [
    {
     "name": "stdout",
     "output_type": "stream",
     "text": [
      "['sachin', 1, 2, 3]\n"
     ]
    }
   ],
   "source": [
    "lst = [\"sachin\", \"80\", \"90\", \"100\"]\n",
    "\n",
    "lst[-3:] = [1, 2, 3]\n",
    "print(lst)"
   ]
  },
  {
   "cell_type": "code",
   "execution_count": null,
   "metadata": {},
   "outputs": [],
   "source": []
  },
  {
   "cell_type": "code",
   "execution_count": null,
   "metadata": {},
   "outputs": [],
   "source": []
  },
  {
   "cell_type": "code",
   "execution_count": 22,
   "metadata": {},
   "outputs": [
    {
     "name": "stdout",
     "output_type": "stream",
     "text": [
      "[4, 4, 7, 5]\n"
     ]
    }
   ],
   "source": [
    "one = [1, 2, 3, 4, ]\n",
    "two = [3, 2, 4, 1]\n",
    "\n",
    "three = list(map(lambda a,b:a+b,  one, two ))\n",
    "print(three)"
   ]
  },
  {
   "cell_type": "code",
   "execution_count": null,
   "metadata": {},
   "outputs": [],
   "source": []
  },
  {
   "cell_type": "code",
   "execution_count": 21,
   "metadata": {},
   "outputs": [
    {
     "name": "stdout",
     "output_type": "stream",
     "text": [
      "['sachin', '80', '90', '100']\n"
     ]
    }
   ],
   "source": [
    "record = [\"sachin\", 80, 90, 100]\n",
    "\n",
    "record[-3:] = map(str, record[-3:])\n",
    "\n",
    "print(record)"
   ]
  },
  {
   "cell_type": "code",
   "execution_count": 15,
   "metadata": {},
   "outputs": [
    {
     "name": "stdout",
     "output_type": "stream",
     "text": [
      "[80, 90, 30]\n"
     ]
    }
   ],
   "source": [
    "lst = [\"80\", \"90\", \"30\"]\n",
    "\n",
    "new_lst = list(map(int, lst))\n",
    "\n",
    "print(new_lst)"
   ]
  },
  {
   "cell_type": "code",
   "execution_count": null,
   "metadata": {},
   "outputs": [],
   "source": []
  },
  {
   "cell_type": "code",
   "execution_count": 14,
   "metadata": {},
   "outputs": [],
   "source": [
    "def add_new_record(record):\n",
    "    # record =  [\"sachin\", 80, 80, 80]\n",
    "    record[1] = str(record[1]) # \n",
    "    record[2] = str(record[2])\n",
    "    record[3] = str(record[3])\n",
    "    # record = [\"sachin\", \"80\", \"80\", \"80\"]\n",
    "    line = \"\\n\"+ \",\".join(record)\n",
    "    # line = \"\\nsachin,80,80,80\"\n",
    "    with open(\"records.csv\", \"a\") as file:\n",
    "        file.write(line)\n",
    "    \n"
   ]
  },
  {
   "cell_type": "code",
   "execution_count": 24,
   "metadata": {},
   "outputs": [],
   "source": [
    "def add_new_record(record):\n",
    "    # record =  [\"sachin\", 80, 80, 80]\n",
    "    record[-3:] = map(str, record[-3:])\n",
    "    # record = [\"sachin\", \"80\", \"80\", \"80\"]\n",
    "    line = \"\\n\"+ \",\".join(record)\n",
    "    # line = \"\\nsachin,80,80,80\"\n",
    "    with open(\"records.csv\", \"a\") as file:\n",
    "        file.write(line)\n",
    "        print(\"!Record Updated Sucessfully!\")\n",
    "    \n"
   ]
  },
  {
   "cell_type": "code",
   "execution_count": 25,
   "metadata": {},
   "outputs": [
    {
     "name": "stdout",
     "output_type": "stream",
     "text": [
      "!Record Updated Sucessfully!\n"
     ]
    }
   ],
   "source": [
    "add_new_record([\"Gaurav\", 78, 88, 66])"
   ]
  },
  {
   "cell_type": "code",
   "execution_count": 26,
   "metadata": {},
   "outputs": [
    {
     "name": "stdout",
     "output_type": "stream",
     "text": [
      "!Record Updated Sucessfully!\n"
     ]
    }
   ],
   "source": [
    "add_new_record([\"vijay\", 88, 89, 87])"
   ]
  },
  {
   "cell_type": "code",
   "execution_count": 27,
   "metadata": {},
   "outputs": [],
   "source": [
    "fp = open(\"records.csv\", \"r\")"
   ]
  },
  {
   "cell_type": "code",
   "execution_count": 28,
   "metadata": {},
   "outputs": [],
   "source": [
    "line = fp.readline()"
   ]
  },
  {
   "cell_type": "code",
   "execution_count": 29,
   "metadata": {},
   "outputs": [
    {
     "name": "stdout",
     "output_type": "stream",
     "text": [
      "'Name,Maths,Chemistry,Physics\\n'\n"
     ]
    }
   ],
   "source": [
    "\n",
    "print(repr(line))"
   ]
  },
  {
   "cell_type": "code",
   "execution_count": 35,
   "metadata": {},
   "outputs": [
    {
     "name": "stdout",
     "output_type": "stream",
     "text": [
      "'Rajat,80,80,80\\n'\n"
     ]
    }
   ],
   "source": [
    "line = fp.readline()\n",
    "print(repr(line))"
   ]
  },
  {
   "cell_type": "code",
   "execution_count": 36,
   "metadata": {},
   "outputs": [
    {
     "name": "stdout",
     "output_type": "stream",
     "text": [
      "['Rajat', '80', '80', '80']\n",
      "Rajat\n"
     ]
    }
   ],
   "source": [
    "line = line.strip().split(\",\")\n",
    "print(line)\n",
    "st = line[0]\n",
    "print(st)"
   ]
  },
  {
   "cell_type": "code",
   "execution_count": 37,
   "metadata": {},
   "outputs": [
    {
     "data": {
      "text/plain": [
       "0"
      ]
     },
     "execution_count": 37,
     "metadata": {},
     "output_type": "execute_result"
    }
   ],
   "source": [
    "fp.seek(0)"
   ]
  },
  {
   "cell_type": "code",
   "execution_count": 38,
   "metadata": {},
   "outputs": [
    {
     "data": {
      "text/plain": [
       "'Name,Maths,Chemistry,Physics\\n'"
      ]
     },
     "execution_count": 38,
     "metadata": {},
     "output_type": "execute_result"
    }
   ],
   "source": [
    "fp.readline()"
   ]
  },
  {
   "cell_type": "code",
   "execution_count": 39,
   "metadata": {},
   "outputs": [
    {
     "name": "stdout",
     "output_type": "stream",
     "text": [
      "'Sachin,80,70,60\\n'\n",
      "'Rajat,80,80,80\\n'\n",
      "'Simran,50,70,80\\n'\n",
      "'Ravi,60,70,90\\n'\n",
      "'Shivani,80,60,70\\n'\n",
      "'Gaurav,78,88,66\\n'\n",
      "'vijay,88,89,87'\n"
     ]
    }
   ],
   "source": [
    "for line in fp:\n",
    "    print(repr(line))"
   ]
  },
  {
   "cell_type": "code",
   "execution_count": 40,
   "metadata": {},
   "outputs": [],
   "source": [
    "def search_record(key):\n",
    "    key = key.strip().lower()\n",
    "    with open(\"records.csv\", \"r\") as file:\n",
    "        file.readline() # reading header\n",
    "        for line in file:\n",
    "            if line==\"\\n\":\n",
    "                continue\n",
    "            # line = 'Sachin,80,70,60\\n'\n",
    "            line = line.strip().split(\",\")\n",
    "            # line = [\"Sachin\", \"80\", \"70\", \"60\"]\n",
    "            name = line[0].strip().lower()\n",
    "            if name == key:\n",
    "                per = sum(map(int, line[-3:]))/3\n",
    "                print(f\"       Name        =  {name}\")\n",
    "                print(f\"       Maths       =  {line[1]}\")\n",
    "                print(f\"       Chemistry   =  {line[2]}\")\n",
    "                print(f\"       Physics     =  {line[3]}\")\n",
    "\n",
    "                print(f\"\\n      Percentage  = {per:.2f}\")\n",
    "\n",
    "                print(\"\\n\", \"_\"*50, \"\\n\")\n",
    "                \n",
    "\n",
    "\n",
    "    # key = \"SAchIN\"\n",
    "    # \"Sachin,80,70,60\\n\"\n",
    "    "
   ]
  },
  {
   "cell_type": "code",
   "execution_count": 43,
   "metadata": {},
   "outputs": [
    {
     "name": "stdout",
     "output_type": "stream",
     "text": [
      "       Name        =  sachin\n",
      "       Maths       =  80\n",
      "       Chemistry   =  70\n",
      "       Physics     =  60\n",
      "\n",
      "      Percentage  = 70.00\n",
      "\n",
      " __________________________________________________ \n",
      "\n",
      "       Name        =  sachin\n",
      "       Maths       =  90\n",
      "       Chemistry   =  100\n",
      "       Physics     =  100\n",
      "\n",
      "      Percentage  = 96.67\n",
      "\n",
      " __________________________________________________ \n",
      "\n"
     ]
    }
   ],
   "source": [
    "search_record(\"sachin\")"
   ]
  },
  {
   "cell_type": "code",
   "execution_count": 1,
   "metadata": {},
   "outputs": [
    {
     "name": "stdout",
     "output_type": "stream",
     "text": [
      "Name,Maths,Chemistry,Physics\n",
      "Sachin,80,70,60\n",
      "Rajat,80,80,80\n",
      "Simran,50,70,80\n",
      "Ravi,60,70,90\n",
      "Shivani,80,60,70\n",
      "Gaurav,78,88,66\n",
      "vijay,88,89,87\n",
      "sachin,90,100,100\n"
     ]
    }
   ],
   "source": [
    "!type records.csv"
   ]
  },
  {
   "cell_type": "code",
   "execution_count": 3,
   "metadata": {},
   "outputs": [
    {
     "data": {
      "text/plain": [
       "'|    sachin     |    60    |    80    |   100    |  88.00   |'"
      ]
     },
     "execution_count": 3,
     "metadata": {},
     "output_type": "execute_result"
    }
   ],
   "source": [
    "s= \"|{:^15}|{:^10}|{:^10}|{:^10}|{:^10.2f}|\"\n",
    "\n",
    "s.format(\"sachin\", 60, 80, 100, 88.00001)"
   ]
  },
  {
   "cell_type": "code",
   "execution_count": 5,
   "metadata": {},
   "outputs": [
    {
     "data": {
      "text/plain": [
       "'|     rajat     |    80    |    90    |    50    |  66.66   |'"
      ]
     },
     "execution_count": 5,
     "metadata": {},
     "output_type": "execute_result"
    }
   ],
   "source": [
    "s.format(*['rajat', 80, 90, 50, 66.66])\n",
    "# s.format('rajat', 80, 90, 50, 66.66)"
   ]
  },
  {
   "cell_type": "code",
   "execution_count": 12,
   "metadata": {},
   "outputs": [],
   "source": [
    "def show_result():\n",
    "    with open(\"records.csv\") as file:\n",
    "        header = file.readline().strip().split(',')\n",
    "        header.append(\"Percentage\")\n",
    "        # [\"Name\", \"Maths\", \"Chemistry\", \"Physics\", \"Percentage\"]\n",
    "        #   | 15 |      10 |         10   |      10 |         10 |\n",
    "        width = 61\n",
    "        output = \"|{:^15}|{:^10}|{:^10}|{:^10}|{:^10}|\"\n",
    "        print(\"-\"*width)\n",
    "        print(output.format(*header))\n",
    "        print(\"-\"*width)\n",
    "        for line in file:\n",
    "            if line==\"\\n\":\n",
    "                continue\n",
    "            # line = 'Sachin,80,70,60\\n'\n",
    "            line = line.strip().split(\",\")\n",
    "            # line = [\"Sachin\", \"80\", \"70\", \"60\"]\n",
    "            line[0] = line[0].strip().title()\n",
    "            per = sum(map(int, line[-3:]))/3\n",
    "            per = f\"{per:.2f}\"\n",
    "            line.append(per)\n",
    "            # line = [\"Sachin\", \"80\", \"70\", \"60\", \"70.00\"]\n",
    "            print(output.format(*line))\n",
    "            print(\"_\"*width)\n",
    "            \n",
    "        \n",
    "        "
   ]
  },
  {
   "cell_type": "code",
   "execution_count": 13,
   "metadata": {},
   "outputs": [
    {
     "name": "stdout",
     "output_type": "stream",
     "text": [
      "-------------------------------------------------------------\n",
      "|     Name      |  Maths   |Chemistry | Physics  |Percentage|\n",
      "-------------------------------------------------------------\n",
      "|    Sachin     |    80    |    70    |    60    |  70.00   |\n",
      "_____________________________________________________________\n",
      "|     Rajat     |    80    |    80    |    80    |  80.00   |\n",
      "_____________________________________________________________\n",
      "|    Simran     |    50    |    70    |    80    |  66.67   |\n",
      "_____________________________________________________________\n",
      "|     Ravi      |    60    |    70    |    90    |  73.33   |\n",
      "_____________________________________________________________\n",
      "|    Shivani    |    80    |    60    |    70    |  70.00   |\n",
      "_____________________________________________________________\n",
      "|    Gaurav     |    78    |    88    |    66    |  77.33   |\n",
      "_____________________________________________________________\n",
      "|     Vijay     |    88    |    89    |    87    |  88.00   |\n",
      "_____________________________________________________________\n",
      "|    Sachin     |    90    |   100    |   100    |  96.67   |\n",
      "_____________________________________________________________\n"
     ]
    }
   ],
   "source": [
    "show_result()"
   ]
  },
  {
   "cell_type": "markdown",
   "metadata": {},
   "source": [
    "    list\n",
    "    dict\n",
    "    set"
   ]
  },
  {
   "cell_type": "markdown",
   "metadata": {},
   "source": [
    "### Parsing\n",
    "\n",
    "\n",
    "    File --> Bytes --> Enconding --> Strings (UTF-8)\n",
    "        \n",
    "        Strings --> Parser ---> Appropriate Data Types (int, float, list, ...)\n",
    "        \n",
    "        \n",
    "    File <-- Bytes <-- Encoding <-- Strings (UTF-8)\n",
    "    \n",
    "        Strings <-- Parser <-- Appropriate Data Types (int, float, list, ...)\n",
    "        "
   ]
  },
  {
   "cell_type": "markdown",
   "metadata": {},
   "source": [
    "`Parsers`\n",
    "\n",
    "    JSON, PICKLE, YML, XML\n",
    "    \n",
    "    \n",
    "    python ---> lib\n",
    "    \n",
    "    java  ---> lib              JSON/YML/XML\n",
    "    \n",
    "    cpp   ---> list"
   ]
  },
  {
   "cell_type": "code",
   "execution_count": 14,
   "metadata": {},
   "outputs": [],
   "source": [
    "import json"
   ]
  },
  {
   "cell_type": "code",
   "execution_count": null,
   "metadata": {},
   "outputs": [],
   "source": [
    "json.dump()"
   ]
  },
  {
   "cell_type": "markdown",
   "metadata": {},
   "source": [
    "    Data Serialization\n",
    "    \n",
    "        Object / Data Type --> Parse ---> String / Bytes\n",
    "        \n",
    "        dumps(object) --> Bytes / String\n",
    "        dump(object, fp) --> write object directly into file\n",
    "    \n",
    "    Data Deserialization\n",
    "    \n",
    "        Bytes / String ---> Parse --> Object / Data Type\n",
    "        \n",
    "        loads(Bytes/String) --> Object\n",
    "        load(fp) --> Object\n"
   ]
  },
  {
   "cell_type": "markdown",
   "metadata": {},
   "source": [
    "`Java Script Object Notation Lanaguge`"
   ]
  },
  {
   "cell_type": "markdown",
   "metadata": {},
   "source": [
    "`JSON` --> Common Library Across All Popular languages\n",
    "\n",
    "    writes Strings which human readable\n",
    "\n",
    "    int, float, null, array, object\n",
    "    \n",
    "    \n",
    "`PICKLE` --> Python Specific Library\n",
    "\n",
    "    writes bytes into files, it is not human readable\n",
    "    \n",
    "    it support python objects\n"
   ]
  },
  {
   "cell_type": "code",
   "execution_count": 19,
   "metadata": {},
   "outputs": [],
   "source": [
    "import json "
   ]
  },
  {
   "cell_type": "code",
   "execution_count": 15,
   "metadata": {},
   "outputs": [],
   "source": [
    "data = {\n",
    "    \"first\": 45,\n",
    "    \"second\": 6.02,\n",
    "    \"third\": None,\n",
    "    \"fourth\": [1, 2, 3, 'hi', 'hello'],\n",
    "    \"fifth\": {\"1\": \"one\", \"2\": \"two\"}\n",
    "}"
   ]
  },
  {
   "cell_type": "code",
   "execution_count": 20,
   "metadata": {},
   "outputs": [],
   "source": [
    "with open(\"data.json\", \"w\") as fp:\n",
    "    json.dump(data, fp)"
   ]
  },
  {
   "cell_type": "code",
   "execution_count": 21,
   "metadata": {},
   "outputs": [
    {
     "name": "stdout",
     "output_type": "stream",
     "text": [
      "{\"first\": 45, \"second\": 6.02, \"third\": null, \"fourth\": [1, 2, 3, \"hi\", \"hello\"], \"fifth\": {\"1\": \"one\", \"2\": \"two\"}}\n"
     ]
    }
   ],
   "source": [
    "!type data.json"
   ]
  },
  {
   "cell_type": "code",
   "execution_count": 22,
   "metadata": {},
   "outputs": [],
   "source": [
    "with open(\"data.json\", \"r\") as fp:\n",
    "    x = json.load(fp)"
   ]
  },
  {
   "cell_type": "code",
   "execution_count": 23,
   "metadata": {},
   "outputs": [
    {
     "name": "stdout",
     "output_type": "stream",
     "text": [
      "{'first': 45, 'second': 6.02, 'third': None, 'fourth': [1, 2, 3, 'hi', 'hello'], 'fifth': {'1': 'one', '2': 'two'}}\n"
     ]
    }
   ],
   "source": [
    "print(x)"
   ]
  },
  {
   "cell_type": "code",
   "execution_count": 25,
   "metadata": {},
   "outputs": [],
   "source": [
    "import pickle"
   ]
  },
  {
   "cell_type": "code",
   "execution_count": 26,
   "metadata": {},
   "outputs": [],
   "source": [
    "with open(\"data.pkl\", \"wb\") as fp:\n",
    "    pickle.dump(data, fp)"
   ]
  },
  {
   "cell_type": "code",
   "execution_count": 27,
   "metadata": {},
   "outputs": [
    {
     "name": "stdout",
     "output_type": "stream",
     "text": [
      "€\u0004•j\u0000\u0000\u0000\u0000\u0000\u0000\u0000}”(Œ\u0005first”K-Œ\u0006second”G@\u0018\u0014záG®\u0014Œ\u0005third”NŒ\u0006fourth”]”(K\u0001K\u0002K\u0003Œ\u0002hi”Œ\u0005hello”eŒ\u0005fifth”}”(Œ\u00011”Œ\u0003one”Œ\u00012”Œ\u0003two”uu.\n"
     ]
    }
   ],
   "source": [
    "!type data.pkl"
   ]
  },
  {
   "cell_type": "code",
   "execution_count": 28,
   "metadata": {},
   "outputs": [],
   "source": [
    "with open(\"data.pkl\", \"rb\") as fp:\n",
    "    y = pickle.load(fp)"
   ]
  },
  {
   "cell_type": "code",
   "execution_count": 30,
   "metadata": {},
   "outputs": [
    {
     "data": {
      "text/plain": [
       "dict_keys(['first', 'second', 'third', 'fourth', 'fifth'])"
      ]
     },
     "execution_count": 30,
     "metadata": {},
     "output_type": "execute_result"
    }
   ],
   "source": [
    "y.keys()"
   ]
  },
  {
   "cell_type": "code",
   "execution_count": 31,
   "metadata": {},
   "outputs": [
    {
     "data": {
      "text/plain": [
       "[1, 2, 3, 'hi', 'hello']"
      ]
     },
     "execution_count": 31,
     "metadata": {},
     "output_type": "execute_result"
    }
   ],
   "source": [
    "y[\"fourth\"]"
   ]
  },
  {
   "cell_type": "code",
   "execution_count": 24,
   "metadata": {},
   "outputs": [
    {
     "data": {
      "text/plain": [
       "45"
      ]
     },
     "execution_count": 24,
     "metadata": {},
     "output_type": "execute_result"
    }
   ],
   "source": [
    "x[\"first\"]"
   ]
  },
  {
   "cell_type": "code",
   "execution_count": 17,
   "metadata": {},
   "outputs": [],
   "source": [
    "import json"
   ]
  },
  {
   "cell_type": "code",
   "execution_count": 18,
   "metadata": {},
   "outputs": [
    {
     "name": "stdout",
     "output_type": "stream",
     "text": [
      "<class 'str'>\n",
      "'{\"first\": 45, \"second\": 6.02, \"third\": null, \"fourth\": [1, 2, 3, \"hi\", \"hello\"], \"fifth\": {\"1\": \"one\", \"2\": \"two\"}}'\n"
     ]
    }
   ],
   "source": [
    "s = json.dumps(data)\n",
    "print(type(s))\n",
    "print(repr(s))"
   ]
  },
  {
   "cell_type": "code",
   "execution_count": null,
   "metadata": {},
   "outputs": [],
   "source": []
  },
  {
   "cell_type": "code",
   "execution_count": 16,
   "metadata": {},
   "outputs": [
    {
     "ename": "TypeError",
     "evalue": "write() argument must be str, not dict",
     "output_type": "error",
     "traceback": [
      "\u001b[1;31m---------------------------------------------------------------------------\u001b[0m",
      "\u001b[1;31mTypeError\u001b[0m                                 Traceback (most recent call last)",
      "\u001b[1;32m~\\AppData\\Local\\Temp\\ipykernel_11556\\2751029691.py\u001b[0m in \u001b[0;36m<module>\u001b[1;34m\u001b[0m\n\u001b[0;32m      1\u001b[0m \u001b[0mfp\u001b[0m \u001b[1;33m=\u001b[0m \u001b[0mopen\u001b[0m\u001b[1;33m(\u001b[0m\u001b[1;34m\"data.dict\"\u001b[0m\u001b[1;33m,\u001b[0m \u001b[1;34m\"w\"\u001b[0m\u001b[1;33m)\u001b[0m\u001b[1;33m\u001b[0m\u001b[1;33m\u001b[0m\u001b[0m\n\u001b[1;32m----> 2\u001b[1;33m \u001b[0mfp\u001b[0m\u001b[1;33m.\u001b[0m\u001b[0mwrite\u001b[0m\u001b[1;33m(\u001b[0m\u001b[0mdata\u001b[0m\u001b[1;33m)\u001b[0m\u001b[1;33m\u001b[0m\u001b[1;33m\u001b[0m\u001b[0m\n\u001b[0m",
      "\u001b[1;31mTypeError\u001b[0m: write() argument must be str, not dict"
     ]
    }
   ],
   "source": [
    "fp = open(\"data.dict\", \"w\")\n",
    "fp.write(data)"
   ]
  },
  {
   "cell_type": "markdown",
   "metadata": {},
   "source": [
    "#### OOPs "
   ]
  },
  {
   "cell_type": "code",
   "execution_count": null,
   "metadata": {},
   "outputs": [],
   "source": []
  }
 ],
 "metadata": {
  "kernelspec": {
   "display_name": "Python 3 (ipykernel)",
   "language": "python",
   "name": "python3"
  },
  "language_info": {
   "codemirror_mode": {
    "name": "ipython",
    "version": 3
   },
   "file_extension": ".py",
   "mimetype": "text/x-python",
   "name": "python",
   "nbconvert_exporter": "python",
   "pygments_lexer": "ipython3",
   "version": "3.9.13"
  },
  "vscode": {
   "interpreter": {
    "hash": "ad2bdc8ecc057115af97d19610ffacc2b4e99fae6737bb82f5d7fb13d2f2c186"
   }
  }
 },
 "nbformat": 4,
 "nbformat_minor": 2
}
