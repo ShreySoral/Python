{
 "cells": [
  {
   "cell_type": "code",
   "execution_count": 1,
   "id": "f550328e",
   "metadata": {},
   "outputs": [
    {
     "name": "stdout",
     "output_type": "stream",
     "text": [
      "Enter your number\n",
      "3\n",
      "Your guess number is too low\n",
      "Enter your number3\n",
      "Your guess number is too low\n",
      "Enter your number3\n",
      "Your guess number is too low\n",
      "Enter your number3\n",
      "Your guess number is too low\n",
      "Enter your number3\n",
      "Your guess number is too low\n",
      "You lose! The number is 10\n"
     ]
    }
   ],
   "source": [
    "# Guessing game\n",
    "import random\n",
    "number=random.randint(0,50)\n",
    "userinput=int(input(\"Enter your number\\n\"))\n",
    "chances=0\n",
    "while chances<5:\n",
    "    if userinput==number:\n",
    "        print(\"Congrats you won\")\n",
    "        break\n",
    "    elif userinput<number:\n",
    "        print(\"Your guess number is too low\")\n",
    "    else:\n",
    "        print(\"Your guess is too high\")\n",
    "    chances+=1\n",
    "    if not chances<5:\n",
    "        print(\"You lose! The number is\",number)\n",
    "        break\n",
    "    userinput=int(input(\"Enter your number\"))"
   ]
  },
  {
   "cell_type": "code",
   "execution_count": 2,
   "id": "73d37e00",
   "metadata": {},
   "outputs": [
    {
     "name": "stdout",
     "output_type": "stream",
     "text": [
      "The unsorted list is:  [5, 3, 8, 6, 7, 2]\n",
      "The sorted list is:  [2, 3, 5, 6, 7, 8]\n"
     ]
    }
   ],
   "source": [
    "def bubble_sort(list1):  \n",
    "    # Outer loop for traverse the entire list  \n",
    "    for i in range(0,len(list1)-1):  \n",
    "        for j in range(len(list1)-1):  \n",
    "            if(list1[j]>list1[j+1]):  \n",
    "                temp = list1[j]  \n",
    "                list1[j] = list1[j+1]  \n",
    "                list1[j+1] = temp  \n",
    "    return list1  \n",
    "  \n",
    "list1 = [5, 3, 8, 6, 7, 2]  \n",
    "print(\"The unsorted list is: \", list1)  \n",
    "# Calling the bubble sort function  \n",
    "print(\"The sorted list is: \", bubble_sort(list1))  "
   ]
  },
  {
   "cell_type": "code",
   "execution_count": 3,
   "id": "3ee913a3",
   "metadata": {},
   "outputs": [
    {
     "name": "stdout",
     "output_type": "stream",
     "text": [
      " 5\n",
      " 6\n",
      " 11\n",
      " 12\n",
      " 13\n"
     ]
    }
   ],
   "source": [
    "def insertionSort(arr):\n",
    " \n",
    "    # Traverse through 1 to len(arr)\n",
    "    for i in range(1, len(arr)):\n",
    " \n",
    "        key = arr[i]\n",
    " \n",
    "        # Move elements of arr[0..i-1], that are\n",
    "        # greater than key, to one position ahead\n",
    "        # of their current position\n",
    "        j = i-1\n",
    "        while j >= 0 and key < arr[j] :\n",
    "                arr[j + 1] = arr[j]\n",
    "                j -= 1\n",
    "        arr[j + 1] = key\n",
    " \n",
    " \n",
    "# Driver code to test above\n",
    "arr = [12, 11, 13, 5, 6]\n",
    "insertionSort(arr)\n",
    "for i in range(len(arr)):\n",
    "    print (\"% d\" % arr[i])"
   ]
  },
  {
   "cell_type": "code",
   "execution_count": 4,
   "id": "bef9614d",
   "metadata": {},
   "outputs": [
    {
     "name": "stdout",
     "output_type": "stream",
     "text": [
      "Sorted array\n",
      "11 12 22 25 64 "
     ]
    }
   ],
   "source": [
    "import sys\n",
    "A = [64, 25, 12, 22, 11]\n",
    " \n",
    "# Traverse through all array elements\n",
    "for i in range(len(A)):\n",
    "     \n",
    "    # Find the minimum element in remaining\n",
    "    # unsorted array\n",
    "    min_idx = i\n",
    "    for j in range(i+1, len(A)):\n",
    "        if A[min_idx] > A[j]:\n",
    "            min_idx = j\n",
    "             \n",
    "    # Swap the found minimum element with\n",
    "    # the first element       \n",
    "    A[i], A[min_idx] = A[min_idx], A[i]\n",
    " \n",
    "# Driver code to test above\n",
    "print (\"Sorted array\")\n",
    "for i in range(len(A)):\n",
    "    print(\"%d\" %A[i],end=\" \")"
   ]
  },
  {
   "cell_type": "code",
   "execution_count": null,
   "id": "e8f93456",
   "metadata": {},
   "outputs": [],
   "source": []
  }
 ],
 "metadata": {
  "kernelspec": {
   "display_name": "Python 3 (ipykernel)",
   "language": "python",
   "name": "python3"
  },
  "language_info": {
   "codemirror_mode": {
    "name": "ipython",
    "version": 3
   },
   "file_extension": ".py",
   "mimetype": "text/x-python",
   "name": "python",
   "nbconvert_exporter": "python",
   "pygments_lexer": "ipython3",
   "version": "3.10.5"
  }
 },
 "nbformat": 4,
 "nbformat_minor": 5
}
