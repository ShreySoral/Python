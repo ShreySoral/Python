{
 "cells": [
  {
   "cell_type": "markdown",
   "id": "63704bae",
   "metadata": {},
   "source": [
    "## `File Handling`\n",
    "\n",
    "    we can read, write files using python program\n",
    "    \n",
    "    so we can manage or data permanently in files"
   ]
  },
  {
   "cell_type": "markdown",
   "id": "1bba2e9c",
   "metadata": {},
   "source": [
    "    It's a dificult Task to manage data in files manually"
   ]
  },
  {
   "cell_type": "markdown",
   "id": "a7dc76b2",
   "metadata": {},
   "source": [
    "Python\n",
    "    \n",
    "    just a programmers\n",
    "\n",
    "    DSA -> Data Structor / Algorithms / Complexities\n",
    "    \n",
    "    efficient programmers"
   ]
  },
  {
   "cell_type": "markdown",
   "id": "93c21e12",
   "metadata": {},
   "source": [
    "    Library Code\n",
    "                    sum([1, 3, 4, 5])  Optimized\n",
    "    Custom Code\n",
    "    \n",
    "        s = 0\n",
    "        for item in lst:\n",
    "            s+= item\n",
    "        print(s)"
   ]
  },
  {
   "cell_type": "markdown",
   "id": "f3024212",
   "metadata": {},
   "source": [
    "    File Handling --> we want to store and manage data permanently in files"
   ]
  },
  {
   "cell_type": "markdown",
   "id": "dd8632df",
   "metadata": {},
   "source": [
    " **Parsing Function**\n",
    " \n",
    "     parsing converting a string data into python objects "
   ]
  },
  {
   "cell_type": "markdown",
   "id": "1f130e19",
   "metadata": {},
   "source": [
    "    files always stores byte information"
   ]
  },
  {
   "cell_type": "markdown",
   "id": "3076bc72",
   "metadata": {},
   "source": [
    "    file.read() => \"String Data\"   Bytes --> Decoding  --> String\n",
    "    \n",
    "    file.write(\"String Data\")      Strings --> Encoding --> Bytes\n",
    "\n"
   ]
  },
  {
   "cell_type": "code",
   "execution_count": null,
   "id": "e637a456",
   "metadata": {},
   "outputs": [],
   "source": []
  },
  {
   "cell_type": "code",
   "execution_count": 4,
   "id": "4d4f8d6a",
   "metadata": {},
   "outputs": [],
   "source": [
    "s = \"hello world!\"\n",
    "b = s.encode(\"utf-32\")"
   ]
  },
  {
   "cell_type": "code",
   "execution_count": 6,
   "id": "5be83c04",
   "metadata": {},
   "outputs": [
    {
     "name": "stdout",
     "output_type": "stream",
     "text": [
      "b'\\xff\\xfe\\x00\\x00h\\x00\\x00\\x00e\\x00\\x00\\x00l\\x00\\x00\\x00l\\x00\\x00\\x00o\\x00\\x00\\x00 \\x00\\x00\\x00w\\x00\\x00\\x00o\\x00\\x00\\x00r\\x00\\x00\\x00l\\x00\\x00\\x00d\\x00\\x00\\x00!\\x00\\x00\\x00' <class 'bytes'>\n"
     ]
    }
   ],
   "source": [
    "print(b, type(b))"
   ]
  },
  {
   "cell_type": "code",
   "execution_count": 7,
   "id": "048ac26a",
   "metadata": {},
   "outputs": [
    {
     "name": "stdout",
     "output_type": "stream",
     "text": [
      "hello world!\n"
     ]
    }
   ],
   "source": [
    "x = b.decode(\"utf-32\")\n",
    "print(x)"
   ]
  },
  {
   "cell_type": "code",
   "execution_count": 9,
   "id": "759dbc5d",
   "metadata": {},
   "outputs": [],
   "source": [
    "fp = open(\"file\", \"w\", encoding=\"utf-32\")\n",
    "fp.write(s)\n",
    "fp.close()"
   ]
  },
  {
   "cell_type": "code",
   "execution_count": 10,
   "id": "47d4d6f2",
   "metadata": {},
   "outputs": [
    {
     "name": "stdout",
     "output_type": "stream",
     "text": [
      "ÿþ\u0000\u0000h\u0000\u0000\u0000e\u0000\u0000\u0000l\u0000\u0000\u0000l\u0000\u0000\u0000o\u0000\u0000\u0000 \u0000\u0000\u0000w\u0000\u0000\u0000o\u0000\u0000\u0000r\u0000\u0000\u0000l\u0000\u0000\u0000d\u0000\u0000\u0000!\u0000\u0000\u0000\n"
     ]
    }
   ],
   "source": [
    "!cat file"
   ]
  },
  {
   "cell_type": "code",
   "execution_count": 11,
   "id": "7d6d7fc3",
   "metadata": {},
   "outputs": [],
   "source": [
    "fp = open(\"file\", \"r\", encoding=\"utf-32\")\n",
    "d = fp.read()\n",
    "fp.close()"
   ]
  },
  {
   "cell_type": "code",
   "execution_count": 12,
   "id": "bfbcae93",
   "metadata": {},
   "outputs": [
    {
     "name": "stdout",
     "output_type": "stream",
     "text": [
      "hello world!\n"
     ]
    }
   ],
   "source": [
    "print(d)"
   ]
  },
  {
   "cell_type": "code",
   "execution_count": 1,
   "id": "bfab95ba",
   "metadata": {},
   "outputs": [],
   "source": [
    "data = [ 1, 2, 3, 4, 5]"
   ]
  },
  {
   "cell_type": "code",
   "execution_count": 2,
   "id": "7942641b",
   "metadata": {},
   "outputs": [],
   "source": [
    "file = open(\"data.txt\", \"w\")"
   ]
  },
  {
   "cell_type": "code",
   "execution_count": 3,
   "id": "c989ab41",
   "metadata": {},
   "outputs": [
    {
     "ename": "TypeError",
     "evalue": "write() argument must be str, not list",
     "output_type": "error",
     "traceback": [
      "\u001b[1;31m---------------------------------------------------------------------------\u001b[0m",
      "\u001b[1;31mTypeError\u001b[0m                                 Traceback (most recent call last)",
      "\u001b[1;32m~\\AppData\\Local\\Temp\\ipykernel_5324\\1264691259.py\u001b[0m in \u001b[0;36m<module>\u001b[1;34m\u001b[0m\n\u001b[1;32m----> 1\u001b[1;33m \u001b[0mfile\u001b[0m\u001b[1;33m.\u001b[0m\u001b[0mwrite\u001b[0m\u001b[1;33m(\u001b[0m\u001b[0mdata\u001b[0m\u001b[1;33m)\u001b[0m\u001b[1;33m\u001b[0m\u001b[1;33m\u001b[0m\u001b[0m\n\u001b[0m\u001b[0;32m      2\u001b[0m \u001b[0mfile\u001b[0m\u001b[1;33m.\u001b[0m\u001b[0mclose\u001b[0m\u001b[1;33m(\u001b[0m\u001b[1;33m)\u001b[0m\u001b[1;33m\u001b[0m\u001b[1;33m\u001b[0m\u001b[0m\n",
      "\u001b[1;31mTypeError\u001b[0m: write() argument must be str, not list"
     ]
    }
   ],
   "source": [
    "file.write(data)\n",
    "file.close()"
   ]
  },
  {
   "cell_type": "markdown",
   "id": "b6dbd09f",
   "metadata": {},
   "source": [
    "    String --> write ---> File\n",
    "\n",
    "    File --> read ---> String"
   ]
  },
  {
   "cell_type": "markdown",
   "id": "9df102f7",
   "metadata": {},
   "source": [
    "`parsing`\n",
    "\n",
    "    Data Serialization\n",
    "    \n",
    "`converting a python object into string or vice versa`"
   ]
  },
  {
   "cell_type": "markdown",
   "id": "c247f2e3",
   "metadata": {},
   "source": [
    "account,blance,name1|value;name2|value,password"
   ]
  },
  {
   "cell_type": "code",
   "execution_count": 18,
   "id": "48509aab",
   "metadata": {},
   "outputs": [
    {
     "name": "stdout",
     "output_type": "stream",
     "text": [
      "Overwriting info.csv\n"
     ]
    }
   ],
   "source": [
    "%%writefile info.csv\n",
    "1001,25000.00,redhat,FD|400000;SIP|200000"
   ]
  },
  {
   "cell_type": "code",
   "execution_count": 29,
   "id": "f7e5c69d",
   "metadata": {},
   "outputs": [],
   "source": [
    "\n",
    "\n",
    "def convert_to_string(info):\n",
    "    output = f\"{info['account']},{info['balance']},{info['password']},\"\n",
    "    ins = \"\"\n",
    "    for key,value in info['investment'].items():\n",
    "        pair = f\"{key}|{value}\"\n",
    "        ins += pair + \";\"\n",
    "    ins = ins[:-1]\n",
    "    output += ins\n",
    "    return output\n",
    "    "
   ]
  },
  {
   "cell_type": "code",
   "execution_count": 30,
   "id": "d14df944",
   "metadata": {},
   "outputs": [],
   "source": [
    "user1 = {\n",
    "    \"account\": \"1001\",\n",
    "    \"balance\": 25000.00,\n",
    "    \"password\": \"redhat\",\n",
    "    \"investment\": {\n",
    "        \"FD\": 400000,\n",
    "        \"SIP\": 200000,\n",
    "    }}"
   ]
  },
  {
   "cell_type": "code",
   "execution_count": 35,
   "id": "2170f6a8",
   "metadata": {},
   "outputs": [],
   "source": [
    "user1 = {\n",
    "    \"account\": \"1005\",\n",
    "    \"balance\": 255000.00,\n",
    "    \"password\": \"rdgghhat\",\n",
    "    \"investment\": {\n",
    "                \"SIP\": 100000,\n",
    "    }}"
   ]
  },
  {
   "cell_type": "code",
   "execution_count": null,
   "id": "66301118",
   "metadata": {},
   "outputs": [],
   "source": []
  },
  {
   "cell_type": "code",
   "execution_count": 36,
   "id": "e2a8c4b4",
   "metadata": {},
   "outputs": [],
   "source": [
    "output = convert_to_string(user1)\n",
    "fp = open(\"1005\", \"w\")\n",
    "fp.write(output)\n",
    "fp.close()"
   ]
  },
  {
   "cell_type": "code",
   "execution_count": 37,
   "id": "ca550482",
   "metadata": {},
   "outputs": [
    {
     "name": "stdout",
     "output_type": "stream",
     "text": [
      "1005,255000.0,rdgghhat,SIP|100000\n"
     ]
    }
   ],
   "source": [
    "!cat 1005"
   ]
  },
  {
   "cell_type": "code",
   "execution_count": 38,
   "id": "66c688a6",
   "metadata": {},
   "outputs": [],
   "source": [
    "fp = open(\"1005\")\n",
    "con = fp.read()\n",
    "fp.close()"
   ]
  },
  {
   "cell_type": "code",
   "execution_count": 40,
   "id": "49c6b094",
   "metadata": {},
   "outputs": [],
   "source": [
    "def convert_to_dict(string):\n",
    "    data = string.split(\",\")\n",
    "    output = {\n",
    "        \"account\": data[0],\n",
    "        \"balance\": float(data[1]),\n",
    "        \"password\": data[2]\n",
    "    }\n",
    "    invs = data[-1].split(\";\")\n",
    "    d = {}\n",
    "    for entry in invs:\n",
    "        key, value = entry.split(\"|\")\n",
    "        d[key] = float(value)\n",
    "    output.update(investment=d)\n",
    "    return output"
   ]
  },
  {
   "cell_type": "code",
   "execution_count": 39,
   "id": "fe8ba6c8",
   "metadata": {},
   "outputs": [
    {
     "data": {
      "text/plain": [
       "'1005,255000.0,rdgghhat,SIP|100000'"
      ]
     },
     "execution_count": 39,
     "metadata": {},
     "output_type": "execute_result"
    }
   ],
   "source": [
    "con"
   ]
  },
  {
   "cell_type": "code",
   "execution_count": 45,
   "id": "584864a2",
   "metadata": {},
   "outputs": [],
   "source": [
    "fp = open(\"1001\")\n",
    "con = fp.read()\n",
    "fp.close()\n",
    "y = convert_to_dict(con)"
   ]
  },
  {
   "cell_type": "code",
   "execution_count": 46,
   "id": "5768e85c",
   "metadata": {},
   "outputs": [],
   "source": [
    "from pprint import pprint"
   ]
  },
  {
   "cell_type": "code",
   "execution_count": 47,
   "id": "d35b0b1f",
   "metadata": {},
   "outputs": [
    {
     "name": "stdout",
     "output_type": "stream",
     "text": [
      "{'account': '1001',\n",
      " 'balance': 25000.0,\n",
      " 'investment': {'FD': 400000.0, 'SIP': 200000.0},\n",
      " 'password': 'redhat'}\n"
     ]
    }
   ],
   "source": [
    "pprint(y)"
   ]
  },
  {
   "cell_type": "code",
   "execution_count": 21,
   "id": "d2380462",
   "metadata": {},
   "outputs": [],
   "source": [
    "fp = open(\"1001\", \"w\")"
   ]
  },
  {
   "cell_type": "code",
   "execution_count": 15,
   "id": "22d1c865",
   "metadata": {},
   "outputs": [
    {
     "ename": "TypeError",
     "evalue": "write() argument must be str, not dict",
     "output_type": "error",
     "traceback": [
      "\u001b[1;31m---------------------------------------------------------------------------\u001b[0m",
      "\u001b[1;31mTypeError\u001b[0m                                 Traceback (most recent call last)",
      "\u001b[1;32m~\\AppData\\Local\\Temp\\ipykernel_5324\\2703129815.py\u001b[0m in \u001b[0;36m<module>\u001b[1;34m\u001b[0m\n\u001b[1;32m----> 1\u001b[1;33m \u001b[0mfp\u001b[0m\u001b[1;33m.\u001b[0m\u001b[0mwrite\u001b[0m\u001b[1;33m(\u001b[0m\u001b[0minfo\u001b[0m\u001b[1;33m)\u001b[0m \u001b[1;31m# ?\u001b[0m\u001b[1;33m\u001b[0m\u001b[1;33m\u001b[0m\u001b[0m\n\u001b[0m",
      "\u001b[1;31mTypeError\u001b[0m: write() argument must be str, not dict"
     ]
    }
   ],
   "source": [
    "fp.write(info) # ? \n",
    "# info --> dictionary ? "
   ]
  },
  {
   "cell_type": "markdown",
   "id": "ff5a542c",
   "metadata": {},
   "source": [
    "`Encoding` \n",
    "    \n",
    "    Python Object --> String          convert_to_string\n",
    "    \n",
    "`Decoding`\n",
    "\n",
    "    String  ---> Python Object         convert_to_dict"
   ]
  },
  {
   "cell_type": "code",
   "execution_count": 48,
   "id": "415b936d",
   "metadata": {},
   "outputs": [],
   "source": [
    "import xml"
   ]
  },
  {
   "cell_type": "markdown",
   "id": "be4183d3",
   "metadata": {},
   "source": [
    "#### Parsing Languages\n",
    "\n",
    "\n",
    "\n",
    "    common / general parsers  available to all languages\n",
    "    \n",
    "        \n",
    "        XML\n",
    "    \n",
    "        JSON  YML  config  avro  parquet\n",
    "    \n",
    "    python specific\n",
    "    \n",
    "        pickle"
   ]
  },
  {
   "cell_type": "markdown",
   "id": "553222d4",
   "metadata": {},
   "source": [
    "### Data Serialization\n",
    "\n",
    "    A process by which you can convert a object into bytes/strings\n",
    "    \n",
    "        eg. convert_to_string(object) -> String\n",
    "    \n",
    "### Data De-Serialization\n",
    "\n",
    "    A process by which you can convert a bytes/String into object\n",
    "    \n",
    "        eg. convert_to_dict(string) --> Dictionary\n",
    "        \n",
    "        \n",
    "##### Data Serialization makes it easy for program to work with data files"
   ]
  },
  {
   "cell_type": "code",
   "execution_count": null,
   "id": "d9dfb28a",
   "metadata": {},
   "outputs": [],
   "source": []
  },
  {
   "cell_type": "code",
   "execution_count": null,
   "id": "3038f12c",
   "metadata": {},
   "outputs": [],
   "source": [
    "d = { \"key\" :\"value\",  }"
   ]
  },
  {
   "cell_type": "markdown",
   "id": "9ccc3a41",
   "metadata": {},
   "source": [
    "### JSON\n",
    "\n",
    "    Java Script Object Notation \n",
    "    \n",
    "    JSON DATA TYPES\n",
    "    \n",
    "     \n",
    "     \n",
    "     Python                                JSON\n",
    "     \n",
    "     \n",
    "         int                                 int\n",
    "         \n",
    "         float                               float\n",
    "         \n",
    "         string                              string\n",
    "         \n",
    "         list, tuple                          array\n",
    "         \n",
    "         dict                                  object\n",
    "         \n",
    "         True                                  true\n",
    "         \n",
    "         False                                 false\n",
    "         \n",
    "         None                                  null"
   ]
  },
  {
   "cell_type": "code",
   "execution_count": 50,
   "id": "d4ecff6e",
   "metadata": {},
   "outputs": [],
   "source": [
    "import json"
   ]
  },
  {
   "cell_type": "markdown",
   "id": "bd2d6b06",
   "metadata": {},
   "source": [
    "#### Data Serialization \n",
    "\n",
    "\n",
    "    Serialization\n",
    "    \n",
    "        dumps(object) --> String\n",
    "        \n",
    "        dump(object, fp) --> write object to file fp\n",
    "        \n",
    "    Deserialization\n",
    "    \n",
    "        loads(string)  --> object\n",
    "        \n",
    "        load(fp)  --> object"
   ]
  },
  {
   "cell_type": "code",
   "execution_count": 51,
   "id": "7418d51b",
   "metadata": {},
   "outputs": [],
   "source": [
    "import json "
   ]
  },
  {
   "cell_type": "code",
   "execution_count": 61,
   "id": "7d83ec83",
   "metadata": {},
   "outputs": [
    {
     "data": {
      "text/plain": [
       "'{\"name\": \"sachin\", \"age\": 26}'"
      ]
     },
     "execution_count": 61,
     "metadata": {},
     "output_type": "execute_result"
    }
   ],
   "source": [
    "json.dumps({'name': \"sachin\", \"age\": 26})"
   ]
  },
  {
   "cell_type": "code",
   "execution_count": 59,
   "id": "3a0e89e5",
   "metadata": {},
   "outputs": [
    {
     "data": {
      "text/plain": [
       "'[1, 2, 3, 4]'"
      ]
     },
     "execution_count": 59,
     "metadata": {},
     "output_type": "execute_result"
    }
   ],
   "source": [
    "json.dumps((1, 2, 3, 4))"
   ]
  },
  {
   "cell_type": "code",
   "execution_count": 58,
   "id": "1061bdce",
   "metadata": {},
   "outputs": [
    {
     "data": {
      "text/plain": [
       "'[1, 2, 3, 4, \"hi\", \"hello\", 6.02]'"
      ]
     },
     "execution_count": 58,
     "metadata": {},
     "output_type": "execute_result"
    }
   ],
   "source": [
    "json.dumps([1, 2, 3, 4, 'hi', 'hello', 6.02])"
   ]
  },
  {
   "cell_type": "code",
   "execution_count": 62,
   "id": "b062d4cf",
   "metadata": {},
   "outputs": [
    {
     "name": "stdout",
     "output_type": "stream",
     "text": [
      "Python:  10 <class 'int'>\n",
      "JSON:    '10' <class 'str'>\n",
      "\n",
      " __________________________________________________ \n",
      "\n",
      "Python:  56.45 <class 'float'>\n",
      "JSON:    '56.45' <class 'str'>\n",
      "\n",
      " __________________________________________________ \n",
      "\n",
      "Python:  'hello' <class 'str'>\n",
      "JSON:    '\"hello\"' <class 'str'>\n",
      "\n",
      " __________________________________________________ \n",
      "\n",
      "Python:  [1, 2, 'hi'] <class 'list'>\n",
      "JSON:    '[1, 2, \"hi\"]' <class 'str'>\n",
      "\n",
      " __________________________________________________ \n",
      "\n",
      "Python:  {'foo': 'bar'} <class 'dict'>\n",
      "JSON:    '{\"foo\": \"bar\"}' <class 'str'>\n",
      "\n",
      " __________________________________________________ \n",
      "\n",
      "Python:  True <class 'bool'>\n",
      "JSON:    'true' <class 'str'>\n",
      "\n",
      " __________________________________________________ \n",
      "\n",
      "Python:  False <class 'bool'>\n",
      "JSON:    'false' <class 'str'>\n",
      "\n",
      " __________________________________________________ \n",
      "\n",
      "Python:  None <class 'NoneType'>\n",
      "JSON:    'null' <class 'str'>\n",
      "\n",
      " __________________________________________________ \n",
      "\n"
     ]
    }
   ],
   "source": [
    "for key in [10, 56.45, \"hello\", [1, 2, 'hi'], {'foo': 'bar'}, True, False, None ]:\n",
    "    \n",
    "    value = json.dumps(key)\n",
    "    print(\"Python: \", repr(key), type(key))\n",
    "    print(\"JSON:   \", repr(value), type(value))\n",
    "    print(\"\\n\", \"_\"*50, \"\\n\")"
   ]
  },
  {
   "cell_type": "code",
   "execution_count": 63,
   "id": "5ae66c29",
   "metadata": {},
   "outputs": [],
   "source": [
    "user1 = {\n",
    "    \"account\": \"1001\",\n",
    "    \"balance\": 25000.00,\n",
    "    \"password\": \"redhat\",\n",
    "    \"investment\": {\n",
    "        \"FD\": 400000,\n",
    "        \"SIP\": 200000,\n",
    "    }}"
   ]
  },
  {
   "cell_type": "code",
   "execution_count": 64,
   "id": "6bb3227a",
   "metadata": {},
   "outputs": [],
   "source": [
    "import json"
   ]
  },
  {
   "cell_type": "code",
   "execution_count": 68,
   "id": "3cc66e88",
   "metadata": {},
   "outputs": [],
   "source": [
    "with open(\"ACC_1001.json\", \"w\") as file:\n",
    "    json.dump(user1, file)"
   ]
  },
  {
   "cell_type": "code",
   "execution_count": 69,
   "id": "95a2b6af",
   "metadata": {},
   "outputs": [
    {
     "name": "stdout",
     "output_type": "stream",
     "text": [
      "{\"account\": \"1001\", \"balance\": 25000.0, \"password\": \"redhat\", \"investment\": {\"FD\": 400000, \"SIP\": 200000}}\n"
     ]
    }
   ],
   "source": [
    "!cat ACC_1001.json"
   ]
  },
  {
   "cell_type": "code",
   "execution_count": 70,
   "id": "bd6958c6",
   "metadata": {},
   "outputs": [],
   "source": [
    "with open(\"ACC_1001.json\", \"r\") as file:\n",
    "    data = json.load(file)"
   ]
  },
  {
   "cell_type": "code",
   "execution_count": 71,
   "id": "b3086a34",
   "metadata": {},
   "outputs": [
    {
     "name": "stdout",
     "output_type": "stream",
     "text": [
      "<class 'dict'>\n"
     ]
    }
   ],
   "source": [
    "print(type(data))"
   ]
  },
  {
   "cell_type": "code",
   "execution_count": 72,
   "id": "349df355",
   "metadata": {},
   "outputs": [
    {
     "name": "stdout",
     "output_type": "stream",
     "text": [
      "{'account': '1001',\n",
      " 'balance': 25000.0,\n",
      " 'investment': {'FD': 400000, 'SIP': 200000},\n",
      " 'password': 'redhat'}\n"
     ]
    }
   ],
   "source": [
    "pprint(data)"
   ]
  },
  {
   "cell_type": "markdown",
   "id": "97dbc13c",
   "metadata": {},
   "source": [
    "### Issues with JSON \n",
    "\n",
    "       key can only be string \n",
    "       \n",
    "       It does not support all python data types ? \n",
    "       \n",
    "           like complex, set, frozenset, range, zip, enumerate, Custom Object ?"
   ]
  },
  {
   "cell_type": "markdown",
   "id": "8faa9f22",
   "metadata": {},
   "source": [
    "`PICKLE`\n",
    "\n",
    "    python's default Data Serializer \n",
    "    \n",
    "    pickle stores data in binary format"
   ]
  },
  {
   "cell_type": "code",
   "execution_count": 73,
   "id": "abc762a8",
   "metadata": {},
   "outputs": [],
   "source": [
    "import pickle"
   ]
  },
  {
   "cell_type": "code",
   "execution_count": 74,
   "id": "194121fc",
   "metadata": {},
   "outputs": [
    {
     "data": {
      "text/plain": [
       "{'account': '1001',\n",
       " 'balance': 25000.0,\n",
       " 'password': 'redhat',\n",
       " 'investment': {'FD': 400000, 'SIP': 200000}}"
      ]
     },
     "execution_count": 74,
     "metadata": {},
     "output_type": "execute_result"
    }
   ],
   "source": [
    "data"
   ]
  },
  {
   "cell_type": "code",
   "execution_count": null,
   "id": "78d585ee",
   "metadata": {},
   "outputs": [],
   "source": []
  },
  {
   "cell_type": "code",
   "execution_count": 80,
   "id": "e32f8aa7",
   "metadata": {},
   "outputs": [
    {
     "name": "stdout",
     "output_type": "stream",
     "text": [
      "json  :  {\"foo\": \"bar\", \"spam\": \"ham\"}\n",
      "pickle:  b'\\x80\\x04\\x95\\x1e\\x00\\x00\\x00\\x00\\x00\\x00\\x00}\\x94(\\x8c\\x03foo\\x94\\x8c\\x03bar\\x94\\x8c\\x04spam\\x94\\x8c\\x03ham\\x94u.'\n"
     ]
    }
   ],
   "source": [
    "key = {'foo': 'bar', 'spam': 'ham'}\n",
    "print(\"json  : \", json.dumps(key))\n",
    "print(\"pickle: \", pickle.dumps(key))"
   ]
  },
  {
   "cell_type": "code",
   "execution_count": 81,
   "id": "73af2fc5",
   "metadata": {},
   "outputs": [],
   "source": [
    "b = b'\\x80\\x04\\x95\\x1e\\x00\\x00\\x00\\x00\\x00\\x00\\x00}\\x94(\\x8c\\x03foo\\x94\\x8c\\x03bar\\x94\\x8c\\x04spam\\x94\\x8c\\x03ham\\x94u.'"
   ]
  },
  {
   "cell_type": "code",
   "execution_count": 82,
   "id": "eb616697",
   "metadata": {},
   "outputs": [
    {
     "name": "stdout",
     "output_type": "stream",
     "text": [
      "{'foo': 'bar', 'spam': 'ham'}\n"
     ]
    }
   ],
   "source": [
    "info = pickle.loads(b)\n",
    "print(info)"
   ]
  },
  {
   "cell_type": "code",
   "execution_count": 83,
   "id": "c74397ba",
   "metadata": {},
   "outputs": [],
   "source": [
    "user1 = {\n",
    "    \"account\": \"1001\",\n",
    "    \"balance\": 25000.00,\n",
    "    \"password\": \"redhat\",\n",
    "    \"investment\": {\n",
    "        \"FD\": 400000,\n",
    "        \"SIP\": 200000,\n",
    "    }}\n",
    "\n",
    "import pickle\n",
    "with open(\"1001.pkl\", \"wb\") as fp:\n",
    "    pickle.dump(user1, fp)"
   ]
  },
  {
   "cell_type": "code",
   "execution_count": 84,
   "id": "66ce2bbb",
   "metadata": {},
   "outputs": [
    {
     "name": "stdout",
     "output_type": "stream",
     "text": [
      "€\u0004•c\u0000\u0000\u0000\u0000\u0000\u0000\u0000}”(Œ\u0007account”Œ\u00041001”Œ\u0007balance”G@Øj\u0000\u0000\u0000\u0000\u0000Œ\bpassword”Œ\u0006redhat”Œ\n",
      "investment”}”(Œ\u0002FD”J€\u001a\u0006\u0000Œ\u0003SIP”J@\n",
      "\u0003\u0000uu.\n"
     ]
    }
   ],
   "source": [
    "!cat 1001.pkl"
   ]
  },
  {
   "cell_type": "code",
   "execution_count": 85,
   "id": "7908517e",
   "metadata": {},
   "outputs": [],
   "source": [
    "with open(\"1001.pkl\", \"rb\") as fp:\n",
    "    info = pickle.load(fp)"
   ]
  },
  {
   "cell_type": "code",
   "execution_count": 86,
   "id": "dde33c45",
   "metadata": {},
   "outputs": [
    {
     "name": "stdout",
     "output_type": "stream",
     "text": [
      "{'account': '1001',\n",
      " 'balance': 25000.0,\n",
      " 'investment': {'FD': 400000, 'SIP': 200000},\n",
      " 'password': 'redhat'}\n"
     ]
    }
   ],
   "source": [
    "pprint(info)"
   ]
  },
  {
   "cell_type": "code",
   "execution_count": 87,
   "id": "327af65e",
   "metadata": {},
   "outputs": [
    {
     "data": {
      "text/plain": [
       "b'\\x80\\x04\\x95.\\x00\\x00\\x00\\x00\\x00\\x00\\x00\\x8c\\x08builtins\\x94\\x8c\\x07complex\\x94\\x93\\x94G@$\\x00\\x00\\x00\\x00\\x00\\x00G@4\\x00\\x00\\x00\\x00\\x00\\x00\\x86\\x94R\\x94.'"
      ]
     },
     "execution_count": 87,
     "metadata": {},
     "output_type": "execute_result"
    }
   ],
   "source": [
    "pickle.dumps(10+20j)"
   ]
  },
  {
   "cell_type": "code",
   "execution_count": 88,
   "id": "d1027fc4",
   "metadata": {},
   "outputs": [
    {
     "data": {
      "text/plain": [
       "b'\\x80\\x04\\x95\\r\\x00\\x00\\x00\\x00\\x00\\x00\\x00\\x8f\\x94(K\\x01K\\x02K\\x03K\\x04\\x90.'"
      ]
     },
     "execution_count": 88,
     "metadata": {},
     "output_type": "execute_result"
    }
   ],
   "source": [
    "pickle.dumps({1, 2, 3, 4})"
   ]
  },
  {
   "cell_type": "code",
   "execution_count": 89,
   "id": "1fa429de",
   "metadata": {},
   "outputs": [
    {
     "data": {
      "text/plain": [
       "b'\\x80\\x04\\x95 \\x00\\x00\\x00\\x00\\x00\\x00\\x00\\x8c\\x08builtins\\x94\\x8c\\x05range\\x94\\x93\\x94K\\x00K\\nK\\x01\\x87\\x94R\\x94.'"
      ]
     },
     "execution_count": 89,
     "metadata": {},
     "output_type": "execute_result"
    }
   ],
   "source": [
    "pickle.dumps(range(10))"
   ]
  },
  {
   "cell_type": "code",
   "execution_count": 91,
   "id": "c5f9fb00",
   "metadata": {},
   "outputs": [
    {
     "data": {
      "text/plain": [
       "b'\\x80\\x04\\x95^\\x00\\x00\\x00\\x00\\x00\\x00\\x00\\x8c\\x08builtins\\x94\\x8c\\x03zip\\x94\\x93\\x94\\x8c\\x08builtins\\x94\\x8c\\x04iter\\x94\\x93\\x94]\\x94(K\\x01K\\x02K\\x03e\\x85\\x94R\\x94K\\x00bh\\x05]\\x94(\\x8c\\x03one\\x94\\x8c\\x03two\\x94\\x8c\\x05three\\x94e\\x85\\x94R\\x94K\\x00b\\x86\\x94R\\x94.'"
      ]
     },
     "execution_count": 91,
     "metadata": {},
     "output_type": "execute_result"
    }
   ],
   "source": [
    "pickle.dumps(zip([1, 2, 3], ['one', 'two', 'three']))"
   ]
  },
  {
   "cell_type": "code",
   "execution_count": 93,
   "id": "84e1762b",
   "metadata": {},
   "outputs": [],
   "source": [
    "class Human:\n",
    "    def __init__(self, name, age):\n",
    "        self.name = name\n",
    "        self.age = age\n",
    "    def __str__(self):\n",
    "        return f\"Human({self.name})\"\n"
   ]
  },
  {
   "cell_type": "code",
   "execution_count": 94,
   "id": "5abd14d0",
   "metadata": {},
   "outputs": [],
   "source": [
    "data = [\n",
    "    Human(\"Sachin\", 26),\n",
    "    Human(\"Rajat\", 34),\n",
    "    Human(\"Ram\", 30),\n",
    "    Human(\"Natasha\", 18)\n",
    "]"
   ]
  },
  {
   "cell_type": "code",
   "execution_count": 99,
   "id": "cd9b63ab",
   "metadata": {},
   "outputs": [
    {
     "name": "stdout",
     "output_type": "stream",
     "text": [
      "Human(Ram)\n"
     ]
    }
   ],
   "source": [
    "print(data[2])"
   ]
  },
  {
   "cell_type": "code",
   "execution_count": 100,
   "id": "c8647d2f",
   "metadata": {},
   "outputs": [],
   "source": [
    "with open(\"human.pkl\", \"wb\") as file:\n",
    "    pickle.dump(data, file)"
   ]
  },
  {
   "cell_type": "code",
   "execution_count": 101,
   "id": "de3db815",
   "metadata": {},
   "outputs": [],
   "source": [
    "del data"
   ]
  },
  {
   "cell_type": "code",
   "execution_count": 103,
   "id": "c9d094e6",
   "metadata": {},
   "outputs": [],
   "source": [
    "with open(\"human.pkl\", \"rb\") as file:\n",
    "    info = pickle.load(file)"
   ]
  },
  {
   "cell_type": "code",
   "execution_count": 104,
   "id": "ece1dd21",
   "metadata": {},
   "outputs": [
    {
     "name": "stdout",
     "output_type": "stream",
     "text": [
      "[<__main__.Human object at 0x000001BB5F4AE4C0>,\n",
      " <__main__.Human object at 0x000001BB5F4AE400>,\n",
      " <__main__.Human object at 0x000001BB5F4AEC70>,\n",
      " <__main__.Human object at 0x000001BB5F4AEDF0>]\n"
     ]
    }
   ],
   "source": [
    "pprint(info)"
   ]
  },
  {
   "cell_type": "code",
   "execution_count": 105,
   "id": "c7b3f710",
   "metadata": {},
   "outputs": [
    {
     "name": "stdout",
     "output_type": "stream",
     "text": [
      "Human(Sachin)\n",
      "Human(Rajat)\n",
      "Human(Ram)\n",
      "Human(Natasha)\n"
     ]
    }
   ],
   "source": [
    "for obj in info:\n",
    "    print(obj)"
   ]
  },
  {
   "cell_type": "markdown",
   "id": "63f6b50c",
   "metadata": {},
   "source": [
    "    DataBase\n",
    "    \n",
    "    API\n",
    "    \n",
    "    Front End - Back End Flask "
   ]
  },
  {
   "cell_type": "markdown",
   "id": "110b011d",
   "metadata": {},
   "source": [
    "### Projects \n",
    "\n",
    "    Bank Application\n",
    "    \n",
    "    Quiz Application \n",
    "    \n",
    "    Library Management\n",
    "    \n",
    "    "
   ]
  },
  {
   "cell_type": "markdown",
   "id": "ec5c3419",
   "metadata": {},
   "source": [
    "\n",
    "    \n",
    "    A. Chutti\n",
    "    \n",
    "    B. Test\n",
    "    \n",
    "    C. Class\n",
    "    \n",
    "    D. Project\n",
    "    \n",
    "    "
   ]
  },
  {
   "cell_type": "code",
   "execution_count": 106,
   "id": "bf384a8c",
   "metadata": {},
   "outputs": [],
   "source": [
    "ch = [\"Chutti\", \"Test\", \"class\", \"project\"]\n",
    "\n",
    "import random \n",
    "\n",
    "for _ in range(100):\n",
    "    answer = random.choice(ch)"
   ]
  },
  {
   "cell_type": "code",
   "execution_count": 107,
   "id": "73258d66",
   "metadata": {},
   "outputs": [
    {
     "name": "stdout",
     "output_type": "stream",
     "text": [
      "project\n"
     ]
    }
   ],
   "source": [
    "print(answer)"
   ]
  },
  {
   "cell_type": "markdown",
   "id": "d00d470d",
   "metadata": {},
   "source": [
    "`Hangman`"
   ]
  },
  {
   "cell_type": "markdown",
   "id": "d571e9f3",
   "metadata": {},
   "source": [
    "100 word -> [\"play\", \"test\", \"awesome\", ... ]"
   ]
  },
  {
   "cell_type": "code",
   "execution_count": 109,
   "id": "9bfbac88",
   "metadata": {},
   "outputs": [
    {
     "data": {
      "text/plain": [
       "3"
      ]
     },
     "execution_count": 109,
     "metadata": {},
     "output_type": "execute_result"
    }
   ],
   "source": [
    "random.randint(2, len(\"awesome\"))"
   ]
  },
  {
   "cell_type": "markdown",
   "id": "a482102e",
   "metadata": {},
   "source": [
    "    \"a_e_o_e\"\n",
    "\n",
    "    # guess the word w\n",
    "\n",
    "    \"awe_o_e\" # k  d s\n",
    "\n",
    "    \"aweso_e\""
   ]
  },
  {
   "cell_type": "code",
   "execution_count": null,
   "id": "99b7b81e",
   "metadata": {},
   "outputs": [],
   "source": []
  }
 ],
 "metadata": {
  "kernelspec": {
   "display_name": "Python 3 (ipykernel)",
   "language": "python",
   "name": "python3"
  },
  "language_info": {
   "codemirror_mode": {
    "name": "ipython",
    "version": 3
   },
   "file_extension": ".py",
   "mimetype": "text/x-python",
   "name": "python",
   "nbconvert_exporter": "python",
   "pygments_lexer": "ipython3",
   "version": "3.9.13"
  }
 },
 "nbformat": 4,
 "nbformat_minor": 5
}
