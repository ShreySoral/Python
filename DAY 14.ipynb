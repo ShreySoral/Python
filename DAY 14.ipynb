{
 "cells": [
  {
   "cell_type": "code",
   "execution_count": 1,
   "id": "9eb5dd63",
   "metadata": {},
   "outputs": [
    {
     "name": "stdout",
     "output_type": "stream",
     "text": [
      "2.3456790123456845\n"
     ]
    }
   ],
   "source": [
    "import math\n",
    " \n",
    "# method to find sum of digits\n",
    "# of a number until sum becomes\n",
    "# single digit\n",
    "def digSum( n):\n",
    "    sum = 0\n",
    "     \n",
    "    while(n > 0 or sum > 9):\n",
    "     \n",
    "        if(n == 0):\n",
    "            n = sum\n",
    "            sum = 0\n",
    "         \n",
    "        sum += n % 10\n",
    "        n /= 10\n",
    "     \n",
    "    return sum\n",
    " \n",
    "# Driver method\n",
    "n = 1234\n",
    "print (digSum(n))"
   ]
  },
  {
   "cell_type": "code",
   "execution_count": 2,
   "id": "a4f4abed",
   "metadata": {},
   "outputs": [
    {
     "name": "stdout",
     "output_type": "stream",
     "text": [
      "LCM of 15 and 20 is 60.0\n"
     ]
    }
   ],
   "source": [
    "def gcd(a,b):\n",
    "    if a == 0:\n",
    "        return b\n",
    "    return gcd(b % a, a)\n",
    " \n",
    "# Function to return LCM of two numbers\n",
    "def lcm(a,b):\n",
    "    return (a / gcd(a,b))* b\n",
    " \n",
    "# Driver program to test above function\n",
    "a = 15\n",
    "b = 20\n",
    "print('LCM of', a, 'and', b, 'is', lcm(a, b))"
   ]
  },
  {
   "cell_type": "code",
   "execution_count": 3,
   "id": "582d1fcc",
   "metadata": {},
   "outputs": [
    {
     "name": "stdout",
     "output_type": "stream",
     "text": [
      "225\n"
     ]
    }
   ],
   "source": [
    "def sumOfSeries(n):\n",
    "    sum = 0\n",
    "    for i in range(1, n+1):\n",
    "        sum +=i*i*i\n",
    "         \n",
    "    return sum\n",
    " \n",
    "  \n",
    "# Driver Function\n",
    "n = 5\n",
    "print(sumOfSeries(n))"
   ]
  },
  {
   "cell_type": "code",
   "execution_count": 4,
   "id": "1da13248",
   "metadata": {},
   "outputs": [
    {
     "name": "stdout",
     "output_type": "stream",
     "text": [
      "Enter the roll number: 3\n",
      "Enter the name: shrey\n",
      "Enter the marks in the first subject: 3\n",
      "Enter the marks in the second subject: 3\n",
      "Enter the marks in the third subject: 3\n",
      "Roll Number is:  3\n",
      "Name is:  shrey\n",
      "Marks are:  [3, 3, 3]\n",
      "Total Marks are:  9\n",
      "Average Marks are:  3.0\n"
     ]
    }
   ],
   "source": [
    "class Student:\n",
    "    marks = []\n",
    "    def getData(self, rn, name, m1, m2, m3):\n",
    "        Student.rn = rn\n",
    "        Student.name = name\n",
    "        Student.marks.append(m1)\n",
    "        Student.marks.append(m2)\n",
    "        Student.marks.append(m3)\n",
    "        \n",
    "    def displayData(self):\n",
    "        print (\"Roll Number is: \", Student.rn)\n",
    "        print (\"Name is: \", Student.name)\n",
    "        #print (\"Marks in subject 1: \", Student.marks[0])\n",
    "        #print (\"Marks in subject 2: \", Student.marks[1])\n",
    "        #print (\"Marks in subject 3: \", Student.marks[2])\n",
    "        print (\"Marks are: \", Student.marks)\n",
    "        print (\"Total Marks are: \", self.total())\n",
    "        print (\"Average Marks are: \", self.average())\n",
    "        \n",
    "    def total(self):\n",
    "        return (Student.marks[0] + Student.marks[1] +Student.marks[2])\n",
    "    \n",
    "    def average(self):\n",
    "        return ((Student.marks[0] + Student.marks[1] +Student.marks[2])/3)\n",
    "    \n",
    "r = int (input(\"Enter the roll number: \"))\n",
    "name = input(\"Enter the name: \")\n",
    "m1 = int (input(\"Enter the marks in the first subject: \"))\n",
    "m2 = int (input(\"Enter the marks in the second subject: \"))\n",
    "m3 = int (input(\"Enter the marks in the third subject: \"))\n",
    "\n",
    "s1 = Student()\n",
    "s1.getData(r, name, m1, m2, m3)\n",
    "s1.displayData()"
   ]
  },
  {
   "cell_type": "code",
   "execution_count": 5,
   "id": "9c2807d9",
   "metadata": {},
   "outputs": [
    {
     "name": "stdout",
     "output_type": "stream",
     "text": [
      "Number of digits: 4\n"
     ]
    }
   ],
   "source": [
    "num = 3452\n",
    "count = 0\n",
    "\n",
    "while num != 0:\n",
    "    num //= 10\n",
    "    count += 1\n",
    "\n",
    "print(\"Number of digits: \" + str(count))"
   ]
  },
  {
   "cell_type": "code",
   "execution_count": 6,
   "id": "a34e814c",
   "metadata": {},
   "outputs": [
    {
     "name": "stdout",
     "output_type": "stream",
     "text": [
      "2654\n"
     ]
    }
   ],
   "source": [
    "n = 4562\n",
    "rev = 0\n",
    " \n",
    "while(n > 0):\n",
    "    a = n % 10\n",
    "    rev = rev * 10 + a\n",
    "    n = n // 10\n",
    " \n",
    "print(rev)"
   ]
  },
  {
   "cell_type": "code",
   "execution_count": null,
   "id": "1dce4b59",
   "metadata": {},
   "outputs": [],
   "source": []
  }
 ],
 "metadata": {
  "kernelspec": {
   "display_name": "Python 3 (ipykernel)",
   "language": "python",
   "name": "python3"
  },
  "language_info": {
   "codemirror_mode": {
    "name": "ipython",
    "version": 3
   },
   "file_extension": ".py",
   "mimetype": "text/x-python",
   "name": "python",
   "nbconvert_exporter": "python",
   "pygments_lexer": "ipython3",
   "version": "3.10.5"
  }
 },
 "nbformat": 4,
 "nbformat_minor": 5
}
