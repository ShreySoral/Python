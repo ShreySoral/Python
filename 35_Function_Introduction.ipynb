{
 "cells": [
  {
   "cell_type": "markdown",
   "id": "5c8081fe",
   "metadata": {},
   "source": [
    "## For Loop "
   ]
  },
  {
   "cell_type": "markdown",
   "id": "4e1e878a",
   "metadata": {},
   "source": [
    "    https://www.hackerrank.com/challenges/python-lists/problem"
   ]
  },
  {
   "cell_type": "code",
   "execution_count": 1,
   "id": "a634ebbd",
   "metadata": {},
   "outputs": [
    {
     "name": "stdout",
     "output_type": "stream",
     "text": [
      "3\n",
      "append 20\n",
      "insert 0 10\n",
      "print\n",
      "[10, 20]\n"
     ]
    }
   ],
   "source": [
    "n = int(input())\n",
    "arr = []\n",
    "\n",
    "for _ in range(n):\n",
    "    command = input().split() # \"print\"\n",
    "    # command = [\"print\"]\n",
    "    if command[0] == \"insert\":\n",
    "        i = int(command[1]) # 0\n",
    "        e = int(command[2]) # 6\n",
    "        arr.insert(i, e) # arr.insert(0, 6) # arr = [6, 5, 10]\n",
    "    elif command[0] == \"print\":\n",
    "        print(arr)\n",
    "    elif command[0] == \"remove\":\n",
    "        e = int(command[1])\n",
    "        arr.remove(e)\n",
    "    elif command[0] == \"append\":\n",
    "        e = int(command[1])\n",
    "        arr.append(e)\n",
    "    elif command[0] == \"pop\":\n",
    "        arr.pop()\n",
    "    elif command[0] == \"sort\":\n",
    "        arr.sort()\n",
    "    elif command[0] == \"reverse\":\n",
    "        arr.reverse()\n",
    "    else:\n",
    "        pass"
   ]
  },
  {
   "cell_type": "markdown",
   "id": "aba5fecb",
   "metadata": {},
   "source": [
    "#### Zip"
   ]
  },
  {
   "cell_type": "code",
   "execution_count": 93,
   "id": "8324e2c7",
   "metadata": {},
   "outputs": [
    {
     "name": "stdout",
     "output_type": "stream",
     "text": [
      "                 ram has scored 78.28% marks in test.\n",
      "                hari has scored 56.25% marks in test.\n",
      "               mohan has scored 76.56% marks in test.\n",
      "                sita has scored 98.34% marks in test.\n",
      "               geeta has scored 34.57% marks in test.\n"
     ]
    }
   ],
   "source": [
    "names =   [ \"ram\", \"hari\", \"mohan\", \"sita\", \"geeta\"]\n",
    "percent = [ 78.28,  56.25, 76.56,    98.34,  34.57]\n",
    "\n",
    "for n, p in zip(names, percent):\n",
    "    print(f\"{n:>20} has scored {p:.2f}% marks in test.\")\n"
   ]
  },
  {
   "cell_type": "code",
   "execution_count": 92,
   "id": "f859e6bd",
   "metadata": {},
   "outputs": [
    {
     "name": "stdout",
     "output_type": "stream",
     "text": [
      "('ram', 78.28)\n",
      "('hari', 56.25)\n",
      "('mohan', 76.56)\n",
      "('sita', 98.34)\n",
      "('geeta', 34.57)\n"
     ]
    }
   ],
   "source": [
    "print(*zip(names, percent), sep=\"\\n\")"
   ]
  },
  {
   "cell_type": "code",
   "execution_count": null,
   "id": "3cd97496",
   "metadata": {},
   "outputs": [],
   "source": []
  },
  {
   "cell_type": "code",
   "execution_count": 3,
   "id": "13fe5156",
   "metadata": {},
   "outputs": [],
   "source": [
    "names =   [ \"ram\", \"hari\", \"mohan\", \"sita\", \"geeta\"]\n",
    "percent = [ 78.28,  56.25, 76.56,    98.34,  34.57]\n",
    "#            0       1        2       3        4"
   ]
  },
  {
   "cell_type": "code",
   "execution_count": 4,
   "id": "88468d62",
   "metadata": {},
   "outputs": [
    {
     "name": "stdout",
     "output_type": "stream",
     "text": [
      "       Ram has scored 78.28 marks in test.\n",
      "      Hari has scored 56.25 marks in test.\n",
      "     Mohan has scored 76.56 marks in test.\n",
      "      Sita has scored 98.34 marks in test.\n",
      "     Geeta has scored 34.57 marks in test.\n"
     ]
    }
   ],
   "source": [
    "#               range(5) -> 0, 1, 2, 3, 4\n",
    "for i in range(len(names)):\n",
    "    n = names[i] # i = 0\n",
    "    p = percent[i] # i = 0\n",
    "    print(f\"{n.title():>10} has scored {p:.2f} marks in test.\")\n",
    "    \n",
    "    "
   ]
  },
  {
   "cell_type": "markdown",
   "id": "3af86e8d",
   "metadata": {},
   "source": [
    "    ram has scored 78.28% marks in test\n",
    "    hari has scored 56.25% marks in test\n",
    "    ..."
   ]
  },
  {
   "cell_type": "code",
   "execution_count": 7,
   "id": "5ff95897",
   "metadata": {},
   "outputs": [
    {
     "data": {
      "text/plain": [
       "3.142857142857143"
      ]
     },
     "execution_count": 7,
     "metadata": {},
     "output_type": "execute_result"
    }
   ],
   "source": [
    "22/7"
   ]
  },
  {
   "cell_type": "code",
   "execution_count": 15,
   "id": "0856cb59",
   "metadata": {},
   "outputs": [
    {
     "data": {
      "text/plain": [
       "8377"
      ]
     },
     "execution_count": 15,
     "metadata": {},
     "output_type": "execute_result"
    }
   ],
   "source": [
    "int(\"20B9\", 16)"
   ]
  },
  {
   "cell_type": "code",
   "execution_count": 16,
   "id": "d2928f0e",
   "metadata": {},
   "outputs": [
    {
     "data": {
      "text/plain": [
       "'₹'"
      ]
     },
     "execution_count": 16,
     "metadata": {},
     "output_type": "execute_result"
    }
   ],
   "source": [
    "chr(8377)"
   ]
  },
  {
   "cell_type": "code",
   "execution_count": 14,
   "id": "803e4db6",
   "metadata": {},
   "outputs": [
    {
     "name": "stdout",
     "output_type": "stream",
     "text": [
      "₹\n"
     ]
    }
   ],
   "source": [
    "print(\"\\u20B9\")"
   ]
  },
  {
   "cell_type": "code",
   "execution_count": 19,
   "id": "18b57376",
   "metadata": {},
   "outputs": [
    {
     "data": {
      "text/plain": [
       "1.2836273e-36"
      ]
     },
     "execution_count": 19,
     "metadata": {},
     "output_type": "execute_result"
    }
   ],
   "source": [
    "0.0000000000000000000000000000000000012836273"
   ]
  },
  {
   "cell_type": "code",
   "execution_count": 18,
   "id": "c34e80ab",
   "metadata": {},
   "outputs": [
    {
     "name": "stdout",
     "output_type": "stream",
     "text": [
      "1.100000e+01\n"
     ]
    }
   ],
   "source": [
    "x = 11\n",
    "print(f\"{x:e}\") # 0-9 a-f"
   ]
  },
  {
   "cell_type": "code",
   "execution_count": 17,
   "id": "a6949ffe",
   "metadata": {},
   "outputs": [
    {
     "name": "stdout",
     "output_type": "stream",
     "text": [
      "13\n"
     ]
    }
   ],
   "source": [
    "x = 11\n",
    "print(f\"{x:o}\") # 0-9 a-f"
   ]
  },
  {
   "cell_type": "code",
   "execution_count": 13,
   "id": "ba733b4b",
   "metadata": {},
   "outputs": [
    {
     "name": "stdout",
     "output_type": "stream",
     "text": [
      "b\n"
     ]
    }
   ],
   "source": [
    "x = 11\n",
    "print(f\"{x:x}\") # 0-9 a-f"
   ]
  },
  {
   "cell_type": "code",
   "execution_count": 10,
   "id": "dbbcc355",
   "metadata": {},
   "outputs": [
    {
     "name": "stdout",
     "output_type": "stream",
     "text": [
      "1000\n"
     ]
    }
   ],
   "source": [
    "x = 8\n",
    "print(f\"{x:b}\")"
   ]
  },
  {
   "cell_type": "code",
   "execution_count": 21,
   "id": "ec592e1c",
   "metadata": {},
   "outputs": [
    {
     "name": "stdout",
     "output_type": "stream",
     "text": [
      "42.000\n"
     ]
    }
   ],
   "source": [
    "x = 42\n",
    "\n",
    "print(f\"{x:.3f}\")"
   ]
  },
  {
   "cell_type": "code",
   "execution_count": 33,
   "id": "d3dd396a",
   "metadata": {},
   "outputs": [
    {
     "name": "stdout",
     "output_type": "stream",
     "text": [
      "->2.5<-\n",
      "->       2.5<-\n",
      "->2.5       <-\n",
      "->   2.5    <-\n"
     ]
    }
   ],
   "source": [
    "var = 2.5\n",
    "\n",
    "print(f\"->{var}<-\")\n",
    "print(f\"->{var:>10}<-\") # \"        42\"\n",
    "print(f\"->{var:<10}<-\") \n",
    "print(f\"->{var:^10}<-\") "
   ]
  },
  {
   "cell_type": "markdown",
   "id": "06ce9ca7",
   "metadata": {},
   "source": [
    "    d -> int\n",
    "    \n",
    "    f -> float\n",
    "    \n",
    "    x -> hexadecimal\n",
    "    \n",
    "    e -> exponent of 10\n",
    "    \n",
    "    b -> binary"
   ]
  },
  {
   "cell_type": "code",
   "execution_count": 41,
   "id": "c6f26bdf",
   "metadata": {},
   "outputs": [
    {
     "name": "stdout",
     "output_type": "stream",
     "text": [
      "42.93\n"
     ]
    }
   ],
   "source": [
    "var = 42.9329834798374372894289493489348937\n",
    "# pricision points\n",
    "print(f\"{var:.2f}\")"
   ]
  },
  {
   "cell_type": "code",
   "execution_count": null,
   "id": "8998ab55",
   "metadata": {},
   "outputs": [],
   "source": []
  },
  {
   "cell_type": "code",
   "execution_count": 44,
   "id": "f248fa67",
   "metadata": {},
   "outputs": [
    {
     "data": {
      "text/plain": [
       "423"
      ]
     },
     "execution_count": 44,
     "metadata": {},
     "output_type": "execute_result"
    }
   ],
   "source": [
    "423\n",
    "\n",
    "\n"
   ]
  },
  {
   "cell_type": "code",
   "execution_count": 45,
   "id": "45815c65",
   "metadata": {},
   "outputs": [
    {
     "data": {
      "text/plain": [
       "423.0"
      ]
     },
     "execution_count": 45,
     "metadata": {},
     "output_type": "execute_result"
    }
   ],
   "source": [
    "0.423*10**3"
   ]
  },
  {
   "cell_type": "code",
   "execution_count": 49,
   "id": "4a11c279",
   "metadata": {},
   "outputs": [
    {
     "name": "stdout",
     "output_type": "stream",
     "text": [
      "inf\n"
     ]
    }
   ],
   "source": [
    "value = 1e10000\n",
    "print(value)"
   ]
  },
  {
   "cell_type": "code",
   "execution_count": 50,
   "id": "ff73e26a",
   "metadata": {},
   "outputs": [
    {
     "name": "stdout",
     "output_type": "stream",
     "text": [
      "0.123\n"
     ]
    }
   ],
   "source": [
    "value = 123e-3 # 123/1000\n",
    "print(value)"
   ]
  },
  {
   "cell_type": "code",
   "execution_count": 52,
   "id": "636604bb",
   "metadata": {},
   "outputs": [
    {
     "name": "stdout",
     "output_type": "stream",
     "text": [
      "2.3e-13\n",
      "2.3e-10\n"
     ]
    }
   ],
   "source": [
    "a = 0.00000000000023\n",
    "b = 0.0000000002300\n",
    "print(a)\n",
    "print(b)"
   ]
  },
  {
   "cell_type": "code",
   "execution_count": null,
   "id": "810236ee",
   "metadata": {},
   "outputs": [],
   "source": []
  },
  {
   "cell_type": "code",
   "execution_count": 48,
   "id": "383a9be8",
   "metadata": {},
   "outputs": [
    {
     "name": "stdout",
     "output_type": "stream",
     "text": [
      "1.23e-10\n"
     ]
    }
   ],
   "source": [
    "x = 0.00000000012302323\n",
    "print(f\"{x:.2e}\") # 1.23*10**-10\n",
    "# 0.00000000000123"
   ]
  },
  {
   "cell_type": "code",
   "execution_count": 43,
   "id": "2096b3fd",
   "metadata": {},
   "outputs": [
    {
     "name": "stdout",
     "output_type": "stream",
     "text": [
      "42\n",
      "42.00\n",
      "2a\n",
      "4.20e+01\n",
      "101010\n"
     ]
    }
   ],
   "source": [
    "var = 42\n",
    "print(f\"{var:d}\")\n",
    "print(f\"{var:.2f}\")\n",
    "print(f\"{var:x}\")\n",
    "print(f\"{var:.2e}\")\n",
    "print(f\"{var:b}\")"
   ]
  },
  {
   "cell_type": "code",
   "execution_count": null,
   "id": "2b33c766",
   "metadata": {},
   "outputs": [],
   "source": []
  },
  {
   "cell_type": "code",
   "execution_count": 69,
   "id": "b4316383",
   "metadata": {},
   "outputs": [
    {
     "name": "stdout",
     "output_type": "stream",
     "text": [
      "00001\n",
      "00010\n",
      "00011\n",
      "00100\n",
      "00101\n",
      "00110\n",
      "00111\n",
      "01000\n",
      "01001\n",
      "01010\n",
      "01011\n",
      "01100\n",
      "01101\n",
      "01110\n",
      "01111\n",
      "10000\n",
      "10001\n",
      "10010\n",
      "10011\n"
     ]
    }
   ],
   "source": [
    "for i in range(1, 20):\n",
    "    #print(f\"{i:>5b}\")\n",
    "    print(f\"{i:b}\".zfill(5))"
   ]
  },
  {
   "cell_type": "code",
   "execution_count": 63,
   "id": "2650ff98",
   "metadata": {},
   "outputs": [
    {
     "name": "stdout",
     "output_type": "stream",
     "text": [
      "        11\n"
     ]
    }
   ],
   "source": [
    "var = 3\n",
    "print(f\"{var:>10b}\")  # 10.2 < < ^  d e x f"
   ]
  },
  {
   "cell_type": "code",
   "execution_count": 60,
   "id": "2a014707",
   "metadata": {},
   "outputs": [
    {
     "name": "stdout",
     "output_type": "stream",
     "text": [
      "'     10.23'\n"
     ]
    }
   ],
   "source": [
    "var = 10.23483947358\n",
    "\n",
    "print(f\"'{var:>10.2f}'\")"
   ]
  },
  {
   "cell_type": "code",
   "execution_count": 8,
   "id": "49708835",
   "metadata": {},
   "outputs": [
    {
     "name": "stdout",
     "output_type": "stream",
     "text": [
      "3.2938284394844\n",
      "3.29\n",
      "3.2938\n"
     ]
    }
   ],
   "source": [
    "x = 3.2938284394844\n",
    "# precision values\n",
    "print(f\"{x}\")\n",
    "print(f\"{x:.2f}\")\n",
    "print(f\"{x:.4f}\")"
   ]
  },
  {
   "cell_type": "code",
   "execution_count": 70,
   "id": "f0e1a2d8",
   "metadata": {},
   "outputs": [],
   "source": [
    "proudct = [\"iphone 12\", \"iphone 13\", \"iphone14\", \"samsung zfilp\" ]\n",
    "qty = [10, 20, 5, 10]\n",
    "purchase_price = [40000, 50000, 70000, 70000]\n",
    "sell_price = [50000, 650000, 80000, 80000]\n"
   ]
  },
  {
   "cell_type": "markdown",
   "id": "f118fb09",
   "metadata": {},
   "source": [
    "    # rowsize = 62\n",
    "    <------20---><--6--><---10---><--10---><----10--->\n",
    "    __________________________________________________\n",
    "    |    Name    |  Qty |  Price  |  SP   |  Profit  |\n",
    "    __________________________________________________\n",
    "    | iphone 12  |   10 |  40000  | 50000 |  100000  |\n",
    "    --------------------------------------------------\n",
    "    | iphone 13  |   20 |  50000  | 65000 |  300000  |\n",
    "    --------------------------------------------------\n",
    "    | iphone 14  |   5  |  70000  | 80000 |  50000   |\n",
    "    --------------------------------------------------\n",
    "    | sam zfilp  |   10 |  70000  | 80000 |  100000  |\n",
    "    --------------------------------------------------\n",
    "                Total Profit = 550000₹\n",
    "    __________________________________________________\n",
    "    \n",
    "    "
   ]
  },
  {
   "cell_type": "markdown",
   "id": "942f6301",
   "metadata": {},
   "source": [
    "    zip - it is used to merge two or more iterables"
   ]
  },
  {
   "cell_type": "code",
   "execution_count": 72,
   "id": "68009965",
   "metadata": {},
   "outputs": [],
   "source": [
    "english = [\"one\", \"two\", \"three\"]\n",
    "hindi   = [\"ek\",  \"dou\", \"teen\" ]\n",
    "nums    = [ 1,      2,      3]"
   ]
  },
  {
   "cell_type": "code",
   "execution_count": 75,
   "id": "743fc77e",
   "metadata": {},
   "outputs": [
    {
     "name": "stdout",
     "output_type": "stream",
     "text": [
      "|  1   |    one     |     ek    |\n",
      "|  2   |    two     |    dou    |\n",
      "|  3   |   three    |    teen   |\n"
     ]
    }
   ],
   "source": [
    "for i in range(len(english)):\n",
    "    print(f\"|{nums[i]:^5} | {english[i]:^10} | {hindi[i]:^10}|\")\n",
    "    "
   ]
  },
  {
   "cell_type": "code",
   "execution_count": null,
   "id": "8a6efd40",
   "metadata": {},
   "outputs": [],
   "source": []
  },
  {
   "cell_type": "code",
   "execution_count": 83,
   "id": "940b42f3",
   "metadata": {},
   "outputs": [
    {
     "name": "stdout",
     "output_type": "stream",
     "text": [
      "(1, 'one', 'ek') (2, 'two', 'dou') (3, 'three', 'teen')\n"
     ]
    }
   ],
   "source": [
    "one = [1, 2, 3]\n",
    "two = ['one', 'two', 'three']\n",
    "three = ['ek', 'dou', 'teen']\n",
    "z = zip(one, two, three)\n",
    "# lazy object / single time usable\n",
    "print(*z)"
   ]
  },
  {
   "cell_type": "code",
   "execution_count": 87,
   "id": "5282e33f",
   "metadata": {},
   "outputs": [],
   "source": [
    "one = [1, 2, 3]\n",
    "two = ['one', 'two', 'three']\n",
    "three = ['ek', 'dou', 'teen']"
   ]
  },
  {
   "cell_type": "code",
   "execution_count": 90,
   "id": "ad794e6d",
   "metadata": {},
   "outputs": [
    {
     "name": "stdout",
     "output_type": "stream",
     "text": [
      "1 is one is ek\n",
      "2 is two is dou\n",
      "3 is three is teen\n"
     ]
    }
   ],
   "source": [
    "for a, b, c in zip(one, two, three):\n",
    "    print(f\"{a} is {b} is {c}\")"
   ]
  },
  {
   "cell_type": "code",
   "execution_count": null,
   "id": "b6efb4a6",
   "metadata": {},
   "outputs": [],
   "source": []
  },
  {
   "cell_type": "code",
   "execution_count": 88,
   "id": "5284cf5f",
   "metadata": {},
   "outputs": [
    {
     "name": "stdout",
     "output_type": "stream",
     "text": [
      "(1, 'one', 'ek')\n",
      "(2, 'two', 'dou')\n",
      "(3, 'three', 'teen')\n"
     ]
    }
   ],
   "source": [
    "for value in zip(one, two, three):\n",
    "    print(value) # "
   ]
  },
  {
   "cell_type": "code",
   "execution_count": 110,
   "id": "3f82304b",
   "metadata": {},
   "outputs": [
    {
     "name": "stdout",
     "output_type": "stream",
     "text": [
      "tea maiyai r\n",
      "i sk d a yko\n",
      "mpsapajdkaa \n"
     ]
    }
   ],
   "source": [
    "s = \"time pass kam padai jyada kiya karo \"\n",
    "\n",
    "a = []\n",
    "b = []\n",
    "c = []\n",
    "\n",
    "i = 0\n",
    "while i < len(s):\n",
    "    try:\n",
    "        a.append(s[i])\n",
    "        i+=1\n",
    "        b.append(s[i])\n",
    "        i+=1\n",
    "        c.append(s[i])\n",
    "        i+=1\n",
    "    except IndexError:\n",
    "        break\n",
    "        \n",
    "a = \"\".join(a)\n",
    "b = \"\".join(b)\n",
    "c = \"\".join(c)\n",
    "print(a)\n",
    "print(b)\n",
    "print(c)"
   ]
  },
  {
   "cell_type": "code",
   "execution_count": null,
   "id": "b761ead5",
   "metadata": {},
   "outputs": [],
   "source": []
  },
  {
   "cell_type": "code",
   "execution_count": null,
   "id": "be69e619",
   "metadata": {},
   "outputs": [],
   "source": []
  },
  {
   "cell_type": "code",
   "execution_count": 112,
   "id": "830beb32",
   "metadata": {},
   "outputs": [
    {
     "name": "stdout",
     "output_type": "stream",
     "text": [
      "time pass kam padai jyada kiya karo "
     ]
    }
   ],
   "source": [
    "a = 'tea maiyai r'\n",
    "b = 'i sk d a yko'\n",
    "c = 'mpsapajdkaa '\n",
    "\n",
    "for c1, c2, c3 in zip(a, b, c):\n",
    "    print(c1+c2+c3, end=\"\")"
   ]
  },
  {
   "cell_type": "code",
   "execution_count": null,
   "id": "f849b926",
   "metadata": {},
   "outputs": [],
   "source": []
  },
  {
   "cell_type": "code",
   "execution_count": 113,
   "id": "5f3a2874",
   "metadata": {},
   "outputs": [
    {
     "name": "stdout",
     "output_type": "stream",
     "text": [
      "aai e\n",
      "p mag\n",
      "nteya\n"
     ]
    }
   ],
   "source": [
    "s = \"apna time ayega\"\n",
    "\n",
    "a = []\n",
    "b = []\n",
    "c = []\n",
    "\n",
    "i = 0\n",
    "while i < len(s):\n",
    "    try:\n",
    "        a.append(s[i])\n",
    "        i+=1\n",
    "        b.append(s[i])\n",
    "        i+=1\n",
    "        c.append(s[i])\n",
    "        i+=1\n",
    "    except IndexError:\n",
    "        break\n",
    "        \n",
    "a = \"\".join(a)\n",
    "b = \"\".join(b)\n",
    "c = \"\".join(c)\n",
    "print(a)\n",
    "print(b)\n",
    "print(c)"
   ]
  },
  {
   "cell_type": "code",
   "execution_count": null,
   "id": "22b87a6c",
   "metadata": {},
   "outputs": [],
   "source": []
  }
 ],
 "metadata": {
  "kernelspec": {
   "display_name": "Python 3 (ipykernel)",
   "language": "python",
   "name": "python3"
  },
  "language_info": {
   "codemirror_mode": {
    "name": "ipython",
    "version": 3
   },
   "file_extension": ".py",
   "mimetype": "text/x-python",
   "name": "python",
   "nbconvert_exporter": "python",
   "pygments_lexer": "ipython3",
   "version": "3.9.12"
  }
 },
 "nbformat": 4,
 "nbformat_minor": 5
}
