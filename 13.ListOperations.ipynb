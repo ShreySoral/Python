{
 "cells": [
  {
   "cell_type": "code",
   "execution_count": 1,
   "id": "bf9b5127",
   "metadata": {},
   "outputs": [],
   "source": [
    "def hello(name):\n",
    "    print(\"Hello World!\",  name)"
   ]
  },
  {
   "cell_type": "code",
   "execution_count": 2,
   "id": "a9370aa5",
   "metadata": {},
   "outputs": [
    {
     "name": "stdout",
     "output_type": "stream",
     "text": [
      "Hello World! Sachin\n"
     ]
    }
   ],
   "source": [
    "hello(\"Sachin\")"
   ]
  },
  {
   "cell_type": "code",
   "execution_count": 3,
   "id": "fda70023",
   "metadata": {},
   "outputs": [
    {
     "name": "stdout",
     "output_type": "stream",
     "text": [
      "Hello World! Raman Garg\n"
     ]
    }
   ],
   "source": [
    "hello(\"Raman Garg\")"
   ]
  },
  {
   "cell_type": "code",
   "execution_count": 5,
   "id": "54528e19",
   "metadata": {},
   "outputs": [],
   "source": [
    "data = [\n",
    "    [\"Sachin\", 56], # 0\n",
    "    [\"Rajat\", 76],  # 1\n",
    "    [\"Ravi\", 67],   # 2\n",
    "    [\"Nidhi\", 75],  # 3\n",
    "    [\"Shivani\", 88] # 4\n",
    "    # 0          1\n",
    "]\n",
    "# nested lists "
   ]
  },
  {
   "cell_type": "code",
   "execution_count": 21,
   "id": "2126643f",
   "metadata": {},
   "outputs": [],
   "source": [
    "data[0][1] += 10"
   ]
  },
  {
   "cell_type": "code",
   "execution_count": 22,
   "id": "a61528c6",
   "metadata": {},
   "outputs": [
    {
     "name": "stdout",
     "output_type": "stream",
     "text": [
      "[['Sachin', 66], ['Rajat', 76], ['Ravi', 67], ['Nidhi', 75], ['Shivani', 88]]\n"
     ]
    }
   ],
   "source": [
    "from pprint import pprint\n",
    "pprint(data)"
   ]
  },
  {
   "cell_type": "code",
   "execution_count": 27,
   "id": "5c86ba70",
   "metadata": {},
   "outputs": [
    {
     "data": {
      "text/plain": [
       "'v'"
      ]
     },
     "execution_count": 27,
     "metadata": {},
     "output_type": "execute_result"
    }
   ],
   "source": [
    "# v ?\n",
    "data[4][0][3]"
   ]
  },
  {
   "cell_type": "code",
   "execution_count": 28,
   "id": "b62a7472",
   "metadata": {},
   "outputs": [],
   "source": [
    "data[4][0] = \"Shikani\""
   ]
  },
  {
   "cell_type": "code",
   "execution_count": 29,
   "id": "719117b3",
   "metadata": {},
   "outputs": [
    {
     "name": "stdout",
     "output_type": "stream",
     "text": [
      "[['Sachin', 66], ['Rajat', 76], ['Ravi', 67], ['Nidhi', 75], ['Shikani', 88]]\n"
     ]
    }
   ],
   "source": [
    "pprint(data)"
   ]
  },
  {
   "cell_type": "code",
   "execution_count": 33,
   "id": "4e211c5f",
   "metadata": {},
   "outputs": [],
   "source": [
    "data = [\n",
    "    [\"Sachin\", 56], # 0\n",
    "    [\"Rajat\", 76],  # 1\n",
    "    [\"Ravi\", 67],   # 2\n",
    "    [\"Nidhi\", 75],  # 3\n",
    "    [\"Shivani\", 88], # 4\n",
    "    [\"Shubham\", 64],\n",
    "    [\"Ram\", 84]\n",
    "    # 0          1\n",
    "]\n",
    "# nested lists "
   ]
  },
  {
   "cell_type": "code",
   "execution_count": 34,
   "id": "0febe613",
   "metadata": {},
   "outputs": [],
   "source": [
    "data.sort()"
   ]
  },
  {
   "cell_type": "code",
   "execution_count": 35,
   "id": "51c851c6",
   "metadata": {},
   "outputs": [
    {
     "name": "stdout",
     "output_type": "stream",
     "text": [
      "[['Nidhi', 75],\n",
      " ['Rajat', 76],\n",
      " ['Ram', 84],\n",
      " ['Ravi', 67],\n",
      " ['Sachin', 56],\n",
      " ['Shivani', 88],\n",
      " ['Shubham', 64]]\n"
     ]
    }
   ],
   "source": [
    "pprint(data)"
   ]
  },
  {
   "cell_type": "markdown",
   "id": "2adb0045",
   "metadata": {},
   "source": [
    "    input() -> \"data\"\n",
    "    print() -> None\n",
    "\n",
    "    'hello'.upper() -> \"Hello\"\n",
    "\n",
    "    [1, 2, 3].append(4) -> None"
   ]
  },
  {
   "cell_type": "code",
   "execution_count": 46,
   "id": "30fdf5c5",
   "metadata": {},
   "outputs": [],
   "source": [
    "def add(x, y):\n",
    "    return (x*x) + (y*y)"
   ]
  },
  {
   "cell_type": "code",
   "execution_count": 47,
   "id": "0b56d747",
   "metadata": {},
   "outputs": [
    {
     "name": "stdout",
     "output_type": "stream",
     "text": [
      "41\n"
     ]
    }
   ],
   "source": [
    "r = add(4, 5)\n",
    "print(r)"
   ]
  },
  {
   "cell_type": "code",
   "execution_count": 41,
   "id": "e65ea91a",
   "metadata": {},
   "outputs": [
    {
     "data": {
      "text/plain": [
       "'e'"
      ]
     },
     "execution_count": 41,
     "metadata": {},
     "output_type": "execute_result"
    }
   ],
   "source": [
    "get_key(\"hello\")"
   ]
  },
  {
   "cell_type": "code",
   "execution_count": 59,
   "id": "9b211761",
   "metadata": {},
   "outputs": [
    {
     "data": {
      "text/plain": [
       "15"
      ]
     },
     "execution_count": 59,
     "metadata": {},
     "output_type": "execute_result"
    }
   ],
   "source": [
    "sum([4, 8, 3])"
   ]
  },
  {
   "cell_type": "code",
   "execution_count": 66,
   "id": "3dfda6f6",
   "metadata": {},
   "outputs": [],
   "source": [
    "def get_key(item):\n",
    "    # item = [\"Sachin\", 56, 67, 87]\n",
    "    return item[1] + item[2] + item[3]\n",
    "    #return 56+67+87\n",
    "    \n",
    "def get_key(item):\n",
    "    return sum(item[1:])"
   ]
  },
  {
   "cell_type": "code",
   "execution_count": 67,
   "id": "20eea42d",
   "metadata": {},
   "outputs": [],
   "source": [
    "data = [\n",
    "    [\"Sachin\", 56, 67, 87], # 0\n",
    "    [\"Rajat\", 76, 45, 76],  # 1\n",
    "    [\"Ravi\", 67, 82, 65],   # 2\n",
    "    [\"Nidhi\", 75, 77, 98],  # 3\n",
    "    [\"Shivani\", 88, 57, 45], # 4\n",
    "    [\"Shubham\", 64, 67, 56],\n",
    "    [\"Ram\", 84, 45, 67]\n",
    "    # 0          1\n",
    "]\n",
    "# nested lists "
   ]
  },
  {
   "cell_type": "code",
   "execution_count": 68,
   "id": "90c288ea",
   "metadata": {},
   "outputs": [
    {
     "name": "stdout",
     "output_type": "stream",
     "text": [
      "[['Nidhi', 75, 77, 98],\n",
      " ['Ravi', 67, 82, 65],\n",
      " ['Sachin', 56, 67, 87],\n",
      " ['Rajat', 76, 45, 76],\n",
      " ['Ram', 84, 45, 67],\n",
      " ['Shivani', 88, 57, 45],\n",
      " ['Shubham', 64, 67, 56]]\n"
     ]
    }
   ],
   "source": [
    "data.sort(key=get_key, reverse=True)\n",
    "pprint(data)"
   ]
  },
  {
   "cell_type": "code",
   "execution_count": 70,
   "id": "0baf35ee",
   "metadata": {},
   "outputs": [],
   "source": [
    "def get_key(item):\n",
    "    #  ['apple iphone', 10, 50000, 70000]\n",
    "    profit = item[3] - item[2]\n",
    "    qty = item[1]\n",
    "    return qty*profit"
   ]
  },
  {
   "cell_type": "code",
   "execution_count": 74,
   "id": "03d02da0",
   "metadata": {},
   "outputs": [],
   "source": [
    "def get_key(item):\n",
    "    return item[1] * (item[3]-item[2])"
   ]
  },
  {
   "cell_type": "code",
   "execution_count": 75,
   "id": "6cce4533",
   "metadata": {},
   "outputs": [],
   "source": [
    "products = [\n",
    "    # product name, quantity, actual price, selling price\n",
    "    ['apple iphone', 10, 50000, 70000],\n",
    "    ['samsung s22', 15, 60000, 65000],\n",
    "    ['oneplus 10', 20, 40000, 35000],\n",
    "    ['oppo find X pro', 20, 35000, 37000]\n",
    "]"
   ]
  },
  {
   "cell_type": "code",
   "execution_count": 77,
   "id": "a66a6c97",
   "metadata": {},
   "outputs": [
    {
     "name": "stdout",
     "output_type": "stream",
     "text": [
      "[['apple iphone', 10, 50000, 70000],\n",
      " ['samsung s22', 15, 60000, 65000],\n",
      " ['oppo find X pro', 20, 35000, 37000],\n",
      " ['oneplus 10', 20, 40000, 35000]]\n"
     ]
    }
   ],
   "source": [
    "products.sort(key=lambda item: item[1] * (item[3]-item[2]) , reverse=True)\n",
    "pprint(products)"
   ]
  },
  {
   "cell_type": "code",
   "execution_count": 76,
   "id": "6e8fdfc5",
   "metadata": {},
   "outputs": [
    {
     "name": "stdout",
     "output_type": "stream",
     "text": [
      "[['apple iphone', 10, 50000, 70000],\n",
      " ['samsung s22', 15, 60000, 65000],\n",
      " ['oppo find X pro', 20, 35000, 37000],\n",
      " ['oneplus 10', 20, 40000, 35000]]\n"
     ]
    }
   ],
   "source": [
    "products.sort(key=get_key, reverse=True)\n",
    "pprint(products)"
   ]
  },
  {
   "cell_type": "code",
   "execution_count": 80,
   "id": "245ba977",
   "metadata": {},
   "outputs": [
    {
     "name": "stdout",
     "output_type": "stream",
     "text": [
      "append\n",
      "clear\n",
      "copy\n",
      "count\n",
      "extend\n",
      "index\n",
      "insert\n",
      "pop\n",
      "remove\n",
      "reverse\n",
      "sort\n"
     ]
    }
   ],
   "source": [
    "print(*dir(list)[-11:], sep='\\n')"
   ]
  },
  {
   "cell_type": "code",
   "execution_count": 94,
   "id": "0d30fe11",
   "metadata": {},
   "outputs": [],
   "source": [
    "from random import randint\n",
    "\n",
    "nums = [ randint(10, 100) for _ in range(30)]"
   ]
  },
  {
   "cell_type": "code",
   "execution_count": 95,
   "id": "7c06c407",
   "metadata": {},
   "outputs": [
    {
     "name": "stdout",
     "output_type": "stream",
     "text": [
      "[16, 68, 55, 96, 49, 92, 33, 71, 53, 31, 85, 42, 97, 86, 14, 99, 93, 50, 85, 23, 93, 49, 97, 36, 54, 71, 95, 57, 100, 58]\n"
     ]
    }
   ],
   "source": [
    "print(nums)"
   ]
  },
  {
   "cell_type": "code",
   "execution_count": 97,
   "id": "3d601baf",
   "metadata": {},
   "outputs": [
    {
     "name": "stdout",
     "output_type": "stream",
     "text": [
      "2\n"
     ]
    }
   ],
   "source": [
    "c = nums.count(85)\n",
    "print(c)"
   ]
  },
  {
   "cell_type": "code",
   "execution_count": 96,
   "id": "c8756c52",
   "metadata": {},
   "outputs": [
    {
     "name": "stdout",
     "output_type": "stream",
     "text": [
      "10\n"
     ]
    }
   ],
   "source": [
    "i = nums.index(85)\n",
    "print(i)"
   ]
  },
  {
   "cell_type": "code",
   "execution_count": 98,
   "id": "4ea16928",
   "metadata": {},
   "outputs": [
    {
     "name": "stdout",
     "output_type": "stream",
     "text": [
      "18\n"
     ]
    }
   ],
   "source": [
    "i = nums.index(85, 11)\n",
    "print(i)"
   ]
  },
  {
   "cell_type": "code",
   "execution_count": 92,
   "id": "709a969e",
   "metadata": {},
   "outputs": [
    {
     "name": "stdout",
     "output_type": "stream",
     "text": [
      "['fifth', 4, 'third', 2, 'first']\n"
     ]
    }
   ],
   "source": [
    "s = ['first', 2, 'third', 4, 'fifth']\n",
    "# s[::-1] -> new list -> copy of original list in reverse order\n",
    "\n",
    "ns = s[::-1]\n",
    "print(ns)"
   ]
  },
  {
   "cell_type": "code",
   "execution_count": 93,
   "id": "62062df3",
   "metadata": {},
   "outputs": [
    {
     "name": "stdout",
     "output_type": "stream",
     "text": [
      "['fifth', 4, 'third', 2, 'first']\n"
     ]
    }
   ],
   "source": [
    "s = ['first', 2, 'third', 4, 'fifth']\n",
    "# s[::-1] -> new list -> copy of original list in reverse order\n",
    "s.reverse()\n",
    "print(ns)"
   ]
  },
  {
   "cell_type": "code",
   "execution_count": null,
   "id": "4f8ceebe",
   "metadata": {},
   "outputs": [],
   "source": []
  },
  {
   "cell_type": "code",
   "execution_count": 87,
   "id": "eb5f4fe9",
   "metadata": {},
   "outputs": [
    {
     "name": "stdout",
     "output_type": "stream",
     "text": [
      "x:  [1, 2, 3, 4, 10]\n",
      "y:  [1, 2, 3, 4]\n"
     ]
    }
   ],
   "source": [
    "x = [1, 2, 3, 4]\n",
    "y = x.copy()\n",
    "x.append(10)\n",
    "print(\"x: \", x) # x = [1, 2, 3, 4, 10]\n",
    "print(\"y: \", y) # y = [1, 2, 3, 4]"
   ]
  },
  {
   "cell_type": "code",
   "execution_count": 88,
   "id": "8a6d5a18",
   "metadata": {},
   "outputs": [
    {
     "name": "stdout",
     "output_type": "stream",
     "text": [
      "x:  [1, 2, 3, 4, 10]\n",
      "y:  [1, 2, 3, 4, 10]\n"
     ]
    }
   ],
   "source": [
    "x = [1, 2, 3, 4]\n",
    "y = x\n",
    "x.append(10)\n",
    "print(\"x: \", x) # x = [1, 2, 3, 4, 10]\n",
    "print(\"y: \", y) # y = [1, 2, 3, 4]"
   ]
  },
  {
   "cell_type": "code",
   "execution_count": null,
   "id": "17a5542b",
   "metadata": {},
   "outputs": [],
   "source": []
  },
  {
   "cell_type": "code",
   "execution_count": 84,
   "id": "8d8049da",
   "metadata": {},
   "outputs": [
    {
     "name": "stdout",
     "output_type": "stream",
     "text": [
      "x:  20\n",
      "y:  10\n"
     ]
    }
   ],
   "source": [
    "x = 10\n",
    "y = x\n",
    "\n",
    "x = 20\n",
    "\n",
    "print(\"x: \", x)\n",
    "print(\"y: \", y)"
   ]
  },
  {
   "cell_type": "code",
   "execution_count": null,
   "id": "267d6d10",
   "metadata": {},
   "outputs": [],
   "source": []
  },
  {
   "cell_type": "code",
   "execution_count": null,
   "id": "f03c4f81",
   "metadata": {},
   "outputs": [],
   "source": []
  },
  {
   "cell_type": "code",
   "execution_count": 86,
   "id": "2c1560a7",
   "metadata": {},
   "outputs": [
    {
     "name": "stdout",
     "output_type": "stream",
     "text": [
      "x:  []\n",
      "y:  []\n"
     ]
    }
   ],
   "source": [
    "x = [1, 2, 3, 4]\n",
    "y = x\n",
    "\n",
    "x.clear()\n",
    "\n",
    "print(\"x: \", x) # x = [1, 2, 3, 4, 10]\n",
    "print(\"y: \", y) # y = [1, 2, 3, 4]"
   ]
  },
  {
   "cell_type": "code",
   "execution_count": 85,
   "id": "b157097b",
   "metadata": {},
   "outputs": [
    {
     "name": "stdout",
     "output_type": "stream",
     "text": [
      "x:  [1, 2, 3, 4, 10]\n",
      "y:  [1, 2, 3, 4, 10]\n"
     ]
    }
   ],
   "source": [
    "x = [1, 2, 3, 4]\n",
    "y = x\n",
    "\n",
    "x.append(10)\n",
    "\n",
    "print(\"x: \", x) # x = [1, 2, 3, 4, 10]\n",
    "print(\"y: \", y) # y = [1, 2, 3, 4]"
   ]
  },
  {
   "cell_type": "code",
   "execution_count": null,
   "id": "893f4b44",
   "metadata": {},
   "outputs": [],
   "source": []
  },
  {
   "cell_type": "code",
   "execution_count": null,
   "id": "cf73eff8",
   "metadata": {},
   "outputs": [],
   "source": []
  },
  {
   "cell_type": "markdown",
   "id": "4a976b15",
   "metadata": {},
   "source": [
    "    Shallow Copy & Deep Copy\n",
    "    "
   ]
  },
  {
   "cell_type": "code",
   "execution_count": 83,
   "id": "aadf0d8e",
   "metadata": {},
   "outputs": [
    {
     "name": "stdout",
     "output_type": "stream",
     "text": [
      "before:  [1, 5, 3, 3, 24, 34, 5, 34, 32, 4, 65, 32]\n",
      "after:  []\n"
     ]
    }
   ],
   "source": [
    "nums = [ 1, 5,3, 3, 24,34, 5,34, 32,4 ,65, 32]\n",
    "print('before: ', nums)\n",
    "nums.clear()\n",
    "\n",
    "print('after: ', nums)"
   ]
  },
  {
   "cell_type": "markdown",
   "id": "cac94466",
   "metadata": {},
   "source": [
    "## Tuple \n",
    "\n",
    "\n",
    "    Immutable List\n",
    "    "
   ]
  },
  {
   "cell_type": "code",
   "execution_count": 99,
   "id": "a37b551c",
   "metadata": {},
   "outputs": [],
   "source": [
    "t = (10, 20, 30)"
   ]
  },
  {
   "cell_type": "code",
   "execution_count": 100,
   "id": "3a52f4ee",
   "metadata": {},
   "outputs": [
    {
     "ename": "TypeError",
     "evalue": "'tuple' object does not support item assignment",
     "output_type": "error",
     "traceback": [
      "\u001b[1;31m---------------------------------------------------------------------------\u001b[0m",
      "\u001b[1;31mTypeError\u001b[0m                                 Traceback (most recent call last)",
      "Input \u001b[1;32mIn [100]\u001b[0m, in \u001b[0;36m<cell line: 1>\u001b[1;34m()\u001b[0m\n\u001b[1;32m----> 1\u001b[0m t[\u001b[38;5;241m1\u001b[39m] \u001b[38;5;241m=\u001b[39m \u001b[38;5;241m20\u001b[39m\n",
      "\u001b[1;31mTypeError\u001b[0m: 'tuple' object does not support item assignment"
     ]
    }
   ],
   "source": [
    "t[1] = 20"
   ]
  },
  {
   "cell_type": "code",
   "execution_count": 101,
   "id": "fbabc9f8",
   "metadata": {},
   "outputs": [
    {
     "name": "stdout",
     "output_type": "stream",
     "text": [
      "['__add__', '__class__', '__class_getitem__', '__contains__', '__delattr__', '__dir__', '__doc__', '__eq__', '__format__', '__ge__', '__getattribute__', '__getitem__', '__getnewargs__', '__gt__', '__hash__', '__init__', '__init_subclass__', '__iter__', '__le__', '__len__', '__lt__', '__mul__', '__ne__', '__new__', '__reduce__', '__reduce_ex__', '__repr__', '__rmul__', '__setattr__', '__sizeof__', '__str__', '__subclasshook__', 'count', 'index']\n"
     ]
    }
   ],
   "source": [
    "print(dir(t))"
   ]
  },
  {
   "cell_type": "markdown",
   "id": "e80de670",
   "metadata": {},
   "source": [
    "    Dictionary\n",
    "    Set "
   ]
  },
  {
   "cell_type": "code",
   "execution_count": null,
   "id": "1a37f8ac",
   "metadata": {},
   "outputs": [],
   "source": []
  }
 ],
 "metadata": {
  "kernelspec": {
   "display_name": "Python 3 (ipykernel)",
   "language": "python",
   "name": "python3"
  },
  "language_info": {
   "codemirror_mode": {
    "name": "ipython",
    "version": 3
   },
   "file_extension": ".py",
   "mimetype": "text/x-python",
   "name": "python",
   "nbconvert_exporter": "python",
   "pygments_lexer": "ipython3",
   "version": "3.9.12"
  }
 },
 "nbformat": 4,
 "nbformat_minor": 5
}
