{
 "cells": [
  {
   "cell_type": "markdown",
   "id": "e8af273c",
   "metadata": {},
   "source": [
    "### Functions"
   ]
  },
  {
   "cell_type": "code",
   "execution_count": 3,
   "id": "6a29a4b1",
   "metadata": {},
   "outputs": [],
   "source": [
    "def hello(name):\n",
    "    pass\n",
    "    "
   ]
  },
  {
   "cell_type": "code",
   "execution_count": 4,
   "id": "fb161806",
   "metadata": {},
   "outputs": [
    {
     "name": "stdout",
     "output_type": "stream",
     "text": [
      "Help on function hello in module __main__:\n",
      "\n",
      "hello(name)\n",
      "\n"
     ]
    }
   ],
   "source": [
    "help(hello)"
   ]
  },
  {
   "cell_type": "code",
   "execution_count": 5,
   "id": "87657f88",
   "metadata": {},
   "outputs": [
    {
     "name": "stdout",
     "output_type": "stream",
     "text": [
      "Help on built-in function print in module builtins:\n",
      "\n",
      "print(...)\n",
      "    print(value, ..., sep=' ', end='\\n', file=sys.stdout, flush=False)\n",
      "    \n",
      "    Prints the values to a stream, or to sys.stdout by default.\n",
      "    Optional keyword arguments:\n",
      "    file:  a file-like object (stream); defaults to the current sys.stdout.\n",
      "    sep:   string inserted between values, default a space.\n",
      "    end:   string appended after the last value, default a newline.\n",
      "    flush: whether to forcibly flush the stream.\n",
      "\n"
     ]
    }
   ],
   "source": [
    "help(print)"
   ]
  },
  {
   "cell_type": "markdown",
   "id": "82c582d7",
   "metadata": {},
   "source": [
    "### POC\n",
    "\n",
    "    Proof Of Concept"
   ]
  },
  {
   "cell_type": "code",
   "execution_count": 10,
   "id": "c25cd4df",
   "metadata": {},
   "outputs": [],
   "source": [
    "def hello(name):\n",
    "    \"\"\"\n",
    "        This function is used to print Hello Message\n",
    "    example:\n",
    "    \n",
    "    >>>hello(\"sachin\")\n",
    "    hello sachin welcome to python!\n",
    "    \"\"\""
   ]
  },
  {
   "cell_type": "code",
   "execution_count": 11,
   "id": "8f3e8430",
   "metadata": {},
   "outputs": [
    {
     "name": "stdout",
     "output_type": "stream",
     "text": [
      "Help on function hello in module __main__:\n",
      "\n",
      "hello(name)\n",
      "        This function is used to print Hello Message\n",
      "    example:\n",
      "    \n",
      "    >>>hello(\"sachin\")\n",
      "    hello sachin welcome to python!\n",
      "\n"
     ]
    }
   ],
   "source": [
    "help(hello)"
   ]
  },
  {
   "cell_type": "code",
   "execution_count": 12,
   "id": "ad59fd0b",
   "metadata": {},
   "outputs": [],
   "source": [
    "hello(\"sachin\")"
   ]
  },
  {
   "cell_type": "code",
   "execution_count": 17,
   "id": "c8e12c2c",
   "metadata": {},
   "outputs": [],
   "source": [
    "# function defination\n",
    "def hello(name):\n",
    "    \"\"\"\n",
    "        This function is used to print Hello Message\n",
    "    example:\n",
    "    \n",
    "    >>>hello(\"sachin\")\n",
    "    hello sachin welcome to python!\n",
    "    \"\"\"\n",
    "    print(f\"hello {name} welcome to python!\")"
   ]
  },
  {
   "cell_type": "code",
   "execution_count": 19,
   "id": "1cd52790",
   "metadata": {},
   "outputs": [
    {
     "name": "stdout",
     "output_type": "stream",
     "text": [
      "hello sachin welcome to python!\n"
     ]
    }
   ],
   "source": [
    "# function calling\n",
    "\n",
    "hello(\"sachin\")"
   ]
  },
  {
   "cell_type": "code",
   "execution_count": 20,
   "id": "ee344736",
   "metadata": {},
   "outputs": [],
   "source": [
    "def add(a, b):\n",
    "    return a+b"
   ]
  },
  {
   "cell_type": "code",
   "execution_count": 21,
   "id": "d629da0c",
   "metadata": {},
   "outputs": [
    {
     "data": {
      "text/plain": [
       "13.2"
      ]
     },
     "execution_count": 21,
     "metadata": {},
     "output_type": "execute_result"
    }
   ],
   "source": [
    "add(5.6, 7.6)"
   ]
  },
  {
   "cell_type": "code",
   "execution_count": 22,
   "id": "c183dda4",
   "metadata": {},
   "outputs": [
    {
     "data": {
      "text/plain": [
       "'helloworld'"
      ]
     },
     "execution_count": 22,
     "metadata": {},
     "output_type": "execute_result"
    }
   ],
   "source": [
    "add('hello', 'world')"
   ]
  },
  {
   "cell_type": "code",
   "execution_count": 23,
   "id": "1960e35a",
   "metadata": {},
   "outputs": [
    {
     "ename": "TypeError",
     "evalue": "unsupported operand type(s) for +: 'dict' and 'dict'",
     "output_type": "error",
     "traceback": [
      "\u001b[1;31m---------------------------------------------------------------------------\u001b[0m",
      "\u001b[1;31mTypeError\u001b[0m                                 Traceback (most recent call last)",
      "Input \u001b[1;32mIn [23]\u001b[0m, in \u001b[0;36m<cell line: 1>\u001b[1;34m()\u001b[0m\n\u001b[1;32m----> 1\u001b[0m \u001b[43madd\u001b[49m\u001b[43m(\u001b[49m\u001b[43m{\u001b[49m\u001b[38;5;241;43m1\u001b[39;49m\u001b[43m:\u001b[49m\u001b[38;5;241;43m2\u001b[39;49m\u001b[43m,\u001b[49m\u001b[43m \u001b[49m\u001b[38;5;241;43m2\u001b[39;49m\u001b[43m:\u001b[49m\u001b[38;5;241;43m3\u001b[39;49m\u001b[43m}\u001b[49m\u001b[43m,\u001b[49m\u001b[43m \u001b[49m\u001b[43m{\u001b[49m\u001b[38;5;241;43m3\u001b[39;49m\u001b[43m:\u001b[49m\u001b[38;5;241;43m4\u001b[39;49m\u001b[43m,\u001b[49m\u001b[43m \u001b[49m\u001b[38;5;241;43m4\u001b[39;49m\u001b[43m:\u001b[49m\u001b[38;5;241;43m5\u001b[39;49m\u001b[43m}\u001b[49m\u001b[43m)\u001b[49m\n",
      "Input \u001b[1;32mIn [20]\u001b[0m, in \u001b[0;36madd\u001b[1;34m(a, b)\u001b[0m\n\u001b[0;32m      1\u001b[0m \u001b[38;5;28;01mdef\u001b[39;00m \u001b[38;5;21madd\u001b[39m(a, b):\n\u001b[1;32m----> 2\u001b[0m     \u001b[38;5;28;01mreturn\u001b[39;00m \u001b[43ma\u001b[49m\u001b[38;5;241;43m+\u001b[39;49m\u001b[43mb\u001b[49m\n",
      "\u001b[1;31mTypeError\u001b[0m: unsupported operand type(s) for +: 'dict' and 'dict'"
     ]
    }
   ],
   "source": [
    "add({1:2, 2:3}, {3:4, 4:5})"
   ]
  },
  {
   "cell_type": "code",
   "execution_count": 25,
   "id": "17f6fd41",
   "metadata": {},
   "outputs": [],
   "source": [
    "def f(a, b, c, d, e, f, g, h, i, j, k, l, m):\n",
    "    pass"
   ]
  },
  {
   "cell_type": "code",
   "execution_count": 26,
   "id": "69bd2bb1",
   "metadata": {},
   "outputs": [],
   "source": [
    "# function defination\n",
    "def hello(name):\n",
    "    \"\"\"\n",
    "        This function is used to print Hello Message\n",
    "    example:\n",
    "    \n",
    "    >>>hello(\"sachin\")\n",
    "    hello sachin welcome to python!\n",
    "    \"\"\"\n",
    "    print(f\"hello {name} welcome to python!\")"
   ]
  },
  {
   "cell_type": "code",
   "execution_count": 27,
   "id": "75484070",
   "metadata": {},
   "outputs": [
    {
     "name": "stdout",
     "output_type": "stream",
     "text": [
      "hello sachin welcome to python!\n"
     ]
    }
   ],
   "source": [
    "hello(\"sachin\")"
   ]
  },
  {
   "cell_type": "code",
   "execution_count": 28,
   "id": "f50b3ba1",
   "metadata": {},
   "outputs": [],
   "source": [
    "names = [\"java\", \"c\", \"c++\", \"ruby\", \"perl\", \"python\"]"
   ]
  },
  {
   "cell_type": "code",
   "execution_count": 30,
   "id": "5948cd59",
   "metadata": {},
   "outputs": [
    {
     "name": "stdout",
     "output_type": "stream",
     "text": [
      "hello java welcome to python!\n",
      "hello c welcome to python!\n",
      "hello c++ welcome to python!\n",
      "hello ruby welcome to python!\n",
      "hello perl welcome to python!\n",
      "hello python welcome to python!\n"
     ]
    }
   ],
   "source": [
    "for name in names:\n",
    "    hello(name)"
   ]
  },
  {
   "cell_type": "code",
   "execution_count": 31,
   "id": "a61bf638",
   "metadata": {},
   "outputs": [
    {
     "ename": "TypeError",
     "evalue": "object of type 'int' has no len()",
     "output_type": "error",
     "traceback": [
      "\u001b[1;31m---------------------------------------------------------------------------\u001b[0m",
      "\u001b[1;31mTypeError\u001b[0m                                 Traceback (most recent call last)",
      "Input \u001b[1;32mIn [31]\u001b[0m, in \u001b[0;36m<cell line: 1>\u001b[1;34m()\u001b[0m\n\u001b[1;32m----> 1\u001b[0m \u001b[38;5;28;43mlen\u001b[39;49m\u001b[43m(\u001b[49m\u001b[38;5;241;43m1234\u001b[39;49m\u001b[43m)\u001b[49m\n",
      "\u001b[1;31mTypeError\u001b[0m: object of type 'int' has no len()"
     ]
    }
   ],
   "source": [
    "len(1234)"
   ]
  },
  {
   "cell_type": "code",
   "execution_count": 32,
   "id": "b914fa08",
   "metadata": {},
   "outputs": [
    {
     "data": {
      "text/plain": [
       "2"
      ]
     },
     "execution_count": 32,
     "metadata": {},
     "output_type": "execute_result"
    }
   ],
   "source": [
    "len('hi')"
   ]
  },
  {
   "cell_type": "code",
   "execution_count": 33,
   "id": "dd571d98",
   "metadata": {},
   "outputs": [
    {
     "data": {
      "text/plain": [
       "5"
      ]
     },
     "execution_count": 33,
     "metadata": {},
     "output_type": "execute_result"
    }
   ],
   "source": [
    "len([\"hello\", 1,2 , 3, 6.])"
   ]
  },
  {
   "cell_type": "code",
   "execution_count": 34,
   "id": "6a7ff087",
   "metadata": {},
   "outputs": [
    {
     "name": "stdout",
     "output_type": "stream",
     "text": [
      "Help on built-in function len in module builtins:\n",
      "\n",
      "len(obj, /)\n",
      "    Return the number of items in a container.\n",
      "\n"
     ]
    }
   ],
   "source": [
    "help(len)"
   ]
  },
  {
   "cell_type": "markdown",
   "id": "c8e667ff",
   "metadata": {},
   "source": [
    "### 1. without argument without return type\n",
    "\n",
    "    we use this type function to show a static information"
   ]
  },
  {
   "cell_type": "code",
   "execution_count": 57,
   "id": "75b63ef3",
   "metadata": {},
   "outputs": [
    {
     "name": "stdout",
     "output_type": "stream",
     "text": [
      "\n",
      "\n",
      "\n",
      "\n",
      "\n",
      "\n",
      "\n",
      "\n",
      "\n",
      "\n"
     ]
    }
   ],
   "source": [
    "for _ in range(10):\n",
    "    print()"
   ]
  },
  {
   "cell_type": "code",
   "execution_count": 58,
   "id": "67dc4de1",
   "metadata": {},
   "outputs": [],
   "source": [
    "def hello():\n",
    "    print(\"hey this is a demo function\")\n",
    "    print(\"just to demonstrate use of\")\n",
    "    print(\"without argument without return type functions\")"
   ]
  },
  {
   "cell_type": "code",
   "execution_count": 59,
   "id": "d7e1bfc4",
   "metadata": {},
   "outputs": [
    {
     "name": "stdout",
     "output_type": "stream",
     "text": [
      "hey this is a demo function\n",
      "just to demonstrate use of\n",
      "without argument without return type functions\n"
     ]
    }
   ],
   "source": [
    "hello()"
   ]
  },
  {
   "cell_type": "code",
   "execution_count": null,
   "id": "b307582d",
   "metadata": {},
   "outputs": [],
   "source": []
  },
  {
   "cell_type": "code",
   "execution_count": null,
   "id": "b8f8b312",
   "metadata": {},
   "outputs": [],
   "source": []
  },
  {
   "cell_type": "code",
   "execution_count": 45,
   "id": "146d5b7d",
   "metadata": {},
   "outputs": [],
   "source": [
    "def is_even():\n",
    "    \"\"\"\n",
    "        check wheather a number is even odd\n",
    "    \"\"\"\n",
    "    num = int(input(\"Enter a number: \"))\n",
    "    # taking a number input\n",
    "    if num<=0:\n",
    "        # check condition wheather number is negative or zero\n",
    "        print(\"Invalid Input!\")\n",
    "        return\n",
    "    if num%2 == 0:\n",
    "        print(\"Even\")\n",
    "    else:\n",
    "        print(\"Odd\")"
   ]
  },
  {
   "cell_type": "code",
   "execution_count": null,
   "id": "f45c1eb4",
   "metadata": {},
   "outputs": [],
   "source": [
    "nums = [10, 40, 50, 20, 20, 19, 11, 13, 26]"
   ]
  },
  {
   "cell_type": "code",
   "execution_count": null,
   "id": "6f954d0c",
   "metadata": {},
   "outputs": [],
   "source": []
  },
  {
   "cell_type": "code",
   "execution_count": 53,
   "id": "109ae2c0",
   "metadata": {},
   "outputs": [
    {
     "name": "stdout",
     "output_type": "stream",
     "text": [
      "Enter a number: 45\n",
      "Odd\n",
      "None\n"
     ]
    }
   ],
   "source": [
    "value = is_even()\n",
    "print(value)"
   ]
  },
  {
   "cell_type": "code",
   "execution_count": 46,
   "id": "11184ce2",
   "metadata": {},
   "outputs": [
    {
     "name": "stdout",
     "output_type": "stream",
     "text": [
      "Enter a number: 121\n",
      "Odd\n"
     ]
    }
   ],
   "source": [
    "is_even()"
   ]
  },
  {
   "cell_type": "markdown",
   "id": "491fd199",
   "metadata": {},
   "source": [
    "how to define function in langauge \n",
    "\n",
    "    void func_name();\n",
    "    \n",
    "    void func_name(int x, int y, float z);\n",
    "    \n",
    "    int func_name();\n",
    "    \n",
    "    float func_name(float a, floatb);"
   ]
  },
  {
   "cell_type": "code",
   "execution_count": 71,
   "id": "5a76d30c",
   "metadata": {},
   "outputs": [
    {
     "name": "stdout",
     "output_type": "stream",
     "text": [
      "hello world!\n"
     ]
    }
   ],
   "source": [
    "s = \"hello world!\"\n",
    "\n",
    "s.upper()\n",
    "# \"HELLO WORLD!\"\n",
    "\n",
    "print(s)"
   ]
  },
  {
   "cell_type": "code",
   "execution_count": null,
   "id": "2cc25db1",
   "metadata": {},
   "outputs": [],
   "source": []
  },
  {
   "cell_type": "code",
   "execution_count": 70,
   "id": "4178843a",
   "metadata": {},
   "outputs": [
    {
     "name": "stdout",
     "output_type": "stream",
     "text": [
      "None\n"
     ]
    }
   ],
   "source": [
    "a = []\n",
    "\n",
    "a = a.append(100)\n",
    "\n",
    "print(a)"
   ]
  },
  {
   "cell_type": "markdown",
   "id": "ea584523",
   "metadata": {},
   "source": [
    "#### 2. with argument without return type\n",
    "\n",
    "    "
   ]
  },
  {
   "cell_type": "code",
   "execution_count": 61,
   "id": "62ad77c0",
   "metadata": {},
   "outputs": [],
   "source": [
    "def hello(name):\n",
    "    print(f\"Hello {name} welcome to python!\")"
   ]
  },
  {
   "cell_type": "code",
   "execution_count": 68,
   "id": "c1de9673",
   "metadata": {},
   "outputs": [
    {
     "name": "stdout",
     "output_type": "stream",
     "text": [
      "Hello yahooooo welcome to python!\n"
     ]
    }
   ],
   "source": [
    "ans = hello('yahooooo')"
   ]
  },
  {
   "cell_type": "code",
   "execution_count": 69,
   "id": "727e1bb6",
   "metadata": {},
   "outputs": [
    {
     "name": "stdout",
     "output_type": "stream",
     "text": [
      "None\n"
     ]
    }
   ],
   "source": [
    "print(ans) # ? "
   ]
  },
  {
   "cell_type": "code",
   "execution_count": 64,
   "id": "05fa0900",
   "metadata": {},
   "outputs": [
    {
     "name": "stdout",
     "output_type": "stream",
     "text": [
      "Hello sachin welcome to python!\n"
     ]
    }
   ],
   "source": [
    "hello(\"sachin\")"
   ]
  },
  {
   "cell_type": "code",
   "execution_count": 66,
   "id": "ff1ceec6",
   "metadata": {},
   "outputs": [
    {
     "name": "stdout",
     "output_type": "stream",
     "text": [
      "enter name: rajat\n",
      "Hello rajat welcome to python!\n"
     ]
    }
   ],
   "source": [
    "name = input(\"enter name: \")\n",
    "\n",
    "hello(name)"
   ]
  },
  {
   "cell_type": "code",
   "execution_count": 67,
   "id": "9cf0946b",
   "metadata": {},
   "outputs": [
    {
     "name": "stdout",
     "output_type": "stream",
     "text": [
      "Hello rajat welcome to python!\n",
      "Hello simran welcome to python!\n",
      "Hello ravi welcome to python!\n",
      "Hello yadvendra welcome to python!\n",
      "Hello nidhi welcome to python!\n"
     ]
    }
   ],
   "source": [
    "names = [\"rajat\", \"simran\", \"ravi\", \"yadvendra\", \"nidhi\"]\n",
    "\n",
    "for name in names:\n",
    "    hello(name)"
   ]
  },
  {
   "cell_type": "code",
   "execution_count": 72,
   "id": "234ce989",
   "metadata": {},
   "outputs": [],
   "source": [
    "def is_even(num):\n",
    "    \"\"\"\n",
    "        check wheather a number is even odd\n",
    "    \"\"\"\n",
    "    if num<=0:\n",
    "        # check condition wheather number is negative or zero\n",
    "        print(\"Invalid Input!\")\n",
    "        return\n",
    "    if num%2 == 0:\n",
    "        print(\"Even\")\n",
    "    else:\n",
    "        print(\"Odd\")"
   ]
  },
  {
   "cell_type": "code",
   "execution_count": 75,
   "id": "224c6e68",
   "metadata": {},
   "outputs": [
    {
     "name": "stdout",
     "output_type": "stream",
     "text": [
      "Even\n",
      "Odd\n",
      "Even\n",
      "Odd\n",
      "Odd\n",
      "Odd\n",
      "Even\n",
      "Odd\n",
      "Even\n"
     ]
    }
   ],
   "source": [
    "nums = [10, 13, 12, 15, 17, 19, 84, 23, 24]\n",
    "\n",
    "for num in nums:\n",
    "    is_even(num)"
   ]
  },
  {
   "cell_type": "code",
   "execution_count": null,
   "id": "0518e75a",
   "metadata": {},
   "outputs": [],
   "source": []
  },
  {
   "cell_type": "code",
   "execution_count": 73,
   "id": "98a346c7",
   "metadata": {},
   "outputs": [
    {
     "name": "stdout",
     "output_type": "stream",
     "text": [
      "Odd\n"
     ]
    }
   ],
   "source": [
    "is_even(13)"
   ]
  },
  {
   "cell_type": "code",
   "execution_count": 74,
   "id": "66d614cf",
   "metadata": {},
   "outputs": [
    {
     "name": "stdout",
     "output_type": "stream",
     "text": [
      "a: 25\n",
      "Odd\n",
      "None\n"
     ]
    }
   ],
   "source": [
    "a = int(input(\"a: \"))\n",
    "\n",
    "o = is_even(a)\n",
    "print(o)"
   ]
  },
  {
   "cell_type": "markdown",
   "id": "db1354d2",
   "metadata": {},
   "source": [
    "### 3. without argument with return type\n"
   ]
  },
  {
   "cell_type": "code",
   "execution_count": 76,
   "id": "75418e62",
   "metadata": {},
   "outputs": [],
   "source": [
    "def author():\n",
    "    return \"Sachin Yadav\""
   ]
  },
  {
   "cell_type": "code",
   "execution_count": 80,
   "id": "0d113c54",
   "metadata": {},
   "outputs": [],
   "source": [
    "a = author()"
   ]
  },
  {
   "cell_type": "code",
   "execution_count": 81,
   "id": "387e3085",
   "metadata": {},
   "outputs": [
    {
     "name": "stdout",
     "output_type": "stream",
     "text": [
      "Sachin Yadav\n"
     ]
    }
   ],
   "source": [
    "print(a)"
   ]
  },
  {
   "cell_type": "code",
   "execution_count": 79,
   "id": "db6ca8b8",
   "metadata": {},
   "outputs": [
    {
     "name": "stdout",
     "output_type": "stream",
     "text": [
      "Sachin Yadav\n",
      "what will be the output ?\n"
     ]
    }
   ],
   "source": [
    "print(author())\n",
    "print(\"what will be the output ?\")"
   ]
  },
  {
   "cell_type": "code",
   "execution_count": 78,
   "id": "7dc2fe5e",
   "metadata": {},
   "outputs": [
    {
     "name": "stdout",
     "output_type": "stream",
     "text": [
      "what will be the output ?\n"
     ]
    }
   ],
   "source": [
    "author()\n",
    "print(\"what will be the output ?\")"
   ]
  },
  {
   "cell_type": "code",
   "execution_count": null,
   "id": "a822489f",
   "metadata": {},
   "outputs": [],
   "source": []
  },
  {
   "cell_type": "code",
   "execution_count": null,
   "id": "cdfc89b1",
   "metadata": {},
   "outputs": [],
   "source": []
  },
  {
   "cell_type": "markdown",
   "id": "06177a5b",
   "metadata": {},
   "source": [
    "### Type of Functions\n",
    "\n",
    "    1. without argument without return type\n",
    "    \n",
    "    2. with argument without return type\n",
    "    \n",
    "    3. without argument with return type\n",
    "    \n",
    "    4. with argument with return type"
   ]
  },
  {
   "cell_type": "markdown",
   "id": "ac7345ba",
   "metadata": {},
   "source": [
    "    do you understand\n",
    "    \n",
    "        what does argument mean ?\n",
    "        \n",
    "            information which we need to supply to a function in order to use it\n",
    "        \n",
    "        what does return type mean ?\n",
    "        \n",
    "            information which return by the function at calling"
   ]
  },
  {
   "cell_type": "markdown",
   "id": "21f19b23",
   "metadata": {},
   "source": [
    "### 4. with argument with return type"
   ]
  },
  {
   "cell_type": "code",
   "execution_count": 84,
   "id": "9925c63e",
   "metadata": {},
   "outputs": [],
   "source": [
    "def is_even(num):\n",
    "    if num<=0:\n",
    "        return -1\n",
    "    return num%2==0"
   ]
  },
  {
   "cell_type": "code",
   "execution_count": 90,
   "id": "4a111b8a",
   "metadata": {},
   "outputs": [
    {
     "name": "stdout",
     "output_type": "stream",
     "text": [
      "[1, 3, 5, 3]\n"
     ]
    }
   ],
   "source": [
    "nums = [1, 3, 5, 76, 3,4, 54]\n",
    "final = []\n",
    "for num in nums:\n",
    "    if not is_even(num):\n",
    "        final.append(num)\n",
    "        \n",
    "print(final)"
   ]
  },
  {
   "cell_type": "code",
   "execution_count": 89,
   "id": "99c5d4e3",
   "metadata": {},
   "outputs": [
    {
     "name": "stdout",
     "output_type": "stream",
     "text": [
      "[76, 4, 54]\n"
     ]
    }
   ],
   "source": [
    "nums = [1, 3, 5, 76, 3,4, 54]\n",
    "final = []\n",
    "for num in nums:\n",
    "    if is_even(num):\n",
    "        final.append(num)\n",
    "        \n",
    "print(final)"
   ]
  },
  {
   "cell_type": "code",
   "execution_count": null,
   "id": "565cd708",
   "metadata": {},
   "outputs": [],
   "source": []
  },
  {
   "cell_type": "code",
   "execution_count": 88,
   "id": "592d96e0",
   "metadata": {},
   "outputs": [
    {
     "name": "stdout",
     "output_type": "stream",
     "text": [
      "76, 4, 54, "
     ]
    }
   ],
   "source": [
    "nums = [1, 3, 5, 76, 3,4, 54]\n",
    "for num in nums:\n",
    "    if is_even(num):\n",
    "        print(num, end=\", \")"
   ]
  },
  {
   "cell_type": "code",
   "execution_count": null,
   "id": "6bfa2f86",
   "metadata": {},
   "outputs": [],
   "source": []
  },
  {
   "cell_type": "code",
   "execution_count": null,
   "id": "97049cd1",
   "metadata": {},
   "outputs": [],
   "source": []
  },
  {
   "cell_type": "code",
   "execution_count": 87,
   "id": "8d3609bb",
   "metadata": {},
   "outputs": [
    {
     "name": "stdout",
     "output_type": "stream",
     "text": [
      "num: 10\n",
      "Even\n"
     ]
    }
   ],
   "source": [
    "n = int(input(\"num: \"))\n",
    "if is_even(n):\n",
    "    print(\"Even\")\n",
    "else:\n",
    "    print(\"Odd\")"
   ]
  },
  {
   "cell_type": "code",
   "execution_count": null,
   "id": "ad06c7be",
   "metadata": {},
   "outputs": [],
   "source": []
  },
  {
   "cell_type": "code",
   "execution_count": null,
   "id": "ed7542dd",
   "metadata": {},
   "outputs": [],
   "source": []
  },
  {
   "cell_type": "code",
   "execution_count": null,
   "id": "e7992ec1",
   "metadata": {},
   "outputs": [],
   "source": []
  },
  {
   "cell_type": "code",
   "execution_count": 83,
   "id": "df0d1954",
   "metadata": {},
   "outputs": [
    {
     "name": "stdout",
     "output_type": "stream",
     "text": [
      "4\n",
      "1 2 3 4\n",
      "10\n"
     ]
    }
   ],
   "source": [
    "def solve_question(arr, n):\n",
    "    # your code goes here\n",
    "    result = sum(arr)\n",
    "    return result\n",
    "\n",
    "\n",
    "if __name__ == \"__main__\":\n",
    "    n = int(input())\n",
    "    arr = list(map(int, input().split()))\n",
    "    ans = solve_question(arr, n)\n",
    "    print(ans)"
   ]
  },
  {
   "cell_type": "markdown",
   "id": "df136d4d",
   "metadata": {},
   "source": [
    "#### Type of Arugments\n",
    "\n",
    "    1. Positional Arguments\n",
    "    2. Default Arguments\n",
    "    3. Variable Length Arguments\n",
    "    \n",
    "        i) variable length positional arguments (*args)\n",
    "        ii) variable length keyword arguments (**kwargs)"
   ]
  },
  {
   "cell_type": "code",
   "execution_count": null,
   "id": "8a21309f",
   "metadata": {},
   "outputs": [],
   "source": []
  }
 ],
 "metadata": {
  "kernelspec": {
   "display_name": "Python 3 (ipykernel)",
   "language": "python",
   "name": "python3"
  },
  "language_info": {
   "codemirror_mode": {
    "name": "ipython",
    "version": 3
   },
   "file_extension": ".py",
   "mimetype": "text/x-python",
   "name": "python",
   "nbconvert_exporter": "python",
   "pygments_lexer": "ipython3",
   "version": "3.9.12"
  }
 },
 "nbformat": 4,
 "nbformat_minor": 5
}
