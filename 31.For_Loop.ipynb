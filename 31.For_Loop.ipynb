{
 "cells": [
  {
   "cell_type": "markdown",
   "id": "81724a36",
   "metadata": {},
   "source": [
    "## Guess Game\n",
    "\n",
    "    computer will select a random number between [1-50]\n",
    "    \n",
    "    user will get 5 chances to guess the correct number\n",
    "    \n",
    "        if at any chance user guess is correct than display congrats message and stop program\n",
    "        \n",
    "        else print a hint depending on user guess\n",
    "            \n",
    "            if user guess is high print hint as guess a lower number\n",
    "            \n",
    "            else if user guess is low print hint as guess a higher number\n",
    "            \n",
    "    if user unable to guess correct number in 5 chances only than print you such a looser"
   ]
  },
  {
   "cell_type": "markdown",
   "id": "caf70ea6",
   "metadata": {},
   "source": [
    "`flag variable`"
   ]
  },
  {
   "cell_type": "code",
   "execution_count": 16,
   "id": "6a946cb1",
   "metadata": {},
   "outputs": [
    {
     "name": "stdout",
     "output_type": "stream",
     "text": [
      "your guess[1-50]: 25\n",
      "Hint: your guess is low.\n",
      "your guess[1-50]: 35\n",
      "Hint: your guess is high.\n",
      "your guess[1-50]: 30\n",
      "Hint: your guess is low.\n",
      "your guess[1-50]: 33\n",
      "Hint: your guess is low.\n",
      "your guess[1-50]: 34\n",
      "Whoo! you such a master! you have won the game!\n"
     ]
    }
   ],
   "source": [
    "import random\n",
    "guess = random.randint(1, 50)\n",
    "win = False\n",
    "chances = 5\n",
    "while chances>0:\n",
    "    #print(f\"you have left {chances} chances to win this game!\".center(100, \"-\"))\n",
    "    user = int(input(\"your guess[1-50]: \"))\n",
    "    if user==guess:\n",
    "        win = True\n",
    "        break\n",
    "    elif user>guess:\n",
    "        print(\"Hint: your guess is high.\")\n",
    "    else:\n",
    "        print(\"Hint: your guess is low.\")\n",
    "    chances -= 1\n",
    "    \n",
    "if win:\n",
    "    print(\"Whoo! you such a master! you have won the game!\")\n",
    "else:\n",
    "    print(\"Ohh!You such a looser!\")"
   ]
  },
  {
   "cell_type": "code",
   "execution_count": 21,
   "id": "177090a6",
   "metadata": {},
   "outputs": [
    {
     "name": "stdout",
     "output_type": "stream",
     "text": [
      "____________________________________________________________________________________________________\n",
      "\n",
      "\n",
      "you have left 5 chances to win this game!\n",
      "\n",
      "\n",
      "your guess[1-50]: 1\n",
      "\n",
      "Hint: your guess is low.\n",
      "____________________________________________________________________________________________________\n",
      "\n",
      "\n",
      "you have left 4 chances to win this game!\n",
      "\n",
      "\n",
      "your guess[1-50]: 2\n",
      "\n",
      "Hint: your guess is low.\n",
      "____________________________________________________________________________________________________\n",
      "\n",
      "\n",
      "you have left 3 chances to win this game!\n",
      "\n",
      "\n",
      "your guess[1-50]: 3\n",
      "\n",
      "Hint: your guess is low.\n",
      "____________________________________________________________________________________________________\n",
      "\n",
      "\n",
      "you have left 2 chances to win this game!\n",
      "\n",
      "\n",
      "your guess[1-50]: 4\n",
      "\n",
      "Hint: your guess is low.\n",
      "____________________________________________________________________________________________________\n",
      "\n",
      "\n",
      "you have left 1 chances to win this game!\n",
      "\n",
      "\n",
      "your guess[1-50]: 5\n",
      "\n",
      "Hint: your guess is low.\n",
      "Ohh!You such a looser!\n"
     ]
    }
   ],
   "source": [
    "import random\n",
    "guess = random.randint(1, 50)\n",
    "chances = 5\n",
    "\n",
    "while chances>0:\n",
    "    print(\"__\"*50)\n",
    "    print(f\"\\n\\nyou have left {chances} chances to win this game!\\n\\n\")\n",
    "    user = int(input(\"your guess[1-50]: \"))\n",
    "    if user<1 or user>50:\n",
    "        print(\"\\nWarning! Guess only between 1 and 50!\")\n",
    "        continue\n",
    "        \n",
    "    if user==guess:\n",
    "        print(\"\\nWhoo! you such a master! you have won the game!\")\n",
    "        break\n",
    "    elif user>guess:\n",
    "        print(\"\\nHint: your guess is high.\")\n",
    "    else:\n",
    "        print(\"\\nHint: your guess is low.\")\n",
    "    chances -= 1\n",
    "else:\n",
    "    print(\"Ohh!You such a looser!\")"
   ]
  },
  {
   "cell_type": "code",
   "execution_count": 24,
   "id": "40cbe4df",
   "metadata": {},
   "outputs": [],
   "source": [
    "import os"
   ]
  },
  {
   "cell_type": "code",
   "execution_count": 28,
   "id": "7fc74d31",
   "metadata": {},
   "outputs": [
    {
     "data": {
      "text/plain": [
       "0"
      ]
     },
     "execution_count": 28,
     "metadata": {},
     "output_type": "execute_result"
    }
   ],
   "source": [
    "os.system(\"cls\")"
   ]
  },
  {
   "cell_type": "code",
   "execution_count": 29,
   "id": "b6c7bfb3",
   "metadata": {},
   "outputs": [
    {
     "name": "stdout",
     "output_type": "stream",
     "text": [
      "Overwriting guess_game.py\n"
     ]
    }
   ],
   "source": [
    "%%writefile guess_game.py\n",
    "import os\n",
    "import random\n",
    "\n",
    "\n",
    "os.system(\"cls\")\n",
    "# linux cls --> clear\n",
    "\n",
    "print(\"\\n\\n\")\n",
    "print(\"Welcome to Guess Game\".center(100))\n",
    "print(\"\\n\\n\")\n",
    "\n",
    "guess = random.randint(1, 50)\n",
    "chances = 5\n",
    "\n",
    "while chances>0:\n",
    "    print(\"__\"*50)\n",
    "    print(f\"\\n\\nyou have left {chances} chances to win this game!\\n\\n\")\n",
    "    user = int(input(\"your guess[1-50]: \"))\n",
    "    if user<1 or user>50:\n",
    "        print(\"\\nWarning! Guess only between 1 and 50!\")\n",
    "        continue\n",
    "        \n",
    "    if user==guess:\n",
    "        print(\"\\nWhoo! you such a master! you have won the game!\")\n",
    "        break\n",
    "    elif user>guess:\n",
    "        print(\"\\nHint: your guess is high.\")\n",
    "    else:\n",
    "        print(\"\\nHint: your guess is low.\")\n",
    "    chances -= 1\n",
    "else:\n",
    "    print(\"Ohh!You such a looser!\")"
   ]
  },
  {
   "cell_type": "code",
   "execution_count": 23,
   "id": "0aafcf18",
   "metadata": {},
   "outputs": [
    {
     "data": {
      "text/plain": [
       "'C:\\\\Users\\\\Sachi\\\\Grras Solution Pvt. Ltd\\\\Python_107_hindi_8Aug_6pm - Live Class 📺\\\\ClassCode\\\\Python'"
      ]
     },
     "execution_count": 23,
     "metadata": {},
     "output_type": "execute_result"
    }
   ],
   "source": [
    "pwd"
   ]
  },
  {
   "cell_type": "markdown",
   "id": "10d78256",
   "metadata": {},
   "source": [
    "    Questions ?\n",
    "    \n",
    "    Answere ?"
   ]
  },
  {
   "cell_type": "markdown",
   "id": "b0a6bf84",
   "metadata": {},
   "source": [
    "# While Loop ?"
   ]
  },
  {
   "cell_type": "code",
   "execution_count": null,
   "id": "317b971e",
   "metadata": {},
   "outputs": [],
   "source": []
  },
  {
   "cell_type": "markdown",
   "id": "aba61d30",
   "metadata": {},
   "source": [
    "### For Loop ?"
   ]
  },
  {
   "cell_type": "markdown",
   "id": "7a59a1bd",
   "metadata": {},
   "source": [
    "# terminal library"
   ]
  },
  {
   "cell_type": "markdown",
   "id": "274d90a1",
   "metadata": {},
   "source": [
    "    tcl "
   ]
  },
  {
   "cell_type": "code",
   "execution_count": 30,
   "id": "b92128bf",
   "metadata": {},
   "outputs": [],
   "source": [
    "d = {\n",
    "    \"name\": \"python\",\n",
    "    \"father\": \"guido van rossum\",\n",
    "    \"version\": \"3.10\",\n",
    "    \"website\": \"www.python.org\"\n",
    "}"
   ]
  },
  {
   "cell_type": "markdown",
   "id": "f3601a7d",
   "metadata": {},
   "source": [
    "            name = Python\n",
    "            \n",
    "            father = Guido Van Rossum\n",
    "            \n",
    "            version = 3.10\n",
    "            \n",
    "            webiste = www.python.org \n",
    "            "
   ]
  },
  {
   "cell_type": "code",
   "execution_count": 45,
   "id": "d5c58b84",
   "metadata": {},
   "outputs": [
    {
     "name": "stdout",
     "output_type": "stream",
     "text": [
      "name = python\n",
      "father = guido van rossum\n",
      "version = 3.10\n",
      "website = www.python.org\n"
     ]
    }
   ],
   "source": [
    "keys = list(d.keys())\n",
    "\n",
    "i = 0\n",
    "while i<len(keys):\n",
    "    key = keys[i]\n",
    "    value = d[key]\n",
    "    print(key, '=', value)\n",
    "    i += 1"
   ]
  },
  {
   "cell_type": "code",
   "execution_count": null,
   "id": "7988ab25",
   "metadata": {},
   "outputs": [],
   "source": []
  },
  {
   "cell_type": "code",
   "execution_count": 37,
   "id": "e257b5d1",
   "metadata": {},
   "outputs": [
    {
     "data": {
      "text/plain": [
       "'website'"
      ]
     },
     "execution_count": 37,
     "metadata": {},
     "output_type": "execute_result"
    }
   ],
   "source": [
    "list(d.keys())[3]"
   ]
  },
  {
   "cell_type": "code",
   "execution_count": 38,
   "id": "6660a2c6",
   "metadata": {},
   "outputs": [
    {
     "data": {
      "text/plain": [
       "4"
      ]
     },
     "execution_count": 38,
     "metadata": {},
     "output_type": "execute_result"
    }
   ],
   "source": [
    "len(list(d.keys()))"
   ]
  },
  {
   "cell_type": "code",
   "execution_count": 65,
   "id": "9229398f",
   "metadata": {},
   "outputs": [
    {
     "name": "stdout",
     "output_type": "stream",
     "text": [
      "                          name = Python\n",
      "                        father = Guido Van Rossum\n",
      "                       version = 3.10\n",
      "                       website = Www.Python.Org\n"
     ]
    }
   ],
   "source": [
    "d = {\n",
    "    \"name\": \"python\",\n",
    "    \"father\": \"guido van rossum\",\n",
    "    \"version\": \"3.10\",\n",
    "    \"website\": \"www.python.org\"\n",
    "}\n",
    "\n",
    "keys = list(d.keys())\n",
    "i = 0\n",
    "while i<len(keys):\n",
    "    print(f\"{keys[i]:>30} = {d[keys[i]].title():}\")\n",
    "    i += 1"
   ]
  },
  {
   "cell_type": "markdown",
   "id": "3b7bdeb8",
   "metadata": {},
   "source": [
    "### For Loop\n",
    "\n",
    "    it is meant to iterate iterables \n",
    "    \n",
    "    syntax\n",
    "        \n",
    "        for item in iterable:\n",
    "            body "
   ]
  },
  {
   "cell_type": "markdown",
   "id": "433374f8",
   "metadata": {},
   "source": [
    "    iterables \n",
    "\n",
    "        string\n",
    "        list\n",
    "        tuple\n",
    "        dict\n",
    "        set\n",
    "        frozenset\n",
    "\n",
    "    non-iterables \n",
    "\n",
    "        numbers - int, float, complex\n",
    "        None\n",
    "        True, False"
   ]
  },
  {
   "cell_type": "code",
   "execution_count": 53,
   "id": "973fa4e7",
   "metadata": {},
   "outputs": [
    {
     "ename": "TypeError",
     "evalue": "print() argument after * must be an iterable, not int",
     "output_type": "error",
     "traceback": [
      "\u001b[1;31m---------------------------------------------------------------------------\u001b[0m",
      "\u001b[1;31mTypeError\u001b[0m                                 Traceback (most recent call last)",
      "Input \u001b[1;32mIn [53]\u001b[0m, in \u001b[0;36m<cell line: 2>\u001b[1;34m()\u001b[0m\n\u001b[0;32m      1\u001b[0m num \u001b[38;5;241m=\u001b[39m \u001b[38;5;241m1234\u001b[39m\n\u001b[1;32m----> 2\u001b[0m \u001b[38;5;28;43mprint\u001b[39;49m\u001b[43m(\u001b[49m\u001b[38;5;241;43m*\u001b[39;49m\u001b[43mnum\u001b[49m\u001b[43m,\u001b[49m\u001b[43m \u001b[49m\u001b[43msep\u001b[49m\u001b[38;5;241;43m=\u001b[39;49m\u001b[38;5;124;43m'\u001b[39;49m\u001b[38;5;130;43;01m\\n\u001b[39;49;00m\u001b[38;5;124;43m'\u001b[39;49m\u001b[43m)\u001b[49m\n",
      "\u001b[1;31mTypeError\u001b[0m: print() argument after * must be an iterable, not int"
     ]
    }
   ],
   "source": [
    "num = 1234\n",
    "print(*num, sep='\\n')"
   ]
  },
  {
   "cell_type": "code",
   "execution_count": null,
   "id": "8c646a44",
   "metadata": {},
   "outputs": [],
   "source": []
  },
  {
   "cell_type": "code",
   "execution_count": 52,
   "id": "ae93b44f",
   "metadata": {},
   "outputs": [
    {
     "name": "stdout",
     "output_type": "stream",
     "text": [
      "H\n",
      "e\n",
      "l\n",
      "l\n",
      "o\n"
     ]
    }
   ],
   "source": [
    "s = \"Hello\"\n",
    "print(*s, sep='\\n')"
   ]
  },
  {
   "cell_type": "code",
   "execution_count": 49,
   "id": "3ce0b21d",
   "metadata": {},
   "outputs": [
    {
     "name": "stdout",
     "output_type": "stream",
     "text": [
      "Hello\n"
     ]
    }
   ],
   "source": [
    "print(s)"
   ]
  },
  {
   "cell_type": "code",
   "execution_count": 51,
   "id": "e93bc165",
   "metadata": {},
   "outputs": [
    {
     "name": "stdout",
     "output_type": "stream",
     "text": [
      "H e l l o\n",
      "H e l l o\n"
     ]
    }
   ],
   "source": [
    "print(*s) # iteration\n",
    "print(\"H\", \"e\", \"l\", \"l\", \"o\")"
   ]
  },
  {
   "cell_type": "code",
   "execution_count": 55,
   "id": "b3da8017",
   "metadata": {},
   "outputs": [],
   "source": [
    "names = [\"java\", \"c\", \"c++\", \"ruby\", \"perl\", \"python\"]"
   ]
  },
  {
   "cell_type": "code",
   "execution_count": 56,
   "id": "c8dee0e6",
   "metadata": {},
   "outputs": [
    {
     "name": "stdout",
     "output_type": "stream",
     "text": [
      "['java', 'c', 'c++', 'ruby', 'perl', 'python']\n"
     ]
    }
   ],
   "source": [
    "print(names)"
   ]
  },
  {
   "cell_type": "code",
   "execution_count": 58,
   "id": "e9a2f524",
   "metadata": {},
   "outputs": [
    {
     "name": "stdout",
     "output_type": "stream",
     "text": [
      "java c c++ ruby perl python\n"
     ]
    }
   ],
   "source": [
    "print(\"java\", \"c\", \"c++\", \"ruby\", \"perl\", \"python\")"
   ]
  },
  {
   "cell_type": "code",
   "execution_count": 59,
   "id": "83cb8979",
   "metadata": {},
   "outputs": [
    {
     "name": "stdout",
     "output_type": "stream",
     "text": [
      "java\n",
      "c\n",
      "c++\n",
      "ruby\n",
      "perl\n",
      "python\n"
     ]
    }
   ],
   "source": [
    "print(*names, sep='\\n')"
   ]
  },
  {
   "cell_type": "code",
   "execution_count": 60,
   "id": "271108dd",
   "metadata": {},
   "outputs": [
    {
     "name": "stdout",
     "output_type": "stream",
     "text": [
      "{'name': 'python', 'father': 'guido van rossum', 'version': '3.10', 'website': 'www.python.org'}\n"
     ]
    }
   ],
   "source": [
    "print(d)"
   ]
  },
  {
   "cell_type": "code",
   "execution_count": 61,
   "id": "94f447b4",
   "metadata": {},
   "outputs": [
    {
     "name": "stdout",
     "output_type": "stream",
     "text": [
      "name father version website\n"
     ]
    }
   ],
   "source": [
    "print(*d)"
   ]
  },
  {
   "cell_type": "code",
   "execution_count": 62,
   "id": "ab94fa8c",
   "metadata": {},
   "outputs": [
    {
     "name": "stdout",
     "output_type": "stream",
     "text": [
      "python guido van rossum 3.10 www.python.org\n"
     ]
    }
   ],
   "source": [
    "print(*d.values())"
   ]
  },
  {
   "cell_type": "code",
   "execution_count": 63,
   "id": "122a25b6",
   "metadata": {},
   "outputs": [
    {
     "name": "stdout",
     "output_type": "stream",
     "text": [
      "('name', 'python') ('father', 'guido van rossum') ('version', '3.10') ('website', 'www.python.org')\n"
     ]
    }
   ],
   "source": [
    "print(*d.items())"
   ]
  },
  {
   "cell_type": "code",
   "execution_count": 64,
   "id": "98422f45",
   "metadata": {},
   "outputs": [
    {
     "name": "stdout",
     "output_type": "stream",
     "text": [
      "append\n",
      "clear\n",
      "copy\n",
      "count\n",
      "extend\n",
      "index\n",
      "insert\n",
      "pop\n",
      "remove\n",
      "reverse\n",
      "sort\n"
     ]
    }
   ],
   "source": [
    "print(*dir(list)[-11:], sep=\"\\n\")"
   ]
  },
  {
   "cell_type": "code",
   "execution_count": 66,
   "id": "dcaf394a",
   "metadata": {},
   "outputs": [
    {
     "name": "stdout",
     "output_type": "stream",
     "text": [
      "H\n",
      "e\n",
      "l\n",
      "l\n",
      "o\n"
     ]
    }
   ],
   "source": [
    "for char in \"Hello\":\n",
    "    print(char)"
   ]
  },
  {
   "cell_type": "code",
   "execution_count": 70,
   "id": "1d7cdb4c",
   "metadata": {},
   "outputs": [
    {
     "name": "stdout",
     "output_type": "stream",
     "text": [
      "      java is awesome!\n",
      "         c is awesome!\n",
      "       c++ is awesome!\n",
      "      ruby is awesome!\n"
     ]
    }
   ],
   "source": [
    "x = [\"java\", \"c\", \"c++\", \"ruby\"]\n",
    "for item in x:\n",
    "    print(item.rjust(10), \"is awesome!\")"
   ]
  },
  {
   "cell_type": "code",
   "execution_count": 69,
   "id": "45ef7d87",
   "metadata": {},
   "outputs": [
    {
     "name": "stdout",
     "output_type": "stream",
     "text": [
      "      java is awesome!\n",
      "         c is awesome!\n",
      "       c++ is awesome!\n",
      "      ruby is awesome!\n"
     ]
    }
   ],
   "source": [
    "for item in [\"java\", \"c\", \"c++\", \"ruby\"]:\n",
    "    print(item.rjust(10), \"is awesome!\")"
   ]
  },
  {
   "cell_type": "code",
   "execution_count": 71,
   "id": "5ce0085f",
   "metadata": {},
   "outputs": [
    {
     "name": "stdout",
     "output_type": "stream",
     "text": [
      "spam\n",
      "foo\n",
      "car\n",
      "alice\n"
     ]
    }
   ],
   "source": [
    "d = {'spam':'ham', 'foo': 'bar', 'car': 'har', 'alice': 'bob'}\n",
    "for key in d:\n",
    "    print(key)"
   ]
  },
  {
   "cell_type": "code",
   "execution_count": 72,
   "id": "2afc1763",
   "metadata": {},
   "outputs": [
    {
     "name": "stdout",
     "output_type": "stream",
     "text": [
      "spam\n",
      "foo\n",
      "car\n",
      "alice\n"
     ]
    }
   ],
   "source": [
    "d = {'spam':'ham', 'foo': 'bar', 'car': 'har', 'alice': 'bob'}\n",
    "for key in d.keys():\n",
    "    print(key)"
   ]
  },
  {
   "cell_type": "code",
   "execution_count": 73,
   "id": "03f40d69",
   "metadata": {},
   "outputs": [
    {
     "name": "stdout",
     "output_type": "stream",
     "text": [
      "ham\n",
      "bar\n",
      "har\n",
      "bob\n"
     ]
    }
   ],
   "source": [
    "d = {'spam':'ham', 'foo': 'bar', 'car': 'har', 'alice': 'bob'}\n",
    "for key in d.values():\n",
    "    print(key)"
   ]
  },
  {
   "cell_type": "code",
   "execution_count": 75,
   "id": "d091c5ff",
   "metadata": {},
   "outputs": [],
   "source": [
    "x, y = 10, 20"
   ]
  },
  {
   "cell_type": "code",
   "execution_count": 76,
   "id": "64e710b2",
   "metadata": {},
   "outputs": [
    {
     "name": "stdout",
     "output_type": "stream",
     "text": [
      "10\n"
     ]
    }
   ],
   "source": [
    "print(x)"
   ]
  },
  {
   "cell_type": "code",
   "execution_count": 77,
   "id": "7d5ad471",
   "metadata": {},
   "outputs": [
    {
     "name": "stdout",
     "output_type": "stream",
     "text": [
      "20\n"
     ]
    }
   ],
   "source": [
    "print(y)"
   ]
  },
  {
   "cell_type": "code",
   "execution_count": 79,
   "id": "de6dd1cf",
   "metadata": {},
   "outputs": [
    {
     "name": "stdout",
     "output_type": "stream",
     "text": [
      "                          spam = Ham\n",
      "                           foo = Bar\n",
      "                           car = Har\n",
      "                         alice = Bob\n"
     ]
    }
   ],
   "source": [
    "d = {'spam':'ham', 'foo': 'bar', 'car': 'har', 'alice': 'bob'}\n",
    "for key, value in d.items():\n",
    "    print(f\"{key:>30} = {value.title()}\")"
   ]
  },
  {
   "cell_type": "code",
   "execution_count": 80,
   "id": "f39caba2",
   "metadata": {},
   "outputs": [
    {
     "data": {
      "text/plain": [
       "['java', 'c', 'c++', 'ruby', 'perl', 'python']"
      ]
     },
     "execution_count": 80,
     "metadata": {},
     "output_type": "execute_result"
    }
   ],
   "source": [
    "names "
   ]
  },
  {
   "cell_type": "code",
   "execution_count": 81,
   "id": "3a6eacb7",
   "metadata": {},
   "outputs": [],
   "source": []
  },
  {
   "cell_type": "code",
   "execution_count": 83,
   "id": "da5c4819",
   "metadata": {},
   "outputs": [
    {
     "name": "stdout",
     "output_type": "stream",
     "text": [
      "Not Found!\n"
     ]
    }
   ],
   "source": [
    "key = \"html\"\n",
    "for value in names:\n",
    "    if key == value:\n",
    "        print(\"Found!\")\n",
    "        break\n",
    "else:\n",
    "    print(\"Not Found!\")"
   ]
  },
  {
   "cell_type": "markdown",
   "id": "f239d03d",
   "metadata": {},
   "source": [
    "    infty -> on wing span\n",
    "    \n",
    "    geeks for geeks\n",
    "    \n",
    "    hacker rank\n",
    "    \n",
    "    leet code\n",
    "    \n",
    "    code ceph"
   ]
  },
  {
   "cell_type": "code",
   "execution_count": null,
   "id": "9247c23a",
   "metadata": {},
   "outputs": [],
   "source": []
  }
 ],
 "metadata": {
  "kernelspec": {
   "display_name": "Python 3 (ipykernel)",
   "language": "python",
   "name": "python3"
  },
  "language_info": {
   "codemirror_mode": {
    "name": "ipython",
    "version": 3
   },
   "file_extension": ".py",
   "mimetype": "text/x-python",
   "name": "python",
   "nbconvert_exporter": "python",
   "pygments_lexer": "ipython3",
   "version": "3.10.5"
  }
 },
 "nbformat": 4,
 "nbformat_minor": 5
}
