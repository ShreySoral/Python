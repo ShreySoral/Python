{
 "cells": [
  {
   "cell_type": "markdown",
   "id": "b5f7719e",
   "metadata": {},
   "source": [
    "### Bank Application"
   ]
  },
  {
   "cell_type": "markdown",
   "id": "0d9efd0d",
   "metadata": {},
   "source": [
    "main menu\n",
    "\n",
    "    login\n",
    "    signup\n",
    "    "
   ]
  },
  {
   "cell_type": "markdown",
   "id": "85b63336",
   "metadata": {},
   "source": [
    "    1001 sachin 60,000 redhat \n",
    "    1002 rajat  80,000 asimov\n",
    "    \n",
    "    ...."
   ]
  },
  {
   "cell_type": "code",
   "execution_count": 6,
   "id": "d03f2eec",
   "metadata": {},
   "outputs": [],
   "source": [
    "database={\n",
    "    1001:{\n",
    "        \"name\":\"sachin\",\n",
    "        \"balance\":60000,\n",
    "        \"password\":\"redhat\",\n",
    "    },\n",
    "    1002:{\n",
    "        \"name\":\"rajat\",\n",
    "        \"balance\":80000,\n",
    "        \"password\":\"asimov\",\n",
    "    },\n",
    "}"
   ]
  },
  {
   "cell_type": "code",
   "execution_count": 7,
   "id": "c346a36f",
   "metadata": {},
   "outputs": [
    {
     "data": {
      "text/plain": [
       "1003"
      ]
     },
     "execution_count": 7,
     "metadata": {},
     "output_type": "execute_result"
    }
   ],
   "source": [
    "max(list(database.keys()))+1"
   ]
  },
  {
   "cell_type": "code",
   "execution_count": 8,
   "id": "52401ec3",
   "metadata": {},
   "outputs": [],
   "source": [
    "from getpass import getpass"
   ]
  },
  {
   "cell_type": "code",
   "execution_count": 9,
   "id": "f51dc1f7",
   "metadata": {},
   "outputs": [],
   "source": [
    "def signup():\n",
    "    \"\"\"\n",
    "    ask user for details for new account\n",
    "    \"\"\"\n",
    "    name=input(\"name: \").strip().lower()\n",
    "    balance=float(input(\"balance: \"))\n",
    "    password=getpass(\"password: \")\n",
    "    new_acc=max(database.keys())+1\n",
    "\n",
    "    print(f\"new account created note account number {new_acc}\")\n",
    "    database[new_acc]={\n",
    "    \"name\":name,\n",
    "    \"balance\":balance,\n",
    "    \"password\":password,\n",
    "}"
   ]
  },
  {
   "cell_type": "code",
   "execution_count": 10,
   "id": "3c1c766a",
   "metadata": {},
   "outputs": [],
   "source": [
    "from pprint import pprint"
   ]
  },
  {
   "cell_type": "code",
   "execution_count": 11,
   "id": "d07b2f7d",
   "metadata": {},
   "outputs": [
    {
     "name": "stdout",
     "output_type": "stream",
     "text": [
      "{1001: {'balance': 60000, 'name': 'sachin', 'password': 'redhat'},\n",
      " 1002: {'balance': 80000, 'name': 'rajat', 'password': 'asimov'}}\n"
     ]
    }
   ],
   "source": [
    "pprint(database)"
   ]
  },
  {
   "cell_type": "code",
   "execution_count": 12,
   "id": "fc41ac5c",
   "metadata": {},
   "outputs": [
    {
     "name": "stdout",
     "output_type": "stream",
     "text": [
      "name: shrey\n",
      "balance: 4\n",
      "password: ········\n",
      "new account created note account number 1003\n"
     ]
    }
   ],
   "source": [
    "signup()"
   ]
  },
  {
   "cell_type": "code",
   "execution_count": 19,
   "id": "2012dcce",
   "metadata": {},
   "outputs": [],
   "source": [
    "def login():\n",
    "    global database\n",
    "    acc=int(input(\"account number: \"))\n",
    "    if acc in database.keys():\n",
    "        password=getpass(\"Password\")\n",
    "        db_password=database[acc][\"password\"]\n",
    "        if password==db_password:\n",
    "            name=database[acc][\"name\"]\n",
    "            print(f\"Welcome back {name.title()}\")\n",
    "            return acc\n",
    "        else:\n",
    "            print(\"!Error invalid password\")\n",
    "            print(\"Please try again\")\n",
    "            return False\n",
    "    else:\n",
    "        print(\"Error! Your account does not exist\")\n",
    "        print(\"Please check account number and try again\")\n",
    "        print(\"or just create a new account by signing up\")\n",
    "        return False"
   ]
  },
  {
   "cell_type": "code",
   "execution_count": 20,
   "id": "2648f69d",
   "metadata": {},
   "outputs": [
    {
     "name": "stdout",
     "output_type": "stream",
     "text": [
      "account number: 1001\n",
      "Password········\n",
      "Welcome back Sachin\n"
     ]
    },
    {
     "data": {
      "text/plain": [
       "1001"
      ]
     },
     "execution_count": 20,
     "metadata": {},
     "output_type": "execute_result"
    }
   ],
   "source": [
    "login()"
   ]
  },
  {
   "cell_type": "code",
   "execution_count": 21,
   "id": "7c1a8067",
   "metadata": {},
   "outputs": [
    {
     "name": "stdout",
     "output_type": "stream",
     "text": [
      "{1001: {'balance': 60000, 'name': 'sachin', 'password': 'redhat'},\n",
      " 1002: {'balance': 80000, 'name': 'rajat', 'password': 'asimov'},\n",
      " 1003: {'balance': 4.0, 'name': 'shrey', 'password': ''}}\n"
     ]
    }
   ],
   "source": [
    "pprint(database)"
   ]
  },
  {
   "cell_type": "code",
   "execution_count": 26,
   "id": "7ec9ea0e",
   "metadata": {},
   "outputs": [],
   "source": [
    "def debit(acc,amount):\n",
    "    \"\"\"\n",
    "    try to deduct balance from user account\n",
    "    \"\"\"\n",
    "    amount=float(input(\"Amount to Debit: \"))\n",
    "    account_balance=database[acc][\"balance\"]\n",
    "    if amount<=account_balance:\n",
    "        database[acc][\"balance\"]-=amount\n",
    "        print(f\"{amount} Successfully Debited from you account\")\n",
    "        print(f\"Your remaining balance is {database[acc]['balance']}\\u20B9\")\n",
    "    else:\n",
    "        print(\"!Error Insufficient Account Balance\")\n",
    "        print(f\"You only have {account_balance}\\u20B9 in your account\")"
   ]
  },
  {
   "cell_type": "code",
   "execution_count": 27,
   "id": "9b93b555",
   "metadata": {},
   "outputs": [
    {
     "name": "stdout",
     "output_type": "stream",
     "text": [
      "Amount to Debit: 20\n",
      "20.0 Successfully Debited from you account\n",
      "Your remaining balance is 79980.0₹\n"
     ]
    }
   ],
   "source": [
    "debit(1002,30000)"
   ]
  },
  {
   "cell_type": "code",
   "execution_count": 28,
   "id": "afe970fc",
   "metadata": {},
   "outputs": [],
   "source": [
    "def credit(acc,amount):\n",
    "    global database\n",
    "    database[acc]['balance']+=amount\n",
    "    print(f\"You account sucessfully credited for {amount}\\u20B9\")\n",
    "    print(f\"Your updated balance is {database[acc]['balance']}\\u20B9\")"
   ]
  },
  {
   "cell_type": "code",
   "execution_count": 29,
   "id": "2a99a7ac",
   "metadata": {},
   "outputs": [
    {
     "name": "stdout",
     "output_type": "stream",
     "text": [
      "You account sucessfully credited for 50000₹\n",
      "Your updated balance is 107000.0₹\n"
     ]
    }
   ],
   "source": [
    "credit(1001,50000)"
   ]
  },
  {
   "cell_type": "code",
   "execution_count": 30,
   "id": "d86fe8bc",
   "metadata": {},
   "outputs": [
    {
     "name": "stdout",
     "output_type": "stream",
     "text": [
      "{1001: {'balance': 107000.0, 'name': 'sachin', 'password': 'redhat'},\n",
      " 1002: {'balance': 79980.0, 'name': 'rajat', 'password': 'asimov'},\n",
      " 1003: {'balance': 4.0, 'name': 'shrey', 'password': ''}}\n"
     ]
    }
   ],
   "source": [
    "pprint(database)"
   ]
  },
  {
   "cell_type": "code",
   "execution_count": 32,
   "id": "5ff291a7",
   "metadata": {},
   "outputs": [],
   "source": [
    "def check_balance(acc):\n",
    "    \"\"\"\n",
    "    display balance of user account\n",
    "    \"\"\"\n",
    "    global database\n",
    "    bal=database[acc][\"balance\"]\n",
    "    print(f\"You have {bal}\\u20B9 in your account\")"
   ]
  },
  {
   "cell_type": "code",
   "execution_count": 34,
   "id": "306885ce",
   "metadata": {},
   "outputs": [],
   "source": [
    "def main_menu():\n",
    "    \"\"\"\n",
    "    Main Menu for Bank Application\n",
    "    \"\"\"\n",
    "    menu=\"\"\"\n",
    "    1. Login\n",
    "    2. Signup\n",
    "    3. Exit\n",
    "    \"\"\"\n",
    "    ch=input(\"choice: \")\n",
    "    if ch==\"1\":\n",
    "        acc=login()\n",
    "        if acc:\n",
    "            sub_menu(acc)\n",
    "    elif ch==\"2\":\n",
    "        signup()\n",
    "    elif ch==\"3\":\n",
    "        print(\"\\n\\nThanks for using our services\\n\\n\")\n",
    "        print(\"..Bye..\")\n",
    "        exit(0)\n",
    "    else:\n",
    "        print(\"\\nInvalid Choice please select 1 2 or 3\")\n",
    "        "
   ]
  },
  {
   "cell_type": "code",
   "execution_count": 35,
   "id": "c330a94a",
   "metadata": {},
   "outputs": [
    {
     "name": "stdout",
     "output_type": "stream",
     "text": [
      "choice: 1\n",
      "account number: 1\n",
      "Error! Your account does not exist\n",
      "Please check account number and try again\n",
      "or just create a new account by signing up\n",
      "choice: 1\n",
      "account number: 1\n",
      "Error! Your account does not exist\n",
      "Please check account number and try again\n",
      "or just create a new account by signing up\n",
      "choice: 1\n"
     ]
    },
    {
     "ename": "KeyboardInterrupt",
     "evalue": "Interrupted by user",
     "output_type": "error",
     "traceback": [
      "\u001b[1;31m---------------------------------------------------------------------------\u001b[0m",
      "\u001b[1;31mKeyboardInterrupt\u001b[0m                         Traceback (most recent call last)",
      "Input \u001b[1;32mIn [35]\u001b[0m, in \u001b[0;36m<cell line: 1>\u001b[1;34m()\u001b[0m\n\u001b[0;32m      1\u001b[0m \u001b[38;5;28;01mwhile\u001b[39;00m \u001b[38;5;28;01mTrue\u001b[39;00m:\n\u001b[1;32m----> 2\u001b[0m     \u001b[43mmain_menu\u001b[49m\u001b[43m(\u001b[49m\u001b[43m)\u001b[49m\n",
      "Input \u001b[1;32mIn [34]\u001b[0m, in \u001b[0;36mmain_menu\u001b[1;34m()\u001b[0m\n\u001b[0;32m     10\u001b[0m ch\u001b[38;5;241m=\u001b[39m\u001b[38;5;28mint\u001b[39m(\u001b[38;5;28minput\u001b[39m(\u001b[38;5;124m\"\u001b[39m\u001b[38;5;124mchoice: \u001b[39m\u001b[38;5;124m\"\u001b[39m))\n\u001b[0;32m     11\u001b[0m \u001b[38;5;28;01mif\u001b[39;00m ch\u001b[38;5;241m==\u001b[39m\u001b[38;5;241m1\u001b[39m:\n\u001b[1;32m---> 12\u001b[0m     acc\u001b[38;5;241m=\u001b[39m\u001b[43mlogin\u001b[49m\u001b[43m(\u001b[49m\u001b[43m)\u001b[49m\n\u001b[0;32m     13\u001b[0m     \u001b[38;5;28;01mif\u001b[39;00m acc:\n\u001b[0;32m     14\u001b[0m         sub_menu(acc)\n",
      "Input \u001b[1;32mIn [19]\u001b[0m, in \u001b[0;36mlogin\u001b[1;34m()\u001b[0m\n\u001b[0;32m      1\u001b[0m \u001b[38;5;28;01mdef\u001b[39;00m \u001b[38;5;21mlogin\u001b[39m():\n\u001b[0;32m      2\u001b[0m     \u001b[38;5;28;01mglobal\u001b[39;00m database\n\u001b[1;32m----> 3\u001b[0m     acc\u001b[38;5;241m=\u001b[39m\u001b[38;5;28mint\u001b[39m(\u001b[38;5;28;43minput\u001b[39;49m\u001b[43m(\u001b[49m\u001b[38;5;124;43m\"\u001b[39;49m\u001b[38;5;124;43maccount number: \u001b[39;49m\u001b[38;5;124;43m\"\u001b[39;49m\u001b[43m)\u001b[49m)\n\u001b[0;32m      4\u001b[0m     \u001b[38;5;28;01mif\u001b[39;00m acc \u001b[38;5;129;01min\u001b[39;00m database\u001b[38;5;241m.\u001b[39mkeys():\n\u001b[0;32m      5\u001b[0m         password\u001b[38;5;241m=\u001b[39mgetpass(\u001b[38;5;124m\"\u001b[39m\u001b[38;5;124mPassword\u001b[39m\u001b[38;5;124m\"\u001b[39m)\n",
      "File \u001b[1;32m~\\AppData\\Local\\Programs\\Python\\Python310\\lib\\site-packages\\ipykernel\\kernelbase.py:1177\u001b[0m, in \u001b[0;36mKernel.raw_input\u001b[1;34m(self, prompt)\u001b[0m\n\u001b[0;32m   1173\u001b[0m \u001b[38;5;28;01mif\u001b[39;00m \u001b[38;5;129;01mnot\u001b[39;00m \u001b[38;5;28mself\u001b[39m\u001b[38;5;241m.\u001b[39m_allow_stdin:\n\u001b[0;32m   1174\u001b[0m     \u001b[38;5;28;01mraise\u001b[39;00m StdinNotImplementedError(\n\u001b[0;32m   1175\u001b[0m         \u001b[38;5;124m\"\u001b[39m\u001b[38;5;124mraw_input was called, but this frontend does not support input requests.\u001b[39m\u001b[38;5;124m\"\u001b[39m\n\u001b[0;32m   1176\u001b[0m     )\n\u001b[1;32m-> 1177\u001b[0m \u001b[38;5;28;01mreturn\u001b[39;00m \u001b[38;5;28;43mself\u001b[39;49m\u001b[38;5;241;43m.\u001b[39;49m\u001b[43m_input_request\u001b[49m\u001b[43m(\u001b[49m\n\u001b[0;32m   1178\u001b[0m \u001b[43m    \u001b[49m\u001b[38;5;28;43mstr\u001b[39;49m\u001b[43m(\u001b[49m\u001b[43mprompt\u001b[49m\u001b[43m)\u001b[49m\u001b[43m,\u001b[49m\n\u001b[0;32m   1179\u001b[0m \u001b[43m    \u001b[49m\u001b[38;5;28;43mself\u001b[39;49m\u001b[38;5;241;43m.\u001b[39;49m\u001b[43m_parent_ident\u001b[49m\u001b[43m[\u001b[49m\u001b[38;5;124;43m\"\u001b[39;49m\u001b[38;5;124;43mshell\u001b[39;49m\u001b[38;5;124;43m\"\u001b[39;49m\u001b[43m]\u001b[49m\u001b[43m,\u001b[49m\n\u001b[0;32m   1180\u001b[0m \u001b[43m    \u001b[49m\u001b[38;5;28;43mself\u001b[39;49m\u001b[38;5;241;43m.\u001b[39;49m\u001b[43mget_parent\u001b[49m\u001b[43m(\u001b[49m\u001b[38;5;124;43m\"\u001b[39;49m\u001b[38;5;124;43mshell\u001b[39;49m\u001b[38;5;124;43m\"\u001b[39;49m\u001b[43m)\u001b[49m\u001b[43m,\u001b[49m\n\u001b[0;32m   1181\u001b[0m \u001b[43m    \u001b[49m\u001b[43mpassword\u001b[49m\u001b[38;5;241;43m=\u001b[39;49m\u001b[38;5;28;43;01mFalse\u001b[39;49;00m\u001b[43m,\u001b[49m\n\u001b[0;32m   1182\u001b[0m \u001b[43m\u001b[49m\u001b[43m)\u001b[49m\n",
      "File \u001b[1;32m~\\AppData\\Local\\Programs\\Python\\Python310\\lib\\site-packages\\ipykernel\\kernelbase.py:1219\u001b[0m, in \u001b[0;36mKernel._input_request\u001b[1;34m(self, prompt, ident, parent, password)\u001b[0m\n\u001b[0;32m   1216\u001b[0m             \u001b[38;5;28;01mbreak\u001b[39;00m\n\u001b[0;32m   1217\u001b[0m \u001b[38;5;28;01mexcept\u001b[39;00m \u001b[38;5;167;01mKeyboardInterrupt\u001b[39;00m:\n\u001b[0;32m   1218\u001b[0m     \u001b[38;5;66;03m# re-raise KeyboardInterrupt, to truncate traceback\u001b[39;00m\n\u001b[1;32m-> 1219\u001b[0m     \u001b[38;5;28;01mraise\u001b[39;00m \u001b[38;5;167;01mKeyboardInterrupt\u001b[39;00m(\u001b[38;5;124m\"\u001b[39m\u001b[38;5;124mInterrupted by user\u001b[39m\u001b[38;5;124m\"\u001b[39m) \u001b[38;5;28;01mfrom\u001b[39;00m \u001b[38;5;28mNone\u001b[39m\n\u001b[0;32m   1220\u001b[0m \u001b[38;5;28;01mexcept\u001b[39;00m \u001b[38;5;167;01mException\u001b[39;00m:\n\u001b[0;32m   1221\u001b[0m     \u001b[38;5;28mself\u001b[39m\u001b[38;5;241m.\u001b[39mlog\u001b[38;5;241m.\u001b[39mwarning(\u001b[38;5;124m\"\u001b[39m\u001b[38;5;124mInvalid Message:\u001b[39m\u001b[38;5;124m\"\u001b[39m, exc_info\u001b[38;5;241m=\u001b[39m\u001b[38;5;28;01mTrue\u001b[39;00m)\n",
      "\u001b[1;31mKeyboardInterrupt\u001b[0m: Interrupted by user"
     ]
    }
   ],
   "source": [
    "while True:\n",
    "    main_menu()"
   ]
  },
  {
   "cell_type": "code",
   "execution_count": 36,
   "id": "dd8d6011",
   "metadata": {},
   "outputs": [],
   "source": [
    "def sub_menu(acc):\n",
    "    pass"
   ]
  },
  {
   "cell_type": "code",
   "execution_count": 38,
   "id": "b5036275",
   "metadata": {},
   "outputs": [],
   "source": [
    "def sub_menu(acc):\n",
    "    \"\"\"\n",
    "    Sub Menu for bank application\n",
    "    \"\"\"\n",
    "    menu=\"\"\"\n",
    "    1. Debit\n",
    "    2. Credit\n",
    "    3.Check Balance\n",
    "    4. Logout\n",
    "    \"\"\"\n",
    "    while True:\n",
    "        print(menu)\n",
    "        ch=int(input(\"Choice: \"))\n",
    "        if ch==\"1\":\n",
    "            amount=float(input(\"Enter Amount: \"))\n",
    "            debit(acc,amount)\n",
    "        elif ch==\"2\":\n",
    "            amount=float(input(\"Enter Amount: \"))\n",
    "            debit(acc,amount)\n",
    "        elif ch==\"3\":\n",
    "            check_balance(acc)\n",
    "        elif ch==\"4\":\n",
    "            print(\"Bye See you soon\")\n",
    "            break\n",
    "        else:\n",
    "            print(\"Invalid Choice choose from 1,2,3 or 4\")"
   ]
  },
  {
   "cell_type": "code",
   "execution_count": null,
   "id": "d799402e",
   "metadata": {},
   "outputs": [],
   "source": []
  }
 ],
 "metadata": {
  "kernelspec": {
   "display_name": "Python 3 (ipykernel)",
   "language": "python",
   "name": "python3"
  },
  "language_info": {
   "codemirror_mode": {
    "name": "ipython",
    "version": 3
   },
   "file_extension": ".py",
   "mimetype": "text/x-python",
   "name": "python",
   "nbconvert_exporter": "python",
   "pygments_lexer": "ipython3",
   "version": "3.10.5"
  }
 },
 "nbformat": 4,
 "nbformat_minor": 5
}
