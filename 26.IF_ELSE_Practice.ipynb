{
 "cells": [
  {
   "cell_type": "markdown",
   "id": "331eb53b",
   "metadata": {},
   "source": [
    "### LEAP YEAR"
   ]
  },
  {
   "cell_type": "code",
   "execution_count": 2,
   "id": "57803a9c",
   "metadata": {},
   "outputs": [
    {
     "name": "stdout",
     "output_type": "stream",
     "text": [
      "Hello World!\n"
     ]
    }
   ],
   "source": [
    "print(\"Hello World!\")\n",
    "# function calling\n",
    "#function_name(arg1, arg2, ..., arg3)"
   ]
  },
  {
   "cell_type": "code",
   "execution_count": 3,
   "id": "c745bec0",
   "metadata": {},
   "outputs": [
    {
     "name": "stdout",
     "output_type": "stream",
     "text": [
      "Help on built-in function print in module builtins:\n",
      "\n",
      "print(...)\n",
      "    print(value, ..., sep=' ', end='\\n', file=sys.stdout, flush=False)\n",
      "    \n",
      "    Prints the values to a stream, or to sys.stdout by default.\n",
      "    Optional keyword arguments:\n",
      "    file:  a file-like object (stream); defaults to the current sys.stdout.\n",
      "    sep:   string inserted between values, default a space.\n",
      "    end:   string appended after the last value, default a newline.\n",
      "    flush: whether to forcibly flush the stream.\n",
      "\n"
     ]
    }
   ],
   "source": [
    "help(print)"
   ]
  },
  {
   "cell_type": "code",
   "execution_count": 13,
   "id": "9927bd55",
   "metadata": {},
   "outputs": [],
   "source": [
    "def hello(name):\n",
    "    \"\"\"\n",
    "        just a basic function to print hello\n",
    "    \"\"\"\n",
    "    print(f\"Hello user {name}, welcome to the function.\")"
   ]
  },
  {
   "cell_type": "code",
   "execution_count": 14,
   "id": "071aacfa",
   "metadata": {},
   "outputs": [
    {
     "name": "stdout",
     "output_type": "stream",
     "text": [
      "Hello user sachin, welcome to the function.\n"
     ]
    }
   ],
   "source": [
    "value = hello(\"sachin\")  #call"
   ]
  },
  {
   "cell_type": "code",
   "execution_count": 15,
   "id": "4a2a9583",
   "metadata": {},
   "outputs": [
    {
     "name": "stdout",
     "output_type": "stream",
     "text": [
      "None\n"
     ]
    }
   ],
   "source": [
    "print(value)"
   ]
  },
  {
   "cell_type": "code",
   "execution_count": 7,
   "id": "b365e0b2",
   "metadata": {},
   "outputs": [
    {
     "name": "stdout",
     "output_type": "stream",
     "text": [
      "Help on function hello in module __main__:\n",
      "\n",
      "hello(name)\n",
      "    just a basic function to print hello\n",
      "\n"
     ]
    }
   ],
   "source": [
    "help(hello)"
   ]
  },
  {
   "cell_type": "code",
   "execution_count": 16,
   "id": "cc959d33",
   "metadata": {},
   "outputs": [],
   "source": [
    "def add(x, y):\n",
    "    print(x**2+y**2)"
   ]
  },
  {
   "cell_type": "code",
   "execution_count": 17,
   "id": "887a8af3",
   "metadata": {},
   "outputs": [
    {
     "name": "stdout",
     "output_type": "stream",
     "text": [
      "5\n"
     ]
    }
   ],
   "source": [
    "add(1, 2)"
   ]
  },
  {
   "cell_type": "code",
   "execution_count": 18,
   "id": "7b2a948f",
   "metadata": {},
   "outputs": [
    {
     "name": "stdout",
     "output_type": "stream",
     "text": [
      "41\n"
     ]
    }
   ],
   "source": [
    "add(4, 5)"
   ]
  },
  {
   "cell_type": "code",
   "execution_count": 19,
   "id": "fbfaed5e",
   "metadata": {},
   "outputs": [
    {
     "name": "stdout",
     "output_type": "stream",
     "text": [
      "500\n"
     ]
    }
   ],
   "source": [
    "r = add(10, 20)"
   ]
  },
  {
   "cell_type": "code",
   "execution_count": 20,
   "id": "08f83fea",
   "metadata": {},
   "outputs": [
    {
     "name": "stdout",
     "output_type": "stream",
     "text": [
      "None\n"
     ]
    }
   ],
   "source": [
    "print(r)"
   ]
  },
  {
   "cell_type": "markdown",
   "id": "262e61be",
   "metadata": {},
   "source": [
    "    if else elif def return ... keywords"
   ]
  },
  {
   "cell_type": "code",
   "execution_count": 21,
   "id": "91b19783",
   "metadata": {},
   "outputs": [],
   "source": [
    "def add(x, y):\n",
    "    return x**2+y**2"
   ]
  },
  {
   "cell_type": "code",
   "execution_count": 26,
   "id": "13de0d60",
   "metadata": {},
   "outputs": [],
   "source": [
    "r = add(4, 5)\n",
    "# r = 41"
   ]
  },
  {
   "cell_type": "code",
   "execution_count": 27,
   "id": "97e7884c",
   "metadata": {},
   "outputs": [
    {
     "name": "stdout",
     "output_type": "stream",
     "text": [
      "41\n"
     ]
    }
   ],
   "source": [
    "print(r)"
   ]
  },
  {
   "cell_type": "code",
   "execution_count": 24,
   "id": "c4d058cc",
   "metadata": {},
   "outputs": [
    {
     "name": "stdout",
     "output_type": "stream",
     "text": [
      "5\n"
     ]
    }
   ],
   "source": [
    "print(add(1, 2))"
   ]
  },
  {
   "cell_type": "code",
   "execution_count": 25,
   "id": "6e04ba47",
   "metadata": {},
   "outputs": [
    {
     "name": "stdout",
     "output_type": "stream",
     "text": [
      "13\n"
     ]
    }
   ],
   "source": [
    "x = 4 + 9\n",
    "print(x)"
   ]
  },
  {
   "cell_type": "code",
   "execution_count": 28,
   "id": "487e1475",
   "metadata": {},
   "outputs": [
    {
     "name": "stdout",
     "output_type": "stream",
     "text": [
      "enter your name: sachin\n"
     ]
    }
   ],
   "source": [
    "name = input(\"enter your name: \")\n",
    "\n",
    "# name = \"sachin\""
   ]
  },
  {
   "cell_type": "code",
   "execution_count": 29,
   "id": "b4993148",
   "metadata": {},
   "outputs": [],
   "source": [
    "s = \"sachin\""
   ]
  },
  {
   "cell_type": "code",
   "execution_count": 30,
   "id": "17827287",
   "metadata": {},
   "outputs": [
    {
     "name": "stdout",
     "output_type": "stream",
     "text": [
      "SACHIN\n"
     ]
    }
   ],
   "source": [
    "ns = s.upper()\n",
    "# ns = \"SACHIN\"\n",
    "print(ns)"
   ]
  },
  {
   "cell_type": "code",
   "execution_count": 32,
   "id": "b64832b0",
   "metadata": {},
   "outputs": [],
   "source": [
    "def add(x, y):\n",
    "    r = x**2 + y**2\n",
    "    return \"sachin\""
   ]
  },
  {
   "cell_type": "code",
   "execution_count": 33,
   "id": "4dd90464",
   "metadata": {},
   "outputs": [
    {
     "name": "stdout",
     "output_type": "stream",
     "text": [
      "sachin\n"
     ]
    }
   ],
   "source": [
    "x = add(10, 20)\n",
    "print(x)"
   ]
  },
  {
   "cell_type": "code",
   "execution_count": 34,
   "id": "b8a9d748",
   "metadata": {},
   "outputs": [
    {
     "name": "stdout",
     "output_type": "stream",
     "text": [
      "ha ha\n"
     ]
    }
   ],
   "source": [
    "x = print('ha ha')"
   ]
  },
  {
   "cell_type": "code",
   "execution_count": 35,
   "id": "2b2eda9d",
   "metadata": {},
   "outputs": [
    {
     "name": "stdout",
     "output_type": "stream",
     "text": [
      "None\n"
     ]
    }
   ],
   "source": [
    "print(x)"
   ]
  },
  {
   "cell_type": "code",
   "execution_count": 36,
   "id": "eb55566a",
   "metadata": {},
   "outputs": [],
   "source": [
    "def yahoo():\n",
    "    print('ye ye ye ye ha ha ah')"
   ]
  },
  {
   "cell_type": "code",
   "execution_count": 37,
   "id": "9b9d1f09",
   "metadata": {},
   "outputs": [
    {
     "name": "stdout",
     "output_type": "stream",
     "text": [
      "ye ye ye ye ha ha ah\n"
     ]
    }
   ],
   "source": [
    "x = yahoo()"
   ]
  },
  {
   "cell_type": "code",
   "execution_count": 38,
   "id": "d8170f07",
   "metadata": {},
   "outputs": [
    {
     "name": "stdout",
     "output_type": "stream",
     "text": [
      "None\n"
     ]
    }
   ],
   "source": [
    "print(x)"
   ]
  },
  {
   "cell_type": "code",
   "execution_count": 39,
   "id": "6c00d7e0",
   "metadata": {},
   "outputs": [
    {
     "name": "stdout",
     "output_type": "stream",
     "text": [
      "ye ye ye ye ha ha ah\n"
     ]
    }
   ],
   "source": [
    "yahoo()"
   ]
  },
  {
   "cell_type": "code",
   "execution_count": 41,
   "id": "d8299ca9",
   "metadata": {},
   "outputs": [
    {
     "name": "stdout",
     "output_type": "stream",
     "text": [
      "ye ye ye ye ha ha ah\n"
     ]
    }
   ],
   "source": [
    "yahoo()"
   ]
  },
  {
   "cell_type": "code",
   "execution_count": 45,
   "id": "b778b277",
   "metadata": {},
   "outputs": [],
   "source": [
    "def square_add(x, y):\n",
    "    return x**2 + y**2"
   ]
  },
  {
   "cell_type": "code",
   "execution_count": 46,
   "id": "8f57479a",
   "metadata": {},
   "outputs": [
    {
     "name": "stdout",
     "output_type": "stream",
     "text": [
      "a: 5\n",
      "b: 6\n",
      "5^2 + 6^2 = 61\n"
     ]
    }
   ],
   "source": [
    "a = int(input(\"a: \"))\n",
    "b = int(input(\"b: \"))\n",
    "ans = square_add(a, b)\n",
    "\n",
    "print(f\"{a}^2 + {b}^2 = {ans}\")"
   ]
  },
  {
   "cell_type": "code",
   "execution_count": 49,
   "id": "08502da4",
   "metadata": {},
   "outputs": [
    {
     "name": "stdout",
     "output_type": "stream",
     "text": [
      "Help on method raw_input in module ipykernel.kernelbase:\n",
      "\n",
      "raw_input(prompt='') method of ipykernel.ipkernel.IPythonKernel instance\n",
      "    Forward raw_input to frontends\n",
      "    \n",
      "    Raises\n",
      "    ------\n",
      "    StdinNotImplementedError if active frontend doesn't support stdin.\n",
      "\n"
     ]
    }
   ],
   "source": [
    "help(input)"
   ]
  },
  {
   "cell_type": "markdown",
   "id": "a43b351a",
   "metadata": {},
   "source": [
    "    Documentation String\n",
    "    doc-string"
   ]
  },
  {
   "cell_type": "code",
   "execution_count": 52,
   "id": "98e579ac",
   "metadata": {},
   "outputs": [],
   "source": [
    "def is_leap_year(year):\n",
    "    \"\"\"\n",
    "        return True if year is Leap Year otherwise return False\n",
    "    \"\"\""
   ]
  },
  {
   "cell_type": "code",
   "execution_count": 53,
   "id": "b177bf55",
   "metadata": {},
   "outputs": [
    {
     "name": "stdout",
     "output_type": "stream",
     "text": [
      "Help on function is_leap_year in module __main__:\n",
      "\n",
      "is_leap_year(year)\n",
      "    return True if year is Leap Year otherwise return False\n",
      "\n"
     ]
    }
   ],
   "source": [
    "help(is_leap_year)"
   ]
  },
  {
   "cell_type": "markdown",
   "id": "4d92f05f",
   "metadata": {},
   "source": [
    "    year % 4 == 0 --> that can be leap year\n",
    "    \n",
    "        all century years are divisble by 4 but all of them are not leap years"
   ]
  },
  {
   "cell_type": "code",
   "execution_count": 55,
   "id": "8ab72a51",
   "metadata": {},
   "outputs": [
    {
     "data": {
      "text/plain": [
       "True"
      ]
     },
     "execution_count": 55,
     "metadata": {},
     "output_type": "execute_result"
    }
   ],
   "source": [
    "1900 % 4 == 0"
   ]
  },
  {
   "cell_type": "markdown",
   "id": "eb086bde",
   "metadata": {},
   "source": [
    "    2016\n",
    "    2013\n",
    "    2362"
   ]
  },
  {
   "cell_type": "markdown",
   "id": "cc70ce8f",
   "metadata": {},
   "source": [
    "    100\n",
    "    200\n",
    "    300\n",
    "    400 --> leap year\n",
    "    500\n",
    "    600\n",
    "    700\n",
    "    800 --> leap year"
   ]
  },
  {
   "cell_type": "code",
   "execution_count": 56,
   "id": "b775e82a",
   "metadata": {},
   "outputs": [
    {
     "name": "stdout",
     "output_type": "stream",
     "text": [
      "hi\n"
     ]
    }
   ],
   "source": [
    "r = print('hi')"
   ]
  },
  {
   "cell_type": "code",
   "execution_count": 57,
   "id": "0f376a4b",
   "metadata": {},
   "outputs": [
    {
     "name": "stdout",
     "output_type": "stream",
     "text": [
      "None\n"
     ]
    }
   ],
   "source": [
    "print(r)"
   ]
  },
  {
   "cell_type": "code",
   "execution_count": 75,
   "id": "9caf209f",
   "metadata": {},
   "outputs": [
    {
     "name": "stdout",
     "output_type": "stream",
     "text": [
      "0 False\n",
      "'0' True\n"
     ]
    }
   ],
   "source": [
    "a = 0\n",
    "b = \"0\"\n",
    "print(repr(a), bool(a))\n",
    "print(repr(b), bool(b))"
   ]
  },
  {
   "cell_type": "code",
   "execution_count": null,
   "id": "bcb992db",
   "metadata": {},
   "outputs": [],
   "source": []
  },
  {
   "cell_type": "code",
   "execution_count": 76,
   "id": "091b3144",
   "metadata": {},
   "outputs": [
    {
     "name": "stdout",
     "output_type": "stream",
     "text": [
      "0\n",
      "easy pesy\n"
     ]
    }
   ],
   "source": [
    "if int(input()):\n",
    "    print(\"what do you think ?\")\n",
    "else:\n",
    "    print('easy pesy')"
   ]
  },
  {
   "cell_type": "code",
   "execution_count": 69,
   "id": "f8c1faf0",
   "metadata": {},
   "outputs": [
    {
     "name": "stdout",
     "output_type": "stream",
     "text": [
      "if\n",
      "what do you think ?\n"
     ]
    }
   ],
   "source": [
    "if input():\n",
    "    print(\"what do you think ?\")\n",
    "else:\n",
    "    print('easy pesy')"
   ]
  },
  {
   "cell_type": "code",
   "execution_count": 71,
   "id": "9f12ad3f",
   "metadata": {},
   "outputs": [
    {
     "name": "stdout",
     "output_type": "stream",
     "text": [
      "0\n",
      "'0' True\n"
     ]
    }
   ],
   "source": [
    "a = input()\n",
    "\n",
    "print(repr(a), bool(a))"
   ]
  },
  {
   "cell_type": "code",
   "execution_count": 63,
   "id": "6ae5f382",
   "metadata": {},
   "outputs": [
    {
     "name": "stdout",
     "output_type": "stream",
     "text": [
      "\n",
      "'' False\n"
     ]
    }
   ],
   "source": [
    "a = input()\n",
    "\n",
    "print(repr(a), bool(a))"
   ]
  },
  {
   "cell_type": "code",
   "execution_count": 64,
   "id": "e0ac6f5c",
   "metadata": {},
   "outputs": [
    {
     "name": "stdout",
     "output_type": "stream",
     "text": [
      "\n",
      "easy pesy\n"
     ]
    }
   ],
   "source": [
    "if input():\n",
    "    print(\"what do you think ?\")\n",
    "else:\n",
    "    print('easy pesy')"
   ]
  },
  {
   "cell_type": "code",
   "execution_count": 58,
   "id": "dd1fc3f5",
   "metadata": {},
   "outputs": [
    {
     "name": "stdout",
     "output_type": "stream",
     "text": [
      "easy pesy\n"
     ]
    }
   ],
   "source": [
    "if None:\n",
    "    print(\"what do you think ?\")\n",
    "else:\n",
    "    print('easy pesy')"
   ]
  },
  {
   "cell_type": "code",
   "execution_count": 59,
   "id": "8695c807",
   "metadata": {},
   "outputs": [
    {
     "name": "stdout",
     "output_type": "stream",
     "text": [
      "hi\n",
      "easy pesy\n"
     ]
    }
   ],
   "source": [
    "if print('hi'):\n",
    "    print(\"what do you think ?\")\n",
    "else:\n",
    "    print('easy pesy')"
   ]
  },
  {
   "cell_type": "code",
   "execution_count": 77,
   "id": "e2df7c92",
   "metadata": {},
   "outputs": [
    {
     "data": {
      "text/plain": [
       "3"
      ]
     },
     "execution_count": 77,
     "metadata": {},
     "output_type": "execute_result"
    }
   ],
   "source": [
    "3  % 5"
   ]
  },
  {
   "cell_type": "markdown",
   "id": "ce8e20a4",
   "metadata": {},
   "source": [
    "###### Boundary Value Analysis\n",
    "\n",
    "    (year%100==0)\n",
    "    \n",
    "    97 98 99 100 101 102 103\n",
    "    F  F  F   T   F    F  F\n",
    "   \n",
    "    197 198 199 200 201 202 203\n",
    "    \n",
    "    F    F   F   T   F   F   F\n",
    "    \n",
    "    "
   ]
  },
  {
   "cell_type": "code",
   "execution_count": 78,
   "id": "8e21d8b6",
   "metadata": {},
   "outputs": [],
   "source": [
    "def is_leap_year(year):\n",
    "    \"\"\"\n",
    "        return True if year is Leap Year otherwise return False\n",
    "    \"\"\"\n",
    "    if (year%100==0):\n",
    "        #  given year is century year\n",
    "        if (year%400==0):\n",
    "            return True\n",
    "        else:\n",
    "            return False\n",
    "    else:\n",
    "        # given year is normal year\n",
    "        if (year%4==0):\n",
    "            return True\n",
    "        else:\n",
    "            return False"
   ]
  },
  {
   "cell_type": "code",
   "execution_count": 83,
   "id": "6bfb6d4d",
   "metadata": {},
   "outputs": [
    {
     "name": "stdout",
     "output_type": "stream",
     "text": [
      "year: 2013\n",
      "Given Year 2013 is not a Leap Year\n"
     ]
    }
   ],
   "source": [
    "year = int(input(\"year: \")) # year = 2013\n",
    "if is_leap_year(year): # False\n",
    "    print(f\"Given Year {year} is Leap Year\")\n",
    "else:\n",
    "    print(f\"Given Year {year} is not a Leap Year\")"
   ]
  },
  {
   "cell_type": "code",
   "execution_count": null,
   "id": "c9c29c5a",
   "metadata": {},
   "outputs": [],
   "source": []
  },
  {
   "cell_type": "code",
   "execution_count": 82,
   "id": "8723cac3",
   "metadata": {},
   "outputs": [
    {
     "name": "stdout",
     "output_type": "stream",
     "text": [
      "True\n"
     ]
    }
   ],
   "source": [
    "print(is_leap_year(2000))"
   ]
  },
  {
   "cell_type": "markdown",
   "id": "f7603972",
   "metadata": {},
   "source": [
    "14.\tWrite a Python Program to input electricity unit charges and calculate\n",
    "\n",
    "    total electricity bill according to the given condition: \n",
    "\n",
    "        For first 50 units Rs. 0.50/unit\n",
    "        \n",
    "        For next 100 units Rs. 0.75/unit\n",
    "        \n",
    "        For next 100 units Rs. 1.20/unit\n",
    "        \n",
    "        For unit above 250 Rs. 1.50/unit\n",
    "        \n",
    "        An additional surcharge of 20% is added to the bill"
   ]
  },
  {
   "cell_type": "markdown",
   "id": "ab71184d",
   "metadata": {},
   "source": [
    "    0-50 -> 0.50 rupees per unit\n",
    "\n",
    "    51-150 -> 0.75 rupees per unit\n",
    "\n",
    "    151-250 -> 1.20 rupees per unit\n",
    "\n",
    "    251- inf -> 1.50 rupees per unit\n",
    "\n",
    "\n",
    "    bill + 20% surcharge\n",
    "\n"
   ]
  },
  {
   "cell_type": "code",
   "execution_count": null,
   "id": "c2119ab2",
   "metadata": {},
   "outputs": [],
   "source": []
  },
  {
   "cell_type": "code",
   "execution_count": 84,
   "id": "cf185bee",
   "metadata": {},
   "outputs": [
    {
     "name": "stdout",
     "output_type": "stream",
     "text": [
      "Enter no of units: 30\n",
      "you have to pay 18.0₹.\n"
     ]
    }
   ],
   "source": [
    "units = float(input(\"Enter no of units: \"))\n",
    "\n",
    "if units<=50:\n",
    "    charge = units*0.5\n",
    "elif units<=150:\n",
    "    charge = 50*0.5+(units-50)*0.75\n",
    "elif units<=250:\n",
    "    charge = (50*0.5)+(100*0.75)+((units-150)*1.20)\n",
    "else:\n",
    "    charge = (50*0.5)+(100*0.75)+(100*1.20)+(units-250)*1.50\n",
    "    \n",
    "bill = charge * 1.20\n",
    "\n",
    "print(f\"you have to pay {bill}\\u20B9.\")\n",
    "    "
   ]
  },
  {
   "cell_type": "code",
   "execution_count": null,
   "id": "006f9140",
   "metadata": {},
   "outputs": [],
   "source": [
    "def calculate_bill(units):\n",
    "    if units<=50:\n",
    "        charge = units*0.5\n",
    "    elif units<=150:\n",
    "        charge = 50*0.5+(units-50)*0.75\n",
    "    elif units<=250:\n",
    "        charge = (50*0.5)+(100*0.75)+((units-150)*1.20)\n",
    "    else:\n",
    "        charge = (50*0.5)+(100*0.75)+(100*1.20)+(units-250)*1.50\n",
    "        \n",
    "    bill = charge + (charge*20)/100\n",
    "    # bill = charge *(1+20/100)\n",
    "    # bill = charge*(1+0.20)\n",
    "    # bill = charge*1.20\n",
    "    print(f\"you have to pay {bill}\\u20B9.\")"
   ]
  },
  {
   "cell_type": "code",
   "execution_count": 86,
   "id": "a677d196",
   "metadata": {},
   "outputs": [],
   "source": [
    "def calculate_bill(units):\n",
    "    if units<=50:\n",
    "        charge = units*0.5\n",
    "    elif units<=150:\n",
    "        charge = 50*0.5+(units-50)*0.75\n",
    "    elif units<=250:\n",
    "        charge = (50*0.5)+(100*0.75)+((units-150)*1.20)\n",
    "    else:\n",
    "        charge = (50*0.5)+(100*0.75)+(100*1.20)+(units-250)*1.50\n",
    "        \n",
    "    bill = charge * 1.20\n",
    "    print(f\"you have to pay {bill}\\u20B9.\")"
   ]
  },
  {
   "cell_type": "code",
   "execution_count": 87,
   "id": "8600cf8c",
   "metadata": {},
   "outputs": [
    {
     "name": "stdout",
     "output_type": "stream",
     "text": [
      "you have to pay 18.0₹.\n"
     ]
    }
   ],
   "source": [
    "calculate_bill(30)"
   ]
  },
  {
   "cell_type": "code",
   "execution_count": 88,
   "id": "c3084dfc",
   "metadata": {},
   "outputs": [
    {
     "name": "stdout",
     "output_type": "stream",
     "text": [
      "you have to pay 48.0₹.\n"
     ]
    }
   ],
   "source": [
    "calculate_bill(70)"
   ]
  },
  {
   "cell_type": "code",
   "execution_count": 89,
   "id": "1307e3de",
   "metadata": {},
   "outputs": [
    {
     "name": "stdout",
     "output_type": "stream",
     "text": [
      "you have to pay 192.0₹.\n"
     ]
    }
   ],
   "source": [
    "calculate_bill(200)"
   ]
  },
  {
   "cell_type": "code",
   "execution_count": 90,
   "id": "a3f0b9e0",
   "metadata": {},
   "outputs": [
    {
     "name": "stdout",
     "output_type": "stream",
     "text": [
      "you have to pay 354.0₹.\n"
     ]
    }
   ],
   "source": [
    "calculate_bill(300)"
   ]
  },
  {
   "cell_type": "code",
   "execution_count": null,
   "id": "738d980c",
   "metadata": {},
   "outputs": [],
   "source": []
  }
 ],
 "metadata": {
  "kernelspec": {
   "display_name": "Python 3 (ipykernel)",
   "language": "python",
   "name": "python3"
  },
  "language_info": {
   "codemirror_mode": {
    "name": "ipython",
    "version": 3
   },
   "file_extension": ".py",
   "mimetype": "text/x-python",
   "name": "python",
   "nbconvert_exporter": "python",
   "pygments_lexer": "ipython3",
   "version": "3.9.12"
  }
 },
 "nbformat": 4,
 "nbformat_minor": 5
}
