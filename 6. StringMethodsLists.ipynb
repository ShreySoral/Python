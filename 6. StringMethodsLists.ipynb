{
 "cells": [
  {
   "cell_type": "code",
   "execution_count": 1,
   "id": "1643d520",
   "metadata": {},
   "outputs": [
    {
     "name": "stdout",
     "output_type": "stream",
     "text": [
      "<class 'complex'>\n"
     ]
    }
   ],
   "source": [
    "# String Methods\n",
    "x=4+6j\n",
    "print(type(x))"
   ]
  },
  {
   "cell_type": "code",
   "execution_count": 2,
   "id": "8e9a558a",
   "metadata": {},
   "outputs": [
    {
     "name": "stdout",
     "output_type": "stream",
     "text": [
      "['__abs__', '__add__', '__bool__', '__class__', '__delattr__', '__dir__', '__doc__', '__eq__', '__format__', '__ge__', '__getattribute__', '__getnewargs__', '__gt__', '__hash__', '__init__', '__init_subclass__', '__le__', '__lt__', '__mul__', '__ne__', '__neg__', '__new__', '__pos__', '__pow__', '__radd__', '__reduce__', '__reduce_ex__', '__repr__', '__rmul__', '__rpow__', '__rsub__', '__rtruediv__', '__setattr__', '__sizeof__', '__str__', '__sub__', '__subclasshook__', '__truediv__', 'conjugate', 'imag', 'real']\n"
     ]
    }
   ],
   "source": [
    "print(dir(x))"
   ]
  },
  {
   "cell_type": "code",
   "execution_count": 3,
   "id": "77e1a625",
   "metadata": {},
   "outputs": [],
   "source": [
    "a=(3+4j)\n",
    "b=(3-4j)\n",
    "c=a*b"
   ]
  },
  {
   "cell_type": "code",
   "execution_count": 5,
   "id": "3d86eb0b",
   "metadata": {},
   "outputs": [
    {
     "name": "stdout",
     "output_type": "stream",
     "text": [
      "(25+0j) <class 'complex'>\n"
     ]
    }
   ],
   "source": [
    "print(c,type(c))"
   ]
  },
  {
   "cell_type": "code",
   "execution_count": 7,
   "id": "318953c0",
   "metadata": {},
   "outputs": [
    {
     "name": "stdout",
     "output_type": "stream",
     "text": [
      "44\n",
      "0b11100101100101101011011110110000110001100100001111000111000110010110110110011100110011010000010111001111111111111111111111111111111111111111111\n"
     ]
    }
   ],
   "source": [
    "import sys\n",
    "x=9999999999999999999999999999999999999999999\n",
    "print(sys.getsizeof(x))\n",
    "print(bin(x))"
   ]
  },
  {
   "cell_type": "code",
   "execution_count": 8,
   "id": "024e3118",
   "metadata": {},
   "outputs": [],
   "source": [
    "# everything is a object in python\n",
    "#  object collection of attribute used to define a real time entity\n",
    "# class collection of member(object) and member functions (methods)\n",
    "#   class represents operation on data (object)"
   ]
  },
  {
   "cell_type": "code",
   "execution_count": 9,
   "id": "b3f2f21a",
   "metadata": {},
   "outputs": [
    {
     "data": {
      "text/plain": [
       "9"
      ]
     },
     "execution_count": 9,
     "metadata": {},
     "output_type": "execute_result"
    }
   ],
   "source": [
    "int.__add__(4,5)"
   ]
  },
  {
   "cell_type": "code",
   "execution_count": 10,
   "id": "f5fcb2f5",
   "metadata": {},
   "outputs": [
    {
     "data": {
      "text/plain": [
       "'45'"
      ]
     },
     "execution_count": 10,
     "metadata": {},
     "output_type": "execute_result"
    }
   ],
   "source": [
    "\"4\"+\"5\""
   ]
  },
  {
   "cell_type": "code",
   "execution_count": 12,
   "id": "a046f830",
   "metadata": {},
   "outputs": [
    {
     "data": {
      "text/plain": [
       "'45'"
      ]
     },
     "execution_count": 12,
     "metadata": {},
     "output_type": "execute_result"
    }
   ],
   "source": [
    "str.__add__(\"4\",\"5\")"
   ]
  },
  {
   "cell_type": "code",
   "execution_count": 13,
   "id": "e30ca6af",
   "metadata": {},
   "outputs": [
    {
     "name": "stdout",
     "output_type": "stream",
     "text": [
      "<class 'list'>\n",
      "<class 'list'>\n"
     ]
    }
   ],
   "source": [
    "# list -> collection of objects\n",
    "n1=[1,2,3]\n",
    "n2=[4,5,6]\n",
    "print(type(n1))\n",
    "print(type(n2))"
   ]
  },
  {
   "cell_type": "code",
   "execution_count": 14,
   "id": "d880cab4",
   "metadata": {},
   "outputs": [
    {
     "name": "stdout",
     "output_type": "stream",
     "text": [
      "[1, 2, 3, 4, 5, 6]\n"
     ]
    }
   ],
   "source": [
    "n3=n1+n2\n",
    "print(n3)"
   ]
  },
  {
   "cell_type": "code",
   "execution_count": 15,
   "id": "2ca82df2",
   "metadata": {},
   "outputs": [
    {
     "data": {
      "text/plain": [
       "[1, 2, 3, 4, 5, 6]"
      ]
     },
     "execution_count": 15,
     "metadata": {},
     "output_type": "execute_result"
    }
   ],
   "source": [
    "list.__add__(n1,n2)"
   ]
  },
  {
   "cell_type": "code",
   "execution_count": 16,
   "id": "2503d40c",
   "metadata": {},
   "outputs": [
    {
     "name": "stdout",
     "output_type": "stream",
     "text": [
      "['__abs__', '__add__', '__and__', '__bool__', '__ceil__', '__class__', '__delattr__', '__dir__', '__divmod__', '__doc__', '__eq__', '__float__', '__floor__', '__floordiv__', '__format__', '__ge__', '__getattribute__', '__getnewargs__', '__gt__', '__hash__', '__index__', '__init__', '__init_subclass__', '__int__', '__invert__', '__le__', '__lshift__', '__lt__', '__mod__', '__mul__', '__ne__', '__neg__', '__new__', '__or__', '__pos__', '__pow__', '__radd__', '__rand__', '__rdivmod__', '__reduce__', '__reduce_ex__', '__repr__', '__rfloordiv__', '__rlshift__', '__rmod__', '__rmul__', '__ror__', '__round__', '__rpow__', '__rrshift__', '__rshift__', '__rsub__', '__rtruediv__', '__rxor__', '__setattr__', '__sizeof__', '__str__', '__sub__', '__subclasshook__', '__truediv__', '__trunc__', '__xor__', 'as_integer_ratio', 'bit_count', 'bit_length', 'conjugate', 'denominator', 'from_bytes', 'imag', 'numerator', 'real', 'to_bytes']\n"
     ]
    }
   ],
   "source": [
    "print(dir(int))"
   ]
  },
  {
   "cell_type": "code",
   "execution_count": 17,
   "id": "e1e08416",
   "metadata": {},
   "outputs": [
    {
     "name": "stdout",
     "output_type": "stream",
     "text": [
      "15\n"
     ]
    }
   ],
   "source": [
    "x=5\n",
    "y=10\n",
    "# __add__\n",
    "z=x+y\n",
    "print(z)"
   ]
  },
  {
   "cell_type": "code",
   "execution_count": 18,
   "id": "ed192aa6",
   "metadata": {},
   "outputs": [
    {
     "name": "stdout",
     "output_type": "stream",
     "text": [
      "4\n"
     ]
    }
   ],
   "source": [
    "p=y.bit_length()\n",
    "print(p)"
   ]
  },
  {
   "cell_type": "code",
   "execution_count": 19,
   "id": "a44c8793",
   "metadata": {},
   "outputs": [
    {
     "data": {
      "text/plain": [
       "'a'"
      ]
     },
     "execution_count": 19,
     "metadata": {},
     "output_type": "execute_result"
    }
   ],
   "source": [
    "#  index means accessing a single value from a sequence or collection\n",
    "s=\"asdf\"\n",
    "s[0]"
   ]
  },
  {
   "cell_type": "code",
   "execution_count": null,
   "id": "ae0ee420",
   "metadata": {},
   "outputs": [],
   "source": []
  }
 ],
 "metadata": {
  "kernelspec": {
   "display_name": "Python 3 (ipykernel)",
   "language": "python",
   "name": "python3"
  },
  "language_info": {
   "codemirror_mode": {
    "name": "ipython",
    "version": 3
   },
   "file_extension": ".py",
   "mimetype": "text/x-python",
   "name": "python",
   "nbconvert_exporter": "python",
   "pygments_lexer": "ipython3",
   "version": "3.10.5"
  }
 },
 "nbformat": 4,
 "nbformat_minor": 5
}
