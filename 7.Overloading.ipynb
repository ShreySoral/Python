{
 "cells": [
  {
   "cell_type": "markdown",
   "id": "001d9bc7",
   "metadata": {},
   "source": [
    "### OOPs \n",
    "\n",
    "    Inheritance \n",
    "        \n",
    "        when a child class inherits all properties of parent class\n",
    "        \n",
    "        \n",
    "     Type of Inheritance \n",
    "     \n",
    "         Single Level Inheritance\n",
    "         \n",
    "         Multi-Level  Inheritance\n",
    "         \n",
    "         Multiple Inheritance \n",
    "         \n",
    "         Heirarchical Inheritance\n",
    "         \n",
    "         Hybrid Inheritance "
   ]
  },
  {
   "cell_type": "markdown",
   "id": "516bbe1b",
   "metadata": {},
   "source": [
    "## MRO \n",
    "\n",
    "    Method Resolution Order\n",
    "    \n",
    "    \n",
    "        first check in instance scope \n",
    "            \n",
    "            check in child class \n",
    "            \n",
    "                check in first-parent class (in same order as it was at time of inheritance) "
   ]
  },
  {
   "cell_type": "code",
   "execution_count": 2,
   "id": "8288968b",
   "metadata": {},
   "outputs": [
    {
     "name": "stdout",
     "output_type": "stream",
     "text": [
      "hi world!\n"
     ]
    }
   ],
   "source": [
    "class A:\n",
    "    def hello(self):\n",
    "        print(\"Hello World!\")\n",
    "    def hi(self):\n",
    "        print(\"awesome\")\n",
    "class B:\n",
    "    def hi(self):\n",
    "        print(\"hi world!\")\n",
    "        \n",
    "class C(B, A):\n",
    "    pass\n",
    "\n",
    "x = C()\n",
    "\n",
    "x.hi()"
   ]
  },
  {
   "cell_type": "markdown",
   "id": "de30e5de",
   "metadata": {},
   "source": [
    "#### Heirarchical Inheritance "
   ]
  },
  {
   "cell_type": "markdown",
   "id": "c4a2977e",
   "metadata": {},
   "source": [
    "                Parents\n",
    "                \n",
    "       Brother           Sister"
   ]
  },
  {
   "cell_type": "code",
   "execution_count": 3,
   "id": "a5cb6017",
   "metadata": {},
   "outputs": [
    {
     "name": "stdout",
     "output_type": "stream",
     "text": [
      "hey this is good\n",
      "hey this is good\n"
     ]
    }
   ],
   "source": [
    "class A:\n",
    "    def hello(self):\n",
    "        print(\"hey this is good\")\n",
    "        \n",
    "class B(A):\n",
    "    pass\n",
    "\n",
    "class C(A):\n",
    "    pass\n",
    "\n",
    "x = B()\n",
    "y = C()\n",
    "x.hello()\n",
    "y.hello()"
   ]
  },
  {
   "cell_type": "code",
   "execution_count": 4,
   "id": "fc5d7c8d",
   "metadata": {},
   "outputs": [],
   "source": [
    "class Car:\n",
    "    def wheels(self):\n",
    "        print(\"four wheels\")\n",
    "    def breaks(self):\n",
    "        print(\"ABS Breaking\")\n",
    "    def safety(self):\n",
    "        print(\"minimum 2 Air Bags and Seat Belts\")"
   ]
  },
  {
   "cell_type": "code",
   "execution_count": 5,
   "id": "f2a890d2",
   "metadata": {},
   "outputs": [],
   "source": [
    "class Alto(Car):\n",
    "    pass\n",
    "class BMW(Car):\n",
    "    pass\n"
   ]
  },
  {
   "cell_type": "markdown",
   "id": "0fb683ca",
   "metadata": {},
   "source": [
    "`Hybrid Inheritance`\n",
    "\n",
    "    using two or more inheritance all together \n"
   ]
  },
  {
   "cell_type": "code",
   "execution_count": 38,
   "id": "657bfda8",
   "metadata": {},
   "outputs": [],
   "source": [
    "class A:\n",
    "    def hello(self):\n",
    "        print(\"hello world!\")\n",
    "    def say(self):\n",
    "        print(\"ye dukh kahe khatam nh hota hai\")\n",
    "        \n",
    "class B(A): # B Extends A\n",
    "    pass"
   ]
  },
  {
   "cell_type": "markdown",
   "id": "376415ec",
   "metadata": {},
   "source": [
    "`MRO`"
   ]
  },
  {
   "cell_type": "markdown",
   "id": "461adf1a",
   "metadata": {},
   "source": [
    "                A\n",
    "                \n",
    "          B            C\n",
    "          \n",
    "          D            E\n",
    "          \n",
    "                F"
   ]
  },
  {
   "cell_type": "code",
   "execution_count": 45,
   "id": "132c8947",
   "metadata": {},
   "outputs": [],
   "source": [
    "class A:\n",
    "    def hello(self):\n",
    "        print(\"hello\")\n",
    "class B(A):\n",
    "    def hi(self):\n",
    "        print(\"hi\")\n",
    "class C(A):\n",
    "    def hello(self):\n",
    "        print(\"ciao\")\n",
    "class D(B):\n",
    "    def bye(self):\n",
    "        print(\"Bye Bye!\")\n",
    "class E(C):\n",
    "    def good_bye(self):\n",
    "        print(\"acha chalta hu duao m yaad rkhna\")\n",
    "class F(D, E):\n",
    "    pass"
   ]
  },
  {
   "cell_type": "code",
   "execution_count": 46,
   "id": "e480630b",
   "metadata": {},
   "outputs": [],
   "source": [
    "x = F()"
   ]
  },
  {
   "cell_type": "code",
   "execution_count": 47,
   "id": "8c2a295f",
   "metadata": {},
   "outputs": [
    {
     "name": "stdout",
     "output_type": "stream",
     "text": [
      "ciao\n"
     ]
    }
   ],
   "source": [
    "x.hello() # ? "
   ]
  },
  {
   "cell_type": "code",
   "execution_count": 48,
   "id": "e26d5b68",
   "metadata": {},
   "outputs": [
    {
     "name": "stdout",
     "output_type": "stream",
     "text": [
      "acha chalta hu duao m yaad rkhna\n"
     ]
    }
   ],
   "source": [
    "x.good_bye()"
   ]
  },
  {
   "cell_type": "code",
   "execution_count": 36,
   "id": "2eb24a02",
   "metadata": {},
   "outputs": [
    {
     "name": "stdout",
     "output_type": "stream",
     "text": [
      "Bye Bye!\n"
     ]
    }
   ],
   "source": [
    "x.bye()"
   ]
  },
  {
   "cell_type": "code",
   "execution_count": 35,
   "id": "ff86e1e1",
   "metadata": {},
   "outputs": [
    {
     "name": "stdout",
     "output_type": "stream",
     "text": [
      "hi\n"
     ]
    }
   ],
   "source": [
    "x.hi()"
   ]
  },
  {
   "cell_type": "markdown",
   "id": "3fe43fc2",
   "metadata": {},
   "source": [
    "`Singleton Class`\n",
    "\n",
    "    class which can only be initlized once\n",
    "\n",
    "`Meta Class`\n",
    "\n",
    "    class of class \n",
    "\n",
    "`Abstract Class`\n",
    "\n",
    "    Model Classes which are ment to inherit and \n",
    "    whose methods are ment to over-riden\n",
    "    \n",
    "    we do not create object of Abstract class"
   ]
  },
  {
   "cell_type": "markdown",
   "id": "99dc07ba",
   "metadata": {},
   "source": [
    "`Data Hiding` `Abstract`"
   ]
  },
  {
   "cell_type": "code",
   "execution_count": 49,
   "id": "cd928004",
   "metadata": {},
   "outputs": [],
   "source": [
    "class A:\n",
    "    def __init__(self, name):\n",
    "        self.name = name # public\n",
    "        self.__password = \"123453422\"\n",
    "    def __hi(self):\n",
    "        print(\"private private\")\n",
    "    def hello(self):\n",
    "        print(\"public public\")\n",
    "    def show_password(self):\n",
    "        return self.__password\n",
    "    def get_name(self):\n",
    "        return self.name \n",
    "    def set_name(self, arg):\n",
    "        self.arg = arg"
   ]
  },
  {
   "cell_type": "code",
   "execution_count": 29,
   "id": "8b425f11",
   "metadata": {},
   "outputs": [
    {
     "name": "stdout",
     "output_type": "stream",
     "text": [
      "sachin\n",
      "123453422\n"
     ]
    }
   ],
   "source": [
    "x = A(\"sachin\")\n",
    "print(x.name) # access\n",
    "print(x.show_password()) # name mangling"
   ]
  },
  {
   "cell_type": "code",
   "execution_count": 30,
   "id": "5b65b1e7",
   "metadata": {},
   "outputs": [
    {
     "ename": "AttributeError",
     "evalue": "'A' object has no attribute '__hi'",
     "output_type": "error",
     "traceback": [
      "\u001b[1;31m---------------------------------------------------------------------------\u001b[0m",
      "\u001b[1;31mAttributeError\u001b[0m                            Traceback (most recent call last)",
      "\u001b[1;32m~\\AppData\\Local\\Temp\\ipykernel_1656\\244880800.py\u001b[0m in \u001b[0;36m<module>\u001b[1;34m\u001b[0m\n\u001b[1;32m----> 1\u001b[1;33m \u001b[0mx\u001b[0m\u001b[1;33m.\u001b[0m\u001b[0m__hi\u001b[0m\u001b[1;33m(\u001b[0m\u001b[1;33m)\u001b[0m\u001b[1;33m\u001b[0m\u001b[1;33m\u001b[0m\u001b[0m\n\u001b[0m",
      "\u001b[1;31mAttributeError\u001b[0m: 'A' object has no attribute '__hi'"
     ]
    }
   ],
   "source": [
    "x.__hi()"
   ]
  },
  {
   "cell_type": "code",
   "execution_count": 27,
   "id": "ecb8da38",
   "metadata": {},
   "outputs": [
    {
     "name": "stdout",
     "output_type": "stream",
     "text": [
      "public public\n"
     ]
    }
   ],
   "source": [
    "x.hello()"
   ]
  },
  {
   "cell_type": "markdown",
   "id": "dcae060e",
   "metadata": {},
   "source": [
    "`__varname` private varaibles"
   ]
  },
  {
   "cell_type": "code",
   "execution_count": 24,
   "id": "485e75d9",
   "metadata": {},
   "outputs": [
    {
     "ename": "AttributeError",
     "evalue": "'A' object has no attribute '__password'",
     "output_type": "error",
     "traceback": [
      "\u001b[1;31m---------------------------------------------------------------------------\u001b[0m",
      "\u001b[1;31mAttributeError\u001b[0m                            Traceback (most recent call last)",
      "\u001b[1;32m~\\AppData\\Local\\Temp\\ipykernel_1656\\4047072359.py\u001b[0m in \u001b[0;36m<module>\u001b[1;34m\u001b[0m\n\u001b[1;32m----> 1\u001b[1;33m \u001b[0mx\u001b[0m\u001b[1;33m.\u001b[0m\u001b[0m__password\u001b[0m\u001b[1;33m\u001b[0m\u001b[1;33m\u001b[0m\u001b[0m\n\u001b[0m",
      "\u001b[1;31mAttributeError\u001b[0m: 'A' object has no attribute '__password'"
     ]
    }
   ],
   "source": [
    "x.__password"
   ]
  },
  {
   "cell_type": "code",
   "execution_count": 16,
   "id": "3504b5ef",
   "metadata": {},
   "outputs": [],
   "source": [
    "x.name = \"Hacked it!\" # modify"
   ]
  },
  {
   "cell_type": "code",
   "execution_count": 18,
   "id": "29d42d30",
   "metadata": {},
   "outputs": [
    {
     "name": "stdout",
     "output_type": "stream",
     "text": [
      "Hacked it!\n"
     ]
    }
   ],
   "source": [
    "print(x.get_name())"
   ]
  },
  {
   "cell_type": "code",
   "execution_count": 50,
   "id": "1f38462b",
   "metadata": {},
   "outputs": [],
   "source": [
    "import random"
   ]
  },
  {
   "cell_type": "code",
   "execution_count": 51,
   "id": "6479f8ee",
   "metadata": {},
   "outputs": [],
   "source": [
    "def randint():\n",
    "    return 100"
   ]
  },
  {
   "cell_type": "code",
   "execution_count": 52,
   "id": "8555517b",
   "metadata": {},
   "outputs": [
    {
     "data": {
      "text/plain": [
       "100"
      ]
     },
     "execution_count": 52,
     "metadata": {},
     "output_type": "execute_result"
    }
   ],
   "source": [
    "randint()"
   ]
  },
  {
   "cell_type": "code",
   "execution_count": 53,
   "id": "54333886",
   "metadata": {},
   "outputs": [
    {
     "data": {
      "text/plain": [
       "8"
      ]
     },
     "execution_count": 53,
     "metadata": {},
     "output_type": "execute_result"
    }
   ],
   "source": [
    "random.randint(1, 100)"
   ]
  },
  {
   "cell_type": "markdown",
   "id": "a12209a8",
   "metadata": {},
   "source": [
    "`Scope / Abstraction`\n",
    "\n",
    "    Public  (attributes/methods)\n",
    "        \n",
    "        can accessed or manipulated outside class scope\n",
    "        without method can be access or modified\n",
    "    \n",
    "    Protected\n",
    "    \n",
    "        can accessed outside class scope but can not be modified\n",
    "        outside class\n",
    "    \n",
    "    Private"
   ]
  },
  {
   "cell_type": "markdown",
   "id": "65154b91",
   "metadata": {},
   "source": [
    "`Aggregation`\n",
    "\n",
    "    we store instace of a class into instance of another class"
   ]
  },
  {
   "cell_type": "code",
   "execution_count": 67,
   "id": "3cba7ffc",
   "metadata": {},
   "outputs": [],
   "source": [
    "class A:\n",
    "    def hello(self):\n",
    "        print(\"hello world!\")"
   ]
  },
  {
   "cell_type": "code",
   "execution_count": 68,
   "id": "a1fdcb25",
   "metadata": {},
   "outputs": [],
   "source": [
    "x = A()\n",
    "x.hello()"
   ]
  },
  {
   "cell_type": "code",
   "execution_count": 73,
   "id": "6c0d5d7e",
   "metadata": {},
   "outputs": [
    {
     "name": "stdout",
     "output_type": "stream",
     "text": [
      "hello world!\n"
     ]
    }
   ],
   "source": [
    "getattr(x, 'hello')()"
   ]
  },
  {
   "cell_type": "code",
   "execution_count": 70,
   "id": "a0cd1ca2",
   "metadata": {},
   "outputs": [
    {
     "data": {
      "text/plain": [
       "True"
      ]
     },
     "execution_count": 70,
     "metadata": {},
     "output_type": "execute_result"
    }
   ],
   "source": [
    "hasattr(x, 'hello')"
   ]
  },
  {
   "cell_type": "code",
   "execution_count": 71,
   "id": "9d0d8a6e",
   "metadata": {},
   "outputs": [
    {
     "data": {
      "text/plain": [
       "False"
      ]
     },
     "execution_count": 71,
     "metadata": {},
     "output_type": "execute_result"
    }
   ],
   "source": [
    "hasattr(x, 'bye')"
   ]
  },
  {
   "cell_type": "code",
   "execution_count": 61,
   "id": "a8ecaba2",
   "metadata": {},
   "outputs": [],
   "source": [
    "def func():\n",
    "    obj = A()\n",
    "    obj.hello()"
   ]
  },
  {
   "cell_type": "code",
   "execution_count": 62,
   "id": "4d18bbb7",
   "metadata": {},
   "outputs": [
    {
     "name": "stdout",
     "output_type": "stream",
     "text": [
      "ha ha ha\n"
     ]
    }
   ],
   "source": [
    "func()"
   ]
  },
  {
   "cell_type": "code",
   "execution_count": 54,
   "id": "c9c4a18d",
   "metadata": {},
   "outputs": [],
   "source": [
    "class A:\n",
    "    def hello(self):\n",
    "        print(\"ha ha ha\")\n",
    "        \n"
   ]
  },
  {
   "cell_type": "code",
   "execution_count": 63,
   "id": "95d4aa13",
   "metadata": {},
   "outputs": [],
   "source": [
    "class B:\n",
    "    def __init__(self):\n",
    "        self.obj = A()\n",
    "    def hi(self):\n",
    "        print(\"hi hi hi\")\n",
    "    "
   ]
  },
  {
   "cell_type": "code",
   "execution_count": 64,
   "id": "77625c40",
   "metadata": {},
   "outputs": [],
   "source": [
    "b = B()"
   ]
  },
  {
   "cell_type": "code",
   "execution_count": 66,
   "id": "3c2e594c",
   "metadata": {},
   "outputs": [
    {
     "name": "stdout",
     "output_type": "stream",
     "text": [
      "ha ha ha\n"
     ]
    }
   ],
   "source": [
    "b.obj.hello()"
   ]
  },
  {
   "cell_type": "code",
   "execution_count": 75,
   "id": "a0fa45e5",
   "metadata": {},
   "outputs": [
    {
     "data": {
      "text/plain": [
       "'HELLO'"
      ]
     },
     "execution_count": 75,
     "metadata": {},
     "output_type": "execute_result"
    }
   ],
   "source": [
    "\"   hello    \".strip().upper()"
   ]
  },
  {
   "cell_type": "code",
   "execution_count": 77,
   "id": "c2179342",
   "metadata": {},
   "outputs": [
    {
     "data": {
      "text/plain": [
       "['hello', 'world']"
      ]
     },
     "execution_count": 77,
     "metadata": {},
     "output_type": "execute_result"
    }
   ],
   "source": [
    "\"hello world\".split()"
   ]
  },
  {
   "cell_type": "code",
   "execution_count": null,
   "id": "17442a8b",
   "metadata": {},
   "outputs": [],
   "source": []
  },
  {
   "cell_type": "code",
   "execution_count": 76,
   "id": "5b940700",
   "metadata": {},
   "outputs": [
    {
     "ename": "AttributeError",
     "evalue": "'list' object has no attribute 'upper'",
     "output_type": "error",
     "traceback": [
      "\u001b[1;31m---------------------------------------------------------------------------\u001b[0m",
      "\u001b[1;31mAttributeError\u001b[0m                            Traceback (most recent call last)",
      "\u001b[1;32m~\\AppData\\Local\\Temp\\ipykernel_1656\\2693297157.py\u001b[0m in \u001b[0;36m<module>\u001b[1;34m\u001b[0m\n\u001b[1;32m----> 1\u001b[1;33m \u001b[1;34m\"hello world\"\u001b[0m\u001b[1;33m.\u001b[0m\u001b[0msplit\u001b[0m\u001b[1;33m(\u001b[0m\u001b[1;33m)\u001b[0m\u001b[1;33m.\u001b[0m\u001b[0mupper\u001b[0m\u001b[1;33m(\u001b[0m\u001b[1;33m)\u001b[0m\u001b[1;33m\u001b[0m\u001b[1;33m\u001b[0m\u001b[0m\n\u001b[0m",
      "\u001b[1;31mAttributeError\u001b[0m: 'list' object has no attribute 'upper'"
     ]
    }
   ],
   "source": [
    "\"hello world\".split().upper()"
   ]
  },
  {
   "cell_type": "code",
   "execution_count": 78,
   "id": "c5624e07",
   "metadata": {},
   "outputs": [],
   "source": [
    "class A:\n",
    "    def get_name(self):\n",
    "        return \"Gayi Bhes Pani Mein\""
   ]
  },
  {
   "cell_type": "code",
   "execution_count": 79,
   "id": "3b8dd8fe",
   "metadata": {},
   "outputs": [],
   "source": [
    "a = A()\n"
   ]
  },
  {
   "cell_type": "code",
   "execution_count": 81,
   "id": "cdeba56a",
   "metadata": {},
   "outputs": [
    {
     "name": "stdout",
     "output_type": "stream",
     "text": [
      "GAYI BHES PANI MEIN\n"
     ]
    }
   ],
   "source": [
    "ans = a.get_name().upper()\n",
    "print(ans)"
   ]
  },
  {
   "cell_type": "code",
   "execution_count": 82,
   "id": "dfcf8162",
   "metadata": {},
   "outputs": [],
   "source": [
    "class A:\n",
    "    pass"
   ]
  },
  {
   "cell_type": "code",
   "execution_count": 83,
   "id": "a5f50876",
   "metadata": {},
   "outputs": [],
   "source": [
    "x = A()\n",
    "y = A()"
   ]
  },
  {
   "cell_type": "code",
   "execution_count": 86,
   "id": "351b71ec",
   "metadata": {},
   "outputs": [
    {
     "ename": "AttributeError",
     "evalue": "type object 'A' has no attribute '__add__'",
     "output_type": "error",
     "traceback": [
      "\u001b[1;31m---------------------------------------------------------------------------\u001b[0m",
      "\u001b[1;31mAttributeError\u001b[0m                            Traceback (most recent call last)",
      "\u001b[1;32m~\\AppData\\Local\\Temp\\ipykernel_1656\\2732447294.py\u001b[0m in \u001b[0;36m<module>\u001b[1;34m\u001b[0m\n\u001b[1;32m----> 1\u001b[1;33m \u001b[0mr\u001b[0m \u001b[1;33m=\u001b[0m \u001b[0mA\u001b[0m\u001b[1;33m.\u001b[0m\u001b[0m__add__\u001b[0m\u001b[1;33m(\u001b[0m\u001b[0mx\u001b[0m\u001b[1;33m,\u001b[0m \u001b[0my\u001b[0m\u001b[1;33m)\u001b[0m\u001b[1;33m\u001b[0m\u001b[1;33m\u001b[0m\u001b[0m\n\u001b[0m\u001b[0;32m      2\u001b[0m \u001b[0mprint\u001b[0m\u001b[1;33m(\u001b[0m\u001b[0mr\u001b[0m\u001b[1;33m)\u001b[0m\u001b[1;33m\u001b[0m\u001b[1;33m\u001b[0m\u001b[0m\n",
      "\u001b[1;31mAttributeError\u001b[0m: type object 'A' has no attribute '__add__'"
     ]
    }
   ],
   "source": [
    "r = A.__add__(x, y)\n",
    "print(r)"
   ]
  },
  {
   "cell_type": "code",
   "execution_count": 84,
   "id": "38a59fca",
   "metadata": {},
   "outputs": [
    {
     "ename": "TypeError",
     "evalue": "unsupported operand type(s) for +: 'A' and 'A'",
     "output_type": "error",
     "traceback": [
      "\u001b[1;31m---------------------------------------------------------------------------\u001b[0m",
      "\u001b[1;31mTypeError\u001b[0m                                 Traceback (most recent call last)",
      "\u001b[1;32m~\\AppData\\Local\\Temp\\ipykernel_1656\\2484930463.py\u001b[0m in \u001b[0;36m<module>\u001b[1;34m\u001b[0m\n\u001b[1;32m----> 1\u001b[1;33m \u001b[0mr\u001b[0m \u001b[1;33m=\u001b[0m \u001b[0mx\u001b[0m \u001b[1;33m+\u001b[0m \u001b[0my\u001b[0m\u001b[1;33m\u001b[0m\u001b[1;33m\u001b[0m\u001b[0m\n\u001b[0m\u001b[0;32m      2\u001b[0m \u001b[0mprint\u001b[0m\u001b[1;33m(\u001b[0m\u001b[0mr\u001b[0m\u001b[1;33m)\u001b[0m\u001b[1;33m\u001b[0m\u001b[1;33m\u001b[0m\u001b[0m\n",
      "\u001b[1;31mTypeError\u001b[0m: unsupported operand type(s) for +: 'A' and 'A'"
     ]
    }
   ],
   "source": [
    "r = x + y\n",
    "print(r)"
   ]
  },
  {
   "cell_type": "code",
   "execution_count": 85,
   "id": "78c55858",
   "metadata": {},
   "outputs": [
    {
     "ename": "TypeError",
     "evalue": "unsupported operand type(s) for +: 'dict' and 'dict'",
     "output_type": "error",
     "traceback": [
      "\u001b[1;31m---------------------------------------------------------------------------\u001b[0m",
      "\u001b[1;31mTypeError\u001b[0m                                 Traceback (most recent call last)",
      "\u001b[1;32m~\\AppData\\Local\\Temp\\ipykernel_1656\\1722145644.py\u001b[0m in \u001b[0;36m<module>\u001b[1;34m\u001b[0m\n\u001b[1;32m----> 1\u001b[1;33m \u001b[1;33m{\u001b[0m\u001b[1;36m1\u001b[0m\u001b[1;33m:\u001b[0m\u001b[1;34m'one'\u001b[0m\u001b[1;33m}\u001b[0m \u001b[1;33m+\u001b[0m \u001b[1;33m{\u001b[0m\u001b[1;36m2\u001b[0m\u001b[1;33m:\u001b[0m\u001b[1;34m'two'\u001b[0m\u001b[1;33m}\u001b[0m\u001b[1;33m\u001b[0m\u001b[1;33m\u001b[0m\u001b[0m\n\u001b[0m",
      "\u001b[1;31mTypeError\u001b[0m: unsupported operand type(s) for +: 'dict' and 'dict'"
     ]
    }
   ],
   "source": [
    "{1:'one'} + {2:'two'}"
   ]
  },
  {
   "cell_type": "code",
   "execution_count": 87,
   "id": "06393b03",
   "metadata": {},
   "outputs": [],
   "source": [
    "class A:\n",
    "    def __add__(self, other):\n",
    "        return \"Bhai Bhai\""
   ]
  },
  {
   "cell_type": "code",
   "execution_count": 88,
   "id": "17d0eb0e",
   "metadata": {},
   "outputs": [],
   "source": [
    "x = A()\n",
    "y = A()"
   ]
  },
  {
   "cell_type": "code",
   "execution_count": 89,
   "id": "55d045b8",
   "metadata": {},
   "outputs": [],
   "source": [
    "r = x + y"
   ]
  },
  {
   "cell_type": "code",
   "execution_count": 90,
   "id": "8a8fd399",
   "metadata": {},
   "outputs": [
    {
     "name": "stdout",
     "output_type": "stream",
     "text": [
      "Bhai Bhai\n"
     ]
    }
   ],
   "source": [
    "print(r)"
   ]
  },
  {
   "cell_type": "code",
   "execution_count": 94,
   "id": "0655afea",
   "metadata": {},
   "outputs": [],
   "source": [
    "class Student:\n",
    "    def __init__(self, name, m, c, p):\n",
    "        self.name = name\n",
    "        self.math = m\n",
    "        self.chem = c\n",
    "        self.phy = p\n",
    "    def __gt__(self, other):\n",
    "        m1 = self.math+self.chem+self.phy\n",
    "        m2 = other.math+other.chem+other.phy\n",
    "        return m1>m2"
   ]
  },
  {
   "cell_type": "code",
   "execution_count": 97,
   "id": "7ef81e24",
   "metadata": {},
   "outputs": [],
   "source": [
    "s1 = Student(\"sachin\", 67, 57, 88)\n",
    "s2 = Student(\"alice\", 80, 90, 60)"
   ]
  },
  {
   "cell_type": "code",
   "execution_count": 98,
   "id": "6e23775b",
   "metadata": {},
   "outputs": [
    {
     "data": {
      "text/plain": [
       "False"
      ]
     },
     "execution_count": 98,
     "metadata": {},
     "output_type": "execute_result"
    }
   ],
   "source": [
    "s1 > s2"
   ]
  },
  {
   "cell_type": "markdown",
   "id": "ee9eaf2a",
   "metadata": {},
   "source": [
    "`ORM`\n",
    "\n",
    "    Object Relation Models"
   ]
  },
  {
   "cell_type": "code",
   "execution_count": null,
   "id": "4509c207",
   "metadata": {},
   "outputs": [],
   "source": []
  }
 ],
 "metadata": {
  "kernelspec": {
   "display_name": "Python 3 (ipykernel)",
   "language": "python",
   "name": "python3"
  },
  "language_info": {
   "codemirror_mode": {
    "name": "ipython",
    "version": 3
   },
   "file_extension": ".py",
   "mimetype": "text/x-python",
   "name": "python",
   "nbconvert_exporter": "python",
   "pygments_lexer": "ipython3",
   "version": "3.9.13"
  }
 },
 "nbformat": 4,
 "nbformat_minor": 5
}
