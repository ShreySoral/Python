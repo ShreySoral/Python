{
 "cells": [
  {
   "cell_type": "code",
   "execution_count": 1,
   "id": "a5f1b72b",
   "metadata": {},
   "outputs": [
    {
     "name": "stdout",
     "output_type": "stream",
     "text": [
      "2\n",
      "4\n",
      "6\n",
      "8\n"
     ]
    }
   ],
   "source": [
    "i=1\n",
    "while i<=10:\n",
    "    i+=1\n",
    "    if i%2:\n",
    "        continue\n",
    "    if i%5==0:\n",
    "        break\n",
    "    print(i)"
   ]
  },
  {
   "cell_type": "markdown",
   "id": "6f13c371",
   "metadata": {},
   "source": [
    "else with loop"
   ]
  },
  {
   "cell_type": "code",
   "execution_count": 2,
   "id": "e364287e",
   "metadata": {},
   "outputs": [
    {
     "name": "stdout",
     "output_type": "stream",
     "text": [
      "1\n",
      "2\n",
      "3\n",
      "4\n",
      "5\n",
      "how does this else work?\n"
     ]
    }
   ],
   "source": [
    "c=1\n",
    "while c<=5:\n",
    "    print(c)\n",
    "    c+=1\n",
    "else:\n",
    "    print(\"how does this else work?\")"
   ]
  },
  {
   "cell_type": "code",
   "execution_count": 3,
   "id": "6f91c46a",
   "metadata": {},
   "outputs": [
    {
     "name": "stdout",
     "output_type": "stream",
     "text": [
      "1\n"
     ]
    }
   ],
   "source": [
    "c=1\n",
    "while c<=5:\n",
    "    if c==2:\n",
    "        break\n",
    "    print(c)\n",
    "    c+=1\n",
    "else:\n",
    "    print(\"how does this else work ?\")"
   ]
  },
  {
   "cell_type": "code",
   "execution_count": 4,
   "id": "fa4557be",
   "metadata": {},
   "outputs": [
    {
     "ename": "SyntaxError",
     "evalue": "'break' outside loop (1817901876.py, line 2)",
     "output_type": "error",
     "traceback": [
      "\u001b[1;36m  Input \u001b[1;32mIn [4]\u001b[1;36m\u001b[0m\n\u001b[1;33m    break\u001b[0m\n\u001b[1;37m    ^\u001b[0m\n\u001b[1;31mSyntaxError\u001b[0m\u001b[1;31m:\u001b[0m 'break' outside loop\n"
     ]
    }
   ],
   "source": [
    "if True:\n",
    "    break"
   ]
  },
  {
   "cell_type": "code",
   "execution_count": 23,
   "id": "3c4290d0",
   "metadata": {},
   "outputs": [
    {
     "name": "stdout",
     "output_type": "stream",
     "text": [
      "key: \n",
      "3\n",
      "not found!\n"
     ]
    }
   ],
   "source": [
    "names=['java','c','c++','ruby','perl','python','go','swift']\n",
    "key=input(\"key: \\n\").strip().lower()\n",
    "i=0\n",
    "while i<len(names):\n",
    "    if key==names[i]:\n",
    "        print('item found')\n",
    "        break\n",
    "    i+=1\n",
    "else:\n",
    "    print(\"not found!\")"
   ]
  },
  {
   "cell_type": "code",
   "execution_count": 24,
   "id": "bd27fb3e",
   "metadata": {},
   "outputs": [],
   "source": [
    "def check_in(seq,item):\n",
    "    i=0\n",
    "    while i<len(seq):\n",
    "        if seq[i]==item:\n",
    "            return True\n",
    "        i+=1\n",
    "    else:\n",
    "        return False"
   ]
  },
  {
   "cell_type": "code",
   "execution_count": 29,
   "id": "d7f81d32",
   "metadata": {},
   "outputs": [
    {
     "name": "stdout",
     "output_type": "stream",
     "text": [
      "ha ha ha\n"
     ]
    }
   ],
   "source": [
    "names=['shrey','yash','ayush','rajat','nidhi','ravi']\n",
    "r=check_in(names,'yadvendra')\n",
    "print(r)"
   ]
  },
  {
   "cell_type": "code",
   "execution_count": 28,
   "id": "b0b9fb03",
   "metadata": {},
   "outputs": [
    {
     "name": "stdout",
     "output_type": "stream",
     "text": [
      "ha ha ha\n"
     ]
    }
   ],
   "source": [
    "r=check_in(names,'nidhi')\n",
    "print(r)"
   ]
  },
  {
   "cell_type": "code",
   "execution_count": 35,
   "id": "15fe55ee",
   "metadata": {},
   "outputs": [],
   "source": [
    "s=\"hello\"\n",
    "while s:\n",
    "    s=s[:-1]\n",
    "    if s[-1]=='e':\n",
    "        break\n",
    "    if s[-1] in ['o','l']:\n",
    "        continue\n",
    "    print(s[-1])\n",
    "else:\n",
    "    print(\"so what do you think ?\")"
   ]
  },
  {
   "cell_type": "code",
   "execution_count": 34,
   "id": "8eb6d5c4",
   "metadata": {},
   "outputs": [
    {
     "name": "stdout",
     "output_type": "stream",
     "text": [
      "5\n"
     ]
    }
   ],
   "source": [
    "print(len(s))"
   ]
  },
  {
   "cell_type": "markdown",
   "id": "9f859a6d",
   "metadata": {},
   "source": [
    "#### Guess Game\n",
    "\n",
    "2 players\n",
    "\n",
    "computer will choose a number b/w 1-50\n",
    "\n",
    "user will get 5 chances to guess the number\n",
    "\n",
    "\n",
    "with each guess computer will print a hint message \n",
    "\n",
    "your guess is low or your guess is high"
   ]
  },
  {
   "cell_type": "code",
   "execution_count": 36,
   "id": "f099b82e",
   "metadata": {},
   "outputs": [
    {
     "name": "stdout",
     "output_type": "stream",
     "text": [
      "4\n"
     ]
    }
   ],
   "source": [
    "import random\n",
    "num = random.randint(1,10)\n",
    "print(num)"
   ]
  },
  {
   "cell_type": "code",
   "execution_count": 38,
   "id": "e011bde9",
   "metadata": {},
   "outputs": [
    {
     "name": "stdout",
     "output_type": "stream",
     "text": [
      "[9, 50, 29, 20, 34, 42, 13, 23, 31, 28]\n"
     ]
    }
   ],
   "source": [
    "rnums=[]\n",
    "c=1\n",
    "while c<=10:\n",
    "    rnums.append(random.randint(1,50))\n",
    "    c+=1\n",
    "print(rnums)"
   ]
  },
  {
   "cell_type": "code",
   "execution_count": null,
   "id": "c1772227",
   "metadata": {},
   "outputs": [],
   "source": []
  }
 ],
 "metadata": {
  "kernelspec": {
   "display_name": "Python 3 (ipykernel)",
   "language": "python",
   "name": "python3"
  },
  "language_info": {
   "codemirror_mode": {
    "name": "ipython",
    "version": 3
   },
   "file_extension": ".py",
   "mimetype": "text/x-python",
   "name": "python",
   "nbconvert_exporter": "python",
   "pygments_lexer": "ipython3",
   "version": "3.10.5"
  }
 },
 "nbformat": 4,
 "nbformat_minor": 5
}
