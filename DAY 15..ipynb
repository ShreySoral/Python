{
 "cells": [
  {
   "cell_type": "code",
   "execution_count": 2,
   "id": "0955d6e8",
   "metadata": {},
   "outputs": [
    {
     "name": "stdout",
     "output_type": "stream",
     "text": [
      "list1 = [10, 'a']\n",
      "list2 = [123]\n",
      "list3 = [10, 'a']\n"
     ]
    }
   ],
   "source": [
    "def extendList(val, list=[]):\n",
    "    list.append(val)\n",
    "    return list\n",
    "list1 = extendList(10)\n",
    "list2 = extendList(123,[])\n",
    "list3 = extendList('a')\n",
    "print(\"list1 = %s\" % list1)\n",
    "print(\"list2 = %s\" % list2)\n",
    "print(\"list3 = %s\" % list3)\n"
   ]
  },
  {
   "cell_type": "code",
   "execution_count": 6,
   "id": "a7aa90ae",
   "metadata": {},
   "outputs": [
    {
     "name": "stdout",
     "output_type": "stream",
     "text": [
      "9339\n",
      "45254\n"
     ]
    }
   ],
   "source": [
    "def reverse_Digits(num):\n",
    "    rev_num = 0\n",
    "    while (num > 0):\n",
    "        rev_num = rev_num * 10 + num % 10\n",
    "        num = num//10\n",
    "    return rev_num\n",
    " \n",
    "# Function to check whether\n",
    "# the number is palindrome or not\n",
    "def isPalindrome(num):\n",
    "    return (reverse_Digits(num) == num)\n",
    " \n",
    "# Reverse and Add Function\n",
    "def ReverseandAdd(num):\n",
    "    rev_num = 0\n",
    "    while (num <= 4294967295):\n",
    "        # Reversing the digits of the number\n",
    "        rev_num = reverse_Digits(num)\n",
    " \n",
    "        # Adding the reversed number\n",
    "        # with the original\n",
    "        num = num + rev_num\n",
    " \n",
    "        # Checking whether the number\n",
    "        # is palindrome or not\n",
    "        if(isPalindrome(num)):\n",
    "            print (num)\n",
    "            break\n",
    "        else:\n",
    "            if (num > 4294967295):\n",
    "                print (\"No palindrome exist\")\n",
    " \n",
    "# Driver Code\n",
    "ReverseandAdd(195)\n",
    "ReverseandAdd(265)"
   ]
  },
  {
   "cell_type": "code",
   "execution_count": 7,
   "id": "7e99d587",
   "metadata": {},
   "outputs": [
    {
     "name": "stdout",
     "output_type": "stream",
     "text": [
      "29 is a prime number\n"
     ]
    }
   ],
   "source": [
    "# Program to check if a number is prime or not\n",
    "\n",
    "num = 29\n",
    "\n",
    "# To take input from the user\n",
    "#num = int(input(\"Enter a number: \"))\n",
    "\n",
    "# define a flag variable\n",
    "flag = False\n",
    "\n",
    "# prime numbers are greater than 1\n",
    "if num > 1:\n",
    "    # check for factors\n",
    "    for i in range(2, num):\n",
    "        if (num % i) == 0:\n",
    "            # if factor is found, set flag to True\n",
    "            flag = True\n",
    "            # break out of loop\n",
    "            break\n",
    "\n",
    "# check if flag is True\n",
    "if flag:\n",
    "    print(num, \"is not a prime number\")\n",
    "else:\n",
    "    print(num, \"is a prime number\")"
   ]
  },
  {
   "cell_type": "code",
   "execution_count": 8,
   "id": "c531c206",
   "metadata": {},
   "outputs": [
    {
     "name": "stdout",
     "output_type": "stream",
     "text": [
      "Please, Enter the Lowest Range Value: 3\n",
      "Please, Enter the Upper Range Value: 8\n",
      "The Prime Numbers in the range are: \n",
      "3\n",
      "5\n",
      "7\n"
     ]
    }
   ],
   "source": [
    "lower_value = int(input (\"Please, Enter the Lowest Range Value: \"))  \n",
    "upper_value = int(input (\"Please, Enter the Upper Range Value: \"))  \n",
    "print (\"The Prime Numbers in the range are: \")  \n",
    "for number in range (lower_value, upper_value + 1):  \n",
    "    if number > 1:  \n",
    "        for i in range (2, number):  \n",
    "            if (number % i) == 0:  \n",
    "                break  \n",
    "        else:  \n",
    "            print (number)  "
   ]
  },
  {
   "cell_type": "code",
   "execution_count": 10,
   "id": "588b7b3f",
   "metadata": {},
   "outputs": [],
   "source": [
    "def power(x, y):\n",
    "    temp = 0\n",
    "    if(y == 0):\n",
    "        return 1\n",
    "    temp = power(x, int(y / 2))\n",
    "    if (y % 2 == 0):\n",
    "        return temp * temp\n",
    "    else:\n",
    "        return x * temp * temp"
   ]
  },
  {
   "cell_type": "code",
   "execution_count": null,
   "id": "48ceb164",
   "metadata": {},
   "outputs": [],
   "source": []
  }
 ],
 "metadata": {
  "kernelspec": {
   "display_name": "Python 3 (ipykernel)",
   "language": "python",
   "name": "python3"
  },
  "language_info": {
   "codemirror_mode": {
    "name": "ipython",
    "version": 3
   },
   "file_extension": ".py",
   "mimetype": "text/x-python",
   "name": "python",
   "nbconvert_exporter": "python",
   "pygments_lexer": "ipython3",
   "version": "3.10.5"
  }
 },
 "nbformat": 4,
 "nbformat_minor": 5
}
