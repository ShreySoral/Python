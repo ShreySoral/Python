{
 "cells": [
  {
   "cell_type": "markdown",
   "id": "9b5362f3",
   "metadata": {},
   "source": [
    "### OOPS\n",
    "    What is object oriented programming?\n",
    "    \n",
    "    \n",
    "    `class`\n",
    "    `object`\n",
    "    \n",
    "    what is an object??\n",
    "    \n",
    "    \n",
    "### Everything is an object in python"
   ]
  },
  {
   "cell_type": "markdown",
   "id": "20b3af7c",
   "metadata": {},
   "source": [
    "    what is an object?\n",
    "    any real time entity which can be described by attributes(data values)"
   ]
  },
  {
   "cell_type": "code",
   "execution_count": 1,
   "id": "2acb5ace",
   "metadata": {},
   "outputs": [],
   "source": [
    "info=[\"shrey\",\"jaipur\",\"python developer\"]"
   ]
  },
  {
   "cell_type": "code",
   "execution_count": 2,
   "id": "893cd23a",
   "metadata": {},
   "outputs": [],
   "source": [
    "data=[\n",
    "    [\"x\",77,87,99],\n",
    "    [\"y\",87,90,54]\n",
    "]\n",
    "# data[obj1,obj2]"
   ]
  },
  {
   "cell_type": "markdown",
   "id": "ec6b254f",
   "metadata": {},
   "source": [
    "    object==data"
   ]
  },
  {
   "cell_type": "markdown",
   "id": "7a99dd22",
   "metadata": {},
   "source": [
    "     what is a class?"
   ]
  },
  {
   "cell_type": "markdown",
   "id": "a0cdb310",
   "metadata": {},
   "source": [
    "    Type or Class or Category"
   ]
  },
  {
   "cell_type": "code",
   "execution_count": 3,
   "id": "5639aed8",
   "metadata": {},
   "outputs": [
    {
     "data": {
      "text/plain": [
       "9"
      ]
     },
     "execution_count": 3,
     "metadata": {},
     "output_type": "execute_result"
    }
   ],
   "source": [
    "4+5"
   ]
  },
  {
   "cell_type": "code",
   "execution_count": 4,
   "id": "a59aa08e",
   "metadata": {},
   "outputs": [
    {
     "data": {
      "text/plain": [
       "'45'"
      ]
     },
     "execution_count": 4,
     "metadata": {},
     "output_type": "execute_result"
    }
   ],
   "source": [
    "\"4\"+\"5\""
   ]
  },
  {
   "cell_type": "markdown",
   "id": "8ae180b6",
   "metadata": {},
   "source": [
    "    `class` is a collection of `objects` and `member functions`\n",
    "    data members => objects\n",
    "    member functions -> methods/operations/behaviour\n",
    "    \n",
    "    objects \n",
    "        collection of attributes by which you can define a real time entity in the computer"
   ]
  },
  {
   "cell_type": "markdown",
   "id": "75c5fee6",
   "metadata": {},
   "source": [
    "    ER diagram\n",
    "    Class diagram\n",
    "    Code implement"
   ]
  },
  {
   "cell_type": "markdown",
   "id": "195ad4dd",
   "metadata": {},
   "source": [
    "    class\n",
    "        object's attribute\n",
    "        \n",
    "        operations/methods"
   ]
  },
  {
   "cell_type": "code",
   "execution_count": 5,
   "id": "77f810ba",
   "metadata": {},
   "outputs": [],
   "source": [
    "c1=[\"shrey\",7000,\"redhat\",\"778099\",\"6556576\"]"
   ]
  },
  {
   "cell_type": "code",
   "execution_count": 6,
   "id": "838dfb90",
   "metadata": {},
   "outputs": [],
   "source": [
    "def check_balance(customer):\n",
    "    name=customer[0]\n",
    "    balance=customer[1]\n",
    "    print(f\"hey {name} you have {balance}\\u20B9 in your account\")"
   ]
  },
  {
   "cell_type": "code",
   "execution_count": 11,
   "id": "e831f993",
   "metadata": {},
   "outputs": [
    {
     "ename": "NameError",
     "evalue": "name 'c1' is not defined",
     "output_type": "error",
     "traceback": [
      "\u001b[1;31m---------------------------------------------------------------------------\u001b[0m",
      "\u001b[1;31mNameError\u001b[0m                                 Traceback (most recent call last)",
      "Input \u001b[1;32mIn [11]\u001b[0m, in \u001b[0;36m<cell line: 1>\u001b[1;34m()\u001b[0m\n\u001b[1;32m----> 1\u001b[0m check_balance(\u001b[43mc1\u001b[49m)\n",
      "\u001b[1;31mNameError\u001b[0m: name 'c1' is not defined"
     ]
    }
   ],
   "source": [
    "check_balance(c1)"
   ]
  },
  {
   "cell_type": "code",
   "execution_count": 8,
   "id": "b2988a5e",
   "metadata": {},
   "outputs": [
    {
     "name": "stdout",
     "output_type": "stream",
     "text": [
      "hey shrey you have ['shrey', 7000, 'redhat', '778099', '6556576']₹ in your account\n"
     ]
    }
   ],
   "source": [
    "check_balance(customer1)"
   ]
  },
  {
   "cell_type": "code",
   "execution_count": 9,
   "id": "15c28f3c",
   "metadata": {},
   "outputs": [],
   "source": [
    "def debit(customer,amount):\n",
    "    current=customer[1]\n",
    "    if current>amount:\n",
    "        balance=current-amount\n",
    "        customer[1]=balance\n",
    "        print(\"amount debited\")\n",
    "    else:\n",
    "        print(\"insufficient balance\")\n",
    "    return customer"
   ]
  },
  {
   "cell_type": "code",
   "execution_count": 10,
   "id": "e3563f75",
   "metadata": {},
   "outputs": [
    {
     "ename": "NameError",
     "evalue": "name 'c1' is not defined",
     "output_type": "error",
     "traceback": [
      "\u001b[1;31m---------------------------------------------------------------------------\u001b[0m",
      "\u001b[1;31mNameError\u001b[0m                                 Traceback (most recent call last)",
      "Input \u001b[1;32mIn [10]\u001b[0m, in \u001b[0;36m<cell line: 1>\u001b[1;34m()\u001b[0m\n\u001b[1;32m----> 1\u001b[0m c1\u001b[38;5;241m=\u001b[39mdebit(\u001b[43mc1\u001b[49m,\u001b[38;5;241m300\u001b[39m)\n",
      "\u001b[1;31mNameError\u001b[0m: name 'c1' is not defined"
     ]
    }
   ],
   "source": [
    "c1=debit(c1,300)"
   ]
  },
  {
   "cell_type": "code",
   "execution_count": 13,
   "id": "0d3b5f63",
   "metadata": {},
   "outputs": [],
   "source": [
    "class Customer:\n",
    "    def __init__(self,name,balance):\n",
    "        self.name=name\n",
    "        self.balance=balance\n",
    "    def check_balance(self):\n",
    "        print(f\"hi {self.name} you have {self.balance} in your account\")\n",
    "    def debit_amount(self,amount):\n",
    "        if self.balance>=amount:\n",
    "            self.balance -=amount\n",
    "            print(f\"!{amount} Debit successfull\")\n",
    "            print(f\"your remaining balance is {self.balance}\\u20B9\")\n",
    "        else:\n",
    "            print(f\"insufficient balance your balance is {self.balance}\")"
   ]
  },
  {
   "cell_type": "code",
   "execution_count": 14,
   "id": "a45e8f68",
   "metadata": {},
   "outputs": [],
   "source": [
    "c1=Customer(\"shrey\",9000)\n",
    "c2=Customer(\"rajat\",20000)"
   ]
  },
  {
   "cell_type": "code",
   "execution_count": 15,
   "id": "d1af116f",
   "metadata": {},
   "outputs": [
    {
     "name": "stdout",
     "output_type": "stream",
     "text": [
      "hi shrey you have 9000 in your account\n"
     ]
    }
   ],
   "source": [
    "c1.check_balance()"
   ]
  },
  {
   "cell_type": "code",
   "execution_count": 19,
   "id": "8769690c",
   "metadata": {},
   "outputs": [
    {
     "name": "stdout",
     "output_type": "stream",
     "text": [
      "insufficient balance your balance is 9000\n"
     ]
    }
   ],
   "source": [
    "c1.debit_amount(100)"
   ]
  },
  {
   "cell_type": "markdown",
   "id": "c725089e",
   "metadata": {},
   "source": [
    "## OOPS\n",
    "    class and object\n",
    "    encapsulation\n",
    "    abstraction\n",
    "    data hiding\n",
    "    inheritance\n",
    "    polymorphism\n",
    "    message passing\n",
    "    abstract and meta class\n",
    "    constructors and destructors\n",
    "    static,instance and class methods"
   ]
  },
  {
   "cell_type": "code",
   "execution_count": null,
   "id": "1796cf0d",
   "metadata": {},
   "outputs": [],
   "source": []
  }
 ],
 "metadata": {
  "kernelspec": {
   "display_name": "Python 3 (ipykernel)",
   "language": "python",
   "name": "python3"
  },
  "language_info": {
   "codemirror_mode": {
    "name": "ipython",
    "version": 3
   },
   "file_extension": ".py",
   "mimetype": "text/x-python",
   "name": "python",
   "nbconvert_exporter": "python",
   "pygments_lexer": "ipython3",
   "version": "3.10.5"
  }
 },
 "nbformat": 4,
 "nbformat_minor": 5
}
