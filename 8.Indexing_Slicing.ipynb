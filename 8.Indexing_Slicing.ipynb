{
 "cells": [
  {
   "cell_type": "markdown",
   "id": "f233e624",
   "metadata": {},
   "source": [
    "## Data Type\n",
    "\n",
    "    "
   ]
  },
  {
   "cell_type": "code",
   "execution_count": 1,
   "id": "746c18cd",
   "metadata": {},
   "outputs": [
    {
     "name": "stdout",
     "output_type": "stream",
     "text": [
      "1165864102320 5\n"
     ]
    }
   ],
   "source": [
    "x = 5\n",
    "print(id(x), x)"
   ]
  },
  {
   "cell_type": "code",
   "execution_count": 2,
   "id": "366b4499",
   "metadata": {},
   "outputs": [
    {
     "name": "stdout",
     "output_type": "stream",
     "text": [
      "1165864102480 10\n"
     ]
    }
   ],
   "source": [
    "y = 10\n",
    "print(id(y), y)"
   ]
  },
  {
   "cell_type": "code",
   "execution_count": 3,
   "id": "a2e53572",
   "metadata": {},
   "outputs": [
    {
     "name": "stdout",
     "output_type": "stream",
     "text": [
      "1165864102800 20\n"
     ]
    }
   ],
   "source": [
    "z = 20\n",
    "print(id(z), z)"
   ]
  },
  {
   "cell_type": "code",
   "execution_count": 4,
   "id": "57189d2d",
   "metadata": {},
   "outputs": [
    {
     "data": {
      "text/plain": [
       "160"
      ]
     },
     "execution_count": 4,
     "metadata": {},
     "output_type": "execute_result"
    }
   ],
   "source": [
    "480 - 320"
   ]
  },
  {
   "cell_type": "code",
   "execution_count": 5,
   "id": "9ea8001f",
   "metadata": {},
   "outputs": [
    {
     "data": {
      "text/plain": [
       "320"
      ]
     },
     "execution_count": 5,
     "metadata": {},
     "output_type": "execute_result"
    }
   ],
   "source": [
    "800 - 480"
   ]
  },
  {
   "cell_type": "code",
   "execution_count": 6,
   "id": "d8d51fbb",
   "metadata": {},
   "outputs": [
    {
     "name": "stdout",
     "output_type": "stream",
     "text": [
      "1165864102256 3\n"
     ]
    }
   ],
   "source": [
    "p = 3 \n",
    "print(id(p), p)"
   ]
  },
  {
   "cell_type": "code",
   "execution_count": 7,
   "id": "74f13b3c",
   "metadata": {},
   "outputs": [
    {
     "name": "stdout",
     "output_type": "stream",
     "text": [
      "1165864102256 3\n"
     ]
    }
   ],
   "source": [
    "k = 3\n",
    "print(id(k), p)"
   ]
  },
  {
   "cell_type": "code",
   "execution_count": 8,
   "id": "52744bf0",
   "metadata": {},
   "outputs": [
    {
     "data": {
      "text/plain": [
       "(0, 255)"
      ]
     },
     "execution_count": 8,
     "metadata": {},
     "output_type": "execute_result"
    }
   ],
   "source": [
    "0, 255"
   ]
  },
  {
   "cell_type": "markdown",
   "id": "21dbe1e5",
   "metadata": {},
   "source": [
    "    1 byte -> 8 bit"
   ]
  },
  {
   "cell_type": "code",
   "execution_count": 9,
   "id": "d6473dff",
   "metadata": {},
   "outputs": [
    {
     "data": {
      "text/plain": [
       "256"
      ]
     },
     "execution_count": 9,
     "metadata": {},
     "output_type": "execute_result"
    }
   ],
   "source": [
    "2**8"
   ]
  },
  {
   "cell_type": "code",
   "execution_count": 10,
   "id": "1df6c4f6",
   "metadata": {},
   "outputs": [
    {
     "data": {
      "text/plain": [
       "-255"
      ]
     },
     "execution_count": 10,
     "metadata": {},
     "output_type": "execute_result"
    }
   ],
   "source": [
    "0-255"
   ]
  },
  {
   "cell_type": "code",
   "execution_count": 11,
   "id": "08907db1",
   "metadata": {},
   "outputs": [
    {
     "name": "stdout",
     "output_type": "stream",
     "text": [
      "1165864298864 255\n",
      "1165864298864 255\n"
     ]
    }
   ],
   "source": [
    "x = 255\n",
    "print(id(x), x)\n",
    "y = 255\n",
    "print(id(x), x)"
   ]
  },
  {
   "cell_type": "code",
   "execution_count": 14,
   "id": "09648c51",
   "metadata": {},
   "outputs": [
    {
     "data": {
      "text/plain": [
       "32"
      ]
     },
     "execution_count": 14,
     "metadata": {},
     "output_type": "execute_result"
    }
   ],
   "source": [
    "192 - 160"
   ]
  },
  {
   "cell_type": "code",
   "execution_count": 15,
   "id": "fcdc044c",
   "metadata": {},
   "outputs": [
    {
     "name": "stdout",
     "output_type": "stream",
     "text": [
      "1165864102480\n"
     ]
    }
   ],
   "source": [
    "print(id(10))"
   ]
  },
  {
   "cell_type": "code",
   "execution_count": 17,
   "id": "5e6b9019",
   "metadata": {},
   "outputs": [],
   "source": [
    "data = [ var for var in range(0, 300) ]"
   ]
  },
  {
   "cell_type": "code",
   "execution_count": 18,
   "id": "9503d38d",
   "metadata": {},
   "outputs": [
    {
     "name": "stdout",
     "output_type": "stream",
     "text": [
      "[0, 1, 2, 3, 4, 5, 6, 7, 8, 9, 10, 11, 12, 13, 14, 15, 16, 17, 18, 19, 20, 21, 22, 23, 24, 25, 26, 27, 28, 29, 30, 31, 32, 33, 34, 35, 36, 37, 38, 39, 40, 41, 42, 43, 44, 45, 46, 47, 48, 49, 50, 51, 52, 53, 54, 55, 56, 57, 58, 59, 60, 61, 62, 63, 64, 65, 66, 67, 68, 69, 70, 71, 72, 73, 74, 75, 76, 77, 78, 79, 80, 81, 82, 83, 84, 85, 86, 87, 88, 89, 90, 91, 92, 93, 94, 95, 96, 97, 98, 99, 100, 101, 102, 103, 104, 105, 106, 107, 108, 109, 110, 111, 112, 113, 114, 115, 116, 117, 118, 119, 120, 121, 122, 123, 124, 125, 126, 127, 128, 129, 130, 131, 132, 133, 134, 135, 136, 137, 138, 139, 140, 141, 142, 143, 144, 145, 146, 147, 148, 149, 150, 151, 152, 153, 154, 155, 156, 157, 158, 159, 160, 161, 162, 163, 164, 165, 166, 167, 168, 169, 170, 171, 172, 173, 174, 175, 176, 177, 178, 179, 180, 181, 182, 183, 184, 185, 186, 187, 188, 189, 190, 191, 192, 193, 194, 195, 196, 197, 198, 199, 200, 201, 202, 203, 204, 205, 206, 207, 208, 209, 210, 211, 212, 213, 214, 215, 216, 217, 218, 219, 220, 221, 222, 223, 224, 225, 226, 227, 228, 229, 230, 231, 232, 233, 234, 235, 236, 237, 238, 239, 240, 241, 242, 243, 244, 245, 246, 247, 248, 249, 250, 251, 252, 253, 254, 255, 256, 257, 258, 259, 260, 261, 262, 263, 264, 265, 266, 267, 268, 269, 270, 271, 272, 273, 274, 275, 276, 277, 278, 279, 280, 281, 282, 283, 284, 285, 286, 287, 288, 289, 290, 291, 292, 293, 294, 295, 296, 297, 298, 299]\n"
     ]
    }
   ],
   "source": [
    "print(data)"
   ]
  },
  {
   "cell_type": "code",
   "execution_count": 19,
   "id": "f2ef288e",
   "metadata": {},
   "outputs": [
    {
     "name": "stdout",
     "output_type": "stream",
     "text": [
      "0 1165864102160\n",
      "1 1165864102192\n",
      "2 1165864102224\n",
      "3 1165864102256\n",
      "4 1165864102288\n",
      "5 1165864102320\n",
      "6 1165864102352\n",
      "7 1165864102384\n",
      "8 1165864102416\n",
      "9 1165864102448\n",
      "10 1165864102480\n",
      "11 1165864102512\n",
      "12 1165864102544\n",
      "13 1165864102576\n",
      "14 1165864102608\n",
      "15 1165864102640\n",
      "16 1165864102672\n",
      "17 1165864102704\n",
      "18 1165864102736\n",
      "19 1165864102768\n",
      "20 1165864102800\n",
      "21 1165864102832\n",
      "22 1165864102864\n",
      "23 1165864102896\n",
      "24 1165864102928\n",
      "25 1165864102960\n",
      "26 1165864102992\n",
      "27 1165864103024\n",
      "28 1165864103056\n",
      "29 1165864103088\n",
      "30 1165864103120\n",
      "31 1165864103152\n",
      "32 1165864103184\n",
      "33 1165864103216\n",
      "34 1165864103248\n",
      "35 1165864103280\n",
      "36 1165864103312\n",
      "37 1165864103344\n",
      "38 1165864103376\n",
      "39 1165864103408\n",
      "40 1165864103440\n",
      "41 1165864103472\n",
      "42 1165864103504\n",
      "43 1165864103536\n",
      "44 1165864103568\n",
      "45 1165864103600\n",
      "46 1165864103632\n",
      "47 1165864103664\n",
      "48 1165864103696\n",
      "49 1165864103728\n",
      "50 1165864103760\n",
      "51 1165864103792\n",
      "52 1165864103824\n",
      "53 1165864103856\n",
      "54 1165864103888\n",
      "55 1165864292400\n",
      "56 1165864292432\n",
      "57 1165864292464\n",
      "58 1165864292496\n",
      "59 1165864292528\n",
      "60 1165864292560\n",
      "61 1165864292592\n",
      "62 1165864292624\n",
      "63 1165864292656\n",
      "64 1165864292688\n",
      "65 1165864292720\n",
      "66 1165864292752\n",
      "67 1165864292784\n",
      "68 1165864292816\n",
      "69 1165864292848\n",
      "70 1165864292880\n",
      "71 1165864292912\n",
      "72 1165864292944\n",
      "73 1165864292976\n",
      "74 1165864293008\n",
      "75 1165864293040\n",
      "76 1165864293072\n",
      "77 1165864293104\n",
      "78 1165864293136\n",
      "79 1165864293168\n",
      "80 1165864293200\n",
      "81 1165864293232\n",
      "82 1165864293264\n",
      "83 1165864293296\n",
      "84 1165864293328\n",
      "85 1165864293360\n",
      "86 1165864293392\n",
      "87 1165864293424\n",
      "88 1165864293456\n",
      "89 1165864293488\n",
      "90 1165864293520\n",
      "91 1165864293552\n",
      "92 1165864293584\n",
      "93 1165864293616\n",
      "94 1165864293648\n",
      "95 1165864293680\n",
      "96 1165864293712\n",
      "97 1165864293744\n",
      "98 1165864293776\n",
      "99 1165864293808\n",
      "100 1165864293840\n",
      "101 1165864293872\n",
      "102 1165864293904\n",
      "103 1165864293936\n",
      "104 1165864293968\n",
      "105 1165864294000\n",
      "106 1165864294032\n",
      "107 1165864294064\n",
      "108 1165864294096\n",
      "109 1165864294128\n",
      "110 1165864294160\n",
      "111 1165864294192\n",
      "112 1165864294224\n",
      "113 1165864294256\n",
      "114 1165864294288\n",
      "115 1165864294320\n",
      "116 1165864294352\n",
      "117 1165864294384\n",
      "118 1165864294416\n",
      "119 1165864294448\n",
      "120 1165864294480\n",
      "121 1165864294512\n",
      "122 1165864294544\n",
      "123 1165864294576\n",
      "124 1165864294608\n",
      "125 1165864294640\n",
      "126 1165864294672\n",
      "127 1165864294704\n",
      "128 1165864294736\n",
      "129 1165864294768\n",
      "130 1165864294800\n",
      "131 1165864294832\n",
      "132 1165864294864\n",
      "133 1165864294896\n",
      "134 1165864294928\n",
      "135 1165864294960\n",
      "136 1165864294992\n",
      "137 1165864295024\n",
      "138 1165864295056\n",
      "139 1165864295088\n",
      "140 1165864295120\n",
      "141 1165864295152\n",
      "142 1165864295184\n",
      "143 1165864295216\n",
      "144 1165864295248\n",
      "145 1165864295280\n",
      "146 1165864295312\n",
      "147 1165864295344\n",
      "148 1165864295376\n",
      "149 1165864295408\n",
      "150 1165864295440\n",
      "151 1165864295472\n",
      "152 1165864295504\n",
      "153 1165864295536\n",
      "154 1165864295568\n",
      "155 1165864295600\n",
      "156 1165864295632\n",
      "157 1165864295664\n",
      "158 1165864295696\n",
      "159 1165864295728\n",
      "160 1165864295760\n",
      "161 1165864295792\n",
      "162 1165864295824\n",
      "163 1165864295856\n",
      "164 1165864295888\n",
      "165 1165864295920\n",
      "166 1165864295952\n",
      "167 1165864295984\n",
      "168 1165864296016\n",
      "169 1165864296048\n",
      "170 1165864296080\n",
      "171 1165864296112\n",
      "172 1165864296144\n",
      "173 1165864296176\n",
      "174 1165864296208\n",
      "175 1165864296240\n",
      "176 1165864296272\n",
      "177 1165864296304\n",
      "178 1165864296336\n",
      "179 1165864296368\n",
      "180 1165864296400\n",
      "181 1165864296496\n",
      "182 1165864296528\n",
      "183 1165864296560\n",
      "184 1165864296592\n",
      "185 1165864296624\n",
      "186 1165864296656\n",
      "187 1165864296688\n",
      "188 1165864296720\n",
      "189 1165864296752\n",
      "190 1165864296784\n",
      "191 1165864296816\n",
      "192 1165864296848\n",
      "193 1165864296880\n",
      "194 1165864296912\n",
      "195 1165864296944\n",
      "196 1165864296976\n",
      "197 1165864297008\n",
      "198 1165864297040\n",
      "199 1165864297072\n",
      "200 1165864297104\n",
      "201 1165864297136\n",
      "202 1165864297168\n",
      "203 1165864297200\n",
      "204 1165864297232\n",
      "205 1165864297264\n",
      "206 1165864297296\n",
      "207 1165864297328\n",
      "208 1165864297360\n",
      "209 1165864297392\n",
      "210 1165864297424\n",
      "211 1165864297456\n",
      "212 1165864297488\n",
      "213 1165864297520\n",
      "214 1165864297552\n",
      "215 1165864297584\n",
      "216 1165864297616\n",
      "217 1165864297648\n",
      "218 1165864297680\n",
      "219 1165864297712\n",
      "220 1165864297744\n",
      "221 1165864297776\n",
      "222 1165864297808\n",
      "223 1165864297840\n",
      "224 1165864297872\n",
      "225 1165864297904\n",
      "226 1165864297936\n",
      "227 1165864297968\n",
      "228 1165864298000\n",
      "229 1165864298032\n",
      "230 1165864298064\n",
      "231 1165864298096\n",
      "232 1165864298128\n",
      "233 1165864298160\n",
      "234 1165864298192\n",
      "235 1165864298224\n",
      "236 1165864298256\n",
      "237 1165864298288\n",
      "238 1165864298320\n",
      "239 1165864298352\n",
      "240 1165864298384\n",
      "241 1165864298416\n",
      "242 1165864298448\n",
      "243 1165864298480\n",
      "244 1165864298512\n",
      "245 1165864298544\n",
      "246 1165864298576\n",
      "247 1165864298608\n",
      "248 1165864298640\n",
      "249 1165864298672\n",
      "250 1165864298704\n",
      "251 1165864298736\n",
      "252 1165864298768\n",
      "253 1165864298800\n",
      "254 1165864298832\n",
      "255 1165864298864\n",
      "256 1165864298896\n",
      "257 1165951005136\n",
      "258 1165951004976\n",
      "259 1165951005104\n",
      "260 1165951004816\n",
      "261 1165951004784\n",
      "262 1165951004912\n",
      "263 1165951005168\n",
      "264 1165951005008\n",
      "265 1165951005040\n",
      "266 1165951005200\n",
      "267 1165951005232\n",
      "268 1165951005264\n",
      "269 1165951005296\n",
      "270 1165951005328\n",
      "271 1165951005360\n",
      "272 1165951005392\n",
      "273 1165951005424\n",
      "274 1165951005456\n",
      "275 1165951005488\n",
      "276 1165951005520\n",
      "277 1165951005552\n",
      "278 1165951005584\n",
      "279 1165951005616\n",
      "280 1165951005648\n",
      "281 1165951005680\n",
      "282 1165951005712\n",
      "283 1165951005744\n",
      "284 1165951005776\n",
      "285 1165951005808\n",
      "286 1165951005840\n",
      "287 1165951005872\n",
      "288 1165951005904\n",
      "289 1165951005936\n",
      "290 1165951005968\n",
      "291 1165951006000\n",
      "292 1165951006032\n",
      "293 1165951006064\n",
      "294 1165951006096\n",
      "295 1165951006128\n",
      "296 1165951006160\n",
      "297 1165951006192\n",
      "298 1165951006224\n",
      "299 1165951006256\n"
     ]
    }
   ],
   "source": [
    "# garbage collector \n",
    "for value in data:\n",
    "    print(value, id(value))"
   ]
  },
  {
   "cell_type": "code",
   "execution_count": 21,
   "id": "0f7f9834",
   "metadata": {},
   "outputs": [
    {
     "name": "stdout",
     "output_type": "stream",
     "text": [
      "1165870224432 a\n"
     ]
    }
   ],
   "source": [
    "a = \"a\"\n",
    "print(id(a), a)"
   ]
  },
  {
   "cell_type": "code",
   "execution_count": 22,
   "id": "138d264d",
   "metadata": {},
   "outputs": [
    {
     "name": "stdout",
     "output_type": "stream",
     "text": [
      "1165869924784 b\n"
     ]
    }
   ],
   "source": [
    "b = \"b\"\n",
    "print(id(b), b)"
   ]
  },
  {
   "cell_type": "code",
   "execution_count": 23,
   "id": "5595e693",
   "metadata": {},
   "outputs": [
    {
     "name": "stdout",
     "output_type": "stream",
     "text": [
      "1165868408496 c\n"
     ]
    }
   ],
   "source": [
    "c = \"c\"\n",
    "print(id(c), c)"
   ]
  },
  {
   "cell_type": "code",
   "execution_count": 24,
   "id": "0c6d7a15",
   "metadata": {},
   "outputs": [
    {
     "name": "stdout",
     "output_type": "stream",
     "text": [
      "1165864298896\n"
     ]
    }
   ],
   "source": [
    "a = 256\n",
    "print(id(256))\n"
   ]
  },
  {
   "cell_type": "code",
   "execution_count": 25,
   "id": "f4101339",
   "metadata": {},
   "outputs": [
    {
     "name": "stdout",
     "output_type": "stream",
     "text": [
      "1165864298896\n"
     ]
    }
   ],
   "source": [
    "b = 256\n",
    "print(id(256))"
   ]
  },
  {
   "cell_type": "code",
   "execution_count": 26,
   "id": "51322a68",
   "metadata": {},
   "outputs": [
    {
     "name": "stdout",
     "output_type": "stream",
     "text": [
      "1165951007088\n"
     ]
    }
   ],
   "source": [
    "a = 257\n",
    "print(id(a))"
   ]
  },
  {
   "cell_type": "code",
   "execution_count": 27,
   "id": "f2ed51a0",
   "metadata": {},
   "outputs": [
    {
     "name": "stdout",
     "output_type": "stream",
     "text": [
      "1165951006480\n"
     ]
    }
   ],
   "source": [
    "b = 257\n",
    "print(id(b))"
   ]
  },
  {
   "cell_type": "code",
   "execution_count": 28,
   "id": "2a80ec8b",
   "metadata": {},
   "outputs": [
    {
     "data": {
      "text/plain": [
       "'A'"
      ]
     },
     "execution_count": 28,
     "metadata": {},
     "output_type": "execute_result"
    }
   ],
   "source": [
    "chr(65)"
   ]
  },
  {
   "cell_type": "code",
   "execution_count": 29,
   "id": "94df785d",
   "metadata": {},
   "outputs": [],
   "source": [
    "char = [ chr(var) for var in range(0, 257)]"
   ]
  },
  {
   "cell_type": "code",
   "execution_count": 30,
   "id": "a7d15f7a",
   "metadata": {},
   "outputs": [
    {
     "name": "stdout",
     "output_type": "stream",
     "text": [
      "['\\x00', '\\x01', '\\x02', '\\x03', '\\x04', '\\x05', '\\x06', '\\x07', '\\x08', '\\t', '\\n', '\\x0b', '\\x0c', '\\r', '\\x0e', '\\x0f', '\\x10', '\\x11', '\\x12', '\\x13', '\\x14', '\\x15', '\\x16', '\\x17', '\\x18', '\\x19', '\\x1a', '\\x1b', '\\x1c', '\\x1d', '\\x1e', '\\x1f', ' ', '!', '\"', '#', '$', '%', '&', \"'\", '(', ')', '*', '+', ',', '-', '.', '/', '0', '1', '2', '3', '4', '5', '6', '7', '8', '9', ':', ';', '<', '=', '>', '?', '@', 'A', 'B', 'C', 'D', 'E', 'F', 'G', 'H', 'I', 'J', 'K', 'L', 'M', 'N', 'O', 'P', 'Q', 'R', 'S', 'T', 'U', 'V', 'W', 'X', 'Y', 'Z', '[', '\\\\', ']', '^', '_', '`', 'a', 'b', 'c', 'd', 'e', 'f', 'g', 'h', 'i', 'j', 'k', 'l', 'm', 'n', 'o', 'p', 'q', 'r', 's', 't', 'u', 'v', 'w', 'x', 'y', 'z', '{', '|', '}', '~', '\\x7f', '\\x80', '\\x81', '\\x82', '\\x83', '\\x84', '\\x85', '\\x86', '\\x87', '\\x88', '\\x89', '\\x8a', '\\x8b', '\\x8c', '\\x8d', '\\x8e', '\\x8f', '\\x90', '\\x91', '\\x92', '\\x93', '\\x94', '\\x95', '\\x96', '\\x97', '\\x98', '\\x99', '\\x9a', '\\x9b', '\\x9c', '\\x9d', '\\x9e', '\\x9f', '\\xa0', '¡', '¢', '£', '¤', '¥', '¦', '§', '¨', '©', 'ª', '«', '¬', '\\xad', '®', '¯', '°', '±', '²', '³', '´', 'µ', '¶', '·', '¸', '¹', 'º', '»', '¼', '½', '¾', '¿', 'À', 'Á', 'Â', 'Ã', 'Ä', 'Å', 'Æ', 'Ç', 'È', 'É', 'Ê', 'Ë', 'Ì', 'Í', 'Î', 'Ï', 'Ð', 'Ñ', 'Ò', 'Ó', 'Ô', 'Õ', 'Ö', '×', 'Ø', 'Ù', 'Ú', 'Û', 'Ü', 'Ý', 'Þ', 'ß', 'à', 'á', 'â', 'ã', 'ä', 'å', 'æ', 'ç', 'è', 'é', 'ê', 'ë', 'ì', 'í', 'î', 'ï', 'ð', 'ñ', 'ò', 'ó', 'ô', 'õ', 'ö', '÷', 'ø', 'ù', 'ú', 'û', 'ü', 'ý', 'þ', 'ÿ', 'Ā']\n"
     ]
    }
   ],
   "source": [
    "print(char)"
   ]
  },
  {
   "cell_type": "markdown",
   "id": "c1b79bee",
   "metadata": {},
   "source": [
    "### String \n",
    "\n",
    "    Ordered Sequential Data Type\n",
    "    Immutable Data Type\n",
    "    Collection of letters / characters\n",
    "    \n",
    "    we use '' or \"\" do define string \n",
    "    \n",
    "    single line strings  '...', \"...\"\n",
    "    multi line strings  '''...''', \"\"\"...\"\"\""
   ]
  },
  {
   "cell_type": "markdown",
   "id": "821f17be",
   "metadata": {},
   "source": [
    "### Indexing "
   ]
  },
  {
   "cell_type": "markdown",
   "id": "1f9113f0",
   "metadata": {},
   "source": [
    "    he didn't say, \"she is beautiful.\""
   ]
  },
  {
   "cell_type": "code",
   "execution_count": 38,
   "id": "4c49c332",
   "metadata": {},
   "outputs": [
    {
     "name": "stdout",
     "output_type": "stream",
     "text": [
      "\\\n"
     ]
    }
   ],
   "source": [
    "print(\"\\\\\") # \\\\ including \\ into a string"
   ]
  },
  {
   "cell_type": "code",
   "execution_count": 39,
   "id": "326f0818",
   "metadata": {},
   "outputs": [
    {
     "name": "stdout",
     "output_type": "stream",
     "text": [
      "\"\n"
     ]
    }
   ],
   "source": [
    "print(\"\\\"\") # \\\" to include \" into a string"
   ]
  },
  {
   "cell_type": "markdown",
   "id": "fc27bc88",
   "metadata": {},
   "source": [
    "## Escape Sequence \n",
    "\n",
    "     n\n",
    "     \\n -> special character"
   ]
  },
  {
   "cell_type": "code",
   "execution_count": 37,
   "id": "a44f2473",
   "metadata": {},
   "outputs": [
    {
     "ename": "SyntaxError",
     "evalue": "invalid syntax (4035914161.py, line 1)",
     "output_type": "error",
     "traceback": [
      "\u001b[1;36m  Input \u001b[1;32mIn [37]\u001b[1;36m\u001b[0m\n\u001b[1;33m    s = \"we can not put a \" inside double quote\"\u001b[0m\n\u001b[1;37m                            ^\u001b[0m\n\u001b[1;31mSyntaxError\u001b[0m\u001b[1;31m:\u001b[0m invalid syntax\n"
     ]
    }
   ],
   "source": [
    "s = \"we can not put a \" inside double quote\"\n",
    "print(s)"
   ]
  },
  {
   "cell_type": "code",
   "execution_count": 34,
   "id": "ece82623",
   "metadata": {},
   "outputs": [
    {
     "name": "stdout",
     "output_type": "stream",
     "text": [
      "he didn't say\n"
     ]
    }
   ],
   "source": [
    "s = \"he didn't say\"\n",
    "# double quote can include single quotes as part string\n",
    "print(s)"
   ]
  },
  {
   "cell_type": "code",
   "execution_count": 35,
   "id": "8a7cb3c8",
   "metadata": {},
   "outputs": [
    {
     "name": "stdout",
     "output_type": "stream",
     "text": [
      "\"she is beautiful.\"\n"
     ]
    }
   ],
   "source": [
    "s = '\"she is beautiful.\"'\n",
    "# single quote can include double quotes as part of string\n",
    "print(s)"
   ]
  },
  {
   "cell_type": "code",
   "execution_count": 33,
   "id": "1b6a85a7",
   "metadata": {},
   "outputs": [
    {
     "ename": "SyntaxError",
     "evalue": "invalid syntax (3934274202.py, line 1)",
     "output_type": "error",
     "traceback": [
      "\u001b[1;36m  Input \u001b[1;32mIn [33]\u001b[1;36m\u001b[0m\n\u001b[1;33m    s = 'he didn't say, \"she is beautiful.\"'\u001b[0m\n\u001b[1;37m                 ^\u001b[0m\n\u001b[1;31mSyntaxError\u001b[0m\u001b[1;31m:\u001b[0m invalid syntax\n"
     ]
    }
   ],
   "source": [
    "s = 'he didn't say, \"she is beautiful.\"'"
   ]
  },
  {
   "cell_type": "code",
   "execution_count": 32,
   "id": "9190e4e3",
   "metadata": {},
   "outputs": [
    {
     "ename": "SyntaxError",
     "evalue": "invalid syntax (2223295734.py, line 1)",
     "output_type": "error",
     "traceback": [
      "\u001b[1;36m  Input \u001b[1;32mIn [32]\u001b[1;36m\u001b[0m\n\u001b[1;33m    s = \"he didn't say, \"she is beautiful.\"\"\u001b[0m\n\u001b[1;37m                         ^\u001b[0m\n\u001b[1;31mSyntaxError\u001b[0m\u001b[1;31m:\u001b[0m invalid syntax\n"
     ]
    }
   ],
   "source": [
    "s = \"he didn't say, \"she is beautiful.\"\""
   ]
  },
  {
   "cell_type": "markdown",
   "id": "cb542ddd",
   "metadata": {},
   "source": [
    "    'a'-'z'"
   ]
  },
  {
   "cell_type": "code",
   "execution_count": 56,
   "id": "960a86d1",
   "metadata": {},
   "outputs": [
    {
     "name": "stdout",
     "output_type": "stream",
     "text": [
      "hello 1165946946096\n"
     ]
    }
   ],
   "source": [
    "b = \"hello\"\n",
    "print(b, id(b))"
   ]
  },
  {
   "cell_type": "code",
   "execution_count": 57,
   "id": "67a63f11",
   "metadata": {},
   "outputs": [
    {
     "name": "stdout",
     "output_type": "stream",
     "text": [
      "hello 1165946946096\n"
     ]
    }
   ],
   "source": [
    "z = 'hello'\n",
    "print(z, id(z))"
   ]
  },
  {
   "cell_type": "code",
   "execution_count": null,
   "id": "1b9ae22a",
   "metadata": {},
   "outputs": [],
   "source": []
  },
  {
   "cell_type": "code",
   "execution_count": 44,
   "id": "104dc5c5",
   "metadata": {},
   "outputs": [],
   "source": [
    "a = \"z\""
   ]
  },
  {
   "cell_type": "code",
   "execution_count": 46,
   "id": "de1ff8a8",
   "metadata": {},
   "outputs": [
    {
     "name": "stdout",
     "output_type": "stream",
     "text": [
      "z 1165873556784\n"
     ]
    }
   ],
   "source": [
    "print(a, id(a))"
   ]
  },
  {
   "cell_type": "code",
   "execution_count": 47,
   "id": "d2711cde",
   "metadata": {},
   "outputs": [],
   "source": [
    "a = \"yah zzz\""
   ]
  },
  {
   "cell_type": "code",
   "execution_count": 51,
   "id": "f747038c",
   "metadata": {},
   "outputs": [
    {
     "name": "stdout",
     "output_type": "stream",
     "text": [
      "z 1165873556784\n",
      "z 1165873556784\n"
     ]
    }
   ],
   "source": [
    "print(a[4], id(a[4]))\n",
    "print(a[5], id(a[5]))"
   ]
  },
  {
   "cell_type": "code",
   "execution_count": 43,
   "id": "d87f0af3",
   "metadata": {},
   "outputs": [
    {
     "name": "stdout",
     "output_type": "stream",
     "text": [
      "₹\n"
     ]
    }
   ],
   "source": [
    "print(\"\\u20B9\")"
   ]
  },
  {
   "cell_type": "markdown",
   "id": "827e44b8",
   "metadata": {},
   "source": [
    "        python easy \n",
    "        \n",
    "            we don't have thinnk about memory space"
   ]
  },
  {
   "cell_type": "code",
   "execution_count": null,
   "id": "1038444d",
   "metadata": {},
   "outputs": [],
   "source": []
  },
  {
   "cell_type": "markdown",
   "id": "271d8152",
   "metadata": {},
   "source": [
    "    \\'\n",
    "    \\\"\n",
    "    \\n\n",
    "    \\t\n",
    "    \\r\n",
    "    \n",
    "    \\uXXXX"
   ]
  },
  {
   "cell_type": "code",
   "execution_count": 63,
   "id": "790c6732",
   "metadata": {},
   "outputs": [
    {
     "name": "stdout",
     "output_type": "stream",
     "text": [
      "sachin\n",
      "we use input like because return a string value \n"
     ]
    }
   ],
   "source": [
    "name = input()\n",
    "# name = \"sachin\"\n",
    "\n",
    "print('we use input like because return a string value ')"
   ]
  },
  {
   "cell_type": "code",
   "execution_count": 64,
   "id": "9a0f8309",
   "metadata": {},
   "outputs": [
    {
     "name": "stdout",
     "output_type": "stream",
     "text": [
      "sachin\n"
     ]
    }
   ],
   "source": [
    "print(name)"
   ]
  },
  {
   "cell_type": "code",
   "execution_count": 62,
   "id": "fb0db132",
   "metadata": {},
   "outputs": [
    {
     "name": "stdout",
     "output_type": "stream",
     "text": [
      "sachin\n",
      "we will never use input like \n"
     ]
    }
   ],
   "source": [
    "input()\n",
    "\n",
    "print('we will never use input like ')"
   ]
  },
  {
   "cell_type": "code",
   "execution_count": 60,
   "id": "f8ebe5ed",
   "metadata": {},
   "outputs": [
    {
     "name": "stdout",
     "output_type": "stream",
     "text": [
      "hi\n"
     ]
    }
   ],
   "source": [
    "x = print('hi')"
   ]
  },
  {
   "cell_type": "code",
   "execution_count": 61,
   "id": "9141d23c",
   "metadata": {},
   "outputs": [
    {
     "name": "stdout",
     "output_type": "stream",
     "text": [
      "None\n"
     ]
    }
   ],
   "source": [
    "print(x)"
   ]
  },
  {
   "cell_type": "code",
   "execution_count": 40,
   "id": "cbcf3c67",
   "metadata": {},
   "outputs": [
    {
     "name": "stdout",
     "output_type": "stream",
     "text": [
      "he didn't say, \"she is beautiful.\"\n"
     ]
    }
   ],
   "source": [
    "s = 'he didn\\'t say, \"she is beautiful.\"'\n",
    "print(s)"
   ]
  },
  {
   "cell_type": "code",
   "execution_count": 58,
   "id": "b7f7fea3",
   "metadata": {},
   "outputs": [],
   "source": [
    "s = \"he didn't say, \\\"she is beautiful.\\\"\""
   ]
  },
  {
   "cell_type": "code",
   "execution_count": 68,
   "id": "5a35f062",
   "metadata": {},
   "outputs": [
    {
     "name": "stdout",
     "output_type": "stream",
     "text": [
      "Enter a String: ha ha he he\n",
      "\" ha ha he he \" contains 11 characters\n"
     ]
    }
   ],
   "source": [
    "a = input(\"Enter a String: \")\n",
    "n = len(a)\n",
    "#n = 2\n",
    "print(\"\\\"\", a, \"\\\"\",  \"contains\", n, \"characters\")"
   ]
  },
  {
   "cell_type": "code",
   "execution_count": 69,
   "id": "3cc5a137",
   "metadata": {},
   "outputs": [],
   "source": [
    "s = \"Hello World!\""
   ]
  },
  {
   "cell_type": "code",
   "execution_count": 74,
   "id": "59717a47",
   "metadata": {},
   "outputs": [
    {
     "name": "stdout",
     "output_type": "stream",
     "text": [
      "l\n"
     ]
    }
   ],
   "source": [
    "print(s[-9])"
   ]
  },
  {
   "cell_type": "code",
   "execution_count": 73,
   "id": "8ae2d837",
   "metadata": {},
   "outputs": [
    {
     "name": "stdout",
     "output_type": "stream",
     "text": [
      "W\n"
     ]
    }
   ],
   "source": [
    "print(s[6])"
   ]
  },
  {
   "cell_type": "code",
   "execution_count": 72,
   "id": "a003443a",
   "metadata": {},
   "outputs": [
    {
     "name": "stdout",
     "output_type": "stream",
     "text": [
      "l\n"
     ]
    }
   ],
   "source": [
    "print(s[3])"
   ]
  },
  {
   "cell_type": "code",
   "execution_count": null,
   "id": "522cd39a",
   "metadata": {},
   "outputs": [],
   "source": []
  },
  {
   "cell_type": "code",
   "execution_count": 71,
   "id": "4362cb80",
   "metadata": {},
   "outputs": [
    {
     "name": "stdout",
     "output_type": "stream",
     "text": [
      "H\n",
      "H\n"
     ]
    }
   ],
   "source": [
    "print(s[0]) # ? \n",
    "\n",
    "c = s[0] # store\n",
    "print(c)"
   ]
  },
  {
   "cell_type": "code",
   "execution_count": null,
   "id": "077e369d",
   "metadata": {},
   "outputs": [],
   "source": []
  },
  {
   "cell_type": "code",
   "execution_count": 70,
   "id": "5944ada1",
   "metadata": {},
   "outputs": [
    {
     "name": "stdout",
     "output_type": "stream",
     "text": [
      "there are 12 characters in string\n"
     ]
    }
   ],
   "source": [
    "n = len(s)\n",
    "print(\"there are\", n, \"characters in string\")"
   ]
  },
  {
   "cell_type": "markdown",
   "id": "aa8c2127",
   "metadata": {},
   "source": [
    "#### Indexing \n",
    "\n",
    "    a way of extracting single character from a string\n",
    "    \n",
    "    str[index] -> character\n",
    "\n",
    "### Slicing\n",
    "\n",
    "    a way of extracting sub-string from a string\n",
    "    \n",
    "    str[start:end:step] -> sub-string\n",
    "    \n",
    "    str[:::] \n",
    "    \n",
    "    str[:end]\n",
    "    \n",
    "    str[start:]\n",
    "    \n",
    "    start[start:end]\n",
    "    \n",
    "    start[::step]\n",
    "    \n",
    "    strat[start::step]"
   ]
  },
  {
   "cell_type": "code",
   "execution_count": null,
   "id": "d8fc9527",
   "metadata": {},
   "outputs": [],
   "source": []
  },
  {
   "cell_type": "code",
   "execution_count": 75,
   "id": "cb83eece",
   "metadata": {},
   "outputs": [],
   "source": [
    "s = \"Hello World!\""
   ]
  },
  {
   "cell_type": "code",
   "execution_count": 95,
   "id": "4f9c661d",
   "metadata": {},
   "outputs": [
    {
     "name": "stdout",
     "output_type": "stream",
     "text": [
      "doo\n"
     ]
    }
   ],
   "source": [
    "print(s[10:1:-3])\n",
    "# ?\n"
   ]
  },
  {
   "cell_type": "code",
   "execution_count": 94,
   "id": "14a23730",
   "metadata": {},
   "outputs": [
    {
     "name": "stdout",
     "output_type": "stream",
     "text": [
      "!dlroW olleH\n"
     ]
    }
   ],
   "source": [
    "ns = s[::-1]\n",
    "print(ns)"
   ]
  },
  {
   "cell_type": "code",
   "execution_count": 93,
   "id": "07303129",
   "metadata": {},
   "outputs": [
    {
     "name": "stdout",
     "output_type": "stream",
     "text": [
      "HloWrd\n"
     ]
    }
   ],
   "source": [
    "ns = s[::2]\n",
    "print(ns)"
   ]
  },
  {
   "cell_type": "code",
   "execution_count": null,
   "id": "a684eef7",
   "metadata": {},
   "outputs": [],
   "source": []
  },
  {
   "cell_type": "code",
   "execution_count": 92,
   "id": "f5869003",
   "metadata": {},
   "outputs": [
    {
     "name": "stdout",
     "output_type": "stream",
     "text": [
      "el o\n"
     ]
    }
   ],
   "source": [
    "ns = s[1:9:2]  # 1 -> (1+2) -> 3 -> (3+2) -> 5\n",
    "# 5 -> (5+2) -> 7 -> (7+2)\n",
    "print(ns)"
   ]
  },
  {
   "cell_type": "code",
   "execution_count": 91,
   "id": "e6b07009",
   "metadata": {},
   "outputs": [
    {
     "name": "stdout",
     "output_type": "stream",
     "text": [
      "ello Wor\n"
     ]
    }
   ],
   "source": [
    "ns = s[1:9]\n",
    "print(ns)"
   ]
  },
  {
   "cell_type": "code",
   "execution_count": null,
   "id": "d14bf31c",
   "metadata": {},
   "outputs": [],
   "source": []
  },
  {
   "cell_type": "markdown",
   "id": "5f0fd431",
   "metadata": {},
   "source": [
    "    str[:n] => will return a substring containing first n-characters\n",
    "    str[-n:] => will return a substring containing last n-characters"
   ]
  },
  {
   "cell_type": "code",
   "execution_count": 90,
   "id": "1031c865",
   "metadata": {},
   "outputs": [
    {
     "name": "stdout",
     "output_type": "stream",
     "text": [
      "Hello World\n"
     ]
    }
   ],
   "source": [
    "ns = s[:11]\n",
    "print(ns)"
   ]
  },
  {
   "cell_type": "code",
   "execution_count": 89,
   "id": "b2f7e4ac",
   "metadata": {},
   "outputs": [
    {
     "name": "stdout",
     "output_type": "stream",
     "text": [
      "Hel\n"
     ]
    }
   ],
   "source": [
    "ns = s[:3]\n",
    "print(ns)"
   ]
  },
  {
   "cell_type": "code",
   "execution_count": 88,
   "id": "7dc8157a",
   "metadata": {},
   "outputs": [
    {
     "name": "stdout",
     "output_type": "stream",
     "text": [
      "Hello\n"
     ]
    }
   ],
   "source": [
    "ns = s[:5]\n",
    "print(ns)"
   ]
  },
  {
   "cell_type": "code",
   "execution_count": null,
   "id": "76047cb3",
   "metadata": {},
   "outputs": [],
   "source": []
  },
  {
   "cell_type": "markdown",
   "id": "f3116b54",
   "metadata": {},
   "source": [
    "    str[:-n] -> reading last n characters form string "
   ]
  },
  {
   "cell_type": "code",
   "execution_count": 86,
   "id": "92013315",
   "metadata": {},
   "outputs": [
    {
     "name": "stdout",
     "output_type": "stream",
     "text": [
      "World!\n"
     ]
    }
   ],
   "source": [
    "ns = s[-6:]\n",
    "print(ns)"
   ]
  },
  {
   "cell_type": "code",
   "execution_count": 85,
   "id": "a9ef7fe3",
   "metadata": {},
   "outputs": [
    {
     "name": "stdout",
     "output_type": "stream",
     "text": [
      "Hello World!\n"
     ]
    }
   ],
   "source": [
    "ns = s[-3:]\n",
    "print(s)"
   ]
  },
  {
   "cell_type": "code",
   "execution_count": 84,
   "id": "82790133",
   "metadata": {},
   "outputs": [
    {
     "name": "stdout",
     "output_type": "stream",
     "text": [
      "!\n"
     ]
    }
   ],
   "source": [
    "ns = s[-1:]\n",
    "print(ns)"
   ]
  },
  {
   "cell_type": "code",
   "execution_count": 83,
   "id": "73d18185",
   "metadata": {},
   "outputs": [
    {
     "name": "stdout",
     "output_type": "stream",
     "text": [
      "''\n"
     ]
    }
   ],
   "source": [
    "ns = s[-1:-7]\n",
    "print(repr(ns))"
   ]
  },
  {
   "cell_type": "code",
   "execution_count": null,
   "id": "2817acb1",
   "metadata": {},
   "outputs": [],
   "source": []
  },
  {
   "cell_type": "code",
   "execution_count": 81,
   "id": "9cf9f10d",
   "metadata": {},
   "outputs": [
    {
     "name": "stdout",
     "output_type": "stream",
     "text": [
      "World!\n"
     ]
    }
   ],
   "source": [
    "ns = s[-6:]\n",
    "print(ns)"
   ]
  },
  {
   "cell_type": "code",
   "execution_count": 80,
   "id": "4f3acf91",
   "metadata": {},
   "outputs": [
    {
     "name": "stdout",
     "output_type": "stream",
     "text": [
      "orld!\n"
     ]
    }
   ],
   "source": [
    "ns = s[7:]\n",
    "print(ns)"
   ]
  },
  {
   "cell_type": "code",
   "execution_count": 77,
   "id": "a4befb39",
   "metadata": {},
   "outputs": [
    {
     "name": "stdout",
     "output_type": "stream",
     "text": [
      "'Hello '\n"
     ]
    }
   ],
   "source": [
    "ns = s[0:6]\n",
    "print(repr(ns))"
   ]
  },
  {
   "cell_type": "code",
   "execution_count": null,
   "id": "c9cb1196",
   "metadata": {},
   "outputs": [],
   "source": []
  },
  {
   "cell_type": "code",
   "execution_count": 76,
   "id": "ade07aab",
   "metadata": {},
   "outputs": [
    {
     "name": "stdout",
     "output_type": "stream",
     "text": [
      "llo\n"
     ]
    }
   ],
   "source": [
    "ns = s[2:5]\n",
    "print(ns)"
   ]
  },
  {
   "cell_type": "code",
   "execution_count": 1,
   "id": "1ef54816",
   "metadata": {},
   "outputs": [],
   "source": [
    "s=\"hello world\""
   ]
  },
  {
   "cell_type": "code",
   "execution_count": 3,
   "id": "0905bffe",
   "metadata": {},
   "outputs": [],
   "source": [
    "# var[start:stop:direction/step]"
   ]
  },
  {
   "cell_type": "code",
   "execution_count": 4,
   "id": "e84dde22",
   "metadata": {},
   "outputs": [
    {
     "name": "stdout",
     "output_type": "stream",
     "text": [
      "hell\n"
     ]
    }
   ],
   "source": [
    "print(s[0:4])"
   ]
  },
  {
   "cell_type": "code",
   "execution_count": 5,
   "id": "8e840c74",
   "metadata": {},
   "outputs": [
    {
     "name": "stdout",
     "output_type": "stream",
     "text": [
      "hello\n"
     ]
    }
   ],
   "source": [
    "print(s[0:5])"
   ]
  },
  {
   "cell_type": "code",
   "execution_count": 7,
   "id": "f51c03e7",
   "metadata": {},
   "outputs": [
    {
     "name": "stdout",
     "output_type": "stream",
     "text": [
      "' wor'\n"
     ]
    }
   ],
   "source": [
    "print(repr(s[5:9]))"
   ]
  },
  {
   "cell_type": "code",
   "execution_count": 8,
   "id": "2ac1e854",
   "metadata": {},
   "outputs": [
    {
     "name": "stdout",
     "output_type": "stream",
     "text": [
      "world\n"
     ]
    }
   ],
   "source": [
    "print(s[6:])"
   ]
  },
  {
   "cell_type": "code",
   "execution_count": 9,
   "id": "a22aa58f",
   "metadata": {},
   "outputs": [
    {
     "name": "stdout",
     "output_type": "stream",
     "text": [
      "orld\n"
     ]
    }
   ],
   "source": [
    "print(s[7:44])"
   ]
  },
  {
   "cell_type": "code",
   "execution_count": 10,
   "id": "ef1e671f",
   "metadata": {},
   "outputs": [
    {
     "name": "stdout",
     "output_type": "stream",
     "text": [
      "ood\n"
     ]
    }
   ],
   "source": [
    "print(s[4::3])"
   ]
  },
  {
   "cell_type": "code",
   "execution_count": 11,
   "id": "75356473",
   "metadata": {},
   "outputs": [
    {
     "name": "stdout",
     "output_type": "stream",
     "text": [
      " r\n"
     ]
    }
   ],
   "source": [
    "print(s[-6::3])"
   ]
  },
  {
   "cell_type": "code",
   "execution_count": 12,
   "id": "989a2d47",
   "metadata": {},
   "outputs": [
    {
     "name": "stdout",
     "output_type": "stream",
     "text": [
      "hlo\n"
     ]
    }
   ],
   "source": [
    "print(s[:-5:2])"
   ]
  },
  {
   "cell_type": "code",
   "execution_count": 13,
   "id": "948b78a5",
   "metadata": {},
   "outputs": [
    {
     "name": "stdout",
     "output_type": "stream",
     "text": [
      "rwo\n"
     ]
    }
   ],
   "source": [
    "print(s[-3:-9:-2])"
   ]
  },
  {
   "cell_type": "code",
   "execution_count": 14,
   "id": "c27c044b",
   "metadata": {},
   "outputs": [
    {
     "name": "stdout",
     "output_type": "stream",
     "text": [
      "dlrow olleh\n"
     ]
    }
   ],
   "source": [
    "print(s[::-1])"
   ]
  },
  {
   "cell_type": "code",
   "execution_count": 15,
   "id": "e00d4854",
   "metadata": {},
   "outputs": [
    {
     "name": "stdout",
     "output_type": "stream",
     "text": [
      "e\n"
     ]
    }
   ],
   "source": [
    "print(s[-10::-2])"
   ]
  },
  {
   "cell_type": "code",
   "execution_count": 16,
   "id": "3d1aaa6d",
   "metadata": {},
   "outputs": [
    {
     "name": "stdout",
     "output_type": "stream",
     "text": [
      "lowr\n"
     ]
    }
   ],
   "source": [
    "print(s[2:-2:2])"
   ]
  },
  {
   "cell_type": "code",
   "execution_count": 19,
   "id": "eaf119af",
   "metadata": {},
   "outputs": [
    {
     "name": "stdout",
     "output_type": "stream",
     "text": [
      "'r l'\n"
     ]
    }
   ],
   "source": [
    "print(repr(s[-3::-3]))"
   ]
  },
  {
   "cell_type": "code",
   "execution_count": 20,
   "id": "ce796d19",
   "metadata": {},
   "outputs": [
    {
     "name": "stdout",
     "output_type": "stream",
     "text": [
      "\n"
     ]
    }
   ],
   "source": [
    "print(s[-3:5:3])"
   ]
  },
  {
   "cell_type": "code",
   "execution_count": 22,
   "id": "f7252fe1",
   "metadata": {},
   "outputs": [
    {
     "name": "stdout",
     "output_type": "stream",
     "text": [
      "H\n",
      "e\n",
      "l\n",
      "l\n"
     ]
    }
   ],
   "source": [
    "# properties of strings\n",
    "# 1. sequential\n",
    "s=\"Hello World\"\n",
    "print(s[0]);print(s[1]);print(s[2]);print(s[3])"
   ]
  },
  {
   "cell_type": "code",
   "execution_count": 23,
   "id": "f0f93721",
   "metadata": {},
   "outputs": [
    {
     "name": "stdout",
     "output_type": "stream",
     "text": [
      "Shrey is Awesome\n"
     ]
    }
   ],
   "source": [
    "# 2. Ordered\n",
    "y=\"Shrey is Awesome\"\n",
    "print(y)"
   ]
  },
  {
   "cell_type": "code",
   "execution_count": 24,
   "id": "e749fceb",
   "metadata": {},
   "outputs": [
    {
     "name": "stdout",
     "output_type": "stream",
     "text": [
      "{'Wed', 'Tue', 'Mon'}\n"
     ]
    }
   ],
   "source": [
    "# set \n",
    "t={'Mon','Tue','Wed'}\n",
    "print(t)"
   ]
  },
  {
   "cell_type": "code",
   "execution_count": 25,
   "id": "1e9f8999",
   "metadata": {},
   "outputs": [],
   "source": [
    "# 3. Immutable\n",
    "h=\"Hey do you know that python is Awesome?\""
   ]
  },
  {
   "cell_type": "code",
   "execution_count": 26,
   "id": "454fdc51",
   "metadata": {},
   "outputs": [
    {
     "name": "stdout",
     "output_type": "stream",
     "text": [
      "I know\n"
     ]
    }
   ],
   "source": [
    "h=\"I know\"\n",
    "print(h)"
   ]
  },
  {
   "cell_type": "code",
   "execution_count": null,
   "id": "bd4d66b3",
   "metadata": {},
   "outputs": [],
   "source": []
  }
 ],
 "metadata": {
  "kernelspec": {
   "display_name": "Python 3 (ipykernel)",
   "language": "python",
   "name": "python3"
  },
  "language_info": {
   "codemirror_mode": {
    "name": "ipython",
    "version": 3
   },
   "file_extension": ".py",
   "mimetype": "text/x-python",
   "name": "python",
   "nbconvert_exporter": "python",
   "pygments_lexer": "ipython3",
   "version": "3.10.5"
  }
 },
 "nbformat": 4,
 "nbformat_minor": 5
}
