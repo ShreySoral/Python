{
 "cells": [
  {
   "cell_type": "markdown",
   "id": "e47859d9",
   "metadata": {},
   "source": [
    "## OOPS"
   ]
  },
  {
   "cell_type": "markdown",
   "id": "15b03389",
   "metadata": {},
   "source": [
    "    object is a real time entity\n",
    "    it is an instance of a class\n",
    "    \n",
    "    \n",
    "    dictionary can also be called an object which represents an entity"
   ]
  },
  {
   "cell_type": "code",
   "execution_count": 1,
   "id": "cfbff749",
   "metadata": {},
   "outputs": [],
   "source": [
    "details={\"name\":\"Shrey\",\n",
    "        \"maths\":80,\n",
    "        \"chem\":70,\n",
    "        \"phy\":88\n",
    "        }"
   ]
  },
  {
   "cell_type": "code",
   "execution_count": 2,
   "id": "898e5345",
   "metadata": {},
   "outputs": [
    {
     "name": "stdout",
     "output_type": "stream",
     "text": [
      "{'name': 'Shrey', 'maths': 80, 'chem': 70, 'phy': 88}\n"
     ]
    }
   ],
   "source": [
    "print(details)"
   ]
  },
  {
   "cell_type": "markdown",
   "id": "d68a27e4",
   "metadata": {},
   "source": [
    "    object stores the info"
   ]
  },
  {
   "cell_type": "markdown",
   "id": "7de1882b",
   "metadata": {},
   "source": [
    "    1. getter methods\n",
    "    2. setter methods"
   ]
  },
  {
   "cell_type": "code",
   "execution_count": 4,
   "id": "3cd6ff87",
   "metadata": {},
   "outputs": [],
   "source": [
    "def get_percent(data):\n",
    "#     data={name:shrey,maths:80,phy:90,chem:90}\n",
    "    m=data[\"maths\"]\n",
    "    p=data[\"phy\"]\n",
    "    c=data[\"chem\"]\n",
    "    per=(m+p+c)/3\n",
    "    return round(per,2)"
   ]
  },
  {
   "cell_type": "code",
   "execution_count": 5,
   "id": "b40f7c24",
   "metadata": {},
   "outputs": [
    {
     "data": {
      "text/plain": [
       "79.33"
      ]
     },
     "execution_count": 5,
     "metadata": {},
     "output_type": "execute_result"
    }
   ],
   "source": [
    "get_percent({\"name\":\"Shrey\",\n",
    "        \"maths\":80,\n",
    "        \"chem\":70,\n",
    "        \"phy\":88\n",
    "        })"
   ]
  },
  {
   "cell_type": "markdown",
   "id": "7f9d48e3",
   "metadata": {},
   "source": [
    "    space should be allocated for new objects"
   ]
  },
  {
   "cell_type": "code",
   "execution_count": 8,
   "id": "0d171e5e",
   "metadata": {},
   "outputs": [],
   "source": [
    "class A:\n",
    "    def __new__(cls):\n",
    "        print(f\"creating class {cls}\")\n",
    "        self=object.__new__(cls)\n",
    "        print(f\"instance {self} has been created\")\n",
    "        return self"
   ]
  },
  {
   "cell_type": "code",
   "execution_count": 9,
   "id": "3d22233c",
   "metadata": {},
   "outputs": [
    {
     "name": "stdout",
     "output_type": "stream",
     "text": [
      "creating class <class '__main__.A'>\n",
      "instance <__main__.A object at 0x00000254A4387340> has been created\n"
     ]
    }
   ],
   "source": [
    "a=A()"
   ]
  },
  {
   "cell_type": "code",
   "execution_count": 10,
   "id": "48a3d1d1",
   "metadata": {},
   "outputs": [
    {
     "name": "stdout",
     "output_type": "stream",
     "text": [
      "<__main__.A object at 0x00000254A4387340>\n"
     ]
    }
   ],
   "source": [
    "print(a)"
   ]
  },
  {
   "cell_type": "code",
   "execution_count": 11,
   "id": "e2cda4a0",
   "metadata": {},
   "outputs": [
    {
     "name": "stdout",
     "output_type": "stream",
     "text": [
      "<class '__main__.A'>\n"
     ]
    }
   ],
   "source": [
    "print(type(a))"
   ]
  },
  {
   "cell_type": "code",
   "execution_count": 12,
   "id": "131fad3a",
   "metadata": {},
   "outputs": [
    {
     "name": "stdout",
     "output_type": "stream",
     "text": [
      "<__main__.A object at 0x00000254A43868F0>\n"
     ]
    }
   ],
   "source": [
    "class A(object):\n",
    "    pass\n",
    "x=A()\n",
    "print(x)"
   ]
  },
  {
   "cell_type": "code",
   "execution_count": 13,
   "id": "a2cb1fbc",
   "metadata": {},
   "outputs": [],
   "source": [
    "class A:\n",
    "    def __new__(cls):\n",
    "        pass"
   ]
  },
  {
   "cell_type": "code",
   "execution_count": 14,
   "id": "03558370",
   "metadata": {},
   "outputs": [],
   "source": [
    "a=A()"
   ]
  },
  {
   "cell_type": "code",
   "execution_count": 15,
   "id": "d180f5d4",
   "metadata": {},
   "outputs": [
    {
     "name": "stdout",
     "output_type": "stream",
     "text": [
      "None\n"
     ]
    }
   ],
   "source": [
    "print(a)"
   ]
  },
  {
   "cell_type": "code",
   "execution_count": 16,
   "id": "a2ae75af",
   "metadata": {},
   "outputs": [],
   "source": [
    "class Human:\n",
    "    pass"
   ]
  },
  {
   "cell_type": "code",
   "execution_count": 17,
   "id": "9f5c73b2",
   "metadata": {},
   "outputs": [],
   "source": [
    "x=A()"
   ]
  },
  {
   "cell_type": "code",
   "execution_count": 18,
   "id": "f5824f1e",
   "metadata": {},
   "outputs": [
    {
     "name": "stdout",
     "output_type": "stream",
     "text": [
      "<class 'NoneType'>\n"
     ]
    }
   ],
   "source": [
    "print(type(x))"
   ]
  },
  {
   "cell_type": "code",
   "execution_count": 19,
   "id": "05e9c37b",
   "metadata": {},
   "outputs": [
    {
     "name": "stdout",
     "output_type": "stream",
     "text": [
      "None\n"
     ]
    }
   ],
   "source": [
    "print(repr(x))"
   ]
  },
  {
   "cell_type": "code",
   "execution_count": 20,
   "id": "81bbcf2b",
   "metadata": {},
   "outputs": [
    {
     "name": "stdout",
     "output_type": "stream",
     "text": [
      "<__main__.Human object at 0x00000254A4387BE0>\n"
     ]
    }
   ],
   "source": [
    "h1=Human()\n",
    "print(h1)"
   ]
  },
  {
   "cell_type": "markdown",
   "id": "96a2215f",
   "metadata": {},
   "source": [
    "## encapsulation\n",
    "    binding data members and member functions together into a single unit"
   ]
  },
  {
   "cell_type": "code",
   "execution_count": 21,
   "id": "e15c3eab",
   "metadata": {},
   "outputs": [
    {
     "ename": "TypeError",
     "evalue": "Human() takes no arguments",
     "output_type": "error",
     "traceback": [
      "\u001b[1;31m---------------------------------------------------------------------------\u001b[0m",
      "\u001b[1;31mTypeError\u001b[0m                                 Traceback (most recent call last)",
      "Input \u001b[1;32mIn [21]\u001b[0m, in \u001b[0;36m<cell line: 3>\u001b[1;34m()\u001b[0m\n\u001b[0;32m      1\u001b[0m \u001b[38;5;28;01mclass\u001b[39;00m \u001b[38;5;21;01mHuman\u001b[39;00m:\n\u001b[0;32m      2\u001b[0m     \u001b[38;5;28;01mpass\u001b[39;00m\n\u001b[1;32m----> 3\u001b[0m h1\u001b[38;5;241m=\u001b[39m\u001b[43mHuman\u001b[49m\u001b[43m(\u001b[49m\u001b[38;5;124;43m\"\u001b[39;49m\u001b[38;5;124;43mshrey\u001b[39;49m\u001b[38;5;124;43m\"\u001b[39;49m\u001b[43m)\u001b[49m\n\u001b[0;32m      4\u001b[0m \u001b[38;5;28mprint\u001b[39m(h1)\n",
      "\u001b[1;31mTypeError\u001b[0m: Human() takes no arguments"
     ]
    }
   ],
   "source": [
    "class Human:\n",
    "    pass\n",
    "h1=Human(\"shrey\")\n",
    "print(h1)"
   ]
  },
  {
   "cell_type": "code",
   "execution_count": 22,
   "id": "ed7033c0",
   "metadata": {},
   "outputs": [
    {
     "name": "stdout",
     "output_type": "stream",
     "text": [
      "<__main__.human object at 0x00000254A568FD30>\n"
     ]
    }
   ],
   "source": [
    "class human:\n",
    "    def __init__(self,name):\n",
    "        pass\n",
    "h1=human(\"shrey\")\n",
    "print(h1)"
   ]
  },
  {
   "cell_type": "code",
   "execution_count": 23,
   "id": "d26a2baa",
   "metadata": {},
   "outputs": [
    {
     "name": "stdout",
     "output_type": "stream",
     "text": [
      "shrey\n",
      "<__main__.human object at 0x00000254A4566EC0>\n"
     ]
    }
   ],
   "source": [
    "class human:\n",
    "    def __init__(self,name):\n",
    "        print(name)\n",
    "h1=human(\"shrey\")\n",
    "print(h1)"
   ]
  },
  {
   "cell_type": "code",
   "execution_count": 24,
   "id": "1a6d7448",
   "metadata": {},
   "outputs": [],
   "source": [
    "class human:\n",
    "    def __init__(self,name):\n",
    "        self.name=name\n",
    "h1=human(\"shrey\")"
   ]
  },
  {
   "cell_type": "code",
   "execution_count": 25,
   "id": "e5ef62dc",
   "metadata": {},
   "outputs": [
    {
     "data": {
      "text/plain": [
       "'shrey'"
      ]
     },
     "execution_count": 25,
     "metadata": {},
     "output_type": "execute_result"
    }
   ],
   "source": [
    "h1.name"
   ]
  },
  {
   "cell_type": "code",
   "execution_count": 26,
   "id": "69164a01",
   "metadata": {},
   "outputs": [
    {
     "ename": "TypeError",
     "evalue": "human.__init__() takes 2 positional arguments but 3 were given",
     "output_type": "error",
     "traceback": [
      "\u001b[1;31m---------------------------------------------------------------------------\u001b[0m",
      "\u001b[1;31mTypeError\u001b[0m                                 Traceback (most recent call last)",
      "Input \u001b[1;32mIn [26]\u001b[0m, in \u001b[0;36m<cell line: 9>\u001b[1;34m()\u001b[0m\n\u001b[0;32m      7\u001b[0m     \u001b[38;5;28;01mdef\u001b[39;00m \u001b[38;5;21mget_city\u001b[39m(\u001b[38;5;28mself\u001b[39m):\n\u001b[0;32m      8\u001b[0m         \u001b[38;5;28mprint\u001b[39m(\u001b[38;5;28mself\u001b[39m\u001b[38;5;241m.\u001b[39mcity)\n\u001b[1;32m----> 9\u001b[0m h1\u001b[38;5;241m=\u001b[39m\u001b[43mhuman\u001b[49m\u001b[43m(\u001b[49m\u001b[38;5;124;43m\"\u001b[39;49m\u001b[38;5;124;43mshrey\u001b[39;49m\u001b[38;5;124;43m\"\u001b[39;49m\u001b[43m,\u001b[49m\u001b[38;5;124;43m\"\u001b[39;49m\u001b[38;5;124;43mjaipur\u001b[39;49m\u001b[38;5;124;43m\"\u001b[39;49m\u001b[43m)\u001b[49m\n",
      "\u001b[1;31mTypeError\u001b[0m: human.__init__() takes 2 positional arguments but 3 were given"
     ]
    }
   ],
   "source": [
    "class human:\n",
    "    def __init__(self,name):\n",
    "        self.name=name\n",
    "        self.city=city\n",
    "    def get_name(self):\n",
    "        print(self.name)\n",
    "    def get_city(self):\n",
    "        print(self.city)\n",
    "h1=human(\"shrey\",\"jaipur\")"
   ]
  },
  {
   "cell_type": "code",
   "execution_count": 27,
   "id": "44ff4931",
   "metadata": {},
   "outputs": [
    {
     "ename": "AttributeError",
     "evalue": "'human' object has no attribute 'get_name'",
     "output_type": "error",
     "traceback": [
      "\u001b[1;31m---------------------------------------------------------------------------\u001b[0m",
      "\u001b[1;31mAttributeError\u001b[0m                            Traceback (most recent call last)",
      "Input \u001b[1;32mIn [27]\u001b[0m, in \u001b[0;36m<cell line: 1>\u001b[1;34m()\u001b[0m\n\u001b[1;32m----> 1\u001b[0m \u001b[43mh1\u001b[49m\u001b[38;5;241;43m.\u001b[39;49m\u001b[43mget_name\u001b[49m()\n",
      "\u001b[1;31mAttributeError\u001b[0m: 'human' object has no attribute 'get_name'"
     ]
    }
   ],
   "source": [
    "h1.get_name()"
   ]
  },
  {
   "cell_type": "code",
   "execution_count": null,
   "id": "079f7970",
   "metadata": {},
   "outputs": [],
   "source": []
  }
 ],
 "metadata": {
  "kernelspec": {
   "display_name": "Python 3 (ipykernel)",
   "language": "python",
   "name": "python3"
  },
  "language_info": {
   "codemirror_mode": {
    "name": "ipython",
    "version": 3
   },
   "file_extension": ".py",
   "mimetype": "text/x-python",
   "name": "python",
   "nbconvert_exporter": "python",
   "pygments_lexer": "ipython3",
   "version": "3.10.5"
  }
 },
 "nbformat": 4,
 "nbformat_minor": 5
}
