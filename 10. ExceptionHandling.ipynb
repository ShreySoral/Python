{
 "cells": [
  {
   "cell_type": "markdown",
   "id": "f814c53c",
   "metadata": {},
   "source": [
    "    `Error and Exceptions`\n",
    "     `Syntax Error`\n",
    "         error due to lack of knowledge of programming\n",
    "         \n",
    "     `Exceptions`"
   ]
  },
  {
   "cell_type": "markdown",
   "id": "84f87a8e",
   "metadata": {},
   "source": [
    "## Exception Handling"
   ]
  },
  {
   "cell_type": "code",
   "execution_count": 1,
   "id": "86c9724b",
   "metadata": {},
   "outputs": [
    {
     "name": "stdout",
     "output_type": "stream",
     "text": [
      "hello\n"
     ]
    }
   ],
   "source": [
    "print(\"hello\")"
   ]
  },
  {
   "cell_type": "code",
   "execution_count": 2,
   "id": "dc468fbb",
   "metadata": {},
   "outputs": [
    {
     "ename": "SyntaxError",
     "evalue": "Missing parentheses in call to 'print'. Did you mean print(...)? (357452326.py, line 1)",
     "output_type": "error",
     "traceback": [
      "\u001b[1;36m  Input \u001b[1;32mIn [2]\u001b[1;36m\u001b[0m\n\u001b[1;33m    print \"hi\"\u001b[0m\n\u001b[1;37m    ^\u001b[0m\n\u001b[1;31mSyntaxError\u001b[0m\u001b[1;31m:\u001b[0m Missing parentheses in call to 'print'. Did you mean print(...)?\n"
     ]
    }
   ],
   "source": [
    "print \"hi\""
   ]
  },
  {
   "cell_type": "code",
   "execution_count": 3,
   "id": "c6a9cf9a",
   "metadata": {},
   "outputs": [
    {
     "name": "stdout",
     "output_type": "stream",
     "text": [
      "X: 3\n",
      "Y: 3\n",
      "Result:  1.0\n"
     ]
    }
   ],
   "source": [
    "x=int(input(\"X: \"))\n",
    "y=int(input(\"Y: \"))\n",
    "r=x/y\n",
    "print(\"Result: \", r)"
   ]
  },
  {
   "cell_type": "code",
   "execution_count": 4,
   "id": "7b1bf316",
   "metadata": {},
   "outputs": [
    {
     "name": "stdout",
     "output_type": "stream",
     "text": [
      "X: 10\n",
      "Y: 0\n"
     ]
    },
    {
     "ename": "ZeroDivisionError",
     "evalue": "division by zero",
     "output_type": "error",
     "traceback": [
      "\u001b[1;31m---------------------------------------------------------------------------\u001b[0m",
      "\u001b[1;31mZeroDivisionError\u001b[0m                         Traceback (most recent call last)",
      "Input \u001b[1;32mIn [4]\u001b[0m, in \u001b[0;36m<cell line: 3>\u001b[1;34m()\u001b[0m\n\u001b[0;32m      1\u001b[0m x\u001b[38;5;241m=\u001b[39m\u001b[38;5;28mint\u001b[39m(\u001b[38;5;28minput\u001b[39m(\u001b[38;5;124m\"\u001b[39m\u001b[38;5;124mX: \u001b[39m\u001b[38;5;124m\"\u001b[39m))\n\u001b[0;32m      2\u001b[0m y\u001b[38;5;241m=\u001b[39m\u001b[38;5;28mint\u001b[39m(\u001b[38;5;28minput\u001b[39m(\u001b[38;5;124m\"\u001b[39m\u001b[38;5;124mY: \u001b[39m\u001b[38;5;124m\"\u001b[39m))\n\u001b[1;32m----> 3\u001b[0m r\u001b[38;5;241m=\u001b[39m\u001b[43mx\u001b[49m\u001b[38;5;241;43m/\u001b[39;49m\u001b[43my\u001b[49m\n\u001b[0;32m      4\u001b[0m \u001b[38;5;28mprint\u001b[39m(\u001b[38;5;124m\"\u001b[39m\u001b[38;5;124mResult: \u001b[39m\u001b[38;5;124m\"\u001b[39m, r)\n",
      "\u001b[1;31mZeroDivisionError\u001b[0m: division by zero"
     ]
    }
   ],
   "source": [
    "x=int(input(\"X: \"))\n",
    "y=int(input(\"Y: \"))\n",
    "r=x/y\n",
    "print(\"Result: \", r)"
   ]
  },
  {
   "cell_type": "code",
   "execution_count": 5,
   "id": "f87905e5",
   "metadata": {},
   "outputs": [
    {
     "name": "stdout",
     "output_type": "stream",
     "text": [
      "Writing one.c\n"
     ]
    }
   ],
   "source": [
    "%%writefile one.c\n",
    "\n",
    "#include<iostream>\n",
    "using namespace std;\n",
    "int main(){\n",
    "    float a,b;\n",
    "    a=10;\n",
    "    b=20;\n",
    "    r=a/b;\n",
    "    cout<<\"Result \" <<r\n",
    "    return 0;\n",
    "}"
   ]
  },
  {
   "cell_type": "code",
   "execution_count": 9,
   "id": "9f665a63",
   "metadata": {},
   "outputs": [
    {
     "name": "stdout",
     "output_type": "stream",
     "text": [
      "Enter file name: one.c\n",
      "\n",
      "#include<iostream>\n",
      "using namespace std;\n",
      "int main(){\n",
      "    float a,b;\n",
      "    a=10;\n",
      "    b=20;\n",
      "    r=a/b;\n",
      "    cout<<\"Result \" <<r\n",
      "    return 0;\n",
      "}\n",
      "\n"
     ]
    }
   ],
   "source": [
    "file=input(\"Enter file name: \")\n",
    "fp=open(file,\"r\")\n",
    "content=fp.read()\n",
    "print(content)\n",
    "fp.close()"
   ]
  },
  {
   "cell_type": "code",
   "execution_count": 7,
   "id": "ec892866",
   "metadata": {},
   "outputs": [
    {
     "ename": "FileNotFoundError",
     "evalue": "[Errno 2] No such file or directory: 'abcd.txt'",
     "output_type": "error",
     "traceback": [
      "\u001b[1;31m---------------------------------------------------------------------------\u001b[0m",
      "\u001b[1;31mFileNotFoundError\u001b[0m                         Traceback (most recent call last)",
      "Input \u001b[1;32mIn [7]\u001b[0m, in \u001b[0;36m<cell line: 1>\u001b[1;34m()\u001b[0m\n\u001b[1;32m----> 1\u001b[0m fp\u001b[38;5;241m=\u001b[39m\u001b[38;5;28;43mopen\u001b[39;49m\u001b[43m(\u001b[49m\u001b[38;5;124;43m\"\u001b[39;49m\u001b[38;5;124;43mabcd.txt\u001b[39;49m\u001b[38;5;124;43m\"\u001b[39;49m\u001b[43m,\u001b[49m\u001b[38;5;124;43m\"\u001b[39;49m\u001b[38;5;124;43mr\u001b[39;49m\u001b[38;5;124;43m\"\u001b[39;49m\u001b[43m)\u001b[49m\n",
      "\u001b[1;31mFileNotFoundError\u001b[0m: [Errno 2] No such file or directory: 'abcd.txt'"
     ]
    }
   ],
   "source": [
    "fp=open(\"abcd.txt\",\"r\")"
   ]
  },
  {
   "cell_type": "code",
   "execution_count": 10,
   "id": "f378427b",
   "metadata": {},
   "outputs": [
    {
     "ename": "NameError",
     "evalue": "name 'fifa' is not defined",
     "output_type": "error",
     "traceback": [
      "\u001b[1;31m---------------------------------------------------------------------------\u001b[0m",
      "\u001b[1;31mNameError\u001b[0m                                 Traceback (most recent call last)",
      "Input \u001b[1;32mIn [10]\u001b[0m, in \u001b[0;36m<cell line: 1>\u001b[1;34m()\u001b[0m\n\u001b[1;32m----> 1\u001b[0m \u001b[38;5;28mprint\u001b[39m(\u001b[43mfifa\u001b[49m)\n",
      "\u001b[1;31mNameError\u001b[0m: name 'fifa' is not defined"
     ]
    }
   ],
   "source": [
    "print(fifa)"
   ]
  },
  {
   "cell_type": "code",
   "execution_count": 11,
   "id": "a00b657d",
   "metadata": {},
   "outputs": [
    {
     "ename": "TypeError",
     "evalue": "unsupported operand type(s) for +: 'int' and 'str'",
     "output_type": "error",
     "traceback": [
      "\u001b[1;31m---------------------------------------------------------------------------\u001b[0m",
      "\u001b[1;31mTypeError\u001b[0m                                 Traceback (most recent call last)",
      "Input \u001b[1;32mIn [11]\u001b[0m, in \u001b[0;36m<cell line: 1>\u001b[1;34m()\u001b[0m\n\u001b[1;32m----> 1\u001b[0m \u001b[38;5;241;43m5\u001b[39;49m\u001b[38;5;241;43m+\u001b[39;49m\u001b[38;5;124;43m\"\u001b[39;49m\u001b[38;5;124;43m6\u001b[39;49m\u001b[38;5;124;43m\"\u001b[39;49m\n",
      "\u001b[1;31mTypeError\u001b[0m: unsupported operand type(s) for +: 'int' and 'str'"
     ]
    }
   ],
   "source": [
    "5+\"6\""
   ]
  },
  {
   "cell_type": "code",
   "execution_count": 12,
   "id": "0a58faf4",
   "metadata": {},
   "outputs": [
    {
     "name": "stdout",
     "output_type": "stream",
     "text": [
      "2\n"
     ]
    }
   ],
   "source": [
    "data=[1,2,3]\n",
    "item=data[1]\n",
    "print(item)"
   ]
  },
  {
   "cell_type": "code",
   "execution_count": 13,
   "id": "7fef9eba",
   "metadata": {},
   "outputs": [
    {
     "ename": "IndexError",
     "evalue": "list index out of range",
     "output_type": "error",
     "traceback": [
      "\u001b[1;31m---------------------------------------------------------------------------\u001b[0m",
      "\u001b[1;31mIndexError\u001b[0m                                Traceback (most recent call last)",
      "Input \u001b[1;32mIn [13]\u001b[0m, in \u001b[0;36m<cell line: 2>\u001b[1;34m()\u001b[0m\n\u001b[0;32m      1\u001b[0m data\u001b[38;5;241m=\u001b[39m[\u001b[38;5;241m1\u001b[39m,\u001b[38;5;241m2\u001b[39m,\u001b[38;5;241m3\u001b[39m]\n\u001b[1;32m----> 2\u001b[0m item\u001b[38;5;241m=\u001b[39m\u001b[43mdata\u001b[49m\u001b[43m[\u001b[49m\u001b[38;5;241;43m100\u001b[39;49m\u001b[43m]\u001b[49m\n\u001b[0;32m      3\u001b[0m \u001b[38;5;28mprint\u001b[39m(item)\n",
      "\u001b[1;31mIndexError\u001b[0m: list index out of range"
     ]
    }
   ],
   "source": [
    "data=[1,2,3]\n",
    "item=data[100]\n",
    "print(item)"
   ]
  },
  {
   "cell_type": "code",
   "execution_count": 14,
   "id": "6f052842",
   "metadata": {},
   "outputs": [
    {
     "ename": "SyntaxError",
     "evalue": "invalid syntax (2216317017.py, line 1)",
     "output_type": "error",
     "traceback": [
      "\u001b[1;36m  Input \u001b[1;32mIn [14]\u001b[1;36m\u001b[0m\n\u001b[1;33m    d={'name':'sachin':'age':26}\u001b[0m\n\u001b[1;37m                      ^\u001b[0m\n\u001b[1;31mSyntaxError\u001b[0m\u001b[1;31m:\u001b[0m invalid syntax\n"
     ]
    }
   ],
   "source": [
    "d={'name':'sachin':'age':26}"
   ]
  },
  {
   "cell_type": "code",
   "execution_count": 15,
   "id": "defb28ad",
   "metadata": {},
   "outputs": [
    {
     "ename": "NameError",
     "evalue": "name 'd' is not defined",
     "output_type": "error",
     "traceback": [
      "\u001b[1;31m---------------------------------------------------------------------------\u001b[0m",
      "\u001b[1;31mNameError\u001b[0m                                 Traceback (most recent call last)",
      "Input \u001b[1;32mIn [15]\u001b[0m, in \u001b[0;36m<cell line: 1>\u001b[1;34m()\u001b[0m\n\u001b[1;32m----> 1\u001b[0m n\u001b[38;5;241m=\u001b[39m\u001b[43md\u001b[49m[\u001b[38;5;124m'\u001b[39m\u001b[38;5;124mname\u001b[39m\u001b[38;5;124m'\u001b[39m]\n\u001b[0;32m      2\u001b[0m \u001b[38;5;28mprint\u001b[39m(n)\n",
      "\u001b[1;31mNameError\u001b[0m: name 'd' is not defined"
     ]
    }
   ],
   "source": [
    "n=d['name']\n",
    "print(n)"
   ]
  },
  {
   "cell_type": "code",
   "execution_count": 16,
   "id": "2190cfd2",
   "metadata": {},
   "outputs": [
    {
     "name": "stdout",
     "output_type": "stream",
     "text": [
      "Writing one.py\n"
     ]
    }
   ],
   "source": [
    "%%writefile one.py\n",
    "x=int(input())"
   ]
  },
  {
   "cell_type": "code",
   "execution_count": 17,
   "id": "ad15be25",
   "metadata": {},
   "outputs": [
    {
     "name": "stdout",
     "output_type": "stream",
     "text": [
      "y: f\n"
     ]
    },
    {
     "ename": "ValueError",
     "evalue": "invalid literal for int() with base 10: 'f'",
     "output_type": "error",
     "traceback": [
      "\u001b[1;31m---------------------------------------------------------------------------\u001b[0m",
      "\u001b[1;31mValueError\u001b[0m                                Traceback (most recent call last)",
      "Input \u001b[1;32mIn [17]\u001b[0m, in \u001b[0;36m<cell line: 10>\u001b[1;34m()\u001b[0m\n\u001b[0;32m      8\u001b[0m     result\u001b[38;5;241m=\u001b[39mdivide()\n\u001b[0;32m      9\u001b[0m     \u001b[38;5;28mprint\u001b[39m(\u001b[38;5;124m\"\u001b[39m\u001b[38;5;124mResult: \u001b[39m\u001b[38;5;124m\"\u001b[39m,result)\n\u001b[1;32m---> 10\u001b[0m \u001b[43mmain\u001b[49m\u001b[43m(\u001b[49m\u001b[43m)\u001b[49m\n",
      "Input \u001b[1;32mIn [17]\u001b[0m, in \u001b[0;36mmain\u001b[1;34m()\u001b[0m\n\u001b[0;32m      6\u001b[0m \u001b[38;5;28;01mdef\u001b[39;00m \u001b[38;5;21mmain\u001b[39m():\n\u001b[1;32m----> 7\u001b[0m     x,y\u001b[38;5;241m=\u001b[39m\u001b[43mget_input\u001b[49m\u001b[43m(\u001b[49m\u001b[43m)\u001b[49m\n\u001b[0;32m      8\u001b[0m     result\u001b[38;5;241m=\u001b[39mdivide()\n\u001b[0;32m      9\u001b[0m     \u001b[38;5;28mprint\u001b[39m(\u001b[38;5;124m\"\u001b[39m\u001b[38;5;124mResult: \u001b[39m\u001b[38;5;124m\"\u001b[39m,result)\n",
      "Input \u001b[1;32mIn [17]\u001b[0m, in \u001b[0;36mget_input\u001b[1;34m()\u001b[0m\n\u001b[0;32m      3\u001b[0m \u001b[38;5;28;01mdef\u001b[39;00m \u001b[38;5;21mget_input\u001b[39m():\n\u001b[1;32m----> 4\u001b[0m     y\u001b[38;5;241m=\u001b[39m\u001b[38;5;28;43mint\u001b[39;49m\u001b[43m(\u001b[49m\u001b[38;5;28;43minput\u001b[39;49m\u001b[43m(\u001b[49m\u001b[38;5;124;43m\"\u001b[39;49m\u001b[38;5;124;43my: \u001b[39;49m\u001b[38;5;124;43m\"\u001b[39;49m\u001b[43m)\u001b[49m\u001b[43m)\u001b[49m\n\u001b[0;32m      5\u001b[0m     \u001b[38;5;28;01mreturn\u001b[39;00m y\n",
      "\u001b[1;31mValueError\u001b[0m: invalid literal for int() with base 10: 'f'"
     ]
    }
   ],
   "source": [
    "def divide(x,y):\n",
    "    return x/y\n",
    "def get_input():\n",
    "    y=int(input(\"y: \"))\n",
    "    return y\n",
    "def main():\n",
    "    x,y=get_input()\n",
    "    result=divide()\n",
    "    print(\"Result: \",result)\n",
    "main()"
   ]
  },
  {
   "cell_type": "code",
   "execution_count": 18,
   "id": "6cab8afb",
   "metadata": {},
   "outputs": [
    {
     "name": "stderr",
     "output_type": "stream",
     "text": [
      "'[Built-in' is not recognized as an internal or external command,\n",
      "operable program or batch file.\n"
     ]
    }
   ],
   "source": [
    "![Built-in Exceptions](https://docs.python.org/3/library/exceptions.html)"
   ]
  },
  {
   "cell_type": "code",
   "execution_count": 19,
   "id": "82271d60",
   "metadata": {},
   "outputs": [
    {
     "ename": "ModuleNotFoundError",
     "evalue": "No module named 'shrey'",
     "output_type": "error",
     "traceback": [
      "\u001b[1;31m---------------------------------------------------------------------------\u001b[0m",
      "\u001b[1;31mModuleNotFoundError\u001b[0m                       Traceback (most recent call last)",
      "Input \u001b[1;32mIn [19]\u001b[0m, in \u001b[0;36m<cell line: 1>\u001b[1;34m()\u001b[0m\n\u001b[1;32m----> 1\u001b[0m \u001b[38;5;28;01mimport\u001b[39;00m \u001b[38;5;21;01mshrey\u001b[39;00m\n",
      "\u001b[1;31mModuleNotFoundError\u001b[0m: No module named 'shrey'"
     ]
    }
   ],
   "source": [
    "import shrey"
   ]
  },
  {
   "cell_type": "code",
   "execution_count": null,
   "id": "73232b58",
   "metadata": {},
   "outputs": [
    {
     "name": "stdout",
     "output_type": "stream",
     "text": [
      "Unexpected exception formatting exception. Falling back to standard exception\n"
     ]
    }
   ],
   "source": [
    "def func():\n",
    "    s=\"hello\"\n",
    "    func()"
   ]
  },
  {
   "cell_type": "code",
   "execution_count": null,
   "id": "278c2e49",
   "metadata": {},
   "outputs": [],
   "source": [
    "import sys\n",
    "sys.getrecursionlimit()"
   ]
  },
  {
   "cell_type": "code",
   "execution_count": null,
   "id": "1b521a19",
   "metadata": {},
   "outputs": [],
   "source": [
    "sys.setrecursionlimit(30)"
   ]
  },
  {
   "cell_type": "code",
   "execution_count": 2,
   "id": "8674e88f",
   "metadata": {},
   "outputs": [
    {
     "ename": "NameError",
     "evalue": "name 'func' is not defined",
     "output_type": "error",
     "traceback": [
      "\u001b[1;31m---------------------------------------------------------------------------\u001b[0m",
      "\u001b[1;31mNameError\u001b[0m                                 Traceback (most recent call last)",
      "Input \u001b[1;32mIn [2]\u001b[0m, in \u001b[0;36m<cell line: 1>\u001b[1;34m()\u001b[0m\n\u001b[1;32m----> 1\u001b[0m \u001b[43mfunc\u001b[49m()\n",
      "\u001b[1;31mNameError\u001b[0m: name 'func' is not defined"
     ]
    }
   ],
   "source": [
    "func()"
   ]
  },
  {
   "cell_type": "markdown",
   "id": "44a63a6d",
   "metadata": {},
   "source": [
    "    The class hierarchy for built-in exceptions is:\n",
    "\n",
    "    BaseException\n",
    "     ├── BaseExceptionGroup\n",
    "     ├── GeneratorExit\n",
    "     ├── KeyboardInterrupt\n",
    "     ├── SystemExit\n",
    "     └── Exception\n",
    "          ├── ArithmeticError\n",
    "          │    ├── FloatingPointError\n",
    "          │    ├── OverflowError\n",
    "          │    └── ZeroDivisionError\n",
    "          ├── AssertionError\n",
    "          ├── AttributeError\n",
    "          ├── BufferError\n",
    "          ├── EOFError\n",
    "          ├── ExceptionGroup [BaseExceptionGroup]\n",
    "          ├── ImportError\n",
    "          │    └── ModuleNotFoundError\n",
    "          ├── LookupError\n",
    "          │    ├── IndexError\n",
    "          │    └── KeyError\n",
    "          ├── MemoryError\n",
    "          ├── NameError\n",
    "          │    └── UnboundLocalError\n",
    "          ├── OSError\n",
    "          │    ├── BlockingIOError\n",
    "          │    ├── ChildProcessError\n",
    "          │    ├── ConnectionError\n",
    "          │    │    ├── BrokenPipeError\n",
    "          │    │    ├── ConnectionAbortedError\n",
    "          │    │    ├── ConnectionRefusedError\n",
    "          │    │    └── ConnectionResetError\n",
    "          │    ├── FileExistsError\n",
    "          │    ├── FileNotFoundError\n",
    "          │    ├── InterruptedError\n",
    "          │    ├── IsADirectoryError\n",
    "          │    ├── NotADirectoryError\n",
    "          │    ├── PermissionError\n",
    "          │    ├── ProcessLookupError\n",
    "          │    └── TimeoutError\n",
    "          ├── ReferenceError\n",
    "          ├── RuntimeError\n",
    "          │    ├── NotImplementedError\n",
    "          │    └── RecursionError\n",
    "          ├── StopAsyncIteration\n",
    "          ├── StopIteration\n",
    "          ├── SyntaxError\n",
    "          │    └── IndentationError\n",
    "          │         └── TabError\n",
    "          ├── SystemError\n",
    "          ├── TypeError\n",
    "          ├── ValueError\n",
    "          │    └── UnicodeError\n",
    "          │         ├── UnicodeDecodeError\n",
    "          │         ├── UnicodeEncodeError\n",
    "          │         └── UnicodeTranslateError\n",
    "          └── Warning\n",
    "               ├── BytesWarning\n",
    "               ├── DeprecationWarning\n",
    "               ├── EncodingWarning\n",
    "               ├── FutureWarning\n",
    "               ├── ImportWarning\n",
    "               ├── PendingDeprecationWarning\n",
    "               ├── ResourceWarning\n",
    "               ├── RuntimeWarning\n",
    "               ├── SyntaxWarning\n",
    "               ├── UnicodeWarning\n",
    "               └── UserWarning"
   ]
  },
  {
   "cell_type": "code",
   "execution_count": 9,
   "id": "4377241e",
   "metadata": {},
   "outputs": [
    {
     "name": "stdout",
     "output_type": "stream",
     "text": [
      "x: 22\n",
      "You have entered a integer value :  22\n",
      "Error -  [Errno 2] No such file or directory: 'a.txt'\n",
      "This should run\n"
     ]
    }
   ],
   "source": [
    "try:\n",
    "    x=int(input(\"x: \"))\n",
    "    print(\"You have entered a integer value : \", x)\n",
    "#     1/0\n",
    "    open(\"a.txt\")\n",
    "except Exception as err:\n",
    "    print(\"Error - \", err)\n",
    "    \n",
    "print(\"This should run\")"
   ]
  },
  {
   "cell_type": "code",
   "execution_count": 4,
   "id": "275184f7",
   "metadata": {},
   "outputs": [],
   "source": [
    "# syntax of exception handling\n",
    "# try:\n",
    "#     code which can cause error\n",
    "# except ErrorNameas err:\n",
    "#     code to handle the error"
   ]
  },
  {
   "cell_type": "code",
   "execution_count": 25,
   "id": "d8b2f2a9",
   "metadata": {},
   "outputs": [
    {
     "name": "stdout",
     "output_type": "stream",
     "text": [
      "x: 22\n",
      "Y: 22\n",
      "Hey! Idiot there is no file by that name!\n",
      "Main toh run karunga kar lo jo karna hai\n",
      "This is also possible\n"
     ]
    }
   ],
   "source": [
    "try:\n",
    "    x=int(input(\"x: \"))\n",
    "    y=int(input(\"Y: \"))\n",
    "    r=x/y\n",
    "    fp=open(\"ha ha\")\n",
    "except ValueError as err:\n",
    "    print(\"Error! Hey idiot I asked you to give integer input\")\n",
    "    print(\"Error! Mind your input\")\n",
    "except ZeroDivisionError as err:\n",
    "    print(\"You are mad!\")\n",
    "    print(\"We cannot divide a number by zero!\")\n",
    "except FileNotFoundError as err:\n",
    "    print(\"Hey! Idiot there is no file by that name!\")\n",
    "else:\n",
    "#     it will run only if exception does not occur\n",
    "#     print(\"Good Boy Integer value is \", x)\n",
    "    print(\"Result: \", r)\n",
    "finally:\n",
    "#     clean actions which you need to execute no matter what\n",
    "    print(\"Main toh run karunga kar lo jo karna hai\")\n",
    "    \n",
    "print(\"This is also possible\")"
   ]
  },
  {
   "cell_type": "code",
   "execution_count": 30,
   "id": "7cbbb242",
   "metadata": {},
   "outputs": [],
   "source": [
    "def func():\n",
    "    try:\n",
    "        return 0\n",
    "    except:\n",
    "        print(\"ha ha\")\n",
    "    else:\n",
    "        print(\"ho ho ho\")\n",
    "    finally:\n",
    "        print(\"do you know my power??\")\n",
    "        return 100\n",
    "    return 121"
   ]
  },
  {
   "cell_type": "code",
   "execution_count": 31,
   "id": "025da2f4",
   "metadata": {},
   "outputs": [
    {
     "name": "stdout",
     "output_type": "stream",
     "text": [
      "do you know my power??\n",
      "100\n"
     ]
    }
   ],
   "source": [
    "a=func()\n",
    "print(a)"
   ]
  },
  {
   "cell_type": "code",
   "execution_count": 32,
   "id": "bca0dc71",
   "metadata": {},
   "outputs": [
    {
     "ename": "SyntaxError",
     "evalue": "invalid syntax (2077165619.py, line 3)",
     "output_type": "error",
     "traceback": [
      "\u001b[1;36m  Input \u001b[1;32mIn [32]\u001b[1;36m\u001b[0m\n\u001b[1;33m    finally:\u001b[0m\n\u001b[1;37m    ^\u001b[0m\n\u001b[1;31mSyntaxError\u001b[0m\u001b[1;31m:\u001b[0m invalid syntax\n"
     ]
    }
   ],
   "source": [
    "for item in [1,2,3,4]:\n",
    "    print(\"ha ha\")\n",
    "finally:\n",
    "    print(\"ho ho\")"
   ]
  },
  {
   "cell_type": "code",
   "execution_count": 33,
   "id": "afe93dd3",
   "metadata": {},
   "outputs": [],
   "source": [
    "try:\n",
    "    pass\n",
    "except ValueError:\n",
    "    pass\n",
    "except ZeroDivisionError:\n",
    "    pass\n",
    "except FileNotFoundError:\n",
    "    pass\n",
    "except Exception:\n",
    "    pass\n",
    "else:\n",
    "    pass\n",
    "finally:\n",
    "    pass"
   ]
  },
  {
   "cell_type": "code",
   "execution_count": 38,
   "id": "d0289375",
   "metadata": {},
   "outputs": [
    {
     "name": "stdout",
     "output_type": "stream",
     "text": [
      "Index out of bound\n"
     ]
    }
   ],
   "source": [
    "try:\n",
    "    data=[]\n",
    "    print(data[100])\n",
    "except KeyError:\n",
    "    print(\"use proper key\")\n",
    "except IndexError:\n",
    "    print(\"Index out of bound\")\n",
    "except LookupError:\n",
    "    print(\"Either Index or Key Error\")"
   ]
  },
  {
   "cell_type": "code",
   "execution_count": 39,
   "id": "2c3e585c",
   "metadata": {},
   "outputs": [
    {
     "ename": "ZeroDivisionError",
     "evalue": "division by zero",
     "output_type": "error",
     "traceback": [
      "\u001b[1;31m---------------------------------------------------------------------------\u001b[0m",
      "\u001b[1;31mZeroDivisionError\u001b[0m                         Traceback (most recent call last)",
      "Input \u001b[1;32mIn [39]\u001b[0m, in \u001b[0;36m<cell line: 1>\u001b[1;34m()\u001b[0m\n\u001b[1;32m----> 1\u001b[0m \u001b[38;5;241;43m1\u001b[39;49m\u001b[38;5;241;43m/\u001b[39;49m\u001b[38;5;241;43m0\u001b[39;49m\n",
      "\u001b[1;31mZeroDivisionError\u001b[0m: division by zero"
     ]
    }
   ],
   "source": [
    "1/0"
   ]
  },
  {
   "cell_type": "code",
   "execution_count": 40,
   "id": "90651d44",
   "metadata": {},
   "outputs": [
    {
     "ename": "MemoryError",
     "evalue": "ohh! I can also raise errors",
     "output_type": "error",
     "traceback": [
      "\u001b[1;31m---------------------------------------------------------------------------\u001b[0m",
      "\u001b[1;31mMemoryError\u001b[0m                               Traceback (most recent call last)",
      "Input \u001b[1;32mIn [40]\u001b[0m, in \u001b[0;36m<cell line: 1>\u001b[1;34m()\u001b[0m\n\u001b[1;32m----> 1\u001b[0m \u001b[38;5;28;01mraise\u001b[39;00m \u001b[38;5;167;01mMemoryError\u001b[39;00m(\u001b[38;5;124m\"\u001b[39m\u001b[38;5;124mohh! I can also raise errors\u001b[39m\u001b[38;5;124m\"\u001b[39m)\n",
      "\u001b[1;31mMemoryError\u001b[0m: ohh! I can also raise errors"
     ]
    }
   ],
   "source": [
    "raise MemoryError(\"ohh! I can also raise errors\")"
   ]
  },
  {
   "cell_type": "code",
   "execution_count": 43,
   "id": "f8790b53",
   "metadata": {},
   "outputs": [
    {
     "name": "stdout",
     "output_type": "stream",
     "text": [
      "positive number: 1\n",
      "good human 1\n"
     ]
    }
   ],
   "source": [
    "x=int(input(\"positive number: \"))\n",
    "if x<0:\n",
    "    raise ValueError(\"Number should be positive\")\n",
    "print(\"good human\", x)"
   ]
  },
  {
   "cell_type": "markdown",
   "id": "cbcfd307",
   "metadata": {},
   "source": [
    "        `Testing`"
   ]
  },
  {
   "cell_type": "code",
   "execution_count": 46,
   "id": "36131d2a",
   "metadata": {},
   "outputs": [],
   "source": [
    "# syntax\n",
    "# assert cond, \"error message\""
   ]
  },
  {
   "cell_type": "code",
   "execution_count": 47,
   "id": "a88ddfe5",
   "metadata": {},
   "outputs": [
    {
     "ename": "AssertionError",
     "evalue": "test case 1 failed",
     "output_type": "error",
     "traceback": [
      "\u001b[1;31m---------------------------------------------------------------------------\u001b[0m",
      "\u001b[1;31mAssertionError\u001b[0m                            Traceback (most recent call last)",
      "Input \u001b[1;32mIn [47]\u001b[0m, in \u001b[0;36m<cell line: 1>\u001b[1;34m()\u001b[0m\n\u001b[1;32m----> 1\u001b[0m \u001b[38;5;28;01massert\u001b[39;00m \u001b[38;5;241m0\u001b[39m\u001b[38;5;241m>\u001b[39m\u001b[38;5;241m1\u001b[39m, \u001b[38;5;124m\"\u001b[39m\u001b[38;5;124mtest case 1 failed\u001b[39m\u001b[38;5;124m\"\u001b[39m\n",
      "\u001b[1;31mAssertionError\u001b[0m: test case 1 failed"
     ]
    }
   ],
   "source": [
    "assert 0>1, \"test case 1 failed\""
   ]
  },
  {
   "cell_type": "code",
   "execution_count": 49,
   "id": "6448d39f",
   "metadata": {},
   "outputs": [
    {
     "name": "stdout",
     "output_type": "stream",
     "text": [
      "Positive: 10\n"
     ]
    }
   ],
   "source": [
    "num=int(input(\"Positive: \"))\n",
    "assert num>0, \"need a positive number\""
   ]
  },
  {
   "cell_type": "code",
   "execution_count": 53,
   "id": "6aba518b",
   "metadata": {},
   "outputs": [],
   "source": [
    "class MyError(Exception):\n",
    "    def __init__(self,msg,*args, **kwargs):\n",
    "        self.msg=msg\n",
    "        super().__init__(msg,*args,**kwargs)\n",
    "        self.do_this()\n",
    "        self.do_that()\n",
    "    def do_this(self):\n",
    "        print(\"if this errors we need to do this\")\n",
    "    def do_that(self):\n",
    "        print(\"Hey this also needs to be done if MyError Comes\")\n",
    "    def __str__(self):\n",
    "        print(\"hey now you know what is err\")\n",
    "        return self.msg"
   ]
  },
  {
   "cell_type": "code",
   "execution_count": 55,
   "id": "d9dccb99",
   "metadata": {},
   "outputs": [
    {
     "name": "stdout",
     "output_type": "stream",
     "text": [
      "if this errors we need to do this\n",
      "Hey this also needs to be done if MyError Comes\n",
      "hey now you know what is err\n"
     ]
    },
    {
     "ename": "NameError",
     "evalue": "name 'err' is not defined",
     "output_type": "error",
     "traceback": [
      "\u001b[1;31m---------------------------------------------------------------------------\u001b[0m",
      "\u001b[1;31mMyError\u001b[0m                                   Traceback (most recent call last)",
      "Input \u001b[1;32mIn [55]\u001b[0m, in \u001b[0;36m<cell line: 1>\u001b[1;34m()\u001b[0m\n\u001b[0;32m      1\u001b[0m \u001b[38;5;28;01mtry\u001b[39;00m:\n\u001b[1;32m----> 2\u001b[0m     \u001b[38;5;28;01mraise\u001b[39;00m MyError(\u001b[38;5;124m\"\u001b[39m\u001b[38;5;124myou can see! what oops can do\u001b[39m\u001b[38;5;124m\"\u001b[39m)\n\u001b[0;32m      3\u001b[0m \u001b[38;5;28;01mexcept\u001b[39;00m MyError \u001b[38;5;28;01mas\u001b[39;00m e:\n",
      "\u001b[1;31mMyError\u001b[0m: you can see! what oops can do",
      "\nDuring handling of the above exception, another exception occurred:\n",
      "\u001b[1;31mNameError\u001b[0m                                 Traceback (most recent call last)",
      "Input \u001b[1;32mIn [55]\u001b[0m, in \u001b[0;36m<cell line: 1>\u001b[1;34m()\u001b[0m\n\u001b[0;32m      2\u001b[0m     \u001b[38;5;28;01mraise\u001b[39;00m MyError(\u001b[38;5;124m\"\u001b[39m\u001b[38;5;124myou can see! what oops can do\u001b[39m\u001b[38;5;124m\"\u001b[39m)\n\u001b[0;32m      3\u001b[0m \u001b[38;5;28;01mexcept\u001b[39;00m MyError \u001b[38;5;28;01mas\u001b[39;00m e:\n\u001b[1;32m----> 4\u001b[0m     \u001b[38;5;28mprint\u001b[39m(\u001b[43merr\u001b[49m)\n\u001b[0;32m      5\u001b[0m     err\u001b[38;5;241m.\u001b[39mdo_this()\n\u001b[0;32m      6\u001b[0m     err\u001b[38;5;241m.\u001b[39mdo_that()\n",
      "\u001b[1;31mNameError\u001b[0m: name 'err' is not defined"
     ]
    }
   ],
   "source": [
    "try:\n",
    "    raise MyError(\"you can see! what oops can do\")\n",
    "except MyError as e:\n",
    "    print(err)\n",
    "    err.do_this()\n",
    "    err.do_that()"
   ]
  },
  {
   "cell_type": "code",
   "execution_count": null,
   "id": "bfbb0905",
   "metadata": {},
   "outputs": [],
   "source": []
  }
 ],
 "metadata": {
  "kernelspec": {
   "display_name": "Python 3 (ipykernel)",
   "language": "python",
   "name": "python3"
  },
  "language_info": {
   "codemirror_mode": {
    "name": "ipython",
    "version": 3
   },
   "file_extension": ".py",
   "mimetype": "text/x-python",
   "name": "python",
   "nbconvert_exporter": "python",
   "pygments_lexer": "ipython3",
   "version": "3.10.5"
  }
 },
 "nbformat": 4,
 "nbformat_minor": 5
}
