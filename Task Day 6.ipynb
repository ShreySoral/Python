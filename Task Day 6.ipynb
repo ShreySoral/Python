{
 "cells": [
  {
   "cell_type": "markdown",
   "id": "a398d937",
   "metadata": {},
   "source": [
    "1. Write down 10 projects ideas you want to implement using python \n",
    "\n",
    "2. Create at list 5 objects using list, dictionary, it will be good if you store realistic data   \n",
    "\n",
    "3. What is duck typing in python, what are Dunder or special methods?  \n",
    "\n",
    "4. What are operators? How many types of operators are there in python? "
   ]
  },
  {
   "cell_type": "markdown",
   "id": "008ce812",
   "metadata": {},
   "source": [
    "1. keylogger\n",
    "2. Automation project\n",
    "3. Machine learning model to predict heart disease\n",
    "4. Online College Admission Management System in Python\n",
    "5. Face Mask detection using Python\n",
    "6. Plagiarism checker using Python\n",
    "7. Music player in Python\n",
    "8. Real-time Face Recognition Project\n",
    "9. Automatic License Number Plate Recognition\n",
    "10. Python Message Encode and Decode Project"
   ]
  },
  {
   "cell_type": "code",
   "execution_count": 1,
   "id": "0b7927f2",
   "metadata": {},
   "outputs": [],
   "source": [
    "l=['hi',2,'bye']\n",
    "m=[2,5,6,7]\n",
    "n=[9,0,'shrey']\n",
    "o=[0,1,2,3,4,5,6]\n",
    "p=[3,2,1,0]"
   ]
  },
  {
   "cell_type": "code",
   "execution_count": null,
   "id": "69aa4b79",
   "metadata": {},
   "outputs": [],
   "source": [
    "# Duck typing is a concept related to dynamic typing, where the type or the class of an object is less important than the methods it defines. When you use duck typing, you do not check types at all. Instead, you check for the presence of a given method or attribute.\n",
    "# Dunder methods are names that are preceded and succeeded by double underscores, hence the name dunder. They are also called magic methods and can help override functionality for built-in functions for custom classes.\n",
    "# Operators are special symbols in Python that carry out arithmetic or logical computation. The value that the operator operates on is called the operand. For example: >>> 2+3 5. Here, + is the operator that performs addition. 2 and 3 are the operands and 5 is the output of the operation.\n",
    "# Python divides the operators in the following groups:\n",
    "# Arithmetic operators.\n",
    "# Assignment operators.\n",
    "# Comparison operators.\n",
    "# Logical operators.\n",
    "# Identity operators.\n",
    "# Membership operators.\n",
    "# Bitwise operators."
   ]
  }
 ],
 "metadata": {
  "kernelspec": {
   "display_name": "Python 3 (ipykernel)",
   "language": "python",
   "name": "python3"
  },
  "language_info": {
   "codemirror_mode": {
    "name": "ipython",
    "version": 3
   },
   "file_extension": ".py",
   "mimetype": "text/x-python",
   "name": "python",
   "nbconvert_exporter": "python",
   "pygments_lexer": "ipython3",
   "version": "3.10.5"
  }
 },
 "nbformat": 4,
 "nbformat_minor": 5
}
