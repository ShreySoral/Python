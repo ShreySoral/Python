{
 "cells": [
  {
   "cell_type": "code",
   "execution_count": 1,
   "id": "43cbdf37",
   "metadata": {},
   "outputs": [],
   "source": [
    "# #### Question\n",
    "\n",
    " \n",
    "\n",
    "#     Calculate Total Bill For a Swiggy Order\n",
    "\n",
    " \n",
    "\n",
    "#     Constraints:\n",
    "#             you need add 20% tax on Final Bill\n",
    "\n",
    " \n",
    "\n",
    "#     Input:\n",
    "    \n",
    "#         Item     - Burger\n",
    "#         Price    - 40\n",
    "#         Quantity - 20\n",
    "#         Discount - 10\n",
    "      \n",
    "#     Ouput:\n",
    "    \n",
    "#         You have to pay 864 rupees for this order."
   ]
  },
  {
   "cell_type": "code",
   "execution_count": 2,
   "id": "592f6fb7",
   "metadata": {},
   "outputs": [
    {
     "name": "stdout",
     "output_type": "stream",
     "text": [
      "Enter the name of the item you want to buy\n",
      "pizza\n",
      "Enter the price of the product\n",
      "300\n",
      "Enter the quantity of the product\n",
      "2\n",
      "Enter the discount percentage\n",
      "4\n",
      "The calculated price with 20% tax and 4% discount is 24.2\n",
      "\n"
     ]
    }
   ],
   "source": [
    "item=str(input(\"Enter the name of the item you want to buy\\n\"))\n",
    "price=int(input(\"Enter the price of the product\\n\"))\n",
    "quantity=int(input(\"Enter the quantity of the product\\n\"))\n",
    "discount=int(input(\"Enter the discount percentage\\n\"))\n",
    "discount_price=discount/100\n",
    "tax=20/100\n",
    "total_price=price*quantity\n",
    "calculated_price=discount_price*total_price+tax\n",
    "print(f\"The calculated price with 20% tax and {discount}% discount is {calculated_price}\\n\")"
   ]
  },
  {
   "cell_type": "code",
   "execution_count": null,
   "id": "cfcf2a4f",
   "metadata": {},
   "outputs": [],
   "source": []
  }
 ],
 "metadata": {
  "kernelspec": {
   "display_name": "Python 3 (ipykernel)",
   "language": "python",
   "name": "python3"
  },
  "language_info": {
   "codemirror_mode": {
    "name": "ipython",
    "version": 3
   },
   "file_extension": ".py",
   "mimetype": "text/x-python",
   "name": "python",
   "nbconvert_exporter": "python",
   "pygments_lexer": "ipython3",
   "version": "3.10.5"
  },
  "vscode": {
   "interpreter": {
    "hash": "99b4d5e1c846a82edbf8bc2f68c9ae72137f89fea0c9c349faef6dfe4bf5f3ed"
   }
  }
 },
 "nbformat": 4,
 "nbformat_minor": 5
}
