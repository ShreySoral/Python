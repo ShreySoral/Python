{
 "cells": [
  {
   "cell_type": "code",
   "execution_count": 3,
   "id": "bb70749c",
   "metadata": {},
   "outputs": [
    {
     "name": "stdout",
     "output_type": "stream",
     "text": [
      "start\n",
      "s\n",
      "sentence\n"
     ]
    }
   ],
   "source": [
    "# Q1 SOLUTION\n",
    "# Use for, .split(), and if to create a Statement that will print out words that start with 's':\n",
    "st = 'Print only the words that start with s in this sentence'\n",
    "for word in st.split():\n",
    "    if word[0]=='s':\n",
    "        print(word)"
   ]
  },
  {
   "cell_type": "code",
   "execution_count": 5,
   "id": "49713f14",
   "metadata": {},
   "outputs": [
    {
     "name": "stdout",
     "output_type": "stream",
     "text": [
      "0\n",
      "2\n",
      "4\n",
      "6\n",
      "8\n"
     ]
    }
   ],
   "source": [
    "# Q2 SOLUTION\n",
    "# Use range() to print all the even numbers from 0 to 10.\n",
    "for i in range(0,10):\n",
    "    if i%2==0:\n",
    "        print(i)"
   ]
  },
  {
   "cell_type": "code",
   "execution_count": 9,
   "id": "1bb62d7c",
   "metadata": {},
   "outputs": [
    {
     "name": "stdout",
     "output_type": "stream",
     "text": [
      "[3, 6, 9, 12, 15, 18, 21, 24, 27, 30, 33, 36, 39, 42, 45, 48]\n"
     ]
    }
   ],
   "source": [
    "# Q3 SOLUTION\n",
    "# Use a List Comprehension to create a list of all numbers between 1 and 50 that are divisible by 3.\n",
    "mylist = [li for li in range(1, 51) if li % 3 == 0]\n",
    "print(mylist)"
   ]
  },
  {
   "cell_type": "code",
   "execution_count": 10,
   "id": "258410c5",
   "metadata": {},
   "outputs": [
    {
     "name": "stdout",
     "output_type": "stream",
     "text": [
      "word\n",
      "in\n",
      "this\n",
      "sentence\n",
      "that\n",
      "an\n",
      "even\n",
      "number\n",
      "of\n"
     ]
    }
   ],
   "source": [
    "# Q4 SOLUTION\n",
    "# Go through the string below and if the length of a word is even print \"even!\"\n",
    "st = 'Print every word in this sentence that has an even number of letters'\n",
    "s=st.split(\" \")\n",
    "for i in s:\n",
    "  #checking the length of words\n",
    "  if len(i)%2==0:\n",
    "    print(i)"
   ]
  },
  {
   "cell_type": "code",
   "execution_count": 11,
   "id": "2df5397a",
   "metadata": {},
   "outputs": [
    {
     "name": "stdout",
     "output_type": "stream",
     "text": [
      "fizzbuzz\n",
      "1\n",
      "2\n",
      "fizz\n",
      "4\n",
      "buzz\n",
      "fizz\n",
      "7\n",
      "8\n",
      "fizz\n",
      "buzz\n",
      "11\n",
      "fizz\n",
      "13\n",
      "14\n",
      "fizzbuzz\n",
      "16\n",
      "17\n",
      "fizz\n",
      "19\n",
      "buzz\n",
      "fizz\n",
      "22\n",
      "23\n",
      "fizz\n",
      "buzz\n",
      "26\n",
      "fizz\n",
      "28\n",
      "29\n",
      "fizzbuzz\n",
      "31\n",
      "32\n",
      "fizz\n",
      "34\n",
      "buzz\n",
      "fizz\n",
      "37\n",
      "38\n",
      "fizz\n",
      "buzz\n",
      "41\n",
      "fizz\n",
      "43\n",
      "44\n",
      "fizzbuzz\n",
      "46\n",
      "47\n",
      "fizz\n",
      "49\n",
      "buzz\n",
      "fizz\n",
      "52\n",
      "53\n",
      "fizz\n",
      "buzz\n",
      "56\n",
      "fizz\n",
      "58\n",
      "59\n",
      "fizzbuzz\n",
      "61\n",
      "62\n",
      "fizz\n",
      "64\n",
      "buzz\n",
      "fizz\n",
      "67\n",
      "68\n",
      "fizz\n",
      "buzz\n",
      "71\n",
      "fizz\n",
      "73\n",
      "74\n",
      "fizzbuzz\n",
      "76\n",
      "77\n",
      "fizz\n",
      "79\n",
      "buzz\n",
      "fizz\n",
      "82\n",
      "83\n",
      "fizz\n",
      "buzz\n",
      "86\n",
      "fizz\n",
      "88\n",
      "89\n",
      "fizzbuzz\n",
      "91\n",
      "92\n",
      "fizz\n",
      "94\n",
      "buzz\n",
      "fizz\n",
      "97\n",
      "98\n",
      "fizz\n"
     ]
    }
   ],
   "source": [
    "# Q5 SOLUTION\n",
    "# Write a program that prints the integers from 1 to 100. But for multiples of three print \"Fizz\" instead of the number, and for the multiples of five print \"Buzz\". For numbers which are multiples of both three and five print \"FizzBuzz\".\n",
    "for fizzbuzz in range(0,100):\n",
    "    if fizzbuzz % 3 == 0 and fizzbuzz % 5 == 0:\n",
    "        print(\"fizzbuzz\")\n",
    "        continue\n",
    "    elif fizzbuzz % 3 == 0:\n",
    "        print(\"fizz\")\n",
    "        continue\n",
    "    elif fizzbuzz % 5 == 0:\n",
    "        print(\"buzz\")\n",
    "        continue\n",
    "    print(fizzbuzz)"
   ]
  },
  {
   "cell_type": "code",
   "execution_count": 12,
   "id": "2b9c3ea2",
   "metadata": {},
   "outputs": [
    {
     "name": "stdout",
     "output_type": "stream",
     "text": [
      "['C']\n",
      "['a']\n",
      "['l']\n",
      "['o']\n",
      "['t']\n",
      "['f']\n",
      "['l']\n",
      "['o']\n",
      "['e']\n",
      "['w']\n",
      "['i']\n",
      "['t']\n",
      "['s']\n"
     ]
    }
   ],
   "source": [
    "# Q6 SOLUTION\n",
    "# Use ListIteration to create a list of the first letters of every word in the string below:\n",
    "st = 'Create a list of the first letters of every word in this string'\n",
    "words = st.split()\n",
    "for ch in words:\n",
    "    first_char_list = ch[0]\n",
    "    print(list(first_char_list))"
   ]
  },
  {
   "cell_type": "code",
   "execution_count": 25,
   "id": "d071063a",
   "metadata": {},
   "outputs": [
    {
     "name": "stdout",
     "output_type": "stream",
     "text": [
      "5 0\n"
     ]
    }
   ],
   "source": [
    "# Q7 SOLUTION\n",
    "# Write a python program to solve a classic ancient Chinese puzzle.\n",
    "\n",
    "# We count 35 heads and 94 legs among the chickens and rabbits in a farm. How many rabbits and how many chickens do we have?\n",
    "\n",
    "\n",
    "# Sample Input\n",
    "\n",
    "# Expected Output\n",
    "\n",
    "# heads-150 legs-400\n",
    "\n",
    "# 100 50\n",
    "\n",
    "# heads-3 legs-11\n",
    "\n",
    "# No solution\n",
    "\n",
    "# heads-3 legs-12\n",
    "\n",
    "# 0 3\n",
    "\n",
    "# heads-5 legs-10\n",
    "\n",
    "# 5 0\n",
    "\n",
    "\n",
    "# CODE\n",
    "\n",
    "def solve(heads,legs):\n",
    "    error_msg=\"No solution\"\n",
    "    chicken_count=0\n",
    "    rabbit_count=0\n",
    "    \n",
    "    if heads>=legs:\n",
    "        print(error_msg)\n",
    "    elif(legs%2!=0):\n",
    "        print(error_msg)\n",
    "    else:\n",
    "        rabbit_count=(legs-2*heads)/2\n",
    "        chicken_count=heads-rabbit_count\n",
    "        print(int(chicken_count),int(rabbit_count))\n",
    "solve(5,10)"
   ]
  },
  {
   "cell_type": "code",
   "execution_count": 27,
   "id": "97fb521d",
   "metadata": {},
   "outputs": [
    {
     "name": "stdout",
     "output_type": "stream",
     "text": [
      "Enter your number\n",
      "33\n",
      "COLD\n",
      "Your guess number is too low\n",
      "Enter your number20\n",
      "Your guess number is too low\n",
      "Enter your number39\n",
      "Your guess number is too low\n",
      "Enter your number50\n",
      "Your guess number is too low\n",
      "Enter your number70\n",
      "Your guess is too high\n",
      "You lose! The number is 68\n"
     ]
    }
   ],
   "source": [
    "# Q8 SOLUTION\n",
    "import random\n",
    "number=random.randint(1,100)\n",
    "userinput=int(input(\"Enter your number\\n\"))\n",
    "chances=0\n",
    "while chances<10:\n",
    "    if userinput>100 or userinput<1:\n",
    "        print(\"OUT OF BOUNDS\")\n",
    "    if chances==0 and userinput==10:\n",
    "        print(\"WARM\")\n",
    "    elif chances==0 and userinput>10:\n",
    "        print(\"COLD\")\n",
    "    if userinput==number:\n",
    "        print(f\"Congrats you won you took {chances} chances\")\n",
    "        break\n",
    "    elif userinput<number:\n",
    "        print(\"Your guess number is too low\")\n",
    "    else:\n",
    "        print(\"Your guess is too high\")\n",
    "    chances+=1\n",
    "    if not chances<5:\n",
    "        print(\"You lose! The number is\",number)\n",
    "        break\n",
    "    userinput=int(input(\"Enter your number\"))"
   ]
  },
  {
   "cell_type": "markdown",
   "id": "95a2646b",
   "metadata": {},
   "source": []
  }
 ],
 "metadata": {
  "kernelspec": {
   "display_name": "Python 3 (ipykernel)",
   "language": "python",
   "name": "python3"
  },
  "language_info": {
   "codemirror_mode": {
    "name": "ipython",
    "version": 3
   },
   "file_extension": ".py",
   "mimetype": "text/x-python",
   "name": "python",
   "nbconvert_exporter": "python",
   "pygments_lexer": "ipython3",
   "version": "3.10.5"
  }
 },
 "nbformat": 4,
 "nbformat_minor": 5
}
