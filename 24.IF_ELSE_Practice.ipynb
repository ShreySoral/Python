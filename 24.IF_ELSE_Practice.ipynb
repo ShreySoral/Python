{
 "cells": [
  {
   "cell_type": "markdown",
   "id": "caccba65",
   "metadata": {},
   "source": [
    "                        Python Tasks – Day9\n",
    "                        \n",
    "1.\tWrite a Python program to check whether a number is negative, positive or zero.\n",
    "2.\tWrite a Python program to check whether a number is divisible by 5 and 11 or not.\n",
    "3.\tWrite a Python program to check whether a year is leap year or not.\n",
    "4.\tWrite a Python program to check whether a character is alphabet or not.\n",
    "5.\tWrite a Python program to input any alphabet and check whether it is vowel or consonant.\n",
    "6.\tWrite a Python program to input any character and check whether it is alphabet, digit or special character.\n",
    "7.\tWrite a Python program to check whether a character is uppercase or lowercase alphabet.\n",
    "8.\tWrite a Python program to input week number and print weekday.\n",
    "9.\tWrite a Python program to input angles of a triangle and check whether triangle is valid or not.\n",
    "10.\tWrite a Python program to input all sides of a triangle and check whether triangle is valid or not.\n",
    "11.\tWrite a Python program to check whether the triangle is equilateral, isosceles or scalene triangle.\n",
    "12.\tWrite a Python program to input marks of five subjects Physics, Chemistry, Biology, Mathematics and Computer. Calculate percentage and grade according to following: \n",
    "                   Percentage >= 90% : Grade A\n",
    "                   Percentage >= 80% : Grade B \n",
    "                   Percentage >= 70% : Grade C \n",
    "                               Percentage >= 60% : Grade D \n",
    "                               Percentage >= 40% : Grade E \n",
    "                               Percentage < 40% : Grade F\n",
    "13.\tWrite a Python program to input basic salary of an employee and calculate its Gross salary according to following: \n",
    "                Basic Salary <= 10000 : HRA = 20%, DA = 80% \n",
    "                Basic Salary <= 20000 : HRA = 25%, DA = 90% \n",
    "                Basic Salary > 20000 : HRA = 30%, DA = 95%\n",
    "14.\tWrite a Python Program to input electricity unit charges and calculate total electricity bill according to the given condition: \n",
    "For first 50 units Rs. 0.50/unit\n",
    "For next 100 units Rs. 0.75/unit\n",
    "For next 100 units Rs. 1.20/unit\n",
    "For unit above 250 Rs. 1.50/unit\n",
    "An additional surcharge of 20% is added to the bill\n",
    "\n"
   ]
  },
  {
   "cell_type": "markdown",
   "id": "90502b4e",
   "metadata": {},
   "source": [
    "1. Write a Python program to check whether a number is negative, positive or zero."
   ]
  },
  {
   "cell_type": "code",
   "execution_count": 11,
   "id": "3818a67d",
   "metadata": {},
   "outputs": [
    {
     "name": "stdout",
     "output_type": "stream",
     "text": [
      "Enter a number: 0\n",
      "Given number 0.0 is zero\n"
     ]
    }
   ],
   "source": [
    "num = float(input(\"Enter a number: \"))\n",
    "\n",
    "if num == 0:\n",
    "    print(f\"Given number {num} is zero\")\n",
    "    \n",
    "if num < 0:\n",
    "    print(f\"Given number {num} is negative\")\n",
    "    \n",
    "if num > 0:\n",
    "    print(f\"Given number {num} is positive\")"
   ]
  },
  {
   "cell_type": "code",
   "execution_count": 15,
   "id": "ada813bf",
   "metadata": {},
   "outputs": [
    {
     "name": "stdout",
     "output_type": "stream",
     "text": [
      "Enter a number: 10\n",
      "Given number 10.0 is positive\n"
     ]
    }
   ],
   "source": [
    "num = float(input(\"Enter a number: \"))\n",
    "\n",
    "if num == 0:\n",
    "    print(f\"Given number {num} is zero\")\n",
    "elif num < 0:\n",
    "    print(f\"Given number {num} is negative\")\n",
    "else:\n",
    "    print(f\"Given number {num} is positive\")"
   ]
  },
  {
   "cell_type": "markdown",
   "id": "d072261a",
   "metadata": {},
   "source": [
    "    5 -> Not Divisible \n",
    "    \n",
    "    11 -> Not Divisible\n",
    "    \n",
    "    23 -> Not Divisible\n",
    "    \n",
    "    55 -> Divisible"
   ]
  },
  {
   "cell_type": "markdown",
   "id": "a3b80329",
   "metadata": {},
   "source": [
    "### Nested if else "
   ]
  },
  {
   "cell_type": "code",
   "execution_count": 16,
   "id": "36096510",
   "metadata": {},
   "outputs": [
    {
     "name": "stdout",
     "output_type": "stream",
     "text": [
      "Num: 5\n",
      "5 is not divible by 5 and 11\n"
     ]
    }
   ],
   "source": [
    "num = int(input(\"Num: \"))\n",
    "\n",
    "if num%5 == 0:\n",
    "    # num is divisble by 5\n",
    "    if num%11 == 0:\n",
    "        # num is divible by 11\n",
    "        print(f\"{num} is divible by 5 and 11\")\n",
    "    else:\n",
    "        print(f\"{num} is not divible by 5 and 11\")\n",
    "else:\n",
    "    # num is not divisble by 5\n",
    "    print(f\"{num} is not divible by 5 and 11\")"
   ]
  },
  {
   "cell_type": "markdown",
   "id": "8cdfae38",
   "metadata": {},
   "source": [
    "#### Logical Operators in IF-ELSE\n",
    "\n",
    "    to test multiple conditions"
   ]
  },
  {
   "cell_type": "markdown",
   "id": "edf5bbd2",
   "metadata": {},
   "source": [
    "    True   and    True    -> True\n",
    "    \n",
    "    False and ?  -> False\n",
    "    \n",
    "    True and False -> False\n",
    "    \n",
    "    "
   ]
  },
  {
   "cell_type": "code",
   "execution_count": 21,
   "id": "6fd46b94",
   "metadata": {},
   "outputs": [
    {
     "name": "stdout",
     "output_type": "stream",
     "text": [
      "55\n",
      "55 is divible by 5 and 11\n"
     ]
    }
   ],
   "source": [
    "num = int(input())\n",
    "if (num%5==0) and (num%11==0):\n",
    "    print(f\"{num} is divible by 5 and 11\")\n",
    "else:\n",
    "    print(f\"{num} is not divible by 5 and 11\")"
   ]
  },
  {
   "cell_type": "markdown",
   "id": "038b2a23",
   "metadata": {},
   "source": [
    "Write a Python program to check whether a year is leap year or not."
   ]
  },
  {
   "cell_type": "markdown",
   "id": "50597284",
   "metadata": {},
   "source": [
    "    Century -> \n",
    "    \n",
    "        100\n",
    "        200\n",
    "        500\n",
    "        \n",
    "        \n",
    "        100 * num "
   ]
  },
  {
   "cell_type": "code",
   "execution_count": 30,
   "id": "0a68a6c0",
   "metadata": {},
   "outputs": [
    {
     "data": {
      "text/plain": [
       "21"
      ]
     },
     "execution_count": 30,
     "metadata": {},
     "output_type": "execute_result"
    }
   ],
   "source": [
    "2100 // 100"
   ]
  },
  {
   "cell_type": "code",
   "execution_count": 29,
   "id": "1aebb1a9",
   "metadata": {},
   "outputs": [
    {
     "data": {
      "text/plain": [
       "0"
      ]
     },
     "execution_count": 29,
     "metadata": {},
     "output_type": "execute_result"
    }
   ],
   "source": [
    "2200 % 4"
   ]
  },
  {
   "cell_type": "code",
   "execution_count": null,
   "id": "ad8fbf42",
   "metadata": {},
   "outputs": [],
   "source": [
    "0   400 800 1200\n",
    "\n",
    "1600"
   ]
  },
  {
   "cell_type": "code",
   "execution_count": 27,
   "id": "55802406",
   "metadata": {},
   "outputs": [
    {
     "name": "stdout",
     "output_type": "stream",
     "text": [
      "year: 2400\n",
      "Leap Year\n"
     ]
    }
   ],
   "source": [
    "year = int(input(\"year: \"))\n",
    "\n",
    "if year%4 == 0:\n",
    "    print(\"Leap Year\")\n",
    "else:\n",
    "    print(\"Not a Leap Year\")"
   ]
  },
  {
   "cell_type": "code",
   "execution_count": null,
   "id": "479f6934",
   "metadata": {},
   "outputs": [],
   "source": [
    "100\n",
    "\n",
    "2100\n",
    "\n",
    "2200"
   ]
  },
  {
   "cell_type": "code",
   "execution_count": null,
   "id": "f00ce532",
   "metadata": {},
   "outputs": [],
   "source": []
  },
  {
   "cell_type": "code",
   "execution_count": 31,
   "id": "9552e10c",
   "metadata": {},
   "outputs": [
    {
     "data": {
      "text/plain": [
       "5.25"
      ]
     },
     "execution_count": 31,
     "metadata": {},
     "output_type": "execute_result"
    }
   ],
   "source": [
    "2016\n",
    "\n",
    "2022\n",
    "\n",
    "2000\n",
    "\n",
    "2100 / 400"
   ]
  },
  {
   "cell_type": "code",
   "execution_count": 32,
   "id": "fc184a55",
   "metadata": {},
   "outputs": [
    {
     "data": {
      "text/plain": [
       "0"
      ]
     },
     "execution_count": 32,
     "metadata": {},
     "output_type": "execute_result"
    }
   ],
   "source": [
    "2000 % 400"
   ]
  },
  {
   "cell_type": "code",
   "execution_count": 33,
   "id": "f9109a95",
   "metadata": {},
   "outputs": [
    {
     "data": {
      "text/plain": [
       "100"
      ]
     },
     "execution_count": 33,
     "metadata": {},
     "output_type": "execute_result"
    }
   ],
   "source": [
    "2100 % 400"
   ]
  },
  {
   "cell_type": "markdown",
   "id": "2549c630",
   "metadata": {},
   "source": [
    "### Nested IF-Else"
   ]
  },
  {
   "cell_type": "markdown",
   "id": "657eec76",
   "metadata": {},
   "source": [
    "    2016 -> True\n",
    "    2022 -> True\n",
    "\n",
    "    2100 -> False\n",
    "    2200 -> False\n",
    "    \n",
    "    2000 -> True\n",
    "    \n",
    "    \n",
    "    if (year%100!= 0) or ? "
   ]
  },
  {
   "cell_type": "code",
   "execution_count": null,
   "id": "bb79a838",
   "metadata": {},
   "outputs": [],
   "source": []
  },
  {
   "cell_type": "code",
   "execution_count": 35,
   "id": "ae7067a3",
   "metadata": {},
   "outputs": [
    {
     "name": "stdout",
     "output_type": "stream",
     "text": [
      "year: 2000\n",
      "Leap Year\n"
     ]
    }
   ],
   "source": [
    "year = int(input(\"year: \"))\n",
    "\n",
    "if year%4 == 0:\n",
    "    if year%100== 0:\n",
    "        if (year%400) == 0:\n",
    "            print(\"Leap Year\")\n",
    "        else:\n",
    "            print(\"Not a Leap Year\")\n",
    "    else:\n",
    "        print(\"Leap Year\")\n",
    "else:\n",
    "    print(\"Not a Leap Year\")"
   ]
  },
  {
   "cell_type": "code",
   "execution_count": 46,
   "id": "44efbb0d",
   "metadata": {},
   "outputs": [
    {
     "name": "stdout",
     "output_type": "stream",
     "text": [
      "year: 2024\n",
      "Leap Year\n"
     ]
    }
   ],
   "source": [
    "year = int(input(\"year: \"))\n",
    "\n",
    "if year%4 == 0:\n",
    "    if (year%100!=0) or (year%400==0):\n",
    "        print(\"Leap Year\")\n",
    "    else:\n",
    "        print(\"Not Leap Year\")\n",
    "else:\n",
    "    print(\"Not a Leap Year\")"
   ]
  },
  {
   "cell_type": "code",
   "execution_count": null,
   "id": "63bf4e9a",
   "metadata": {},
   "outputs": [],
   "source": []
  },
  {
   "cell_type": "code",
   "execution_count": 50,
   "id": "ef8c7fda",
   "metadata": {},
   "outputs": [
    {
     "name": "stdout",
     "output_type": "stream",
     "text": [
      "year: 2013\n",
      "Not a Leap Year\n"
     ]
    }
   ],
   "source": [
    "year = int(input(\"year: \"))\n",
    "\n",
    "if (year%4==0)and (year%100!=0) or (year%400==0):\n",
    "    print(\"Leap Year\")\n",
    "else:\n",
    "    print(\"Not a Leap Year\")"
   ]
  },
  {
   "cell_type": "code",
   "execution_count": 51,
   "id": "88095889",
   "metadata": {},
   "outputs": [
    {
     "name": "stdout",
     "output_type": "stream",
     "text": [
      "year: 2100\n",
      "Not a Leap Year\n"
     ]
    }
   ],
   "source": [
    "year = int(input(\"year: \"))\n",
    "\n",
    "if (year%4==0) and (year%100) or (year%400==0):\n",
    "    print(\"Leap Year\")\n",
    "else:\n",
    "    print(\"Not a Leap Year\")"
   ]
  },
  {
   "cell_type": "code",
   "execution_count": 52,
   "id": "87a9f949",
   "metadata": {},
   "outputs": [
    {
     "name": "stdout",
     "output_type": "stream",
     "text": [
      "year: 21000\n",
      "Not a Leap Year\n"
     ]
    }
   ],
   "source": [
    "year = int(input(\"year: \"))\n",
    "\n",
    "if year%4==0 and year%100 or year%400==0:\n",
    "    print(\"Leap Year\")\n",
    "else:\n",
    "    print(\"Not a Leap Year\")"
   ]
  },
  {
   "cell_type": "markdown",
   "id": "4bcab483",
   "metadata": {},
   "source": [
    "    expression -> paranthesis"
   ]
  },
  {
   "cell_type": "code",
   "execution_count": null,
   "id": "7d7f3447",
   "metadata": {},
   "outputs": [],
   "source": []
  },
  {
   "cell_type": "code",
   "execution_count": 53,
   "id": "40ee5ee6",
   "metadata": {},
   "outputs": [
    {
     "name": "stdout",
     "output_type": "stream",
     "text": [
      "year: 200\n",
      "Not a Leap Year\n"
     ]
    }
   ],
   "source": [
    "year = int(input(\"year: \"))\n",
    "\n",
    "if (year%4==0) and ( (year%100) or (year%400==0) ):\n",
    "    print(\"Leap Year\")\n",
    "else:\n",
    "    print(\"Not a Leap Year\")"
   ]
  },
  {
   "cell_type": "code",
   "execution_count": 1,
   "id": "cb839e98",
   "metadata": {},
   "outputs": [
    {
     "name": "stdout",
     "output_type": "stream",
     "text": [
      "k\n",
      "given charachter k is a lower case alphabet\n"
     ]
    }
   ],
   "source": [
    "char=input().lower()\n",
    "value=ord(char)\n",
    "if (value)>= 65 and value<=90:\n",
    "    print(f\"given charachter {char} is a capital alphabet\")\n",
    "elif (value>=97 and value<=122):\n",
    "    print(f\"given charachter {char} is a lower case alphabet\")\n",
    "else:\n",
    "    print(f\"given charachter {char} is not alphabet\")"
   ]
  },
  {
   "cell_type": "code",
   "execution_count": 2,
   "id": "9e784303",
   "metadata": {},
   "outputs": [
    {
     "name": "stdout",
     "output_type": "stream",
     "text": [
      "['__add__', '__class__', '__contains__', '__delattr__', '__dir__', '__doc__', '__eq__', '__format__', '__ge__', '__getattribute__', '__getitem__', '__getnewargs__', '__gt__', '__hash__', '__init__', '__init_subclass__', '__iter__', '__le__', '__len__', '__lt__', '__mod__', '__mul__', '__ne__', '__new__', '__reduce__', '__reduce_ex__', '__repr__', '__rmod__', '__rmul__', '__setattr__', '__sizeof__', '__str__', '__subclasshook__', 'capitalize', 'casefold', 'center', 'count', 'encode', 'endswith', 'expandtabs', 'find', 'format', 'format_map', 'index', 'isalnum', 'isalpha', 'isascii', 'isdecimal', 'isdigit', 'isidentifier', 'islower', 'isnumeric', 'isprintable', 'isspace', 'istitle', 'isupper', 'join', 'ljust', 'lower', 'lstrip', 'maketrans', 'partition', 'removeprefix', 'removesuffix', 'replace', 'rfind', 'rindex', 'rjust', 'rpartition', 'rsplit', 'rstrip', 'split', 'splitlines', 'startswith', 'strip', 'swapcase', 'title', 'translate', 'upper', 'zfill']\n"
     ]
    }
   ],
   "source": [
    "print(dir(str))"
   ]
  },
  {
   "cell_type": "code",
   "execution_count": null,
   "id": "d0bd7492",
   "metadata": {},
   "outputs": [],
   "source": []
  }
 ],
 "metadata": {
  "kernelspec": {
   "display_name": "Python 3 (ipykernel)",
   "language": "python",
   "name": "python3"
  },
  "language_info": {
   "codemirror_mode": {
    "name": "ipython",
    "version": 3
   },
   "file_extension": ".py",
   "mimetype": "text/x-python",
   "name": "python",
   "nbconvert_exporter": "python",
   "pygments_lexer": "ipython3",
   "version": "3.10.5"
  }
 },
 "nbformat": 4,
 "nbformat_minor": 5
}
