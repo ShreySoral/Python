{
 "cells": [
  {
   "cell_type": "markdown",
   "id": "5d6e3cc1",
   "metadata": {},
   "source": [
    "In the next two problems, you’ll be building an address book using object oriented \n",
    "programming in Python. To begin, you’ll define a Person class. You’ll use this class in \n",
    "the next problem to build your address book – each entry in your address book will \n",
    "be an instance of the Person class. \n",
    " \n",
    "To begin, define the __init__ and __str__ methods for the Person class. Read the \n",
    "Python documentation if needed to help you understand what __init__ and __str__ \n",
    "need to do. \n",
    " \n",
    "Here’s an example interaction in the Python shell demonstrating how your class \n",
    "should work after implementing these two methods: \n",
    " \n",
    "    >>> Emily = Person(“Zhang”, “Emily”, “5559358150”,\n",
    "    “emzhang@mit.edu”)\n",
    "    >>> print(Emily)\n",
    "    Zhang, Emily -- Phone Number: 5559358150 -- Email\n",
    "    Address(es): emzhang@mit.edu\n",
    "    >>> Wesley = Person(“Graybill”, “Wesley”, “5551940325”,\n",
    "    [‘wgray496@mit.edu’, ‘wdgraybill@gmail.com’])\n",
    "    >>> print(Wesley)\n",
    "    Graybill, Wesley -- Phone Number: 5551940325 -- Email\n",
    "    Address(es): wgray496@mit.edu, wdgraybill@gmail.com\n",
    "\n"
   ]
  },
  {
   "cell_type": "markdown",
   "id": "0129eeec",
   "metadata": {},
   "source": [
    "yadav, sachin -- Phone Number: 123456 -- Email Address(es): sachin@gmail.com"
   ]
  },
  {
   "cell_type": "code",
   "execution_count": 30,
   "id": "7c3864a0",
   "metadata": {},
   "outputs": [],
   "source": [
    "class Person:\n",
    "    def __init__(self, lastname, firstname, ph_no, email):\n",
    "        if type(ph_no) is str: # \"123455\"\n",
    "            ph_no = [ ph_no, ] # [ \"123455\" ]\n",
    "        if type(email) is str: # \"sachin@gmail.com\"\n",
    "            email = [ email ] # [ \"sachin@gmail.com\"]\n",
    "        \n",
    "        email = [ str.lower(mail) for mail in email ]\n",
    "        self.last_name = lastname.strip().title()\n",
    "        self.first_name = firstname.strip().title()\n",
    "        self.phone = ph_no\n",
    "        self.email = email\n",
    "    def __str__(self):\n",
    "        email = \", \".join(self.email)\n",
    "        ph_no = \", \".join(self.phone)\n",
    "        return  f\"{self.last_name}, {self.first_name} -- Phone Number: {ph_no} \\\n",
    "--Email Addres(es): {email}\""
   ]
  },
  {
   "cell_type": "code",
   "execution_count": 31,
   "id": "e220644f",
   "metadata": {},
   "outputs": [],
   "source": [
    "p1 = Person(\"yadav\", \"sachin\", \"9782131159\", [\"SachiNyadaV3496@gmail.com\", \"SACHIN@grras.com\"])\n",
    "p2 = Person(\"goyal\", \"rajat\", \"1234567890\", \"rajat.goyal@grras.com\")"
   ]
  },
  {
   "cell_type": "code",
   "execution_count": 32,
   "id": "841b520e",
   "metadata": {},
   "outputs": [
    {
     "name": "stdout",
     "output_type": "stream",
     "text": [
      "Yadav, Sachin -- Phone Number: 9782131159 --Email Addres(es): sachinyadav3496@gmail.com, sachin@grras.com\n",
      "Goyal, Rajat -- Phone Number: 1234567890 --Email Addres(es): rajat.goyal@grras.com\n"
     ]
    }
   ],
   "source": [
    "print(p1)\n",
    "print(p2)"
   ]
  },
  {
   "cell_type": "code",
   "execution_count": 27,
   "id": "9190deb5",
   "metadata": {},
   "outputs": [],
   "source": [
    "data = [ \"12345\", \"445777\", \"34577\"]"
   ]
  },
  {
   "cell_type": "code",
   "execution_count": 29,
   "id": "4d905391",
   "metadata": {},
   "outputs": [
    {
     "data": {
      "text/plain": [
       "'12345, 445777, 34577'"
      ]
     },
     "execution_count": 29,
     "metadata": {},
     "output_type": "execute_result"
    }
   ],
   "source": [
    "\", \".join(data)"
   ]
  },
  {
   "cell_type": "markdown",
   "id": "76cb9f56",
   "metadata": {},
   "source": [
    "    phone number -> \"String\"\n",
    "\n",
    "    Phone number -> [ph1 ph2]\n",
    "    \n",
    "    email --> \"string\"\n",
    "    \n",
    "           --> list"
   ]
  },
  {
   "cell_type": "code",
   "execution_count": 12,
   "id": "f0f887fa",
   "metadata": {},
   "outputs": [
    {
     "name": "stdout",
     "output_type": "stream",
     "text": [
      "list\n"
     ]
    }
   ],
   "source": [
    "x = [1, 2]\n",
    "\n",
    "if type(x) is list:\n",
    "    print('list')\n",
    "else:\n",
    "    print(\"other type\")"
   ]
  },
  {
   "cell_type": "code",
   "execution_count": 98,
   "id": "719c003d",
   "metadata": {},
   "outputs": [],
   "source": [
    "class Person:\n",
    "    def __init__(self, lastname, firstname, ph_no, email):\n",
    "        if type(ph_no) is str: # \"123455\"\n",
    "            ph_no = [ ph_no, ] # [ \"123455\" ]\n",
    "        if type(email) is str: # \"sachin@gmail.com\"\n",
    "            email = [ email ] # [ \"sachin@gmail.com\"]\n",
    "        \n",
    "        email = [ str.lower(mail) for mail in email ]\n",
    "        self.last_name = lastname.strip().title()\n",
    "        self.first_name = firstname.strip().title()\n",
    "        self.phone = ph_no\n",
    "        self.email = email\n",
    "#     def __repr__(self):\n",
    "#         return f\"Person(\\\"{self.first_name}\\\")\"\n",
    "    def __str__(self):\n",
    "        email = \", \".join(self.email)\n",
    "        ph_no = \", \".join(self.phone)\n",
    "        return  f\"{self.last_name:>10}, {self.first_name:<10} -- Phone Number: {ph_no} \\\n",
    "--Email Addres(es): {email}\""
   ]
  },
  {
   "cell_type": "code",
   "execution_count": 108,
   "id": "70d06e03",
   "metadata": {},
   "outputs": [
    {
     "data": {
      "text/plain": [
       "True"
      ]
     },
     "execution_count": 108,
     "metadata": {},
     "output_type": "execute_result"
    }
   ],
   "source": [
    "all([ 14>5, 6<7, 5==5])"
   ]
  },
  {
   "cell_type": "code",
   "execution_count": null,
   "id": "15e96015",
   "metadata": {},
   "outputs": [],
   "source": []
  },
  {
   "cell_type": "code",
   "execution_count": 109,
   "id": "e901825e",
   "metadata": {},
   "outputs": [],
   "source": [
    "class AddressBook:\n",
    "    def __init__(self):\n",
    "        self.contacts = []\n",
    "    def add_person(self, person):\n",
    "        self.contacts.append(person)\n",
    "    def show_all(self):\n",
    "        for person in self.contacts:\n",
    "            print(person)\n",
    "    def lookup_contact(self, lastname, firstname=None):\n",
    "        if firstname is None:\n",
    "            # search based on last name\n",
    "            for person in self.contacts:\n",
    "                if person.last_name.lower() == lastname.lower().strip():\n",
    "                    print(person)\n",
    "        else:\n",
    "            for person in self.contacts:\n",
    "                cond = [\n",
    "                    person.first_name.lower() == firstname.strip().lower(),\n",
    "                    person.last_name.lower() == lastname.strip().lower()\n",
    "                ]\n",
    "                if all(cond):\n",
    "                    print(person)\n",
    "            # search based on first and last name both\n",
    "    "
   ]
  },
  {
   "cell_type": "code",
   "execution_count": 110,
   "id": "321883ee",
   "metadata": {},
   "outputs": [],
   "source": [
    "a = AddressBook()\n",
    "p1 = Person(\"yadav\", \"sachin\", \"9782131159\", [\"SachiNyadaV3496@gmail.com\", \"SACHIN@grras.com\"])\n",
    "p2 = Person(\"goyal\", \"rajat\", \"1234567890\", \"rajat.goyal@grras.com\")"
   ]
  },
  {
   "cell_type": "code",
   "execution_count": 111,
   "id": "75fff811",
   "metadata": {},
   "outputs": [],
   "source": [
    "a.add_person(p1)\n",
    "a.add_person(p2)\n",
    "\n",
    "a.add_person(Person(\"yadav\", \"rahul\", \"12335445\", \"rahul@gmail.com\"))\n",
    "\n",
    "a.add_person(Person(\"yadav\", \"ram\", \"4657544\", [\"ram@gmail.com\", \"ramyadav@gmail.com\"]))\n",
    "\n",
    "a.add_person(Person(\"goyal\", \"ayush\", \"3985465\", \"ayush@grras.com\"))"
   ]
  },
  {
   "cell_type": "code",
   "execution_count": 115,
   "id": "2c24ed7c",
   "metadata": {},
   "outputs": [
    {
     "data": {
      "text/plain": [
       "[<__main__.Person at 0x1fd3f306ac0>,\n",
       " <__main__.Person at 0x1fd3f306040>,\n",
       " <__main__.Person at 0x1fd3f306ee0>,\n",
       " <__main__.Person at 0x1fd3f306280>,\n",
       " <__main__.Person at 0x1fd3f306e20>]"
      ]
     },
     "execution_count": 115,
     "metadata": {},
     "output_type": "execute_result"
    }
   ],
   "source": [
    "a.contacts"
   ]
  },
  {
   "cell_type": "code",
   "execution_count": 116,
   "id": "76da801d",
   "metadata": {},
   "outputs": [
    {
     "name": "stdout",
     "output_type": "stream",
     "text": [
      "     Yadav, Sachin     -- Phone Number: 9782131159 --Email Addres(es): sachinyadav3496@gmail.com, sachin@grras.com\n",
      "     Goyal, Rajat      -- Phone Number: 1234567890 --Email Addres(es): rajat.goyal@grras.com\n",
      "     Yadav, Rahul      -- Phone Number: 12335445 --Email Addres(es): rahul@gmail.com\n",
      "     Yadav, Ram        -- Phone Number: 4657544 --Email Addres(es): ram@gmail.com, ramyadav@gmail.com\n",
      "     Goyal, Ayush      -- Phone Number: 3985465 --Email Addres(es): ayush@grras.com\n"
     ]
    }
   ],
   "source": [
    "a.show_all()"
   ]
  },
  {
   "cell_type": "code",
   "execution_count": 117,
   "id": "514efe28",
   "metadata": {},
   "outputs": [
    {
     "name": "stdout",
     "output_type": "stream",
     "text": [
      "     Yadav, Sachin     -- Phone Number: 9782131159 --Email Addres(es): sachinyadav3496@gmail.com, sachin@grras.com\n",
      "     Yadav, Rahul      -- Phone Number: 12335445 --Email Addres(es): rahul@gmail.com\n",
      "     Yadav, Ram        -- Phone Number: 4657544 --Email Addres(es): ram@gmail.com, ramyadav@gmail.com\n"
     ]
    }
   ],
   "source": [
    "a.lookup_contact(\"yadav\")"
   ]
  },
  {
   "cell_type": "code",
   "execution_count": 118,
   "id": "c62ebd56",
   "metadata": {},
   "outputs": [
    {
     "name": "stdout",
     "output_type": "stream",
     "text": [
      "     Goyal, Rajat      -- Phone Number: 1234567890 --Email Addres(es): rajat.goyal@grras.com\n",
      "     Goyal, Ayush      -- Phone Number: 3985465 --Email Addres(es): ayush@grras.com\n"
     ]
    }
   ],
   "source": [
    "a.lookup_contact(\"goyal\")"
   ]
  },
  {
   "cell_type": "code",
   "execution_count": 119,
   "id": "c85b093f",
   "metadata": {},
   "outputs": [
    {
     "name": "stdout",
     "output_type": "stream",
     "text": [
      "     Yadav, Sachin     -- Phone Number: 9782131159 --Email Addres(es): sachinyadav3496@gmail.com, sachin@grras.com\n"
     ]
    }
   ],
   "source": [
    "a.lookup_contact(\"yadav\", \"sachin\")"
   ]
  },
  {
   "cell_type": "code",
   "execution_count": 120,
   "id": "1a712cec",
   "metadata": {},
   "outputs": [],
   "source": [
    "a.lookup_contact(\"yadav\", \"nitesh\")"
   ]
  },
  {
   "cell_type": "code",
   "execution_count": 121,
   "id": "b2db4d17",
   "metadata": {},
   "outputs": [],
   "source": [
    "class Person:\n",
    "    def __init__(self, lastname, firstname, ph_no, email):\n",
    "        if type(ph_no) is str: # \"123455\"\n",
    "            ph_no = [ ph_no, ] # [ \"123455\" ]\n",
    "        if type(email) is str: # \"sachin@gmail.com\"\n",
    "            email = [ email ] # [ \"sachin@gmail.com\"]\n",
    "        \n",
    "        email = [ str.lower(mail) for mail in email ]\n",
    "        self.last_name = lastname.strip().title()\n",
    "        self.first_name = firstname.strip().title()\n",
    "        self.phone = ph_no\n",
    "        self.email = email\n",
    "#     def __repr__(self):\n",
    "#         return f\"Person(\\\"{self.first_name}\\\")\"\n",
    "    def __str__(self):\n",
    "        email = \", \".join(self.email)\n",
    "        ph_no = \", \".join(self.phone)\n",
    "        return  f\"{self.last_name:>10}, {self.first_name:<10} -- Phone Number: {ph_no} \\\n",
    "--Email Addres(es): {email}\""
   ]
  },
  {
   "cell_type": "code",
   "execution_count": 122,
   "id": "cd81387c",
   "metadata": {},
   "outputs": [],
   "source": [
    "d = {'goyal': [\"rajat\"]}"
   ]
  },
  {
   "cell_type": "code",
   "execution_count": 123,
   "id": "cd369e3c",
   "metadata": {},
   "outputs": [],
   "source": [
    "d[\"goyal\"] = [\"sachin\"]"
   ]
  },
  {
   "cell_type": "code",
   "execution_count": 124,
   "id": "f94322d7",
   "metadata": {},
   "outputs": [
    {
     "name": "stdout",
     "output_type": "stream",
     "text": [
      "{'goyal': ['sachin']}\n"
     ]
    }
   ],
   "source": [
    "print(d)"
   ]
  },
  {
   "cell_type": "code",
   "execution_count": 1,
   "id": "db9187a7",
   "metadata": {},
   "outputs": [],
   "source": [
    "class Person:\n",
    "    def __init__(self, lastname, firstname, ph_no, email):\n",
    "        if type(ph_no) is str: # \"123455\"\n",
    "            ph_no = [ ph_no, ] # [ \"123455\" ]\n",
    "        if type(email) is str: # \"sachin@gmail.com\"\n",
    "            email = [ email ] # [ \"sachin@gmail.com\"]\n",
    "        \n",
    "        email = [ str.lower(mail) for mail in email ]\n",
    "        self.last_name = lastname.strip().title()\n",
    "        self.first_name = firstname.strip().title()\n",
    "        self.phone = ph_no\n",
    "        self.email = email\n",
    "#     def __repr__(self):\n",
    "#         return f\"Person(\\\"{self.first_name}\\\")\"\n",
    "    def __str__(self):\n",
    "        email = \", \".join(self.email)\n",
    "        ph_no = \", \".join(self.phone)\n",
    "        return  f\"{self.last_name:>10}, {self.first_name:<10} -- Phone Number: {ph_no} \\\n",
    "--Email Addres(es): {email}\""
   ]
  },
  {
   "cell_type": "code",
   "execution_count": 23,
   "id": "1b2cb611",
   "metadata": {},
   "outputs": [],
   "source": [
    "class AddressBook:\n",
    "    def __init__(self):\n",
    "        self.contacts = {}\n",
    "    def add_person(self, person):\n",
    "        if person.last_name.lower() in self.contacts.keys():\n",
    "            self.contacts[person.last_name.lower()].append(person)\n",
    "        else:\n",
    "            self.contacts[person.last_name.lower()] = [person]\n",
    "            \n",
    "    def show_all(self):\n",
    "        for lst in self.contacts.values():\n",
    "            for person in lst:\n",
    "                print(person)\n",
    "    def lookup_contact(self, lastname, firstname=None):\n",
    "        # search based on first and last name both\n",
    "        contacts = self.contacts.get(lastname.strip().lower())\n",
    "        if contacts:\n",
    "            for person in contacts:\n",
    "                if firstname != None:\n",
    "                    if person.first_name.lower() == firstname.lower().strip():\n",
    "                        print(person)\n",
    "                else:\n",
    "                    print(person)\n",
    "    "
   ]
  },
  {
   "cell_type": "code",
   "execution_count": 24,
   "id": "2019d7ba",
   "metadata": {},
   "outputs": [],
   "source": [
    "a = AddressBook()\n",
    "p1 = Person(\"yadav\", \"sachin\", \"9782131159\", [\"SachiNyadaV3496@gmail.com\", \"SACHIN@grras.com\"])\n",
    "p2 = Person(\"goyal\", \"rajat\", \"1234567890\", \"rajat.goyal@grras.com\")"
   ]
  },
  {
   "cell_type": "code",
   "execution_count": 25,
   "id": "06c14b7a",
   "metadata": {},
   "outputs": [],
   "source": [
    "a.add_person(p1)\n",
    "a.add_person(p2)\n",
    "\n",
    "a.add_person(Person(\"yadav\", \"rahul\", \"12335445\", \"rahul@gmail.com\"))\n",
    "\n",
    "a.add_person(Person(\"yadav\", \"ram\", \"4657544\", [\"ram@gmail.com\", \"ramyadav@gmail.com\"]))\n",
    "\n",
    "a.add_person(Person(\"goyal\", \"ayush\", \"3985465\", \"ayush@grras.com\"))"
   ]
  },
  {
   "cell_type": "code",
   "execution_count": 26,
   "id": "f0c02201",
   "metadata": {},
   "outputs": [
    {
     "name": "stdout",
     "output_type": "stream",
     "text": [
      "     Yadav, Sachin     -- Phone Number: 9782131159 --Email Addres(es): sachinyadav3496@gmail.com, sachin@grras.com\n",
      "     Yadav, Rahul      -- Phone Number: 12335445 --Email Addres(es): rahul@gmail.com\n",
      "     Yadav, Ram        -- Phone Number: 4657544 --Email Addres(es): ram@gmail.com, ramyadav@gmail.com\n",
      "     Goyal, Rajat      -- Phone Number: 1234567890 --Email Addres(es): rajat.goyal@grras.com\n",
      "     Goyal, Ayush      -- Phone Number: 3985465 --Email Addres(es): ayush@grras.com\n"
     ]
    }
   ],
   "source": [
    "a.show_all()"
   ]
  },
  {
   "cell_type": "code",
   "execution_count": 27,
   "id": "86943114",
   "metadata": {},
   "outputs": [
    {
     "name": "stdout",
     "output_type": "stream",
     "text": [
      "     Yadav, Sachin     -- Phone Number: 9782131159 --Email Addres(es): sachinyadav3496@gmail.com, sachin@grras.com\n",
      "     Yadav, Rahul      -- Phone Number: 12335445 --Email Addres(es): rahul@gmail.com\n",
      "     Yadav, Ram        -- Phone Number: 4657544 --Email Addres(es): ram@gmail.com, ramyadav@gmail.com\n"
     ]
    }
   ],
   "source": [
    "a.lookup_contact(\"yadav\")"
   ]
  },
  {
   "cell_type": "code",
   "execution_count": 28,
   "id": "42bbdfcf",
   "metadata": {},
   "outputs": [
    {
     "name": "stdout",
     "output_type": "stream",
     "text": [
      "     Goyal, Rajat      -- Phone Number: 1234567890 --Email Addres(es): rajat.goyal@grras.com\n",
      "     Goyal, Ayush      -- Phone Number: 3985465 --Email Addres(es): ayush@grras.com\n"
     ]
    }
   ],
   "source": [
    "a.lookup_contact(\"goyal\")"
   ]
  },
  {
   "cell_type": "code",
   "execution_count": 29,
   "id": "d8aa7ace",
   "metadata": {},
   "outputs": [
    {
     "name": "stdout",
     "output_type": "stream",
     "text": [
      "     Goyal, Rajat      -- Phone Number: 1234567890 --Email Addres(es): rajat.goyal@grras.com\n"
     ]
    }
   ],
   "source": [
    "a.lookup_contact(\"goyal\", \"rajat\")"
   ]
  },
  {
   "cell_type": "code",
   "execution_count": null,
   "id": "d5dffaa1",
   "metadata": {},
   "outputs": [],
   "source": []
  }
 ],
 "metadata": {
  "kernelspec": {
   "display_name": "Python 3 (ipykernel)",
   "language": "python",
   "name": "python3"
  },
  "language_info": {
   "codemirror_mode": {
    "name": "ipython",
    "version": 3
   },
   "file_extension": ".py",
   "mimetype": "text/x-python",
   "name": "python",
   "nbconvert_exporter": "python",
   "pygments_lexer": "ipython3",
   "version": "3.9.13"
  }
 },
 "nbformat": 4,
 "nbformat_minor": 5
}
