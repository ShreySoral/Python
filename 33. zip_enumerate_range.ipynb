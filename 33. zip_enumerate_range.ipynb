{
 "cells": [
  {
   "cell_type": "markdown",
   "id": "b3221c19",
   "metadata": {},
   "source": [
    "### For Loop\n",
    "      used for iteration purpose"
   ]
  },
  {
   "cell_type": "code",
   "execution_count": 1,
   "id": "c74ccef0",
   "metadata": {},
   "outputs": [
    {
     "name": "stdout",
     "output_type": "stream",
     "text": [
      "[20, 50, 90, 30, 100]\n",
      "290\n"
     ]
    }
   ],
   "source": [
    "data =[20,50,90,30,100]\n",
    "s=0\n",
    "for item in data:\n",
    "    s+=item\n",
    "print(data)\n",
    "print(s)"
   ]
  },
  {
   "cell_type": "code",
   "execution_count": 3,
   "id": "ec852712",
   "metadata": {},
   "outputs": [],
   "source": [
    "d={\n",
    "    \"name\":\"python\",\n",
    "    \"father\":\"guido van rossum\",\n",
    "    \"version\":\"3.10.9\",\n",
    "    \"website\":\"www.python.org\"\n",
    "}"
   ]
  },
  {
   "cell_type": "code",
   "execution_count": 7,
   "id": "b960f0fa",
   "metadata": {},
   "outputs": [
    {
     "name": "stdout",
     "output_type": "stream",
     "text": [
      "                name = python\n",
      "              father = guido van rossum\n",
      "             version = 3.10.9\n",
      "             website = www.python.org\n"
     ]
    }
   ],
   "source": [
    "for item in d:\n",
    "    print(f\"{item:>20} = {d[item]}\")"
   ]
  },
  {
   "cell_type": "code",
   "execution_count": 8,
   "id": "f8be992e",
   "metadata": {},
   "outputs": [
    {
     "data": {
      "text/plain": [
       "dict_keys(['name', 'father', 'version', 'website'])"
      ]
     },
     "execution_count": 8,
     "metadata": {},
     "output_type": "execute_result"
    }
   ],
   "source": [
    "d.keys()"
   ]
  },
  {
   "cell_type": "code",
   "execution_count": 9,
   "id": "c5259190",
   "metadata": {},
   "outputs": [
    {
     "data": {
      "text/plain": [
       "dict_values(['python', 'guido van rossum', '3.10.9', 'www.python.org'])"
      ]
     },
     "execution_count": 9,
     "metadata": {},
     "output_type": "execute_result"
    }
   ],
   "source": [
    "d.values()"
   ]
  },
  {
   "cell_type": "code",
   "execution_count": 10,
   "id": "57b5d08d",
   "metadata": {},
   "outputs": [
    {
     "data": {
      "text/plain": [
       "dict_items([('name', 'python'), ('father', 'guido van rossum'), ('version', '3.10.9'), ('website', 'www.python.org')])"
      ]
     },
     "execution_count": 10,
     "metadata": {},
     "output_type": "execute_result"
    }
   ],
   "source": [
    "d.items()"
   ]
  },
  {
   "cell_type": "code",
   "execution_count": 11,
   "id": "ab52051f",
   "metadata": {},
   "outputs": [],
   "source": [
    "from pprint import pprint"
   ]
  },
  {
   "cell_type": "code",
   "execution_count": 12,
   "id": "3ff81465",
   "metadata": {},
   "outputs": [
    {
     "name": "stdout",
     "output_type": "stream",
     "text": [
      "{'father': 'guido van rossum',\n",
      " 'name': 'python',\n",
      " 'version': '3.10.9',\n",
      " 'website': 'www.python.org'}\n"
     ]
    }
   ],
   "source": [
    "pprint(d)"
   ]
  },
  {
   "cell_type": "code",
   "execution_count": 17,
   "id": "3adc4813",
   "metadata": {},
   "outputs": [
    {
     "name": "stdout",
     "output_type": "stream",
     "text": [
      "python\n",
      "guido van rossum\n",
      "3.10.9\n",
      "www.python.org\n"
     ]
    }
   ],
   "source": [
    "for values in d.values():\n",
    "    print(values)"
   ]
  },
  {
   "cell_type": "code",
   "execution_count": 18,
   "id": "73319cfa",
   "metadata": {},
   "outputs": [
    {
     "name": "stdout",
     "output_type": "stream",
     "text": [
      "name \t\t\t python\n",
      "father \t\t\t guido van rossum\n",
      "version \t\t\t 3.10.9\n",
      "website \t\t\t www.python.org\n"
     ]
    }
   ],
   "source": [
    "for key in d.keys():\n",
    "    print(key, \"\\t\\t\\t\", d[key])"
   ]
  },
  {
   "cell_type": "code",
   "execution_count": 19,
   "id": "069168fb",
   "metadata": {},
   "outputs": [
    {
     "name": "stdout",
     "output_type": "stream",
     "text": [
      "name \t\t\t python\n",
      "father \t\t\t guido van rossum\n",
      "version \t\t\t 3.10.9\n",
      "website \t\t\t www.python.org\n"
     ]
    }
   ],
   "source": [
    "for key,value in d.items():\n",
    "    print(key, \"\\t\\t\\t\", d[key])"
   ]
  },
  {
   "cell_type": "code",
   "execution_count": 20,
   "id": "d0d99153",
   "metadata": {},
   "outputs": [],
   "source": [
    "s={1,24,2,3,2,32,32,4,2,3,2}"
   ]
  },
  {
   "cell_type": "code",
   "execution_count": 21,
   "id": "065b8da6",
   "metadata": {},
   "outputs": [
    {
     "name": "stdout",
     "output_type": "stream",
     "text": [
      "32\n",
      "1\n",
      "2\n",
      "3\n",
      "4\n",
      "24\n"
     ]
    }
   ],
   "source": [
    "for item in s:\n",
    "    print(item)"
   ]
  },
  {
   "cell_type": "markdown",
   "id": "2dfecb79",
   "metadata": {},
   "source": [
    "### For Loop\n",
    "    range()-> returns a sequence of numbers starting from 0 by default"
   ]
  },
  {
   "cell_type": "code",
   "execution_count": 23,
   "id": "ac0fe55e",
   "metadata": {},
   "outputs": [
    {
     "name": "stdout",
     "output_type": "stream",
     "text": [
      "spam foo alice\n"
     ]
    }
   ],
   "source": [
    "print(*{'spam':'ham','foo':'bar','alice':'bob'})"
   ]
  },
  {
   "cell_type": "code",
   "execution_count": 24,
   "id": "9d9c6512",
   "metadata": {},
   "outputs": [
    {
     "name": "stdout",
     "output_type": "stream",
     "text": [
      "range(0, 5) <class 'range'>\n"
     ]
    }
   ],
   "source": [
    "a=range(5)\n",
    "print(a,type(a))"
   ]
  },
  {
   "cell_type": "code",
   "execution_count": 25,
   "id": "835e419b",
   "metadata": {},
   "outputs": [
    {
     "name": "stdout",
     "output_type": "stream",
     "text": [
      "0 1 2 3 4 5 6 7 8 9\n"
     ]
    }
   ],
   "source": [
    "print(*range(10))"
   ]
  },
  {
   "cell_type": "code",
   "execution_count": 26,
   "id": "33d3d0a5",
   "metadata": {},
   "outputs": [
    {
     "name": "stdout",
     "output_type": "stream",
     "text": [
      "0 1 2 3 4 5 6 7 8 9 10 11 12 13 14 15 16 17 18 19\n"
     ]
    }
   ],
   "source": [
    "print(*range(20))"
   ]
  },
  {
   "cell_type": "code",
   "execution_count": 27,
   "id": "c23247d1",
   "metadata": {},
   "outputs": [
    {
     "name": "stdout",
     "output_type": "stream",
     "text": [
      "0 1 2 3 4\n"
     ]
    }
   ],
   "source": [
    "print(*range(5))"
   ]
  },
  {
   "cell_type": "code",
   "execution_count": 28,
   "id": "7f831adf",
   "metadata": {},
   "outputs": [],
   "source": [
    "d1={'spam':'ham','name':'sachin'}\n",
    "d2={'hi':'bye','hey':'hi'}"
   ]
  },
  {
   "cell_type": "code",
   "execution_count": 29,
   "id": "c47ba007",
   "metadata": {},
   "outputs": [
    {
     "name": "stdout",
     "output_type": "stream",
     "text": [
      "{'spam': 'ham', 'name': 'sachin', 'hi': 'bye', 'hey': 'hi'}\n"
     ]
    }
   ],
   "source": [
    "# double star does the iteration here\n",
    "d={**d1,**d2}\n",
    "print(d)"
   ]
  },
  {
   "cell_type": "markdown",
   "id": "2d921995",
   "metadata": {},
   "source": [
    "`range(end)` -generate number from 0 to end-1"
   ]
  },
  {
   "cell_type": "code",
   "execution_count": 30,
   "id": "13e1e3c3",
   "metadata": {},
   "outputs": [
    {
     "name": "stdout",
     "output_type": "stream",
     "text": [
      "[0, 1, 2, 3, 4]\n"
     ]
    }
   ],
   "source": [
    "nums=list(range(5))\n",
    "print(nums)"
   ]
  },
  {
   "cell_type": "code",
   "execution_count": 31,
   "id": "7c6b6c53",
   "metadata": {},
   "outputs": [
    {
     "data": {
      "text/plain": [
       "['h', 'e', 'l', 'l', 'o']"
      ]
     },
     "execution_count": 31,
     "metadata": {},
     "output_type": "execute_result"
    }
   ],
   "source": [
    "list(\"hello\")"
   ]
  },
  {
   "cell_type": "code",
   "execution_count": 32,
   "id": "dd02a776",
   "metadata": {},
   "outputs": [
    {
     "data": {
      "text/plain": [
       "['spam', 'name', 'hi', 'hey']"
      ]
     },
     "execution_count": 32,
     "metadata": {},
     "output_type": "execute_result"
    }
   ],
   "source": [
    "list({'spam': 'ham', 'name': 'sachin', 'hi': 'bye', 'hey': 'hi'})"
   ]
  },
  {
   "cell_type": "code",
   "execution_count": 33,
   "id": "10492c90",
   "metadata": {},
   "outputs": [
    {
     "name": "stdout",
     "output_type": "stream",
     "text": [
      "*\n",
      "**\n",
      "***\n",
      "****\n",
      "*****\n",
      "******\n",
      "*******\n",
      "********\n",
      "*********\n",
      "**********\n"
     ]
    }
   ],
   "source": [
    "for value in range(10):\n",
    "    print(\"*\"*(value+1))"
   ]
  },
  {
   "cell_type": "code",
   "execution_count": 42,
   "id": "10b381c6",
   "metadata": {},
   "outputs": [
    {
     "name": "stdout",
     "output_type": "stream",
     "text": [
      "******\n",
      "*******\n",
      "********\n",
      "*********\n",
      "**********\n",
      "***********\n",
      "************\n",
      "*************\n",
      "**************\n",
      "***************\n",
      "****************\n",
      "*****************\n",
      "******************\n",
      "*******************\n",
      "********************\n",
      "*********************\n",
      "**********************\n",
      "***********************\n",
      "************************\n",
      "*************************\n",
      "**************************\n",
      "***************************\n",
      "****************************\n",
      "*****************************\n",
      "******************************\n",
      "*******************************\n",
      "********************************\n",
      "*********************************\n",
      "**********************************\n",
      "***********************************\n"
     ]
    }
   ],
   "source": [
    "for value in range(30):\n",
    "    print(\"*\"*(value+3*2))"
   ]
  },
  {
   "cell_type": "markdown",
   "id": "e73801ef",
   "metadata": {},
   "source": [
    "`range(n)` - 0,1,2,3,...n-1"
   ]
  },
  {
   "cell_type": "code",
   "execution_count": 43,
   "id": "e1fa5805",
   "metadata": {},
   "outputs": [
    {
     "data": {
      "text/plain": [
       "[0, 1, 2, 3, 4, 5, 6, 7, 8, 9]"
      ]
     },
     "execution_count": 43,
     "metadata": {},
     "output_type": "execute_result"
    }
   ],
   "source": [
    "list(range(10))"
   ]
  },
  {
   "cell_type": "code",
   "execution_count": 44,
   "id": "0ab5161f",
   "metadata": {},
   "outputs": [
    {
     "data": {
      "text/plain": [
       "(0, 1, 2, 3, 4, 5, 6, 7, 8, 9)"
      ]
     },
     "execution_count": 44,
     "metadata": {},
     "output_type": "execute_result"
    }
   ],
   "source": [
    "tuple(range(10))"
   ]
  },
  {
   "cell_type": "code",
   "execution_count": 45,
   "id": "5e00eee0",
   "metadata": {},
   "outputs": [
    {
     "data": {
      "text/plain": [
       "{0, 1, 2, 3, 4, 5, 6, 7, 8, 9}"
      ]
     },
     "execution_count": 45,
     "metadata": {},
     "output_type": "execute_result"
    }
   ],
   "source": [
    "set(range(10))"
   ]
  },
  {
   "cell_type": "code",
   "execution_count": 46,
   "id": "72b21018",
   "metadata": {},
   "outputs": [
    {
     "name": "stdout",
     "output_type": "stream",
     "text": [
      "0 1 2 3 4 5 6 7 8 9\n"
     ]
    }
   ],
   "source": [
    "print(*range(10))"
   ]
  },
  {
   "cell_type": "code",
   "execution_count": 49,
   "id": "afd46ada",
   "metadata": {},
   "outputs": [
    {
     "name": "stdout",
     "output_type": "stream",
     "text": [
      "num: 3\n",
      "3\n",
      "6\n",
      "9\n",
      "12\n",
      "15\n",
      "18\n",
      "21\n",
      "24\n",
      "27\n",
      "30\n"
     ]
    }
   ],
   "source": [
    "num=int(input(\"num: \"))\n",
    "for c in range(10):\n",
    "    print((c+1)*num)"
   ]
  },
  {
   "cell_type": "markdown",
   "id": "f4c97668",
   "metadata": {},
   "source": [
    "`range(start,end)`- start,start+1,start+2...,end-1\n",
    "range(1,5) --> 1,2,3,4"
   ]
  },
  {
   "cell_type": "code",
   "execution_count": 51,
   "id": "640ddd33",
   "metadata": {},
   "outputs": [
    {
     "name": "stdout",
     "output_type": "stream",
     "text": [
      "21 22 23 24 25 26 27 28 29 30\n"
     ]
    }
   ],
   "source": [
    "print(*range(21,31))"
   ]
  },
  {
   "cell_type": "code",
   "execution_count": 52,
   "id": "e3525bae",
   "metadata": {},
   "outputs": [
    {
     "name": "stdout",
     "output_type": "stream",
     "text": [
      "\n"
     ]
    }
   ],
   "source": [
    "print(*range(10,1))"
   ]
  },
  {
   "cell_type": "code",
   "execution_count": 53,
   "id": "8f11648c",
   "metadata": {},
   "outputs": [
    {
     "name": "stdout",
     "output_type": "stream",
     "text": [
      "\n"
     ]
    }
   ],
   "source": [
    "print(*range(10,10))"
   ]
  },
  {
   "cell_type": "code",
   "execution_count": 54,
   "id": "142d9863",
   "metadata": {},
   "outputs": [
    {
     "name": "stdout",
     "output_type": "stream",
     "text": [
      "99\n"
     ]
    }
   ],
   "source": [
    "print(*range(99,100))"
   ]
  },
  {
   "cell_type": "code",
   "execution_count": 55,
   "id": "c1bd352b",
   "metadata": {},
   "outputs": [
    {
     "name": "stdout",
     "output_type": "stream",
     "text": [
      "1\n",
      "2\n",
      "3\n",
      "4\n",
      "5\n",
      "6\n",
      "7\n",
      "8\n",
      "9\n",
      "10\n"
     ]
    }
   ],
   "source": [
    "for i in range(1,11):\n",
    "    print(i)"
   ]
  },
  {
   "cell_type": "code",
   "execution_count": 63,
   "id": "b0228145",
   "metadata": {},
   "outputs": [
    {
     "name": "stdout",
     "output_type": "stream",
     "text": [
      "c boring\n",
      "c++ awesome\n",
      "python it is complex\n",
      "ruby super easy\n"
     ]
    },
    {
     "ename": "IndexError",
     "evalue": "list index out of range",
     "output_type": "error",
     "traceback": [
      "\u001b[1;31m---------------------------------------------------------------------------\u001b[0m",
      "\u001b[1;31mIndexError\u001b[0m                                Traceback (most recent call last)",
      "Input \u001b[1;32mIn [63]\u001b[0m, in \u001b[0;36m<cell line: 3>\u001b[1;34m()\u001b[0m\n\u001b[0;32m      2\u001b[0m des\u001b[38;5;241m=\u001b[39m[\u001b[38;5;124m\"\u001b[39m\u001b[38;5;124mboring\u001b[39m\u001b[38;5;124m\"\u001b[39m,\u001b[38;5;124m'\u001b[39m\u001b[38;5;124mawesome\u001b[39m\u001b[38;5;124m'\u001b[39m,\u001b[38;5;124m'\u001b[39m\u001b[38;5;124mit is complex\u001b[39m\u001b[38;5;124m'\u001b[39m,\u001b[38;5;124m'\u001b[39m\u001b[38;5;124msuper easy\u001b[39m\u001b[38;5;124m'\u001b[39m]\n\u001b[0;32m      3\u001b[0m \u001b[38;5;28;01mfor\u001b[39;00m i \u001b[38;5;129;01min\u001b[39;00m \u001b[38;5;28mrange\u001b[39m(\u001b[38;5;28mlen\u001b[39m(names)):\n\u001b[1;32m----> 4\u001b[0m     \u001b[38;5;28mprint\u001b[39m(\u001b[38;5;124mf\u001b[39m\u001b[38;5;124m\"\u001b[39m\u001b[38;5;132;01m{\u001b[39;00mnames[i]\u001b[38;5;132;01m}\u001b[39;00m\u001b[38;5;124m \u001b[39m\u001b[38;5;132;01m{\u001b[39;00mdes[i]\u001b[38;5;132;01m}\u001b[39;00m\u001b[38;5;124m\"\u001b[39m)\n",
      "\u001b[1;31mIndexError\u001b[0m: list index out of range"
     ]
    }
   ],
   "source": [
    "names=[\"c\",\"c++\",\"python\",'ruby','java']\n",
    "des=[\"boring\",'awesome','it is complex','super easy']\n",
    "for i in range(len(names)):\n",
    "    print(f\"{names[i]} {des[i]}\")"
   ]
  },
  {
   "cell_type": "code",
   "execution_count": 66,
   "id": "2ff5a458",
   "metadata": {},
   "outputs": [],
   "source": [
    "keys=['red','green','blue']\n",
    "values=['#FF000','#00FF0','#0000FF']"
   ]
  },
  {
   "cell_type": "code",
   "execution_count": 67,
   "id": "428ae138",
   "metadata": {},
   "outputs": [
    {
     "name": "stdout",
     "output_type": "stream",
     "text": [
      "{'red': '#FF000', 'green': '#00FF0', 'blue': '#0000FF'}\n"
     ]
    }
   ],
   "source": [
    "d={}\n",
    "for i in range(len(keys)):\n",
    "    k=keys[i]\n",
    "    v=values[i]\n",
    "    d[k]=v\n",
    "print(d)"
   ]
  },
  {
   "cell_type": "code",
   "execution_count": 68,
   "id": "14151e32",
   "metadata": {},
   "outputs": [],
   "source": [
    "# alternative\n",
    "# dict(zip(keys,values))"
   ]
  },
  {
   "cell_type": "markdown",
   "id": "530bc07c",
   "metadata": {},
   "source": [
    "`range(start,end,step)` - \n",
    "        start,start+step,start+2*step,start+3*step,...end-1"
   ]
  },
  {
   "cell_type": "code",
   "execution_count": 69,
   "id": "13d18788",
   "metadata": {},
   "outputs": [
    {
     "name": "stdout",
     "output_type": "stream",
     "text": [
      "1 3 5 7 9\n"
     ]
    }
   ],
   "source": [
    "print(*range(1,11,2))"
   ]
  },
  {
   "cell_type": "code",
   "execution_count": 72,
   "id": "ec1626b4",
   "metadata": {},
   "outputs": [
    {
     "name": "stdout",
     "output_type": "stream",
     "text": [
      "num: 6\n",
      "6\n",
      "12\n",
      "18\n",
      "24\n",
      "30\n",
      "36\n",
      "42\n",
      "48\n",
      "54\n",
      "60\n"
     ]
    }
   ],
   "source": [
    "num=int(input(\"num: \"))\n",
    "print(*range(num,num*11,num), sep=\"\\n\")\n",
    "# range(5,55,5) 5,10,15,20,25....,60"
   ]
  },
  {
   "cell_type": "code",
   "execution_count": 73,
   "id": "685fee2f",
   "metadata": {},
   "outputs": [
    {
     "name": "stdout",
     "output_type": "stream",
     "text": [
      "10 9 8 7 6 5 4 3 2 1\n"
     ]
    }
   ],
   "source": [
    "print(*range(10,0,-1))"
   ]
  },
  {
   "cell_type": "code",
   "execution_count": 74,
   "id": "bc000023",
   "metadata": {},
   "outputs": [
    {
     "name": "stdout",
     "output_type": "stream",
     "text": [
      "\n"
     ]
    }
   ],
   "source": [
    "print(*range(10,0))"
   ]
  },
  {
   "cell_type": "code",
   "execution_count": 75,
   "id": "f21cb4e5",
   "metadata": {},
   "outputs": [
    {
     "name": "stdout",
     "output_type": "stream",
     "text": [
      "10\n",
      "9\n",
      "8\n",
      "7\n",
      "6\n",
      "5\n",
      "4\n",
      "3\n",
      "2\n",
      "1\n"
     ]
    }
   ],
   "source": [
    "for v in range(10,0,-1):\n",
    "    print(v)"
   ]
  },
  {
   "cell_type": "code",
   "execution_count": 79,
   "id": "a7300cb8",
   "metadata": {},
   "outputs": [
    {
     "name": "stdout",
     "output_type": "stream",
     "text": [
      "**********\n",
      " *********\n",
      "  ********\n",
      "   *******\n",
      "    ******\n",
      "     *****\n",
      "      ****\n",
      "       ***\n",
      "        **\n",
      "         *\n"
     ]
    }
   ],
   "source": [
    "for i in range(10,0,-1):\n",
    "    print((\"*\"*i).rjust(10))"
   ]
  },
  {
   "cell_type": "code",
   "execution_count": 83,
   "id": "4ced7e51",
   "metadata": {},
   "outputs": [
    {
     "name": "stdout",
     "output_type": "stream",
     "text": [
      "         **\n",
      "        ****\n",
      "       ******\n",
      "      ********\n",
      "     **********\n",
      "    ************\n",
      "   **************\n",
      "  ****************\n",
      " ******************\n",
      "********************\n"
     ]
    }
   ],
   "source": [
    "for v in range(1,11):\n",
    "    print((\"*\"*v).rjust(10),end=\"\")\n",
    "    print(\"*\"*v)"
   ]
  },
  {
   "cell_type": "code",
   "execution_count": 84,
   "id": "67d046ee",
   "metadata": {},
   "outputs": [
    {
     "name": "stdout",
     "output_type": "stream",
     "text": [
      "         *\n",
      "        ***\n",
      "       *****\n",
      "      *******\n",
      "     *********\n",
      "    ***********\n",
      "   *************\n",
      "  ***************\n",
      " *****************\n",
      "*******************\n"
     ]
    }
   ],
   "source": [
    "for v in range(1,11):\n",
    "    print((\"*\"*v).rjust(10),end=\"\")\n",
    "    print(\"*\"*(v-1))"
   ]
  },
  {
   "cell_type": "code",
   "execution_count": 86,
   "id": "07da7d68",
   "metadata": {},
   "outputs": [
    {
     "name": "stdout",
     "output_type": "stream",
     "text": [
      "---------*---------\n",
      "--------***--------\n",
      "-------*****-------\n",
      "------*******------\n",
      "-----*********-----\n",
      "----***********----\n",
      "---*************---\n",
      "--***************--\n",
      "-*****************-\n",
      "*******************\n"
     ]
    }
   ],
   "source": [
    "for v in range(1,11):\n",
    "    print((\"*\"*v).rjust(10,'-'),end=\"\")\n",
    "    print((\"*\"*(v-1)).ljust(9,'-'))"
   ]
  },
  {
   "cell_type": "code",
   "execution_count": 88,
   "id": "b37321e5",
   "metadata": {},
   "outputs": [
    {
     "data": {
      "text/plain": [
       "'hello hello hello hello hello '"
      ]
     },
     "execution_count": 88,
     "metadata": {},
     "output_type": "execute_result"
    }
   ],
   "source": [
    "\"hello \"*5"
   ]
  },
  {
   "cell_type": "code",
   "execution_count": null,
   "id": "939aff54",
   "metadata": {},
   "outputs": [],
   "source": []
  }
 ],
 "metadata": {
  "kernelspec": {
   "display_name": "Python 3 (ipykernel)",
   "language": "python",
   "name": "python3"
  },
  "language_info": {
   "codemirror_mode": {
    "name": "ipython",
    "version": 3
   },
   "file_extension": ".py",
   "mimetype": "text/x-python",
   "name": "python",
   "nbconvert_exporter": "python",
   "pygments_lexer": "ipython3",
   "version": "3.10.5"
  }
 },
 "nbformat": 4,
 "nbformat_minor": 5
}
