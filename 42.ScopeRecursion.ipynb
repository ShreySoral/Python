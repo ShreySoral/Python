{
 "cells": [
  {
   "cell_type": "code",
   "execution_count": 16,
   "id": "d8e45e2f",
   "metadata": {},
   "outputs": [],
   "source": [
    "def hello():\n",
    "    data = [1, 2, 3, 4] # function's local varible\n",
    "    info = {'name': 'sachin', 'age': 26} # function's local varialbe\n",
    "    print(data, id(data))\n",
    "    print(info, id(data))\n",
    "    "
   ]
  },
  {
   "cell_type": "code",
   "execution_count": 21,
   "id": "7082447c",
   "metadata": {},
   "outputs": [
    {
     "name": "stdout",
     "output_type": "stream",
     "text": [
      "[1, 2, 3, 4] 1297558365440\n",
      "{'name': 'sachin', 'age': 26} 1297558365440\n"
     ]
    }
   ],
   "source": [
    "hello()"
   ]
  },
  {
   "cell_type": "code",
   "execution_count": 6,
   "id": "97f1c2ac",
   "metadata": {},
   "outputs": [
    {
     "ename": "NameError",
     "evalue": "name 'info' is not defined",
     "output_type": "error",
     "traceback": [
      "\u001b[1;31m---------------------------------------------------------------------------\u001b[0m",
      "\u001b[1;31mNameError\u001b[0m                                 Traceback (most recent call last)",
      "Input \u001b[1;32mIn [6]\u001b[0m, in \u001b[0;36m<cell line: 1>\u001b[1;34m()\u001b[0m\n\u001b[1;32m----> 1\u001b[0m \u001b[38;5;28mprint\u001b[39m(\u001b[43minfo\u001b[49m)\n",
      "\u001b[1;31mNameError\u001b[0m: name 'info' is not defined"
     ]
    }
   ],
   "source": [
    "print(info) # ? "
   ]
  },
  {
   "cell_type": "code",
   "execution_count": 15,
   "id": "d6c31db7",
   "metadata": {},
   "outputs": [
    {
     "name": "stdout",
     "output_type": "stream",
     "text": [
      "before x is  10\n",
      "200\n",
      "after x is  10\n"
     ]
    }
   ],
   "source": [
    "x = 10\n",
    "def func(x):\n",
    "    x = x * 20\n",
    "    print(x)  \n",
    "print(\"before x is \", x)\n",
    "func(x)\n",
    "print(\"after x is \", x)\n"
   ]
  },
  {
   "cell_type": "code",
   "execution_count": 23,
   "id": "88140307",
   "metadata": {},
   "outputs": [
    {
     "name": "stdout",
     "output_type": "stream",
     "text": [
      "before x is  10\n",
      "200\n",
      "after x is  10\n"
     ]
    }
   ],
   "source": [
    "x = 10\n",
    "def func():\n",
    "    print(x * 20) # global x\n",
    "print(\"before x is \", x)\n",
    "func()\n",
    "print(\"after x is \", x)"
   ]
  },
  {
   "cell_type": "code",
   "execution_count": null,
   "id": "4901aaf8",
   "metadata": {},
   "outputs": [],
   "source": [
    "x = 10\n",
    "x+20\n",
    "print(x)"
   ]
  },
  {
   "cell_type": "code",
   "execution_count": 27,
   "id": "81d31b39",
   "metadata": {},
   "outputs": [
    {
     "name": "stdout",
     "output_type": "stream",
     "text": [
      "hello world!\n"
     ]
    }
   ],
   "source": [
    "s = \"Hello World!\"\n",
    "\n",
    "s = s.lower()\n",
    "# s = \"hello world!\"\n",
    "print(s)"
   ]
  },
  {
   "cell_type": "code",
   "execution_count": 26,
   "id": "bd64416a",
   "metadata": {},
   "outputs": [
    {
     "name": "stdout",
     "output_type": "stream",
     "text": [
      "Hello World!\n"
     ]
    }
   ],
   "source": [
    "s = \"Hello World!\"\n",
    "\n",
    "s.lower()\n",
    "# \"hello world!\"\n",
    "print(s)"
   ]
  },
  {
   "cell_type": "code",
   "execution_count": 25,
   "id": "b3845003",
   "metadata": {},
   "outputs": [
    {
     "name": "stdout",
     "output_type": "stream",
     "text": [
      "before x is  10\n",
      "200\n",
      "after x is  10\n"
     ]
    }
   ],
   "source": [
    "x = 10\n",
    "def func(x):\n",
    "    print(x * 20)\n",
    "    return x*10\n",
    "print(\"before x is \", x)\n",
    "func(x)\n",
    "print(\"after x is \", x)"
   ]
  },
  {
   "cell_type": "code",
   "execution_count": 28,
   "id": "bd6742c4",
   "metadata": {},
   "outputs": [
    {
     "name": "stdout",
     "output_type": "stream",
     "text": [
      "before x is  10\n",
      "200\n",
      "after x is  10\n",
      "value of p is  100\n"
     ]
    }
   ],
   "source": [
    "x = 10\n",
    "def func(x):\n",
    "    print(x * 20)\n",
    "    return x*10\n",
    "print(\"before x is \", x)\n",
    "p = func(x)\n",
    "print(\"after x is \", x)\n",
    "print(\"value of p is \", p)"
   ]
  },
  {
   "cell_type": "code",
   "execution_count": 29,
   "id": "1bc97c82",
   "metadata": {},
   "outputs": [
    {
     "name": "stdout",
     "output_type": "stream",
     "text": [
      "before x is  10\n",
      "200\n",
      "after x is  100\n"
     ]
    }
   ],
   "source": [
    "x = 10\n",
    "def func(x):\n",
    "    print(x * 20)\n",
    "    return x*10\n",
    "print(\"before x is \", x)\n",
    "x = func(x)\n",
    "print(\"after x is \", x)\n"
   ]
  },
  {
   "cell_type": "markdown",
   "id": "7fa66577",
   "metadata": {},
   "source": [
    "**Note** we can access global variables inside local scope but we can not change them directly |"
   ]
  },
  {
   "cell_type": "code",
   "execution_count": 30,
   "id": "2edc3305",
   "metadata": {},
   "outputs": [
    {
     "name": "stdout",
     "output_type": "stream",
     "text": [
      "before x is  20\n"
     ]
    },
    {
     "ename": "UnboundLocalError",
     "evalue": "local variable 'x' referenced before assignment",
     "output_type": "error",
     "traceback": [
      "\u001b[1;31m---------------------------------------------------------------------------\u001b[0m",
      "\u001b[1;31mUnboundLocalError\u001b[0m                         Traceback (most recent call last)",
      "Input \u001b[1;32mIn [30]\u001b[0m, in \u001b[0;36m<cell line: 8>\u001b[1;34m()\u001b[0m\n\u001b[0;32m      5\u001b[0m x \u001b[38;5;241m=\u001b[39m \u001b[38;5;241m20\u001b[39m\n\u001b[0;32m      7\u001b[0m \u001b[38;5;28mprint\u001b[39m(\u001b[38;5;124m\"\u001b[39m\u001b[38;5;124mbefore x is \u001b[39m\u001b[38;5;124m\"\u001b[39m, x)\n\u001b[1;32m----> 8\u001b[0m \u001b[43mfunc\u001b[49m\u001b[43m(\u001b[49m\u001b[43m)\u001b[49m\n\u001b[0;32m      9\u001b[0m \u001b[38;5;28mprint\u001b[39m(\u001b[38;5;124m\"\u001b[39m\u001b[38;5;124mafter x is \u001b[39m\u001b[38;5;124m\"\u001b[39m, x)\n",
      "Input \u001b[1;32mIn [30]\u001b[0m, in \u001b[0;36mfunc\u001b[1;34m()\u001b[0m\n\u001b[0;32m      1\u001b[0m \u001b[38;5;28;01mdef\u001b[39;00m \u001b[38;5;21mfunc\u001b[39m():\n\u001b[1;32m----> 2\u001b[0m     x \u001b[38;5;241m=\u001b[39m \u001b[43mx\u001b[49m \u001b[38;5;241m+\u001b[39m \u001b[38;5;241m10\u001b[39m\n\u001b[0;32m      3\u001b[0m     \u001b[38;5;28mprint\u001b[39m(\u001b[38;5;124m\"\u001b[39m\u001b[38;5;124minside x is \u001b[39m\u001b[38;5;124m\"\u001b[39m, x)\n",
      "\u001b[1;31mUnboundLocalError\u001b[0m: local variable 'x' referenced before assignment"
     ]
    }
   ],
   "source": [
    "def func():\n",
    "    x = x + 10\n",
    "    print(\"inside x is \", x)\n",
    "    \n",
    "x = 20\n",
    "\n",
    "print(\"before x is \", x)\n",
    "func()\n",
    "print(\"after x is \", x)"
   ]
  },
  {
   "cell_type": "code",
   "execution_count": 31,
   "id": "093927a1",
   "metadata": {},
   "outputs": [
    {
     "ename": "NameError",
     "evalue": "name 'spam' is not defined",
     "output_type": "error",
     "traceback": [
      "\u001b[1;31m---------------------------------------------------------------------------\u001b[0m",
      "\u001b[1;31mNameError\u001b[0m                                 Traceback (most recent call last)",
      "Input \u001b[1;32mIn [31]\u001b[0m, in \u001b[0;36m<cell line: 1>\u001b[1;34m()\u001b[0m\n\u001b[1;32m----> 1\u001b[0m spam \u001b[38;5;241m=\u001b[39m \u001b[43mspam\u001b[49m \u001b[38;5;241m*\u001b[39m \u001b[38;5;241m100\u001b[39m\n\u001b[0;32m      3\u001b[0m \u001b[38;5;28mprint\u001b[39m(spam)\n",
      "\u001b[1;31mNameError\u001b[0m: name 'spam' is not defined"
     ]
    }
   ],
   "source": [
    "spam = spam * 100\n",
    "\n",
    "print(spam)"
   ]
  },
  {
   "cell_type": "code",
   "execution_count": 32,
   "id": "771ed5e6",
   "metadata": {},
   "outputs": [],
   "source": [
    "def func():\n",
    "    spam = spam * 100"
   ]
  },
  {
   "cell_type": "code",
   "execution_count": 33,
   "id": "606c519e",
   "metadata": {},
   "outputs": [
    {
     "ename": "UnboundLocalError",
     "evalue": "local variable 'spam' referenced before assignment",
     "output_type": "error",
     "traceback": [
      "\u001b[1;31m---------------------------------------------------------------------------\u001b[0m",
      "\u001b[1;31mUnboundLocalError\u001b[0m                         Traceback (most recent call last)",
      "Input \u001b[1;32mIn [33]\u001b[0m, in \u001b[0;36m<cell line: 1>\u001b[1;34m()\u001b[0m\n\u001b[1;32m----> 1\u001b[0m \u001b[43mfunc\u001b[49m\u001b[43m(\u001b[49m\u001b[43m)\u001b[49m\n",
      "Input \u001b[1;32mIn [32]\u001b[0m, in \u001b[0;36mfunc\u001b[1;34m()\u001b[0m\n\u001b[0;32m      1\u001b[0m \u001b[38;5;28;01mdef\u001b[39;00m \u001b[38;5;21mfunc\u001b[39m():\n\u001b[1;32m----> 2\u001b[0m     spam \u001b[38;5;241m=\u001b[39m \u001b[43mspam\u001b[49m \u001b[38;5;241m*\u001b[39m \u001b[38;5;241m100\u001b[39m\n",
      "\u001b[1;31mUnboundLocalError\u001b[0m: local variable 'spam' referenced before assignment"
     ]
    }
   ],
   "source": [
    "func()"
   ]
  },
  {
   "cell_type": "code",
   "execution_count": 34,
   "id": "824022fa",
   "metadata": {},
   "outputs": [
    {
     "name": "stdout",
     "output_type": "stream",
     "text": [
      "before x is  20\n"
     ]
    },
    {
     "ename": "UnboundLocalError",
     "evalue": "local variable 'x' referenced before assignment",
     "output_type": "error",
     "traceback": [
      "\u001b[1;31m---------------------------------------------------------------------------\u001b[0m",
      "\u001b[1;31mUnboundLocalError\u001b[0m                         Traceback (most recent call last)",
      "Input \u001b[1;32mIn [34]\u001b[0m, in \u001b[0;36m<cell line: 8>\u001b[1;34m()\u001b[0m\n\u001b[0;32m      5\u001b[0m x \u001b[38;5;241m=\u001b[39m \u001b[38;5;241m20\u001b[39m\n\u001b[0;32m      7\u001b[0m \u001b[38;5;28mprint\u001b[39m(\u001b[38;5;124m\"\u001b[39m\u001b[38;5;124mbefore x is \u001b[39m\u001b[38;5;124m\"\u001b[39m, x)\n\u001b[1;32m----> 8\u001b[0m \u001b[43mfunc\u001b[49m\u001b[43m(\u001b[49m\u001b[43m)\u001b[49m\n\u001b[0;32m      9\u001b[0m \u001b[38;5;28mprint\u001b[39m(\u001b[38;5;124m\"\u001b[39m\u001b[38;5;124mafter x is \u001b[39m\u001b[38;5;124m\"\u001b[39m, x)\n",
      "Input \u001b[1;32mIn [34]\u001b[0m, in \u001b[0;36mfunc\u001b[1;34m()\u001b[0m\n\u001b[0;32m      1\u001b[0m \u001b[38;5;28;01mdef\u001b[39;00m \u001b[38;5;21mfunc\u001b[39m():\n\u001b[1;32m----> 2\u001b[0m     x \u001b[38;5;241m=\u001b[39m \u001b[43mx\u001b[49m \u001b[38;5;241m+\u001b[39m \u001b[38;5;241m10\u001b[39m\n\u001b[0;32m      3\u001b[0m     \u001b[38;5;28mprint\u001b[39m(\u001b[38;5;124m\"\u001b[39m\u001b[38;5;124minside x is \u001b[39m\u001b[38;5;124m\"\u001b[39m, x)\n",
      "\u001b[1;31mUnboundLocalError\u001b[0m: local variable 'x' referenced before assignment"
     ]
    }
   ],
   "source": [
    "def func():\n",
    "    x = x + 10\n",
    "    print(\"inside x is \", x)\n",
    "    \n",
    "x = 20\n",
    "\n",
    "print(\"before x is \", x)\n",
    "func()\n",
    "print(\"after x is \", x)"
   ]
  },
  {
   "cell_type": "code",
   "execution_count": 35,
   "id": "a7f1cb75",
   "metadata": {},
   "outputs": [
    {
     "name": "stdout",
     "output_type": "stream",
     "text": [
      "before x is  20\n",
      "inside x is  30\n",
      "after x is  30\n"
     ]
    }
   ],
   "source": [
    "def func():\n",
    "    global x\n",
    "    x = x + 10\n",
    "    print(\"inside x is \", x)\n",
    "    \n",
    "x = 20\n",
    "\n",
    "print(\"before x is \", x)\n",
    "func()\n",
    "print(\"after x is \", x)"
   ]
  },
  {
   "cell_type": "markdown",
   "id": "32e71fab",
   "metadata": {},
   "source": [
    "https://www.sanfoundry.com/1000-python-questions-answers/"
   ]
  },
  {
   "cell_type": "code",
   "execution_count": null,
   "id": "6bb5e9d6",
   "metadata": {},
   "outputs": [],
   "source": []
  }
 ],
 "metadata": {
  "kernelspec": {
   "display_name": "Python 3 (ipykernel)",
   "language": "python",
   "name": "python3"
  },
  "language_info": {
   "codemirror_mode": {
    "name": "ipython",
    "version": 3
   },
   "file_extension": ".py",
   "mimetype": "text/x-python",
   "name": "python",
   "nbconvert_exporter": "python",
   "pygments_lexer": "ipython3",
   "version": "3.9.12"
  }
 },
 "nbformat": 4,
 "nbformat_minor": 5
}
