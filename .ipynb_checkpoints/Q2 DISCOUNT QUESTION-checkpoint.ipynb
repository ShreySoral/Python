{
 "cells": [
  {
   "cell_type": "code",
   "execution_count": 1,
   "id": "cfbce3b3",
   "metadata": {},
   "outputs": [],
   "source": [
    "#  Q2. Print Discounted Price of a Given Item\n",
    "   \n",
    "#     example:\n",
    "   \n",
    "#         Input:\n",
    "       \n",
    "#             Enter Product Name: Iphone 13\n",
    "#             Enter Product Price: 80000\n",
    "#             Enter Discount: 20\n",
    "       \n",
    "#         Ouput:\n",
    "       \n",
    "#             You have to Pay 64000₹ for Iphone 13"
   ]
  },
  {
   "cell_type": "code",
   "execution_count": 6,
   "id": "d2055eea",
   "metadata": {},
   "outputs": [
    {
     "name": "stdout",
     "output_type": "stream",
     "text": [
      "Enter the name of your product\n",
      "car\n",
      "Enter the price charged\n",
      "120000\n",
      "Enter the discount given\n",
      "13\n",
      "you have to pay 15600.0₹ for the car\n"
     ]
    }
   ],
   "source": [
    "name=input(\"Enter the name of your product\\n\")\n",
    "price=int(input(\"Enter the price charged\\n\"))\n",
    "discount=int(input(\"Enter the discount given\\n\"))\n",
    "solve=(discount/100)*price\n",
    "print(f\"you have to pay {solve}\\u20B9 for the {name}\")"
   ]
  },
  {
   "cell_type": "code",
   "execution_count": null,
   "id": "83db4133",
   "metadata": {},
   "outputs": [],
   "source": []
  }
 ],
 "metadata": {
  "kernelspec": {
   "display_name": "Python 3 (ipykernel)",
   "language": "python",
   "name": "python3"
  },
  "language_info": {
   "codemirror_mode": {
    "name": "ipython",
    "version": 3
   },
   "file_extension": ".py",
   "mimetype": "text/x-python",
   "name": "python",
   "nbconvert_exporter": "python",
   "pygments_lexer": "ipython3",
   "version": "3.10.5"
  }
 },
 "nbformat": 4,
 "nbformat_minor": 5
}
