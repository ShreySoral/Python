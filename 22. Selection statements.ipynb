{
 "cells": [
  {
   "cell_type": "markdown",
   "id": "a8d9c07e",
   "metadata": {},
   "source": [
    "### Selection Statements"
   ]
  },
  {
   "cell_type": "markdown",
   "id": "e35782c2",
   "metadata": {},
   "source": [
    "<!-- Write the python code for this -->\n",
    "LOAN ELIGIBILITY\n",
    "\n",
    "JOB=INPUT\n",
    "IF JOB==GOVT\n",
    "THEN\n",
    "    SALARY=INPUT\n",
    "    IF SALARY>=50000\n",
    "    THEN\n",
    "        PRINT YOU ARE ELIGIBLE\n",
    "    ELSE\n",
    "        PRINT YOU AREN'T ELIGIBLE\n",
    "    ELSE IF JOB==BUSINESS\n",
    "    THEN\n",
    "        TURNOVER=INPUT\n",
    "        IF TURNOVER>=2CR\n",
    "        THEN \n",
    "            PRINT YOU ARE ELIGIBLE FOR LOAN\n",
    "        ELSE\n",
    "            PRINT YOU ARE NOT ELIGIBLE\n",
    "        ENDIF\n",
    "      ELSE\n",
    "          PRINT YOU ARE NOT ELIGIBLE FOR LOAN\n",
    "      ENDIF"
   ]
  },
  {
   "cell_type": "markdown",
   "id": "cff24cbd",
   "metadata": {},
   "source": [
    "## Python"
   ]
  },
  {
   "cell_type": "markdown",
   "id": "13ce2fbc",
   "metadata": {},
   "source": [
    "c language\n",
    "\n",
    "    if (cond){\n",
    "        st-1;\n",
    "        st-2;\n",
    "        st-3;\n",
    "        st-4;\n",
    "        st-5;\n",
    "    }else{\n",
    "    st-6;\n",
    "    st-7;\n",
    "    }"
   ]
  },
  {
   "cell_type": "code",
   "execution_count": 2,
   "id": "77c11349",
   "metadata": {},
   "outputs": [],
   "source": [
    "# python language\n",
    "#  indentation\n",
    " \n",
    "#  if cond:\n",
    "#      st-1\n",
    "#      st-2\n",
    "#      st-3\n",
    "#      st-4\n",
    "#      st-5\n",
    "#   else:\n",
    "#       st-6\n",
    "#       st-7"
   ]
  },
  {
   "cell_type": "code",
   "execution_count": 3,
   "id": "01054c2d",
   "metadata": {},
   "outputs": [
    {
     "name": "stdout",
     "output_type": "stream",
     "text": [
      "start\n",
      "these statements\n",
      "will run if the given condition is true\n",
      "end\n"
     ]
    }
   ],
   "source": [
    "print(\"start\")\n",
    "if True:\n",
    "    print(\"these statements\")\n",
    "    print(\"will run if the given condition is true\")\n",
    "print(\"end\")"
   ]
  },
  {
   "cell_type": "code",
   "execution_count": 4,
   "id": "edff6996",
   "metadata": {},
   "outputs": [
    {
     "name": "stdout",
     "output_type": "stream",
     "text": [
      "start\n",
      "end\n"
     ]
    }
   ],
   "source": [
    "print(\"start\")\n",
    "if None:\n",
    "    print(\"these statements\")\n",
    "    print(\"will run if the given condition is true\")\n",
    "print(\"end\")"
   ]
  },
  {
   "cell_type": "code",
   "execution_count": 5,
   "id": "9af93a6f",
   "metadata": {},
   "outputs": [
    {
     "name": "stdout",
     "output_type": "stream",
     "text": [
      "start\n",
      "run\n",
      "end\n"
     ]
    }
   ],
   "source": [
    "print(\"start\")\n",
    "if print(\"run\"):\n",
    "    print(\"these statements\")\n",
    "    print(\"will run if the given condition is true\")\n",
    "print(\"end\")"
   ]
  },
  {
   "cell_type": "code",
   "execution_count": null,
   "id": "1ac2c104",
   "metadata": {},
   "outputs": [],
   "source": []
  }
 ],
 "metadata": {
  "kernelspec": {
   "display_name": "Python 3 (ipykernel)",
   "language": "python",
   "name": "python3"
  },
  "language_info": {
   "codemirror_mode": {
    "name": "ipython",
    "version": 3
   },
   "file_extension": ".py",
   "mimetype": "text/x-python",
   "name": "python",
   "nbconvert_exporter": "python",
   "pygments_lexer": "ipython3",
   "version": "3.10.5"
  }
 },
 "nbformat": 4,
 "nbformat_minor": 5
}
