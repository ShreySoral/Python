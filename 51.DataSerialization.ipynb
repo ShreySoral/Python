{
 "cells": [
  {
   "cell_type": "code",
   "execution_count": 1,
   "id": "b93ee177",
   "metadata": {},
   "outputs": [],
   "source": [
    "data = [ 10, 20, 40]"
   ]
  },
  {
   "cell_type": "code",
   "execution_count": 4,
   "id": "d1266d77",
   "metadata": {},
   "outputs": [
    {
     "name": "stdout",
     "output_type": "stream",
     "text": [
      "10,20,40\n"
     ]
    }
   ],
   "source": [
    "s = \",\".join(map(str, data)) # parsing / Data Serialization\n",
    "print(s)\n",
    "with open(\"d.txt\", \"w\") as fp:\n",
    "    fp.write(s)"
   ]
  },
  {
   "cell_type": "code",
   "execution_count": 5,
   "id": "a048a537",
   "metadata": {},
   "outputs": [
    {
     "name": "stdout",
     "output_type": "stream",
     "text": [
      "10,20,40\n"
     ]
    }
   ],
   "source": [
    "!type d.txt"
   ]
  },
  {
   "cell_type": "code",
   "execution_count": 6,
   "id": "bd931545",
   "metadata": {},
   "outputs": [],
   "source": [
    "with open(\"d.txt\", \"r\") as fp:\n",
    "    content = fp.read()"
   ]
  },
  {
   "cell_type": "code",
   "execution_count": 7,
   "id": "b40ca732",
   "metadata": {},
   "outputs": [
    {
     "name": "stdout",
     "output_type": "stream",
     "text": [
      "'10,20,40'\n"
     ]
    }
   ],
   "source": [
    "print(repr(content))"
   ]
  },
  {
   "cell_type": "code",
   "execution_count": 11,
   "id": "2e5b9582",
   "metadata": {},
   "outputs": [
    {
     "name": "stdout",
     "output_type": "stream",
     "text": [
      "[10, 20, 40]\n"
     ]
    }
   ],
   "source": [
    "d = list(map(int, content.split(','))) # parsing / Data Deserialization\n",
    "print(d)"
   ]
  },
  {
   "cell_type": "code",
   "execution_count": 12,
   "id": "2908c5d4",
   "metadata": {},
   "outputs": [],
   "source": [
    "d.append(50)"
   ]
  },
  {
   "cell_type": "code",
   "execution_count": 14,
   "id": "4fb9123f",
   "metadata": {},
   "outputs": [],
   "source": [
    "with open(\"d.txt\", \"w\") as fp:\n",
    "    s = \",\".join(map(str, d))\n",
    "    fp.write(s)"
   ]
  },
  {
   "cell_type": "code",
   "execution_count": 15,
   "id": "7975923f",
   "metadata": {},
   "outputs": [
    {
     "name": "stdout",
     "output_type": "stream",
     "text": [
      "10,20,40,50\n"
     ]
    }
   ],
   "source": [
    "!type d.txt"
   ]
  },
  {
   "cell_type": "code",
   "execution_count": 16,
   "id": "e328b6e1",
   "metadata": {},
   "outputs": [],
   "source": [
    "import json"
   ]
  },
  {
   "cell_type": "code",
   "execution_count": 17,
   "id": "399ef32a",
   "metadata": {},
   "outputs": [],
   "source": [
    "d = [10, 20, 30]\n",
    "\n",
    "with open(\"d.txt\", \"w\") as fp:\n",
    "    json.dump(d, fp)"
   ]
  },
  {
   "cell_type": "code",
   "execution_count": 18,
   "id": "900bf6c9",
   "metadata": {},
   "outputs": [
    {
     "name": "stdout",
     "output_type": "stream",
     "text": [
      "[10, 20, 30]\n"
     ]
    }
   ],
   "source": [
    "!type d.txt"
   ]
  },
  {
   "cell_type": "code",
   "execution_count": 19,
   "id": "1d1869cb",
   "metadata": {},
   "outputs": [],
   "source": [
    "with open(\"d.txt\", \"r\") as fp:\n",
    "    x = json.load(fp)"
   ]
  },
  {
   "cell_type": "code",
   "execution_count": 21,
   "id": "9186fbd6",
   "metadata": {},
   "outputs": [],
   "source": [
    "x.append(50)"
   ]
  },
  {
   "cell_type": "code",
   "execution_count": 22,
   "id": "643787db",
   "metadata": {},
   "outputs": [],
   "source": [
    "with open(\"d.txt\", \"w\") as fp:\n",
    "    json.dump(x, fp)"
   ]
  },
  {
   "cell_type": "code",
   "execution_count": 23,
   "id": "b884d634",
   "metadata": {},
   "outputs": [
    {
     "name": "stdout",
     "output_type": "stream",
     "text": [
      "[10, 20, 30, 50]\n"
     ]
    }
   ],
   "source": [
    "!type d.txt"
   ]
  },
  {
   "cell_type": "code",
   "execution_count": 33,
   "id": "66f8a48f",
   "metadata": {},
   "outputs": [
    {
     "name": "stdout",
     "output_type": "stream",
     "text": [
      "Overwriting initlize_bank_data.py\n"
     ]
    }
   ],
   "source": [
    "%%writefile initlize_bank_data.py\n",
    "import json\n",
    "db = {\n",
    "    \"1001\": {\n",
    "        \"name\": \"sachin\",\n",
    "        \"password\": \"nihcas\",\n",
    "        \"balance\": 50000,\n",
    "    }\n",
    "}\n",
    "\n",
    "with open(\"bank.json\", \"w\") as fp:\n",
    "    json.dump(db, fp)\n",
    "\n",
    "last_account = 1001\n",
    "\n",
    "with open(\"last_account.json\", \"w\") as fp:\n",
    "    json.dump(last_account, fp)\n",
    "print(\"bank.json and last_account.json files successfully created\")"
   ]
  },
  {
   "cell_type": "code",
   "execution_count": 34,
   "id": "5a1c66f6",
   "metadata": {},
   "outputs": [
    {
     "name": "stdout",
     "output_type": "stream",
     "text": [
      "bank.json and last_account.json files successfully created\n"
     ]
    }
   ],
   "source": [
    "!python initlize_bank_data.py"
   ]
  },
  {
   "cell_type": "code",
   "execution_count": 35,
   "id": "654df7b3",
   "metadata": {},
   "outputs": [
    {
     "name": "stdout",
     "output_type": "stream",
     "text": [
      "{\"1001\": {\"name\": \"sachin\", \"password\": \"nihcas\", \"balance\": 50000}}\n"
     ]
    }
   ],
   "source": [
    "!type bank.json"
   ]
  },
  {
   "cell_type": "code",
   "execution_count": 36,
   "id": "548bcaf4",
   "metadata": {},
   "outputs": [
    {
     "name": "stdout",
     "output_type": "stream",
     "text": [
      "1001\n"
     ]
    }
   ],
   "source": [
    "!type last_account.json"
   ]
  },
  {
   "cell_type": "code",
   "execution_count": 37,
   "id": "1636ffd3",
   "metadata": {},
   "outputs": [],
   "source": [
    "with open(\"bank.json\", \"r\") as fp:\n",
    "    d = json.load(fp)"
   ]
  },
  {
   "cell_type": "code",
   "execution_count": 40,
   "id": "0e093858",
   "metadata": {},
   "outputs": [
    {
     "data": {
      "text/plain": [
       "{'1001': {'name': 'sachin', 'password': 'nihcas', 'balance': 50000}}"
      ]
     },
     "execution_count": 40,
     "metadata": {},
     "output_type": "execute_result"
    }
   ],
   "source": [
    "d"
   ]
  },
  {
   "cell_type": "code",
   "execution_count": 45,
   "id": "d9347092",
   "metadata": {},
   "outputs": [],
   "source": [
    "with open(\"last_account.json\", \"r\") as fp:\n",
    "    last_acc = json.load(fp)\n",
    "    \n",
    "new_acc = last_acc + 1\n",
    "data =  {\"name\": \"rajat\", \"password\": \"tajra\", \"balance\": 50000}\n",
    "d[new_acc] = data"
   ]
  },
  {
   "cell_type": "code",
   "execution_count": 46,
   "id": "f4577c7f",
   "metadata": {},
   "outputs": [
    {
     "data": {
      "text/plain": [
       "{'1001': {'name': 'sachin', 'password': 'nihcas', 'balance': 50000},\n",
       " 1002: {'name': 'rajat', 'password': 'tajra', 'balance': 50000}}"
      ]
     },
     "execution_count": 46,
     "metadata": {},
     "output_type": "execute_result"
    }
   ],
   "source": [
    "d"
   ]
  },
  {
   "cell_type": "code",
   "execution_count": 48,
   "id": "6c2c4e58",
   "metadata": {},
   "outputs": [],
   "source": [
    "with open(\"bank.json\", \"w\") as fp:\n",
    "    json.dump(d, fp)"
   ]
  },
  {
   "cell_type": "code",
   "execution_count": 49,
   "id": "cf214773",
   "metadata": {},
   "outputs": [
    {
     "name": "stdout",
     "output_type": "stream",
     "text": [
      "{\"1001\": {\"name\": \"sachin\", \"password\": \"nihcas\", \"balance\": 50000}, \"1002\": {\"name\": \"rajat\", \"password\": \"tajra\", \"balance\": 50000}}\n"
     ]
    }
   ],
   "source": [
    "!type bank.json"
   ]
  },
  {
   "cell_type": "code",
   "execution_count": 43,
   "id": "2f68fa5a",
   "metadata": {},
   "outputs": [
    {
     "data": {
      "text/plain": [
       "1001"
      ]
     },
     "execution_count": 43,
     "metadata": {},
     "output_type": "execute_result"
    }
   ],
   "source": [
    "last_acc"
   ]
  },
  {
   "cell_type": "code",
   "execution_count": 44,
   "id": "2c99e5f5",
   "metadata": {},
   "outputs": [
    {
     "name": "stdout",
     "output_type": "stream",
     "text": [
      "<class 'int'>\n"
     ]
    }
   ],
   "source": [
    "print(type(last_acc))"
   ]
  },
  {
   "cell_type": "markdown",
   "id": "c512eaf9",
   "metadata": {},
   "source": [
    "`System Design`"
   ]
  },
  {
   "cell_type": "code",
   "execution_count": 50,
   "id": "33fbe41b",
   "metadata": {},
   "outputs": [],
   "source": [
    "!mkdir accounts"
   ]
  },
  {
   "cell_type": "code",
   "execution_count": 55,
   "id": "7610ac41",
   "metadata": {},
   "outputs": [
    {
     "name": "stdout",
     "output_type": "stream",
     "text": [
      "Overwriting initlize_bank_data.py\n"
     ]
    }
   ],
   "source": [
    "%%writefile initlize_bank_data.py\n",
    "import json\n",
    "db = {\n",
    "        \"name\": \"sachin\",\n",
    "        \"password\": \"nihcas\",\n",
    "        \"balance\": 50000,\n",
    "    }\n",
    "\n",
    "with open(\"accounts/1001\", \"w\") as fp:\n",
    "    json.dump(db, fp)\n",
    "\n",
    "last_account = 1001\n",
    "\n",
    "with open(\"last_account.json\", \"w\") as fp:\n",
    "    json.dump(last_account, fp)\n",
    "print(\"files successfully created\")"
   ]
  },
  {
   "cell_type": "code",
   "execution_count": 56,
   "id": "e618186f",
   "metadata": {},
   "outputs": [
    {
     "name": "stdout",
     "output_type": "stream",
     "text": [
      "files successfully created\n"
     ]
    }
   ],
   "source": [
    "!python initlize_bank_data.py"
   ]
  },
  {
   "cell_type": "code",
   "execution_count": 57,
   "id": "a0aa5196",
   "metadata": {},
   "outputs": [
    {
     "name": "stdout",
     "output_type": "stream",
     "text": [
      "{\"name\": \"sachin\", \"password\": \"nihcas\", \"balance\": 50000}\n"
     ]
    }
   ],
   "source": [
    "!type \"accounts\\1001\""
   ]
  },
  {
   "cell_type": "code",
   "execution_count": 58,
   "id": "a2998ef7",
   "metadata": {},
   "outputs": [
    {
     "name": "stdout",
     "output_type": "stream",
     "text": [
      "1001\n"
     ]
    }
   ],
   "source": [
    "!type last_account.json"
   ]
  },
  {
   "cell_type": "code",
   "execution_count": 72,
   "id": "0d253dc3",
   "metadata": {},
   "outputs": [],
   "source": [
    "def get_last_acc_number():\n",
    "    with open(\"last_account.json\", \"r\") as fp:\n",
    "        acc = json.load(fp)\n",
    "    return acc\n",
    "def update_last_acc_number(acc):\n",
    "    with open(\"last_account.json\", \"w\") as fp:\n",
    "        json.dump(acc, fp)\n",
    "        \n",
    "def create_new_account(record):\n",
    "    old = get_last_acc_number()\n",
    "    new = old+1\n",
    "    update_last_acc_number(new)\n",
    "    with open(f\"accounts/{new}\", \"w\") as fp:\n",
    "        json.dump(record, fp)\n",
    "    return new"
   ]
  },
  {
   "cell_type": "code",
   "execution_count": 73,
   "id": "6ca5733c",
   "metadata": {},
   "outputs": [],
   "source": [
    "create_new_account({\"name\": \"ravi\", \"password\": \"ivar\", \"balance\": 90000})"
   ]
  },
  {
   "cell_type": "code",
   "execution_count": 77,
   "id": "a184fe74",
   "metadata": {},
   "outputs": [
    {
     "name": "stdout",
     "output_type": "stream",
     "text": [
      "1003\n"
     ]
    }
   ],
   "source": [
    "!type last_account.json"
   ]
  },
  {
   "cell_type": "code",
   "execution_count": 76,
   "id": "03bd26b8",
   "metadata": {},
   "outputs": [
    {
     "name": "stdout",
     "output_type": "stream",
     "text": [
      "{\"name\": \"ravi\", \"password\": \"ivar\", \"balance\": 90000}\n"
     ]
    }
   ],
   "source": [
    "!type accounts\\1003"
   ]
  },
  {
   "cell_type": "code",
   "execution_count": 63,
   "id": "658c86b6",
   "metadata": {},
   "outputs": [],
   "source": [
    "old = get_last_acc_number()\n",
    "new = old+1\n",
    "update_last_acc_number(new)"
   ]
  },
  {
   "cell_type": "code",
   "execution_count": 64,
   "id": "31589045",
   "metadata": {},
   "outputs": [
    {
     "data": {
      "text/plain": [
       "1002"
      ]
     },
     "execution_count": 64,
     "metadata": {},
     "output_type": "execute_result"
    }
   ],
   "source": [
    "get_last_acc_number()"
   ]
  },
  {
   "cell_type": "code",
   "execution_count": 65,
   "id": "a1abfadd",
   "metadata": {},
   "outputs": [
    {
     "data": {
      "text/plain": [
       "1002"
      ]
     },
     "execution_count": 65,
     "metadata": {},
     "output_type": "execute_result"
    }
   ],
   "source": [
    "new"
   ]
  },
  {
   "cell_type": "code",
   "execution_count": 66,
   "id": "1f09be96",
   "metadata": {},
   "outputs": [],
   "source": [
    "record = {\"name\": \"rajat\", \"password\": \"tajra\", \"balance\": 50000}"
   ]
  },
  {
   "cell_type": "code",
   "execution_count": 67,
   "id": "98c63e44",
   "metadata": {},
   "outputs": [],
   "source": [
    "with open(f\"accounts/{new}\", \"w\") as fp:\n",
    "    json.dump(record, fp)"
   ]
  },
  {
   "cell_type": "code",
   "execution_count": 68,
   "id": "207d6a1a",
   "metadata": {},
   "outputs": [
    {
     "name": "stdout",
     "output_type": "stream",
     "text": [
      "1001\n",
      "1002\n"
     ]
    }
   ],
   "source": [
    "!ls accounts/"
   ]
  },
  {
   "cell_type": "code",
   "execution_count": 71,
   "id": "ad4af25a",
   "metadata": {},
   "outputs": [
    {
     "name": "stdout",
     "output_type": "stream",
     "text": [
      "{\"name\": \"sachin\", \"password\": \"nihcas\", \"balance\": 50000}\n"
     ]
    }
   ],
   "source": [
    "!type accounts\\1001"
   ]
  },
  {
   "cell_type": "code",
   "execution_count": null,
   "id": "13fc0ed6",
   "metadata": {},
   "outputs": [],
   "source": []
  }
 ],
 "metadata": {
  "kernelspec": {
   "display_name": "Python 3 (ipykernel)",
   "language": "python",
   "name": "python3"
  },
  "language_info": {
   "codemirror_mode": {
    "name": "ipython",
    "version": 3
   },
   "file_extension": ".py",
   "mimetype": "text/x-python",
   "name": "python",
   "nbconvert_exporter": "python",
   "pygments_lexer": "ipython3",
   "version": "3.9.13"
  }
 },
 "nbformat": 4,
 "nbformat_minor": 5
}
