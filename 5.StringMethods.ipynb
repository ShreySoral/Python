{
 "cells": [
  {
   "cell_type": "markdown",
   "id": "9ff446ee",
   "metadata": {},
   "source": [
    "### what is a class ?\n",
    "\n",
    "### what is an object ?\n",
    "\n",
    "### what are methods ?"
   ]
  },
  {
   "cell_type": "code",
   "execution_count": 1,
   "id": "39aeda61",
   "metadata": {},
   "outputs": [],
   "source": [
    "x = 5"
   ]
  },
  {
   "cell_type": "code",
   "execution_count": 2,
   "id": "fa7e52b2",
   "metadata": {},
   "outputs": [
    {
     "name": "stdout",
     "output_type": "stream",
     "text": [
      "<class 'int'>\n"
     ]
    }
   ],
   "source": [
    "print(type(x))"
   ]
  },
  {
   "cell_type": "markdown",
   "id": "c6db682e",
   "metadata": {},
   "source": [
    "#### Rectangle \n",
    "    \n",
    "    height, width\n",
    "    \n",
    "    Area = height*width"
   ]
  },
  {
   "cell_type": "code",
   "execution_count": 6,
   "id": "21bade5f",
   "metadata": {},
   "outputs": [
    {
     "name": "stdout",
     "output_type": "stream",
     "text": [
      "hello\n",
      "world\n"
     ]
    }
   ],
   "source": [
    "print(\"hello\", \"world\", sep=\"\\n\")"
   ]
  },
  {
   "cell_type": "code",
   "execution_count": 12,
   "id": "93205c25",
   "metadata": {},
   "outputs": [],
   "source": [
    "def get_amount(price, quantity, discount=20, tax=28):\n",
    "    dis = price*(discount/100)\n",
    "    final_price = (price-dis)*quantity\n",
    "    tax_amount = final_price*(tax/100)\n",
    "    amount = final_price + tax_amount\n",
    "    return amount"
   ]
  },
  {
   "cell_type": "code",
   "execution_count": null,
   "id": "3128eba4",
   "metadata": {},
   "outputs": [],
   "source": []
  },
  {
   "cell_type": "code",
   "execution_count": 13,
   "id": "263d37cb",
   "metadata": {},
   "outputs": [
    {
     "name": "stdout",
     "output_type": "stream",
     "text": [
      "10240.0\n"
     ]
    }
   ],
   "source": [
    "r = get_amount(1000, 10)\n",
    "print(r)"
   ]
  },
  {
   "cell_type": "code",
   "execution_count": 14,
   "id": "95322c70",
   "metadata": {},
   "outputs": [
    {
     "name": "stdout",
     "output_type": "stream",
     "text": [
      "40.0\n"
     ]
    }
   ],
   "source": [
    "r  = get_amount(50, 1, tax=0)\n",
    "print(r)"
   ]
  },
  {
   "cell_type": "code",
   "execution_count": null,
   "id": "47ad2869",
   "metadata": {},
   "outputs": [],
   "source": []
  },
  {
   "cell_type": "code",
   "execution_count": null,
   "id": "c5245234",
   "metadata": {},
   "outputs": [],
   "source": []
  },
  {
   "cell_type": "code",
   "execution_count": 3,
   "id": "2bfabff1",
   "metadata": {},
   "outputs": [],
   "source": [
    "def area(height, width):\n",
    "    return height*width"
   ]
  },
  {
   "cell_type": "code",
   "execution_count": 4,
   "id": "82bf74de",
   "metadata": {},
   "outputs": [
    {
     "name": "stdout",
     "output_type": "stream",
     "text": [
      "Enter Height: 20\n",
      "Enter Width: 40\n",
      "Area of Rectangle is 800.0\n"
     ]
    }
   ],
   "source": [
    "x = float(input(\"Enter Height: \"))\n",
    "y = float(input(\"Enter Width: \"))\n",
    "\n",
    "r = area(x, y)\n",
    "print(\"Area of Rectangle is\", r)"
   ]
  },
  {
   "cell_type": "code",
   "execution_count": 5,
   "id": "d9d12a52",
   "metadata": {},
   "outputs": [
    {
     "name": "stdout",
     "output_type": "stream",
     "text": [
      "560\n"
     ]
    }
   ],
   "source": [
    "r1 = area(10, 56)\n",
    "print(r1)"
   ]
  },
  {
   "cell_type": "markdown",
   "id": "1925764b",
   "metadata": {},
   "source": [
    "    Warning: Do not try this at home this will be last topic of our course"
   ]
  },
  {
   "cell_type": "markdown",
   "id": "dc7324d1",
   "metadata": {},
   "source": [
    "### Data Type / Classes\n",
    "    \n",
    "    Built-in Python Types / Classes\n",
    "\n",
    "        int\n",
    "        float\n",
    "        complex\n",
    "\n",
    "        str\n",
    "        list\n",
    "        tuple\n",
    "        dict\n",
    "        set\n",
    "        frozenset\n",
    "\n",
    "        bool\n",
    "        None"
   ]
  },
  {
   "cell_type": "code",
   "execution_count": null,
   "id": "26be9c45",
   "metadata": {},
   "outputs": [],
   "source": []
  },
  {
   "cell_type": "code",
   "execution_count": 17,
   "id": "aa476497",
   "metadata": {},
   "outputs": [],
   "source": [
    "class Student:\n",
    "    def __init__(self, name, email, ph_no, course, fees, due, join_date):\n",
    "        self.name = name\n",
    "        self.email = email\n",
    "        self.ph_no = ph_no\n",
    "        self.course = course\n",
    "        self.fees = fees\n",
    "        self.due = due\n",
    "        self.join_date = join_date\n",
    "    def __str__(self):\n",
    "        return f\"Student({self.name})\"\n",
    "    \n",
    "    def get_course(self):\n",
    "        return self.course\n",
    "    def get_fees(self):\n",
    "        return self.fees\n",
    "    def get_due(self):\n",
    "        return self.due\n",
    "    def update_fees(self, amount):\n",
    "        self.due = self.due - amount\n",
    "    def get_phone_no(self):\n",
    "        return self.ph_no"
   ]
  },
  {
   "cell_type": "code",
   "execution_count": 18,
   "id": "b60c9d00",
   "metadata": {},
   "outputs": [],
   "source": [
    "s1 = Student(\"sachin\", \"sachin@gmail.com\",\n",
    "            \"1234567890\", \"python\", 8000, \n",
    "             6000, \"10-08-2022\")\n",
    "\n",
    "s2 = Student(\"rajat\", \"rajat@grras.com\",\n",
    "            \"1425346719\", \"linux\", 12000, \n",
    "             10000, \"1-07-2022\")"
   ]
  },
  {
   "cell_type": "code",
   "execution_count": 19,
   "id": "e71d121e",
   "metadata": {},
   "outputs": [
    {
     "name": "stdout",
     "output_type": "stream",
     "text": [
      "Student(sachin)\n"
     ]
    }
   ],
   "source": [
    "print(s1)"
   ]
  },
  {
   "cell_type": "code",
   "execution_count": 20,
   "id": "99a86d55",
   "metadata": {},
   "outputs": [
    {
     "name": "stdout",
     "output_type": "stream",
     "text": [
      "Student(rajat)\n"
     ]
    }
   ],
   "source": [
    "print(s2)"
   ]
  },
  {
   "cell_type": "code",
   "execution_count": 21,
   "id": "e7412e90",
   "metadata": {},
   "outputs": [
    {
     "name": "stdout",
     "output_type": "stream",
     "text": [
      "6000\n"
     ]
    }
   ],
   "source": [
    "print(s1.get_due())"
   ]
  },
  {
   "cell_type": "code",
   "execution_count": 22,
   "id": "c732ab82",
   "metadata": {},
   "outputs": [
    {
     "name": "stdout",
     "output_type": "stream",
     "text": [
      "10000\n"
     ]
    }
   ],
   "source": [
    "print(s2.get_due())"
   ]
  },
  {
   "cell_type": "code",
   "execution_count": 23,
   "id": "e47add95",
   "metadata": {},
   "outputs": [
    {
     "data": {
      "text/plain": [
       "'1234567890'"
      ]
     },
     "execution_count": 23,
     "metadata": {},
     "output_type": "execute_result"
    }
   ],
   "source": [
    "s1.get_phone_no()"
   ]
  },
  {
   "cell_type": "code",
   "execution_count": 24,
   "id": "98347620",
   "metadata": {},
   "outputs": [
    {
     "data": {
      "text/plain": [
       "'linux'"
      ]
     },
     "execution_count": 24,
     "metadata": {},
     "output_type": "execute_result"
    }
   ],
   "source": [
    "s2.get_course()"
   ]
  },
  {
   "cell_type": "code",
   "execution_count": 25,
   "id": "e66492c8",
   "metadata": {},
   "outputs": [],
   "source": [
    "s = \"hello\""
   ]
  },
  {
   "cell_type": "code",
   "execution_count": 26,
   "id": "46e08a82",
   "metadata": {},
   "outputs": [],
   "source": [
    "ns = s.upper()"
   ]
  },
  {
   "cell_type": "code",
   "execution_count": 27,
   "id": "c87366ac",
   "metadata": {},
   "outputs": [
    {
     "name": "stdout",
     "output_type": "stream",
     "text": [
      "HELLO\n"
     ]
    }
   ],
   "source": [
    "print(ns)"
   ]
  },
  {
   "cell_type": "code",
   "execution_count": null,
   "id": "e1389ff8",
   "metadata": {},
   "outputs": [],
   "source": []
  },
  {
   "cell_type": "code",
   "execution_count": 28,
   "id": "cd67e471",
   "metadata": {},
   "outputs": [],
   "source": [
    "s = \"hi\""
   ]
  },
  {
   "cell_type": "code",
   "execution_count": 30,
   "id": "745c2767",
   "metadata": {},
   "outputs": [
    {
     "name": "stdout",
     "output_type": "stream",
     "text": [
      "2418874704624\n"
     ]
    }
   ],
   "source": [
    "print(id(s))"
   ]
  },
  {
   "cell_type": "code",
   "execution_count": 31,
   "id": "7e16c8b7",
   "metadata": {},
   "outputs": [
    {
     "name": "stdout",
     "output_type": "stream",
     "text": [
      "<class 'str'>\n"
     ]
    }
   ],
   "source": [
    "print(type(s))"
   ]
  },
  {
   "cell_type": "code",
   "execution_count": 32,
   "id": "81f72233",
   "metadata": {},
   "outputs": [
    {
     "name": "stdout",
     "output_type": "stream",
     "text": [
      "['__add__', '__class__', '__contains__', '__delattr__', '__dir__', '__doc__', '__eq__', '__format__', '__ge__', '__getattribute__', '__getitem__', '__getnewargs__', '__gt__', '__hash__', '__init__', '__init_subclass__', '__iter__', '__le__', '__len__', '__lt__', '__mod__', '__mul__', '__ne__', '__new__', '__reduce__', '__reduce_ex__', '__repr__', '__rmod__', '__rmul__', '__setattr__', '__sizeof__', '__str__', '__subclasshook__', 'capitalize', 'casefold', 'center', 'count', 'encode', 'endswith', 'expandtabs', 'find', 'format', 'format_map', 'index', 'isalnum', 'isalpha', 'isascii', 'isdecimal', 'isdigit', 'isidentifier', 'islower', 'isnumeric', 'isprintable', 'isspace', 'istitle', 'isupper', 'join', 'ljust', 'lower', 'lstrip', 'maketrans', 'partition', 'removeprefix', 'removesuffix', 'replace', 'rfind', 'rindex', 'rjust', 'rpartition', 'rsplit', 'rstrip', 'split', 'splitlines', 'startswith', 'strip', 'swapcase', 'title', 'translate', 'upper', 'zfill']\n"
     ]
    }
   ],
   "source": [
    "print(dir(s))"
   ]
  },
  {
   "cell_type": "code",
   "execution_count": 29,
   "id": "37239952",
   "metadata": {},
   "outputs": [
    {
     "name": "stdout",
     "output_type": "stream",
     "text": [
      "Help on built-in function lower:\n",
      "\n",
      "lower() method of builtins.str instance\n",
      "    Return a copy of the string converted to lowercase.\n",
      "\n"
     ]
    }
   ],
   "source": [
    "help(s.lower)"
   ]
  },
  {
   "cell_type": "code",
   "execution_count": null,
   "id": "52356062",
   "metadata": {},
   "outputs": [],
   "source": []
  }
 ],
 "metadata": {
  "kernelspec": {
   "display_name": "Python 3 (ipykernel)",
   "language": "python",
   "name": "python3"
  },
  "language_info": {
   "codemirror_mode": {
    "name": "ipython",
    "version": 3
   },
   "file_extension": ".py",
   "mimetype": "text/x-python",
   "name": "python",
   "nbconvert_exporter": "python",
   "pygments_lexer": "ipython3",
   "version": "3.9.12"
  }
 },
 "nbformat": 4,
 "nbformat_minor": 5
}
