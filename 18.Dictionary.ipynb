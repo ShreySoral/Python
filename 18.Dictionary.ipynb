{
 "cells": [
  {
   "cell_type": "markdown",
   "id": "a59d2335",
   "metadata": {},
   "source": [
    "`string` -> single or double quotes"
   ]
  },
  {
   "cell_type": "code",
   "execution_count": 4,
   "id": "7c891f27",
   "metadata": {},
   "outputs": [],
   "source": [
    "names = [\"hello\", \"hi\", \"bye\"]"
   ]
  },
  {
   "cell_type": "markdown",
   "id": "d9e93729",
   "metadata": {},
   "source": [
    "`index` - integer values range from 0 to n-1 where n is length of iterable"
   ]
  },
  {
   "cell_type": "code",
   "execution_count": 6,
   "id": "93e4dd9b",
   "metadata": {},
   "outputs": [
    {
     "data": {
      "text/plain": [
       "'hi'"
      ]
     },
     "execution_count": 6,
     "metadata": {},
     "output_type": "execute_result"
    }
   ],
   "source": [
    "names[1]"
   ]
  },
  {
   "cell_type": "code",
   "execution_count": 5,
   "id": "29465ebf",
   "metadata": {},
   "outputs": [
    {
     "ename": "TypeError",
     "evalue": "list indices must be integers or slices, not str",
     "output_type": "error",
     "traceback": [
      "\u001b[1;31m---------------------------------------------------------------------------\u001b[0m",
      "\u001b[1;31mTypeError\u001b[0m                                 Traceback (most recent call last)",
      "Input \u001b[1;32mIn [5]\u001b[0m, in \u001b[0;36m<cell line: 1>\u001b[1;34m()\u001b[0m\n\u001b[1;32m----> 1\u001b[0m \u001b[43mnames\u001b[49m\u001b[43m[\u001b[49m\u001b[38;5;124;43m\"\u001b[39;49m\u001b[38;5;124;43m1\u001b[39;49m\u001b[38;5;124;43m\"\u001b[39;49m\u001b[43m]\u001b[49m\n",
      "\u001b[1;31mTypeError\u001b[0m: list indices must be integers or slices, not str"
     ]
    }
   ],
   "source": [
    "names[\"1\"]"
   ]
  },
  {
   "cell_type": "code",
   "execution_count": 1,
   "id": "b2c347e3",
   "metadata": {},
   "outputs": [],
   "source": [
    "info = {'name': \"sachin\"}"
   ]
  },
  {
   "cell_type": "code",
   "execution_count": 2,
   "id": "3fa5c59d",
   "metadata": {},
   "outputs": [
    {
     "name": "stdout",
     "output_type": "stream",
     "text": [
      "{'name': 'sachin'}\n"
     ]
    }
   ],
   "source": [
    "print(info)"
   ]
  },
  {
   "cell_type": "code",
   "execution_count": 3,
   "id": "adc12d47",
   "metadata": {},
   "outputs": [
    {
     "name": "stdout",
     "output_type": "stream",
     "text": [
      "<class 'dict'>\n"
     ]
    }
   ],
   "source": [
    "print(type(info))"
   ]
  },
  {
   "cell_type": "code",
   "execution_count": 7,
   "id": "b0c1c7cc",
   "metadata": {},
   "outputs": [],
   "source": [
    "info = {\n",
    "    10: 100,\n",
    "    50: 200,\n",
    "    \"10\": 500,\n",
    "    \"50\": 700\n",
    "}"
   ]
  },
  {
   "cell_type": "code",
   "execution_count": 8,
   "id": "50a2863b",
   "metadata": {},
   "outputs": [
    {
     "name": "stdout",
     "output_type": "stream",
     "text": [
      "{10: 100, 50: 200, '10': 500, '50': 700}\n"
     ]
    }
   ],
   "source": [
    "print(info)"
   ]
  },
  {
   "cell_type": "code",
   "execution_count": 9,
   "id": "4de893e6",
   "metadata": {},
   "outputs": [
    {
     "name": "stdout",
     "output_type": "stream",
     "text": [
      "50000\n"
     ]
    }
   ],
   "source": [
    "r = info[10]*info['10']\n",
    "print(r)"
   ]
  },
  {
   "cell_type": "code",
   "execution_count": 10,
   "id": "9cad24f2",
   "metadata": {},
   "outputs": [
    {
     "data": {
      "text/plain": [
       "10"
      ]
     },
     "execution_count": 10,
     "metadata": {},
     "output_type": "execute_result"
    }
   ],
   "source": [
    "hash(10)"
   ]
  },
  {
   "cell_type": "code",
   "execution_count": 11,
   "id": "9adb365a",
   "metadata": {},
   "outputs": [
    {
     "data": {
      "text/plain": [
       "-3693800763320964012"
      ]
     },
     "execution_count": 11,
     "metadata": {},
     "output_type": "execute_result"
    }
   ],
   "source": [
    "hash('abc')"
   ]
  },
  {
   "cell_type": "code",
   "execution_count": 12,
   "id": "08bcd739",
   "metadata": {},
   "outputs": [
    {
     "data": {
      "text/plain": [
       "8267962935204572300"
      ]
     },
     "execution_count": 12,
     "metadata": {},
     "output_type": "execute_result"
    }
   ],
   "source": [
    "hash(\"ABC\")"
   ]
  },
  {
   "cell_type": "code",
   "execution_count": 14,
   "id": "6c5b93eb",
   "metadata": {},
   "outputs": [
    {
     "data": {
      "text/plain": [
       "-373653791334700000"
      ]
     },
     "execution_count": 14,
     "metadata": {},
     "output_type": "execute_result"
    }
   ],
   "source": [
    "hash((1001, 2022))"
   ]
  },
  {
   "cell_type": "code",
   "execution_count": 13,
   "id": "a21133a1",
   "metadata": {},
   "outputs": [],
   "source": [
    "info = {\n",
    "    (1001, 2022): {'name': 'sachin', 'course': 'python', 'fees': 10000, 'due': 5000},\n",
    "    (1002, 2020): {'name': 'aditya', 'course': 'data science', 'fees': 25000, 'due': 0},\n",
    "}"
   ]
  },
  {
   "cell_type": "code",
   "execution_count": 16,
   "id": "d36746bc",
   "metadata": {},
   "outputs": [
    {
     "name": "stdout",
     "output_type": "stream",
     "text": [
      "[(1001, 2022), (1002, 2020)]\n"
     ]
    }
   ],
   "source": [
    "print(list(info.keys()))"
   ]
  },
  {
   "cell_type": "code",
   "execution_count": 19,
   "id": "bb498058",
   "metadata": {},
   "outputs": [
    {
     "data": {
      "text/plain": [
       "5000"
      ]
     },
     "execution_count": 19,
     "metadata": {},
     "output_type": "execute_result"
    }
   ],
   "source": [
    "info[(1001, 2022)][\"due\"]"
   ]
  },
  {
   "cell_type": "code",
   "execution_count": 21,
   "id": "b601359a",
   "metadata": {},
   "outputs": [
    {
     "data": {
      "text/plain": [
       "5000"
      ]
     },
     "execution_count": 21,
     "metadata": {},
     "output_type": "execute_result"
    }
   ],
   "source": [
    "info.get((1001, 2022)).get('due')"
   ]
  },
  {
   "cell_type": "markdown",
   "id": "dbec7083",
   "metadata": {},
   "source": [
    "    set-default\n",
    "    fromkeys"
   ]
  },
  {
   "cell_type": "code",
   "execution_count": 22,
   "id": "d35ca50b",
   "metadata": {},
   "outputs": [],
   "source": [
    "lst = [ 0, 1.2, 1+4j, 'string', [1, 2, 3], (1, 2, 3), {'a':'b', 'b':'c'},\n",
    "      None, True, False, {1, 2, 3, 4} ]"
   ]
  },
  {
   "cell_type": "code",
   "execution_count": 23,
   "id": "e7dbeafd",
   "metadata": {},
   "outputs": [
    {
     "name": "stdout",
     "output_type": "stream",
     "text": [
      "[0, 1.2, (1+4j), 'string', [1, 2, 3], (1, 2, 3), {'a': 'b', 'b': 'c'}, None, True, False, {1, 2, 3, 4}]\n"
     ]
    }
   ],
   "source": [
    "print(lst)"
   ]
  },
  {
   "cell_type": "code",
   "execution_count": null,
   "id": "24558f47",
   "metadata": {},
   "outputs": [],
   "source": []
  },
  {
   "cell_type": "markdown",
   "id": "d6229307",
   "metadata": {},
   "source": [
    "    key -> number, string, tuple, frozenset, boolean, None\n",
    "\n",
    "    value -> can be any valid python object"
   ]
  },
  {
   "cell_type": "code",
   "execution_count": 24,
   "id": "52be6677",
   "metadata": {},
   "outputs": [],
   "source": [
    "d = {\n",
    "    1: 1,\n",
    "    2: 3.4,\n",
    "    \"3\": 4+5j,\n",
    "    \"four\": \"ha ha ha\",\n",
    "    (5, 6): [ 'values', 'can', 'be', 'any', 'type'],\n",
    "    True: {'key': 'boolean', 'True': 1},\n",
    "}"
   ]
  },
  {
   "cell_type": "code",
   "execution_count": null,
   "id": "081a95e1",
   "metadata": {},
   "outputs": [],
   "source": []
  },
  {
   "cell_type": "code",
   "execution_count": null,
   "id": "25f2d27b",
   "metadata": {},
   "outputs": [],
   "source": []
  },
  {
   "cell_type": "markdown",
   "id": "e015e5f2",
   "metadata": {},
   "source": [
    "### Set Data Type \n",
    "\n",
    "    map type \n",
    "    \n",
    "    unordered \n",
    "    \n",
    "    collection of unique hashable values \n",
    "    \n",
    "    Based Set-Theory\n",
    "    \n",
    "    mutable data type\n",
    "    \n",
    "    \n",
    "    \n",
    "    "
   ]
  },
  {
   "cell_type": "code",
   "execution_count": 29,
   "id": "0dfba87a",
   "metadata": {},
   "outputs": [],
   "source": [
    "arr = [ 34, 54, 34, 56, 32, 45, 67, 45, 78, 98, 34, 56]"
   ]
  },
  {
   "cell_type": "code",
   "execution_count": 30,
   "id": "08e5ed5c",
   "metadata": {},
   "outputs": [
    {
     "name": "stdout",
     "output_type": "stream",
     "text": [
      "[32, 34, 67, 98, 45, 78, 54, 56]\n"
     ]
    }
   ],
   "source": [
    "lst = list(set(arr))\n",
    "print(lst)"
   ]
  },
  {
   "cell_type": "code",
   "execution_count": 28,
   "id": "c56cb3a0",
   "metadata": {},
   "outputs": [
    {
     "name": "stdout",
     "output_type": "stream",
     "text": [
      "{1, 2, 3, 100, 4, 6, 7, 50, 23}\n",
      "<class 'set'>\n"
     ]
    }
   ],
   "source": [
    "s1 = {1, 1, 1, 1, 1, 2, 2, 1, 2,3 ,4 , 6,7, 3, 100, 50, 23}\n",
    "print(s1)\n",
    "print(type(s1))"
   ]
  },
  {
   "cell_type": "code",
   "execution_count": 36,
   "id": "d163569b",
   "metadata": {},
   "outputs": [],
   "source": [
    "hindi = {\n",
    "    \"ramesh\", \"ganesh\", \"bhupesh\", \"rajesh\", \"suresh\",\n",
    "        \"mangilaal\", \"ram\", \"shyam\", \"hari\", \"kabir\" }\n",
    "\n",
    "english = {'ram', 'shyam', 'hari', 'seeta', 'geeta', 'neeta', 'anita', 'amrita',\n",
    "          'babita'}"
   ]
  },
  {
   "cell_type": "code",
   "execution_count": 37,
   "id": "826022f9",
   "metadata": {},
   "outputs": [
    {
     "name": "stdout",
     "output_type": "stream",
     "text": [
      "<class 'set'>\n"
     ]
    }
   ],
   "source": [
    "print(type(hindi))"
   ]
  },
  {
   "cell_type": "code",
   "execution_count": 38,
   "id": "ed6d076d",
   "metadata": {},
   "outputs": [
    {
     "name": "stdout",
     "output_type": "stream",
     "text": [
      "{'shyam', 'rajesh', 'suresh', 'ram', 'mangilaal', 'hari', 'ganesh', 'bhupesh', 'kabir', 'ramesh'}\n"
     ]
    }
   ],
   "source": [
    "print(hindi)"
   ]
  },
  {
   "cell_type": "code",
   "execution_count": 39,
   "id": "76b675b8",
   "metadata": {},
   "outputs": [
    {
     "name": "stdout",
     "output_type": "stream",
     "text": [
      "{'shyam', 'babita', 'neeta', 'ram', 'amrita', 'hari', 'seeta', 'anita', 'geeta'}\n"
     ]
    }
   ],
   "source": [
    "print(english)"
   ]
  },
  {
   "cell_type": "code",
   "execution_count": 46,
   "id": "20a7463b",
   "metadata": {},
   "outputs": [
    {
     "name": "stdout",
     "output_type": "stream",
     "text": [
      "add\n",
      "clear\n",
      "copy\n",
      "difference\n",
      "difference_update\n",
      "discard\n",
      "intersection\n",
      "intersection_update\n",
      "isdisjoint\n",
      "issubset\n",
      "issuperset\n",
      "pop\n",
      "remove\n",
      "symmetric_difference\n",
      "symmetric_difference_update\n",
      "union\n",
      "update\n"
     ]
    }
   ],
   "source": [
    "print(*dir(set)[-17:], sep='\\n')"
   ]
  },
  {
   "cell_type": "code",
   "execution_count": 49,
   "id": "dd7dad28",
   "metadata": {},
   "outputs": [
    {
     "name": "stdout",
     "output_type": "stream",
     "text": [
      "<class 'dict'>\n"
     ]
    }
   ],
   "source": [
    "s = {}\n",
    "print(type(s))"
   ]
  },
  {
   "cell_type": "code",
   "execution_count": 50,
   "id": "dfbb8aec",
   "metadata": {},
   "outputs": [
    {
     "name": "stdout",
     "output_type": "stream",
     "text": [
      "set()\n"
     ]
    }
   ],
   "source": [
    "s = set()\n",
    "print(s)"
   ]
  },
  {
   "cell_type": "code",
   "execution_count": 51,
   "id": "c609a491",
   "metadata": {},
   "outputs": [],
   "source": [
    "s.add(10)"
   ]
  },
  {
   "cell_type": "code",
   "execution_count": 52,
   "id": "026b03eb",
   "metadata": {},
   "outputs": [
    {
     "name": "stdout",
     "output_type": "stream",
     "text": [
      "{10}\n"
     ]
    }
   ],
   "source": [
    "print(s)"
   ]
  },
  {
   "cell_type": "code",
   "execution_count": 53,
   "id": "d7391f80",
   "metadata": {},
   "outputs": [],
   "source": [
    "s.add(100)"
   ]
  },
  {
   "cell_type": "code",
   "execution_count": 54,
   "id": "f7a18f72",
   "metadata": {},
   "outputs": [
    {
     "name": "stdout",
     "output_type": "stream",
     "text": [
      "{10, 100}\n"
     ]
    }
   ],
   "source": [
    "print(s)"
   ]
  },
  {
   "cell_type": "code",
   "execution_count": 55,
   "id": "af779ddb",
   "metadata": {},
   "outputs": [],
   "source": [
    "s.update([45, 36, 23, 76, 45, 10, 30, 20])"
   ]
  },
  {
   "cell_type": "code",
   "execution_count": 56,
   "id": "fe7559ac",
   "metadata": {},
   "outputs": [
    {
     "name": "stdout",
     "output_type": "stream",
     "text": [
      "{100, 36, 10, 76, 45, 20, 23, 30}\n"
     ]
    }
   ],
   "source": [
    "print(s)"
   ]
  },
  {
   "cell_type": "code",
   "execution_count": 57,
   "id": "28dfe41f",
   "metadata": {},
   "outputs": [],
   "source": [
    "r = s.pop() # random"
   ]
  },
  {
   "cell_type": "code",
   "execution_count": 58,
   "id": "b1464670",
   "metadata": {},
   "outputs": [
    {
     "name": "stdout",
     "output_type": "stream",
     "text": [
      "100\n"
     ]
    }
   ],
   "source": [
    "print(r)"
   ]
  },
  {
   "cell_type": "code",
   "execution_count": 59,
   "id": "87607495",
   "metadata": {},
   "outputs": [
    {
     "name": "stdout",
     "output_type": "stream",
     "text": [
      "36\n"
     ]
    }
   ],
   "source": [
    "r = s.pop()\n",
    "print(r)"
   ]
  },
  {
   "cell_type": "code",
   "execution_count": 60,
   "id": "7d3d866c",
   "metadata": {},
   "outputs": [
    {
     "name": "stdout",
     "output_type": "stream",
     "text": [
      "{10, 76, 45, 20, 23, 30}\n"
     ]
    }
   ],
   "source": [
    "print(s)"
   ]
  },
  {
   "cell_type": "code",
   "execution_count": 61,
   "id": "d5f9122a",
   "metadata": {},
   "outputs": [],
   "source": [
    "s.remove(45)"
   ]
  },
  {
   "cell_type": "code",
   "execution_count": 62,
   "id": "c4d3c447",
   "metadata": {},
   "outputs": [
    {
     "name": "stdout",
     "output_type": "stream",
     "text": [
      "{10, 76, 20, 23, 30}\n"
     ]
    }
   ],
   "source": [
    "print(s)"
   ]
  },
  {
   "cell_type": "code",
   "execution_count": 63,
   "id": "12db39be",
   "metadata": {},
   "outputs": [
    {
     "ename": "KeyError",
     "evalue": "45",
     "output_type": "error",
     "traceback": [
      "\u001b[1;31m---------------------------------------------------------------------------\u001b[0m",
      "\u001b[1;31mKeyError\u001b[0m                                  Traceback (most recent call last)",
      "Input \u001b[1;32mIn [63]\u001b[0m, in \u001b[0;36m<cell line: 1>\u001b[1;34m()\u001b[0m\n\u001b[1;32m----> 1\u001b[0m \u001b[43ms\u001b[49m\u001b[38;5;241;43m.\u001b[39;49m\u001b[43mremove\u001b[49m\u001b[43m(\u001b[49m\u001b[38;5;241;43m45\u001b[39;49m\u001b[43m)\u001b[49m\n",
      "\u001b[1;31mKeyError\u001b[0m: 45"
     ]
    }
   ],
   "source": [
    "s.remove(45)"
   ]
  },
  {
   "cell_type": "code",
   "execution_count": 64,
   "id": "7ea4ff8e",
   "metadata": {},
   "outputs": [
    {
     "data": {
      "text/plain": [
       "{10, 20, 23, 30, 76}"
      ]
     },
     "execution_count": 64,
     "metadata": {},
     "output_type": "execute_result"
    }
   ],
   "source": [
    "s"
   ]
  },
  {
   "cell_type": "code",
   "execution_count": 65,
   "id": "b9a7fade",
   "metadata": {},
   "outputs": [],
   "source": [
    "s.discard(10)"
   ]
  },
  {
   "cell_type": "code",
   "execution_count": 66,
   "id": "8763a85e",
   "metadata": {},
   "outputs": [
    {
     "name": "stdout",
     "output_type": "stream",
     "text": [
      "{76, 20, 23, 30}\n"
     ]
    }
   ],
   "source": [
    "print(s)"
   ]
  },
  {
   "cell_type": "code",
   "execution_count": 67,
   "id": "25b42ac2",
   "metadata": {},
   "outputs": [],
   "source": [
    "s.discard(1001)"
   ]
  },
  {
   "cell_type": "code",
   "execution_count": 68,
   "id": "be4e48d4",
   "metadata": {},
   "outputs": [],
   "source": [
    "## operations"
   ]
  },
  {
   "cell_type": "code",
   "execution_count": 69,
   "id": "06d9b94e",
   "metadata": {},
   "outputs": [],
   "source": [
    "s1 = { 1, 2, 3, 4, 5, 6}\n",
    "s2 = {4, 5, 6, 7, 8, 9, 10}"
   ]
  },
  {
   "cell_type": "code",
   "execution_count": 70,
   "id": "884c3ed9",
   "metadata": {},
   "outputs": [
    {
     "name": "stdout",
     "output_type": "stream",
     "text": [
      "{4, 5, 6}\n"
     ]
    }
   ],
   "source": [
    "s3 = s1.intersection(s2)\n",
    "print(s3)"
   ]
  },
  {
   "cell_type": "code",
   "execution_count": 71,
   "id": "02d2dee6",
   "metadata": {},
   "outputs": [],
   "source": [
    "s1.intersection_update(s2)"
   ]
  },
  {
   "cell_type": "code",
   "execution_count": 72,
   "id": "a64b0cdb",
   "metadata": {},
   "outputs": [
    {
     "name": "stdout",
     "output_type": "stream",
     "text": [
      "{4, 5, 6}\n"
     ]
    }
   ],
   "source": [
    "print(s1)"
   ]
  },
  {
   "cell_type": "code",
   "execution_count": 73,
   "id": "16ebed93",
   "metadata": {},
   "outputs": [],
   "source": [
    "s1 = { 1, 2, 3, 4, 5, 6}\n",
    "s2 = {4, 5, 6, 7, 8, 9, 10}"
   ]
  },
  {
   "cell_type": "code",
   "execution_count": 74,
   "id": "b55e3035",
   "metadata": {},
   "outputs": [],
   "source": [
    "s3 = s1.difference(s2)"
   ]
  },
  {
   "cell_type": "code",
   "execution_count": 75,
   "id": "b91e184e",
   "metadata": {},
   "outputs": [
    {
     "name": "stdout",
     "output_type": "stream",
     "text": [
      "{1, 2, 3}\n"
     ]
    }
   ],
   "source": [
    "print(s3)"
   ]
  },
  {
   "cell_type": "code",
   "execution_count": 76,
   "id": "8cca1858",
   "metadata": {},
   "outputs": [
    {
     "name": "stdout",
     "output_type": "stream",
     "text": [
      "{1, 2, 3, 4, 5, 6}\n"
     ]
    }
   ],
   "source": [
    "print(s1)"
   ]
  },
  {
   "cell_type": "code",
   "execution_count": 77,
   "id": "2ab9259e",
   "metadata": {},
   "outputs": [],
   "source": [
    "s3 = s1.difference_update(s2)"
   ]
  },
  {
   "cell_type": "code",
   "execution_count": 78,
   "id": "58cbcdaf",
   "metadata": {},
   "outputs": [
    {
     "name": "stdout",
     "output_type": "stream",
     "text": [
      "None\n"
     ]
    }
   ],
   "source": [
    "print(s3)"
   ]
  },
  {
   "cell_type": "code",
   "execution_count": 79,
   "id": "50d4e5e5",
   "metadata": {},
   "outputs": [
    {
     "name": "stdout",
     "output_type": "stream",
     "text": [
      "{1, 2, 3}\n"
     ]
    }
   ],
   "source": [
    "print(s1)"
   ]
  },
  {
   "cell_type": "code",
   "execution_count": 80,
   "id": "2a2c47d5",
   "metadata": {},
   "outputs": [],
   "source": [
    "s1 = { 1, 2, 3, 4, 5, 6}\n",
    "s2 = {4, 5, 6, 7, 8, 9, 10}"
   ]
  },
  {
   "cell_type": "code",
   "execution_count": 81,
   "id": "562b8d5a",
   "metadata": {},
   "outputs": [],
   "source": [
    "s3 = s1.union(s2)"
   ]
  },
  {
   "cell_type": "code",
   "execution_count": 82,
   "id": "4678f434",
   "metadata": {},
   "outputs": [
    {
     "name": "stdout",
     "output_type": "stream",
     "text": [
      "{1, 2, 3, 4, 5, 6, 7, 8, 9, 10}\n"
     ]
    }
   ],
   "source": [
    "print(s3)"
   ]
  },
  {
   "cell_type": "code",
   "execution_count": 83,
   "id": "5f27a747",
   "metadata": {},
   "outputs": [],
   "source": [
    "s1 = { 1, 2, 3}\n",
    "s2 = {4, 5, 6}"
   ]
  },
  {
   "cell_type": "code",
   "execution_count": 84,
   "id": "48c4902d",
   "metadata": {},
   "outputs": [],
   "source": [
    "v = s1.isdisjoint(s2)"
   ]
  },
  {
   "cell_type": "code",
   "execution_count": 85,
   "id": "44c2d425",
   "metadata": {},
   "outputs": [
    {
     "name": "stdout",
     "output_type": "stream",
     "text": [
      "True\n"
     ]
    }
   ],
   "source": [
    "print(v)"
   ]
  },
  {
   "cell_type": "code",
   "execution_count": 87,
   "id": "6a6303be",
   "metadata": {},
   "outputs": [
    {
     "name": "stdout",
     "output_type": "stream",
     "text": [
      "False\n"
     ]
    }
   ],
   "source": [
    "v = s1.issuperset(s2)\n",
    "print(v)"
   ]
  },
  {
   "cell_type": "code",
   "execution_count": 88,
   "id": "d80e4bab",
   "metadata": {},
   "outputs": [],
   "source": [
    "s1 = { 1, 2, 3, 4, 5, 6}\n",
    "s2 = {2, 4, 6}"
   ]
  },
  {
   "cell_type": "code",
   "execution_count": 89,
   "id": "a74e2aa5",
   "metadata": {},
   "outputs": [
    {
     "name": "stdout",
     "output_type": "stream",
     "text": [
      "True\n"
     ]
    }
   ],
   "source": [
    "v = s1.issuperset(s2)\n",
    "print(v)"
   ]
  },
  {
   "cell_type": "code",
   "execution_count": 90,
   "id": "a44734cb",
   "metadata": {},
   "outputs": [
    {
     "name": "stdout",
     "output_type": "stream",
     "text": [
      "['__and__', '__class__', '__class_getitem__', '__contains__', '__delattr__', '__dir__', '__doc__', '__eq__', '__format__', '__ge__', '__getattribute__', '__gt__', '__hash__', '__iand__', '__init__', '__init_subclass__', '__ior__', '__isub__', '__iter__', '__ixor__', '__le__', '__len__', '__lt__', '__ne__', '__new__', '__or__', '__rand__', '__reduce__', '__reduce_ex__', '__repr__', '__ror__', '__rsub__', '__rxor__', '__setattr__', '__sizeof__', '__str__', '__sub__', '__subclasshook__', '__xor__', 'add', 'clear', 'copy', 'difference', 'difference_update', 'discard', 'intersection', 'intersection_update', 'isdisjoint', 'issubset', 'issuperset', 'pop', 'remove', 'symmetric_difference', 'symmetric_difference_update', 'union', 'update']\n"
     ]
    }
   ],
   "source": [
    "print(dir(s))"
   ]
  },
  {
   "cell_type": "markdown",
   "id": "ddc789ec",
   "metadata": {},
   "source": [
    "#### Opeartors\n",
    "\n",
    "#### IF-ELSE"
   ]
  },
  {
   "cell_type": "code",
   "execution_count": 91,
   "id": "89179082",
   "metadata": {},
   "outputs": [],
   "source": [
    "names = [\n",
    "    \"harsh\", \"rajesh jangid\", \"gaurav sharma\", \"rishi sharma\",\n",
    "    \"saurabh shera[new]\", \"sachin joshi\", \n",
    "    \"(hitesh, harshit, suraj) -> ravi sir\",\n",
    "    \"priyanka\", \"priyanka\", \"mohit\", \"aman\", \"vaibhav\", \"shubham\",\n",
    "\n",
    "]"
   ]
  },
  {
   "cell_type": "code",
   "execution_count": 92,
   "id": "5c52b1c0",
   "metadata": {},
   "outputs": [],
   "source": [
    "info = { 'name': 'sachin', 'subject': 'python'}"
   ]
  },
  {
   "cell_type": "code",
   "execution_count": 93,
   "id": "8fd6ca48",
   "metadata": {},
   "outputs": [
    {
     "name": "stdout",
     "output_type": "stream",
     "text": [
      "THis is my information\n",
      "{'name': 'sachin', 'subject': 'python'}\n"
     ]
    }
   ],
   "source": [
    "print(\"THis is my information\")\n",
    "print(info)"
   ]
  },
  {
   "cell_type": "markdown",
   "id": "a07153aa",
   "metadata": {},
   "source": [
    "    zip, map, lambda"
   ]
  },
  {
   "cell_type": "code",
   "execution_count": 96,
   "id": "97a23dfb",
   "metadata": {},
   "outputs": [],
   "source": [
    "a = list(zip(\n",
    "    [1, 2, 3, 4], \n",
    "    ['one', 'two', 'three', 'four'],\n",
    "    ['ek', 'dou', 'teen', 'chaar']\n",
    "))"
   ]
  },
  {
   "cell_type": "code",
   "execution_count": 97,
   "id": "aa51936f",
   "metadata": {},
   "outputs": [
    {
     "data": {
      "text/plain": [
       "[(1, 'one', 'ek'),\n",
       " (2, 'two', 'dou'),\n",
       " (3, 'three', 'teen'),\n",
       " (4, 'four', 'chaar')]"
      ]
     },
     "execution_count": 97,
     "metadata": {},
     "output_type": "execute_result"
    }
   ],
   "source": [
    "a"
   ]
  },
  {
   "cell_type": "code",
   "execution_count": 98,
   "id": "b6bc27a1",
   "metadata": {},
   "outputs": [],
   "source": [
    "names = [\"sachin\", \"rajat\", \"kushal\"]\n",
    "age =  [26, 34, 29]"
   ]
  },
  {
   "cell_type": "code",
   "execution_count": 101,
   "id": "ca8f180b",
   "metadata": {},
   "outputs": [],
   "source": [
    "d = dict(zip(names, age))"
   ]
  },
  {
   "cell_type": "code",
   "execution_count": 102,
   "id": "e1a58f0e",
   "metadata": {},
   "outputs": [
    {
     "name": "stdout",
     "output_type": "stream",
     "text": [
      "{'sachin': 26, 'rajat': 34, 'kushal': 29}\n"
     ]
    }
   ],
   "source": [
    "print(d)"
   ]
  },
  {
   "cell_type": "code",
   "execution_count": 103,
   "id": "c8685acb",
   "metadata": {},
   "outputs": [
    {
     "name": "stdout",
     "output_type": "stream",
     "text": [
      "{'sachin': 26, 'rajat': 34, 'kushal': 29}\n"
     ]
    }
   ],
   "source": [
    "print(d)"
   ]
  },
  {
   "cell_type": "code",
   "execution_count": 104,
   "id": "600eda8a",
   "metadata": {},
   "outputs": [],
   "source": [
    "x = [ *d ]"
   ]
  },
  {
   "cell_type": "code",
   "execution_count": 105,
   "id": "30863e71",
   "metadata": {},
   "outputs": [
    {
     "name": "stdout",
     "output_type": "stream",
     "text": [
      "['sachin', 'rajat', 'kushal']\n"
     ]
    }
   ],
   "source": [
    "print(x)"
   ]
  },
  {
   "cell_type": "code",
   "execution_count": 106,
   "id": "6b9b4188",
   "metadata": {},
   "outputs": [
    {
     "name": "stdout",
     "output_type": "stream",
     "text": [
      "hello\n"
     ]
    }
   ],
   "source": [
    "print(\"hello\")"
   ]
  },
  {
   "cell_type": "code",
   "execution_count": 108,
   "id": "068f4bbd",
   "metadata": {},
   "outputs": [
    {
     "name": "stdout",
     "output_type": "stream",
     "text": [
      "h e l l o\n",
      "h e l l o\n"
     ]
    }
   ],
   "source": [
    "print(*\"hello\")\n",
    "print(\"h\", \"e\", \"l\", \"l\", \"o\")"
   ]
  },
  {
   "cell_type": "code",
   "execution_count": 110,
   "id": "57d70c03",
   "metadata": {},
   "outputs": [],
   "source": [
    "d1 = { 'one': 1, 'two': 2}\n",
    "d2 = { 'three': 3, 'four': 4}"
   ]
  },
  {
   "cell_type": "code",
   "execution_count": 111,
   "id": "5157e65c",
   "metadata": {},
   "outputs": [],
   "source": [
    "d = {**d1, **d2}"
   ]
  },
  {
   "cell_type": "code",
   "execution_count": 112,
   "id": "742a5279",
   "metadata": {},
   "outputs": [
    {
     "name": "stdout",
     "output_type": "stream",
     "text": [
      "{'one': 1, 'two': 2, 'three': 3, 'four': 4}\n"
     ]
    }
   ],
   "source": [
    "print(d)"
   ]
  },
  {
   "cell_type": "code",
   "execution_count": 113,
   "id": "98f1b351",
   "metadata": {},
   "outputs": [
    {
     "name": "stdout",
     "output_type": "stream",
     "text": [
      "append\n",
      "clear\n",
      "copy\n",
      "count\n",
      "extend\n",
      "index\n",
      "insert\n",
      "pop\n",
      "remove\n",
      "reverse\n",
      "sort\n"
     ]
    }
   ],
   "source": [
    "print(*dir(list)[-11:], sep='\\n')"
   ]
  },
  {
   "cell_type": "markdown",
   "id": "7888294a",
   "metadata": {},
   "source": [
    "LOOP\n",
    "\n",
    "    while\n",
    "    \n",
    "    for\n",
    "    \n",
    "    *, **\n",
    "    \n",
    "    map\n",
    "    \n",
    "    zip"
   ]
  },
  {
   "cell_type": "code",
   "execution_count": null,
   "id": "5a998b17",
   "metadata": {},
   "outputs": [],
   "source": []
  }
 ],
 "metadata": {
  "kernelspec": {
   "display_name": "Python 3 (ipykernel)",
   "language": "python",
   "name": "python3"
  },
  "language_info": {
   "codemirror_mode": {
    "name": "ipython",
    "version": 3
   },
   "file_extension": ".py",
   "mimetype": "text/x-python",
   "name": "python",
   "nbconvert_exporter": "python",
   "pygments_lexer": "ipython3",
   "version": "3.9.12"
  }
 },
 "nbformat": 4,
 "nbformat_minor": 5
}
