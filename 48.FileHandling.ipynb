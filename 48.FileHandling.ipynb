{
 "cells": [
  {
   "cell_type": "markdown",
   "id": "59699c68",
   "metadata": {},
   "source": [
    "### Any Doubt ? "
   ]
  },
  {
   "cell_type": "markdown",
   "id": "80a04cc0",
   "metadata": {},
   "source": [
    "program --> RAM SCOPE\n",
    "\n",
    "        __main__ Scope (Global)\n",
    "    \n",
    "                Stores data Temprorary\n",
    "        \n",
    "                        func() --> \n",
    "                                LOCAL SCOPE\n",
    "                                        tempropary -> "
   ]
  },
  {
   "cell_type": "markdown",
   "id": "1a3f6072",
   "metadata": {},
   "source": [
    "    RAM --> Primary Memory\n",
    "    \n",
    "    \n",
    "    HDD / SSD  --> Secondary Memory"
   ]
  },
  {
   "cell_type": "markdown",
   "id": "d69d00ac",
   "metadata": {},
   "source": [
    "    HDD/SSD --> Storage Devices \n",
    "    \n",
    "        \n",
    "        16 GB --> 14.7 GB   1.3 GB ? \n",
    "        \n",
    "        \n",
    "        500 SSD --> 470 GB   30GB    490 GB --> 10GB ?\n",
    "        \n",
    "        \n",
    "        File System"
   ]
  },
  {
   "cell_type": "markdown",
   "id": "342f9cb0",
   "metadata": {},
   "source": [
    "\n",
    "\n",
    "\n",
    "            Data -> Block Information / Content\n",
    "            \n",
    "            \n",
    "            Meta Data -> Data about Data\n",
    "            \n",
    "                filename, time, PATH, user, size, permission, bla bla....\n",
    "            \n",
    "            \n",
    "            \n",
    "            \n",
    "            \n",
    "            "
   ]
  },
  {
   "cell_type": "code",
   "execution_count": 1,
   "id": "f71ad3fc",
   "metadata": {},
   "outputs": [
    {
     "name": "stdout",
     "output_type": "stream",
     "text": [
      "/c/Users/Sachi/Grras Solution Pvt. Ltd/Python_107_hindi_8Aug_6pm - Live Class ðŸ“º/ClassCode/Python\n"
     ]
    }
   ],
   "source": [
    "!pwd"
   ]
  },
  {
   "cell_type": "markdown",
   "id": "a4ec40c8",
   "metadata": {},
   "source": [
    "### Standard Library\n",
    "\n",
    "    os  --> operating system"
   ]
  },
  {
   "cell_type": "code",
   "execution_count": 3,
   "id": "61739971",
   "metadata": {},
   "outputs": [],
   "source": [
    "import os"
   ]
  },
  {
   "cell_type": "code",
   "execution_count": 4,
   "id": "1ce1cf40",
   "metadata": {},
   "outputs": [
    {
     "data": {
      "text/plain": [
       "0"
      ]
     },
     "execution_count": 4,
     "metadata": {},
     "output_type": "execute_result"
    }
   ],
   "source": [
    "os.system('notepad')"
   ]
  },
  {
   "cell_type": "code",
   "execution_count": 6,
   "id": "1a4c57d7",
   "metadata": {},
   "outputs": [
    {
     "data": {
      "text/plain": [
       "'C:\\\\Users\\\\Sachi\\\\Grras Solution Pvt. Ltd\\\\Python_107_hindi_8Aug_6pm - Live Class 📺\\\\ClassCode\\\\Python'"
      ]
     },
     "execution_count": 6,
     "metadata": {},
     "output_type": "execute_result"
    }
   ],
   "source": [
    "pwd"
   ]
  },
  {
   "cell_type": "code",
   "execution_count": 7,
   "id": "f6dba2d4",
   "metadata": {},
   "outputs": [
    {
     "data": {
      "text/plain": [
       "2"
      ]
     },
     "execution_count": 7,
     "metadata": {},
     "output_type": "execute_result"
    }
   ],
   "source": [
    "os.system('python  \"C:\\\\Users\\\\Sachi\\\\Grras Solution Pvt. Ltd\\\\Python_107_hindi_8Aug_6pm - Live Class 📺\\\\ClassCode\\\\Python\\\\47.BankApplication\\bank_app.py\"')"
   ]
  },
  {
   "cell_type": "code",
   "execution_count": 8,
   "id": "7571cc76",
   "metadata": {},
   "outputs": [],
   "source": [
    "import subprocess"
   ]
  },
  {
   "cell_type": "code",
   "execution_count": 13,
   "id": "ffecff3f",
   "metadata": {},
   "outputs": [],
   "source": [
    "cmd = \"python 47.BankApplication/bank_app.py\""
   ]
  },
  {
   "cell_type": "code",
   "execution_count": 14,
   "id": "a9b6247c",
   "metadata": {},
   "outputs": [],
   "source": [
    "status, output = subprocess.getstatusoutput(cmd)"
   ]
  },
  {
   "cell_type": "code",
   "execution_count": 15,
   "id": "cdf6d716",
   "metadata": {},
   "outputs": [
    {
     "name": "stdout",
     "output_type": "stream",
     "text": [
      "1\n"
     ]
    }
   ],
   "source": [
    "print(status)"
   ]
  },
  {
   "cell_type": "code",
   "execution_count": 16,
   "id": "70660029",
   "metadata": {},
   "outputs": [
    {
     "name": "stdout",
     "output_type": "stream",
     "text": [
      "\f",
      "\n",
      "\n",
      "\n",
      "\n",
      "\n",
      "                                       Welcome to Python Bank                                       \n",
      "\n",
      "\n",
      "\n",
      "\n",
      "\n",
      "    1. Login\n",
      "    2. Signup\n",
      "    3. Exit\n",
      "    \n",
      "choice: Traceback (most recent call last):\n",
      "  File \"C:\\Users\\Sachi\\Grras Solution Pvt. Ltd\\Python_107_hindi_8Aug_6pm - Live Class \\U0001f4fa\\ClassCode\\Python\\47.BankApplication\\bank_app.py\", line 159, in <module>\n",
      "    main_menu()\n",
      "  File \"C:\\Users\\Sachi\\Grras Solution Pvt. Ltd\\Python_107_hindi_8Aug_6pm - Live Class \\U0001f4fa\\ClassCode\\Python\\47.BankApplication\\bank_app.py\", line 109, in main_menu\n",
      "    ch = input(\"choice: \")\n",
      "EOFError: EOF when reading a line\n"
     ]
    }
   ],
   "source": [
    "print(output)"
   ]
  },
  {
   "cell_type": "code",
   "execution_count": 17,
   "id": "f8a5efd3",
   "metadata": {},
   "outputs": [],
   "source": [
    "import os"
   ]
  },
  {
   "cell_type": "code",
   "execution_count": 18,
   "id": "16edc2bb",
   "metadata": {},
   "outputs": [],
   "source": [
    "path = os.getcwd() # get current working directory"
   ]
  },
  {
   "cell_type": "code",
   "execution_count": 20,
   "id": "c781dd29",
   "metadata": {},
   "outputs": [
    {
     "name": "stdout",
     "output_type": "stream",
     "text": [
      "C:\\Users\\Sachi\\Grras Solution Pvt. Ltd\\Python_107_hindi_8Aug_6pm - Live Class 📺\\ClassCode\\Python\n"
     ]
    }
   ],
   "source": [
    "print(path)"
   ]
  },
  {
   "cell_type": "code",
   "execution_count": 21,
   "id": "47858e4b",
   "metadata": {},
   "outputs": [],
   "source": [
    "files = os.listdir(\"C:\\\\users\\\\sachi\\\\Desktop\")"
   ]
  },
  {
   "cell_type": "code",
   "execution_count": 22,
   "id": "bcd64aad",
   "metadata": {},
   "outputs": [
    {
     "name": "stdout",
     "output_type": "stream",
     "text": [
      "['Arya', 'codes', 'desktop.ini', 'python.pptx', 'python110_attendance.txt', 'python_script.txt']\n"
     ]
    }
   ],
   "source": [
    "print(files)"
   ]
  },
  {
   "cell_type": "code",
   "execution_count": 23,
   "id": "53d1aa88",
   "metadata": {},
   "outputs": [],
   "source": [
    "files = os.listdir(\"D:\\\\\")"
   ]
  },
  {
   "cell_type": "code",
   "execution_count": 24,
   "id": "4cca4b4e",
   "metadata": {},
   "outputs": [
    {
     "name": "stdout",
     "output_type": "stream",
     "text": [
      "['$RECYCLE.BIN', 'Data', 'IMAGES', 'Movies', 'System Volume Information']\n"
     ]
    }
   ],
   "source": [
    "print(files)"
   ]
  },
  {
   "cell_type": "markdown",
   "id": "d7be38e3",
   "metadata": {},
   "source": [
    "    Home Dir -->   /users/____/Downloads"
   ]
  },
  {
   "cell_type": "code",
   "execution_count": 31,
   "id": "d298c16c",
   "metadata": {},
   "outputs": [
    {
     "name": "stdout",
     "output_type": "stream",
     "text": [
      "ALLUSERSPROFILE APPDATA COMMONPROGRAMFILES COMMONPROGRAMFILES(X86) COMMONPROGRAMW6432 COMPUTERNAME COMSPEC DRIVERDATA HOMEDRIVE HOMEPATH LOCALAPPDATA LOGONSERVER NUMBER_OF_PROCESSORS ONEDRIVE ONEDRIVECOMMERCIAL ONEDRIVECONSUMER OS PATH PATHEXT PROCESSOR_ARCHITECTURE PROCESSOR_IDENTIFIER PROCESSOR_LEVEL PROCESSOR_REVISION PROGRAMDATA PROGRAMFILES PROGRAMFILES(X86) PROGRAMW6432 PSMODULEPATH PUBLIC SESSIONNAME SYSTEMDRIVE SYSTEMROOT TEMP TMP USERDOMAIN USERDOMAIN_ROAMINGPROFILE USERNAME USERPROFILE WEATHER_API_KEY WINDIR PYDEVD_USE_FRAME_EVAL JPY_INTERRUPT_EVENT IPY_INTERRUPT_EVENT JPY_PARENT_PID TERM CLICOLOR PAGER GIT_PAGER MPLBACKEND\n"
     ]
    }
   ],
   "source": [
    "print(*os.environ.keys())"
   ]
  },
  {
   "cell_type": "code",
   "execution_count": 34,
   "id": "2c4657cb",
   "metadata": {},
   "outputs": [
    {
     "name": "stdout",
     "output_type": "stream",
     "text": [
      "\\Users\\Sachi\n",
      "\\Users\\Sachi\\Downloads\n",
      "['attendance', 'Books', 'data', 'desktop.ini', 'DevOps Work', 'new_task', 'profile.jfif', 'quiz.jpg', 'Resumes', 'Tasks', 'Test Papers']\n"
     ]
    }
   ],
   "source": [
    "home = os.environ[\"HOMEPATH\"]\n",
    "folder = \"Downloads\"\n",
    "\n",
    "path = os.path.join(home, folder)\n",
    "print(home)\n",
    "print(path)\n",
    "\n",
    "print(os.listdir(path))"
   ]
  },
  {
   "cell_type": "code",
   "execution_count": null,
   "id": "41c2afd9",
   "metadata": {},
   "outputs": [],
   "source": []
  },
  {
   "cell_type": "code",
   "execution_count": null,
   "id": "b1d9a3d3",
   "metadata": {},
   "outputs": [],
   "source": []
  },
  {
   "cell_type": "code",
   "execution_count": 26,
   "id": "9a8c0bca",
   "metadata": {},
   "outputs": [
    {
     "name": "stdout",
     "output_type": "stream",
     "text": [
      "environ({'ALLUSERSPROFILE': 'C:\\\\ProgramData', 'APPDATA': 'C:\\\\Users\\\\Sachi\\\\AppData\\\\Roaming', 'COMMONPROGRAMFILES': 'C:\\\\Program Files\\\\Common Files', 'COMMONPROGRAMFILES(X86)': 'C:\\\\Program Files (x86)\\\\Common Files', 'COMMONPROGRAMW6432': 'C:\\\\Program Files\\\\Common Files', 'COMPUTERNAME': 'SACHIN', 'COMSPEC': 'C:\\\\WINDOWS\\\\system32\\\\cmd.exe', 'DRIVERDATA': 'C:\\\\Windows\\\\System32\\\\Drivers\\\\DriverData', 'HOMEDRIVE': 'C:', 'HOMEPATH': '\\\\Users\\\\Sachi', 'LOCALAPPDATA': 'C:\\\\Users\\\\Sachi\\\\AppData\\\\Local', 'LOGONSERVER': '\\\\\\\\SACHIN', 'NUMBER_OF_PROCESSORS': '8', 'ONEDRIVE': 'C:\\\\Users\\\\Sachi\\\\OneDrive - Grras Solution Pvt. Ltd', 'ONEDRIVECOMMERCIAL': 'C:\\\\Users\\\\Sachi\\\\OneDrive - Grras Solution Pvt. Ltd', 'ONEDRIVECONSUMER': 'C:\\\\Users\\\\Sachi\\\\OneDrive', 'OS': 'Windows_NT', 'PATH': 'C:\\\\Program Files (x86)\\\\VMware\\\\VMware Player\\\\bin\\\\;C:\\\\WINDOWS\\\\system32;C:\\\\WINDOWS;C:\\\\WINDOWS\\\\System32\\\\Wbem;C:\\\\WINDOWS\\\\System32\\\\WindowsPowerShell\\\\v1.0\\\\;C:\\\\WINDOWS\\\\System32\\\\OpenSSH\\\\;C:\\\\Program Files\\\\Git\\\\cmd;C:\\\\Program Files\\\\Git\\\\mingw64\\\\bin;C:\\\\Program Files\\\\Git\\\\usr\\\\bin;C:\\\\ProgramData\\\\Anaconda3\\\\Library;C:\\\\ProgramData\\\\Anaconda3\\\\Lib;C:\\\\ProgramData\\\\Anaconda3\\\\DLLs;C:\\\\Program Files\\\\Microsoft VS Code\\\\bin;C:\\\\ProgramData\\\\Anaconda3;C:\\\\ProgramData\\\\Anaconda3\\\\Scripts;C:\\\\ProgramData\\\\Anaconda3\\\\pkgs;C:\\\\ProgramData\\\\Anaconda3\\\\Library\\\\bin;C:\\\\ProgramData\\\\Anaconda3\\\\Library\\\\mingw-w64\\\\bin;C:\\\\Users\\\\Sachi\\\\AppData\\\\Local\\\\Microsoft\\\\WindowsApps;C:\\\\xampp\\\\mysql\\\\bin;C:\\\\Program Files\\\\Google\\\\Chrome\\\\Application;C:\\\\Users\\\\Sachi\\\\AppData\\\\Local\\\\Pandoc\\\\', 'PATHEXT': '.COM;.EXE;.BAT;.CMD;.VBS;.VBE;.JS;.JSE;.WSF;.WSH;.MSC;.CPL', 'PROCESSOR_ARCHITECTURE': 'AMD64', 'PROCESSOR_IDENTIFIER': 'Intel64 Family 6 Model 142 Stepping 10, GenuineIntel', 'PROCESSOR_LEVEL': '6', 'PROCESSOR_REVISION': '8e0a', 'PROGRAMDATA': 'C:\\\\ProgramData', 'PROGRAMFILES': 'C:\\\\Program Files', 'PROGRAMFILES(X86)': 'C:\\\\Program Files (x86)', 'PROGRAMW6432': 'C:\\\\Program Files', 'PSMODULEPATH': 'C:\\\\Users\\\\Sachi\\\\Documents\\\\WindowsPowerShell\\\\Modules;C:\\\\Program Files\\\\WindowsPowerShell\\\\Modules;C:\\\\WINDOWS\\\\system32\\\\WindowsPowerShell\\\\v1.0\\\\Modules', 'PUBLIC': 'C:\\\\Users\\\\Public', 'SESSIONNAME': 'Console', 'SYSTEMDRIVE': 'C:', 'SYSTEMROOT': 'C:\\\\WINDOWS', 'TEMP': 'C:\\\\Users\\\\Sachi\\\\AppData\\\\Local\\\\Temp', 'TMP': 'C:\\\\Users\\\\Sachi\\\\AppData\\\\Local\\\\Temp', 'USERDOMAIN': 'SACHIN', 'USERDOMAIN_ROAMINGPROFILE': 'SACHIN', 'USERNAME': 'Sachi', 'USERPROFILE': 'C:\\\\Users\\\\Sachi', 'WEATHER_API_KEY': 'fd7f28c8d62c6af1bd9e3cfd7f8ef537', 'WINDIR': 'C:\\\\WINDOWS', 'PYDEVD_USE_FRAME_EVAL': 'NO', 'JPY_INTERRUPT_EVENT': '2800', 'IPY_INTERRUPT_EVENT': '2800', 'JPY_PARENT_PID': '2816', 'TERM': 'xterm-color', 'CLICOLOR': '1', 'PAGER': 'cat', 'GIT_PAGER': 'cat', 'MPLBACKEND': 'module://matplotlib_inline.backend_inline'})\n"
     ]
    }
   ],
   "source": [
    "print(os.environ)\n",
    "# "
   ]
  },
  {
   "cell_type": "code",
   "execution_count": null,
   "id": "88f5ca01",
   "metadata": {},
   "outputs": [],
   "source": [
    "files = os.listdir(\"C:\\\\users\\sachi\")"
   ]
  }
 ],
 "metadata": {
  "kernelspec": {
   "display_name": "Python 3 (ipykernel)",
   "language": "python",
   "name": "python3"
  },
  "language_info": {
   "codemirror_mode": {
    "name": "ipython",
    "version": 3
   },
   "file_extension": ".py",
   "mimetype": "text/x-python",
   "name": "python",
   "nbconvert_exporter": "python",
   "pygments_lexer": "ipython3",
   "version": "3.9.13"
  }
 },
 "nbformat": 4,
 "nbformat_minor": 5
}
