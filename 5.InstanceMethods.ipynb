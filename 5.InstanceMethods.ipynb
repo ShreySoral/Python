{
 "cells": [
  {
   "cell_type": "markdown",
   "id": "9edf8640",
   "metadata": {},
   "source": [
    "#### function or method\n",
    "\n",
    "    function\n",
    "    \n",
    "        len(\"hello\") len([1, 2, 3]) print(\"hello\")  input('something ')\n",
    "        \n",
    "    methods\n",
    "    \n",
    "        obj.method,  str.lower(), list.append(), dict.get()\n",
    "    "
   ]
  },
  {
   "cell_type": "code",
   "execution_count": 1,
   "id": "13cc1662",
   "metadata": {},
   "outputs": [
    {
     "ename": "NameError",
     "evalue": "name 'append' is not defined",
     "output_type": "error",
     "traceback": [
      "\u001b[1;31m---------------------------------------------------------------------------\u001b[0m",
      "\u001b[1;31mNameError\u001b[0m                                 Traceback (most recent call last)",
      "\u001b[1;32m~\\AppData\\Local\\Temp\\ipykernel_11328\\751030029.py\u001b[0m in \u001b[0;36m<module>\u001b[1;34m\u001b[0m\n\u001b[1;32m----> 1\u001b[1;33m \u001b[0mappend\u001b[0m\u001b[1;33m(\u001b[0m\u001b[1;33m[\u001b[0m\u001b[1;36m1\u001b[0m\u001b[1;33m,\u001b[0m \u001b[1;36m2\u001b[0m\u001b[1;33m]\u001b[0m\u001b[1;33m,\u001b[0m \u001b[1;36m3\u001b[0m\u001b[1;33m)\u001b[0m\u001b[1;33m\u001b[0m\u001b[1;33m\u001b[0m\u001b[0m\n\u001b[0m",
      "\u001b[1;31mNameError\u001b[0m: name 'append' is not defined"
     ]
    }
   ],
   "source": [
    "append([1, 2], 3)"
   ]
  },
  {
   "cell_type": "code",
   "execution_count": null,
   "id": "8228c613",
   "metadata": {},
   "outputs": [],
   "source": []
  },
  {
   "cell_type": "code",
   "execution_count": 3,
   "id": "7b85aa49",
   "metadata": {},
   "outputs": [
    {
     "name": "stdout",
     "output_type": "stream",
     "text": [
      "[10, 50, 100]\n"
     ]
    }
   ],
   "source": [
    "one = [10, 50]\n",
    "\n",
    "one.append(100)\n",
    "# list.append(one, 100)\n",
    "# list.append(self, obj)\n",
    "print(one)\n"
   ]
  },
  {
   "cell_type": "code",
   "execution_count": null,
   "id": "7e5ac3b5",
   "metadata": {},
   "outputs": [],
   "source": []
  },
  {
   "cell_type": "code",
   "execution_count": 4,
   "id": "4baed2b4",
   "metadata": {},
   "outputs": [],
   "source": [
    "class A:\n",
    "    def get_name(self):\n",
    "        print(self)"
   ]
  },
  {
   "cell_type": "code",
   "execution_count": 5,
   "id": "ae5797e3",
   "metadata": {},
   "outputs": [
    {
     "name": "stdout",
     "output_type": "stream",
     "text": [
      "<__main__.A object at 0x0000025D016B90A0>\n"
     ]
    }
   ],
   "source": [
    "x = A()\n",
    "# instance / object\n",
    "print(x)"
   ]
  },
  {
   "cell_type": "code",
   "execution_count": 6,
   "id": "58358bca",
   "metadata": {},
   "outputs": [
    {
     "name": "stdout",
     "output_type": "stream",
     "text": [
      "<__main__.A object at 0x0000025D016B90A0>\n"
     ]
    }
   ],
   "source": [
    "x.get_name()"
   ]
  },
  {
   "cell_type": "code",
   "execution_count": 8,
   "id": "46291063",
   "metadata": {},
   "outputs": [
    {
     "name": "stdout",
     "output_type": "stream",
     "text": [
      "<__main__.A object at 0x0000025D016B90A0>\n"
     ]
    }
   ],
   "source": [
    "A.get_name(x)"
   ]
  },
  {
   "cell_type": "markdown",
   "id": "584f1936",
   "metadata": {},
   "source": [
    "`object` - collection of attributes "
   ]
  },
  {
   "cell_type": "markdown",
   "id": "271afefa",
   "metadata": {},
   "source": [
    "`Instance Methods`\n",
    "\n",
    "    object methods\n",
    "    \n",
    "    methods which required object to perform their actions \n",
    "    \n",
    "    methods which access or manipulates object(instance) attributes\n",
    "    \n",
    "    by default all methods are instance methods"
   ]
  },
  {
   "cell_type": "markdown",
   "id": "1a958bd5",
   "metadata": {},
   "source": [
    "`instance.__dict__`\n",
    "\n",
    "`object.__dict__`\n",
    "\n",
    "    every object stores it's attributes in a dictionary which can be accessed \n",
    "    using __dict__ method or property"
   ]
  },
  {
   "cell_type": "code",
   "execution_count": 10,
   "id": "4fe22086",
   "metadata": {},
   "outputs": [],
   "source": [
    "class A:\n",
    "    def get_name(self):\n",
    "        return self.name\n",
    "    def set_name(self, name):\n",
    "        self.name = name"
   ]
  },
  {
   "cell_type": "code",
   "execution_count": 11,
   "id": "e8cef44f",
   "metadata": {},
   "outputs": [
    {
     "name": "stdout",
     "output_type": "stream",
     "text": [
      "{}\n"
     ]
    }
   ],
   "source": [
    "x = A()\n",
    "print(x.__dict__)"
   ]
  },
  {
   "cell_type": "code",
   "execution_count": 12,
   "id": "d1db0f18",
   "metadata": {},
   "outputs": [
    {
     "name": "stdout",
     "output_type": "stream",
     "text": [
      "{'name': 'Hari Raam'}\n"
     ]
    }
   ],
   "source": [
    "x.set_name(\"Hari Raam\") # A.set_name(x, \"Hari Raam\")\n",
    "print(x.__dict__)"
   ]
  },
  {
   "cell_type": "code",
   "execution_count": 14,
   "id": "ec71645f",
   "metadata": {},
   "outputs": [
    {
     "name": "stdout",
     "output_type": "stream",
     "text": [
      "Hari Raam\n"
     ]
    }
   ],
   "source": [
    "name = x.get_name()\n",
    "print(name)"
   ]
  },
  {
   "cell_type": "code",
   "execution_count": 13,
   "id": "b63772dd",
   "metadata": {},
   "outputs": [
    {
     "name": "stdout",
     "output_type": "stream",
     "text": [
      "{}\n"
     ]
    }
   ],
   "source": [
    "y = A()\n",
    "print(y.__dict__)"
   ]
  },
  {
   "cell_type": "code",
   "execution_count": 15,
   "id": "0c959b47",
   "metadata": {},
   "outputs": [
    {
     "name": "stdout",
     "output_type": "stream",
     "text": [
      "sachin\n",
      "rajat\n"
     ]
    }
   ],
   "source": [
    "class A:\n",
    "    def get_name(self):\n",
    "        return self.name\n",
    "    def set_name(self, name):\n",
    "        self.name = name\n",
    "        \n",
    "x = A(); x.set_name(\"sachin\")\n",
    "y = A(); y.set_name(\"rajat\")\n",
    "\n",
    "print(x.get_name())\n",
    "print(y.get_name())"
   ]
  },
  {
   "cell_type": "code",
   "execution_count": 16,
   "id": "88950790",
   "metadata": {},
   "outputs": [],
   "source": [
    "class A:\n",
    "    pass"
   ]
  },
  {
   "cell_type": "code",
   "execution_count": 17,
   "id": "e84a011e",
   "metadata": {},
   "outputs": [
    {
     "name": "stdout",
     "output_type": "stream",
     "text": [
      "sachin\n"
     ]
    }
   ],
   "source": [
    "x = A()\n",
    "x.name = \"sachin\" # setter method Dynamic Binding / Late Binding\n",
    "print(x.name)\n"
   ]
  },
  {
   "cell_type": "code",
   "execution_count": 19,
   "id": "e2fa17b9",
   "metadata": {},
   "outputs": [
    {
     "data": {
      "text/plain": [
       "'sachin'"
      ]
     },
     "execution_count": 19,
     "metadata": {},
     "output_type": "execute_result"
    }
   ],
   "source": [
    "getattr(x, \"name\")"
   ]
  },
  {
   "cell_type": "code",
   "execution_count": 21,
   "id": "6c8d23da",
   "metadata": {},
   "outputs": [],
   "source": [
    "getattr(x, \"city\", None)"
   ]
  },
  {
   "cell_type": "code",
   "execution_count": 22,
   "id": "4a63b971",
   "metadata": {},
   "outputs": [],
   "source": [
    "# x.city = \"jaipur\"\n",
    "setattr(x, \"city\", \"jaipur\")"
   ]
  },
  {
   "cell_type": "code",
   "execution_count": 23,
   "id": "ad1f580c",
   "metadata": {},
   "outputs": [
    {
     "name": "stdout",
     "output_type": "stream",
     "text": [
      "jaipur\n"
     ]
    }
   ],
   "source": [
    "print(x.city)"
   ]
  },
  {
   "cell_type": "markdown",
   "id": "c1ec958b",
   "metadata": {},
   "source": [
    "    self.attr = value"
   ]
  },
  {
   "cell_type": "code",
   "execution_count": 27,
   "id": "f33925ac",
   "metadata": {},
   "outputs": [
    {
     "name": "stdout",
     "output_type": "stream",
     "text": [
      "sachin jaipur\n",
      "rajat ganganagar\n"
     ]
    }
   ],
   "source": [
    "class A:\n",
    "    def get_name(self):\n",
    "        return self.name\n",
    "    def set_name(self, name):\n",
    "        self.name = name\n",
    "    def get_city(self):\n",
    "        return self.city\n",
    "    def set_city(self, city):\n",
    "        self.city = city\n",
    "        \n",
    "# x = A(\"sachin\", \"jaipur\")   \n",
    "x = A(); x.set_name(\"sachin\"); x.set_city(\"jaipur\")\n",
    "y = A(); y.set_name(\"rajat\"); y.set_city(\"ganganagar\")\n",
    "\n",
    "print(x.get_name(), x.get_city())\n",
    "print(y.get_name(), y.get_city())"
   ]
  },
  {
   "cell_type": "markdown",
   "id": "3ce851b6",
   "metadata": {},
   "source": [
    "`__init__`\n",
    "\n",
    "    constructor which automaticalled during instantitaion (object creation)\n",
    "    \n",
    "    it is used to store some information at object creation time"
   ]
  },
  {
   "cell_type": "code",
   "execution_count": 31,
   "id": "b1c92ec9",
   "metadata": {},
   "outputs": [
    {
     "name": "stdout",
     "output_type": "stream",
     "text": [
      "{}\n"
     ]
    }
   ],
   "source": [
    "class A:\n",
    "    pass\n",
    "\n",
    "x = A()\n",
    "print(x.__dict__)"
   ]
  },
  {
   "cell_type": "code",
   "execution_count": 32,
   "id": "d6725610",
   "metadata": {},
   "outputs": [
    {
     "name": "stdout",
     "output_type": "stream",
     "text": [
      "{'name': 'sachin', 'age': 26, 'city': 'jaipur'}\n"
     ]
    }
   ],
   "source": [
    "x.name = \"sachin\"\n",
    "x.age = 26\n",
    "x.city = \"jaipur\"\n",
    "print(x.__dict__) \n",
    "# at run time you can check how many attributes your object stores"
   ]
  },
  {
   "cell_type": "code",
   "execution_count": 34,
   "id": "4a734981",
   "metadata": {},
   "outputs": [],
   "source": [
    "class A:\n",
    "    def __init__(self):\n",
    "        print(\"ho ho ho! It will be called during creation of each new object\")\n",
    "        x = 10\n",
    "        y = 100"
   ]
  },
  {
   "cell_type": "code",
   "execution_count": 37,
   "id": "94c004cd",
   "metadata": {},
   "outputs": [
    {
     "name": "stdout",
     "output_type": "stream",
     "text": [
      "ho ho ho! It will be called during creation of each new object\n",
      "{}\n"
     ]
    }
   ],
   "source": [
    "x = A()\n",
    "print(x.__dict__)"
   ]
  },
  {
   "cell_type": "code",
   "execution_count": 38,
   "id": "569d0c6c",
   "metadata": {},
   "outputs": [
    {
     "name": "stdout",
     "output_type": "stream",
     "text": [
      "ho ho ho! It will be called during creation of each new object\n"
     ]
    }
   ],
   "source": [
    "y = A()"
   ]
  },
  {
   "cell_type": "code",
   "execution_count": 39,
   "id": "80ae8e0b",
   "metadata": {},
   "outputs": [
    {
     "name": "stdout",
     "output_type": "stream",
     "text": [
      "ho ho ho! It will be called during creation of each new object\n",
      "ho ho ho! It will be called during creation of each new object\n",
      "ho ho ho! It will be called during creation of each new object\n",
      "ho ho ho! It will be called during creation of each new object\n",
      "ho ho ho! It will be called during creation of each new object\n",
      "ho ho ho! It will be called during creation of each new object\n",
      "ho ho ho! It will be called during creation of each new object\n",
      "ho ho ho! It will be called during creation of each new object\n",
      "ho ho ho! It will be called during creation of each new object\n",
      "ho ho ho! It will be called during creation of each new object\n"
     ]
    }
   ],
   "source": [
    "for _ in range(10):\n",
    "    obj = A()"
   ]
  },
  {
   "cell_type": "code",
   "execution_count": 40,
   "id": "580b6885",
   "metadata": {},
   "outputs": [],
   "source": [
    "class A:\n",
    "    def __init__(self):\n",
    "        self.name = \"ha ha\"\n",
    "        self.city = \"ho ho\""
   ]
  },
  {
   "cell_type": "code",
   "execution_count": 44,
   "id": "915b1024",
   "metadata": {},
   "outputs": [
    {
     "name": "stdout",
     "output_type": "stream",
     "text": [
      "ha ha\n",
      "ha ha\n"
     ]
    }
   ],
   "source": [
    "x = A()\n",
    "y = A()\n",
    "print(x.name)\n",
    "print(y.name)"
   ]
  },
  {
   "cell_type": "code",
   "execution_count": 43,
   "id": "e60a303f",
   "metadata": {},
   "outputs": [
    {
     "name": "stdout",
     "output_type": "stream",
     "text": [
      "{'name': 'ha ha', 'city': 'ho ho'}\n"
     ]
    }
   ],
   "source": [
    "print(x.__dict__)"
   ]
  },
  {
   "cell_type": "code",
   "execution_count": 42,
   "id": "87571014",
   "metadata": {},
   "outputs": [
    {
     "name": "stdout",
     "output_type": "stream",
     "text": [
      "{'name': 'ha ha', 'city': 'ho ho'}\n"
     ]
    }
   ],
   "source": [
    "print(y.__dict__)"
   ]
  },
  {
   "cell_type": "markdown",
   "id": "5aacc2d3",
   "metadata": {},
   "source": [
    "Student\n",
    "\n",
    "    attributes   -   name, maths, chem, phys\n",
    "    \n",
    "    methods  - get_name, get_percentage, set_marks, get_marks"
   ]
  },
  {
   "cell_type": "code",
   "execution_count": null,
   "id": "7b14195b",
   "metadata": {},
   "outputs": [],
   "source": [
    "class A:\n",
    "    def __init__(self, name, city):\n",
    "        self.name = name\n",
    "        self.city = city\n",
    "    "
   ]
  },
  {
   "cell_type": "code",
   "execution_count": 52,
   "id": "7341c321",
   "metadata": {},
   "outputs": [
    {
     "name": "stdout",
     "output_type": "stream",
     "text": [
      "{'name': 'sachin', 'city': 'jaipur'}\n"
     ]
    }
   ],
   "source": [
    "class A:\n",
    "    def add_data(self, name, city):\n",
    "        self.name = name\n",
    "        self.city = city\n",
    "        \n",
    "x = A()\n",
    "x.add_data(\"sachin\", \"jaipur\")\n",
    "print(x.__dict__)"
   ]
  },
  {
   "cell_type": "markdown",
   "id": "9cdc2f44",
   "metadata": {},
   "source": [
    "`Message Passing`\n"
   ]
  },
  {
   "cell_type": "code",
   "execution_count": 62,
   "id": "c3d0110c",
   "metadata": {},
   "outputs": [
    {
     "name": "stdout",
     "output_type": "stream",
     "text": [
      "ha ha ha\n",
      "ha ha ha\n"
     ]
    }
   ],
   "source": [
    "# class scope shared between all instances of class\n",
    "class A:\n",
    "    data = 'ha ha ha' # class variables / class scope\n",
    "    info = 'hi hi hi'\n",
    "    def hi(self):\n",
    "        self.name = 'hi' # instance variable\n",
    "        pass\n",
    "    def bye(self):\n",
    "        pass\n",
    "    \n",
    "x = A()\n",
    "y = A()\n",
    "\n",
    "print(x.data)\n",
    "print(y.data)\n",
    "A.data = \"some information which you need to pass to every object\""
   ]
  },
  {
   "cell_type": "code",
   "execution_count": 63,
   "id": "b29b167a",
   "metadata": {},
   "outputs": [
    {
     "name": "stdout",
     "output_type": "stream",
     "text": [
      "some information which you need to pass to every object\n",
      "some information which you need to pass to every object\n"
     ]
    }
   ],
   "source": [
    "print(y.data)\n",
    "print(x.data)"
   ]
  },
  {
   "cell_type": "code",
   "execution_count": 57,
   "id": "2e478d73",
   "metadata": {},
   "outputs": [
    {
     "name": "stdout",
     "output_type": "stream",
     "text": [
      "{'__module__': '__main__', 'data': 'ha ha ha', 'info': 'hi hi hi', 'hi': <function A.hi at 0x0000025D035D8B80>, 'bye': <function A.bye at 0x0000025D03600040>, '__dict__': <attribute '__dict__' of 'A' objects>, '__weakref__': <attribute '__weakref__' of 'A' objects>, '__doc__': None}\n"
     ]
    }
   ],
   "source": [
    "print(A.__dict__)"
   ]
  },
  {
   "cell_type": "code",
   "execution_count": 59,
   "id": "48d7439d",
   "metadata": {},
   "outputs": [
    {
     "name": "stdout",
     "output_type": "stream",
     "text": [
      "['__class__', '__delattr__', '__dict__', '__dir__', '__doc__', '__eq__', '__format__', '__ge__', '__getattribute__', '__gt__', '__hash__', '__init__', '__init_subclass__', '__le__', '__lt__', '__module__', '__ne__', '__new__', '__reduce__', '__reduce_ex__', '__repr__', '__setattr__', '__sizeof__', '__str__', '__subclasshook__', '__weakref__', 'bye', 'data', 'hi', 'info']\n"
     ]
    }
   ],
   "source": [
    "a = A()\n",
    "print(dir(a))"
   ]
  },
  {
   "cell_type": "code",
   "execution_count": 54,
   "id": "7e9f09e1",
   "metadata": {},
   "outputs": [
    {
     "name": "stdout",
     "output_type": "stream",
     "text": [
      "{'__module__': '__main__', '__init__': <function A.__init__ at 0x0000025D035D8A60>, '__dict__': <attribute '__dict__' of 'A' objects>, '__weakref__': <attribute '__weakref__' of 'A' objects>, '__doc__': None}\n",
      "{'name': 'sachin', 'city': 'jaipur'}\n",
      "{'name': 'rajat', 'city': 'ganga nagar'}\n"
     ]
    }
   ],
   "source": [
    "class A:\n",
    "    def __init__(self, name, city):\n",
    "        self.name = name\n",
    "        self.city = city\n",
    "\n",
    "x = A(\"sachin\", \"jaipur\")\n",
    "y = A(\"rajat\", \"ganga nagar\")\n",
    "\n",
    "print(A.__dict__)\n",
    "\n",
    "print(x.__dict__)\n",
    "print(y.__dict__)"
   ]
  },
  {
   "cell_type": "markdown",
   "id": "90aee64f",
   "metadata": {},
   "source": [
    "`Class Scope`\n",
    "\n",
    "    Shared Scope among all objects \n",
    "    \n",
    "`Object Scope` `Instance Scope`\n",
    "\n",
    "    for every object there is seprate scope to store their attribute"
   ]
  },
  {
   "cell_type": "code",
   "execution_count": 71,
   "id": "c864ac79",
   "metadata": {},
   "outputs": [
    {
     "name": "stdout",
     "output_type": "stream",
     "text": [
      "b\n"
     ]
    }
   ],
   "source": [
    "import random\n",
    "\n",
    "x = [\"a\", \"b\", \"hi\", \"bye\", \"something\", \"random\", \"will\", \"be\", \"picked\"]\n",
    "r = random.choice(x)\n",
    "print(r)"
   ]
  },
  {
   "cell_type": "code",
   "execution_count": 74,
   "id": "81ac368f",
   "metadata": {},
   "outputs": [],
   "source": [
    "class Human:\n",
    "    intelligence = [\"intelligent\", \"duffer\", \"average\", \"god gifted\"]\n",
    "    colors = [\"white\", \"brown\", \"black\"]\n",
    "    def __init__(self):\n",
    "        self.wisdom = random.choice(Human.intelligence)\n",
    "        self.body_color = random.choice(Human.colors)\n",
    "    def get_info(self):\n",
    "        print(\"Wisdom = \", self.wisdom)\n",
    "        print(\"Body Color = \", self.body_color)"
   ]
  },
  {
   "cell_type": "code",
   "execution_count": 75,
   "id": "f58e4056",
   "metadata": {},
   "outputs": [],
   "source": [
    "x = Human()\n",
    "y = Human()"
   ]
  },
  {
   "cell_type": "code",
   "execution_count": 76,
   "id": "7a881891",
   "metadata": {},
   "outputs": [
    {
     "name": "stdout",
     "output_type": "stream",
     "text": [
      "Wisdom =  average\n",
      "Body Color =  black\n"
     ]
    }
   ],
   "source": [
    "x.get_info()"
   ]
  },
  {
   "cell_type": "code",
   "execution_count": 77,
   "id": "bed32689",
   "metadata": {},
   "outputs": [
    {
     "name": "stdout",
     "output_type": "stream",
     "text": [
      "Wisdom =  average\n",
      "Body Color =  brown\n"
     ]
    }
   ],
   "source": [
    "y.get_info()"
   ]
  },
  {
   "cell_type": "code",
   "execution_count": 86,
   "id": "0e727a52",
   "metadata": {},
   "outputs": [],
   "source": [
    "class Human:\n",
    "    intelligence = [\"intelligent\", \"duffer\", \"average\", \"god gifted\"]\n",
    "    colors = [\"white\", \"brown\", \"black\"]\n",
    "    def __init__(self, name):\n",
    "        self.name = name\n",
    "        self.wisdom = random.choice(Human.intelligence)\n",
    "        self.body_color = random.choice(Human.colors)\n",
    "    def get_info(self):\n",
    "        print(\"Name = \", self.name)\n",
    "        print(\"Wisdom = \", self.wisdom)\n",
    "        print(\"Body Color = \", self.body_color)\n",
    "    def __str__(self):\n",
    "        return f\"Human({self.name})\""
   ]
  },
  {
   "cell_type": "code",
   "execution_count": 87,
   "id": "3c05e0fa",
   "metadata": {},
   "outputs": [],
   "source": [
    "h1 = Human(\"shubham\")\n",
    "h2 = Human(\"rohit\")"
   ]
  },
  {
   "cell_type": "code",
   "execution_count": 89,
   "id": "26c65058",
   "metadata": {},
   "outputs": [
    {
     "data": {
      "text/plain": [
       "'Human(shubham)'"
      ]
     },
     "execution_count": 89,
     "metadata": {},
     "output_type": "execute_result"
    }
   ],
   "source": [
    "str(h1) # class.__str__(obj)"
   ]
  },
  {
   "cell_type": "code",
   "execution_count": 88,
   "id": "c914ae68",
   "metadata": {},
   "outputs": [
    {
     "name": "stdout",
     "output_type": "stream",
     "text": [
      "Human(shubham)\n",
      "Human(rohit)\n"
     ]
    }
   ],
   "source": [
    "print(h1)\n",
    "print(h2)\n",
    "# __str__ --> object representation"
   ]
  },
  {
   "cell_type": "code",
   "execution_count": 80,
   "id": "587cc43c",
   "metadata": {},
   "outputs": [
    {
     "name": "stdout",
     "output_type": "stream",
     "text": [
      "Name =  shubham\n",
      "Wisdom =  intelligent\n",
      "Body Color =  white\n"
     ]
    }
   ],
   "source": [
    "h1.get_info()"
   ]
  },
  {
   "cell_type": "code",
   "execution_count": 81,
   "id": "b4a286ef",
   "metadata": {},
   "outputs": [
    {
     "name": "stdout",
     "output_type": "stream",
     "text": [
      "Name =  rohit\n",
      "Wisdom =  god gifted\n",
      "Body Color =  black\n"
     ]
    }
   ],
   "source": [
    "h2.get_info()"
   ]
  },
  {
   "cell_type": "code",
   "execution_count": 90,
   "id": "5895a57e",
   "metadata": {},
   "outputs": [],
   "source": [
    "class Human:\n",
    "    intelligence = [\"intelligent\", \"duffer\", \"average\", \"god gifted\"]\n",
    "    colors = [\"white\", \"brown\", \"black\"]\n",
    "    def __init__(self, name):\n",
    "        self.name = name\n",
    "        self.wisdom = random.choice(Human.intelligence)\n",
    "        self.body_color = random.choice(Human.colors)\n",
    "    def __str__(self):\n",
    "        data = f\"\"\"\n",
    "                  Name =  {self.name}\n",
    "                Wisdom =  {self.wisdom}\n",
    "            Body Color =  {self.body_color}\n",
    "        \"\"\"\n",
    "        return data\n",
    "    "
   ]
  },
  {
   "cell_type": "code",
   "execution_count": 94,
   "id": "65291e34",
   "metadata": {},
   "outputs": [],
   "source": [
    "Human.intelligence.extend([\"gadha\", \"god level\"])\n",
    "# Monkey Patching"
   ]
  },
  {
   "cell_type": "code",
   "execution_count": 107,
   "id": "5e61eb51",
   "metadata": {},
   "outputs": [
    {
     "name": "stdout",
     "output_type": "stream",
     "text": [
      "\n",
      "                  Name =  shubham\n",
      "                Wisdom =  god level\n",
      "            Body Color =  black\n",
      "        \n"
     ]
    }
   ],
   "source": [
    "h1 = Human(\"shubham\")\n",
    "h2 = Human(\"rohit\")\n",
    "print(h1)"
   ]
  },
  {
   "cell_type": "code",
   "execution_count": 100,
   "id": "e193c11c",
   "metadata": {},
   "outputs": [
    {
     "name": "stdout",
     "output_type": "stream",
     "text": [
      "\n",
      "                  Name =  rohit\n",
      "                Wisdom =  duffer\n",
      "            Body Color =  brown\n",
      "        \n"
     ]
    }
   ],
   "source": [
    "print(h2)"
   ]
  },
  {
   "cell_type": "code",
   "execution_count": 120,
   "id": "0ff86e6e",
   "metadata": {},
   "outputs": [],
   "source": [
    "class Student:\n",
    "    def __init__(self, name, maths, chem, phy):\n",
    "        self.name = name\n",
    "        self.maths = maths\n",
    "        self.chem = chem\n",
    "        self.phy = phy\n",
    "    def get_percent(self):\n",
    "        sum_ = (self.maths+self.chem+self.phy)\n",
    "        per = sum_/3\n",
    "        return per\n",
    "    def get_name(self):\n",
    "        return self.name\n",
    "    def set_name(self, new_name):\n",
    "        self.name = new_name\n",
    "    def get_marks(self):\n",
    "        return {\n",
    "            \"Maths\": self.maths,\n",
    "            \"Chemistry\": self.chem,\n",
    "            \"Physics\": self.phy\n",
    "        }\n",
    "    def set_marks(self, m, c, p):\n",
    "        self.maths = m\n",
    "        self.chem = c\n",
    "        self.phy = p\n",
    "    def show_result(self):\n",
    "        result = f\"\"\"\n",
    "            Name       = {self.name.title()}\n",
    "            Maths      = {self.maths}\n",
    "            Physics    = {self.phy}\n",
    "            Chimistry  = {self.chem}\n",
    "            Percentage = {self.get_percent():.2f}\n",
    "        \"\"\"\n",
    "        print(result)\n",
    "    def __str__(self):\n",
    "        return f\"Student(\\\"{self.name.title()}\\\")\""
   ]
  },
  {
   "cell_type": "code",
   "execution_count": 121,
   "id": "42c496bb",
   "metadata": {},
   "outputs": [],
   "source": [
    "s1 = Student(\"sachin yadav\", 70, 80, 90)\n",
    "s2 = Student(\"rajat goyal\", 80, 80, 60)"
   ]
  },
  {
   "cell_type": "code",
   "execution_count": 122,
   "id": "359d2469",
   "metadata": {},
   "outputs": [
    {
     "name": "stdout",
     "output_type": "stream",
     "text": [
      "Student(\"Sachin Yadav\")\n",
      "Student(\"Rajat Goyal\")\n"
     ]
    }
   ],
   "source": [
    "print(s1)\n",
    "print(s2)"
   ]
  },
  {
   "cell_type": "code",
   "execution_count": 123,
   "id": "163082f7",
   "metadata": {},
   "outputs": [
    {
     "data": {
      "text/plain": [
       "80.0"
      ]
     },
     "execution_count": 123,
     "metadata": {},
     "output_type": "execute_result"
    }
   ],
   "source": [
    "s1.get_percent()"
   ]
  },
  {
   "cell_type": "code",
   "execution_count": 124,
   "id": "e2efaf46",
   "metadata": {},
   "outputs": [
    {
     "data": {
      "text/plain": [
       "73.33333333333333"
      ]
     },
     "execution_count": 124,
     "metadata": {},
     "output_type": "execute_result"
    }
   ],
   "source": [
    "s2.get_percent()"
   ]
  },
  {
   "cell_type": "code",
   "execution_count": 125,
   "id": "37880a66",
   "metadata": {},
   "outputs": [
    {
     "data": {
      "text/plain": [
       "{'Maths': 70, 'Chemistry': 80, 'Physics': 90}"
      ]
     },
     "execution_count": 125,
     "metadata": {},
     "output_type": "execute_result"
    }
   ],
   "source": [
    "s1.get_marks()"
   ]
  },
  {
   "cell_type": "code",
   "execution_count": 126,
   "id": "15fbd4d4",
   "metadata": {},
   "outputs": [
    {
     "data": {
      "text/plain": [
       "{'Maths': 80, 'Chemistry': 80, 'Physics': 60}"
      ]
     },
     "execution_count": 126,
     "metadata": {},
     "output_type": "execute_result"
    }
   ],
   "source": [
    "s2.get_marks()"
   ]
  },
  {
   "cell_type": "code",
   "execution_count": 127,
   "id": "8af6ab72",
   "metadata": {},
   "outputs": [
    {
     "name": "stdout",
     "output_type": "stream",
     "text": [
      "\n",
      "            Name       = Sachin Yadav\n",
      "            Maths      = 70\n",
      "            Physics    = 90\n",
      "            Chimistry  = 80\n",
      "            Percentage = 80.00\n",
      "        \n"
     ]
    }
   ],
   "source": [
    "s1.show_result()"
   ]
  },
  {
   "cell_type": "code",
   "execution_count": 128,
   "id": "7e26dfa6",
   "metadata": {},
   "outputs": [
    {
     "name": "stdout",
     "output_type": "stream",
     "text": [
      "\n",
      "            Name       = Rajat Goyal\n",
      "            Maths      = 80\n",
      "            Physics    = 60\n",
      "            Chimistry  = 80\n",
      "            Percentage = 73.33\n",
      "        \n"
     ]
    }
   ],
   "source": [
    "s2.show_result()"
   ]
  },
  {
   "cell_type": "code",
   "execution_count": 129,
   "id": "48d406ef",
   "metadata": {},
   "outputs": [],
   "source": [
    "s1.set_marks(90, 75, 100)"
   ]
  },
  {
   "cell_type": "code",
   "execution_count": 130,
   "id": "ede304c6",
   "metadata": {},
   "outputs": [
    {
     "name": "stdout",
     "output_type": "stream",
     "text": [
      "\n",
      "            Name       = Sachin Yadav\n",
      "            Maths      = 90\n",
      "            Physics    = 100\n",
      "            Chimistry  = 75\n",
      "            Percentage = 88.33\n",
      "        \n"
     ]
    }
   ],
   "source": [
    "s1.show_result()"
   ]
  },
  {
   "cell_type": "code",
   "execution_count": null,
   "id": "96fe6c05",
   "metadata": {},
   "outputs": [],
   "source": []
  }
 ],
 "metadata": {
  "kernelspec": {
   "display_name": "Python 3 (ipykernel)",
   "language": "python",
   "name": "python3"
  },
  "language_info": {
   "codemirror_mode": {
    "name": "ipython",
    "version": 3
   },
   "file_extension": ".py",
   "mimetype": "text/x-python",
   "name": "python",
   "nbconvert_exporter": "python",
   "pygments_lexer": "ipython3",
   "version": "3.9.13"
  }
 },
 "nbformat": 4,
 "nbformat_minor": 5
}
