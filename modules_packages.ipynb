{
 "cells": [
  {
   "cell_type": "code",
   "execution_count": 1,
   "metadata": {},
   "outputs": [
    {
     "name": "stdout",
     "output_type": "stream",
     "text": [
      "Hello World!\n"
     ]
    }
   ],
   "source": [
    "print(\"Hello World!\")"
   ]
  },
  {
   "cell_type": "markdown",
   "metadata": {},
   "source": [
    "# Modules and Packages\n",
    "\n",
    "    Standard Modules / Built-in Modules / Standard Library\n",
    "\n",
    "        random, time, pprint, operator, getpass, datetime, os, sys, subprocess, socket, pylint\n",
    "\n",
    "    \n",
    "    Third Party Modules / Third Party Library\n",
    "\n",
    "        pypi.org -> python package indexes \n",
    "\n",
    "        matpltolib, cv2, pandas, numpy, sklearn, flask, django, ...\n",
    "\n",
    "        pip install opencv-python\n",
    "    \n",
    "    Custom / User Defined Libraries\n",
    "\n",
    "        we can also create modules or packages\n"
   ]
  },
  {
   "cell_type": "markdown",
   "metadata": {},
   "source": [
    "PEP-8\n",
    "\n",
    "    peps.python.org\n",
    "\n"
   ]
  },
  {
   "cell_type": "markdown",
   "metadata": {},
   "source": [
    "local variables \n",
    "\n",
    "    small cases\n",
    "\n",
    "        def func(first_name):\n",
    "            age = 10\n",
    "\n",
    "global varaible\n",
    "\n",
    "    NAME = \"sachin\"\n",
    "    PERCENTAGE = 88\n",
    "\n",
    "function name\n",
    "\n",
    "def get_name():\n",
    "    pass\n",
    "\n",
    "\n",
    "class Person:\n",
    "    pass\n"
   ]
  },
  {
   "cell_type": "markdown",
   "metadata": {},
   "source": [
    "`.py` file structure\n"
   ]
  },
  {
   "cell_type": "markdown",
   "metadata": {},
   "source": [
    "     demo.py\n",
    "    \"\"\"\n",
    "        Module demo\n",
    "\n",
    "            documenation of Demo\n",
    "    \"\"\"\n",
    "\n",
    "    # library imports\n",
    "    import sys\n",
    "    import time\n",
    "    from random import randint, choice\n",
    "\n",
    "    # Global Static Varaibles\n",
    "    USERNAME = \"SACHIN\"\n",
    "    PASSWORD = \"SomethingSecret\"\n",
    "\n",
    "    def func_1():\n",
    "        \"\"\"\n",
    "        doc-string\n",
    "        \"\"\"\n",
    "\n",
    "    def func_2():\n",
    "        \"\"\"\n",
    "            doc-string\n",
    "        \"\"\"\n",
    "\n",
    "    class One:\n",
    "        \"\"\"doc-string\"\"\"\n",
    "        def method_1(self):\n",
    "            \"\"\"doc-string\"\"\"\n",
    "\n",
    "    if __name__ == \"__main__\":\n",
    "        # script code\n",
    "        # how this code will run we will write\n",
    "        pass"
   ]
  },
  {
   "cell_type": "code",
   "execution_count": 2,
   "metadata": {},
   "outputs": [],
   "source": [
    "import sys"
   ]
  },
  {
   "cell_type": "code",
   "execution_count": 5,
   "metadata": {},
   "outputs": [],
   "source": [
    "import random\n",
    "# random.py"
   ]
  },
  {
   "cell_type": "code",
   "execution_count": 6,
   "metadata": {},
   "outputs": [
    {
     "name": "stdout",
     "output_type": "stream",
     "text": [
      "c:\\ProgramData\\Anaconda3\\lib\\random.py\n"
     ]
    }
   ],
   "source": [
    "print(random.__file__)"
   ]
  },
  {
   "cell_type": "code",
   "execution_count": 3,
   "metadata": {},
   "outputs": [
    {
     "name": "stdout",
     "output_type": "stream",
     "text": [
      "['c:\\\\Users\\\\Sachi\\\\OneDrive - Grras Solution Pvt. Ltd\\\\Python_2022\\\\11.Modules_Packages', 'c:\\\\ProgramData\\\\Anaconda3\\\\python39.zip', 'c:\\\\ProgramData\\\\Anaconda3\\\\DLLs', 'c:\\\\ProgramData\\\\Anaconda3\\\\lib', 'c:\\\\ProgramData\\\\Anaconda3', '', 'C:\\\\Users\\\\Sachi\\\\AppData\\\\Roaming\\\\Python\\\\Python39\\\\site-packages', 'c:\\\\ProgramData\\\\Anaconda3\\\\lib\\\\site-packages', 'c:\\\\ProgramData\\\\Anaconda3\\\\lib\\\\site-packages\\\\win32', 'c:\\\\ProgramData\\\\Anaconda3\\\\lib\\\\site-packages\\\\win32\\\\lib', 'c:\\\\ProgramData\\\\Anaconda3\\\\lib\\\\site-packages\\\\Pythonwin', 'c:\\\\ProgramData\\\\Anaconda3\\\\lib\\\\site-packages\\\\IPython\\\\extensions', 'C:\\\\Users\\\\Sachi\\\\.ipython']\n"
     ]
    }
   ],
   "source": [
    "print(sys.path)\n",
    "# Library Path"
   ]
  },
  {
   "cell_type": "code",
   "execution_count": null,
   "metadata": {},
   "outputs": [],
   "source": []
  }
 ],
 "metadata": {
  "kernelspec": {
   "display_name": "Python 3.9.13 ('base')",
   "language": "python",
   "name": "python3"
  },
  "language_info": {
   "codemirror_mode": {
    "name": "ipython",
    "version": 3
   },
   "file_extension": ".py",
   "mimetype": "text/x-python",
   "name": "python",
   "nbconvert_exporter": "python",
   "pygments_lexer": "ipython3",
   "version": "3.9.13"
  },
  "orig_nbformat": 4,
  "vscode": {
   "interpreter": {
    "hash": "ad2bdc8ecc057115af97d19610ffacc2b4e99fae6737bb82f5d7fb13d2f2c186"
   }
  }
 },
 "nbformat": 4,
 "nbformat_minor": 2
}
