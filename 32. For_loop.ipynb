{
 "cells": [
  {
   "cell_type": "code",
   "execution_count": 1,
   "id": "0a936488",
   "metadata": {},
   "outputs": [
    {
     "name": "stdout",
     "output_type": "stream",
     "text": [
      "Sum of all elements in given list:  38\n"
     ]
    }
   ],
   "source": [
    "data=[3,2,6,7,3,8,9]\n",
    "total=0\n",
    "elements=0\n",
    "while(elements<len(data)):\n",
    "    total=total+data[elements]\n",
    "    elements+=1\n",
    "print(\"Sum of all elements in given list: \", total)"
   ]
  },
  {
   "cell_type": "code",
   "execution_count": 2,
   "id": "6b84c645",
   "metadata": {},
   "outputs": [
    {
     "name": "stdout",
     "output_type": "stream",
     "text": [
      "252\n"
     ]
    }
   ],
   "source": [
    "# another example\n",
    "# printing square sum of all elements in the list\n",
    "data=[3,2,6,7,3,8,9]\n",
    "l=len(data)\n",
    "n=0\n",
    "sum_=0\n",
    "while n<l:\n",
    "    sum_ += data[n]**2\n",
    "    n+=1\n",
    "print(sum_)"
   ]
  },
  {
   "cell_type": "code",
   "execution_count": 4,
   "id": "93e9a004",
   "metadata": {},
   "outputs": [
    {
     "name": "stdout",
     "output_type": "stream",
     "text": [
      "square sum is  252\n"
     ]
    }
   ],
   "source": [
    "# traversal/iteration\n",
    "ans=0\n",
    "i=0\n",
    "while i<len(data):\n",
    "    ans=ans+(data[i]**2)\n",
    "#     print(i, '-->', data[i], '==>', data[i]**2)\n",
    "    i+=1\n",
    "else:\n",
    "    print(\"square sum is \", ans)"
   ]
  },
  {
   "cell_type": "code",
   "execution_count": 5,
   "id": "29df2dab",
   "metadata": {},
   "outputs": [
    {
     "name": "stdout",
     "output_type": "stream",
     "text": [
      "6\n",
      "5\n",
      "4\n",
      "3\n",
      "2\n",
      "1\n",
      "0\n",
      "654321\n"
     ]
    }
   ],
   "source": [
    "num=123456\n",
    "ans=0\n",
    "while num:\n",
    "    rem=num%10\n",
    "    print(rem)\n",
    "    ans=ans*10+rem\n",
    "    num=num//10\n",
    "else:\n",
    "    print(num)\n",
    "    print(ans)"
   ]
  },
  {
   "cell_type": "code",
   "execution_count": 6,
   "id": "9a387a46",
   "metadata": {},
   "outputs": [
    {
     "name": "stdout",
     "output_type": "stream",
     "text": [
      "enter a number: 3\n",
      "3\n",
      "3 is palindrome\n"
     ]
    }
   ],
   "source": [
    "num=int(input(\"enter a number: \"))\n",
    "temp=num\n",
    "palindrome=0\n",
    "while num:\n",
    "    rem=num%10\n",
    "    print(rem)\n",
    "    palindrome=palindrome*10+rem\n",
    "    num=num//10\n",
    "if temp==palindrome:\n",
    "    print(f\"{temp} is palindrome\")\n",
    "else:\n",
    "    print(f\"{temp} is not a palindrome\")"
   ]
  },
  {
   "cell_type": "code",
   "execution_count": 9,
   "id": "2a5d7a38",
   "metadata": {},
   "outputs": [
    {
     "name": "stdout",
     "output_type": "stream",
     "text": [
      "4512327\n",
      "3\n",
      "23\n",
      "123\n"
     ]
    }
   ],
   "source": [
    "num=45123\n",
    "print(num*100+27)\n",
    "print(num%10)\n",
    "print(num%100)\n",
    "print(num%1000)"
   ]
  },
  {
   "cell_type": "code",
   "execution_count": 10,
   "id": "3038ca21",
   "metadata": {},
   "outputs": [
    {
     "name": "stdout",
     "output_type": "stream",
     "text": [
      "12345 5 1234\n",
      "1234 4 123\n",
      "123 3 12\n",
      "12 2 1\n",
      "1 1 0\n"
     ]
    }
   ],
   "source": [
    "num=12345\n",
    "while num:\n",
    "    print(num, num%10, num//10)\n",
    "    num=num//10"
   ]
  },
  {
   "cell_type": "code",
   "execution_count": 12,
   "id": "a671c342",
   "metadata": {},
   "outputs": [
    {
     "name": "stdout",
     "output_type": "stream",
     "text": [
      "6\n",
      "5\n",
      "4\n",
      "3\n",
      "2\n",
      "1\n",
      "0\n",
      "654321\n"
     ]
    }
   ],
   "source": [
    "num=123456\n",
    "ans=0\n",
    "while num!=0:\n",
    "    rem=num%10\n",
    "    print(rem)\n",
    "    ans=ans*10+rem\n",
    "    num=num//10\n",
    "else:\n",
    "    print(num)\n",
    "    print(ans)"
   ]
  },
  {
   "cell_type": "code",
   "execution_count": 14,
   "id": "5cd7c5f1",
   "metadata": {},
   "outputs": [
    {
     "name": "stdout",
     "output_type": "stream",
     "text": [
      "[40, 60, 80]\n"
     ]
    }
   ],
   "source": [
    "# code to convert all items of a list to integer\n",
    "nums=['40','60','80']\n",
    "i=0\n",
    "while i<len(nums):\n",
    "    nums[i]=int(nums[i])\n",
    "    i+=1\n",
    "print(nums)"
   ]
  },
  {
   "cell_type": "code",
   "execution_count": 15,
   "id": "101f3a80",
   "metadata": {},
   "outputs": [
    {
     "name": "stdout",
     "output_type": "stream",
     "text": [
      "10 20 20 30 40\n",
      "[10, 20, 20, 30, 40]\n"
     ]
    }
   ],
   "source": [
    "# improvised code to convert all items of a list to integer\n",
    "# split function splits python strings into a list\n",
    "nums=input().split() \n",
    "i=0\n",
    "while i<len(nums):\n",
    "    nums[i]=int(nums[i])\n",
    "    i+=1\n",
    "print(nums)"
   ]
  },
  {
   "cell_type": "code",
   "execution_count": 16,
   "id": "bcaa6bef",
   "metadata": {},
   "outputs": [
    {
     "data": {
      "text/plain": [
       "<map at 0x251d052b8b0>"
      ]
     },
     "execution_count": 16,
     "metadata": {},
     "output_type": "execute_result"
    }
   ],
   "source": [
    "map(int,['45','60','75'])"
   ]
  },
  {
   "cell_type": "markdown",
   "id": "072730f5",
   "metadata": {},
   "source": [
    "## For Loop\n",
    "    it is used to iterate iterable objects or types\n",
    "    \n",
    "    iterables string,list,tuple,dictionary,set.frozenset,range,zip,enumerate"
   ]
  },
  {
   "cell_type": "code",
   "execution_count": 17,
   "id": "10573986",
   "metadata": {},
   "outputs": [
    {
     "name": "stdout",
     "output_type": "stream",
     "text": [
      "h\n",
      "e\n",
      "l\n",
      "l\n",
      "o\n"
     ]
    }
   ],
   "source": [
    "s=\"hello\"\n",
    "for c in s:\n",
    "    print(c)"
   ]
  },
  {
   "cell_type": "code",
   "execution_count": 18,
   "id": "0b19f22b",
   "metadata": {},
   "outputs": [
    {
     "name": "stdout",
     "output_type": "stream",
     "text": [
      "h\n",
      "e\n",
      "l\n",
      "l\n",
      "o\n"
     ]
    }
   ],
   "source": [
    "# abstraction\n",
    "for c in \"hello\":\n",
    "    print(c)"
   ]
  },
  {
   "cell_type": "code",
   "execution_count": 19,
   "id": "2eb57a41",
   "metadata": {},
   "outputs": [
    {
     "name": "stdout",
     "output_type": "stream",
     "text": [
      "A STRING"
     ]
    }
   ],
   "source": [
    "for char in \"a string\":\n",
    "    print(char.upper(), end=\"\")"
   ]
  },
  {
   "cell_type": "code",
   "execution_count": 22,
   "id": "adc285b8",
   "metadata": {},
   "outputs": [
    {
     "name": "stdout",
     "output_type": "stream",
     "text": [
      "c\n",
      "c++\n",
      "java\n",
      "python\n"
     ]
    }
   ],
   "source": [
    "### Iteration on a list\n",
    "names=['c','c++','java','python']\n",
    "for items in names:\n",
    "    print(items)"
   ]
  },
  {
   "cell_type": "code",
   "execution_count": 24,
   "id": "a8cfeaf8",
   "metadata": {},
   "outputs": [
    {
     "name": "stdout",
     "output_type": "stream",
     "text": [
      "hello world c\n",
      "hello world c++\n",
      "hello world java\n",
      "hello world python\n"
     ]
    }
   ],
   "source": [
    "for items in names:\n",
    "    print(\"hello world\",items)"
   ]
  },
  {
   "cell_type": "code",
   "execution_count": 25,
   "id": "166040a6",
   "metadata": {},
   "outputs": [
    {
     "ename": "TypeError",
     "evalue": "'int' object is not iterable",
     "output_type": "error",
     "traceback": [
      "\u001b[1;31m---------------------------------------------------------------------------\u001b[0m",
      "\u001b[1;31mTypeError\u001b[0m                                 Traceback (most recent call last)",
      "Input \u001b[1;32mIn [25]\u001b[0m, in \u001b[0;36m<cell line: 2>\u001b[1;34m()\u001b[0m\n\u001b[0;32m      1\u001b[0m nums\u001b[38;5;241m=\u001b[39m\u001b[38;5;241m12345\u001b[39m\n\u001b[1;32m----> 2\u001b[0m \u001b[38;5;28;01mfor\u001b[39;00m itme \u001b[38;5;129;01min\u001b[39;00m nums:\n\u001b[0;32m      3\u001b[0m     \u001b[38;5;28mprint\u001b[39m(item)\n",
      "\u001b[1;31mTypeError\u001b[0m: 'int' object is not iterable"
     ]
    }
   ],
   "source": [
    "nums=12345\n",
    "for itme in nums:\n",
    "    print(item)\n",
    "# error because numbers are not iterable"
   ]
  },
  {
   "cell_type": "code",
   "execution_count": 26,
   "id": "9a2be10a",
   "metadata": {},
   "outputs": [
    {
     "name": "stdout",
     "output_type": "stream",
     "text": [
      "'1' <class 'str'>\n",
      "'2' <class 'str'>\n",
      "'3' <class 'str'>\n",
      "'4' <class 'str'>\n",
      "'5' <class 'str'>\n"
     ]
    }
   ],
   "source": [
    "s='12345'\n",
    "for ch in s:\n",
    "    print(repr(ch),type(ch))"
   ]
  },
  {
   "cell_type": "code",
   "execution_count": 32,
   "id": "8bde3fc6",
   "metadata": {},
   "outputs": [
    {
     "name": "stdout",
     "output_type": "stream",
     "text": [
      "____________________________________________________________\n",
      "              sachin=86.00\n",
      "____________________________________________________________\n",
      "               shrey=70.00\n",
      "____________________________________________________________\n",
      "               sahil=60.00\n"
     ]
    }
   ],
   "source": [
    "data=[\n",
    "    [\"sachin\",80,90,88],\n",
    "    [\"shrey\",60,70,80],\n",
    "    [\"sahil\",50,60,70]\n",
    "]\n",
    "\n",
    "for item in data:\n",
    "    name=item[0]\n",
    "    per=sum(item[-3:])/3\n",
    "    print(\"_\"*60)\n",
    "    print(f\"{name:>20}={per:.2f}\")"
   ]
  },
  {
   "cell_type": "code",
   "execution_count": 30,
   "id": "67135bdf",
   "metadata": {},
   "outputs": [
    {
     "name": "stdout",
     "output_type": "stream",
     "text": [
      "[['sachin', 80, 90, 88], ['shrey', 60, 70, 80], ['sahil', 50, 60, 70]]\n"
     ]
    }
   ],
   "source": [
    "print(data[-3:])"
   ]
  },
  {
   "cell_type": "code",
   "execution_count": 33,
   "id": "65f378cd",
   "metadata": {},
   "outputs": [
    {
     "name": "stdout",
     "output_type": "stream",
     "text": [
      "____________________________________________________________\n",
      "              sachin=86.00\n",
      "____________________________________________________________\n",
      "               shrey=70.00\n",
      "____________________________________________________________\n",
      "               sahil=60.00\n"
     ]
    }
   ],
   "source": [
    "# using while loop\n",
    "i=0\n",
    "while i<len(data):\n",
    "    item=data[i]\n",
    "    name=item[0]\n",
    "    per=sum(item[-3:])/3\n",
    "    print(\"_\"*60)\n",
    "    print(f\"{name:>20}={per:.2f}\")\n",
    "    i+=1"
   ]
  },
  {
   "cell_type": "code",
   "execution_count": 35,
   "id": "734265e5",
   "metadata": {},
   "outputs": [
    {
     "name": "stdout",
     "output_type": "stream",
     "text": [
      "___________________________________\n",
      "|  sachin  | 80  | 90  | 88  |86.00|\n",
      "___________________________________\n",
      "|  shrey   | 60  | 70  | 80  |70.00|\n",
      "___________________________________\n",
      "|  sahil   | 50  | 60  | 70  |60.00|\n"
     ]
    }
   ],
   "source": [
    "for name, maths, chem, phy in data:\n",
    "    res=(maths+chem+phy)/3\n",
    "    print(\"_\"*35)\n",
    "    msg=f\"|{name:^10}|{maths:^5}|{chem:^5}|{phy:^5}|{res:5.2f}|\"\n",
    "    print(msg)"
   ]
  },
  {
   "cell_type": "code",
   "execution_count": null,
   "id": "ca82bc54",
   "metadata": {},
   "outputs": [],
   "source": []
  }
 ],
 "metadata": {
  "kernelspec": {
   "display_name": "Python 3 (ipykernel)",
   "language": "python",
   "name": "python3"
  },
  "language_info": {
   "codemirror_mode": {
    "name": "ipython",
    "version": 3
   },
   "file_extension": ".py",
   "mimetype": "text/x-python",
   "name": "python",
   "nbconvert_exporter": "python",
   "pygments_lexer": "ipython3",
   "version": "3.10.5"
  }
 },
 "nbformat": 4,
 "nbformat_minor": 5
}
