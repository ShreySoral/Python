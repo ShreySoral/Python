{
 "cells": [
  {
   "cell_type": "markdown",
   "id": "55703221",
   "metadata": {},
   "source": [
    "What is difference between shallow copy and deep copy? \n",
    "\n",
    "You want to create a library management application, you need to store data about books, students in your program, how will you store data inside python using list? Create some lists with fake data to store information about library management. \n",
    "\n",
    " This chapter introduced assignment statements, like spam = 10. What is the difference between an expression and a statement? \n",
    "\n",
    "Define following \n",
    "\n",
    "Atomic data types / Primary data types \n",
    "\n",
    "Secondary data type / User Defined Data Type \n",
    "\n",
    "What is UDF? "
   ]
  },
  {
   "cell_type": "code",
   "execution_count": 1,
   "id": "574e5de6",
   "metadata": {},
   "outputs": [],
   "source": [
    "# A shallow copy constructs a new compound object and then (to the extent possible) inserts references into it to the objects found in the original. A deep copy constructs a new compound object and then, recursively, inserts copies into it of the objects found in the original."
   ]
  },
  {
   "cell_type": "code",
   "execution_count": 2,
   "id": "f7536bb8",
   "metadata": {},
   "outputs": [],
   "source": [
    "# staffcategory=[\"admin\",\"managers\",\"students\"]"
   ]
  },
  {
   "cell_type": "code",
   "execution_count": 3,
   "id": "5283a0f4",
   "metadata": {},
   "outputs": [],
   "source": [
    "# In programming language terminology, an “expression” is a combination of values and functions that are combined and interpreted by the compiler to create a new value, as opposed to a “statement” which is just a standalone unit of execution and doesn't return anything."
   ]
  },
  {
   "cell_type": "code",
   "execution_count": 4,
   "id": "00f70ab7",
   "metadata": {},
   "outputs": [],
   "source": [
    "# An atomic datatype is a basic datatype such as a Boolean, string, integer, decimal, or date. To define custom atomic datatypes, add restrictions to an atomic datatype to limit the content. Use a facet to define which values to restrict or allow \n",
    "# Primary data types are also known as the fundamental data types because they are pre-defined or they already exist in the C language. All the other types of data types (derived and user-defined data types) are derived from these data types. Primary data types in C are of 4 types: int, char, float, and double."
   ]
  },
  {
   "cell_type": "code",
   "execution_count": 5,
   "id": "4390ef3d",
   "metadata": {},
   "outputs": [],
   "source": [
    "# What is secondary datatype?\n",
    "# Secondary data is the data that has already been collected through primary sources and made readily available for researchers to use for their own research. It is a type of data that has already been collected in the past.\n",
    "# A user-defined data type (UDT) is a data type that derived from an existing data type. You can use UDTs to extend the built-in types already available and create your own customized data types."
   ]
  },
  {
   "cell_type": "code",
   "execution_count": null,
   "id": "03df074d",
   "metadata": {},
   "outputs": [],
   "source": [
    "# User-defined functions are functions that you use to organize your code in the body of a policy. Once you define a function, you can call it in the same way as the built-in action and parser functions. Variables that are passed to a function are passed by reference, rather than by value."
   ]
  }
 ],
 "metadata": {
  "kernelspec": {
   "display_name": "Python 3 (ipykernel)",
   "language": "python",
   "name": "python3"
  },
  "language_info": {
   "codemirror_mode": {
    "name": "ipython",
    "version": 3
   },
   "file_extension": ".py",
   "mimetype": "text/x-python",
   "name": "python",
   "nbconvert_exporter": "python",
   "pygments_lexer": "ipython3",
   "version": "3.10.5"
  }
 },
 "nbformat": 4,
 "nbformat_minor": 5
}
