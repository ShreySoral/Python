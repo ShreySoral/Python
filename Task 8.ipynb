{
 "cells": [
  {
   "cell_type": "code",
   "execution_count": 1,
   "id": "46f3748b",
   "metadata": {},
   "outputs": [],
   "source": [
    "# 1. True and False\n",
    "# 2. AND, OR , NOT\n",
    "# 3. not if 0 then 1 and if 1 then 0\n",
    "# for or if 0 and 0 then 1 and if 1 and 1 then 0\n",
    "# for and if 0 and 1 then 0\n",
    "# 4. (1) false\n",
    "#     (2) false\n",
    "#     (3) true\n",
    "#     (4) false\n",
    "#     (5) true\n",
    "\n",
    "# 5. Python has six comparison operators: less than ( < ), less than or equal to ( <= ), greater than ( > ), greater than or equal to ( >= ), equal to ( == ), and not equal to ( != ).\n",
    "# 6. The “=” is an assignment operator is used to assign the value on the right to the variable on the left. The ‘==’ operator checks whether the two given operands are equal or not. If so, it returns true. Otherwise it returns false.\n",
    "# 7.  The boolean expression in a conditional statement that determines which branch is executed. conditional statement. A statement that controls the flow of execution depending on some condition. In Python the keywords if , elif , and else are used for conditional statements."
   ]
  },
  {
   "cell_type": "code",
   "execution_count": null,
   "id": "9162bce6",
   "metadata": {},
   "outputs": [],
   "source": []
  }
 ],
 "metadata": {
  "kernelspec": {
   "display_name": "Python 3 (ipykernel)",
   "language": "python",
   "name": "python3"
  },
  "language_info": {
   "codemirror_mode": {
    "name": "ipython",
    "version": 3
   },
   "file_extension": ".py",
   "mimetype": "text/x-python",
   "name": "python",
   "nbconvert_exporter": "python",
   "pygments_lexer": "ipython3",
   "version": "3.10.5"
  }
 },
 "nbformat": 4,
 "nbformat_minor": 5
}
