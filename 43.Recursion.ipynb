{
 "cells": [
  {
   "cell_type": "code",
   "execution_count": 1,
   "id": "d15c52ba",
   "metadata": {},
   "outputs": [],
   "source": [
    "def func():\n",
    "    local = \"ha ha he he\"\n",
    "    return local"
   ]
  },
  {
   "cell_type": "code",
   "execution_count": 2,
   "id": "33f60f51",
   "metadata": {},
   "outputs": [],
   "source": [
    "x = func()"
   ]
  },
  {
   "cell_type": "code",
   "execution_count": 3,
   "id": "fd4f4af2",
   "metadata": {},
   "outputs": [
    {
     "name": "stdout",
     "output_type": "stream",
     "text": [
      "ha ha he he\n"
     ]
    }
   ],
   "source": [
    "print(x)"
   ]
  },
  {
   "cell_type": "code",
   "execution_count": 4,
   "id": "b277b27a",
   "metadata": {},
   "outputs": [
    {
     "name": "stdout",
     "output_type": "stream",
     "text": [
      "ha ha he he\n"
     ]
    }
   ],
   "source": [
    "local = func()\n",
    "print(local)"
   ]
  },
  {
   "cell_type": "code",
   "execution_count": 6,
   "id": "bfd6900f",
   "metadata": {},
   "outputs": [],
   "source": [
    "def outer():\n",
    "    x = 10 # local variable of outer function\n",
    "    def inner():\n",
    "        y = 20 # local variable of inner function\n",
    "        print(x)\n",
    "        print(y)\n",
    "    inner()\n",
    "        "
   ]
  },
  {
   "cell_type": "code",
   "execution_count": 7,
   "id": "7f1c1b18",
   "metadata": {},
   "outputs": [
    {
     "name": "stdout",
     "output_type": "stream",
     "text": [
      "10\n",
      "20\n"
     ]
    }
   ],
   "source": [
    "x = 100\n",
    "y = 200\n",
    "outer()"
   ]
  },
  {
   "cell_type": "code",
   "execution_count": 10,
   "id": "09afdd30",
   "metadata": {},
   "outputs": [
    {
     "name": "stdout",
     "output_type": "stream",
     "text": [
      "inside outer\n",
      "x = 10\n",
      "y = 20\n",
      "inside inner\n",
      "x = 10\n",
      "y = 30\n",
      "globaly\n",
      "x = 100\n",
      "y = 30\n"
     ]
    }
   ],
   "source": [
    "def outer():\n",
    "    x = 10\n",
    "    y = 20\n",
    "    def inner():\n",
    "        global  y\n",
    "        y = 30\n",
    "        print(\"inside inner\")\n",
    "        print(f\"x = {x}\")\n",
    "        print(f\"y = {y}\")\n",
    "    print(\"inside outer\")\n",
    "    print(f\"x = {x}\")\n",
    "    print(f\"y = {y}\")\n",
    "    inner()\n",
    "    \n",
    "x = 100\n",
    "y = 200\n",
    "outer()\n",
    "print(\"globaly\")\n",
    "print(f\"x = {x}\")\n",
    "print(f\"y = {y}\")"
   ]
  },
  {
   "cell_type": "code",
   "execution_count": 12,
   "id": "885c1895",
   "metadata": {},
   "outputs": [],
   "source": [
    "def hello():\n",
    "    print(\"hello world!\")\n",
    "\n",
    "def hi():\n",
    "    print(\"hi world!\")\n",
    "    \n",
    "def welcome():\n",
    "    print(\"welcome everyone!\")\n",
    "    \n",
    "def greet():\n",
    "    hello()\n",
    "    hi()\n",
    "    welcome()\n",
    "    print(\"is everything fine ?\")"
   ]
  },
  {
   "cell_type": "code",
   "execution_count": 13,
   "id": "5a10e3dd",
   "metadata": {},
   "outputs": [
    {
     "name": "stdout",
     "output_type": "stream",
     "text": [
      "hello world!\n",
      "hi world!\n",
      "welcome everyone!\n",
      "is everything fine ?\n"
     ]
    }
   ],
   "source": [
    "greet()"
   ]
  },
  {
   "cell_type": "markdown",
   "id": "34653612",
   "metadata": {},
   "source": [
    "### Recursion\n",
    "\n",
    "    when a functions calls itself"
   ]
  },
  {
   "cell_type": "code",
   "execution_count": 1,
   "id": "11cf5739",
   "metadata": {},
   "outputs": [
    {
     "name": "stdout",
     "output_type": "stream",
     "text": [
      "1\n",
      "2\n",
      "3\n",
      "4\n",
      "5\n",
      "6\n",
      "7\n",
      "8\n",
      "9\n",
      "10\n",
      "11\n"
     ]
    }
   ],
   "source": [
    "i = 1\n",
    "def func():\n",
    "    global i\n",
    "    if i<=10:\n",
    "        print(i, flush=True)\n",
    "        i = i + 1\n",
    "        func()\n",
    "    \n",
    "func()\n",
    "print(i)"
   ]
  },
  {
   "cell_type": "code",
   "execution_count": 2,
   "id": "6afabe1d",
   "metadata": {},
   "outputs": [],
   "source": [
    "def hello():\n",
    "    print(\"hello world!\")\n",
    "    hello()\n",
    "    "
   ]
  },
  {
   "cell_type": "code",
   "execution_count": 3,
   "id": "77a099a8",
   "metadata": {},
   "outputs": [
    {
     "name": "stdout",
     "output_type": "stream",
     "text": [
      "hello world!\n"
     ]
    }
   ],
   "source": [
    "hello()"
   ]
  },
  {
   "cell_type": "code",
   "execution_count": 1,
   "id": "c349b681",
   "metadata": {},
   "outputs": [],
   "source": [
    "def hello(x):\n",
    "    if x>0:\n",
    "        hello(x-1)\n",
    "        print(x)\n",
    "    "
   ]
  },
  {
   "cell_type": "code",
   "execution_count": 2,
   "id": "400e73fd",
   "metadata": {},
   "outputs": [
    {
     "name": "stdout",
     "output_type": "stream",
     "text": [
      "1\n",
      "2\n",
      "3\n",
      "4\n",
      "5\n"
     ]
    }
   ],
   "source": [
    "hello(5)"
   ]
  },
  {
   "cell_type": "code",
   "execution_count": 3,
   "id": "cede1880",
   "metadata": {},
   "outputs": [],
   "source": [
    "def hello(x):\n",
    "    if x>0:\n",
    "        print(x)\n",
    "        hello(x-1)\n",
    "       \n",
    "    "
   ]
  },
  {
   "cell_type": "code",
   "execution_count": 4,
   "id": "cd74c73c",
   "metadata": {},
   "outputs": [
    {
     "name": "stdout",
     "output_type": "stream",
     "text": [
      "5\n",
      "4\n",
      "3\n",
      "2\n",
      "1\n"
     ]
    }
   ],
   "source": [
    "hello(5)"
   ]
  },
  {
   "cell_type": "code",
   "execution_count": 5,
   "id": "03308399",
   "metadata": {},
   "outputs": [],
   "source": [
    "def pat1(nrows):\n",
    "    if nrows>0:\n",
    "        print(\"*\"*nrows)\n",
    "        pat1(nrows-1)"
   ]
  },
  {
   "cell_type": "code",
   "execution_count": 6,
   "id": "dbee6b57",
   "metadata": {},
   "outputs": [
    {
     "name": "stdout",
     "output_type": "stream",
     "text": [
      "**********\n",
      "*********\n",
      "********\n",
      "*******\n",
      "******\n",
      "*****\n",
      "****\n",
      "***\n",
      "**\n",
      "*\n"
     ]
    }
   ],
   "source": [
    "pat1(10)"
   ]
  },
  {
   "cell_type": "code",
   "execution_count": 25,
   "id": "07c919d6",
   "metadata": {},
   "outputs": [],
   "source": [
    "def prime(num, check=2):\n",
    "    if num<=1:\n",
    "        return False\n",
    "    if num==2 or num==3:\n",
    "        return True\n",
    "    \n",
    "    if num%check==0:\n",
    "        return False\n",
    "    elif check>num//2:\n",
    "        return True\n",
    "    \n",
    "    return prime(num, check+1)"
   ]
  },
  {
   "cell_type": "code",
   "execution_count": 26,
   "id": "bc82f004",
   "metadata": {},
   "outputs": [
    {
     "name": "stdout",
     "output_type": "stream",
     "text": [
      "2, 3, 5, 7, 11, 13, 17, 19, 23, 29, 31, 37, 41, 43, 47, 53, 59, 61, 67, 71, 73, 79, 83, 89, 97, "
     ]
    }
   ],
   "source": [
    "for i in range(1, 101):\n",
    "    if prime(i):\n",
    "        print(i, end=\", \")"
   ]
  },
  {
   "cell_type": "markdown",
   "id": "c2e2af77",
   "metadata": {},
   "source": [
    "### test paper ?"
   ]
  },
  {
   "cell_type": "code",
   "execution_count": null,
   "id": "66510e45",
   "metadata": {},
   "outputs": [],
   "source": []
  }
 ],
 "metadata": {
  "kernelspec": {
   "display_name": "Python 3 (ipykernel)",
   "language": "python",
   "name": "python3"
  },
  "language_info": {
   "codemirror_mode": {
    "name": "ipython",
    "version": 3
   },
   "file_extension": ".py",
   "mimetype": "text/x-python",
   "name": "python",
   "nbconvert_exporter": "python",
   "pygments_lexer": "ipython3",
   "version": "3.9.12"
  }
 },
 "nbformat": 4,
 "nbformat_minor": 5
}
