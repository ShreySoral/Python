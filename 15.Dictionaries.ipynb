{
 "cells": [
  {
   "cell_type": "markdown",
   "id": "27d86b37",
   "metadata": {},
   "source": [
    "## Data Type\n",
    "\n",
    "    1. Numbers\n",
    "        \n",
    "        int\n",
    "        float\n",
    "        complex\n",
    "        \n",
    "    2. String\n",
    "        \n",
    "        single line \n",
    "        multi-line string\n",
    "        \n",
    "    3. List \n",
    "        \n",
    "        mutable collection of items\n",
    "        \n",
    "    4. Tuple \n",
    "    \n",
    "        immutable collection of items\n",
    "        \n",
    "    5. Dictionary\n",
    "    \n",
    "       HashMap, Collection of key-value pairs\n",
    "       \n",
    "    6. Sets\n",
    "    \n",
    "    7. Frozenset\n",
    "    \n",
    "    8. Bool\n",
    "    \n",
    "    9. None\n",
    "    "
   ]
  },
  {
   "cell_type": "markdown",
   "id": "180fca24",
   "metadata": {},
   "source": [
    "#### Atomic / Primary\n",
    "\n",
    "    int, float complex\n",
    "    \n",
    "#### Sequences \n",
    "\n",
    "    ordered \n",
    "    \n",
    "    Str, List, Tuple, \n",
    "    \n",
    "#### Map Type\n",
    "\n",
    "    Dict, Set"
   ]
  },
  {
   "cell_type": "code",
   "execution_count": null,
   "id": "87c37e81",
   "metadata": {},
   "outputs": [],
   "source": []
  },
  {
   "cell_type": "code",
   "execution_count": 1,
   "id": "0e3ba393",
   "metadata": {},
   "outputs": [],
   "source": [
    "lang = [ 'java', 'c', 'c++', 'ruby', 'perl']"
   ]
  },
  {
   "cell_type": "code",
   "execution_count": 2,
   "id": "295c67fb",
   "metadata": {},
   "outputs": [
    {
     "name": "stdout",
     "output_type": "stream",
     "text": [
      "c++\n"
     ]
    }
   ],
   "source": [
    "item = lang[2]\n",
    "print(item)"
   ]
  },
  {
   "cell_type": "code",
   "execution_count": 54,
   "id": "eaa3d628",
   "metadata": {},
   "outputs": [
    {
     "name": "stdout",
     "output_type": "stream",
     "text": [
      "surya\n"
     ]
    }
   ],
   "source": [
    "name = 'sachin'\n",
    "name = 'surya'\n",
    "\n",
    "# Over-ride\n",
    "\n",
    "print(name)"
   ]
  },
  {
   "cell_type": "code",
   "execution_count": null,
   "id": "c69b155b",
   "metadata": {},
   "outputs": [],
   "source": []
  },
  {
   "cell_type": "markdown",
   "id": "acc5c045",
   "metadata": {},
   "source": [
    "## Dictionary\n",
    "\n",
    "\n",
    "    Hash Map type of data\n",
    "    \n",
    "    Unordered data type\n",
    "    \n",
    "    Collection key-value pairs\n",
    "    \n",
    "    keys should be unique, immutable hashable values \n",
    "        \n",
    "        key -> str, numbers, tuple\n",
    "        \n",
    "    values can be any valid python type\n",
    "    \n",
    "    mutable data type"
   ]
  },
  {
   "cell_type": "markdown",
   "id": "d4014dad",
   "metadata": {},
   "source": [
    "### Syntax:\n",
    "\n",
    "    data = \"c1c2c3...cn\"\n",
    "    \n",
    "    data = [ value1, value2, value3, ..., valuen]\n",
    "\n",
    "\n",
    "    data = {\n",
    "        key1: value1,\n",
    "        key2: value2,\n",
    "        key3: value3,\n",
    "          ...\n",
    "        keyn: valuen\n",
    "    }"
   ]
  },
  {
   "cell_type": "code",
   "execution_count": 4,
   "id": "cbf79666",
   "metadata": {},
   "outputs": [],
   "source": [
    "info = {\n",
    "    \"name\": \"python\",\n",
    "    \"father\": \"guido van rossum\",\n",
    "}"
   ]
  },
  {
   "cell_type": "code",
   "execution_count": 5,
   "id": "08819278",
   "metadata": {},
   "outputs": [
    {
     "name": "stdout",
     "output_type": "stream",
     "text": [
      "{'name': 'python', 'father': 'guido van rossum'}\n"
     ]
    }
   ],
   "source": [
    "print(info)"
   ]
  },
  {
   "cell_type": "code",
   "execution_count": 6,
   "id": "a078ca41",
   "metadata": {},
   "outputs": [
    {
     "name": "stdout",
     "output_type": "stream",
     "text": [
      "<class 'dict'>\n"
     ]
    }
   ],
   "source": [
    "print(type(info))"
   ]
  },
  {
   "cell_type": "code",
   "execution_count": 9,
   "id": "e08e045d",
   "metadata": {},
   "outputs": [
    {
     "name": "stdout",
     "output_type": "stream",
     "text": [
      "clear\n",
      "copy\n",
      "fromkeys\n",
      "get\n",
      "items\n",
      "keys\n",
      "pop\n",
      "popitem\n",
      "setdefault\n",
      "update\n",
      "values\n"
     ]
    }
   ],
   "source": [
    "print(*dir(info)[-11:], sep='\\n')"
   ]
  },
  {
   "cell_type": "code",
   "execution_count": 10,
   "id": "465c729d",
   "metadata": {},
   "outputs": [
    {
     "name": "stdout",
     "output_type": "stream",
     "text": [
      "{'name': 'python', 'father': 'guido van rossum'}\n"
     ]
    }
   ],
   "source": [
    "print(info)"
   ]
  },
  {
   "cell_type": "code",
   "execution_count": 13,
   "id": "8b8d27a7",
   "metadata": {},
   "outputs": [
    {
     "name": "stdout",
     "output_type": "stream",
     "text": [
      "python\n"
     ]
    }
   ],
   "source": [
    "value = info[\"name\"]\n",
    "print(value)"
   ]
  },
  {
   "cell_type": "code",
   "execution_count": 14,
   "id": "0de73b66",
   "metadata": {},
   "outputs": [],
   "source": [
    "value = info[\"father\"]"
   ]
  },
  {
   "cell_type": "code",
   "execution_count": 15,
   "id": "fd1091a2",
   "metadata": {},
   "outputs": [
    {
     "name": "stdout",
     "output_type": "stream",
     "text": [
      "guido van rossum\n"
     ]
    }
   ],
   "source": [
    "print(value)"
   ]
  },
  {
   "cell_type": "code",
   "execution_count": 18,
   "id": "8f7474d7",
   "metadata": {},
   "outputs": [
    {
     "name": "stdout",
     "output_type": "stream",
     "text": [
      "guido van rossum\n"
     ]
    }
   ],
   "source": [
    "ans = info[\"father\"]\n",
    "print(ans)"
   ]
  },
  {
   "cell_type": "code",
   "execution_count": 20,
   "id": "f33f3e7c",
   "metadata": {},
   "outputs": [
    {
     "ename": "KeyError",
     "evalue": "'kuch bhi'",
     "output_type": "error",
     "traceback": [
      "\u001b[1;31m---------------------------------------------------------------------------\u001b[0m",
      "\u001b[1;31mKeyError\u001b[0m                                  Traceback (most recent call last)",
      "Input \u001b[1;32mIn [20]\u001b[0m, in \u001b[0;36m<cell line: 1>\u001b[1;34m()\u001b[0m\n\u001b[1;32m----> 1\u001b[0m \u001b[43minfo\u001b[49m\u001b[43m[\u001b[49m\u001b[38;5;124;43m'\u001b[39;49m\u001b[38;5;124;43mkuch bhi\u001b[39;49m\u001b[38;5;124;43m'\u001b[39;49m\u001b[43m]\u001b[49m\n",
      "\u001b[1;31mKeyError\u001b[0m: 'kuch bhi'"
     ]
    }
   ],
   "source": [
    "info['kuch bhi'] # Exception -> program will terminate over here"
   ]
  },
  {
   "cell_type": "code",
   "execution_count": 21,
   "id": "179775e2",
   "metadata": {},
   "outputs": [
    {
     "name": "stdout",
     "output_type": "stream",
     "text": [
      "{'name': 'python', 'father': 'guido van rossum'}\n"
     ]
    }
   ],
   "source": [
    "print(info)"
   ]
  },
  {
   "cell_type": "markdown",
   "id": "2b3de7c0",
   "metadata": {},
   "source": [
    "`value = dict.get(key, default=None)`\n",
    "\n",
    "    return value of key from dictionary if available else return default value"
   ]
  },
  {
   "cell_type": "code",
   "execution_count": null,
   "id": "e931bcf4",
   "metadata": {},
   "outputs": [],
   "source": []
  },
  {
   "cell_type": "code",
   "execution_count": null,
   "id": "c8f747bc",
   "metadata": {},
   "outputs": [],
   "source": []
  },
  {
   "cell_type": "code",
   "execution_count": null,
   "id": "c70c9762",
   "metadata": {},
   "outputs": [],
   "source": []
  },
  {
   "cell_type": "code",
   "execution_count": null,
   "id": "1c9cdb09",
   "metadata": {},
   "outputs": [],
   "source": []
  },
  {
   "cell_type": "code",
   "execution_count": 30,
   "id": "8c91fce7",
   "metadata": {},
   "outputs": [
    {
     "name": "stdout",
     "output_type": "stream",
     "text": [
      "Database: \n",
      " {'name': 'python', 'father': 'guido van rossum', 'version': '3.10.7', 'website': 'https://python.org', 'launch_year': 1994}\n",
      "enter key: type\n",
      "None\n"
     ]
    }
   ],
   "source": [
    "info = {\n",
    "    'name': 'python',\n",
    "    'father': 'guido van rossum',\n",
    "    'version': '3.10.7',\n",
    "    'website': 'https://python.org',\n",
    "    'launch_year': 1994,\n",
    "}\n",
    "\n",
    "print(\"Database: \\n\", info)\n",
    "key = input(\"enter key: \").strip().lower()\n",
    "\n",
    "value = info.get(key)\n",
    "\n",
    "print(value)"
   ]
  },
  {
   "cell_type": "code",
   "execution_count": 48,
   "id": "0c49efd5",
   "metadata": {},
   "outputs": [],
   "source": [
    "d = {'one': 'ek', 'two': 'dou', 'three': 'teen', 'four': 'chaar',\n",
    "    'five': 'paanch', 'six': 'chaa', 'seven': 'saath', 'eight': 'aath',\n",
    "    'nine': 'nau', 'ten': 'das'}"
   ]
  },
  {
   "cell_type": "code",
   "execution_count": 51,
   "id": "e1d4ebf2",
   "metadata": {},
   "outputs": [
    {
     "name": "stdout",
     "output_type": "stream",
     "text": [
      "{'one': 'ek', 'two': 'dou', 'three': 'teen', 'four': 'chaar', 'five': 'paanch', 'six': 'chaa', 'seven': 'saath', 'eight': 'aath', 'nine': 'nau', 'ten': 'das'}\n"
     ]
    }
   ],
   "source": [
    "print(d)"
   ]
  },
  {
   "cell_type": "code",
   "execution_count": 50,
   "id": "92cc5a1a",
   "metadata": {},
   "outputs": [
    {
     "name": "stdout",
     "output_type": "stream",
     "text": [
      "{'eight': 'aath',\n",
      " 'five': 'paanch',\n",
      " 'four': 'chaar',\n",
      " 'nine': 'nau',\n",
      " 'one': 'ek',\n",
      " 'seven': 'saath',\n",
      " 'six': 'chaa',\n",
      " 'ten': 'das',\n",
      " 'three': 'teen',\n",
      " 'two': 'dou'}\n"
     ]
    }
   ],
   "source": [
    "from pprint import pprint\n",
    "pprint(d)"
   ]
  },
  {
   "cell_type": "code",
   "execution_count": null,
   "id": "e59434ca",
   "metadata": {},
   "outputs": [],
   "source": []
  },
  {
   "cell_type": "code",
   "execution_count": 42,
   "id": "48fcefe7",
   "metadata": {},
   "outputs": [
    {
     "name": "stdout",
     "output_type": "stream",
     "text": [
      "teen\n"
     ]
    }
   ],
   "source": [
    "value = d['three'] # direct\n",
    "print(value)"
   ]
  },
  {
   "cell_type": "code",
   "execution_count": 41,
   "id": "d034c582",
   "metadata": {},
   "outputs": [
    {
     "name": "stdout",
     "output_type": "stream",
     "text": [
      "num: five\n",
      "Not Found!\n"
     ]
    }
   ],
   "source": [
    "num = input(\"num: \")\n",
    "value = d.get(num, \"Not Found!\")\n",
    "print(value)"
   ]
  },
  {
   "cell_type": "raw",
   "id": "81d835ad",
   "metadata": {},
   "source": [
    "C code\n",
    "\n",
    "int x;\n",
    "\n",
    "x = 10;\n",
    "x = \"hi\";"
   ]
  },
  {
   "cell_type": "code",
   "execution_count": 58,
   "id": "ededbf7f",
   "metadata": {},
   "outputs": [
    {
     "name": "stdout",
     "output_type": "stream",
     "text": [
      "hi\n"
     ]
    }
   ],
   "source": [
    "x = 10; \n",
    "x = 'hi';\n",
    "\n",
    "print(x)"
   ]
  },
  {
   "cell_type": "code",
   "execution_count": null,
   "id": "16e967c6",
   "metadata": {},
   "outputs": [],
   "source": []
  },
  {
   "cell_type": "code",
   "execution_count": 52,
   "id": "3745ff1a",
   "metadata": {},
   "outputs": [],
   "source": [
    "from pprint import pprint"
   ]
  },
  {
   "cell_type": "code",
   "execution_count": 55,
   "id": "4748ded2",
   "metadata": {},
   "outputs": [],
   "source": [
    "data = {\n",
    "    \"name\": \"sachin yadav\",\n",
    "    \"email\": 'sachin@grrassolutions.in',\n",
    "    \"phone\": '1234567890',\n",
    "    \"name\": \"surya pratap singh\",\n",
    "    \"email\": \"surya@pratap.com\",\n",
    "    \"phone\": \"1001001001\"\n",
    "}"
   ]
  },
  {
   "cell_type": "code",
   "execution_count": 57,
   "id": "1e923105",
   "metadata": {},
   "outputs": [
    {
     "name": "stdout",
     "output_type": "stream",
     "text": [
      "{'name': 'surya pratap singh', 'email': 'surya@pratap.com', 'phone': '1001001001'}\n"
     ]
    }
   ],
   "source": [
    "print(data)"
   ]
  },
  {
   "cell_type": "code",
   "execution_count": 56,
   "id": "e40fc095",
   "metadata": {},
   "outputs": [
    {
     "name": "stdout",
     "output_type": "stream",
     "text": [
      "{'email': 'surya@pratap.com',\n",
      " 'name': 'surya pratap singh',\n",
      " 'phone': '1001001001'}\n"
     ]
    }
   ],
   "source": [
    "pprint(data)"
   ]
  },
  {
   "cell_type": "code",
   "execution_count": 60,
   "id": "898a0359",
   "metadata": {},
   "outputs": [],
   "source": [
    "data = {\n",
    "    \"name\":  [\"sachin yadav\", \"surya pratap singh\"],\n",
    "    \"email\": ['sachin@grrassolutions.in', \"surya@pratap.com\"],\n",
    "    \"phone\": ['1234567890',  \"1001001001\"]\n",
    "}"
   ]
  },
  {
   "cell_type": "code",
   "execution_count": 61,
   "id": "382c72b0",
   "metadata": {},
   "outputs": [
    {
     "name": "stdout",
     "output_type": "stream",
     "text": [
      "{'email': ['sachin@grrassolutions.in', 'surya@pratap.com'],\n",
      " 'name': ['sachin yadav', 'surya pratap singh'],\n",
      " 'phone': ['1234567890', '1001001001']}\n"
     ]
    }
   ],
   "source": [
    "pprint(data)"
   ]
  },
  {
   "cell_type": "markdown",
   "id": "574e2f90",
   "metadata": {},
   "source": [
    "    print phone no of surya pratap singh"
   ]
  },
  {
   "cell_type": "code",
   "execution_count": 64,
   "id": "ae0bdeac",
   "metadata": {},
   "outputs": [
    {
     "name": "stdout",
     "output_type": "stream",
     "text": [
      "1001001001\n"
     ]
    }
   ],
   "source": [
    "print(data[\"phone\"][1])"
   ]
  },
  {
   "cell_type": "code",
   "execution_count": 63,
   "id": "c0254ee5",
   "metadata": {},
   "outputs": [
    {
     "name": "stdout",
     "output_type": "stream",
     "text": [
      "1001001001\n"
     ]
    }
   ],
   "source": [
    "num = data[\"phone\"][1]\n",
    "print(num)"
   ]
  },
  {
   "cell_type": "markdown",
   "id": "e177140b",
   "metadata": {},
   "source": [
    "## nested dictionary"
   ]
  },
  {
   "cell_type": "code",
   "execution_count": 67,
   "id": "459622c4",
   "metadata": {},
   "outputs": [],
   "source": [
    "info = {\n",
    "    \"name\": \"python\",\n",
    "    \"type\": \"programming language\",\n",
    "    \"father\": \"guido van rossum\",\n",
    "    \"launch year\": 1994,\n",
    "    \"website\": \"python.org\",\n",
    "    \"versions\": [\"python 1.x\", \"python 2.x\", \"python3.x\"],\n",
    "    \"current version\": \"3.10.7\",\n",
    "    \"modules\":{\n",
    "        \"standard\": [\"pprint\", \"random\", \"time\", \"datetime\", \"sys\", \"os\"],\n",
    "        \"website\": [\"flask\", \"django\", \"web2py\", \"fastapi\"],\n",
    "        \"application\": [\"tkinter\", \"wxpython\", \"kivi\"],\n",
    "        \"data science\": [\"pandas\", \"numpy\", \"matplotlib\", \"seaborn\", \"plotly\", \"stats\"],\n",
    "        \"machine learning\": [\"sklearn\", \"tensorflow\", \"keras\", \"pytorch\", \"nltk\"],\n",
    "        \"automation\": [\"anisble\", \"salt\", \"openstack\"],\n",
    "    }\n",
    "}"
   ]
  },
  {
   "cell_type": "code",
   "execution_count": 75,
   "id": "dff1ad5f",
   "metadata": {},
   "outputs": [
    {
     "name": "stdout",
     "output_type": "stream",
     "text": [
      "'plotly'\n"
     ]
    }
   ],
   "source": [
    "md = info['modules']\n",
    "domain = md['data science']\n",
    "lib = domain[4]\n",
    "pprint(lib)"
   ]
  },
  {
   "cell_type": "code",
   "execution_count": null,
   "id": "5c77e0d1",
   "metadata": {},
   "outputs": [],
   "source": []
  },
  {
   "cell_type": "code",
   "execution_count": 71,
   "id": "6df98c13",
   "metadata": {},
   "outputs": [
    {
     "name": "stdout",
     "output_type": "stream",
     "text": [
      "plotly\n"
     ]
    }
   ],
   "source": [
    "ans = info[\"modules\"][\"data science\"][4]\n",
    "print(ans)"
   ]
  },
  {
   "cell_type": "code",
   "execution_count": 77,
   "id": "3547a4df",
   "metadata": {},
   "outputs": [
    {
     "name": "stdout",
     "output_type": "stream",
     "text": [
      "Defaulting to user installation because normal site-packages is not writeable\n",
      "Requirement already satisfied: requests in c:\\programdata\\anaconda3\\lib\\site-packages (2.27.1)\n",
      "Requirement already satisfied: certifi>=2017.4.17 in c:\\programdata\\anaconda3\\lib\\site-packages (from requests) (2021.10.8)\n",
      "Requirement already satisfied: idna<4,>=2.5 in c:\\programdata\\anaconda3\\lib\\site-packages (from requests) (3.3)\n",
      "Requirement already satisfied: charset-normalizer~=2.0.0 in c:\\programdata\\anaconda3\\lib\\site-packages (from requests) (2.0.4)\n",
      "Requirement already satisfied: urllib3<1.27,>=1.21.1 in c:\\programdata\\anaconda3\\lib\\site-packages (from requests) (1.26.9)\n"
     ]
    }
   ],
   "source": [
    "!pip install requests"
   ]
  },
  {
   "cell_type": "code",
   "execution_count": 76,
   "id": "35b9a21e",
   "metadata": {},
   "outputs": [],
   "source": [
    "import requests\n",
    "# pre installed in Anaconda python\n",
    "# in case module not found error run this command \n",
    "# !pip install requests"
   ]
  },
  {
   "cell_type": "code",
   "execution_count": 78,
   "id": "c2e903d3",
   "metadata": {},
   "outputs": [],
   "source": [
    "import requests"
   ]
  },
  {
   "cell_type": "code",
   "execution_count": 79,
   "id": "8aa7db0b",
   "metadata": {},
   "outputs": [],
   "source": [
    "url = \"https://grras.com\"\n",
    "\n",
    "resp = requests.get(url)\n",
    "\n",
    "# data -> APIs -> Application Programming Interface\n",
    "# Live Temprature -> city"
   ]
  },
  {
   "cell_type": "code",
   "execution_count": 83,
   "id": "fd56ad43",
   "metadata": {},
   "outputs": [
    {
     "name": "stdout",
     "output_type": "stream",
     "text": [
      "hey, sachin you are 27 years old.\n"
     ]
    }
   ],
   "source": [
    "name = \"sachin\"\n",
    "\n",
    "age = 27\n",
    "\n",
    "\n",
    "s = \"hey, \" + name + \" you are \" + str(age) + \" years old.\"\n",
    "\n",
    "print(s)"
   ]
  },
  {
   "cell_type": "markdown",
   "id": "fc350d24",
   "metadata": {},
   "source": [
    "    python >= 3.6\n",
    "    \n",
    "    f-string"
   ]
  },
  {
   "cell_type": "code",
   "execution_count": null,
   "id": "a4b56357",
   "metadata": {},
   "outputs": [],
   "source": [
    "name = \"sachin\"\n",
    "age = 27\n",
    "\n",
    "s = \"hey, \" + name + \" you are \" + str(age) + \" years old.\"\n",
    "print(s)"
   ]
  },
  {
   "cell_type": "code",
   "execution_count": 87,
   "id": "65a8ac95",
   "metadata": {},
   "outputs": [
    {
     "name": "stdout",
     "output_type": "stream",
     "text": [
      "hey, sachin you are 27 years old.\n"
     ]
    }
   ],
   "source": [
    "name = \"sachin\"\n",
    "age = 27\n",
    "\n",
    "print(f\"hey, {name} you are {age} years old.\")"
   ]
  },
  {
   "cell_type": "code",
   "execution_count": 82,
   "id": "c70f6ef5",
   "metadata": {},
   "outputs": [],
   "source": [
    "#resp.content"
   ]
  },
  {
   "cell_type": "code",
   "execution_count": 105,
   "id": "be7ca533",
   "metadata": {},
   "outputs": [
    {
     "name": "stdout",
     "output_type": "stream",
     "text": [
      "City:  Rambagh\n",
      "temprature:  30.68 °C haze\n"
     ]
    }
   ],
   "source": [
    "key = \"4db018eff1800d85dc793494f36ed372\"\n",
    "lat = 26.9124\n",
    "lon = 75.7873\n",
    "url = f\"https://api.openweathermap.org/data/2.5/weather?units=metric&lat={lat}&lon={lon}&appid={key}\"\n",
    "\n",
    "\n",
    "resp = requests.get(url)\n",
    "\n",
    "data = resp.json()\n",
    "\n",
    "name = data[\"name\"]\n",
    "temp = data[\"main\"][\"temp\"]\n",
    "desc = data['weather'][0][\"description\"]\n",
    "print(\"City: \", name)\n",
    "print(\"temprature: \", temp, \"°C\", desc)\n"
   ]
  },
  {
   "cell_type": "code",
   "execution_count": 104,
   "id": "51645b13",
   "metadata": {},
   "outputs": [
    {
     "name": "stdout",
     "output_type": "stream",
     "text": [
      "City:  Rambagh\n",
      "temprature:  30.68 °C haze\n"
     ]
    }
   ],
   "source": [
    "name = data[\"name\"]\n",
    "temp = data[\"main\"][\"temp\"]\n",
    "desc = data['weather'][0][\"description\"]\n",
    "print(\"City: \", name)\n",
    "print(\"temprature: \", temp, \"°C\", desc)"
   ]
  },
  {
   "cell_type": "code",
   "execution_count": 96,
   "id": "5c97bdc1",
   "metadata": {},
   "outputs": [
    {
     "name": "stdout",
     "output_type": "stream",
     "text": [
      "{'base': 'stations',\n",
      " 'clouds': {'all': 40},\n",
      " 'cod': 200,\n",
      " 'coord': {'lat': 26.9124, 'lon': 75.7873},\n",
      " 'dt': 1662990987,\n",
      " 'id': 8199371,\n",
      " 'main': {'feels_like': 35.66,\n",
      "          'humidity': 66,\n",
      "          'pressure': 1002,\n",
      "          'temp': 30.68,\n",
      "          'temp_max': 30.68,\n",
      "          'temp_min': 30.68},\n",
      " 'name': 'Rambagh',\n",
      " 'sys': {'country': 'IN',\n",
      "         'id': 9170,\n",
      "         'sunrise': 1662943259,\n",
      "         'sunset': 1662987952,\n",
      "         'type': 1},\n",
      " 'timezone': 19800,\n",
      " 'visibility': 4000,\n",
      " 'weather': [{'description': 'haze', 'icon': '50n', 'id': 721, 'main': 'Haze'}],\n",
      " 'wind': {'deg': 0, 'speed': 1.54}}\n"
     ]
    }
   ],
   "source": [
    "pprint(data)"
   ]
  },
  {
   "cell_type": "code",
   "execution_count": 102,
   "id": "bd3b0e34",
   "metadata": {},
   "outputs": [
    {
     "data": {
      "text/plain": [
       "'haze'"
      ]
     },
     "execution_count": 102,
     "metadata": {},
     "output_type": "execute_result"
    }
   ],
   "source": [
    "data['weather'][0][\"description\"]"
   ]
  },
  {
   "cell_type": "code",
   "execution_count": 106,
   "id": "2121c7e6",
   "metadata": {},
   "outputs": [
    {
     "name": "stdout",
     "output_type": "stream",
     "text": [
      "City:  Sanvordem\n",
      "temprature:  24.12 °C overcast clouds\n"
     ]
    }
   ],
   "source": [
    "key = \"4db018eff1800d85dc793494f36ed372\"\n",
    "lat = 15.2993\n",
    "lon = 74.1240\n",
    "url = f\"https://api.openweathermap.org/data/2.5/weather?units=metric&lat={lat}&lon={lon}&appid={key}\"\n",
    "\n",
    "\n",
    "resp = requests.get(url)\n",
    "\n",
    "data = resp.json()\n",
    "\n",
    "name = data[\"name\"]\n",
    "temp = data[\"main\"][\"temp\"]\n",
    "desc = data['weather'][0][\"description\"]\n",
    "print(\"City: \", name)\n",
    "print(\"temprature: \", temp, \"°C\", desc)\n"
   ]
  },
  {
   "cell_type": "code",
   "execution_count": 116,
   "id": "135c056a",
   "metadata": {},
   "outputs": [
    {
     "name": "stdout",
     "output_type": "stream",
     "text": [
      "City Name: new york\n",
      "City:  new york\n",
      "temprature:  21.6 °C overcast clouds\n"
     ]
    }
   ],
   "source": [
    "name = input(\"City Name: \")\n",
    "\n",
    "url = f\"https://api.openweathermap.org/data/2.5/weather?q={name}&appid={key}&units=metric\"\n",
    "\n",
    "resp = requests.get(url)\n",
    "\n",
    "data = resp.json()\n",
    "\n",
    "ame = data[\"name\"]\n",
    "temp = data[\"main\"][\"temp\"]\n",
    "desc = data['weather'][0][\"description\"]\n",
    "print(\"City: \", name)\n",
    "print(\"temprature: \", temp, \"°C\", desc)"
   ]
  },
  {
   "cell_type": "code",
   "execution_count": 114,
   "id": "d886210a",
   "metadata": {},
   "outputs": [
    {
     "data": {
      "text/plain": [
       "{'coord': {'lon': 75.8167, 'lat': 26.9167},\n",
       " 'weather': [{'id': 721,\n",
       "   'main': 'Haze',\n",
       "   'description': 'haze',\n",
       "   'icon': '50n'}],\n",
       " 'base': 'stations',\n",
       " 'main': {'temp': 30.62,\n",
       "  'feels_like': 35.52,\n",
       "  'temp_min': 30.62,\n",
       "  'temp_max': 30.62,\n",
       "  'pressure': 1002,\n",
       "  'humidity': 66},\n",
       " 'visibility': 4000,\n",
       " 'wind': {'speed': 1.54, 'deg': 0},\n",
       " 'clouds': {'all': 40},\n",
       " 'dt': 1662990895,\n",
       " 'sys': {'type': 1,\n",
       "  'id': 9170,\n",
       "  'country': 'IN',\n",
       "  'sunrise': 1662943252,\n",
       "  'sunset': 1662987946},\n",
       " 'timezone': 19800,\n",
       " 'id': 1269515,\n",
       " 'name': 'Jaipur',\n",
       " 'cod': 200}"
      ]
     },
     "execution_count": 114,
     "metadata": {},
     "output_type": "execute_result"
    }
   ],
   "source": [
    "data"
   ]
  },
  {
   "cell_type": "code",
   "execution_count": 5,
   "id": "981fcf82",
   "metadata": {},
   "outputs": [
    {
     "name": "stdout",
     "output_type": "stream",
     "text": [
      "enter your name: sachin\n"
     ]
    }
   ],
   "source": [
    "d = {\n",
    "    \"name\": input(\"enter your name: \")\n",
    "}"
   ]
  },
  {
   "cell_type": "code",
   "execution_count": 6,
   "id": "5921e571",
   "metadata": {},
   "outputs": [
    {
     "name": "stdout",
     "output_type": "stream",
     "text": [
      "{'name': 'sachin'}\n"
     ]
    }
   ],
   "source": [
    "print(d)"
   ]
  },
  {
   "cell_type": "code",
   "execution_count": null,
   "id": "6d4aa2c2",
   "metadata": {},
   "outputs": [],
   "source": []
  },
  {
   "cell_type": "code",
   "execution_count": 4,
   "id": "79d4bd05",
   "metadata": {},
   "outputs": [
    {
     "name": "stdout",
     "output_type": "stream",
     "text": [
      "Overwriting get_temp.py\n"
     ]
    }
   ],
   "source": [
    "%%writefile get_temp.py\n",
    "\n",
    "import requests\n",
    "\n",
    "\n",
    "key = \"4db018eff1800d85dc793494f36ed372\"\n",
    "name = input(\"City Name: \")\n",
    "\n",
    "url = f\"https://api.openweathermap.org/data/2.5/weather?q={name}&appid={key}&units=metric\"\n",
    "\n",
    "resp = requests.get(url)\n",
    "\n",
    "data = resp.json()\n",
    "\n",
    "name = data[\"name\"]\n",
    "temp = data[\"main\"][\"temp\"]\n",
    "desc = data['weather'][0][\"description\"]\n",
    "print(\"City: \", name)\n",
    "print(\"temprature: \", temp, \"°C\", desc)"
   ]
  },
  {
   "cell_type": "code",
   "execution_count": null,
   "id": "d973196d",
   "metadata": {},
   "outputs": [],
   "source": []
  }
 ],
 "metadata": {
  "kernelspec": {
   "display_name": "Python 3 (ipykernel)",
   "language": "python",
   "name": "python3"
  },
  "language_info": {
   "codemirror_mode": {
    "name": "ipython",
    "version": 3
   },
   "file_extension": ".py",
   "mimetype": "text/x-python",
   "name": "python",
   "nbconvert_exporter": "python",
   "pygments_lexer": "ipython3",
   "version": "3.9.12"
  }
 },
 "nbformat": 4,
 "nbformat_minor": 5
}
