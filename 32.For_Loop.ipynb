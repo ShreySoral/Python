{
 "cells": [
  {
   "cell_type": "markdown",
   "id": "63d50d91",
   "metadata": {},
   "source": [
    "### For LOOP"
   ]
  },
  {
   "cell_type": "code",
   "execution_count": 1,
   "id": "d468c998",
   "metadata": {},
   "outputs": [],
   "source": [
    "data = [3, 2, 6, 7, 3, 8, 9]\n",
    "#       0  1  2  3  4  5  6\n",
    "\n",
    "# print square sum of all elements of given list\n",
    "# do not use any built-in function or for loop [solve using while loop]"
   ]
  },
  {
   "cell_type": "code",
   "execution_count": 9,
   "id": "fd2c203c",
   "metadata": {},
   "outputs": [
    {
     "name": "stdout",
     "output_type": "stream",
     "text": [
      "Square sum is  252\n"
     ]
    }
   ],
   "source": [
    "# Traversal / Iteration\n",
    "ans = 0\n",
    "i = 0\n",
    "while i<len(data): # i<7 # \n",
    "    ans = ans + (data[i]**2)\n",
    "    #print(i,'-->', data[i], '==>', data[i]**2)\n",
    "    i += 1\n",
    "else:\n",
    "    print(\"Square sum is \", ans)\n",
    "    "
   ]
  },
  {
   "cell_type": "code",
   "execution_count": 34,
   "id": "dc39daf8",
   "metadata": {},
   "outputs": [
    {
     "name": "stdout",
     "output_type": "stream",
     "text": [
      "number: 121\n",
      "palindrome\n"
     ]
    }
   ],
   "source": [
    "num = input(\"number: \")\n",
    "\n",
    "if num == num[::-1]:\n",
    "    print('palindrome')\n",
    "else:\n",
    "    print('palindrome')"
   ]
  },
  {
   "cell_type": "code",
   "execution_count": null,
   "id": "6c204105",
   "metadata": {},
   "outputs": [],
   "source": []
  },
  {
   "cell_type": "code",
   "execution_count": 33,
   "id": "411e5d78",
   "metadata": {},
   "outputs": [
    {
     "name": "stdout",
     "output_type": "stream",
     "text": [
      "Enter a number: 12345\n",
      "12345 is not palindrome\n"
     ]
    }
   ],
   "source": [
    "num = int(input(\"Enter a number: \"))\n",
    "original = num\n",
    "palindrome = 0\n",
    "while num:\n",
    "    rem = num%10\n",
    "    palindrome = palindrome*10+rem\n",
    "    num = num//10\n",
    "\n",
    "if original == palindrome:\n",
    "    print(f\"{original} is palindrome\")\n",
    "else:\n",
    "    print(f\"{original} is not palindrome\")"
   ]
  },
  {
   "cell_type": "code",
   "execution_count": null,
   "id": "04498aa0",
   "metadata": {},
   "outputs": [],
   "source": []
  },
  {
   "cell_type": "code",
   "execution_count": 11,
   "id": "0a69c1e6",
   "metadata": {},
   "outputs": [],
   "source": [
    "num = 45123"
   ]
  },
  {
   "cell_type": "code",
   "execution_count": 22,
   "id": "bfa7ee0a",
   "metadata": {},
   "outputs": [
    {
     "data": {
      "text/plain": [
       "123427"
      ]
     },
     "execution_count": 22,
     "metadata": {},
     "output_type": "execute_result"
    }
   ],
   "source": [
    "num = 1234\n",
    "num*100 + 27"
   ]
  },
  {
   "cell_type": "code",
   "execution_count": 19,
   "id": "5bac3f07",
   "metadata": {},
   "outputs": [
    {
     "data": {
      "text/plain": [
       "25"
      ]
     },
     "execution_count": 19,
     "metadata": {},
     "output_type": "execute_result"
    }
   ],
   "source": [
    "num = 2\n",
    "num*10 + 5"
   ]
  },
  {
   "cell_type": "code",
   "execution_count": 16,
   "id": "c72c1818",
   "metadata": {},
   "outputs": [
    {
     "data": {
      "text/plain": [
       "3"
      ]
     },
     "execution_count": 16,
     "metadata": {},
     "output_type": "execute_result"
    }
   ],
   "source": [
    "num%10"
   ]
  },
  {
   "cell_type": "code",
   "execution_count": 23,
   "id": "3c4f575b",
   "metadata": {},
   "outputs": [
    {
     "data": {
      "text/plain": [
       "12"
      ]
     },
     "execution_count": 23,
     "metadata": {},
     "output_type": "execute_result"
    }
   ],
   "source": [
    "num = 123\n",
    "num // 10  # integer division / floor division"
   ]
  },
  {
   "cell_type": "code",
   "execution_count": 24,
   "id": "5be1a310",
   "metadata": {},
   "outputs": [
    {
     "data": {
      "text/plain": [
       "1"
      ]
     },
     "execution_count": 24,
     "metadata": {},
     "output_type": "execute_result"
    }
   ],
   "source": [
    "12//10"
   ]
  },
  {
   "cell_type": "code",
   "execution_count": 25,
   "id": "e3bb7162",
   "metadata": {},
   "outputs": [
    {
     "data": {
      "text/plain": [
       "0"
      ]
     },
     "execution_count": 25,
     "metadata": {},
     "output_type": "execute_result"
    }
   ],
   "source": [
    "1//10"
   ]
  },
  {
   "cell_type": "code",
   "execution_count": 27,
   "id": "6e8ff6e6",
   "metadata": {},
   "outputs": [
    {
     "name": "stdout",
     "output_type": "stream",
     "text": [
      "12345 5 1234\n",
      "1234 4 123\n",
      "123 3 12\n",
      "12 2 1\n",
      "1 1 0\n"
     ]
    }
   ],
   "source": [
    "num = 12345\n",
    "while num:\n",
    "    print(num, num%10, num//10)\n",
    "    \n",
    "    num = num // 10\n",
    "    "
   ]
  },
  {
   "cell_type": "code",
   "execution_count": null,
   "id": "1eff74c5",
   "metadata": {},
   "outputs": [],
   "source": []
  },
  {
   "cell_type": "code",
   "execution_count": 29,
   "id": "784650f6",
   "metadata": {},
   "outputs": [
    {
     "name": "stdout",
     "output_type": "stream",
     "text": [
      "6\n",
      "5\n",
      "4\n",
      "3\n",
      "2\n",
      "1\n",
      "0\n",
      "654321\n"
     ]
    }
   ],
   "source": [
    "num = 123456\n",
    "\n",
    "ans = 0\n",
    "while num!=0: # 1\n",
    "    rem = num%10 # rem = 6, 5, 4, 3, 2, 1\n",
    "    print(rem) # 6, 5, 4, 3, 2, 1\n",
    "    ans = ans*10+rem # ans = 6, 65, 654, 6543, 65432, 654321\n",
    "    num = num//10 # num = 12345, 1234, 123, 12, 1, 0\n",
    "else:\n",
    "    print(num) # 0\n",
    "    print(ans) # 654321"
   ]
  },
  {
   "cell_type": "code",
   "execution_count": null,
   "id": "6e6e025a",
   "metadata": {},
   "outputs": [],
   "source": [
    "45 60 80"
   ]
  },
  {
   "cell_type": "code",
   "execution_count": 35,
   "id": "f3dead46",
   "metadata": {},
   "outputs": [
    {
     "name": "stdout",
     "output_type": "stream",
     "text": [
      "45 60 80\n"
     ]
    }
   ],
   "source": [
    "nums = input()"
   ]
  },
  {
   "cell_type": "code",
   "execution_count": 36,
   "id": "06ccdba5",
   "metadata": {},
   "outputs": [
    {
     "name": "stdout",
     "output_type": "stream",
     "text": [
      "<class 'str'> '45 60 80'\n"
     ]
    }
   ],
   "source": [
    "print(type(nums), repr(nums))"
   ]
  },
  {
   "cell_type": "code",
   "execution_count": 37,
   "id": "c3bce035",
   "metadata": {},
   "outputs": [
    {
     "data": {
      "text/plain": [
       "['45', '60', '80']"
      ]
     },
     "execution_count": 37,
     "metadata": {},
     "output_type": "execute_result"
    }
   ],
   "source": [
    "'45 60 80'.split()"
   ]
  },
  {
   "cell_type": "code",
   "execution_count": 41,
   "id": "e7f68211",
   "metadata": {},
   "outputs": [
    {
     "name": "stdout",
     "output_type": "stream",
     "text": [
      "10 20 40 50 60 10\n",
      "[10, 20, 40, 50, 60, 10]\n"
     ]
    }
   ],
   "source": [
    "\n",
    "\n",
    "# write code to convert all items of a given list to integer\n",
    "# nums = [45, 60, 80]\n",
    "nums = input().split()\n",
    "i = 0\n",
    "while i<len(nums):\n",
    "    nums[i] = int(nums[i])\n",
    "    i+=1\n",
    "\n",
    "print(nums)"
   ]
  },
  {
   "cell_type": "code",
   "execution_count": null,
   "id": "ff5f63fd",
   "metadata": {},
   "outputs": [],
   "source": []
  },
  {
   "cell_type": "code",
   "execution_count": 43,
   "id": "18620a5e",
   "metadata": {},
   "outputs": [
    {
     "data": {
      "text/plain": [
       "['45', '60', '75']"
      ]
     },
     "execution_count": 43,
     "metadata": {},
     "output_type": "execute_result"
    }
   ],
   "source": [
    "\"45 60 75\".split()"
   ]
  },
  {
   "cell_type": "code",
   "execution_count": 45,
   "id": "f500840c",
   "metadata": {},
   "outputs": [
    {
     "data": {
      "text/plain": [
       "[45, 60, 75]"
      ]
     },
     "execution_count": 45,
     "metadata": {},
     "output_type": "execute_result"
    }
   ],
   "source": [
    "list(map(int, ['45', '60', '75'])) # lazy / generators"
   ]
  },
  {
   "cell_type": "code",
   "execution_count": 46,
   "id": "1d010d53",
   "metadata": {},
   "outputs": [
    {
     "name": "stdout",
     "output_type": "stream",
     "text": [
      "10 50 40 \n",
      "[10, 50, 40]\n"
     ]
    }
   ],
   "source": [
    "nums = list(map(int, input().split()))\n",
    "print(nums)"
   ]
  },
  {
   "cell_type": "code",
   "execution_count": null,
   "id": "0acff3e9",
   "metadata": {},
   "outputs": [],
   "source": []
  },
  {
   "cell_type": "markdown",
   "id": "95f29cdb",
   "metadata": {},
   "source": [
    "## For Loop\n",
    "\n",
    "    it is used to iterate iterable objects or types \n",
    "    \n",
    "    iterables - string, list, tuple, dictionary, set, frozenset, range, zip, enumerate, map, ..."
   ]
  },
  {
   "cell_type": "markdown",
   "id": "5620aaf6",
   "metadata": {},
   "source": [
    "Syntax\n",
    "\n",
    "    for item in sequence:\n",
    "        st-1\n",
    "        st-2"
   ]
  },
  {
   "cell_type": "markdown",
   "id": "921f0d69",
   "metadata": {},
   "source": [
    "### String "
   ]
  },
  {
   "cell_type": "code",
   "execution_count": 49,
   "id": "fb65c81a",
   "metadata": {},
   "outputs": [
    {
     "name": "stdout",
     "output_type": "stream",
     "text": [
      "H\n",
      "e\n",
      "l\n",
      "l\n",
      "o\n"
     ]
    }
   ],
   "source": [
    "s = \"Hello\"\n",
    "i = 0\n",
    "while i<len(s):\n",
    "    c = s[i]\n",
    "    print(c)\n",
    "    i += 1"
   ]
  },
  {
   "cell_type": "code",
   "execution_count": 48,
   "id": "c9fc6bf7",
   "metadata": {},
   "outputs": [
    {
     "name": "stdout",
     "output_type": "stream",
     "text": [
      "H\n",
      "e\n",
      "l\n",
      "l\n",
      "o\n"
     ]
    }
   ],
   "source": [
    "s = \"Hello\"\n",
    "for c in s:\n",
    "    print(c)"
   ]
  },
  {
   "cell_type": "code",
   "execution_count": 47,
   "id": "58ca0953",
   "metadata": {},
   "outputs": [
    {
     "name": "stdout",
     "output_type": "stream",
     "text": [
      "H\n",
      "e\n",
      "l\n",
      "l\n",
      "o\n"
     ]
    }
   ],
   "source": [
    "# abstraction\n",
    "for c in \"Hello\":\n",
    "    print(c)"
   ]
  },
  {
   "cell_type": "code",
   "execution_count": 51,
   "id": "be977e00",
   "metadata": {},
   "outputs": [
    {
     "name": "stdout",
     "output_type": "stream",
     "text": [
      "A STRING"
     ]
    }
   ],
   "source": [
    "for char in \"a string\":\n",
    "    print(char.upper(), end=\"\")"
   ]
  },
  {
   "cell_type": "markdown",
   "id": "aebf31cf",
   "metadata": {},
   "source": [
    "#### Iteraion on a list"
   ]
  },
  {
   "cell_type": "code",
   "execution_count": 57,
   "id": "52c8e9b5",
   "metadata": {},
   "outputs": [
    {
     "name": "stdout",
     "output_type": "stream",
     "text": [
      "hi\n",
      "hi\n",
      "hi\n",
      "hi\n",
      "hi\n"
     ]
    }
   ],
   "source": [
    "i = 1\n",
    "while i<=5:\n",
    "    print('hi')\n",
    "    i += 1"
   ]
  },
  {
   "cell_type": "code",
   "execution_count": null,
   "id": "4a14d81d",
   "metadata": {},
   "outputs": [],
   "source": []
  },
  {
   "cell_type": "code",
   "execution_count": 52,
   "id": "5a96be9b",
   "metadata": {},
   "outputs": [],
   "source": [
    "names = [\"c\", \"c++\", \"java\", \"python\"]"
   ]
  },
  {
   "cell_type": "code",
   "execution_count": 55,
   "id": "f6598bcc",
   "metadata": {},
   "outputs": [
    {
     "name": "stdout",
     "output_type": "stream",
     "text": [
      "c\n",
      "c++\n",
      "java\n",
      "python\n"
     ]
    }
   ],
   "source": [
    "for item in names:\n",
    "    print(item)"
   ]
  },
  {
   "cell_type": "code",
   "execution_count": 58,
   "id": "2da893dd",
   "metadata": {},
   "outputs": [
    {
     "name": "stdout",
     "output_type": "stream",
     "text": [
      "Hello World! c\n",
      "Hello World! c++\n",
      "Hello World! java\n",
      "Hello World! python\n"
     ]
    }
   ],
   "source": [
    "for item in names:\n",
    "    print(\"Hello World!\", item)"
   ]
  },
  {
   "cell_type": "code",
   "execution_count": 59,
   "id": "2982682f",
   "metadata": {},
   "outputs": [
    {
     "name": "stdout",
     "output_type": "stream",
     "text": [
      "<class 'str'> '2'\n"
     ]
    }
   ],
   "source": [
    "s = \"1234\"\n",
    "\n",
    "x = s[1] # \"2\"\n",
    "print(type(x), repr(x))"
   ]
  },
  {
   "cell_type": "code",
   "execution_count": null,
   "id": "54247888",
   "metadata": {},
   "outputs": [],
   "source": []
  },
  {
   "cell_type": "code",
   "execution_count": 60,
   "id": "ded06626",
   "metadata": {},
   "outputs": [
    {
     "name": "stdout",
     "output_type": "stream",
     "text": [
      "'1' <class 'str'>\n",
      "'2' <class 'str'>\n",
      "'3' <class 'str'>\n",
      "'4' <class 'str'>\n",
      "'5' <class 'str'>\n"
     ]
    }
   ],
   "source": [
    "s = \"12345\"\n",
    "for ch in s:\n",
    "    print(repr(ch), type(ch))"
   ]
  },
  {
   "cell_type": "code",
   "execution_count": 61,
   "id": "167d1d8f",
   "metadata": {},
   "outputs": [
    {
     "ename": "TypeError",
     "evalue": "'int' object is not iterable",
     "output_type": "error",
     "traceback": [
      "\u001b[1;31m---------------------------------------------------------------------------\u001b[0m",
      "\u001b[1;31mTypeError\u001b[0m                                 Traceback (most recent call last)",
      "Input \u001b[1;32mIn [61]\u001b[0m, in \u001b[0;36m<cell line: 3>\u001b[1;34m()\u001b[0m\n\u001b[0;32m      1\u001b[0m nums \u001b[38;5;241m=\u001b[39m \u001b[38;5;241m12345\u001b[39m\n\u001b[1;32m----> 3\u001b[0m \u001b[38;5;28;01mfor\u001b[39;00m item \u001b[38;5;129;01min\u001b[39;00m nums:\n\u001b[0;32m      4\u001b[0m     \u001b[38;5;28mprint\u001b[39m(item)\n",
      "\u001b[1;31mTypeError\u001b[0m: 'int' object is not iterable"
     ]
    }
   ],
   "source": [
    "nums = 12345\n",
    "for item in nums:\n",
    "    print(item)"
   ]
  },
  {
   "cell_type": "code",
   "execution_count": 62,
   "id": "0fda3175",
   "metadata": {},
   "outputs": [],
   "source": [
    "data = [\n",
    "    [\"sachin\", 80, 90, 88],\n",
    "    [\"rajat\", 88, 90, 60],\n",
    "    [\"simran\", 80, 70, 90]\n",
    "]"
   ]
  },
  {
   "cell_type": "markdown",
   "id": "096b089e",
   "metadata": {},
   "source": [
    "### tuple unpacking"
   ]
  },
  {
   "cell_type": "code",
   "execution_count": 76,
   "id": "1e7e0dfd",
   "metadata": {},
   "outputs": [
    {
     "name": "stdout",
     "output_type": "stream",
     "text": [
      "['sachin', (80, 90, 100), 'python']\n"
     ]
    }
   ],
   "source": [
    "item = [\"sachin\", (80, 90, 100), \"python\"]\n",
    "#          0          1             2\n",
    "print(item)"
   ]
  },
  {
   "cell_type": "code",
   "execution_count": 78,
   "id": "e6a3f918",
   "metadata": {},
   "outputs": [],
   "source": [
    "msg = \"\"\"\n",
    "             Name = {}\n",
    "          Physics = {}\n",
    "        Chemistry = {}\n",
    "            Maths = {}\n",
    "          Subject = {}\n",
    "\"\"\""
   ]
  },
  {
   "cell_type": "code",
   "execution_count": 79,
   "id": "d1dbf738",
   "metadata": {},
   "outputs": [
    {
     "name": "stdout",
     "output_type": "stream",
     "text": [
      "\n",
      "             Name = sachin\n",
      "          Physics = 100\n",
      "        Chemistry = 90\n",
      "            Maths = 80\n",
      "          Subject = python\n",
      "\n"
     ]
    }
   ],
   "source": [
    "name, (m, c, p), sub = item\n",
    "\n",
    "# 0     1     2\n",
    "print(msg.format(name, p, c, m, sub))"
   ]
  },
  {
   "cell_type": "code",
   "execution_count": 77,
   "id": "1194d74e",
   "metadata": {},
   "outputs": [
    {
     "name": "stdout",
     "output_type": "stream",
     "text": [
      "sachin (80, 90, 100) python\n"
     ]
    }
   ],
   "source": [
    "name, marks, sub = item\n",
    "# 0     1     2\n",
    "print(name, marks, sub)"
   ]
  },
  {
   "cell_type": "code",
   "execution_count": 74,
   "id": "f1245b25",
   "metadata": {},
   "outputs": [],
   "source": [
    "x, y= [10, 20]"
   ]
  },
  {
   "cell_type": "code",
   "execution_count": 75,
   "id": "7c5acd17",
   "metadata": {},
   "outputs": [
    {
     "name": "stdout",
     "output_type": "stream",
     "text": [
      "10 20\n"
     ]
    }
   ],
   "source": [
    "print(x, y)"
   ]
  },
  {
   "cell_type": "code",
   "execution_count": null,
   "id": "e080b1c1",
   "metadata": {},
   "outputs": [],
   "source": [
    "data = [\n",
    "    [\"sachin\", 80, 90, 88],\n",
    "    [\"rajat\", 88, 90, 60],\n",
    "    [\"simran\", 80, 70, 90]\n",
    "]"
   ]
  },
  {
   "cell_type": "code",
   "execution_count": 72,
   "id": "ef69b3a8",
   "metadata": {},
   "outputs": [
    {
     "name": "stdout",
     "output_type": "stream",
     "text": [
      "____________________________________________________________\n",
      "              sachin = 86.00\n",
      "____________________________________________________________\n",
      "               rajat = 79.33\n",
      "____________________________________________________________\n",
      "              simran = 80.00\n"
     ]
    }
   ],
   "source": [
    "for item in data:\n",
    "    # item = [\"sachin\", 80, 90, 88]\n",
    "    name = item[0] # name = \"sachin\"\n",
    "    per = sum(item[-3:])/3 # 86.0\n",
    "    print(\"_\"*60)\n",
    "    print(f\"{name:>20} = {per:.2f}\")"
   ]
  },
  {
   "cell_type": "code",
   "execution_count": null,
   "id": "d375ef94",
   "metadata": {},
   "outputs": [],
   "source": []
  },
  {
   "cell_type": "code",
   "execution_count": 71,
   "id": "82b010f0",
   "metadata": {},
   "outputs": [
    {
     "name": "stdout",
     "output_type": "stream",
     "text": [
      "____________________________________________________________\n",
      "              sachin = 86.00\n",
      "____________________________________________________________\n",
      "               rajat = 79.33\n",
      "____________________________________________________________\n",
      "              simran = 80.00\n"
     ]
    }
   ],
   "source": [
    "i = 0\n",
    "while i<len(data):\n",
    "    item = data[i] # item = [\"sachin\", 80, 90, 88]\n",
    "    name = item[0] # name = \"sachin\"\n",
    "    per = sum(item[-3:])/3 # 86.0\n",
    "    print(\"_\"*60)\n",
    "    print(f\"{name:>20} = {per:.2f}\")\n",
    "    i += 1"
   ]
  },
  {
   "cell_type": "code",
   "execution_count": null,
   "id": "edbf6478",
   "metadata": {},
   "outputs": [],
   "source": [
    "for item in [('hi', 'hello'), 2, 3]:\n",
    "    pass\n",
    "\n",
    "item = ('hi', 'hello')"
   ]
  },
  {
   "cell_type": "code",
   "execution_count": null,
   "id": "4a61ba49",
   "metadata": {},
   "outputs": [],
   "source": []
  },
  {
   "cell_type": "code",
   "execution_count": 80,
   "id": "60934479",
   "metadata": {},
   "outputs": [],
   "source": [
    "data = [\n",
    "    [\"sachin\", 80, 90, 88],\n",
    "    [\"rajat\", 88, 90, 60],\n",
    "    [\"simran\", 80, 70, 90]\n",
    "]"
   ]
  },
  {
   "cell_type": "code",
   "execution_count": 86,
   "id": "a889310a",
   "metadata": {},
   "outputs": [
    {
     "name": "stdout",
     "output_type": "stream",
     "text": [
      "___________________________________\n",
      "|  sachin  | 80  | 90  | 88  |86.00|\n",
      "___________________________________\n",
      "|  rajat   | 88  | 90  | 60  |79.33|\n",
      "___________________________________\n",
      "|  simran  | 80  | 70  | 90  |80.00|\n"
     ]
    }
   ],
   "source": [
    "for name, maths, chem, phy in data:\n",
    "    res = (maths+chem+phy)/3\n",
    "    print(\"_\"*35)\n",
    "    msg = f\"|{name:^10}|{maths:^5}|{chem:^5}|{phy:^5}|{res:5.2f}|\"\n",
    "    print(msg)"
   ]
  },
  {
   "cell_type": "code",
   "execution_count": null,
   "id": "965d1213",
   "metadata": {},
   "outputs": [],
   "source": []
  },
  {
   "cell_type": "code",
   "execution_count": 82,
   "id": "cb38bec6",
   "metadata": {},
   "outputs": [
    {
     "name": "stdout",
     "output_type": "stream",
     "text": [
      "['sachin', 80, 90, 88]\n",
      "['rajat', 88, 90, 60]\n",
      "['simran', 80, 70, 90]\n"
     ]
    }
   ],
   "source": [
    "for item in data:\n",
    "    print(item)"
   ]
  },
  {
   "cell_type": "code",
   "execution_count": null,
   "id": "b1db480b",
   "metadata": {},
   "outputs": [],
   "source": []
  }
 ],
 "metadata": {
  "kernelspec": {
   "display_name": "Python 3 (ipykernel)",
   "language": "python",
   "name": "python3"
  },
  "language_info": {
   "codemirror_mode": {
    "name": "ipython",
    "version": 3
   },
   "file_extension": ".py",
   "mimetype": "text/x-python",
   "name": "python",
   "nbconvert_exporter": "python",
   "pygments_lexer": "ipython3",
   "version": "3.9.12"
  }
 },
 "nbformat": 4,
 "nbformat_minor": 5
}
