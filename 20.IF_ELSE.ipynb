{
 "cells": [
  {
   "cell_type": "markdown",
   "id": "c83646d6",
   "metadata": {},
   "source": [
    "### Operators "
   ]
  },
  {
   "cell_type": "code",
   "execution_count": 1,
   "id": "7135e5f0",
   "metadata": {},
   "outputs": [
    {
     "data": {
      "text/plain": [
       "True"
      ]
     },
     "execution_count": 1,
     "metadata": {},
     "output_type": "execute_result"
    }
   ],
   "source": [
    "False or True"
   ]
  },
  {
   "cell_type": "code",
   "execution_count": 2,
   "id": "73e3608d",
   "metadata": {},
   "outputs": [
    {
     "data": {
      "text/plain": [
       "False"
      ]
     },
     "execution_count": 2,
     "metadata": {},
     "output_type": "execute_result"
    }
   ],
   "source": [
    "False and True"
   ]
  },
  {
   "cell_type": "code",
   "execution_count": 3,
   "id": "df8eaa43",
   "metadata": {},
   "outputs": [
    {
     "data": {
      "text/plain": [
       "False"
      ]
     },
     "execution_count": 3,
     "metadata": {},
     "output_type": "execute_result"
    }
   ],
   "source": [
    "True and False"
   ]
  },
  {
   "cell_type": "markdown",
   "id": "405d9a07",
   "metadata": {},
   "source": [
    "    movie\n",
    "    \n",
    "        money ? gf ? "
   ]
  },
  {
   "cell_type": "code",
   "execution_count": 7,
   "id": "b1129bf0",
   "metadata": {},
   "outputs": [],
   "source": [
    "money = True\n",
    "gf = False"
   ]
  },
  {
   "cell_type": "code",
   "execution_count": 9,
   "id": "c560854a",
   "metadata": {},
   "outputs": [
    {
     "data": {
      "text/plain": [
       "False"
      ]
     },
     "execution_count": 9,
     "metadata": {},
     "output_type": "execute_result"
    }
   ],
   "source": [
    "money and gf"
   ]
  },
  {
   "cell_type": "code",
   "execution_count": 10,
   "id": "d72afbe1",
   "metadata": {},
   "outputs": [
    {
     "data": {
      "text/plain": [
       "False"
      ]
     },
     "execution_count": 10,
     "metadata": {},
     "output_type": "execute_result"
    }
   ],
   "source": [
    "False and print('hello')"
   ]
  },
  {
   "cell_type": "code",
   "execution_count": 11,
   "id": "4dd3e8c9",
   "metadata": {},
   "outputs": [
    {
     "name": "stdout",
     "output_type": "stream",
     "text": [
      "hello\n"
     ]
    }
   ],
   "source": [
    "False or print('hello')"
   ]
  },
  {
   "cell_type": "code",
   "execution_count": 12,
   "id": "1ffda52f",
   "metadata": {},
   "outputs": [
    {
     "data": {
      "text/plain": [
       "True"
      ]
     },
     "execution_count": 12,
     "metadata": {},
     "output_type": "execute_result"
    }
   ],
   "source": [
    "False or True"
   ]
  },
  {
   "cell_type": "code",
   "execution_count": 13,
   "id": "1b596b11",
   "metadata": {},
   "outputs": [
    {
     "data": {
      "text/plain": [
       "True"
      ]
     },
     "execution_count": 13,
     "metadata": {},
     "output_type": "execute_result"
    }
   ],
   "source": [
    "True or True"
   ]
  },
  {
   "cell_type": "code",
   "execution_count": 14,
   "id": "d2ae1818",
   "metadata": {},
   "outputs": [
    {
     "data": {
      "text/plain": [
       "True"
      ]
     },
     "execution_count": 14,
     "metadata": {},
     "output_type": "execute_result"
    }
   ],
   "source": [
    "True or False"
   ]
  },
  {
   "cell_type": "code",
   "execution_count": 15,
   "id": "0e8466da",
   "metadata": {},
   "outputs": [
    {
     "data": {
      "text/plain": [
       "True"
      ]
     },
     "execution_count": 15,
     "metadata": {},
     "output_type": "execute_result"
    }
   ],
   "source": [
    "False or True"
   ]
  },
  {
   "cell_type": "code",
   "execution_count": 16,
   "id": "ee366566",
   "metadata": {},
   "outputs": [
    {
     "data": {
      "text/plain": [
       "False"
      ]
     },
     "execution_count": 16,
     "metadata": {},
     "output_type": "execute_result"
    }
   ],
   "source": [
    "False or False"
   ]
  },
  {
   "cell_type": "code",
   "execution_count": 17,
   "id": "0c55784c",
   "metadata": {},
   "outputs": [
    {
     "data": {
      "text/plain": [
       "True"
      ]
     },
     "execution_count": 17,
     "metadata": {},
     "output_type": "execute_result"
    }
   ],
   "source": [
    "True and True"
   ]
  },
  {
   "cell_type": "code",
   "execution_count": 18,
   "id": "041b93c5",
   "metadata": {},
   "outputs": [
    {
     "data": {
      "text/plain": [
       "False"
      ]
     },
     "execution_count": 18,
     "metadata": {},
     "output_type": "execute_result"
    }
   ],
   "source": [
    "True and False"
   ]
  },
  {
   "cell_type": "code",
   "execution_count": 19,
   "id": "5d4bfd25",
   "metadata": {},
   "outputs": [
    {
     "data": {
      "text/plain": [
       "False"
      ]
     },
     "execution_count": 19,
     "metadata": {},
     "output_type": "execute_result"
    }
   ],
   "source": [
    "False and False"
   ]
  },
  {
   "cell_type": "code",
   "execution_count": 20,
   "id": "16555c8a",
   "metadata": {},
   "outputs": [
    {
     "data": {
      "text/plain": [
       "False"
      ]
     },
     "execution_count": 20,
     "metadata": {},
     "output_type": "execute_result"
    }
   ],
   "source": [
    "False and False"
   ]
  },
  {
   "cell_type": "markdown",
   "id": "b351646d",
   "metadata": {},
   "source": [
    "### Arithmatic\n",
    "### comparision\n",
    "### logical \n",
    "### bitwise operators"
   ]
  },
  {
   "cell_type": "code",
   "execution_count": 23,
   "id": "53a74ff8",
   "metadata": {},
   "outputs": [
    {
     "name": "stdout",
     "output_type": "stream",
     "text": [
      "0b1010\n"
     ]
    }
   ],
   "source": [
    "x = 10\n",
    "print(bin(x))"
   ]
  },
  {
   "cell_type": "code",
   "execution_count": 25,
   "id": "16337558",
   "metadata": {},
   "outputs": [
    {
     "name": "stdout",
     "output_type": "stream",
     "text": [
      "0b101\n"
     ]
    }
   ],
   "source": [
    "x = 5\n",
    "print(bin(x))"
   ]
  },
  {
   "cell_type": "code",
   "execution_count": 27,
   "id": "cb71115c",
   "metadata": {},
   "outputs": [
    {
     "name": "stdout",
     "output_type": "stream",
     "text": [
      "0b11110\n"
     ]
    }
   ],
   "source": [
    "x = 30\n",
    "print(bin(x))"
   ]
  },
  {
   "cell_type": "markdown",
   "id": "f4b24b0c",
   "metadata": {},
   "source": [
    "### Bitwise Operators\n",
    "\n",
    "\n",
    "    |   bitwise or\n",
    "    \n",
    "    &   bitwise and\n",
    "    \n",
    "    ^   bitwise xor\n",
    "    \n",
    "    ~   bitwise negation\n",
    "    \n",
    "    <<  left shift\n",
    "    \n",
    "    >>  right shift"
   ]
  },
  {
   "cell_type": "code",
   "execution_count": 28,
   "id": "07ed8ad4",
   "metadata": {},
   "outputs": [],
   "source": [
    "x1 = 22\n",
    "x2 = 10\n",
    "\n",
    "x3 = x1|x2"
   ]
  },
  {
   "cell_type": "code",
   "execution_count": 29,
   "id": "42e00131",
   "metadata": {},
   "outputs": [
    {
     "name": "stdout",
     "output_type": "stream",
     "text": [
      "30\n"
     ]
    }
   ],
   "source": [
    "print(x3)"
   ]
  },
  {
   "cell_type": "code",
   "execution_count": 30,
   "id": "a71b8dc1",
   "metadata": {},
   "outputs": [
    {
     "name": "stdout",
     "output_type": "stream",
     "text": [
      "29\n"
     ]
    }
   ],
   "source": [
    "x1 = 13\n",
    "x2 = 17\n",
    "x3 = x1 | x2\n",
    "print(x3)"
   ]
  },
  {
   "cell_type": "code",
   "execution_count": 31,
   "id": "3bbf04ee",
   "metadata": {},
   "outputs": [
    {
     "name": "stdout",
     "output_type": "stream",
     "text": [
      "1\n"
     ]
    }
   ],
   "source": [
    "x1 = 13\n",
    "x2 = 17\n",
    "x3 = x1 & x2\n",
    "print(x3)"
   ]
  },
  {
   "cell_type": "code",
   "execution_count": 32,
   "id": "6a8a1538",
   "metadata": {},
   "outputs": [
    {
     "name": "stdout",
     "output_type": "stream",
     "text": [
      "28\n"
     ]
    }
   ],
   "source": [
    "x1 = 13\n",
    "x2 = 17\n",
    "x3 = x1 ^ x2\n",
    "print(x3)"
   ]
  },
  {
   "cell_type": "markdown",
   "id": "b5fd17e2",
   "metadata": {},
   "source": [
    "    bitwise negation\n",
    "    \n",
    "        add 1 to your number and change sign of number"
   ]
  },
  {
   "cell_type": "code",
   "execution_count": 33,
   "id": "a0ab243f",
   "metadata": {},
   "outputs": [],
   "source": [
    "x = 10\n",
    "y = ~x"
   ]
  },
  {
   "cell_type": "code",
   "execution_count": 34,
   "id": "4d1197e9",
   "metadata": {},
   "outputs": [
    {
     "name": "stdout",
     "output_type": "stream",
     "text": [
      "-11\n"
     ]
    }
   ],
   "source": [
    "print(y)"
   ]
  },
  {
   "cell_type": "code",
   "execution_count": 35,
   "id": "ecbd0da3",
   "metadata": {},
   "outputs": [
    {
     "name": "stdout",
     "output_type": "stream",
     "text": [
      "4\n"
     ]
    }
   ],
   "source": [
    "x = -5\n",
    "\n",
    "y = ~x\n",
    "print(y)"
   ]
  },
  {
   "cell_type": "code",
   "execution_count": 36,
   "id": "d84d3a26",
   "metadata": {},
   "outputs": [
    {
     "name": "stdout",
     "output_type": "stream",
     "text": [
      "44\n"
     ]
    }
   ],
   "source": [
    "x = 11\n",
    "\n",
    "y = x << 2\n",
    "print(y)"
   ]
  },
  {
   "cell_type": "code",
   "execution_count": 37,
   "id": "5261bf47",
   "metadata": {},
   "outputs": [
    {
     "name": "stdout",
     "output_type": "stream",
     "text": [
      "2\n"
     ]
    }
   ],
   "source": [
    "y = x >> 2\n",
    "print(y)"
   ]
  },
  {
   "cell_type": "markdown",
   "id": "ce2a206a",
   "metadata": {},
   "source": [
    "\"Out of Scope\" ==> Data Structure"
   ]
  },
  {
   "cell_type": "markdown",
   "id": "3b84e714",
   "metadata": {},
   "source": [
    "    Bitwise -> 99.99 % "
   ]
  },
  {
   "cell_type": "markdown",
   "id": "94e2db72",
   "metadata": {},
   "source": [
    "##### membership operators \n",
    "\n",
    "    to check wheather an item exists in iterable or not\n",
    "    \n",
    "    in, not in"
   ]
  },
  {
   "cell_type": "code",
   "execution_count": 38,
   "id": "27f5626c",
   "metadata": {},
   "outputs": [],
   "source": [
    "names = [\"ram\", \"hari\", \"mohan\", \"seeta\", \"geeta\"]"
   ]
  },
  {
   "cell_type": "code",
   "execution_count": 39,
   "id": "a2cb7e09",
   "metadata": {},
   "outputs": [
    {
     "data": {
      "text/plain": [
       "False"
      ]
     },
     "execution_count": 39,
     "metadata": {},
     "output_type": "execute_result"
    }
   ],
   "source": [
    "\"sachin\" in names"
   ]
  },
  {
   "cell_type": "code",
   "execution_count": 40,
   "id": "0bb2266d",
   "metadata": {},
   "outputs": [
    {
     "data": {
      "text/plain": [
       "True"
      ]
     },
     "execution_count": 40,
     "metadata": {},
     "output_type": "execute_result"
    }
   ],
   "source": [
    "\"mohan\" in names"
   ]
  },
  {
   "cell_type": "code",
   "execution_count": 41,
   "id": "9ce313ae",
   "metadata": {},
   "outputs": [],
   "source": [
    "s = \"hello world python is awesome.\""
   ]
  },
  {
   "cell_type": "code",
   "execution_count": 42,
   "id": "b7927fa8",
   "metadata": {},
   "outputs": [
    {
     "data": {
      "text/plain": [
       "True"
      ]
     },
     "execution_count": 42,
     "metadata": {},
     "output_type": "execute_result"
    }
   ],
   "source": [
    "\"python\" in s"
   ]
  },
  {
   "cell_type": "code",
   "execution_count": 43,
   "id": "95450cc5",
   "metadata": {},
   "outputs": [
    {
     "data": {
      "text/plain": [
       "False"
      ]
     },
     "execution_count": 43,
     "metadata": {},
     "output_type": "execute_result"
    }
   ],
   "source": [
    "\"Python\" in s"
   ]
  },
  {
   "cell_type": "code",
   "execution_count": 45,
   "id": "a3d7f577",
   "metadata": {},
   "outputs": [],
   "source": [
    "t = (1, 23, 35,3, 2,12, 2,34, 3)"
   ]
  },
  {
   "cell_type": "code",
   "execution_count": 46,
   "id": "e0b979e9",
   "metadata": {},
   "outputs": [
    {
     "data": {
      "text/plain": [
       "True"
      ]
     },
     "execution_count": 46,
     "metadata": {},
     "output_type": "execute_result"
    }
   ],
   "source": [
    "100 not in t # "
   ]
  },
  {
   "cell_type": "code",
   "execution_count": 47,
   "id": "6861db75",
   "metadata": {},
   "outputs": [],
   "source": [
    "d = { 'name': 'sachin', 'age': 26, 'city': 'jaipur'}"
   ]
  },
  {
   "cell_type": "code",
   "execution_count": 50,
   "id": "480098c1",
   "metadata": {},
   "outputs": [
    {
     "name": "stdout",
     "output_type": "stream",
     "text": [
      "True\n"
     ]
    }
   ],
   "source": [
    "ans = 'sachin' in d.values()\n",
    "print(ans)"
   ]
  },
  {
   "cell_type": "code",
   "execution_count": 49,
   "id": "f9fc232d",
   "metadata": {},
   "outputs": [
    {
     "name": "stdout",
     "output_type": "stream",
     "text": [
      "False\n"
     ]
    }
   ],
   "source": [
    "ans = 'sachin' in d.keys()\n",
    "print(ans)"
   ]
  },
  {
   "cell_type": "code",
   "execution_count": 48,
   "id": "ff3e9897",
   "metadata": {},
   "outputs": [
    {
     "name": "stdout",
     "output_type": "stream",
     "text": [
      "False\n"
     ]
    }
   ],
   "source": [
    "ans = 'sachin' in d\n",
    "print(ans)"
   ]
  },
  {
   "cell_type": "code",
   "execution_count": 56,
   "id": "18522da2",
   "metadata": {},
   "outputs": [
    {
     "data": {
      "text/plain": [
       "True"
      ]
     },
     "execution_count": 56,
     "metadata": {},
     "output_type": "execute_result"
    }
   ],
   "source": [
    "\"a\" in \"sachin\""
   ]
  },
  {
   "cell_type": "code",
   "execution_count": 57,
   "id": "3de31b4b",
   "metadata": {},
   "outputs": [
    {
     "data": {
      "text/plain": [
       "False"
      ]
     },
     "execution_count": 57,
     "metadata": {},
     "output_type": "execute_result"
    }
   ],
   "source": [
    "\"e\" in \"sachin\""
   ]
  },
  {
   "cell_type": "code",
   "execution_count": 58,
   "id": "90c83006",
   "metadata": {},
   "outputs": [
    {
     "data": {
      "text/plain": [
       "True"
      ]
     },
     "execution_count": 58,
     "metadata": {},
     "output_type": "execute_result"
    }
   ],
   "source": [
    "(\"name\", \"sachin\") in d.items()"
   ]
  },
  {
   "cell_type": "code",
   "execution_count": 53,
   "id": "1c577055",
   "metadata": {},
   "outputs": [],
   "source": [
    "hindi = {'a', 'b', 'd', 'e', 'f'}\n",
    "x = ['a', 'b', 'd', 'e', 'f']"
   ]
  },
  {
   "cell_type": "code",
   "execution_count": 55,
   "id": "d716371f",
   "metadata": {},
   "outputs": [
    {
     "data": {
      "text/plain": [
       "False"
      ]
     },
     "execution_count": 55,
     "metadata": {},
     "output_type": "execute_result"
    }
   ],
   "source": [
    "'c' in x # 5 sec"
   ]
  },
  {
   "cell_type": "code",
   "execution_count": 52,
   "id": "f5a1e149",
   "metadata": {},
   "outputs": [
    {
     "data": {
      "text/plain": [
       "False"
      ]
     },
     "execution_count": 52,
     "metadata": {},
     "output_type": "execute_result"
    }
   ],
   "source": [
    "'c' in hindi # 1 sec hash('c') -> 101"
   ]
  },
  {
   "cell_type": "markdown",
   "id": "ea549f3a",
   "metadata": {},
   "source": [
    "    in -> set"
   ]
  },
  {
   "cell_type": "markdown",
   "id": "3f6bb7e2",
   "metadata": {},
   "source": [
    "#### identity operators"
   ]
  },
  {
   "cell_type": "markdown",
   "id": "5968c829",
   "metadata": {},
   "source": [
    "    is, is not"
   ]
  },
  {
   "cell_type": "code",
   "execution_count": 59,
   "id": "1bf14c30",
   "metadata": {},
   "outputs": [],
   "source": [
    "a = 10\n",
    "b = 10"
   ]
  },
  {
   "cell_type": "code",
   "execution_count": 61,
   "id": "6abb2e99",
   "metadata": {},
   "outputs": [
    {
     "name": "stdout",
     "output_type": "stream",
     "text": [
      "2987745503824\n",
      "2987745503824\n"
     ]
    }
   ],
   "source": [
    "print(id(a))\n",
    "print(id(b))"
   ]
  },
  {
   "cell_type": "code",
   "execution_count": 60,
   "id": "e4ea699c",
   "metadata": {},
   "outputs": [
    {
     "data": {
      "text/plain": [
       "True"
      ]
     },
     "execution_count": 60,
     "metadata": {},
     "output_type": "execute_result"
    }
   ],
   "source": [
    "a is b"
   ]
  },
  {
   "cell_type": "markdown",
   "id": "91f6c3a5",
   "metadata": {},
   "source": [
    "    a\n",
    "        -----> 10\n",
    "    b"
   ]
  },
  {
   "cell_type": "code",
   "execution_count": 62,
   "id": "8896b5e4",
   "metadata": {},
   "outputs": [],
   "source": [
    "a = 400\n",
    "b = 400"
   ]
  },
  {
   "cell_type": "code",
   "execution_count": 63,
   "id": "06abbbfa",
   "metadata": {},
   "outputs": [
    {
     "data": {
      "text/plain": [
       "False"
      ]
     },
     "execution_count": 63,
     "metadata": {},
     "output_type": "execute_result"
    }
   ],
   "source": [
    "a is b"
   ]
  },
  {
   "cell_type": "code",
   "execution_count": 64,
   "id": "5bbb9c51",
   "metadata": {},
   "outputs": [
    {
     "data": {
      "text/plain": [
       "True"
      ]
     },
     "execution_count": 64,
     "metadata": {},
     "output_type": "execute_result"
    }
   ],
   "source": [
    "a == b"
   ]
  },
  {
   "cell_type": "code",
   "execution_count": 65,
   "id": "bbc331f2",
   "metadata": {},
   "outputs": [
    {
     "name": "stdout",
     "output_type": "stream",
     "text": [
      "2987859555504\n",
      "2987859555600\n"
     ]
    }
   ],
   "source": [
    "print(id(a))\n",
    "print(id(b))"
   ]
  },
  {
   "cell_type": "markdown",
   "id": "a79e707a",
   "metadata": {},
   "source": [
    "    a ---> 400  ---> 504\n",
    "\n",
    "    b ---> 400  ---> 600"
   ]
  },
  {
   "cell_type": "code",
   "execution_count": 66,
   "id": "7ed1e332",
   "metadata": {},
   "outputs": [
    {
     "name": "stdout",
     "output_type": "stream",
     "text": [
      "True\n",
      "2987745503824\n",
      "2987745503824\n"
     ]
    }
   ],
   "source": [
    "a = 10; b = 10\n",
    "print(a is b)\n",
    "print(id(a))\n",
    "print(id(b))"
   ]
  },
  {
   "cell_type": "code",
   "execution_count": 68,
   "id": "4c28f8f6",
   "metadata": {},
   "outputs": [
    {
     "name": "stdout",
     "output_type": "stream",
     "text": [
      "False\n",
      "2987859557136\n",
      "2987859557200\n"
     ]
    }
   ],
   "source": [
    "a = 257; b = 257\n",
    "print(a is b)\n",
    "print(id(a))\n",
    "print(id(b))"
   ]
  },
  {
   "cell_type": "markdown",
   "id": "ceecc266",
   "metadata": {},
   "source": [
    "#### Assignment Operators "
   ]
  },
  {
   "cell_type": "code",
   "execution_count": 77,
   "id": "55ffa962",
   "metadata": {},
   "outputs": [
    {
     "data": {
      "text/plain": [
       "255"
      ]
     },
     "execution_count": 77,
     "metadata": {},
     "output_type": "execute_result"
    }
   ],
   "source": [
    "255 & 0xff"
   ]
  },
  {
   "cell_type": "code",
   "execution_count": 78,
   "id": "dd781be7",
   "metadata": {},
   "outputs": [
    {
     "data": {
      "text/plain": [
       "27"
      ]
     },
     "execution_count": 78,
     "metadata": {},
     "output_type": "execute_result"
    }
   ],
   "source": [
    "27 & 0xff"
   ]
  },
  {
   "cell_type": "code",
   "execution_count": 79,
   "id": "bfce7279",
   "metadata": {},
   "outputs": [
    {
     "data": {
      "text/plain": [
       "1"
      ]
     },
     "execution_count": 79,
     "metadata": {},
     "output_type": "execute_result"
    }
   ],
   "source": [
    "257 & 0xff"
   ]
  },
  {
   "cell_type": "markdown",
   "id": "3b70b04e",
   "metadata": {},
   "source": [
    "#### Assignment Operators"
   ]
  },
  {
   "cell_type": "code",
   "execution_count": 80,
   "id": "5e15143d",
   "metadata": {},
   "outputs": [],
   "source": [
    "x = 5"
   ]
  },
  {
   "cell_type": "code",
   "execution_count": 81,
   "id": "3ff3e6d4",
   "metadata": {},
   "outputs": [
    {
     "name": "stdout",
     "output_type": "stream",
     "text": [
      "5\n"
     ]
    }
   ],
   "source": [
    "print(x)"
   ]
  },
  {
   "cell_type": "markdown",
   "id": "0ca32d68",
   "metadata": {},
   "source": [
    "## Tuple Unpacking"
   ]
  },
  {
   "cell_type": "code",
   "execution_count": 84,
   "id": "7b876a23",
   "metadata": {},
   "outputs": [],
   "source": [
    "x = [\"sachin\", 26, \"jaipur\"]"
   ]
  },
  {
   "cell_type": "code",
   "execution_count": 85,
   "id": "7a0037ab",
   "metadata": {},
   "outputs": [],
   "source": [
    "a, b, c = x"
   ]
  },
  {
   "cell_type": "code",
   "execution_count": 86,
   "id": "ebc85451",
   "metadata": {},
   "outputs": [
    {
     "name": "stdout",
     "output_type": "stream",
     "text": [
      "sachin\n"
     ]
    }
   ],
   "source": [
    "print(a)"
   ]
  },
  {
   "cell_type": "code",
   "execution_count": 87,
   "id": "0d358f65",
   "metadata": {},
   "outputs": [
    {
     "name": "stdout",
     "output_type": "stream",
     "text": [
      "26\n"
     ]
    }
   ],
   "source": [
    "print(b)"
   ]
  },
  {
   "cell_type": "code",
   "execution_count": 88,
   "id": "f9c31017",
   "metadata": {},
   "outputs": [
    {
     "name": "stdout",
     "output_type": "stream",
     "text": [
      "jaipur\n"
     ]
    }
   ],
   "source": [
    "print(c)"
   ]
  },
  {
   "cell_type": "code",
   "execution_count": 82,
   "id": "8b508bfd",
   "metadata": {},
   "outputs": [],
   "source": [
    "one, two, three = 'one', 'two', 'three'"
   ]
  },
  {
   "cell_type": "code",
   "execution_count": 83,
   "id": "445bcb39",
   "metadata": {},
   "outputs": [
    {
     "name": "stdout",
     "output_type": "stream",
     "text": [
      "one\n"
     ]
    }
   ],
   "source": [
    "print(one)"
   ]
  },
  {
   "cell_type": "code",
   "execution_count": null,
   "id": "84c445d9",
   "metadata": {},
   "outputs": [],
   "source": []
  },
  {
   "cell_type": "code",
   "execution_count": 89,
   "id": "f338e542",
   "metadata": {},
   "outputs": [
    {
     "name": "stdout",
     "output_type": "stream",
     "text": [
      "20\n",
      "10\n"
     ]
    }
   ],
   "source": [
    "x = 10\n",
    "y = 20\n",
    "\n",
    "x, y = y, x\n",
    "\n",
    "# x, y = 20, 10 # swapping\n",
    "# x = 20\n",
    "# y = 10\n",
    "\n",
    "print(x)\n",
    "print(y)"
   ]
  },
  {
   "cell_type": "code",
   "execution_count": 90,
   "id": "9e4f11c5",
   "metadata": {},
   "outputs": [
    {
     "name": "stdout",
     "output_type": "stream",
     "text": [
      "15\n"
     ]
    }
   ],
   "source": [
    "x = 5\n",
    "\n",
    "x += 10\n",
    "\n",
    "# x = x + 10 # inpalce addition\n",
    "\n",
    "print(x)"
   ]
  },
  {
   "cell_type": "code",
   "execution_count": 91,
   "id": "12dcf8ea",
   "metadata": {},
   "outputs": [
    {
     "name": "stdout",
     "output_type": "stream",
     "text": [
      "16\n"
     ]
    }
   ],
   "source": [
    "a = 2\n",
    "\n",
    "a **= 4\n",
    "\n",
    "print(a)"
   ]
  },
  {
   "cell_type": "code",
   "execution_count": 92,
   "id": "129e950f",
   "metadata": {},
   "outputs": [
    {
     "name": "stdout",
     "output_type": "stream",
     "text": [
      "80.0\n"
     ]
    }
   ],
   "source": [
    "dis = 20\n",
    "amount = 100\n",
    "\n",
    "amount -= amount*(dis/100)\n",
    "\n",
    "# amount = amount - amount*(dis/100)\n",
    "\n",
    "print(amount)"
   ]
  },
  {
   "cell_type": "markdown",
   "id": "ecb646a0",
   "metadata": {},
   "source": [
    "##### Operator precidence "
   ]
  },
  {
   "cell_type": "markdown",
   "id": "62d45529",
   "metadata": {},
   "source": [
    "    BODMAS"
   ]
  },
  {
   "cell_type": "markdown",
   "id": "e625a189",
   "metadata": {},
   "source": [
    "#7990"
   ]
  },
  {
   "cell_type": "markdown",
   "id": "725f1fa4",
   "metadata": {},
   "source": [
    "    **  exponent / power\n",
    "    \n",
    "    * /  \n",
    "    \n",
    "    + - "
   ]
  },
  {
   "cell_type": "code",
   "execution_count": 93,
   "id": "978ea477",
   "metadata": {},
   "outputs": [
    {
     "name": "stdout",
     "output_type": "stream",
     "text": [
      "21.25\n"
     ]
    }
   ],
   "source": [
    "ans = 5*6+10/2**3-10\n",
    "\n",
    "# ans = 5*6+10/8-10\n",
    "# ans = 30+10/8-10\n",
    "# ans = 30+1.25-10\n",
    "# ans = 31.25-10\n",
    "# ans = 21.25\n",
    "print(ans)"
   ]
  },
  {
   "cell_type": "code",
   "execution_count": 97,
   "id": "27834a9f",
   "metadata": {},
   "outputs": [
    {
     "name": "stdout",
     "output_type": "stream",
     "text": [
      "hi\n"
     ]
    }
   ],
   "source": [
    "ans = (False or True) and print('hi') "
   ]
  },
  {
   "cell_type": "code",
   "execution_count": 98,
   "id": "22fe9afc",
   "metadata": {},
   "outputs": [
    {
     "name": "stdout",
     "output_type": "stream",
     "text": [
      "None\n"
     ]
    }
   ],
   "source": [
    "print(ans)"
   ]
  },
  {
   "cell_type": "markdown",
   "id": "abcf13c8",
   "metadata": {},
   "source": [
    "### Operator precidence \n",
    "\n",
    "    assignment "
   ]
  },
  {
   "cell_type": "markdown",
   "id": "5867056d",
   "metadata": {},
   "source": [
    "#### IF Else"
   ]
  },
  {
   "cell_type": "markdown",
   "id": "575afa67",
   "metadata": {},
   "source": [
    "#### Decision Statements\n",
    "\n",
    "#### Selection Statements\n",
    "\n",
    "#### Condtional Statements"
   ]
  },
  {
   "cell_type": "markdown",
   "id": "1754ad5a",
   "metadata": {},
   "source": [
    "    Infosys -> infytq\n",
    "\n",
    "\n",
    "    5 LPA\n",
    "    \n",
    "    8 LPA\n",
    "    \n",
    "        Python, Data Structure, Database"
   ]
  },
  {
   "cell_type": "markdown",
   "id": "675b04ac",
   "metadata": {},
   "source": [
    "    onwingspan/infytq\n",
    "    \n",
    "    Hacker Rank \n",
    "    \n",
    "    Leet Code\n",
    "    \n",
    "    Code Chef\n",
    "    \n",
    "    Geeks For Geeks"
   ]
  },
  {
   "cell_type": "code",
   "execution_count": null,
   "id": "6b24cb0d",
   "metadata": {},
   "outputs": [],
   "source": []
  }
 ],
 "metadata": {
  "kernelspec": {
   "display_name": "Python 3 (ipykernel)",
   "language": "python",
   "name": "python3"
  },
  "language_info": {
   "codemirror_mode": {
    "name": "ipython",
    "version": 3
   },
   "file_extension": ".py",
   "mimetype": "text/x-python",
   "name": "python",
   "nbconvert_exporter": "python",
   "pygments_lexer": "ipython3",
   "version": "3.9.12"
  }
 },
 "nbformat": 4,
 "nbformat_minor": 5
}
