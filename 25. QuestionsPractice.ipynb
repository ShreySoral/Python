{
 "cells": [
  {
   "cell_type": "code",
   "execution_count": 1,
   "id": "f03d30c3",
   "metadata": {},
   "outputs": [
    {
     "name": "stdout",
     "output_type": "stream",
     "text": [
      "['__add__', '__class__', '__contains__', '__delattr__', '__dir__', '__doc__', '__eq__', '__format__', '__ge__', '__getattribute__', '__getitem__', '__getnewargs__', '__gt__', '__hash__', '__init__', '__init_subclass__', '__iter__', '__le__', '__len__', '__lt__', '__mod__', '__mul__', '__ne__', '__new__', '__reduce__', '__reduce_ex__', '__repr__', '__rmod__', '__rmul__', '__setattr__', '__sizeof__', '__str__', '__subclasshook__', 'capitalize', 'casefold', 'center', 'count', 'encode', 'endswith', 'expandtabs', 'find', 'format', 'format_map', 'index', 'isalnum', 'isalpha', 'isascii', 'isdecimal', 'isdigit', 'isidentifier', 'islower', 'isnumeric', 'isprintable', 'isspace', 'istitle', 'isupper', 'join', 'ljust', 'lower', 'lstrip', 'maketrans', 'partition', 'removeprefix', 'removesuffix', 'replace', 'rfind', 'rindex', 'rjust', 'rpartition', 'rsplit', 'rstrip', 'split', 'splitlines', 'startswith', 'strip', 'swapcase', 'title', 'translate', 'upper', 'zfill']\n"
     ]
    }
   ],
   "source": [
    "print(dir(str))"
   ]
  },
  {
   "cell_type": "code",
   "execution_count": 1,
   "id": "369ded37",
   "metadata": {},
   "outputs": [
    {
     "name": "stdout",
     "output_type": "stream",
     "text": [
      "k\n",
      "given charachter k is a lower case alphabet\n"
     ]
    }
   ],
   "source": [
    "char=input().lower()\n",
    "value=ord(char)\n",
    "if (value)>= 65 and value<=90:\n",
    "    print(f\"given charachter {char} is a capital alphabet\")\n",
    "elif (value>=97 and value<=122):\n",
    "    print(f\"given charachter {char} is a lower case alphabet\")\n",
    "else:\n",
    "    print(f\"given charachter {char} is not alphabet\")"
   ]
  },
  {
   "cell_type": "code",
   "execution_count": 2,
   "id": "42ba9f7e",
   "metadata": {},
   "outputs": [
    {
     "name": "stdout",
     "output_type": "stream",
     "text": [
      "o\n",
      "True\n"
     ]
    }
   ],
   "source": [
    "char=input()\n",
    "if char.isalpha():\n",
    "    print(True)\n",
    "else:\n",
    "    print(False)"
   ]
  },
  {
   "cell_type": "code",
   "execution_count": 3,
   "id": "417f38fc",
   "metadata": {},
   "outputs": [
    {
     "name": "stdout",
     "output_type": "stream",
     "text": [
      "chara\n",
      "vowel\n"
     ]
    }
   ],
   "source": [
    "char=input(\"char\")\n",
    "if char in \"aeiou\":\n",
    "    print(\"vowel\")\n",
    "else:\n",
    "    print('it is a comment')"
   ]
  },
  {
   "cell_type": "code",
   "execution_count": null,
   "id": "1c84d640",
   "metadata": {},
   "outputs": [],
   "source": [
    "day =int(input(\"day number\"))\n",
    "if (day==0) or (day==7):\n",
    "    print('sunday')\n",
    "elif(day==1):\n",
    "    print(\"monday\")\n",
    "elif(day==2):\n",
    "    print(\"tuesday\")\n",
    "elif(day==3):\n",
    "    print(\"wednesday\")\n",
    "elif(day==4):\n",
    "    print(\"thursday\")\n",
    "elif(day==5):\n",
    "    print(\"friday\")\n",
    "elif(day==6):\n",
    "    print(\"saturday\")\n",
    "else:\n",
    "    print(\"invalid day number\")"
   ]
  }
 ],
 "metadata": {
  "kernelspec": {
   "display_name": "Python 3 (ipykernel)",
   "language": "python",
   "name": "python3"
  },
  "language_info": {
   "codemirror_mode": {
    "name": "ipython",
    "version": 3
   },
   "file_extension": ".py",
   "mimetype": "text/x-python",
   "name": "python",
   "nbconvert_exporter": "python",
   "pygments_lexer": "ipython3",
   "version": "3.10.5"
  }
 },
 "nbformat": 4,
 "nbformat_minor": 5
}
