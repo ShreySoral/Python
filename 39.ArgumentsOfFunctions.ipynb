{
 "cells": [
  {
   "cell_type": "markdown",
   "id": "573f6ec6",
   "metadata": {},
   "source": [
    "### Types of Arugments"
   ]
  },
  {
   "cell_type": "markdown",
   "id": "85c62470",
   "metadata": {},
   "source": [
    "#### Tic Tac Toe\n",
    "\n",
    "    complete this game by tomorrow "
   ]
  },
  {
   "cell_type": "code",
   "execution_count": 1,
   "id": "2dc1de58",
   "metadata": {},
   "outputs": [],
   "source": [
    "import time "
   ]
  },
  {
   "cell_type": "code",
   "execution_count": 2,
   "id": "0887afd6",
   "metadata": {},
   "outputs": [
    {
     "name": "stdout",
     "output_type": "stream",
     "text": [
      "Hello World!\n",
      "Bye World!\n"
     ]
    }
   ],
   "source": [
    "print(\"Hello World!\")\n",
    "time.sleep(2)\n",
    "print(\"Bye World!\")"
   ]
  },
  {
   "cell_type": "code",
   "execution_count": null,
   "id": "3422941d",
   "metadata": {},
   "outputs": [],
   "source": []
  },
  {
   "cell_type": "code",
   "execution_count": 8,
   "id": "6d57f9d4",
   "metadata": {},
   "outputs": [
    {
     "name": "stdout",
     "output_type": "stream",
     "text": [
      "10\r"
     ]
    }
   ],
   "source": [
    "for i in range(1, 11):\n",
    "    print(f\"{i}\\r\", end=\"\")\n",
    "    time.sleep(1)"
   ]
  },
  {
   "cell_type": "code",
   "execution_count": null,
   "id": "8e555ec8",
   "metadata": {},
   "outputs": [],
   "source": []
  },
  {
   "cell_type": "code",
   "execution_count": 20,
   "id": "0f0e9075",
   "metadata": {},
   "outputs": [
    {
     "name": "stdout",
     "output_type": "stream",
     "text": [
      "Bottle is Rotating\n",
      ".\r"
     ]
    }
   ],
   "source": [
    "\n",
    "msg = \"Bottle is Rotating\"\n",
    "print(msg)\n",
    "for _ in range(20):\n",
    "    print(f\".\\r\", end=\"\")\n",
    "    time.sleep(0.3)"
   ]
  },
  {
   "cell_type": "code",
   "execution_count": 18,
   "id": "e190c6ec",
   "metadata": {},
   "outputs": [
    {
     "name": "stdout",
     "output_type": "stream",
     "text": [
      "....................Bottle is Rotating....................\r"
     ]
    }
   ],
   "source": [
    "\n",
    "msg = \"Bottle is Rotating\"\n",
    "for _ in range(20):\n",
    "    msg = \".\"+msg+\".\"\n",
    "    print(f\"{msg}\\r\", end=\"\")\n",
    "    time.sleep(0.3)"
   ]
  },
  {
   "cell_type": "code",
   "execution_count": 21,
   "id": "243752a3",
   "metadata": {},
   "outputs": [],
   "source": [
    "import random"
   ]
  },
  {
   "cell_type": "code",
   "execution_count": 22,
   "id": "dd68c6a7",
   "metadata": {},
   "outputs": [],
   "source": [
    "names = [\"sachin\", \"rajat\", \"nidhi\", 'kushal', 'yadvendra']"
   ]
  },
  {
   "cell_type": "code",
   "execution_count": 28,
   "id": "f2743400",
   "metadata": {},
   "outputs": [
    {
     "name": "stdout",
     "output_type": "stream",
     "text": [
      "yadvendra\n",
      "\n",
      "\n",
      ".....press key to continue....\n",
      "nidhi\n",
      "\n",
      "\n",
      ".....press key to continue....\n",
      "rajat\n",
      "\n",
      "\n",
      ".....press key to continue....\n",
      "yadvendra\n",
      "\n",
      "\n",
      ".....press key to continue....\n",
      "rajat\n",
      "\n",
      "\n",
      ".....press key to continue....\n",
      "sachin\n",
      "\n",
      "\n",
      ".....press key to continue....\n",
      "nidhi\n",
      "\n",
      "\n",
      ".....press key to continue....\n",
      "kushal\n",
      "\n",
      "\n",
      ".....press key to continue....\n",
      "rajat\n",
      "\n",
      "\n",
      ".....press key to continue....\n",
      "rajat\n",
      "\n",
      "\n",
      ".....press key to continue....\n"
     ]
    }
   ],
   "source": [
    "for _ in range(10):\n",
    "    print(random.choice(names))\n",
    "    print(\"\\n\")\n",
    "    input(\".....press key to continue....\")"
   ]
  },
  {
   "cell_type": "markdown",
   "id": "f0c303df",
   "metadata": {},
   "source": [
    "`Rock Paper Scissor`"
   ]
  },
  {
   "cell_type": "markdown",
   "id": "d4b68e04",
   "metadata": {},
   "source": [
    "    player-1                    player-2                    winner\n",
    "    \n",
    "    \n",
    "        rock                       scissor                    player-1\n",
    "        paper                      rock                       player-1\n",
    "        scissor                    paper                      player-1\n",
    "        \n",
    "        rock                       paper                      player-2                      \n",
    "        paper                      scissor                    player-2\n",
    "        scissor                    rock                       player-3\n",
    "        \n",
    "        rock                       rock                       Tie\n",
    "        paper                      paper                      Tie\n",
    "        scissor                    scissor                    Tie\n",
    "        \n",
    "        "
   ]
  },
  {
   "cell_type": "markdown",
   "id": "01232c03",
   "metadata": {},
   "source": [
    "#### LUDO\n",
    "\n",
    "    sikho \n",
    "    "
   ]
  },
  {
   "cell_type": "markdown",
   "id": "dfa9a395",
   "metadata": {},
   "source": [
    "**SNAKE and LADDER**"
   ]
  },
  {
   "cell_type": "markdown",
   "id": "95c67597",
   "metadata": {},
   "source": [
    "**Matrix Connect**"
   ]
  },
  {
   "cell_type": "markdown",
   "id": "70bac0d6",
   "metadata": {},
   "source": [
    "`Memory Game`"
   ]
  },
  {
   "cell_type": "code",
   "execution_count": null,
   "id": "945eab5e",
   "metadata": {},
   "outputs": [],
   "source": []
  },
  {
   "cell_type": "code",
   "execution_count": 29,
   "id": "1ce4f894",
   "metadata": {},
   "outputs": [],
   "source": []
  },
  {
   "cell_type": "code",
   "execution_count": 32,
   "id": "0e128ffc",
   "metadata": {},
   "outputs": [],
   "source": [
    "a = [1, 2, 3, 4, 5]"
   ]
  },
  {
   "cell_type": "code",
   "execution_count": 35,
   "id": "f3732628",
   "metadata": {},
   "outputs": [],
   "source": [
    "random.shuffle(a)"
   ]
  },
  {
   "cell_type": "code",
   "execution_count": 36,
   "id": "53d862ee",
   "metadata": {},
   "outputs": [
    {
     "name": "stdout",
     "output_type": "stream",
     "text": [
      "[3, 5, 1, 4, 2]\n"
     ]
    }
   ],
   "source": [
    "print(a)"
   ]
  },
  {
   "cell_type": "code",
   "execution_count": 38,
   "id": "7790939d",
   "metadata": {},
   "outputs": [
    {
     "name": "stdout",
     "output_type": "stream",
     "text": [
      "X X X X X\n",
      "what is position of  E\n"
     ]
    }
   ],
   "source": [
    "nums = [ \"A\", \"B\", \"C\", \"D\", \"E\" ]\n",
    "start = 0.8\n",
    "decay = 0.2\n",
    "for _ in range(3):\n",
    "    msg = \" \".join(nums)\n",
    "    print(f\"{msg}\\r\", end=\"\")\n",
    "    random.shuffle(nums)\n",
    "    time.sleep(start)\n",
    "    start -= decay\n",
    "    msg = \" \".join([\"X\"]*len(nums))\n",
    "    print(f\"{msg}\\r\", end=\"\")\n",
    "    time.sleep(2)\n",
    "\n",
    "print(\"\\nwhat is position of \", random.choice(nums))\n"
   ]
  },
  {
   "cell_type": "markdown",
   "id": "76720902",
   "metadata": {},
   "source": [
    "    Hangman\n",
    "    \n",
    "        D _ _ P _ W _ _ I\n",
    "        \n",
    "        \n",
    "        5 -> 3 -> 15 \n",
    "        \n",
    "        k\n",
    "        \n",
    "        e -> \n",
    "        \n",
    "        D E _ P _ W _ _ I\n",
    "            e\n",
    "            \n",
    "        D E E P _ W _ _ I\n",
    "        \n",
    "            a\n",
    "            \n",
    "        D E E P A W _ _ I\n",
    "        \n",
    "            "
   ]
  },
  {
   "cell_type": "code",
   "execution_count": null,
   "id": "c766b355",
   "metadata": {},
   "outputs": [],
   "source": []
  },
  {
   "cell_type": "markdown",
   "id": "2b7b13b2",
   "metadata": {},
   "source": [
    "#### Type of Arguments\n",
    "\n",
    "    1. Positional Arugments\n",
    "    \n",
    "    2. Default / Optional Arguments\n",
    "    \n",
    "    3. Variable Length Arguments\n",
    "    \n",
    "        * variable length positional arguments\n",
    "        \n",
    "        * vairable length keyword arguments "
   ]
  },
  {
   "cell_type": "code",
   "execution_count": 39,
   "id": "f5691552",
   "metadata": {},
   "outputs": [],
   "source": [
    "def func(x, y):\n",
    "    print(\"positional arguments\")\n",
    "    print(\"x = \", x)\n",
    "    print(\"y = \", y)"
   ]
  },
  {
   "cell_type": "code",
   "execution_count": 42,
   "id": "f75bd2b0",
   "metadata": {},
   "outputs": [
    {
     "name": "stdout",
     "output_type": "stream",
     "text": [
      "positional arguments\n",
      "x =  20\n",
      "y =  10\n"
     ]
    }
   ],
   "source": [
    "func(y=10, x=20)"
   ]
  },
  {
   "cell_type": "code",
   "execution_count": 43,
   "id": "780690e2",
   "metadata": {},
   "outputs": [],
   "source": [
    "def func(a=0):\n",
    "    print(\"Optional Argument: \")\n",
    "    print(\"a = \", a)"
   ]
  },
  {
   "cell_type": "code",
   "execution_count": 44,
   "id": "85c690a3",
   "metadata": {},
   "outputs": [
    {
     "name": "stdout",
     "output_type": "stream",
     "text": [
      "Optional Argument: \n",
      "a =  0\n"
     ]
    }
   ],
   "source": [
    "func()"
   ]
  },
  {
   "cell_type": "code",
   "execution_count": 45,
   "id": "eb13a789",
   "metadata": {},
   "outputs": [
    {
     "name": "stdout",
     "output_type": "stream",
     "text": [
      "Optional Argument: \n",
      "a =  10\n"
     ]
    }
   ],
   "source": [
    "func(10)"
   ]
  },
  {
   "cell_type": "code",
   "execution_count": 46,
   "id": "9ffc1615",
   "metadata": {},
   "outputs": [
    {
     "name": "stdout",
     "output_type": "stream",
     "text": [
      "Optional Argument: \n",
      "a =  100\n"
     ]
    }
   ],
   "source": [
    "func(a=100)"
   ]
  },
  {
   "cell_type": "code",
   "execution_count": 47,
   "id": "533f10df",
   "metadata": {},
   "outputs": [],
   "source": [
    "def func(pos, key=None):\n",
    "    print(\"Positional: \", pos)\n",
    "    print(\"Default: \", key)"
   ]
  },
  {
   "cell_type": "code",
   "execution_count": 49,
   "id": "7e2dbe98",
   "metadata": {},
   "outputs": [
    {
     "name": "stdout",
     "output_type": "stream",
     "text": [
      "Positional:  100\n",
      "Default:  None\n"
     ]
    }
   ],
   "source": [
    "func(100)"
   ]
  },
  {
   "cell_type": "code",
   "execution_count": 50,
   "id": "6ce9734e",
   "metadata": {},
   "outputs": [
    {
     "name": "stdout",
     "output_type": "stream",
     "text": [
      "Positional:  10\n",
      "Default:  20\n"
     ]
    }
   ],
   "source": [
    "func(10, 20)"
   ]
  },
  {
   "cell_type": "code",
   "execution_count": 52,
   "id": "d88f62d6",
   "metadata": {},
   "outputs": [
    {
     "name": "stdout",
     "output_type": "stream",
     "text": [
      "1 2 3 1 2 3 4 5 6\n"
     ]
    }
   ],
   "source": [
    "print(1, 2, 3, 1, 2, 3,4 ,5, 6)"
   ]
  },
  {
   "cell_type": "code",
   "execution_count": 53,
   "id": "33e6d655",
   "metadata": {},
   "outputs": [],
   "source": [
    "def abcd(x, y, z, p=0, q=1, r=2):\n",
    "    pass"
   ]
  },
  {
   "cell_type": "markdown",
   "id": "ba3b7666",
   "metadata": {},
   "source": [
    "###    minimum -> 3 args\n",
    "\n",
    "    at max -> 6 "
   ]
  },
  {
   "cell_type": "code",
   "execution_count": 57,
   "id": "c374ad24",
   "metadata": {},
   "outputs": [
    {
     "name": "stdout",
     "output_type": "stream",
     "text": [
      "h\n",
      "e\n",
      "l\n",
      "l\n",
      "o\n"
     ]
    }
   ],
   "source": [
    "print(*\"hello\", sep='\\n')\n",
    "# print(\"h\", \"e\", \"l\", \"l\", \"o\")"
   ]
  },
  {
   "cell_type": "code",
   "execution_count": 56,
   "id": "295bef89",
   "metadata": {},
   "outputs": [
    {
     "name": "stdout",
     "output_type": "stream",
     "text": [
      "10\n",
      "20\n",
      "30\n",
      "40\n"
     ]
    }
   ],
   "source": [
    "print(*[10, 20, 30, 40], sep='\\n')\n",
    "# print(10, 20, 30, 40)\n",
    "# * is unpacking or iterating the data"
   ]
  },
  {
   "cell_type": "code",
   "execution_count": null,
   "id": "1683144f",
   "metadata": {},
   "outputs": [],
   "source": []
  },
  {
   "cell_type": "markdown",
   "id": "565f9208",
   "metadata": {},
   "source": [
    "`positional variable length arguments`\n",
    "\n",
    "    *args --> tuple"
   ]
  },
  {
   "cell_type": "markdown",
   "id": "f7e26c28",
   "metadata": {},
   "source": [
    "**Tuple Packing**"
   ]
  },
  {
   "cell_type": "code",
   "execution_count": 60,
   "id": "076d1bd1",
   "metadata": {},
   "outputs": [],
   "source": [
    "def func(*args):\n",
    "    print(\"arguments: \", args, type(args))"
   ]
  },
  {
   "cell_type": "code",
   "execution_count": 62,
   "id": "f0f7b35f",
   "metadata": {},
   "outputs": [
    {
     "name": "stdout",
     "output_type": "stream",
     "text": [
      "arguments:  () <class 'tuple'>\n"
     ]
    }
   ],
   "source": [
    "func()"
   ]
  },
  {
   "cell_type": "code",
   "execution_count": 63,
   "id": "10b7d662",
   "metadata": {},
   "outputs": [
    {
     "name": "stdout",
     "output_type": "stream",
     "text": [
      "arguments:  (10,) <class 'tuple'>\n"
     ]
    }
   ],
   "source": [
    "func(10)"
   ]
  },
  {
   "cell_type": "code",
   "execution_count": 64,
   "id": "09da3382",
   "metadata": {},
   "outputs": [
    {
     "name": "stdout",
     "output_type": "stream",
     "text": [
      "arguments:  (1, 2, 3, 4, 5, 6) <class 'tuple'>\n"
     ]
    }
   ],
   "source": [
    "func(1, 2, 3, 4, 5, 6)"
   ]
  },
  {
   "cell_type": "code",
   "execution_count": 71,
   "id": "e7199176",
   "metadata": {},
   "outputs": [],
   "source": [
    "def avg(*nums):\n",
    "    # nums -> (1, 2, 3, 4, 5, 6, 7, 8, 9, 10)\n",
    "    return sum(nums)/len(nums)"
   ]
  },
  {
   "cell_type": "code",
   "execution_count": 75,
   "id": "28793b54",
   "metadata": {},
   "outputs": [
    {
     "data": {
      "text/plain": [
       "3.0"
      ]
     },
     "execution_count": 75,
     "metadata": {},
     "output_type": "execute_result"
    }
   ],
   "source": [
    "avg(1, 2, 3, 4, 5)"
   ]
  },
  {
   "cell_type": "code",
   "execution_count": 81,
   "id": "06b10795",
   "metadata": {},
   "outputs": [
    {
     "name": "stdout",
     "output_type": "stream",
     "text": [
      "nums: 5\n",
      "5 10 15 20 25 30 35 40 45 50\n"
     ]
    }
   ],
   "source": [
    "num = int(input(\"nums: \"))\n",
    "print(*range(num, num*11, num))"
   ]
  },
  {
   "cell_type": "code",
   "execution_count": 79,
   "id": "14750262",
   "metadata": {},
   "outputs": [
    {
     "name": "stdout",
     "output_type": "stream",
     "text": [
      "0 1 2 3 4\n"
     ]
    }
   ],
   "source": [
    "print(*range(5))\n",
    "# print(0, 1, 2, 3, 4)"
   ]
  },
  {
   "cell_type": "code",
   "execution_count": 80,
   "id": "9838f4d6",
   "metadata": {},
   "outputs": [
    {
     "name": "stdout",
     "output_type": "stream",
     "text": [
      "1 2 3 4 5\n"
     ]
    }
   ],
   "source": [
    "print(*range(1, 6))"
   ]
  },
  {
   "cell_type": "code",
   "execution_count": 78,
   "id": "d3cac35f",
   "metadata": {},
   "outputs": [
    {
     "name": "stdout",
     "output_type": "stream",
     "text": [
      "a b c d\n"
     ]
    }
   ],
   "source": [
    "print(*['a', 'b', 'c', 'd'])\n",
    "# print(\"a\", \"b\", \"c\", \"d\")"
   ]
  },
  {
   "cell_type": "code",
   "execution_count": 77,
   "id": "7de2726e",
   "metadata": {},
   "outputs": [
    {
     "name": "stdout",
     "output_type": "stream",
     "text": [
      "h e l l o\n"
     ]
    }
   ],
   "source": [
    "print(*\"hello\")\n",
    "# print(\"h\", \"e\", \"l\", \"l\", \"o\")"
   ]
  },
  {
   "cell_type": "code",
   "execution_count": 76,
   "id": "a2a9b63f",
   "metadata": {},
   "outputs": [
    {
     "data": {
      "text/plain": [
       "5.5"
      ]
     },
     "execution_count": 76,
     "metadata": {},
     "output_type": "execute_result"
    }
   ],
   "source": [
    "avg(*range(1, 11))\n",
    "# avg(1, 2, 3, 4, 5, 6, 7, 8, 9, 10)"
   ]
  },
  {
   "cell_type": "code",
   "execution_count": 65,
   "id": "6003ff9b",
   "metadata": {},
   "outputs": [],
   "source": [
    "def add(*nums):\n",
    "    return sum(nums)"
   ]
  },
  {
   "cell_type": "code",
   "execution_count": 66,
   "id": "3db4300d",
   "metadata": {},
   "outputs": [
    {
     "data": {
      "text/plain": [
       "1"
      ]
     },
     "execution_count": 66,
     "metadata": {},
     "output_type": "execute_result"
    }
   ],
   "source": [
    "add(1)"
   ]
  },
  {
   "cell_type": "code",
   "execution_count": 67,
   "id": "ffb80f8a",
   "metadata": {},
   "outputs": [
    {
     "data": {
      "text/plain": [
       "0"
      ]
     },
     "execution_count": 67,
     "metadata": {},
     "output_type": "execute_result"
    }
   ],
   "source": [
    "add()"
   ]
  },
  {
   "cell_type": "code",
   "execution_count": 68,
   "id": "a3ca170c",
   "metadata": {},
   "outputs": [
    {
     "data": {
      "text/plain": [
       "6"
      ]
     },
     "execution_count": 68,
     "metadata": {},
     "output_type": "execute_result"
    }
   ],
   "source": [
    "add(1, 2, 3)"
   ]
  },
  {
   "cell_type": "code",
   "execution_count": 69,
   "id": "4d46ece9",
   "metadata": {},
   "outputs": [
    {
     "data": {
      "text/plain": [
       "21"
      ]
     },
     "execution_count": 69,
     "metadata": {},
     "output_type": "execute_result"
    }
   ],
   "source": [
    "add(1, 2, 3, 4, 5, 6)"
   ]
  },
  {
   "cell_type": "code",
   "execution_count": 70,
   "id": "bb3787bb",
   "metadata": {},
   "outputs": [],
   "source": [
    "import sys"
   ]
  },
  {
   "cell_type": "markdown",
   "id": "f2ceeada",
   "metadata": {},
   "source": [
    "    sys.stdin\n",
    "    sys.stdout\n",
    "    sys.sterr"
   ]
  },
  {
   "cell_type": "code",
   "execution_count": 82,
   "id": "6332d981",
   "metadata": {},
   "outputs": [],
   "source": [
    "import sys"
   ]
  },
  {
   "cell_type": "code",
   "execution_count": 83,
   "id": "b0dcf662",
   "metadata": {},
   "outputs": [],
   "source": [
    "line = sys.stdin.readline()"
   ]
  },
  {
   "cell_type": "code",
   "execution_count": 84,
   "id": "aa8ee008",
   "metadata": {},
   "outputs": [
    {
     "name": "stdout",
     "output_type": "stream",
     "text": [
      "\n"
     ]
    }
   ],
   "source": [
    "print(line)"
   ]
  },
  {
   "cell_type": "code",
   "execution_count": 85,
   "id": "d1b63a46",
   "metadata": {},
   "outputs": [],
   "source": [
    " def myinput(prompt=None):\n",
    "    if prompt:\n",
    "        sys.stdout.write(prompt)\n",
    "    return sys.stdin.readline().strip()   "
   ]
  },
  {
   "cell_type": "code",
   "execution_count": 87,
   "id": "fd2781fb",
   "metadata": {},
   "outputs": [],
   "source": [
    "#help(print)"
   ]
  },
  {
   "cell_type": "code",
   "execution_count": 88,
   "id": "1e506c95",
   "metadata": {},
   "outputs": [],
   "source": [
    "def myprint(*values, sep=\" \", end=\"\\n\"):\n",
    "    output = []\n",
    "    for item in values:\n",
    "        item = str(item)\n",
    "        output.append(item)\n",
    "    output = sep.join(output) + end\n",
    "    sys.stdout.write(output)"
   ]
  },
  {
   "cell_type": "code",
   "execution_count": 90,
   "id": "be6ca870",
   "metadata": {},
   "outputs": [
    {
     "name": "stdout",
     "output_type": "stream",
     "text": [
      "hello world how are you ?\n"
     ]
    }
   ],
   "source": [
    "print(\"hello\", \"world\", \"how\", \"are\", \"you\", \"?\")"
   ]
  },
  {
   "cell_type": "code",
   "execution_count": 89,
   "id": "f94855fb",
   "metadata": {},
   "outputs": [
    {
     "name": "stdout",
     "output_type": "stream",
     "text": [
      "hello world how are you ?\n"
     ]
    }
   ],
   "source": [
    "myprint(\"hello\", \"world\", \"how\", \"are\", \"you\", \"?\")"
   ]
  },
  {
   "cell_type": "code",
   "execution_count": 91,
   "id": "0e7a46ac",
   "metadata": {},
   "outputs": [
    {
     "name": "stdout",
     "output_type": "stream",
     "text": [
      "hello\n",
      "world\n",
      "how\n",
      "are\n",
      "you\n",
      "?\n"
     ]
    }
   ],
   "source": [
    "myprint(\"hello\", \"world\", \"how\", \"are\", \"you\", \"?\", sep=\"\\n\")"
   ]
  },
  {
   "cell_type": "code",
   "execution_count": 92,
   "id": "659ef3c8",
   "metadata": {},
   "outputs": [
    {
     "name": "stdout",
     "output_type": "stream",
     "text": [
      "hello\n",
      "world\n",
      "how\n",
      "are\n",
      "you\n",
      "?\n"
     ]
    }
   ],
   "source": [
    "print(\"hello\", \"world\", \"how\", \"are\", \"you\", \"?\", sep=\"\\n\")"
   ]
  },
  {
   "cell_type": "code",
   "execution_count": null,
   "id": "f3c21d22",
   "metadata": {},
   "outputs": [],
   "source": []
  }
 ],
 "metadata": {
  "kernelspec": {
   "display_name": "Python 3 (ipykernel)",
   "language": "python",
   "name": "python3"
  },
  "language_info": {
   "codemirror_mode": {
    "name": "ipython",
    "version": 3
   },
   "file_extension": ".py",
   "mimetype": "text/x-python",
   "name": "python",
   "nbconvert_exporter": "python",
   "pygments_lexer": "ipython3",
   "version": "3.9.12"
  }
 },
 "nbformat": 4,
 "nbformat_minor": 5
}
