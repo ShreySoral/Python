{
 "cells": [
  {
   "cell_type": "code",
   "execution_count": 1,
   "id": "fcc54a38",
   "metadata": {},
   "outputs": [
    {
     "name": "stdout",
     "output_type": "stream",
     "text": [
      "960\n"
     ]
    }
   ],
   "source": [
    "def factorial(n):\n",
    "  \n",
    "    fact = 1;\n",
    " \n",
    "    for i in range(2,n+1):\n",
    "        fact = fact * i;\n",
    " \n",
    "    return fact;\n",
    "  \n",
    " \n",
    "# def to calculate p(n, r)\n",
    "def npr(n, r):\n",
    "  \n",
    "    pnr = factorial(n) / factorial(n - r);\n",
    " \n",
    "    return pnr;\n",
    "  \n",
    " \n",
    "# def to find the number of permutations of\n",
    "# n different things taken r at a time\n",
    "# with k things grouped together\n",
    "def countPermutations(n, r, k):\n",
    "  \n",
    "    return int(factorial(k) * (r - k + 1) * npr(n - k, r - k));\n",
    "  \n",
    " \n",
    "# Driver code\n",
    "n = 8;\n",
    "r = 5;\n",
    "k = 2;\n",
    " \n",
    "print(countPermutations(n, r, k));"
   ]
  },
  {
   "cell_type": "code",
   "execution_count": 5,
   "id": "e30abd14",
   "metadata": {},
   "outputs": [
    {
     "name": "stdout",
     "output_type": "stream",
     "text": [
      "3\n",
      "3\n",
      "5\n",
      "7\n"
     ]
    }
   ],
   "source": [
    "import math\n",
    " \n",
    "# A function to print all prime factors of\n",
    "# a given number n\n",
    "def primeFactors(n):\n",
    "     \n",
    "    # Print the number of two's that divide n\n",
    "    while n % 2 == 0:\n",
    "        print (2),\n",
    "        n = n / 2\n",
    "         \n",
    "    # n must be odd at this point\n",
    "    # so a skip of 2 ( i = i + 2) can be used\n",
    "    for i in range(3,int(math.sqrt(n))+1,2):\n",
    "         \n",
    "        # while i divides n , print i and divide n\n",
    "        while n % i== 0:\n",
    "            print (i),\n",
    "            n = n / i\n",
    "             \n",
    "    # Condition if n is a prime\n",
    "    # number greater than 2\n",
    "    if n > 2:\n",
    "        print (n)\n",
    "         \n",
    "# Driver Program to test above function\n",
    " \n",
    "n = 315\n",
    "primeFactors(n)"
   ]
  },
  {
   "cell_type": "code",
   "execution_count": 6,
   "id": "583329b1",
   "metadata": {},
   "outputs": [
    {
     "name": "stdout",
     "output_type": "stream",
     "text": [
      "15\n"
     ]
    }
   ],
   "source": [
    "def getSum(n):\n",
    "    \n",
    "    sum = 0\n",
    "    for digit in str(n): \n",
    "      sum += int(digit)      \n",
    "    return sum\n",
    "   \n",
    "n = 12345\n",
    "print(getSum(n))"
   ]
  },
  {
   "cell_type": "code",
   "execution_count": 7,
   "id": "26f6f5b5",
   "metadata": {},
   "outputs": [
    {
     "name": "stdout",
     "output_type": "stream",
     "text": [
      "Leap Year\n"
     ]
    }
   ],
   "source": [
    "def checkYear(year):\n",
    "    if (year % 4) == 0:\n",
    "        if (year % 100) == 0:\n",
    "            if (year % 400) == 0:\n",
    "                return True\n",
    "            else:\n",
    "                return False\n",
    "        else:\n",
    "             return True\n",
    "    else:\n",
    "        return False\n",
    " \n",
    "# Driver Code\n",
    "year = 2000\n",
    "if(checkYear(year)):\n",
    "    print(\"Leap Year\")\n",
    "else:\n",
    "    print(\"Not a Leap Year\")\n",
    "     "
   ]
  },
  {
   "cell_type": "code",
   "execution_count": 8,
   "id": "fed41f86",
   "metadata": {},
   "outputs": [
    {
     "name": "stdout",
     "output_type": "stream",
     "text": [
      "504\n",
      "31626\n"
     ]
    }
   ],
   "source": [
    "def amicable_sum(num):\n",
    "\tdivisor_sum = [0] * num\n",
    "\tfor i in range(1, len(divisor_sum)):\n",
    "\t\tfor j in range(i * 2, len(divisor_sum), i):\n",
    "\t\t\tdivisor_sum[j] += i\t\n",
    "\t# Find all amicable pairs \n",
    "\tresult = 0\n",
    "\tfor i in range(1, len(divisor_sum)):\n",
    "\t\tj = divisor_sum[i]\n",
    "\t\tif j != i and j < len(divisor_sum) and divisor_sum[j] == i:\n",
    "\t\t\tresult += i\n",
    "\treturn str(result)\n",
    "\n",
    "print(amicable_sum(500))\n",
    "print(amicable_sum(10000))"
   ]
  },
  {
   "cell_type": "code",
   "execution_count": null,
   "id": "c6149a3d",
   "metadata": {},
   "outputs": [],
   "source": []
  }
 ],
 "metadata": {
  "kernelspec": {
   "display_name": "Python 3 (ipykernel)",
   "language": "python",
   "name": "python3"
  },
  "language_info": {
   "codemirror_mode": {
    "name": "ipython",
    "version": 3
   },
   "file_extension": ".py",
   "mimetype": "text/x-python",
   "name": "python",
   "nbconvert_exporter": "python",
   "pygments_lexer": "ipython3",
   "version": "3.10.5"
  }
 },
 "nbformat": 4,
 "nbformat_minor": 5
}
