{
 "cells": [
  {
   "cell_type": "markdown",
   "id": "721790bb",
   "metadata": {},
   "source": [
    "## Dictionary\n",
    "\n",
    "    map type data type\n",
    "    \n",
    "    unordered data type \n",
    "    \n",
    "    collection / iterable of key-value pairs \n",
    "    \n",
    "    keys should be unique and hashable (immutable-> number, string, tuple)\n",
    "    \n",
    "    values can be any valid python object (data type)\n",
    "    \n",
    "    dictionary is a mutable data type"
   ]
  },
  {
   "cell_type": "markdown",
   "id": "d87917cf",
   "metadata": {},
   "source": [
    "    Syntax\n",
    "    \n",
    "        {key-1:value-1, key2:value-2, ..., key-n:value-n}"
   ]
  },
  {
   "cell_type": "markdown",
   "id": "4c47e9eb",
   "metadata": {},
   "source": [
    "    Library Management \n",
    "    \n",
    "    Inventory Management"
   ]
  },
  {
   "cell_type": "markdown",
   "id": "41d27666",
   "metadata": {},
   "source": [
    "    \n",
    "    name\n",
    "    quantity\n",
    "    expiry date\n",
    "    warrenty\n",
    "    discount\n",
    "    actual price\n",
    "    selling price\n",
    "    product type\n",
    "    "
   ]
  },
  {
   "cell_type": "code",
   "execution_count": 14,
   "id": "402d6662",
   "metadata": {},
   "outputs": [],
   "source": [
    "# [ name, quantity, expiry date, warrenty, discount, acutal, selling, type]\n",
    "#    0      1           2            3         4        5       6       7\n",
    "products = [ \n",
    "    [ \"vivo\", 5, None, \"1 year\",\n",
    "        \"6% off\", 20000, 30000, \"mobile\" ],\n",
    "    [ \"one plus buds\", 10, None, \"6 month\", \"10% off\", \n",
    "         3000, 3400, \"earphone\"]\n",
    "]"
   ]
  },
  {
   "cell_type": "code",
   "execution_count": 15,
   "id": "192bc5ad",
   "metadata": {},
   "outputs": [],
   "source": [
    "p = [\"nike running shoes\", 10, None, \"1 year\", None, \n",
    "         10000, 15000, \"shoes\"]\n",
    "\n",
    "products.append(p)"
   ]
  },
  {
   "cell_type": "code",
   "execution_count": 16,
   "id": "04510231",
   "metadata": {},
   "outputs": [
    {
     "name": "stdout",
     "output_type": "stream",
     "text": [
      "[['vivo', 5, None, '1 year', '6% off', 20000, 30000, 'mobile'],\n",
      " ['one plus buds', 10, None, '6 month', '10% off', 3000, 3400, 'earphone'],\n",
      " ['nike running shoes', 10, None, '1 year', None, 10000, 15000, 'shoes']]\n"
     ]
    }
   ],
   "source": [
    "from pprint import pprint\n",
    "\n",
    "pprint(products)"
   ]
  },
  {
   "cell_type": "code",
   "execution_count": 18,
   "id": "60ca5b02",
   "metadata": {},
   "outputs": [
    {
     "name": "stdout",
     "output_type": "stream",
     "text": [
      "Name: pollo T-Shirt\n",
      "Quantity: 10\n",
      "Expiry Date: \n",
      "Warrenty: 1 year\n",
      "Discount: 10\n",
      "Acutal Price: 2000\n",
      "Selling Price: 2500\n",
      "Type: T-Shirt\n"
     ]
    }
   ],
   "source": [
    "# [ name, quantity, expiry date, warrenty, discount, acutal, selling, type]\n",
    "\n",
    "p = [\n",
    "    input(\"Name: \").strip().upper(),\n",
    "    int(input(\"Quantity: \")),\n",
    "    input(\"Expiry Date: \").strip().upper(),\n",
    "    input(\"Warrenty: \").strip().upper(),\n",
    "    input(\"Discount: \").strip().upper(),\n",
    "    float(input(\"Acutal Price: \")),\n",
    "    float(input(\"Selling Price: \")),\n",
    "    input(\"Type: \").strip().upper()\n",
    "]"
   ]
  },
  {
   "cell_type": "code",
   "execution_count": 19,
   "id": "15ddc8d0",
   "metadata": {},
   "outputs": [
    {
     "name": "stdout",
     "output_type": "stream",
     "text": [
      "['POLLO T-SHIRT', 10, '', '1 YEAR', '10', 2000.0, 2500.0, 'T-SHIRT']\n"
     ]
    }
   ],
   "source": [
    "print(p)"
   ]
  },
  {
   "cell_type": "code",
   "execution_count": 20,
   "id": "64223464",
   "metadata": {},
   "outputs": [],
   "source": [
    "products.append(p)"
   ]
  },
  {
   "cell_type": "code",
   "execution_count": 21,
   "id": "ba0dc5bf",
   "metadata": {},
   "outputs": [
    {
     "name": "stdout",
     "output_type": "stream",
     "text": [
      "[['vivo', 5, None, '1 year', '6% off', 20000, 30000, 'mobile'],\n",
      " ['one plus buds', 10, None, '6 month', '10% off', 3000, 3400, 'earphone'],\n",
      " ['nike running shoes', 10, None, '1 year', None, 10000, 15000, 'shoes'],\n",
      " ['POLLO T-SHIRT', 10, '', '1 YEAR', '10', 2000.0, 2500.0, 'T-SHIRT']]\n"
     ]
    }
   ],
   "source": [
    "pprint(products)"
   ]
  },
  {
   "cell_type": "code",
   "execution_count": 22,
   "id": "83722c8b",
   "metadata": {},
   "outputs": [],
   "source": [
    "lst = [ 'item-1', 'item-2', 'item-3']\n",
    "#           0         1         2\n",
    "lst = [ ['hi', 'hello'], ['bye', 'bye'] ]\n",
    "#       ______________   ______________\n",
    "#           0                  1"
   ]
  },
  {
   "cell_type": "code",
   "execution_count": 24,
   "id": "ecb075d9",
   "metadata": {},
   "outputs": [
    {
     "data": {
      "text/plain": [
       "'hello'"
      ]
     },
     "execution_count": 24,
     "metadata": {},
     "output_type": "execute_result"
    }
   ],
   "source": [
    "lst[0][1]"
   ]
  },
  {
   "cell_type": "code",
   "execution_count": 25,
   "id": "b0b34595",
   "metadata": {},
   "outputs": [
    {
     "name": "stdout",
     "output_type": "stream",
     "text": [
      "[['vivo', 5, None, '1 year', '6% off', 20000, 30000, 'mobile'],\n",
      " ['one plus buds', 10, None, '6 month', '10% off', 3000, 3400, 'earphone'],\n",
      " ['nike running shoes', 10, None, '1 year', None, 10000, 15000, 'shoes'],\n",
      " ['POLLO T-SHIRT', 10, '', '1 YEAR', '10', 2000.0, 2500.0, 'T-SHIRT']]\n"
     ]
    }
   ],
   "source": [
    "pprint(products)"
   ]
  },
  {
   "cell_type": "code",
   "execution_count": 48,
   "id": "79186b82",
   "metadata": {},
   "outputs": [],
   "source": [
    "products[3][6] -= 300"
   ]
  },
  {
   "cell_type": "code",
   "execution_count": 49,
   "id": "689d60a9",
   "metadata": {},
   "outputs": [
    {
     "name": "stdout",
     "output_type": "stream",
     "text": [
      "[['vivo', 5, None, '1 year', '6% off', 20000, 30000, 'mobile'],\n",
      " ['one plus buds', 9, None, '6 month', '10% off', 3000, 3400, 'earphone'],\n",
      " ['nike running shoes', 10, None, '1 year', None, 10000, 15000, 'shoes'],\n",
      " ['POLLO T-SHIRT', 10, '', '1 YEAR', '10', 2000.0, 2200.0, 'T-SHIRT']]\n"
     ]
    }
   ],
   "source": [
    "pprint(products)"
   ]
  },
  {
   "cell_type": "code",
   "execution_count": 43,
   "id": "0af02b4a",
   "metadata": {},
   "outputs": [],
   "source": [
    "products[1][1] -= 1"
   ]
  },
  {
   "cell_type": "code",
   "execution_count": 44,
   "id": "4bd9d7d4",
   "metadata": {},
   "outputs": [
    {
     "name": "stdout",
     "output_type": "stream",
     "text": [
      "[['vivo', 5, None, '1 year', '6% off', 20000, 30000, 'mobile'],\n",
      " ['one plus buds', 9, None, '6 month', '10% off', 3000, 3400, 'earphone'],\n",
      " ['nike running shoes', 10, None, '1 year', None, 10000, 15000, 'shoes'],\n",
      " ['POLLO T-SHIRT', 10, '', '1 YEAR', '10', 2000.0, 2500.0, 'T-SHIRT']]\n"
     ]
    }
   ],
   "source": [
    "pprint(products)"
   ]
  },
  {
   "cell_type": "code",
   "execution_count": 39,
   "id": "d7294650",
   "metadata": {},
   "outputs": [],
   "source": [
    "nums = [ 45, 65, 67]"
   ]
  },
  {
   "cell_type": "code",
   "execution_count": 40,
   "id": "7c36bbc9",
   "metadata": {},
   "outputs": [
    {
     "name": "stdout",
     "output_type": "stream",
     "text": [
      "[45, 65, 67]\n"
     ]
    }
   ],
   "source": [
    "print(nums)"
   ]
  },
  {
   "cell_type": "code",
   "execution_count": 41,
   "id": "51b09280",
   "metadata": {},
   "outputs": [],
   "source": [
    "#nums[1] = nums[1]-5# mutable\n",
    "\n",
    "nums[1] -= 5"
   ]
  },
  {
   "cell_type": "code",
   "execution_count": 42,
   "id": "2878da9f",
   "metadata": {},
   "outputs": [
    {
     "name": "stdout",
     "output_type": "stream",
     "text": [
      "[45, 60, 67]\n"
     ]
    }
   ],
   "source": [
    "print(nums)"
   ]
  },
  {
   "cell_type": "code",
   "execution_count": 50,
   "id": "b9c68fb1",
   "metadata": {},
   "outputs": [
    {
     "name": "stdout",
     "output_type": "stream",
     "text": [
      "[['vivo', 5, None, '1 year', '6% off', 20000, 30000, 'mobile'],\n",
      " ['one plus buds', 9, None, '6 month', '10% off', 3000, 3400, 'earphone'],\n",
      " ['nike running shoes', 10, None, '1 year', None, 10000, 15000, 'shoes'],\n",
      " ['POLLO T-SHIRT', 10, '', '1 YEAR', '10', 2000.0, 2200.0, 'T-SHIRT']]\n"
     ]
    }
   ],
   "source": [
    "pprint(products)"
   ]
  },
  {
   "cell_type": "code",
   "execution_count": 51,
   "id": "36498bce",
   "metadata": {},
   "outputs": [],
   "source": [
    "## [ name, quantity, expiry date, warrenty, discount, acutal, selling, type]\n",
    "\n",
    "products = [\n",
    "    {\n",
    "        \"name\": \"vivo\",\n",
    "        \"quantity\": 5,\n",
    "        \"expiry date\": None,\n",
    "        \"warrenty\": \"1 year\",\n",
    "        \"discount\": 6.0,\n",
    "        \"actual price\": 20000,\n",
    "        \"selling price\": 30000,\n",
    "        \"type\": \"mobile\"\n",
    "    },\n",
    "    {\n",
    "        \"name\": \"one plus buds\",\n",
    "        \"quantity\": 10,\n",
    "        \"expiry date\": None,\n",
    "        \"warrenty\": \"6 month\",\n",
    "        \"discount\": 10.0,\n",
    "        \"actual price\": 3000,\n",
    "        \"selling price\": 3400,\n",
    "        \"type\": \"earphone\"\n",
    "    }\n",
    "]"
   ]
  },
  {
   "cell_type": "code",
   "execution_count": 52,
   "id": "a131c477",
   "metadata": {},
   "outputs": [
    {
     "name": "stdout",
     "output_type": "stream",
     "text": [
      "we have total 2 items.\n"
     ]
    }
   ],
   "source": [
    "n = len(products)\n",
    "print(f\"we have total {n} items.\")"
   ]
  },
  {
   "cell_type": "code",
   "execution_count": 53,
   "id": "15ea4eaa",
   "metadata": {},
   "outputs": [
    {
     "name": "stdout",
     "output_type": "stream",
     "text": [
      "[{'actual price': 20000,\n",
      "  'discount': 6.0,\n",
      "  'expiry date': None,\n",
      "  'name': 'vivo',\n",
      "  'quantity': 5,\n",
      "  'selling price': 30000,\n",
      "  'type': 'mobile',\n",
      "  'warrenty': '1 year'},\n",
      " {'actual price': 3000,\n",
      "  'discount': 10.0,\n",
      "  'expiry date': None,\n",
      "  'name': 'one plus buds',\n",
      "  'quantity': 10,\n",
      "  'selling price': 3400,\n",
      "  'type': 'earphone',\n",
      "  'warrenty': '6 month'}]\n"
     ]
    }
   ],
   "source": [
    "pprint(products)"
   ]
  },
  {
   "cell_type": "code",
   "execution_count": 55,
   "id": "d5454d59",
   "metadata": {},
   "outputs": [
    {
     "data": {
      "text/plain": [
       "'one plus buds'"
      ]
     },
     "execution_count": 55,
     "metadata": {},
     "output_type": "execute_result"
    }
   ],
   "source": [
    "products[1][\"name\"]"
   ]
  },
  {
   "cell_type": "code",
   "execution_count": 57,
   "id": "cdc434bf",
   "metadata": {},
   "outputs": [],
   "source": [
    "products[1][\"quantity\"] -= 1"
   ]
  },
  {
   "cell_type": "code",
   "execution_count": 58,
   "id": "15af8eea",
   "metadata": {},
   "outputs": [
    {
     "name": "stdout",
     "output_type": "stream",
     "text": [
      "[{'actual price': 20000,\n",
      "  'discount': 6.0,\n",
      "  'expiry date': None,\n",
      "  'name': 'vivo',\n",
      "  'quantity': 5,\n",
      "  'selling price': 30000,\n",
      "  'type': 'mobile',\n",
      "  'warrenty': '1 year'},\n",
      " {'actual price': 3000,\n",
      "  'discount': 10.0,\n",
      "  'expiry date': None,\n",
      "  'name': 'one plus buds',\n",
      "  'quantity': 9,\n",
      "  'selling price': 3400,\n",
      "  'type': 'earphone',\n",
      "  'warrenty': '6 month'}]\n"
     ]
    }
   ],
   "source": [
    "pprint(products)"
   ]
  },
  {
   "cell_type": "raw",
   "id": "9f66c283",
   "metadata": {},
   "source": [
    "products = [p1, p2, p3, p4, ..., pn]\n",
    "\n",
    "# p1 = {'name': 'name', 'price': 300, ...}"
   ]
  },
  {
   "cell_type": "code",
   "execution_count": 66,
   "id": "86b43f20",
   "metadata": {},
   "outputs": [
    {
     "name": "stdout",
     "output_type": "stream",
     "text": [
      "vivo\n",
      "one plus buds\n"
     ]
    }
   ],
   "source": [
    "for i in range(2):\n",
    "    print(products[i]['name'])"
   ]
  },
  {
   "cell_type": "code",
   "execution_count": null,
   "id": "9ee037f2",
   "metadata": {},
   "outputs": [],
   "source": []
  },
  {
   "cell_type": "code",
   "execution_count": 64,
   "id": "31181558",
   "metadata": {},
   "outputs": [
    {
     "name": "stdout",
     "output_type": "stream",
     "text": [
      "vivo\n",
      "one plus buds\n"
     ]
    }
   ],
   "source": [
    "print(products[0]['name'])\n",
    "print(products[1]['name'])\n",
    "print(products[2]['name'])\n",
    "print(products[3]['name'])"
   ]
  },
  {
   "cell_type": "code",
   "execution_count": 61,
   "id": "36d73765",
   "metadata": {},
   "outputs": [
    {
     "name": "stdout",
     "output_type": "stream",
     "text": [
      "vivo 30000\n",
      "one plus buds 3400\n"
     ]
    }
   ],
   "source": [
    "for item in products:\n",
    "    print(item['name'], item['selling price'])"
   ]
  },
  {
   "cell_type": "markdown",
   "id": "a1af6afe",
   "metadata": {},
   "source": [
    "### 5 project names along with data"
   ]
  },
  {
   "cell_type": "markdown",
   "id": "610c51a6",
   "metadata": {},
   "source": [
    "    Bank Applicaiton \n",
    "    \n",
    "        Data -> account number, name, phone number, password, balance\n",
    "        \n",
    "        5 fake entry\n",
    "        \n",
    "            1001, rajat, 123321, yahoo, 40000.0\n",
    "            1002, sachin, 12345, redhat, 50000.0\n",
    "            ...\n",
    "            \n",
    "    Library Managment \n",
    "        \n",
    "        Data ->                    [ {'issue_date': ?, 'isbn': ?}  ]\n",
    "                                       /\\\n",
    "                                       |\n",
    "            student - name, roll no, issued book, history, fine\n",
    "            \n",
    "            books"
   ]
  },
  {
   "cell_type": "markdown",
   "id": "25c6817d",
   "metadata": {},
   "source": [
    "### Dictionary"
   ]
  },
  {
   "cell_type": "code",
   "execution_count": 72,
   "id": "e8951182",
   "metadata": {},
   "outputs": [],
   "source": [
    "info = {\n",
    "    \"spam\": \"ham\",\n",
    "    \"bob\": \"alice\",\n",
    "    \"mulla\": \"nasureeden\",\n",
    "    \"or\": \"bhai\"\n",
    "    \n",
    "}"
   ]
  },
  {
   "cell_type": "code",
   "execution_count": 76,
   "id": "b3cc3832",
   "metadata": {},
   "outputs": [
    {
     "name": "stdout",
     "output_type": "stream",
     "text": [
      "mulla nasureeden\n"
     ]
    }
   ],
   "source": [
    "key = \"mulla\"\n",
    "value = info[key] # get\n",
    "print(key, value)"
   ]
  },
  {
   "cell_type": "code",
   "execution_count": 77,
   "id": "f459c873",
   "metadata": {},
   "outputs": [],
   "source": [
    "info[\"bob\"] = \"natasha\" # update"
   ]
  },
  {
   "cell_type": "code",
   "execution_count": 78,
   "id": "df6cc4ed",
   "metadata": {},
   "outputs": [
    {
     "name": "stdout",
     "output_type": "stream",
     "text": [
      "{'spam': 'ham', 'bob': 'natasha', 'mulla': 'nasureeden', 'or': 'bhai'}\n"
     ]
    }
   ],
   "source": [
    "print(info)"
   ]
  },
  {
   "cell_type": "code",
   "execution_count": 79,
   "id": "3f1f8cd6",
   "metadata": {},
   "outputs": [],
   "source": [
    "info[\"alice\"] = 1000 # add"
   ]
  },
  {
   "cell_type": "code",
   "execution_count": 80,
   "id": "706dc42b",
   "metadata": {},
   "outputs": [
    {
     "name": "stdout",
     "output_type": "stream",
     "text": [
      "{'alice': 1000,\n",
      " 'bob': 'natasha',\n",
      " 'mulla': 'nasureeden',\n",
      " 'or': 'bhai',\n",
      " 'spam': 'ham'}\n"
     ]
    }
   ],
   "source": [
    "from pprint import pprint\n",
    "pprint(info)"
   ]
  },
  {
   "cell_type": "code",
   "execution_count": 82,
   "id": "f569fb38",
   "metadata": {},
   "outputs": [],
   "source": [
    "info['alice'] -= 500 # update"
   ]
  },
  {
   "cell_type": "code",
   "execution_count": 83,
   "id": "af3390cb",
   "metadata": {},
   "outputs": [
    {
     "name": "stdout",
     "output_type": "stream",
     "text": [
      "{'alice': 500,\n",
      " 'bob': 'natasha',\n",
      " 'mulla': 'nasureeden',\n",
      " 'or': 'bhai',\n",
      " 'spam': 'ham'}\n"
     ]
    }
   ],
   "source": [
    "pprint(info)"
   ]
  },
  {
   "cell_type": "code",
   "execution_count": 85,
   "id": "44a0d5b0",
   "metadata": {},
   "outputs": [],
   "source": [
    "del info[\"or\"] # delete"
   ]
  },
  {
   "cell_type": "code",
   "execution_count": 86,
   "id": "f28d227b",
   "metadata": {},
   "outputs": [
    {
     "name": "stdout",
     "output_type": "stream",
     "text": [
      "{'alice': 500, 'bob': 'natasha', 'mulla': 'nasureeden', 'spam': 'ham'}\n"
     ]
    }
   ],
   "source": [
    "pprint(info)"
   ]
  },
  {
   "cell_type": "markdown",
   "id": "0362229f",
   "metadata": {},
   "source": [
    "      Data Type -> numbers, strings\n",
    "            \n",
    "            \n",
    "      Data Structure -> List[array], Dictionary[hash map]\n",
    "      \n",
    "              Operations\n",
    "              \n",
    "                  access / traversing\n",
    "                       list: list[index]\n",
    "                       dict: dict[key], dict.get(key)\n",
    "                  \n",
    "                  add  \n",
    "                      list: list.append(item), list.insert(loc, item), \n",
    "                            list.extend(iterable)\n",
    "                      dict: update, set_default\n",
    "                  \n",
    "                  delete\n",
    "                      list: list.pop(index=-1), list.remove(item), del list[index]\n",
    "                      dict: dict.pop(key), dict.popitem(), del dict[key]\n",
    "                  \n",
    "                  update\n",
    "                      \n",
    "                      list: lst[index] = new_value\n",
    "                      dict:  dict[key] = new_value, dict.update(key=new_value)\n",
    "                \n",
    "                  \n",
    "                  sorting \n",
    "               \n",
    "                      list: lst.sort(), lst.sort(reverse=True)"
   ]
  },
  {
   "cell_type": "code",
   "execution_count": 88,
   "id": "179edb99",
   "metadata": {},
   "outputs": [],
   "source": [
    "data = {\n",
    "    \"name\": \"sachin\"\n",
    "}"
   ]
  },
  {
   "cell_type": "code",
   "execution_count": 89,
   "id": "bce54674",
   "metadata": {},
   "outputs": [
    {
     "name": "stdout",
     "output_type": "stream",
     "text": [
      "{'name': 'sachin'}\n"
     ]
    }
   ],
   "source": [
    "print(data)"
   ]
  },
  {
   "cell_type": "code",
   "execution_count": 90,
   "id": "7328d8ff",
   "metadata": {},
   "outputs": [
    {
     "name": "stdout",
     "output_type": "stream",
     "text": [
      "sachin\n"
     ]
    }
   ],
   "source": [
    "value = data[\"name\"] # access\n",
    "print(value)"
   ]
  },
  {
   "cell_type": "code",
   "execution_count": 91,
   "id": "0d9ec80c",
   "metadata": {},
   "outputs": [],
   "source": [
    "data['city'] = \"jaipur\" # add"
   ]
  },
  {
   "cell_type": "code",
   "execution_count": 92,
   "id": "70902189",
   "metadata": {},
   "outputs": [
    {
     "name": "stdout",
     "output_type": "stream",
     "text": [
      "{'name': 'sachin', 'city': 'jaipur'}\n"
     ]
    }
   ],
   "source": [
    "print(data)"
   ]
  },
  {
   "cell_type": "code",
   "execution_count": 93,
   "id": "3db05fa9",
   "metadata": {},
   "outputs": [
    {
     "name": "stdout",
     "output_type": "stream",
     "text": [
      "{'name': 'Sachin Yadav', 'city': 'jaipur'}\n"
     ]
    }
   ],
   "source": [
    "data['name'] = \"Sachin Yadav\" # update\n",
    "print(data)"
   ]
  },
  {
   "cell_type": "code",
   "execution_count": 94,
   "id": "b4165866",
   "metadata": {},
   "outputs": [],
   "source": [
    "data['blood group'] = \"B+ive\""
   ]
  },
  {
   "cell_type": "code",
   "execution_count": 95,
   "id": "29dc70f6",
   "metadata": {},
   "outputs": [
    {
     "name": "stdout",
     "output_type": "stream",
     "text": [
      "{'name': 'Sachin Yadav', 'city': 'jaipur', 'blood group': 'B+ive'}\n"
     ]
    }
   ],
   "source": [
    "print(data)"
   ]
  },
  {
   "cell_type": "code",
   "execution_count": 96,
   "id": "35e3a673",
   "metadata": {},
   "outputs": [],
   "source": [
    "del data[\"city\"] # delete"
   ]
  },
  {
   "cell_type": "code",
   "execution_count": 97,
   "id": "0a10cd8f",
   "metadata": {},
   "outputs": [
    {
     "name": "stdout",
     "output_type": "stream",
     "text": [
      "{'name': 'Sachin Yadav', 'blood group': 'B+ive'}\n"
     ]
    }
   ],
   "source": [
    "print(data)"
   ]
  },
  {
   "cell_type": "markdown",
   "id": "13bdbe09",
   "metadata": {},
   "source": [
    "#### Dictionary Methods\n",
    "\n",
    "    value = dict.get(key)   -> to access values from a dictionary\n",
    "    \n",
    "    keys = list(dict.keys()) -> list of all keys  of dictionary\n",
    "    values = list(dict.values()) -> list of all values of dictionary\n",
    "    items = list(dict.items()) -> list of all key-value pairs of dictionary\n",
    "    \n",
    "    value = dict.set_default(key, value) \n",
    "            if key available then return value of the key from dictionary\n",
    "            otherwise add key-value pair into dictioanry and return given value\n",
    "    \n",
    "    dict.update(key1=vlaue1, key2=value2) -> \n",
    "            will add or update key-value pairs given as arguments into dictionary\n",
    "    \n",
    "    value = dict.pop(key, default) -> will delete key-value pair and return value\n",
    "    pair = dict.popitem() -> will delete last added key-value pair\n",
    "    \n",
    "    dict.clear() -> will remove all key-value pairs and create a blank dictionary\n",
    "    new = dict.copy() -> returns a copy of a dictionary\n",
    "    \n",
    "    new_dict = dict.fromkeys(iterable, default) -> creates a new dictionary\n",
    "        using iterable keys and set values to default value "
   ]
  },
  {
   "cell_type": "code",
   "execution_count": null,
   "id": "945b51ea",
   "metadata": {},
   "outputs": [],
   "source": []
  }
 ],
 "metadata": {
  "kernelspec": {
   "display_name": "Python 3 (ipykernel)",
   "language": "python",
   "name": "python3"
  },
  "language_info": {
   "codemirror_mode": {
    "name": "ipython",
    "version": 3
   },
   "file_extension": ".py",
   "mimetype": "text/x-python",
   "name": "python",
   "nbconvert_exporter": "python",
   "pygments_lexer": "ipython3",
   "version": "3.9.12"
  }
 },
 "nbformat": 4,
 "nbformat_minor": 5
}
