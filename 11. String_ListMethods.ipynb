{
 "cells": [
  {
   "cell_type": "markdown",
   "id": "2b15e1dd",
   "metadata": {},
   "source": [
    "### String\n",
    "collection of utf-8 charachters\n",
    "immutable data type\n",
    "ordered sequential data type"
   ]
  },
  {
   "cell_type": "code",
   "execution_count": 1,
   "id": "e177235e",
   "metadata": {},
   "outputs": [
    {
     "name": "stdout",
     "output_type": "stream",
     "text": [
      "0\n"
     ]
    }
   ],
   "source": [
    "s=\"hello\"\n",
    "s=s.lower()\n",
    "s=0\n",
    "print(s)"
   ]
  },
  {
   "cell_type": "code",
   "execution_count": 4,
   "id": "879fade4",
   "metadata": {},
   "outputs": [],
   "source": [
    "# ls=s.ljust(20,\"_\")\n",
    "# print(repr(ls))"
   ]
  },
  {
   "cell_type": "code",
   "execution_count": 8,
   "id": "7e273873",
   "metadata": {},
   "outputs": [
    {
     "name": "stdout",
     "output_type": "stream",
     "text": [
      "The original string is : \n",
      " I love geeksforgeeks \n",
      "\n",
      "The right aligned string is : \n",
      "--------------------I love geeksforgeeks\n"
     ]
    }
   ],
   "source": [
    "rstr = \"I love geeksforgeeks\"\n",
    "  \n",
    "# Printing the original string\n",
    "print (\"The original string is : \\n\", rstr, \"\\n\")\n",
    "  \n",
    "# Printing the right aligned string\n",
    "# with \"-\" padding \n",
    "print (\"The right aligned string is : \")\n",
    "print (rstr.rjust(40, '-'))"
   ]
  },
  {
   "cell_type": "code",
   "execution_count": 9,
   "id": "25e976bf",
   "metadata": {},
   "outputs": [
    {
     "name": "stdout",
     "output_type": "stream",
     "text": [
      "Hello-----------------------------------\n"
     ]
    }
   ],
   "source": [
    "string=\"Hello\"\n",
    "print(string.ljust(40,'-'))"
   ]
  },
  {
   "cell_type": "code",
   "execution_count": 36,
   "id": "a678d800",
   "metadata": {},
   "outputs": [
    {
     "name": "stdout",
     "output_type": "stream",
     "text": [
      "-----------------Shrey------------------\n",
      "Shrey-----------------------------------\n",
      "-----------------------------------Shrey\n"
     ]
    }
   ],
   "source": [
    "my=\"Shrey\"\n",
    "print(my.center(40,'-'))\n",
    "print(my.ljust(40,'-'))\n",
    "print(my.rjust(40,'-'))"
   ]
  },
  {
   "cell_type": "code",
   "execution_count": 15,
   "id": "8927ebce",
   "metadata": {},
   "outputs": [
    {
     "name": "stdout",
     "output_type": "stream",
     "text": [
      "1\n",
      "1011\n",
      "10101\n",
      "11111\n",
      "101001\n",
      "110011\n",
      "111101\n",
      "1000111\n",
      "1010001\n",
      "1011011\n"
     ]
    }
   ],
   "source": [
    "for var in range(1,100,10):\n",
    "    print(bin(var)[2:])"
   ]
  },
  {
   "cell_type": "code",
   "execution_count": 18,
   "id": "5fa84614",
   "metadata": {},
   "outputs": [
    {
     "name": "stdout",
     "output_type": "stream",
     "text": [
      "00000001\n",
      "00001011\n",
      "00010101\n",
      "00011111\n",
      "00101001\n",
      "00110011\n",
      "00111101\n",
      "01000111\n",
      "01010001\n",
      "01011011\n"
     ]
    }
   ],
   "source": [
    "for var in range(1,100,10):\n",
    "    print((bin(var)[2:]).zfill(8))"
   ]
  },
  {
   "cell_type": "code",
   "execution_count": 23,
   "id": "59024a6c",
   "metadata": {},
   "outputs": [
    {
     "name": "stdout",
     "output_type": "stream",
     "text": [
      "______________________\n",
      "|        SHREY         |\n",
      "______________________\n",
      "|        KUNAL         |\n",
      "______________________\n",
      "|        SAHIL         |\n",
      "______________________\n",
      "|       ANSHUMAN       |\n"
     ]
    }
   ],
   "source": [
    "names=[\"shrey\",\"kunal\",\"sahil\",\"anshuman\"]\n",
    "for name in names:\n",
    "    print(\"_\"*22)\n",
    "    print(\"|\",name.upper().center(20),\"|\")"
   ]
  },
  {
   "cell_type": "markdown",
   "id": "7b6c8a15",
   "metadata": {},
   "source": [
    "### Stripping/Trimming\n",
    " \n",
    " \n",
    " string\n",
    " array/list\n",
    " \n",
    " \n",
    " \n",
    " 1. lstrip\n",
    " 2. rstrip\n",
    " 3. strip"
   ]
  },
  {
   "cell_type": "code",
   "execution_count": 33,
   "id": "818532dc",
   "metadata": {},
   "outputs": [],
   "source": [
    "v=\"         \\n\\tShrey    Soral\\n\\t\""
   ]
  },
  {
   "cell_type": "code",
   "execution_count": 34,
   "id": "3966d717",
   "metadata": {},
   "outputs": [
    {
     "name": "stdout",
     "output_type": "stream",
     "text": [
      "'Shrey    Soral\\n\\t'\n",
      "'         \\n\\tShrey    Soral'\n",
      "'Shrey    Soral'\n"
     ]
    }
   ],
   "source": [
    "np=v.lstrip()\n",
    "nq=v.rstrip()\n",
    "nr=v.strip()\n",
    "print(repr(np))\n",
    "print(repr(nq))\n",
    "print(repr(nr))"
   ]
  },
  {
   "cell_type": "markdown",
   "id": "8762952b",
   "metadata": {},
   "source": [
    "# Common methods\n",
    "\n",
    "1. replace\n",
    "2. find\n",
    "3. split\n",
    "4. partition\n",
    "5. format"
   ]
  },
  {
   "cell_type": "code",
   "execution_count": 39,
   "id": "b68fd427",
   "metadata": {},
   "outputs": [
    {
     "name": "stdout",
     "output_type": "stream",
     "text": [
      "['hello', 'world']\n"
     ]
    }
   ],
   "source": [
    "s=\"hello world\"\n",
    "ans=s.split()\n",
    "print(ans)"
   ]
  },
  {
   "cell_type": "code",
   "execution_count": 40,
   "id": "2423b6e1",
   "metadata": {},
   "outputs": [
    {
     "name": "stdout",
     "output_type": "stream",
     "text": [
      "12 x 1 = 12\n",
      "12 x 2 = 24\n",
      "12 x 3 = 36\n",
      "12 x 4 = 48\n",
      "12 x 5 = 60\n",
      "12 x 6 = 72\n",
      "12 x 7 = 84\n",
      "12 x 8 = 96\n",
      "12 x 9 = 108\n",
      "12 x 10 = 120\n"
     ]
    }
   ],
   "source": [
    "# Multiplication table (from 1 to 10) in Python\n",
    "\n",
    "num = 12\n",
    "\n",
    "# To take input from the user\n",
    "# num = int(input(\"Display multiplication table of? \"))\n",
    "\n",
    "# Iterate 10 times from i = 1 to 10\n",
    "for i in range(1, 11):\n",
    "   print(num, 'x', i, '=', num*i)\n"
   ]
  },
  {
   "cell_type": "code",
   "execution_count": 41,
   "id": "2b081068",
   "metadata": {},
   "outputs": [
    {
     "name": "stdout",
     "output_type": "stream",
     "text": [
      "2\n",
      "4\n",
      "6\n",
      "8\n",
      "10\n",
      "12\n",
      "14\n",
      "16\n",
      "18\n",
      "20\n",
      "22\n",
      "24\n",
      "26\n",
      "28\n",
      "30\n",
      "32\n",
      "34\n",
      "36\n",
      "38\n"
     ]
    }
   ],
   "source": [
    "num =2\n",
    "for i in range(1,20):\n",
    "    print(num*i)"
   ]
  },
  {
   "cell_type": "markdown",
   "id": "72b1a173",
   "metadata": {},
   "source": [
    "### List\n",
    "1. Also known as array in other language\n",
    "2. Mutable data type\n",
    "3. collection of items\n",
    "4. ordered sequential data type\n",
    "5. support indexing and slicing"
   ]
  },
  {
   "cell_type": "code",
   "execution_count": 44,
   "id": "58b6d643",
   "metadata": {},
   "outputs": [
    {
     "name": "stdout",
     "output_type": "stream",
     "text": [
      "Blank List: \n",
      "[]\n",
      "\n",
      "List of numbers: \n",
      "[10, 20, 14]\n",
      "\n",
      "List Items: \n",
      "Hi\n",
      "Bye\n"
     ]
    }
   ],
   "source": [
    "# Creation of List\n",
    "  \n",
    "# Creating a List\n",
    "List = []\n",
    "print(\"Blank List: \")\n",
    "print(List)\n",
    "  \n",
    "# Creating a List of numbers\n",
    "List = [10, 20, 14]\n",
    "print(\"\\nList of numbers: \")\n",
    "print(List)\n",
    "  \n",
    "# Creating a List of strings and accessing\n",
    "# using index\n",
    "List = [\"Hi\", \"Hello\", \"Bye\"]\n",
    "print(\"\\nList Items: \")\n",
    "print(List[0])\n",
    "print(List[2])"
   ]
  },
  {
   "cell_type": "code",
   "execution_count": null,
   "id": "632df2c9",
   "metadata": {},
   "outputs": [],
   "source": []
  }
 ],
 "metadata": {
  "kernelspec": {
   "display_name": "Python 3 (ipykernel)",
   "language": "python",
   "name": "python3"
  },
  "language_info": {
   "codemirror_mode": {
    "name": "ipython",
    "version": 3
   },
   "file_extension": ".py",
   "mimetype": "text/x-python",
   "name": "python",
   "nbconvert_exporter": "python",
   "pygments_lexer": "ipython3",
   "version": "3.10.5"
  }
 },
 "nbformat": 4,
 "nbformat_minor": 5
}
