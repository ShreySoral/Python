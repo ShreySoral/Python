{
 "cells": [
  {
   "cell_type": "code",
   "execution_count": 1,
   "id": "d6e35c62",
   "metadata": {},
   "outputs": [],
   "source": [
    "### 1.INPUT/OUTPUT\n",
    "\n",
    "# input->program->output(print) \n",
    "# input->string/text\n",
    "# print->string,any object\n",
    "\n",
    "### 2.Data Type"
   ]
  },
  {
   "cell_type": "code",
   "execution_count": 2,
   "id": "ce1c0d84",
   "metadata": {},
   "outputs": [
    {
     "name": "stdout",
     "output_type": "stream",
     "text": [
      "Hello shrey\n"
     ]
    }
   ],
   "source": [
    "name=\"shrey\"\n",
    "#identifier=data\n",
    "print(\"Hello\",name)"
   ]
  },
  {
   "cell_type": "code",
   "execution_count": 3,
   "id": "e9413797",
   "metadata": {},
   "outputs": [
    {
     "name": "stdout",
     "output_type": "stream",
     "text": [
      "shrey\n",
      "Hello shrey\n"
     ]
    }
   ],
   "source": [
    "name=input()\n",
    "print(\"Hello\",name)"
   ]
  },
  {
   "cell_type": "code",
   "execution_count": 4,
   "id": "0394fd81",
   "metadata": {},
   "outputs": [],
   "source": [
    "# function calling\n",
    "# type1-> function which returns a value \n",
    "# type2-> function which does not return a value\n",
    "# variable=input()\n",
    "# print('some value')"
   ]
  },
  {
   "cell_type": "code",
   "execution_count": 5,
   "id": "2b0f29f7",
   "metadata": {},
   "outputs": [
    {
     "name": "stdout",
     "output_type": "stream",
     "text": [
      "some information\n"
     ]
    }
   ],
   "source": [
    "data = print(\"some information\")"
   ]
  },
  {
   "cell_type": "code",
   "execution_count": 6,
   "id": "c92f692e",
   "metadata": {},
   "outputs": [
    {
     "name": "stdout",
     "output_type": "stream",
     "text": [
      "Help on built-in function print in module builtins:\n",
      "\n",
      "print(...)\n",
      "    print(value, ..., sep=' ', end='\\n', file=sys.stdout, flush=False)\n",
      "    \n",
      "    Prints the values to a stream, or to sys.stdout by default.\n",
      "    Optional keyword arguments:\n",
      "    file:  a file-like object (stream); defaults to the current sys.stdout.\n",
      "    sep:   string inserted between values, default a space.\n",
      "    end:   string appended after the last value, default a newline.\n",
      "    flush: whether to forcibly flush the stream.\n",
      "\n"
     ]
    }
   ],
   "source": [
    "help(print)"
   ]
  },
  {
   "cell_type": "code",
   "execution_count": 7,
   "id": "dd1700c5",
   "metadata": {},
   "outputs": [
    {
     "name": "stdout",
     "output_type": "stream",
     "text": [
      "Help on method raw_input in module ipykernel.kernelbase:\n",
      "\n",
      "raw_input(prompt='') method of ipykernel.ipkernel.IPythonKernel instance\n",
      "    Forward raw_input to frontends\n",
      "    \n",
      "    Raises\n",
      "    ------\n",
      "    StdinNotImplementedError if active frontend doesn't support stdin.\n",
      "\n"
     ]
    }
   ],
   "source": [
    "help(input)"
   ]
  },
  {
   "cell_type": "code",
   "execution_count": 8,
   "id": "0dd940a4",
   "metadata": {},
   "outputs": [
    {
     "data": {
      "text/plain": [
       "3445"
      ]
     },
     "execution_count": 8,
     "metadata": {},
     "output_type": "execute_result"
    }
   ],
   "source": [
    "int(\"3445\")"
   ]
  },
  {
   "cell_type": "code",
   "execution_count": 9,
   "id": "c9b32e9c",
   "metadata": {},
   "outputs": [
    {
     "name": "stdout",
     "output_type": "stream",
     "text": [
      "3\n"
     ]
    },
    {
     "data": {
      "text/plain": [
       "3"
      ]
     },
     "execution_count": 9,
     "metadata": {},
     "output_type": "execute_result"
    }
   ],
   "source": [
    "int(input())"
   ]
  },
  {
   "cell_type": "code",
   "execution_count": 10,
   "id": "37847bb5",
   "metadata": {},
   "outputs": [
    {
     "name": "stdout",
     "output_type": "stream",
     "text": [
      "hello world\n",
      "ha ha this is easy\n"
     ]
    }
   ],
   "source": [
    "print(\"hello world\")\n",
    "print(\"ha ha this is easy\")\n",
    "# hello world!\\n\n",
    "# \\n represents new line known as new line charachter\n",
    "# \\t represents tab space(4 space) "
   ]
  },
  {
   "cell_type": "code",
   "execution_count": 11,
   "id": "0506a8f7",
   "metadata": {},
   "outputs": [
    {
     "name": "stdout",
     "output_type": "stream",
     "text": [
      "hello \tworld\n"
     ]
    }
   ],
   "source": [
    "print(\"hello \\tworld\")"
   ]
  },
  {
   "cell_type": "code",
   "execution_count": 12,
   "id": "3ada4936",
   "metadata": {},
   "outputs": [
    {
     "name": "stdout",
     "output_type": "stream",
     "text": [
      "1000₹\n"
     ]
    }
   ],
   "source": [
    "print(\"1000\\u20B9\")"
   ]
  },
  {
   "cell_type": "code",
   "execution_count": 13,
   "id": "b89eb138",
   "metadata": {},
   "outputs": [],
   "source": [
    "# python uses Encoding->utf-8 "
   ]
  },
  {
   "cell_type": "code",
   "execution_count": 14,
   "id": "84841ea2",
   "metadata": {},
   "outputs": [
    {
     "name": "stdout",
     "output_type": "stream",
     "text": [
      "['ࣼ', 'ࣽ', 'ࣾ', 'ࣿ', 'ऀ', 'ँ', 'ं', 'ः', 'ऄ', 'अ', 'आ', 'इ', 'ई', 'उ', 'ऊ', 'ऋ', 'ऌ', 'ऍ', 'ऎ', 'ए', 'ऐ', 'ऑ', 'ऒ', 'ओ', 'औ', 'क', 'ख', 'ग', 'घ', 'ङ', 'च', 'छ', 'ज', 'झ', 'ञ', 'ट', 'ठ', 'ड', 'ढ', 'ण', 'त', 'थ', 'द', 'ध', 'न', 'ऩ', 'प', 'फ', 'ब', 'भ', 'म', 'य', 'र', 'ऱ', 'ल', 'ळ', 'ऴ', 'व', 'श', 'ष', 'स', 'ह', 'ऺ', 'ऻ', '़', 'ऽ', 'ा', 'ि', 'ी', 'ु', 'ू', 'ृ', 'ॄ', 'ॅ', 'ॆ', 'े', 'ै', 'ॉ', 'ॊ', 'ो', 'ौ', '्', 'ॎ', 'ॏ', 'ॐ', '॑', '॒', '॓', '॔', 'ॕ', 'ॖ', 'ॗ', 'क़', 'ख़', 'ग़', 'ज़', 'ड़', 'ढ़', 'फ़', 'य़', 'ॠ', 'ॡ', 'ॢ', 'ॣ', '।', '॥', '०', '१', '२', '३', '४', '५', '६', '७', '८', '९', '॰', 'ॱ', 'ॲ', 'ॳ', 'ॴ', 'ॵ', 'ॶ', 'ॷ', 'ॸ', 'ॹ', 'ॺ', 'ॻ', 'ॼ', 'ॽ', 'ॾ', 'ॿ', 'ঀ', 'ঁ', 'ং', 'ঃ', '\\u0984', 'অ', 'আ', 'ই', 'ঈ', 'উ', 'ঊ', 'ঋ', 'ঌ', '\\u098d', '\\u098e', 'এ', 'ঐ', '\\u0991', '\\u0992', 'ও', 'ঔ', 'ক', 'খ', 'গ', 'ঘ', 'ঙ', 'চ', 'ছ', 'জ', 'ঝ', 'ঞ', 'ট', 'ঠ', 'ড', 'ঢ', 'ণ', 'ত', 'থ', 'দ', 'ধ', 'ন', '\\u09a9', 'প', 'ফ', 'ব', 'ভ', 'ম', 'য', 'র', '\\u09b1', 'ল', '\\u09b3', '\\u09b4', '\\u09b5', 'শ', 'ষ', 'স', 'হ', '\\u09ba', '\\u09bb', '়', 'ঽ', 'া', 'ি', 'ী', 'ু', 'ূ', 'ৃ', 'ৄ', '\\u09c5', '\\u09c6', 'ে', 'ৈ', '\\u09c9', '\\u09ca', 'ো', 'ৌ', '্', 'ৎ', '\\u09cf', '\\u09d0', '\\u09d1', '\\u09d2', '\\u09d3', '\\u09d4', '\\u09d5', '\\u09d6', 'ৗ', '\\u09d8', '\\u09d9', '\\u09da', '\\u09db', 'ড়', 'ঢ়', '\\u09de', 'য়', 'ৠ', 'ৡ', 'ৢ', 'ৣ', '\\u09e4', '\\u09e5', '০', '১', '২', '৩', '৪', '৫', '৬', '৭', '৮', '৯', 'ৰ', 'ৱ', '৲', '৳', '৴', '৵', '৶', '৷', '৸', '৹', '৺', '৻', 'ৼ', '৽', '৾', '\\u09ff', '\\u0a00', 'ਁ', 'ਂ', 'ਃ', '\\u0a04', 'ਅ', 'ਆ', 'ਇ', 'ਈ', 'ਉ', 'ਊ', '\\u0a0b', '\\u0a0c', '\\u0a0d', '\\u0a0e', 'ਏ', 'ਐ', '\\u0a11', '\\u0a12', 'ਓ', 'ਔ', 'ਕ', 'ਖ', 'ਗ', 'ਘ', 'ਙ', 'ਚ', 'ਛ', 'ਜ', 'ਝ', 'ਞ', 'ਟ', 'ਠ', 'ਡ', 'ਢ', 'ਣ', 'ਤ', 'ਥ', 'ਦ', 'ਧ', 'ਨ', '\\u0a29', 'ਪ', 'ਫ', 'ਬ', 'ਭ', 'ਮ', 'ਯ', 'ਰ', '\\u0a31', 'ਲ', 'ਲ਼', '\\u0a34', 'ਵ', 'ਸ਼', '\\u0a37', 'ਸ', 'ਹ', '\\u0a3a', '\\u0a3b', '਼', '\\u0a3d', 'ਾ', 'ਿ', 'ੀ', 'ੁ', 'ੂ', '\\u0a43', '\\u0a44', '\\u0a45', '\\u0a46', 'ੇ', 'ੈ', '\\u0a49', '\\u0a4a', 'ੋ', 'ੌ', '੍', '\\u0a4e', '\\u0a4f', '\\u0a50', 'ੑ', '\\u0a52', '\\u0a53', '\\u0a54', '\\u0a55', '\\u0a56', '\\u0a57', '\\u0a58', 'ਖ਼', 'ਗ਼', 'ਜ਼', 'ੜ', '\\u0a5d', 'ਫ਼', '\\u0a5f', '\\u0a60', '\\u0a61', '\\u0a62', '\\u0a63', '\\u0a64', '\\u0a65', '੦', '੧', '੨', '੩', '੪', '੫', '੬', '੭', '੮', '੯', 'ੰ', 'ੱ', 'ੲ', 'ੳ', 'ੴ', 'ੵ', '੶', '\\u0a77', '\\u0a78', '\\u0a79', '\\u0a7a', '\\u0a7b', '\\u0a7c', '\\u0a7d', '\\u0a7e', '\\u0a7f', '\\u0a80', 'ઁ', 'ં', 'ઃ', '\\u0a84', 'અ', 'આ', 'ઇ', 'ઈ', 'ઉ', 'ઊ', 'ઋ', 'ઌ', 'ઍ', '\\u0a8e', 'એ', 'ઐ', 'ઑ', '\\u0a92', 'ઓ', 'ઔ', 'ક', 'ખ', 'ગ', 'ઘ', 'ઙ', 'ચ', 'છ', 'જ', 'ઝ', 'ઞ', 'ટ', 'ઠ', 'ડ', 'ઢ', 'ણ', 'ત', 'થ', 'દ', 'ધ', 'ન', '\\u0aa9', 'પ', 'ફ', 'બ', 'ભ', 'મ', 'ય', 'ર', '\\u0ab1', 'લ', 'ળ', '\\u0ab4', 'વ', 'શ', 'ષ', 'સ', 'હ', '\\u0aba', '\\u0abb', '઼', 'ઽ', 'ા', 'િ', 'ી', 'ુ', 'ૂ', 'ૃ', 'ૄ', 'ૅ', '\\u0ac6', 'ે', 'ૈ', 'ૉ', '\\u0aca', 'ો', 'ૌ', '્', '\\u0ace', '\\u0acf', 'ૐ', '\\u0ad1', '\\u0ad2', '\\u0ad3', '\\u0ad4', '\\u0ad5', '\\u0ad6', '\\u0ad7', '\\u0ad8', '\\u0ad9', '\\u0ada', '\\u0adb', '\\u0adc', '\\u0add', '\\u0ade', '\\u0adf', 'ૠ', 'ૡ', 'ૢ', 'ૣ', '\\u0ae4', '\\u0ae5', '૦', '૧', '૨', '૩', '૪', '૫', '૬', '૭', '૮', '૯', '૰', '૱', '\\u0af2', '\\u0af3', '\\u0af4', '\\u0af5', '\\u0af6', '\\u0af7', '\\u0af8', 'ૹ', 'ૺ', 'ૻ', 'ૼ', '૽', '૾', '૿', '\\u0b00', 'ଁ', 'ଂ', 'ଃ', '\\u0b04', 'ଅ', 'ଆ', 'ଇ', 'ଈ', 'ଉ', 'ଊ', 'ଋ', 'ଌ', '\\u0b0d', '\\u0b0e', 'ଏ', 'ଐ', '\\u0b11', '\\u0b12', 'ଓ', 'ଔ', 'କ', 'ଖ', 'ଗ', 'ଘ', 'ଙ', 'ଚ', 'ଛ', 'ଜ', 'ଝ', 'ଞ', 'ଟ', 'ଠ', 'ଡ', 'ଢ', 'ଣ', 'ତ', 'ଥ', 'ଦ', 'ଧ', 'ନ', '\\u0b29', 'ପ', 'ଫ', 'ବ', 'ଭ', 'ମ', 'ଯ', 'ର', '\\u0b31', 'ଲ', 'ଳ', '\\u0b34', 'ଵ', 'ଶ', 'ଷ', 'ସ', 'ହ', '\\u0b3a', '\\u0b3b', '଼', 'ଽ', 'ା', 'ି', 'ୀ', 'ୁ', 'ୂ', 'ୃ', 'ୄ', '\\u0b45', '\\u0b46', 'େ', 'ୈ', '\\u0b49', '\\u0b4a', 'ୋ', 'ୌ', '୍', '\\u0b4e', '\\u0b4f', '\\u0b50', '\\u0b51', '\\u0b52', '\\u0b53', '\\u0b54', '୕', 'ୖ', 'ୗ', '\\u0b58', '\\u0b59', '\\u0b5a', '\\u0b5b', 'ଡ଼', 'ଢ଼', '\\u0b5e', 'ୟ', 'ୠ', 'ୡ', 'ୢ', 'ୣ', '\\u0b64', '\\u0b65', '୦', '୧', '୨', '୩', '୪', '୫', '୬', '୭', '୮', '୯', '୰', 'ୱ', '୲', '୳', '୴', '୵', '୶', '୷', '\\u0b78', '\\u0b79', '\\u0b7a', '\\u0b7b', '\\u0b7c', '\\u0b7d', '\\u0b7e', '\\u0b7f', '\\u0b80', '\\u0b81', 'ஂ', 'ஃ', '\\u0b84', 'அ', 'ஆ', 'இ', 'ஈ', 'உ', 'ஊ', '\\u0b8b', '\\u0b8c', '\\u0b8d', 'எ', 'ஏ', 'ஐ', '\\u0b91', 'ஒ', 'ஓ', 'ஔ', 'க', '\\u0b96', '\\u0b97', '\\u0b98', 'ங', 'ச', '\\u0b9b', 'ஜ', '\\u0b9d', 'ஞ', 'ட', '\\u0ba0', '\\u0ba1', '\\u0ba2', 'ண', 'த', '\\u0ba5', '\\u0ba6', '\\u0ba7', 'ந', 'ன', 'ப', '\\u0bab', '\\u0bac', '\\u0bad', 'ம', 'ய', 'ர', 'ற', 'ல', 'ள', 'ழ', 'வ', 'ஶ', 'ஷ', 'ஸ', 'ஹ', '\\u0bba', '\\u0bbb', '\\u0bbc', '\\u0bbd', 'ா', 'ி', 'ீ', 'ு', 'ூ', '\\u0bc3', '\\u0bc4', '\\u0bc5', 'ெ', 'ே', 'ை', '\\u0bc9', 'ொ', 'ோ', 'ௌ', '்', '\\u0bce', '\\u0bcf', 'ௐ', '\\u0bd1', '\\u0bd2', '\\u0bd3', '\\u0bd4', '\\u0bd5', '\\u0bd6', 'ௗ', '\\u0bd8', '\\u0bd9', '\\u0bda', '\\u0bdb', '\\u0bdc', '\\u0bdd', '\\u0bde', '\\u0bdf', '\\u0be0', '\\u0be1', '\\u0be2', '\\u0be3', '\\u0be4', '\\u0be5', '௦', '௧', '௨', '௩', '௪', '௫', '௬', '௭', '௮', '௯', '௰', '௱', '௲', '௳', '௴', '௵', '௶', '௷', '௸', '௹', '௺', '\\u0bfb', '\\u0bfc', '\\u0bfd', '\\u0bfe', '\\u0bff', 'ఀ', 'ఁ', 'ం', 'ః', 'ఄ', 'అ', 'ఆ', 'ఇ', 'ఈ', 'ఉ', 'ఊ', 'ఋ', 'ఌ', '\\u0c0d', 'ఎ', 'ఏ', 'ఐ', '\\u0c11', 'ఒ', 'ఓ', 'ఔ', 'క', 'ఖ', 'గ', 'ఘ', 'ఙ', 'చ', 'ఛ', 'జ', 'ఝ', 'ఞ', 'ట', 'ఠ', 'డ', 'ఢ', 'ణ', 'త', 'థ', 'ద', 'ధ', 'న', '\\u0c29', 'ప', 'ఫ', 'బ', 'భ', 'మ', 'య', 'ర', 'ఱ', 'ల', 'ళ', 'ఴ', 'వ', 'శ', 'ష', 'స', 'హ', '\\u0c3a', '\\u0c3b', '\\u0c3c', 'ఽ', 'ా', 'ి', 'ీ', 'ు', 'ూ', 'ృ', 'ౄ', '\\u0c45', 'ె', 'ే', 'ై', '\\u0c49', 'ొ', 'ో', 'ౌ', '్', '\\u0c4e', '\\u0c4f', '\\u0c50', '\\u0c51', '\\u0c52', '\\u0c53', '\\u0c54', 'ౕ', 'ౖ', '\\u0c57', 'ౘ', 'ౙ', 'ౚ', '\\u0c5b', '\\u0c5c', '\\u0c5d', '\\u0c5e', '\\u0c5f', 'ౠ', 'ౡ', 'ౢ', 'ౣ', '\\u0c64', '\\u0c65', '౦', '౧', '౨', '౩', '౪', '౫', '౬', '౭', '౮', '౯', '\\u0c70', '\\u0c71', '\\u0c72', '\\u0c73', '\\u0c74', '\\u0c75', '\\u0c76', '౷', '౸', '౹', '౺', '౻', '౼', '౽', '౾', '౿', 'ಀ', 'ಁ', 'ಂ', 'ಃ', '಄', 'ಅ', 'ಆ', 'ಇ', 'ಈ', 'ಉ', 'ಊ', 'ಋ', 'ಌ', '\\u0c8d', 'ಎ', 'ಏ', 'ಐ', '\\u0c91', 'ಒ', 'ಓ', 'ಔ', 'ಕ', 'ಖ', 'ಗ', 'ಘ', 'ಙ', 'ಚ', 'ಛ', 'ಜ', 'ಝ', 'ಞ', 'ಟ', 'ಠ', 'ಡ', 'ಢ', 'ಣ', 'ತ', 'ಥ', 'ದ', 'ಧ', 'ನ', '\\u0ca9', 'ಪ', 'ಫ', 'ಬ', 'ಭ', 'ಮ', 'ಯ', 'ರ', 'ಱ', 'ಲ', 'ಳ', '\\u0cb4', 'ವ', 'ಶ', 'ಷ', 'ಸ', 'ಹ', '\\u0cba', '\\u0cbb', '಼', 'ಽ', 'ಾ', 'ಿ', 'ೀ', 'ು', 'ೂ', 'ೃ', 'ೄ', '\\u0cc5', 'ೆ', 'ೇ', 'ೈ', '\\u0cc9', 'ೊ', 'ೋ', 'ೌ', '್', '\\u0cce', '\\u0ccf', '\\u0cd0', '\\u0cd1', '\\u0cd2', '\\u0cd3', '\\u0cd4', 'ೕ', 'ೖ', '\\u0cd7', '\\u0cd8', '\\u0cd9', '\\u0cda', '\\u0cdb', '\\u0cdc', '\\u0cdd', 'ೞ', '\\u0cdf', 'ೠ', 'ೡ', 'ೢ', 'ೣ', '\\u0ce4', '\\u0ce5', '೦', '೧', '೨', '೩', '೪', '೫', '೬', '೭', '೮', '೯', '\\u0cf0', 'ೱ', 'ೲ', '\\u0cf3', '\\u0cf4', '\\u0cf5', '\\u0cf6', '\\u0cf7', '\\u0cf8', '\\u0cf9', '\\u0cfa', '\\u0cfb', '\\u0cfc', '\\u0cfd', '\\u0cfe', '\\u0cff', 'ഀ', 'ഁ', 'ം', 'ഃ', 'ഄ', 'അ', 'ആ', 'ഇ', 'ഈ', 'ഉ', 'ഊ', 'ഋ', 'ഌ', '\\u0d0d', 'എ', 'ഏ', 'ഐ', '\\u0d11', 'ഒ', 'ഓ', 'ഔ', 'ക', 'ഖ', 'ഗ', 'ഘ', 'ങ', 'ച', 'ഛ', 'ജ', 'ഝ', 'ഞ', 'ട', 'ഠ', 'ഡ', 'ഢ', 'ണ', 'ത', 'ഥ', 'ദ', 'ധ', 'ന', 'ഩ', 'പ', 'ഫ', 'ബ', 'ഭ', 'മ', 'യ', 'ര', 'റ', 'ല', 'ള', 'ഴ', 'വ', 'ശ', 'ഷ', 'സ', 'ഹ', 'ഺ', '഻', '഼', 'ഽ', 'ാ', 'ി', 'ീ', 'ു', 'ൂ', 'ൃ', 'ൄ', '\\u0d45', 'െ', 'േ', 'ൈ', '\\u0d49', 'ൊ', 'ോ', 'ൌ', '്', 'ൎ', '൏', '\\u0d50', '\\u0d51', '\\u0d52', '\\u0d53', 'ൔ', 'ൕ', 'ൖ', 'ൗ', '൘', '൙', '൚', '൛', '൜', '൝', '൞', 'ൟ', 'ൠ', 'ൡ', 'ൢ', 'ൣ', '\\u0d64', '\\u0d65', '൦', '൧', '൨', '൩', '൪', '൫', '൬', '൭', '൮', '൯', '൰', '൱', '൲', '൳', '൴', '൵', '൶', '൷', '൸', '൹', 'ൺ', 'ൻ', 'ർ', 'ൽ', 'ൾ', 'ൿ', '\\u0d80', 'ඁ', 'ං', 'ඃ', '\\u0d84', 'අ', 'ආ', 'ඇ', 'ඈ', 'ඉ', 'ඊ', 'උ', 'ඌ', 'ඍ', 'ඎ', 'ඏ', 'ඐ', 'එ', 'ඒ', 'ඓ', 'ඔ', 'ඕ', 'ඖ', '\\u0d97', '\\u0d98', '\\u0d99', 'ක', 'ඛ', 'ග', 'ඝ', 'ඞ', 'ඟ', 'ච', 'ඡ', 'ජ', 'ඣ', 'ඤ', 'ඥ', 'ඦ', 'ට', 'ඨ', 'ඩ', 'ඪ', 'ණ', 'ඬ', 'ත', 'ථ', 'ද', 'ධ', 'න', '\\u0db2', 'ඳ', 'ප', 'ඵ', 'බ', 'භ', 'ම', 'ඹ', 'ය', 'ර', '\\u0dbc', 'ල', '\\u0dbe', '\\u0dbf', 'ව', 'ශ', 'ෂ', 'ස', 'හ', 'ළ', 'ෆ', '\\u0dc7', '\\u0dc8', '\\u0dc9', '්', '\\u0dcb', '\\u0dcc', '\\u0dcd', '\\u0dce', 'ා', 'ැ', 'ෑ', 'ි', 'ී', 'ු', '\\u0dd5', 'ූ', '\\u0dd7', 'ෘ', 'ෙ', 'ේ', 'ෛ', 'ො', 'ෝ', 'ෞ', 'ෟ', '\\u0de0', '\\u0de1', '\\u0de2', '\\u0de3', '\\u0de4', '\\u0de5', '෦', '෧', '෨', '෩', '෪', '෫', '෬', '෭', '෮', '෯', '\\u0df0', '\\u0df1', 'ෲ', 'ෳ', '෴', '\\u0df5', '\\u0df6', '\\u0df7', '\\u0df8', '\\u0df9', '\\u0dfa', '\\u0dfb', '\\u0dfc', '\\u0dfd', '\\u0dfe', '\\u0dff', '\\u0e00', 'ก', 'ข', 'ฃ', 'ค', 'ฅ', 'ฆ', 'ง', 'จ', 'ฉ', 'ช', 'ซ', 'ฌ', 'ญ', 'ฎ', 'ฏ']\n"
     ]
    }
   ],
   "source": [
    "print([chr(val)for val in range(2300,3600)])"
   ]
  },
  {
   "cell_type": "code",
   "execution_count": 16,
   "id": "8cf7b34b",
   "metadata": {},
   "outputs": [
    {
     "name": "stdout",
     "output_type": "stream",
     "text": [
      "hi\n"
     ]
    }
   ],
   "source": [
    "print('hi')"
   ]
  },
  {
   "cell_type": "code",
   "execution_count": 17,
   "id": "0d439c14",
   "metadata": {},
   "outputs": [
    {
     "name": "stdout",
     "output_type": "stream",
     "text": [
      "hello world welcome to python let's talk about sep\n"
     ]
    }
   ],
   "source": [
    "print(\"hello world\",\"welcome to python\",\"let's talk about sep\")"
   ]
  },
  {
   "cell_type": "code",
   "execution_count": 18,
   "id": "2b26cc46",
   "metadata": {},
   "outputs": [
    {
     "name": "stdout",
     "output_type": "stream",
     "text": [
      "x: 55.5\n",
      "y: 44.5\n",
      "result:  100.0\n"
     ]
    }
   ],
   "source": [
    "a=float(input(\"x: \"))\n",
    "b=float(input(\"y: \"))\n",
    "r=a+b\n",
    "print(\"result: \",r)"
   ]
  },
  {
   "cell_type": "code",
   "execution_count": 19,
   "id": "cc1d0b43",
   "metadata": {},
   "outputs": [],
   "source": [
    "# Q1 write a code to print a person's age given by year \n",
    "# example:\n",
    "#  input(\"enter ur name\")\n",
    "# input(\"enter your birth year\")\n",
    "# output :-> hello shrey you are 18"
   ]
  },
  {
   "cell_type": "code",
   "execution_count": 20,
   "id": "1d045203",
   "metadata": {},
   "outputs": [],
   "source": [
    "# Q2 write a code to print discounted price of a given product \n",
    "# input(enter product name)\n",
    "# input (enter price) \n",
    "# input(enter discount)\n",
    "# output example you have to pay 64,000 "
   ]
  },
  {
   "cell_type": "code",
   "execution_count": null,
   "id": "41c2e159",
   "metadata": {},
   "outputs": [],
   "source": []
  }
 ],
 "metadata": {
  "kernelspec": {
   "display_name": "Python 3 (ipykernel)",
   "language": "python",
   "name": "python3"
  },
  "language_info": {
   "codemirror_mode": {
    "name": "ipython",
    "version": 3
   },
   "file_extension": ".py",
   "mimetype": "text/x-python",
   "name": "python",
   "nbconvert_exporter": "python",
   "pygments_lexer": "ipython3",
   "version": "3.10.5"
  }
 },
 "nbformat": 4,
 "nbformat_minor": 5
}
