{
 "cells": [
  {
   "cell_type": "markdown",
   "id": "8e5cc406",
   "metadata": {},
   "source": [
    "#### Questions"
   ]
  },
  {
   "cell_type": "code",
   "execution_count": 4,
   "id": "001a2b09",
   "metadata": {},
   "outputs": [],
   "source": [
    "def func():\n",
    "    return 1\n",
    "    return 2\n",
    "    return 3"
   ]
  },
  {
   "cell_type": "code",
   "execution_count": 5,
   "id": "9e0800bb",
   "metadata": {},
   "outputs": [
    {
     "name": "stdout",
     "output_type": "stream",
     "text": [
      "1\n"
     ]
    }
   ],
   "source": [
    "a = func()\n",
    "print(a) # ?"
   ]
  },
  {
   "cell_type": "markdown",
   "id": "29111dee",
   "metadata": {},
   "source": [
    "### Recursion"
   ]
  },
  {
   "cell_type": "code",
   "execution_count": 6,
   "id": "3663f626",
   "metadata": {},
   "outputs": [],
   "source": [
    "def hello(var):\n",
    "    if var!=0:\n",
    "        return var + hello(var-1)\n",
    "    return 10"
   ]
  },
  {
   "cell_type": "code",
   "execution_count": 7,
   "id": "bf7c3fbc",
   "metadata": {},
   "outputs": [],
   "source": [
    "ans = hello(5)"
   ]
  },
  {
   "cell_type": "code",
   "execution_count": 8,
   "id": "8afe3f3f",
   "metadata": {},
   "outputs": [
    {
     "name": "stdout",
     "output_type": "stream",
     "text": [
      "25\n"
     ]
    }
   ],
   "source": [
    "print(ans) # ? "
   ]
  },
  {
   "cell_type": "code",
   "execution_count": 14,
   "id": "497f30fb",
   "metadata": {},
   "outputs": [],
   "source": [
    "def natural_sum(var):\n",
    "    if var!=0:\n",
    "        return var + natural_sum(var-1)\n",
    "    return 0"
   ]
  },
  {
   "cell_type": "code",
   "execution_count": 16,
   "id": "0cf32830",
   "metadata": {},
   "outputs": [
    {
     "name": "stdout",
     "output_type": "stream",
     "text": [
      "55\n"
     ]
    }
   ],
   "source": [
    "ans = natural_sum(10)\n",
    "print(ans)"
   ]
  },
  {
   "cell_type": "code",
   "execution_count": 17,
   "id": "8a4366b0",
   "metadata": {},
   "outputs": [
    {
     "name": "stdout",
     "output_type": "stream",
     "text": [
      "15\n"
     ]
    }
   ],
   "source": [
    "print(natural_sum(5))"
   ]
  },
  {
   "cell_type": "markdown",
   "id": "5c60c318",
   "metadata": {},
   "source": [
    "    10 + 9 + 8 + 7 + 6 + ... + 2 + 1 + 0\n",
    "\n",
    "    SUM\n",
    "    if n!=0\n",
    "        return n + SUM(n-1)\n",
    "    return 0"
   ]
  },
  {
   "cell_type": "markdown",
   "id": "a11464a1",
   "metadata": {},
   "source": [
    "**factorial**"
   ]
  },
  {
   "cell_type": "markdown",
   "id": "b50d16cf",
   "metadata": {},
   "source": [
    "    5! = 5*4*3*2*1 = 120"
   ]
  },
  {
   "cell_type": "markdown",
   "id": "3be1b68d",
   "metadata": {},
   "source": [
    "    5! = 5*4!\n",
    "\n",
    "    4! = 4*3!\n",
    "\n",
    "    3! = 3*2!\n",
    "\n",
    "    2! = 2*1!\n",
    "\n",
    "    1! = 1"
   ]
  },
  {
   "cell_type": "code",
   "execution_count": 22,
   "id": "fed22f4d",
   "metadata": {},
   "outputs": [],
   "source": [
    "def factorial(num):\n",
    "    if num==1:\n",
    "        return 1\n",
    "    return num*factorial(num-1)"
   ]
  },
  {
   "cell_type": "code",
   "execution_count": 24,
   "id": "5e5247bc",
   "metadata": {},
   "outputs": [
    {
     "name": "stdout",
     "output_type": "stream",
     "text": [
      "6\n"
     ]
    }
   ],
   "source": [
    "ans = factorial(3)\n",
    "print(ans)"
   ]
  },
  {
   "cell_type": "markdown",
   "id": "7ed3edd3",
   "metadata": {},
   "source": [
    "**vimp\n",
    "\n",
    "    write a recursive and iterative python program to find nth term of fabnacii series"
   ]
  },
  {
   "cell_type": "markdown",
   "id": "5146283b",
   "metadata": {},
   "source": [
    "    fib(0) -> 0\n",
    "    fib(1) -> 1\n",
    "\n",
    "    fib(2) = fib(0) + fib(1) = 0+1 -> 1\n",
    "    fib(3) = fib(2) + fib(1) = 1+1 -> 2\n",
    "\n",
    "    fib(5) = fib(4) + fib(3) = 5"
   ]
  },
  {
   "cell_type": "markdown",
   "id": "5c027c29",
   "metadata": {},
   "source": [
    "    0 1 1 2 3 5 8 13 21 34 55 89 144 ...."
   ]
  },
  {
   "cell_type": "markdown",
   "id": "445b3216",
   "metadata": {},
   "source": [
    "    a = 10\n",
    "    d = 5\n",
    "\n",
    "    a, a+d, a+2d, a+3d, ...., a+nd\n",
    "\n",
    "    10 15 20 25 30 ...."
   ]
  },
  {
   "cell_type": "markdown",
   "id": "9ec3f293",
   "metadata": {},
   "source": [
    "    fib(5) => 5\n",
    "    fib(10) => 55"
   ]
  },
  {
   "cell_type": "code",
   "execution_count": null,
   "id": "498dd8ab",
   "metadata": {},
   "outputs": [],
   "source": []
  },
  {
   "cell_type": "markdown",
   "id": "d9f7a637",
   "metadata": {},
   "source": [
    "### Advance Functions"
   ]
  },
  {
   "cell_type": "markdown",
   "id": "3747ec95",
   "metadata": {},
   "source": [
    "    Enumerate, Zip,"
   ]
  },
  {
   "cell_type": "markdown",
   "id": "98ad03d8",
   "metadata": {},
   "source": [
    "    Lambda Functions / Anonymous Function / Inline Function\n",
    "    \n",
    "    Map, Filter,  *Reduce\n",
    "    \n",
    "    Generators, Closure, **Decorators\n",
    "    \n",
    "    "
   ]
  },
  {
   "cell_type": "code",
   "execution_count": 30,
   "id": "e5576c4e",
   "metadata": {},
   "outputs": [
    {
     "name": "stdout",
     "output_type": "stream",
     "text": [
      "True\n"
     ]
    }
   ],
   "source": [
    "def sq_sum(x, y):\n",
    "    return x**2 + y**2\n",
    "\n",
    "a = sq_sum\n",
    "\n",
    "print(a is sq_sum)"
   ]
  },
  {
   "cell_type": "code",
   "execution_count": 31,
   "id": "ce5c0588",
   "metadata": {},
   "outputs": [
    {
     "name": "stdout",
     "output_type": "stream",
     "text": [
      "<function sq_sum at 0x000001E5C2E79790>\n"
     ]
    }
   ],
   "source": [
    "print(a)"
   ]
  },
  {
   "cell_type": "code",
   "execution_count": 26,
   "id": "fd0e7f0c",
   "metadata": {},
   "outputs": [],
   "source": [
    "r = sq_sum(10, 20)"
   ]
  },
  {
   "cell_type": "code",
   "execution_count": 29,
   "id": "77eb63a5",
   "metadata": {},
   "outputs": [
    {
     "name": "stdout",
     "output_type": "stream",
     "text": [
      "<function sq_sum at 0x000001E5C0C37F70>\n"
     ]
    }
   ],
   "source": [
    "print(sq_sum)"
   ]
  },
  {
   "cell_type": "code",
   "execution_count": 27,
   "id": "7f28f10b",
   "metadata": {},
   "outputs": [
    {
     "name": "stdout",
     "output_type": "stream",
     "text": [
      "500\n"
     ]
    }
   ],
   "source": [
    "print(r)"
   ]
  },
  {
   "cell_type": "markdown",
   "id": "fe8d9954",
   "metadata": {},
   "source": [
    "    def func(arg1, arg2, ....):\n",
    "        st-1\n",
    "        st-2\n",
    "        ...      function body\n",
    "        st-3\n",
    "        return return_statement"
   ]
  },
  {
   "cell_type": "markdown",
   "id": "65ac953b",
   "metadata": {},
   "source": [
    "## Lambda Function\n",
    "\n",
    "    Anonymous Function because lambda function does not have any name\n",
    "    \n",
    "    Inline Function because this is defined using single line of code\n",
    "    \n",
    "    \n",
    "    \n",
    "**Syntax**\n",
    "\n",
    "    func_ref = lambda arg1, arg2, ... : return_statement"
   ]
  },
  {
   "cell_type": "code",
   "execution_count": 32,
   "id": "420bcba8",
   "metadata": {},
   "outputs": [],
   "source": [
    "def hello():\n",
    "    print(\"Hello World!\")"
   ]
  },
  {
   "cell_type": "code",
   "execution_count": 36,
   "id": "9c91f10f",
   "metadata": {},
   "outputs": [
    {
     "name": "stdout",
     "output_type": "stream",
     "text": [
      "<function hello at 0x000001E5C258EC10>\n",
      "Hello World!\n"
     ]
    }
   ],
   "source": [
    "print(hello)\n",
    "hello()"
   ]
  },
  {
   "cell_type": "code",
   "execution_count": 40,
   "id": "6fd57c7a",
   "metadata": {},
   "outputs": [
    {
     "name": "stdout",
     "output_type": "stream",
     "text": [
      "Hello World!\n"
     ]
    }
   ],
   "source": [
    "(lambda : print(\"Hello World!\"))()"
   ]
  },
  {
   "cell_type": "code",
   "execution_count": 34,
   "id": "ded3fe86",
   "metadata": {},
   "outputs": [],
   "source": [
    "h = lambda : print(\"Hello World!\")"
   ]
  },
  {
   "cell_type": "code",
   "execution_count": 35,
   "id": "e2dbfd4f",
   "metadata": {},
   "outputs": [
    {
     "name": "stdout",
     "output_type": "stream",
     "text": [
      "<function <lambda> at 0x000001E5C0C37D30>\n"
     ]
    }
   ],
   "source": [
    "print(h)"
   ]
  },
  {
   "cell_type": "code",
   "execution_count": 42,
   "id": "49448890",
   "metadata": {},
   "outputs": [
    {
     "name": "stdout",
     "output_type": "stream",
     "text": [
      "Hello World!\n",
      "Hello World!\n"
     ]
    }
   ],
   "source": [
    "h() # calling using refrence\n",
    "(lambda : print(\"Hello World!\"))() # Direct Call"
   ]
  },
  {
   "cell_type": "code",
   "execution_count": 43,
   "id": "359627b7",
   "metadata": {},
   "outputs": [],
   "source": [
    "def sum_square(x, y):\n",
    "    return x**2 + y**2"
   ]
  },
  {
   "cell_type": "code",
   "execution_count": 44,
   "id": "1a7dc3f6",
   "metadata": {},
   "outputs": [
    {
     "name": "stdout",
     "output_type": "stream",
     "text": [
      "500\n"
     ]
    }
   ],
   "source": [
    "r = sum_square(10, 20)\n",
    "print(r)"
   ]
  },
  {
   "cell_type": "code",
   "execution_count": 45,
   "id": "b0fc8447",
   "metadata": {},
   "outputs": [],
   "source": [
    "sq = lambda x,y: x**2+y**2"
   ]
  },
  {
   "cell_type": "code",
   "execution_count": 46,
   "id": "2dfb152e",
   "metadata": {},
   "outputs": [
    {
     "name": "stdout",
     "output_type": "stream",
     "text": [
      "5\n"
     ]
    }
   ],
   "source": [
    "r = sq(1, 2)\n",
    "print(r)"
   ]
  },
  {
   "cell_type": "code",
   "execution_count": 47,
   "id": "dc78f6fd",
   "metadata": {},
   "outputs": [
    {
     "name": "stdout",
     "output_type": "stream",
     "text": [
      "500\n"
     ]
    }
   ],
   "source": [
    "r = sq(10, 20)\n",
    "print(r)"
   ]
  },
  {
   "cell_type": "code",
   "execution_count": null,
   "id": "5b62f530",
   "metadata": {},
   "outputs": [],
   "source": []
  },
  {
   "cell_type": "code",
   "execution_count": 52,
   "id": "fbb44961",
   "metadata": {},
   "outputs": [
    {
     "name": "stdout",
     "output_type": "stream",
     "text": [
      "Number: 9\n",
      "4.5\n"
     ]
    }
   ],
   "source": [
    "num = int(input(\"Number: \")) # 9\n",
    "\n",
    "ans = num**2 if num%2==0 else num-(num/2)\n",
    "\n",
    "print(ans)"
   ]
  },
  {
   "cell_type": "markdown",
   "id": "de19913c",
   "metadata": {},
   "source": [
    "**List Comprenshions**"
   ]
  },
  {
   "cell_type": "code",
   "execution_count": 48,
   "id": "9a37dcef",
   "metadata": {},
   "outputs": [],
   "source": [
    "def even_odd(num):\n",
    "    if num%2==0:\n",
    "        return \"EVEN\"\n",
    "    else:\n",
    "        return \"ODD\""
   ]
  },
  {
   "cell_type": "code",
   "execution_count": 49,
   "id": "dc867b1a",
   "metadata": {},
   "outputs": [
    {
     "name": "stdout",
     "output_type": "stream",
     "text": [
      "EVEN\n"
     ]
    }
   ],
   "source": [
    "ans = even_odd(16)\n",
    "print(ans)"
   ]
  },
  {
   "cell_type": "code",
   "execution_count": 50,
   "id": "ec6b0168",
   "metadata": {},
   "outputs": [
    {
     "name": "stdout",
     "output_type": "stream",
     "text": [
      "ODD\n"
     ]
    }
   ],
   "source": [
    "ans = even_odd(19)\n",
    "print(ans)"
   ]
  },
  {
   "cell_type": "code",
   "execution_count": null,
   "id": "e1cecb37",
   "metadata": {},
   "outputs": [],
   "source": [
    "eo = lambda num: # your code goes here"
   ]
  },
  {
   "cell_type": "code",
   "execution_count": 53,
   "id": "48c88898",
   "metadata": {},
   "outputs": [],
   "source": [
    "eo = lambda num: \"EVEN\" if num%2==0 else \"ODD\""
   ]
  },
  {
   "cell_type": "code",
   "execution_count": 54,
   "id": "f7e204f6",
   "metadata": {},
   "outputs": [
    {
     "name": "stdout",
     "output_type": "stream",
     "text": [
      "EVEN\n"
     ]
    }
   ],
   "source": [
    "ans = eo(16)\n",
    "print(ans) # EVEN"
   ]
  },
  {
   "cell_type": "code",
   "execution_count": 55,
   "id": "7a889888",
   "metadata": {},
   "outputs": [
    {
     "name": "stdout",
     "output_type": "stream",
     "text": [
      "ODD\n"
     ]
    }
   ],
   "source": [
    "ans = eo(19)\n",
    "print(ans) # ODD"
   ]
  },
  {
   "cell_type": "code",
   "execution_count": 56,
   "id": "395c44f9",
   "metadata": {},
   "outputs": [],
   "source": [
    "def func(arg):\n",
    "    if arg==\"spam\":\n",
    "        return \"ham\"\n",
    "    return \"spam\""
   ]
  },
  {
   "cell_type": "code",
   "execution_count": 59,
   "id": "24edb5b0",
   "metadata": {},
   "outputs": [
    {
     "name": "stdout",
     "output_type": "stream",
     "text": [
      "ham\n"
     ]
    }
   ],
   "source": [
    "r = func(\"spam\")\n",
    "print(r)"
   ]
  },
  {
   "cell_type": "code",
   "execution_count": 60,
   "id": "6c8ee305",
   "metadata": {},
   "outputs": [
    {
     "name": "stdout",
     "output_type": "stream",
     "text": [
      "spam\n"
     ]
    }
   ],
   "source": [
    "r = func(\"ham\")\n",
    "print(r)"
   ]
  },
  {
   "cell_type": "code",
   "execution_count": 61,
   "id": "06a51b4a",
   "metadata": {},
   "outputs": [],
   "source": [
    "func = lambda arg: \"ham\" if arg==\"spam\" else \"ham\""
   ]
  },
  {
   "cell_type": "code",
   "execution_count": 62,
   "id": "2bdbd335",
   "metadata": {},
   "outputs": [
    {
     "data": {
      "text/plain": [
       "'ham'"
      ]
     },
     "execution_count": 62,
     "metadata": {},
     "output_type": "execute_result"
    }
   ],
   "source": [
    "func(\"ham\")"
   ]
  },
  {
   "cell_type": "code",
   "execution_count": 63,
   "id": "0d775451",
   "metadata": {},
   "outputs": [
    {
     "data": {
      "text/plain": [
       "'ham'"
      ]
     },
     "execution_count": 63,
     "metadata": {},
     "output_type": "execute_result"
    }
   ],
   "source": [
    "func(\"spam\")"
   ]
  },
  {
   "cell_type": "markdown",
   "id": "2a493e6d",
   "metadata": {},
   "source": [
    "**lambda codes** \n",
    "\n",
    "    tower of hanoi\n",
    "    \n",
    "    to check wheather a number prime or not\n",
    "    \n",
    "    fabnaccii"
   ]
  },
  {
   "cell_type": "markdown",
   "id": "bb15d57b",
   "metadata": {},
   "source": [
    "Write a python code to  define a greatest function which will return largest value among 3 values\n",
    "    \n",
    "    you are only allowed to use single line of code to define a function"
   ]
  },
  {
   "cell_type": "markdown",
   "id": "88176f5a",
   "metadata": {},
   "source": [
    "    st-1 if cond else st-2"
   ]
  },
  {
   "cell_type": "code",
   "execution_count": 70,
   "id": "096f25da",
   "metadata": {},
   "outputs": [
    {
     "ename": "SyntaxError",
     "evalue": "invalid syntax (3688309575.py, line 1)",
     "output_type": "error",
     "traceback": [
      "\u001b[1;36m  Input \u001b[1;32mIn [70]\u001b[1;36m\u001b[0m\n\u001b[1;33m    a if a>b and a>c b elif b>c else c\u001b[0m\n\u001b[1;37m                     ^\u001b[0m\n\u001b[1;31mSyntaxError\u001b[0m\u001b[1;31m:\u001b[0m invalid syntax\n"
     ]
    }
   ],
   "source": [
    "a if a>b and a>c b elif b>c else c"
   ]
  },
  {
   "cell_type": "code",
   "execution_count": 65,
   "id": "cfaf80dd",
   "metadata": {},
   "outputs": [],
   "source": [
    "def greatest(a, b, c):\n",
    "    if a>b and a>c:\n",
    "        return a\n",
    "    elif b>c:\n",
    "        return b\n",
    "    else:\n",
    "        return c"
   ]
  },
  {
   "cell_type": "code",
   "execution_count": 71,
   "id": "80e16a10",
   "metadata": {},
   "outputs": [],
   "source": [
    "def greatest(a, b, c):\n",
    "    if a>b and a>c:\n",
    "        return a\n",
    "    else:\n",
    "        if b>c:\n",
    "            return b\n",
    "        else:\n",
    "            return c"
   ]
  },
  {
   "cell_type": "code",
   "execution_count": 74,
   "id": "f80de81c",
   "metadata": {},
   "outputs": [
    {
     "data": {
      "text/plain": [
       "40"
      ]
     },
     "execution_count": 74,
     "metadata": {},
     "output_type": "execute_result"
    }
   ],
   "source": [
    "greatest(10, 40, 30)"
   ]
  },
  {
   "cell_type": "code",
   "execution_count": 75,
   "id": "99252189",
   "metadata": {},
   "outputs": [
    {
     "name": "stdout",
     "output_type": "stream",
     "text": [
      "40\n"
     ]
    }
   ],
   "source": [
    "# replace this line with your code\n",
    "greatest = lambda a, b, c: a if (a>b and a>c) else (b if (b>c) else c)\n",
    "r = greatest(10, 40, 20)\n",
    "print(r)\n",
    "# r = 40"
   ]
  },
  {
   "cell_type": "code",
   "execution_count": null,
   "id": "1a8ed70c",
   "metadata": {},
   "outputs": [],
   "source": []
  },
  {
   "cell_type": "code",
   "execution_count": null,
   "id": "9da3b8cf",
   "metadata": {},
   "outputs": [],
   "source": []
  }
 ],
 "metadata": {
  "kernelspec": {
   "display_name": "Python 3 (ipykernel)",
   "language": "python",
   "name": "python3"
  },
  "language_info": {
   "codemirror_mode": {
    "name": "ipython",
    "version": 3
   },
   "file_extension": ".py",
   "mimetype": "text/x-python",
   "name": "python",
   "nbconvert_exporter": "python",
   "pygments_lexer": "ipython3",
   "version": "3.9.12"
  }
 },
 "nbformat": 4,
 "nbformat_minor": 5
}
