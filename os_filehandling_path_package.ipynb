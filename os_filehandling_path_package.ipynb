{
 "cells": [
  {
   "cell_type": "code",
   "execution_count": 1,
   "metadata": {},
   "outputs": [
    {
     "name": "stdout",
     "output_type": "stream",
     "text": [
      "Hello World!\n"
     ]
    }
   ],
   "source": [
    "print(\"Hello World!\")"
   ]
  },
  {
   "cell_type": "code",
   "execution_count": 2,
   "metadata": {},
   "outputs": [],
   "source": [
    "import os"
   ]
  },
  {
   "cell_type": "code",
   "execution_count": 3,
   "metadata": {},
   "outputs": [
    {
     "name": "stdout",
     "output_type": "stream",
     "text": [
      "c:\\Users\\Sachi\\OneDrive - Grras Solution Pvt. Ltd\\Python_2022\\13.Packages_FileHandling\n"
     ]
    }
   ],
   "source": [
    "curr_path = os.getcwd()\n",
    "# get path of  current working directory \n",
    "print(curr_path)"
   ]
  },
  {
   "cell_type": "code",
   "execution_count": 4,
   "metadata": {},
   "outputs": [],
   "source": [
    "status_code = os.system(\"notepad\")"
   ]
  },
  {
   "cell_type": "code",
   "execution_count": 5,
   "metadata": {},
   "outputs": [
    {
     "name": "stdout",
     "output_type": "stream",
     "text": [
      "0\n"
     ]
    }
   ],
   "source": [
    "print(status_code)"
   ]
  },
  {
   "cell_type": "code",
   "execution_count": 6,
   "metadata": {},
   "outputs": [],
   "source": [
    "d = os.system(\"abcdefhi\")"
   ]
  },
  {
   "cell_type": "code",
   "execution_count": 7,
   "metadata": {},
   "outputs": [
    {
     "name": "stdout",
     "output_type": "stream",
     "text": [
      "1\n"
     ]
    }
   ],
   "source": [
    "print(d)"
   ]
  },
  {
   "cell_type": "code",
   "execution_count": 8,
   "metadata": {},
   "outputs": [
    {
     "data": {
      "text/plain": [
       "0"
      ]
     },
     "execution_count": 8,
     "metadata": {},
     "output_type": "execute_result"
    }
   ],
   "source": [
    "os.system(\"dir C:\\\\users\\\\sachi\\\\Desktop\")"
   ]
  },
  {
   "cell_type": "code",
   "execution_count": 9,
   "metadata": {},
   "outputs": [],
   "source": [
    "import subprocess \n",
    "\n",
    "status, output = subprocess.getstatusoutput(\"dir C:\\\\users\\\\sachi\\\\Desktop\")"
   ]
  },
  {
   "cell_type": "code",
   "execution_count": 10,
   "metadata": {},
   "outputs": [
    {
     "name": "stdout",
     "output_type": "stream",
     "text": [
      "0\n"
     ]
    }
   ],
   "source": [
    "print(status)"
   ]
  },
  {
   "cell_type": "code",
   "execution_count": 11,
   "metadata": {},
   "outputs": [
    {
     "name": "stdout",
     "output_type": "stream",
     "text": [
      " Volume in drive C is Local Disk\n",
      " Volume Serial Number is 3240-AEBB\n",
      "\n",
      " Directory of C:\\users\\sachi\\Desktop\n",
      "\n",
      "12/04/2022  12:39 PM    <DIR>          .\n",
      "12/14/2022  06:00 PM    <DIR>          ..\n",
      "11/16/2022  09:08 AM    <DIR>          Arya\n",
      "12/12/2022  06:32 PM    <DIR>          python code\n",
      "08/16/2022  10:19 AM         3,000,241 python.pptx\n",
      "11/22/2022  08:46 AM           149,821 PYTHON_OFFER_COURSE.pdf\n",
      "11/10/2022  03:54 PM             4,122 python_script.txt\n",
      "               3 File(s)      3,154,184 bytes\n",
      "               4 Dir(s)  143,188,082,688 bytes free\n"
     ]
    }
   ],
   "source": [
    "print(output)"
   ]
  },
  {
   "cell_type": "code",
   "execution_count": 12,
   "metadata": {},
   "outputs": [],
   "source": [
    "status, output = subprocess.getstatusoutput(\"mkdir C:\\\\users\\\\sachi\\\\Desktop\\\\ABCD\")"
   ]
  },
  {
   "cell_type": "code",
   "execution_count": 13,
   "metadata": {},
   "outputs": [
    {
     "name": "stdout",
     "output_type": "stream",
     "text": [
      "0\n"
     ]
    }
   ],
   "source": [
    "print(status)"
   ]
  },
  {
   "cell_type": "code",
   "execution_count": 14,
   "metadata": {},
   "outputs": [
    {
     "name": "stdout",
     "output_type": "stream",
     "text": [
      "\n"
     ]
    }
   ],
   "source": [
    "print(output)"
   ]
  },
  {
   "cell_type": "code",
   "execution_count": 15,
   "metadata": {},
   "outputs": [
    {
     "name": "stdout",
     "output_type": "stream",
     "text": [
      "/c/Users/Sachi/OneDrive - Grras Solution Pvt. Ltd/Python_2022/13.Packages_FileHandling\n"
     ]
    }
   ],
   "source": [
    "!pwd"
   ]
  },
  {
   "cell_type": "code",
   "execution_count": 16,
   "metadata": {},
   "outputs": [
    {
     "name": "stdout",
     "output_type": "stream",
     "text": [
      "c:\\Users\\Sachi\\OneDrive - Grras Solution Pvt. Ltd\\Python_2022\\13.Packages_FileHandling\n"
     ]
    }
   ],
   "source": [
    "pwd = os.getcwd()\n",
    "print(pwd)"
   ]
  },
  {
   "cell_type": "code",
   "execution_count": 18,
   "metadata": {},
   "outputs": [
    {
     "name": "stdout",
     "output_type": "stream",
     "text": [
      "['ABCD', 'Arya', 'desktop.ini', 'python code', 'python.pptx', 'PYTHON_OFFER_COURSE.pdf', 'python_script.txt']\n"
     ]
    }
   ],
   "source": [
    "files = os.listdir(\"C:\\\\Users\\\\Sachi\\\\Desktop\")\n",
    "print(files)"
   ]
  },
  {
   "cell_type": "markdown",
   "metadata": {},
   "source": [
    "`os.path`\n",
    "\n",
    "    is a module by which you can work with path"
   ]
  },
  {
   "cell_type": "code",
   "execution_count": 19,
   "metadata": {},
   "outputs": [
    {
     "name": "stdout",
     "output_type": "stream",
     "text": [
      "False\n"
     ]
    }
   ],
   "source": [
    "a = os.path.exists(\"C:\\\\merimarzi\\\\kuch\\\\bhi\")\n",
    "print(a)"
   ]
  },
  {
   "cell_type": "code",
   "execution_count": 20,
   "metadata": {},
   "outputs": [
    {
     "name": "stdout",
     "output_type": "stream",
     "text": [
      "Yes! It does exists\n"
     ]
    }
   ],
   "source": [
    "path = input(\"Path: \")\n",
    "\n",
    "if os.path.exists(path):\n",
    "    print(\"Yes! It does exists\")\n",
    "else:\n",
    "    print(\"It does not exists!\")"
   ]
  },
  {
   "cell_type": "code",
   "execution_count": 21,
   "metadata": {},
   "outputs": [
    {
     "name": "stdout",
     "output_type": "stream",
     "text": [
      "It does not exists!\n"
     ]
    }
   ],
   "source": [
    "path = \"C:\\\\user\\\\Sachi\\\\Desktop\"\n",
    "\n",
    "if os.path.exists(path):\n",
    "    print(\"Yes! It does exists\")\n",
    "else:\n",
    "    print(\"It does not exists!\")"
   ]
  },
  {
   "cell_type": "code",
   "execution_count": 22,
   "metadata": {},
   "outputs": [
    {
     "data": {
      "text/plain": [
       "'Sachi'"
      ]
     },
     "execution_count": 22,
     "metadata": {},
     "output_type": "execute_result"
    }
   ],
   "source": [
    "os.environ[\"USERNAME\"]"
   ]
  },
  {
   "cell_type": "code",
   "execution_count": 24,
   "metadata": {},
   "outputs": [
    {
     "data": {
      "text/plain": [
       "'\\\\Users\\\\Sachi'"
      ]
     },
     "execution_count": 24,
     "metadata": {},
     "output_type": "execute_result"
    }
   ],
   "source": [
    "os.environ[\"HOMEPATH\"] # linux => HOME"
   ]
  },
  {
   "cell_type": "markdown",
   "metadata": {},
   "source": [
    "    type of files \n",
    "\n",
    "        t - Text Files / Regular Files --> Human Readable and Writeable\n",
    "        b - Bytes Files / Raw Files --> Program Redable Files [PRO]\n",
    "\n",
    "\n",
    "    mode of files \n",
    "\n",
    "    r  - read only mode  [throw an error FileNotFound if file does not exists] [ByDefault]\n",
    "    w  - write only mode [overwrite content if file exists else creates a new file]\n",
    "    a  - append only mode [create new file if file does not exists else add content at the end of old file]\n",
    "    x - write new file only mode [to create new file, if file exists than throw an Error FileAlreadyExists]\n",
    "\n",
    "    t - to open a text file or Human Readable File usually utf-8 content [ByDefault]\n",
    "    b - to work with raw file or binary files \n",
    "\n",
    "    "
   ]
  },
  {
   "cell_type": "code",
   "execution_count": 33,
   "metadata": {},
   "outputs": [
    {
     "name": "stdout",
     "output_type": "stream",
     "text": [
      "Writing hello.txt\n"
     ]
    }
   ],
   "source": [
    "%%writefile hello.txt\n",
    "    Hello World! \n",
    "        From a File "
   ]
  },
  {
   "cell_type": "code",
   "execution_count": 34,
   "metadata": {},
   "outputs": [],
   "source": [
    "# bytes / unicode vaules --> Encoding Map (UTF_8) --> string (letters)\n",
    "file = open(\"hello.txt\", \"rt\")  # open(path, mode, encoding='utf-8', buffering=-1)\n",
    "# default mode -> r -> read only | t -> text file / regular "
   ]
  },
  {
   "cell_type": "code",
   "execution_count": 36,
   "metadata": {},
   "outputs": [
    {
     "name": "stdout",
     "output_type": "stream",
     "text": [
      "    Hello World! \n",
      "        From a File \n",
      "\n"
     ]
    }
   ],
   "source": [
    "content = file.read()\n",
    "print(content)"
   ]
  },
  {
   "cell_type": "code",
   "execution_count": 37,
   "metadata": {},
   "outputs": [],
   "source": [
    "file.close()"
   ]
  },
  {
   "cell_type": "code",
   "execution_count": 26,
   "metadata": {},
   "outputs": [],
   "source": [
    "HOME = os.environ[\"HOMEPATH\"]\n",
    "DIR = \"Downloads\"\n",
    "FILENAME = \"hello.txt\"\n",
    "PATH = os.path.join(HOME, DIR, FILENAME)\n",
    "\n",
    "def read_write_file(PATH):\n",
    "    if os.path.exists(PATH):\n",
    "        print(\"File Already Exists!\")\n",
    "        file = open(PATH, \"rt\")\n",
    "        content = file.read()\n",
    "        print(content)\n",
    "        file.close()\n",
    "    else:\n",
    "        file = open(PATH, \"w\")\n",
    "        content = \"\"\"\n",
    "            Hello World! This is a Demo File\n",
    "                Have Fun with File Handling\n",
    "        \"\"\"\n",
    "        file.write(content)\n",
    "        file.close()\n",
    "\n",
    "if __name__ == \"__main__\":\n",
    "    read_write_file(PATH)"
   ]
  },
  {
   "cell_type": "code",
   "execution_count": 28,
   "metadata": {},
   "outputs": [
    {
     "data": {
      "text/plain": [
       "'\\\\Users\\\\Sachi\\\\Downloads\\\\hello.txt'"
      ]
     },
     "execution_count": 28,
     "metadata": {},
     "output_type": "execute_result"
    }
   ],
   "source": []
  },
  {
   "cell_type": "code",
   "execution_count": null,
   "metadata": {},
   "outputs": [],
   "source": [
    "name,math,phy,chem\n",
    "sachin,80,90,100\n",
    "rajat,90,80,78\n",
    "nidhi,80,90,80\n",
    "\n",
    "name = \"student_data.csv\"\n",
    "\n",
    "output -> student_result.csv\n",
    "\n",
    "sachin,90\n",
    "rajat,85\n",
    "nidhi,80\n",
    "\n",
    "file = open('filename', 'r')\n",
    "\n",
    "for line in file:\n",
    "\tprint(line)\n",
    "\n",
    "file.close()"
   ]
  }
 ],
 "metadata": {
  "kernelspec": {
   "display_name": "Python 3.9.13 ('base')",
   "language": "python",
   "name": "python3"
  },
  "language_info": {
   "codemirror_mode": {
    "name": "ipython",
    "version": 3
   },
   "file_extension": ".py",
   "mimetype": "text/x-python",
   "name": "python",
   "nbconvert_exporter": "python",
   "pygments_lexer": "ipython3",
   "version": "3.9.13"
  },
  "orig_nbformat": 4,
  "vscode": {
   "interpreter": {
    "hash": "ad2bdc8ecc057115af97d19610ffacc2b4e99fae6737bb82f5d7fb13d2f2c186"
   }
  }
 },
 "nbformat": 4,
 "nbformat_minor": 2
}
