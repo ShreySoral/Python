{
 "cells": [
  {
   "cell_type": "markdown",
   "id": "8387534f",
   "metadata": {},
   "source": [
    "# OOPs\n",
    "\n",
    "### Class / Object"
   ]
  },
  {
   "cell_type": "markdown",
   "id": "b680bb39",
   "metadata": {},
   "source": [
    "`instance methods`\n",
    "\n",
    "    methods which requires object in order to function"
   ]
  },
  {
   "cell_type": "code",
   "execution_count": 11,
   "id": "fffc126b",
   "metadata": {},
   "outputs": [],
   "source": [
    "def percent(data):\n",
    "    # data = [\"sachin\", 67, 89, 90]\n",
    "    phy = data[1]\n",
    "    chem = data[2]\n",
    "    math = data[3]\n",
    "    per = phy+chem+math\n",
    "    return round(per/3,2)"
   ]
  },
  {
   "cell_type": "code",
   "execution_count": 12,
   "id": "12705f32",
   "metadata": {},
   "outputs": [],
   "source": [
    "data = [\n",
    "    [\"sachin\", 67, 89, 90],\n",
    "    [\"rajat\", 78, 68, 50],\n",
    "    [\"nidhi\", 78, 89, 87]\n",
    "]"
   ]
  },
  {
   "cell_type": "code",
   "execution_count": 13,
   "id": "177bb9b3",
   "metadata": {},
   "outputs": [
    {
     "name": "stdout",
     "output_type": "stream",
     "text": [
      "sachin 82.0\n",
      "rajat 65.33\n",
      "nidhi 84.67\n"
     ]
    }
   ],
   "source": [
    "#var = data[0]\n",
    "for var in data:\n",
    "    print(var[0], percent(var))"
   ]
  },
  {
   "cell_type": "code",
   "execution_count": 41,
   "id": "8068850c",
   "metadata": {},
   "outputs": [],
   "source": [
    "d = [\n",
    "    {\"names\": ['ram', 'shyam', 'hari']}\n",
    "]"
   ]
  },
  {
   "cell_type": "code",
   "execution_count": 43,
   "id": "5afee9f3",
   "metadata": {},
   "outputs": [
    {
     "name": "stdout",
     "output_type": "stream",
     "text": [
      "[{'names': ['ram', 'shyam', 'hari', 'sachin']}]\n"
     ]
    }
   ],
   "source": [
    "x = d[0][\"names\"].append(\"sachin\")\n",
    "print(d) # shyam"
   ]
  },
  {
   "cell_type": "code",
   "execution_count": 55,
   "id": "242e7f14",
   "metadata": {},
   "outputs": [],
   "source": [
    "class Student:\n",
    "    def __init__(self, name, phy, chem, math):\n",
    "        self.name = name\n",
    "        self.phyics = phy\n",
    "        self.chemistry = chem\n",
    "        self.math = math\n",
    "    def get_marks(self):\n",
    "        return {\n",
    "            \"Math\": self.math, \"Chemistry\": self.chemistry,\n",
    "            \"Physics\": self.phyics\n",
    "        }\n",
    "    def get_name(self):\n",
    "        return self.name\n",
    "    def get_percent(self):\n",
    "        sum_ = self.math + self.chemistry + self.phyics\n",
    "        return round(sum_/3,2)\n",
    "    def __str__(self):\n",
    "        return f\"Student({self.name})\"\n",
    "    def __repr__(self):\n",
    "        return f\"<{self.name}>\""
   ]
  },
  {
   "cell_type": "code",
   "execution_count": 56,
   "id": "7755b2a1",
   "metadata": {},
   "outputs": [],
   "source": [
    "data = [\n",
    "    Student(\"sachin\", 67, 89, 90),\n",
    "    Student(\"rajat\", 78, 68, 50),\n",
    "    Student(\"nidhi\", 78, 89, 87)\n",
    "]"
   ]
  },
  {
   "cell_type": "code",
   "execution_count": 58,
   "id": "ff8361cf",
   "metadata": {},
   "outputs": [
    {
     "name": "stdout",
     "output_type": "stream",
     "text": [
      "Student(sachin) sachin 82.0 {'Math': 90, 'Chemistry': 89, 'Physics': 67}\n",
      "Student(rajat) rajat 65.33 {'Math': 50, 'Chemistry': 68, 'Physics': 78}\n",
      "Student(nidhi) nidhi 84.67 {'Math': 87, 'Chemistry': 89, 'Physics': 78}\n"
     ]
    }
   ],
   "source": [
    "for obj in data:\n",
    "    print(obj, obj.get_name(), obj.get_percent(), obj.get_marks())"
   ]
  },
  {
   "cell_type": "code",
   "execution_count": 52,
   "id": "4b77a752",
   "metadata": {},
   "outputs": [
    {
     "name": "stdout",
     "output_type": "stream",
     "text": [
      "sachin\n"
     ]
    }
   ],
   "source": [
    "x = data[0].get_name()\n",
    "print(x)"
   ]
  },
  {
   "cell_type": "code",
   "execution_count": null,
   "id": "b6b88d56",
   "metadata": {},
   "outputs": [],
   "source": []
  },
  {
   "cell_type": "code",
   "execution_count": 39,
   "id": "80ac5401",
   "metadata": {},
   "outputs": [
    {
     "data": {
      "text/plain": [
       "<sachin>"
      ]
     },
     "execution_count": 39,
     "metadata": {},
     "output_type": "execute_result"
    }
   ],
   "source": [
    "data[0] # repr cell output"
   ]
  },
  {
   "cell_type": "code",
   "execution_count": 40,
   "id": "0878266f",
   "metadata": {},
   "outputs": [
    {
     "name": "stdout",
     "output_type": "stream",
     "text": [
      "Student(sachin)\n"
     ]
    }
   ],
   "source": [
    "print(data[0]) # str"
   ]
  },
  {
   "cell_type": "code",
   "execution_count": 34,
   "id": "67c0c66e",
   "metadata": {},
   "outputs": [],
   "source": [
    "from pprint import pprint"
   ]
  },
  {
   "cell_type": "code",
   "execution_count": 35,
   "id": "e88fce80",
   "metadata": {},
   "outputs": [
    {
     "name": "stdout",
     "output_type": "stream",
     "text": [
      "[<sachin>, <rajat>, <nidhi>]\n"
     ]
    }
   ],
   "source": [
    "pprint(data) # repr "
   ]
  },
  {
   "cell_type": "code",
   "execution_count": 36,
   "id": "2b8ea85d",
   "metadata": {},
   "outputs": [
    {
     "name": "stdout",
     "output_type": "stream",
     "text": [
      "Student(rajat)\n"
     ]
    }
   ],
   "source": [
    "print(data[1]) # str print(obj)"
   ]
  },
  {
   "cell_type": "markdown",
   "id": "3d0c41d8",
   "metadata": {},
   "source": [
    "### Inheritance \n",
    "\n",
    "    Code Reuseablity\n",
    "    \n",
    "    When a Child Class aquires all method of parent class"
   ]
  },
  {
   "cell_type": "code",
   "execution_count": 62,
   "id": "29f9c62e",
   "metadata": {},
   "outputs": [],
   "source": [
    "class Car:\n",
    "    def __init__(self, model, year, mileage, max_speed, engine_info, color):\n",
    "        self.model = model\n",
    "        self.year = year\n",
    "        self.mileage = mileage\n",
    "        self.max_speed = max_speed\n",
    "        self.engine_info = engine_info\n",
    "        self.color = color\n",
    "    def get_model(self):\n",
    "        return self.model\n",
    "     \n",
    "    def get_milage(self):\n",
    "        return self.mileage\n",
    "    def get_top_speed(self):\n",
    "        return self.max_speed\n",
    "    def get_engine_info(self):\n",
    "        return self.engine_info\n",
    "    def get_color(self):\n",
    "        return self.color\n",
    "    def __str__(self):\n",
    "        return f\"Car({self.model}, {self.year})\"\n",
    "    "
   ]
  },
  {
   "cell_type": "code",
   "execution_count": 64,
   "id": "90a8c054",
   "metadata": {},
   "outputs": [
    {
     "name": "stdout",
     "output_type": "stream",
     "text": [
      "Car(Alto-800, 2022)\n"
     ]
    }
   ],
   "source": [
    "c1 = Car(\"Alto-800\", 2022, \"22 kmpl\", 120, \"800 CC\", \"white\")\n",
    "print(c1)"
   ]
  },
  {
   "cell_type": "code",
   "execution_count": 68,
   "id": "54e7552f",
   "metadata": {},
   "outputs": [
    {
     "name": "stdout",
     "output_type": "stream",
     "text": [
      "white\n"
     ]
    }
   ],
   "source": [
    "x = c1.get_color()\n",
    "print(x)\n"
   ]
  },
  {
   "cell_type": "code",
   "execution_count": 69,
   "id": "1d2132d4",
   "metadata": {},
   "outputs": [],
   "source": [
    "class Car:\n",
    "    def __init__(self, model, year, mileage, max_speed, engine_info, color):\n",
    "        self.model = model\n",
    "        self.year = year\n",
    "        self.mileage = mileage\n",
    "        self.max_speed = max_speed\n",
    "        self.engine_info = engine_info\n",
    "        self.color = color\n",
    "    def get_model(self):\n",
    "        return self.model\n",
    "    def get_milage(self):\n",
    "        return self.mileage\n",
    "    def get_top_speed(self):\n",
    "        return self.max_speed\n",
    "    def get_engine_info(self):\n",
    "        return self.engine_info\n",
    "    def get_color(self):\n",
    "        return self.color\n",
    "    def __str__(self):\n",
    "        return f\"Car({self.model}, {self.year})\"\n",
    "    "
   ]
  },
  {
   "cell_type": "markdown",
   "id": "a3c1bc2c",
   "metadata": {},
   "source": [
    "`Parent Class / Base Class / Super Class`\n",
    "\n",
    "    A class which you will inherit\n",
    "    \n",
    "`Child / Derived /  Sub Class`\n",
    "\n",
    "    Class which inherits another class\n",
    "\n"
   ]
  },
  {
   "cell_type": "code",
   "execution_count": 70,
   "id": "5ce9cbf0",
   "metadata": {},
   "outputs": [],
   "source": [
    "class Phone:\n",
    "    def call(self):\n",
    "        print(\"it should provide basic calling feature\")\n",
    "    def sms(self):\n",
    "        print(\"it should have facility to send & receives short messages\")"
   ]
  },
  {
   "cell_type": "code",
   "execution_count": 72,
   "id": "ae4b748f",
   "metadata": {},
   "outputs": [],
   "source": [
    "# Nokia_1100 class inherits Phone\n",
    "# Nokia_1100 extends Phone\n",
    "class Nokia_1100(Phone):\n",
    "    def snake_game(self):\n",
    "        print(\"you have a cool snake game!\")"
   ]
  },
  {
   "cell_type": "code",
   "execution_count": 73,
   "id": "efa32f41",
   "metadata": {},
   "outputs": [],
   "source": [
    "ph1 = Nokia_1100()"
   ]
  },
  {
   "cell_type": "code",
   "execution_count": 74,
   "id": "7c8c15aa",
   "metadata": {},
   "outputs": [
    {
     "name": "stdout",
     "output_type": "stream",
     "text": [
      "you have a cool snake game!\n"
     ]
    }
   ],
   "source": [
    "ph1.snake_game()"
   ]
  },
  {
   "cell_type": "code",
   "execution_count": 75,
   "id": "49295283",
   "metadata": {},
   "outputs": [
    {
     "name": "stdout",
     "output_type": "stream",
     "text": [
      "it should provide basic calling feature\n"
     ]
    }
   ],
   "source": [
    "ph1.call()"
   ]
  },
  {
   "cell_type": "code",
   "execution_count": 76,
   "id": "63ba7493",
   "metadata": {},
   "outputs": [
    {
     "name": "stdout",
     "output_type": "stream",
     "text": [
      "it should have facility to send & receives short messages\n"
     ]
    }
   ],
   "source": [
    "ph1.sms()"
   ]
  },
  {
   "cell_type": "code",
   "execution_count": 79,
   "id": "a8b7ba21",
   "metadata": {},
   "outputs": [],
   "source": [
    "class Iphone6(Phone):\n",
    "    def camera(self):\n",
    "        print(\"Best Camera in Segment\")\n",
    "    def app_support(self):\n",
    "        print(\"very less apps available! but high security\")"
   ]
  },
  {
   "cell_type": "code",
   "execution_count": 80,
   "id": "b90f418f",
   "metadata": {},
   "outputs": [],
   "source": [
    "x = Iphone6()"
   ]
  },
  {
   "cell_type": "code",
   "execution_count": 81,
   "id": "c6d25cf1",
   "metadata": {},
   "outputs": [
    {
     "name": "stdout",
     "output_type": "stream",
     "text": [
      "it should provide basic calling feature\n"
     ]
    }
   ],
   "source": [
    "x.call()"
   ]
  },
  {
   "cell_type": "code",
   "execution_count": 82,
   "id": "3bd55c6f",
   "metadata": {},
   "outputs": [
    {
     "name": "stdout",
     "output_type": "stream",
     "text": [
      "it should have facility to send & receives short messages\n"
     ]
    }
   ],
   "source": [
    "x.sms()"
   ]
  },
  {
   "cell_type": "code",
   "execution_count": 83,
   "id": "e8a3f2a3",
   "metadata": {},
   "outputs": [
    {
     "name": "stdout",
     "output_type": "stream",
     "text": [
      "Best Camera in Segment\n"
     ]
    }
   ],
   "source": [
    "x.camera()"
   ]
  },
  {
   "cell_type": "code",
   "execution_count": 84,
   "id": "ebcfa482",
   "metadata": {},
   "outputs": [
    {
     "name": "stdout",
     "output_type": "stream",
     "text": [
      "very less apps available! but high security\n"
     ]
    }
   ],
   "source": [
    "x.app_support()"
   ]
  },
  {
   "cell_type": "code",
   "execution_count": 85,
   "id": "bb85baf4",
   "metadata": {},
   "outputs": [],
   "source": [
    "class Phone:\n",
    "    def call(self):\n",
    "        print(\"it should provide basic calling feature\")\n",
    "    def sms(self):\n",
    "        print(\"it should have facility to send & receives short messages\")"
   ]
  },
  {
   "cell_type": "code",
   "execution_count": 87,
   "id": "96f1a9b8",
   "metadata": {},
   "outputs": [],
   "source": [
    "class Iphone6(Phone, Nokia_1100):\n",
    "    def camera(self):\n",
    "        print(\"Best Camera in Segment\")\n",
    "    def app_support(self):\n",
    "        print(\"very less apps available! but high security\")"
   ]
  },
  {
   "cell_type": "markdown",
   "id": "cd2b03f3",
   "metadata": {},
   "source": [
    "### Types of Inheritance\n",
    "    \n",
    "    1. Single Level Inheritance\n",
    "    \n",
    "    2. Multi Level Inheritance\n",
    "    \n",
    "    3. Multiple Inheritance\n",
    "    \n",
    "    4. Heirarchical Inheritance\n",
    "    \n",
    "    5. Hybrid Inheritance"
   ]
  },
  {
   "cell_type": "code",
   "execution_count": 92,
   "id": "cd8f92ca",
   "metadata": {},
   "outputs": [],
   "source": [
    "class Papa:\n",
    "    def bangla(self):\n",
    "        print(\"I can my papa's bangla\")\n",
    "    def bike(self):\n",
    "        print(\"I can drive a bike, but that is of my papa\")\n",
    "        \n",
    "class Child(Papa):\n",
    "    def car(self):\n",
    "        print(\"I have my own car\")"
   ]
  },
  {
   "cell_type": "code",
   "execution_count": 93,
   "id": "d6cab1f0",
   "metadata": {},
   "outputs": [],
   "source": [
    "c1 = Child()"
   ]
  },
  {
   "cell_type": "code",
   "execution_count": 94,
   "id": "033ddcf3",
   "metadata": {},
   "outputs": [
    {
     "name": "stdout",
     "output_type": "stream",
     "text": [
      "I can my papa's bangla\n"
     ]
    }
   ],
   "source": [
    "c1.bangla()"
   ]
  },
  {
   "cell_type": "code",
   "execution_count": 95,
   "id": "7417794a",
   "metadata": {},
   "outputs": [
    {
     "name": "stdout",
     "output_type": "stream",
     "text": [
      "I can drive a bike, but that is of my papa\n"
     ]
    }
   ],
   "source": [
    "c1.bike()"
   ]
  },
  {
   "cell_type": "code",
   "execution_count": 96,
   "id": "b841e47f",
   "metadata": {},
   "outputs": [
    {
     "name": "stdout",
     "output_type": "stream",
     "text": [
      "I have my own car\n"
     ]
    }
   ],
   "source": [
    "c1.car()"
   ]
  },
  {
   "cell_type": "markdown",
   "id": "679c5a7d",
   "metadata": {},
   "source": [
    "### Over-riding "
   ]
  },
  {
   "cell_type": "code",
   "execution_count": 2,
   "id": "57c07875",
   "metadata": {},
   "outputs": [],
   "source": [
    "class Papa:\n",
    "    def haveli(self):\n",
    "        print(\"Papa ji ki haveli hai jo mere hone wali future mein\")\n",
    "    def car(self):\n",
    "        print(\"No option! but have to run a Alto-800\")\n",
    "    def bike(self):\n",
    "        print(\"We have a splendra bike\")\n",
    "        \n",
    "\n",
    "\n",
    "class Beta(Papa):\n",
    "    def bike(self):\n",
    "        print(\"Royal Enfield Himalayan\")\n",
    "        #super().bike()\n",
    "        #Papa.bike(self)\n",
    "        \n"
   ]
  },
  {
   "cell_type": "code",
   "execution_count": 110,
   "id": "4144afcf",
   "metadata": {},
   "outputs": [],
   "source": [
    "b = Beta()"
   ]
  },
  {
   "cell_type": "code",
   "execution_count": 111,
   "id": "77a1c8f3",
   "metadata": {},
   "outputs": [
    {
     "name": "stdout",
     "output_type": "stream",
     "text": [
      "Papa ji ki haveli hai jo mere hone wali future mein\n"
     ]
    }
   ],
   "source": [
    "b.haveli()"
   ]
  },
  {
   "cell_type": "code",
   "execution_count": 112,
   "id": "82dc89d7",
   "metadata": {},
   "outputs": [
    {
     "name": "stdout",
     "output_type": "stream",
     "text": [
      "No option! but have to run a Alto-800\n"
     ]
    }
   ],
   "source": [
    "b.car()"
   ]
  },
  {
   "cell_type": "code",
   "execution_count": 113,
   "id": "55ddef87",
   "metadata": {},
   "outputs": [
    {
     "name": "stdout",
     "output_type": "stream",
     "text": [
      "Royal Enfield Himalayan\n"
     ]
    }
   ],
   "source": [
    "b.bike() # ? Over-loading"
   ]
  },
  {
   "cell_type": "code",
   "execution_count": null,
   "id": "3ec78a69",
   "metadata": {},
   "outputs": [],
   "source": []
  },
  {
   "cell_type": "code",
   "execution_count": 3,
   "id": "304085b5",
   "metadata": {},
   "outputs": [],
   "source": [
    "class Whatsapp_v1:\n",
    "    def chat(self):\n",
    "        print('one to one chatting')\n",
    "        \n",
    "class Whatsapp_v2(Whatsapp_v1):\n",
    "    def chat(self):\n",
    "        super().chat()\n",
    "        print(\"group chatting is also possible\")\n",
    "        print(\"End-to-End Encrpytion\")\n",
    "    def call(self):\n",
    "        print(\"now user can make audio or video calls\")\n",
    "        \n",
    "class Whatsapp_v3(Whatsapp_v2):\n",
    "    def status(self):\n",
    "        print(\"now people can share status to their contacts\")\n",
    "        \n",
    "class Whatsapp_v4(Whatsapp_v3):\n",
    "    def payment(self):\n",
    "        print(\"Now you can send or receive money using whatsapp only\")"
   ]
  },
  {
   "cell_type": "code",
   "execution_count": 4,
   "id": "e7c593da",
   "metadata": {},
   "outputs": [],
   "source": [
    "w = Whatsapp_v4()"
   ]
  },
  {
   "cell_type": "code",
   "execution_count": 5,
   "id": "cec243b5",
   "metadata": {},
   "outputs": [
    {
     "name": "stdout",
     "output_type": "stream",
     "text": [
      "one to one chatting\n",
      "group chatting is also possible\n",
      "End-to-End Encrpytion\n"
     ]
    }
   ],
   "source": [
    "w.chat()"
   ]
  },
  {
   "cell_type": "code",
   "execution_count": 6,
   "id": "1e8da623",
   "metadata": {},
   "outputs": [
    {
     "name": "stdout",
     "output_type": "stream",
     "text": [
      "now user can make audio or video calls\n"
     ]
    }
   ],
   "source": [
    "w.call()"
   ]
  },
  {
   "cell_type": "code",
   "execution_count": 7,
   "id": "c49d2019",
   "metadata": {},
   "outputs": [
    {
     "name": "stdout",
     "output_type": "stream",
     "text": [
      "now people can share status to their contacts\n"
     ]
    }
   ],
   "source": [
    "w.status()"
   ]
  },
  {
   "cell_type": "code",
   "execution_count": 8,
   "id": "a3584fc3",
   "metadata": {},
   "outputs": [
    {
     "name": "stdout",
     "output_type": "stream",
     "text": [
      "Now you can send or receive money using whatsapp only\n"
     ]
    }
   ],
   "source": [
    "w.payment()"
   ]
  },
  {
   "cell_type": "code",
   "execution_count": 11,
   "id": "bbf328c3",
   "metadata": {},
   "outputs": [
    {
     "name": "stdout",
     "output_type": "stream",
     "text": [
      "Overwriting hello.py\n"
     ]
    }
   ],
   "source": [
    "%%writefile hello.py\n",
    "\n",
    "class Papa:\n",
    "    def bike(self):\n",
    "        print(\"Splendra Bike\")"
   ]
  },
  {
   "cell_type": "code",
   "execution_count": 12,
   "id": "2301d248",
   "metadata": {},
   "outputs": [],
   "source": [
    "from hello import Papa"
   ]
  },
  {
   "cell_type": "code",
   "execution_count": 13,
   "id": "01543e97",
   "metadata": {},
   "outputs": [],
   "source": [
    "class Child(Papa):\n",
    "    pass"
   ]
  },
  {
   "cell_type": "code",
   "execution_count": 14,
   "id": "598d7a8b",
   "metadata": {},
   "outputs": [],
   "source": [
    "c1 = Child()"
   ]
  },
  {
   "cell_type": "code",
   "execution_count": 15,
   "id": "719beb69",
   "metadata": {},
   "outputs": [
    {
     "name": "stdout",
     "output_type": "stream",
     "text": [
      "Splendra Bike\n"
     ]
    }
   ],
   "source": [
    "c1.bike()"
   ]
  },
  {
   "cell_type": "code",
   "execution_count": null,
   "id": "07ce83af",
   "metadata": {},
   "outputs": [],
   "source": []
  },
  {
   "cell_type": "code",
   "execution_count": 25,
   "id": "5ceb64b0",
   "metadata": {},
   "outputs": [],
   "source": [
    "class Papa:\n",
    "    def pocket_money(self):\n",
    "        print(\"Papa Our Source of Income\")\n",
    "    def change_channel(self):\n",
    "        print(\"Papa says Put channel to News channels\")\n",
    "        \n",
    "class Mummy:\n",
    "    def food(self):\n",
    "        print(\"Mummy source delicious food\")\n",
    "    def love(self):\n",
    "        print(\"Mummy unconditional Love\")\n",
    "    def change_channel(self):\n",
    "        print(\"Mummy says Put channel to Saas Bahu Series\")\n",
    "        \n",
    "class Child(Mummy, Papa):\n",
    "    pass"
   ]
  },
  {
   "cell_type": "markdown",
   "id": "ceb8581b",
   "metadata": {},
   "source": [
    "**MRO** Method Resolution Order"
   ]
  },
  {
   "cell_type": "code",
   "execution_count": 26,
   "id": "4596dc5b",
   "metadata": {},
   "outputs": [
    {
     "name": "stdout",
     "output_type": "stream",
     "text": [
      "Mummy says Put channel to Saas Bahu Series\n"
     ]
    }
   ],
   "source": [
    "c1 = Child()\n",
    "c1.change_channel()"
   ]
  },
  {
   "cell_type": "code",
   "execution_count": 21,
   "id": "40717874",
   "metadata": {},
   "outputs": [
    {
     "name": "stdout",
     "output_type": "stream",
     "text": [
      "Papa Our Source of Income\n"
     ]
    }
   ],
   "source": [
    "c1.pocket_money()"
   ]
  },
  {
   "cell_type": "code",
   "execution_count": 22,
   "id": "57de2e64",
   "metadata": {},
   "outputs": [
    {
     "name": "stdout",
     "output_type": "stream",
     "text": [
      "Mummy unconditional Love\n"
     ]
    }
   ],
   "source": [
    "c1.love()"
   ]
  },
  {
   "cell_type": "code",
   "execution_count": 23,
   "id": "7f475bd6",
   "metadata": {},
   "outputs": [
    {
     "name": "stdout",
     "output_type": "stream",
     "text": [
      "Mummy source delicious food\n"
     ]
    }
   ],
   "source": [
    "c1.food()"
   ]
  },
  {
   "cell_type": "code",
   "execution_count": 27,
   "id": "a09e818f",
   "metadata": {},
   "outputs": [],
   "source": [
    "class Papa:\n",
    "    def pocket_money(self):\n",
    "        print(\"Papa Our Source of Income\")\n",
    "    def change_channel(self):\n",
    "        print(\"Papa says Put channel to News channels\")\n",
    "        \n",
    "class Mummy:\n",
    "    def food(self):\n",
    "        print(\"Mummy source delicious food\")\n",
    "    def love(self):\n",
    "        print(\"Mummy unconditional Love\")\n",
    "    def change_channel(self):\n",
    "        print(\"Mummy says Put channel to Saas Bahu Series\")\n",
    "        \n",
    "class Child(Mummy, Papa):\n",
    "    def change_channel(self):\n",
    "        print(\"M to pogo dekhunga kar lo jo karna hai\")"
   ]
  },
  {
   "cell_type": "code",
   "execution_count": 28,
   "id": "441c42a9",
   "metadata": {},
   "outputs": [
    {
     "name": "stdout",
     "output_type": "stream",
     "text": [
      "M to pogo dekhunga kar lo jo karna hai\n"
     ]
    }
   ],
   "source": [
    "c = Child()\n",
    "c.change_channel()"
   ]
  },
  {
   "cell_type": "code",
   "execution_count": null,
   "id": "1dd1ec38",
   "metadata": {},
   "outputs": [],
   "source": []
  },
  {
   "cell_type": "code",
   "execution_count": 30,
   "id": "6612f294",
   "metadata": {},
   "outputs": [],
   "source": [
    "class A:\n",
    "    def change_channel(self):\n",
    "        print(\"Pogo\")\n",
    "        \n",
    "class B(A):\n",
    "    def change_channel(self):\n",
    "        print(\"Start Sports\")\n",
    "        \n",
    "class C(B):\n",
    "    pass"
   ]
  },
  {
   "cell_type": "code",
   "execution_count": 32,
   "id": "83f2e904",
   "metadata": {},
   "outputs": [],
   "source": [
    "x = C()"
   ]
  },
  {
   "cell_type": "code",
   "execution_count": 33,
   "id": "ab06ff4a",
   "metadata": {},
   "outputs": [
    {
     "name": "stdout",
     "output_type": "stream",
     "text": [
      "Start Sports\n"
     ]
    }
   ],
   "source": [
    "x.change_channel()"
   ]
  },
  {
   "cell_type": "code",
   "execution_count": null,
   "id": "af12e119",
   "metadata": {},
   "outputs": [],
   "source": []
  }
 ],
 "metadata": {
  "kernelspec": {
   "display_name": "Python 3 (ipykernel)",
   "language": "python",
   "name": "python3"
  },
  "language_info": {
   "codemirror_mode": {
    "name": "ipython",
    "version": 3
   },
   "file_extension": ".py",
   "mimetype": "text/x-python",
   "name": "python",
   "nbconvert_exporter": "python",
   "pygments_lexer": "ipython3",
   "version": "3.9.13"
  }
 },
 "nbformat": 4,
 "nbformat_minor": 5
}
