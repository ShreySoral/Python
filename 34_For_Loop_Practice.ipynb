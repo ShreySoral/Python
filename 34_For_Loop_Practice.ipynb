{
 "cells": [
  {
   "cell_type": "code",
   "execution_count": null,
   "id": "b7fd99a2",
   "metadata": {},
   "outputs": [],
   "source": [
    "nums = list(map(int, input().split()))\n",
    "\n",
    "visted = []\n",
    "# visted  = [40, 50, 20, 30]\n",
    "for item in nums:\n",
    "    if item in visted:\n",
    "        print(item)\n",
    "        break\n",
    "    else:\n",
    "        visted.append(item)\n",
    "else:\n",
    "    print(-1)\n",
    "        "
   ]
  },
  {
   "cell_type": "markdown",
   "id": "6adf2975",
   "metadata": {},
   "source": [
    "    'item' in list --> O(n)\n",
    "\n",
    "    'item' in set ---> O(1)"
   ]
  },
  {
   "cell_type": "code",
   "execution_count": 14,
   "id": "87a0f8ac",
   "metadata": {},
   "outputs": [
    {
     "name": "stdout",
     "output_type": "stream",
     "text": [
      "key: 45\n",
      "True\n"
     ]
    }
   ],
   "source": [
    "nums = [ 1, 2, 4, 23, 45 ,6 , 34]\n",
    "\n",
    "key = int(input(\"key: \"))\n",
    "# linear search\n",
    "\n",
    "for item in nums:\n",
    "    if item == key:\n",
    "        print(True)\n",
    "        break\n",
    "else:\n",
    "    print(False)"
   ]
  },
  {
   "cell_type": "code",
   "execution_count": 12,
   "id": "ab1648dc",
   "metadata": {},
   "outputs": [
    {
     "name": "stdout",
     "output_type": "stream",
     "text": [
      "1 2 3 4 2 5 6\n",
      "2\n"
     ]
    }
   ],
   "source": [
    "nums = list(map(int, input().split()))\n",
    "\n",
    "visted = set()\n",
    "# visted  = [40, 50, 20, 30]\n",
    "for item in nums:\n",
    "    if item in visted:\n",
    "        print(item)\n",
    "        break\n",
    "    else:\n",
    "        visted.add(item)\n",
    "else:\n",
    "    print(-1)\n",
    "        "
   ]
  },
  {
   "cell_type": "code",
   "execution_count": 18,
   "id": "d23a01a7",
   "metadata": {},
   "outputs": [
    {
     "name": "stdout",
     "output_type": "stream",
     "text": [
      "7\n"
     ]
    }
   ],
   "source": [
    "arr = [ 5, -6, 2, 10, -7, 7, 5, -6 ]\n",
    "\n",
    "lwidth = -(min(arr))\n",
    "print(lwidth)"
   ]
  },
  {
   "cell_type": "code",
   "execution_count": 20,
   "id": "9fc86299",
   "metadata": {},
   "outputs": [
    {
     "name": "stdout",
     "output_type": "stream",
     "text": [
      "-8\n",
      "8\n"
     ]
    }
   ],
   "source": [
    "v = int(input())\n",
    "\n",
    "if v < 0:\n",
    "    v = -1*v\n",
    "\n",
    "print(v)"
   ]
  },
  {
   "cell_type": "code",
   "execution_count": 25,
   "id": "f3cc4bda",
   "metadata": {},
   "outputs": [
    {
     "name": "stdout",
     "output_type": "stream",
     "text": [
      "53\n"
     ]
    }
   ],
   "source": [
    "nums = [ 23, 2, 5, 7,5, 53, 43,23, 4, 20, 1]\n",
    "\n",
    "mi = nums[0]\n",
    "\n",
    "for item in nums:\n",
    "    if item > mi:\n",
    "        mi = item\n",
    "        \n",
    "print(mi)"
   ]
  },
  {
   "cell_type": "code",
   "execution_count": null,
   "id": "e34d1a56",
   "metadata": {},
   "outputs": [],
   "source": []
  },
  {
   "cell_type": "code",
   "execution_count": null,
   "id": "c954fc0b",
   "metadata": {},
   "outputs": [],
   "source": []
  },
  {
   "cell_type": "code",
   "execution_count": 35,
   "id": "7ef878a2",
   "metadata": {},
   "outputs": [
    {
     "data": {
      "text/plain": [
       "'***'"
      ]
     },
     "execution_count": 35,
     "metadata": {},
     "output_type": "execute_result"
    }
   ],
   "source": [
    "\"*\"*abs(-3)"
   ]
  },
  {
   "cell_type": "code",
   "execution_count": 39,
   "id": "5721adda",
   "metadata": {},
   "outputs": [
    {
     "name": "stdout",
     "output_type": "stream",
     "text": [
      "       ******     \n",
      " *******          \n",
      "       ***        \n",
      "       ***********\n",
      "********          \n",
      "       ********   \n",
      "       ******     \n",
      " *******          \n"
     ]
    }
   ],
   "source": [
    "arr = [ 5, -6, 2, 10, -7, 7, 5, -6 ]\n",
    "lwidth = abs(min(arr))\n",
    "rwidth = abs(max(arr))\n",
    "for value in arr:\n",
    "    if value<0:\n",
    "        value = abs(value)\n",
    "        row = (\"*\"*value).rjust(lwidth)+\"*\"+\" \"*rwidth\n",
    "        print(row)\n",
    "    else:\n",
    "        row = (\" \"*lwidth)+\"*\"+ (\"*\"*value).ljust(rwidth)\n",
    "        print(row)\n",
    "    "
   ]
  },
  {
   "cell_type": "code",
   "execution_count": 32,
   "id": "0138b855",
   "metadata": {},
   "outputs": [
    {
     "name": "stdout",
     "output_type": "stream",
     "text": [
      "      **    \n",
      "    ***     \n",
      "      ****  \n",
      "  *****     \n",
      "      ******\n",
      "*******     \n"
     ]
    }
   ],
   "source": [
    "arr = [ 1, -2, 3, -4, 5, -6 ]\n",
    "\n",
    "lwidth = abs(min(arr))\n",
    "rwidth = abs(max(arr))\n",
    "\n",
    "for value in arr:\n",
    "    if value<0:\n",
    "        value = abs(value)\n",
    "        ls = (\"*\"*(value)).rjust(lwidth)\n",
    "        row = ls+\"*\"+\"\".ljust(rwidth)\n",
    "    else:\n",
    "        rs = (\"*\"*(value)).ljust(rwidth)\n",
    "        row = \"\".rjust(lwidth)+\"*\"+rs\n",
    "    print(row)"
   ]
  },
  {
   "cell_type": "code",
   "execution_count": 45,
   "id": "73981971",
   "metadata": {},
   "outputs": [
    {
     "name": "stdout",
     "output_type": "stream",
     "text": [
      "          \n",
      "         *\n",
      "        ***\n",
      "       *****\n",
      "      *******\n",
      "     *********\n",
      "    ***********\n",
      "   *************\n",
      "  ***************\n",
      " *****************\n"
     ]
    }
   ],
   "source": [
    "rows = 10\n",
    "n = 0\n",
    "while n<rows:\n",
    "    j = 0\n",
    "    while j<(rows-n):\n",
    "        print(\" \", end=\"\")\n",
    "        j += 1\n",
    "    j = 0\n",
    "    while j<(2*n-1):\n",
    "        print(\"*\", end=\"\")\n",
    "        j += 1\n",
    "    print(\"\\n\", end=\"\")\n",
    "    n += 1"
   ]
  },
  {
   "cell_type": "code",
   "execution_count": 43,
   "id": "620122dd",
   "metadata": {},
   "outputs": [
    {
     "name": "stdout",
     "output_type": "stream",
     "text": [
      "          \n",
      "         *\n",
      "        ***\n",
      "       *****\n",
      "      *******\n",
      "     *********\n",
      "    ***********\n",
      "   *************\n",
      "  ***************\n",
      " *****************\n"
     ]
    }
   ],
   "source": [
    "rows = 10\n",
    "n = 0\n",
    "while n < rows:\n",
    "    p = \" \"*(rows-n)+\"*\"*(2*n-1)\n",
    "    print(p)\n",
    "    n += 1"
   ]
  },
  {
   "cell_type": "code",
   "execution_count": null,
   "id": "00f78e83",
   "metadata": {},
   "outputs": [],
   "source": []
  }
 ],
 "metadata": {
  "kernelspec": {
   "display_name": "Python 3 (ipykernel)",
   "language": "python",
   "name": "python3"
  },
  "language_info": {
   "codemirror_mode": {
    "name": "ipython",
    "version": 3
   },
   "file_extension": ".py",
   "mimetype": "text/x-python",
   "name": "python",
   "nbconvert_exporter": "python",
   "pygments_lexer": "ipython3",
   "version": "3.9.12"
  }
 },
 "nbformat": 4,
 "nbformat_minor": 5
}
