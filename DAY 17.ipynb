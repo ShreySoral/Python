{
 "cells": [
  {
   "cell_type": "code",
   "execution_count": 1,
   "id": "decf157d",
   "metadata": {},
   "outputs": [
    {
     "name": "stdout",
     "output_type": "stream",
     "text": [
      "Before value of x is :  5\n",
      "Inside function value of x is 25\n",
      "After value of x is :  5\n"
     ]
    }
   ],
   "source": [
    "x = 5\n",
    "def func(x):\n",
    "        x = x **2\n",
    "        print(f\"Inside function value of x is {x}\")\n",
    "print(\"Before value of x is : \", x)\n",
    "func(x)\n",
    "print(\"After value of x is : \", x)\n"
   ]
  },
  {
   "cell_type": "code",
   "execution_count": 7,
   "id": "77fcbb16",
   "metadata": {},
   "outputs": [
    {
     "ename": "IndentationError",
     "evalue": "unexpected indent (2642282657.py, line 4)",
     "output_type": "error",
     "traceback": [
      "\u001b[1;36m  Input \u001b[1;32mIn [7]\u001b[1;36m\u001b[0m\n\u001b[1;33m    print(\"Before value of x is : \", x)\u001b[0m\n\u001b[1;37m    ^\u001b[0m\n\u001b[1;31mIndentationError\u001b[0m\u001b[1;31m:\u001b[0m unexpected indent\n"
     ]
    }
   ],
   "source": [
    "x = 5\n",
    "def func():\n",
    "       print(f\"Inside function value of x is {x**2}\")\n",
    "        print(\"Before value of x is : \", x)\n",
    "func(x)\n",
    "print(\"After value of x is : \", x)\n"
   ]
  },
  {
   "cell_type": "code",
   "execution_count": 5,
   "id": "9766154b",
   "metadata": {},
   "outputs": [
    {
     "name": "stdout",
     "output_type": "stream",
     "text": [
      "Inside function value of x is 5\n",
      "Inside function value of data is 25\n",
      "Before value of x is :  5\n",
      "After value of x is :  5\n"
     ]
    }
   ],
   "source": [
    "x = 5\n",
    "def func(data):\n",
    "    data = x ** 2\n",
    "    print(f\"Inside function value of x is {x}\")\n",
    "    print(f\"Inside function value of data is {data}\")\n",
    "    print(\"Before value of x is : \", x)\n",
    "func(x)\n",
    "print(\"After value of x is : \", x)\n"
   ]
  },
  {
   "cell_type": "code",
   "execution_count": 8,
   "id": "133abc7c",
   "metadata": {},
   "outputs": [
    {
     "ename": "SyntaxError",
     "evalue": "'return' outside function (3173617270.py, line 4)",
     "output_type": "error",
     "traceback": [
      "\u001b[1;36m  Input \u001b[1;32mIn [8]\u001b[1;36m\u001b[0m\n\u001b[1;33m    return x**2\u001b[0m\n\u001b[1;37m    ^\u001b[0m\n\u001b[1;31mSyntaxError\u001b[0m\u001b[1;31m:\u001b[0m 'return' outside function\n"
     ]
    }
   ],
   "source": [
    "x = 10\n",
    "def func():\n",
    "    print(f\"Inside value of x is {x**2}\")\n",
    "return x**2\n",
    "print(\"Before x is : \", x)\n",
    "x = func()\n",
    "print(\"After x is : \", x)\n"
   ]
  },
  {
   "cell_type": "code",
   "execution_count": null,
   "id": "a02d8bdc",
   "metadata": {},
   "outputs": [],
   "source": []
  }
 ],
 "metadata": {
  "kernelspec": {
   "display_name": "Python 3 (ipykernel)",
   "language": "python",
   "name": "python3"
  },
  "language_info": {
   "codemirror_mode": {
    "name": "ipython",
    "version": 3
   },
   "file_extension": ".py",
   "mimetype": "text/x-python",
   "name": "python",
   "nbconvert_exporter": "python",
   "pygments_lexer": "ipython3",
   "version": "3.10.5"
  }
 },
 "nbformat": 4,
 "nbformat_minor": 5
}
