{
 "cells": [
  {
   "cell_type": "markdown",
   "id": "267b4ee9",
   "metadata": {},
   "source": [
    "main()\n",
    "\n",
    "    entry point to code \n",
    "    \n",
    "    modules and packages"
   ]
  },
  {
   "cell_type": "code",
   "execution_count": 6,
   "id": "c2379398",
   "metadata": {},
   "outputs": [],
   "source": [
    "class Slove:\n",
    "    def do_some_work(self, a, b, c):\n",
    "        # your code goes here\n",
    "        return sum([a, b, c])"
   ]
  },
  {
   "cell_type": "code",
   "execution_count": 7,
   "id": "14a6ea8e",
   "metadata": {},
   "outputs": [
    {
     "data": {
      "text/plain": [
       "15"
      ]
     },
     "execution_count": 7,
     "metadata": {},
     "output_type": "execute_result"
    }
   ],
   "source": [
    "a = Slove()\n",
    "a.do_some_work(4, 5, 6)"
   ]
  },
  {
   "cell_type": "code",
   "execution_count": 5,
   "id": "90644276",
   "metadata": {},
   "outputs": [
    {
     "name": "stdout",
     "output_type": "stream",
     "text": [
      "hello\n",
      "1 2 3\n",
      "6\n"
     ]
    }
   ],
   "source": [
    "def slove_question(a, b, c):\n",
    "    # your code here\n",
    "    result = sum([a, b, c])\n",
    "    return result\n",
    "\n",
    "if __name__ == \"__main__\":\n",
    "    a, b, c = map(int, input().split())\n",
    "    ans = slove_question(a, b, c)\n",
    "    print(ans)"
   ]
  },
  {
   "cell_type": "markdown",
   "id": "63d41020",
   "metadata": {},
   "source": [
    "    iterations ?"
   ]
  },
  {
   "cell_type": "code",
   "execution_count": 8,
   "id": "a41554fd",
   "metadata": {},
   "outputs": [
    {
     "name": "stdout",
     "output_type": "stream",
     "text": [
      "c = 1 jab tk condition true tak karenge print\n",
      "c = 3 jab tk condition true tak karenge print\n",
      "c = 5 jab tk condition true tak karenge print\n",
      "c = 7 jab tk condition true tak karenge print\n",
      "c = 9 jab tk condition true tak karenge print\n"
     ]
    }
   ],
   "source": [
    "c = 1\n",
    "while c<=10:\n",
    "    print(f'c = {c} jab tk condition true tak karenge print')\n",
    "    c += 2"
   ]
  },
  {
   "cell_type": "code",
   "execution_count": 12,
   "id": "d3b73b2e",
   "metadata": {},
   "outputs": [
    {
     "name": "stdout",
     "output_type": "stream",
     "text": [
      "1\n",
      "2\n",
      "3\n",
      "4\n",
      "5\n"
     ]
    }
   ],
   "source": [
    "c = 1\n",
    "n = 5\n",
    "while c<=n:\n",
    "    print(c)\n",
    "    c += 1"
   ]
  },
  {
   "cell_type": "code",
   "execution_count": null,
   "id": "6bb47ef0",
   "metadata": {},
   "outputs": [],
   "source": []
  },
  {
   "cell_type": "code",
   "execution_count": 18,
   "id": "a7dc98e1",
   "metadata": {},
   "outputs": [
    {
     "name": "stdout",
     "output_type": "stream",
     "text": [
      "n: 20\n",
      "1330\n"
     ]
    }
   ],
   "source": [
    "n = int(input(\"n: \"))\n",
    "sum_ = 0\n",
    "c = 1\n",
    "while c <= n:\n",
    "    sum_ += c**2\n",
    "    c += 2\n",
    "print(sum_)\n",
    "\n",
    "# 1 3 5 7 9 11 13 15 17 19"
   ]
  },
  {
   "cell_type": "code",
   "execution_count": 17,
   "id": "6ae8d876",
   "metadata": {},
   "outputs": [
    {
     "name": "stdout",
     "output_type": "stream",
     "text": [
      "no of first odd number: 20\n",
      "10660\n"
     ]
    }
   ],
   "source": [
    "sum_ = 0\n",
    "n = int(input(\"no of first odd number: \"))\n",
    "value = 1\n",
    "c = 1\n",
    "while c<=n:\n",
    "    sum_ += value**2 # sum_ = 165\n",
    "    value += 2 # value = 11\n",
    "    c += 1\n",
    "print(sum_)  \n",
    "    \n",
    "# 1 3 5 7 9 11 13 ...."
   ]
  },
  {
   "cell_type": "markdown",
   "id": "06d119cc",
   "metadata": {},
   "source": [
    "    n = 3\n",
    "        1  3 \n",
    "        \n",
    "    n = 6\n",
    "    \n",
    "        1 3 5 7 9 11\n",
    "        \n",
    "    n = 10\n",
    "    \n",
    "        1 3 5 7 9 11 13 15 17 19\n",
    "        \n",
    "        "
   ]
  },
  {
   "cell_type": "code",
   "execution_count": 31,
   "id": "ac6de0b9",
   "metadata": {},
   "outputs": [
    {
     "name": "stdout",
     "output_type": "stream",
     "text": [
      "n: 20\n",
      "10660\n"
     ]
    }
   ],
   "source": [
    "sum_ = 0\n",
    "\n",
    "n = int(input(\"n: \"))\n",
    "c = 1\n",
    "while c<2*n:\n",
    "    #print(c, end=' ')\n",
    "    sum_ += c**2\n",
    "    c += 2\n",
    "print(sum_)"
   ]
  },
  {
   "cell_type": "markdown",
   "id": "78a6dc9c",
   "metadata": {},
   "source": [
    "### Break & Continue"
   ]
  },
  {
   "cell_type": "code",
   "execution_count": 32,
   "id": "089d7ffb",
   "metadata": {},
   "outputs": [
    {
     "name": "stdout",
     "output_type": "stream",
     "text": [
      "ouput of the code ?\n"
     ]
    }
   ],
   "source": [
    "print(\"ouput of the code ?\")"
   ]
  },
  {
   "cell_type": "code",
   "execution_count": null,
   "id": "69f33b68",
   "metadata": {},
   "outputs": [],
   "source": []
  },
  {
   "cell_type": "code",
   "execution_count": 33,
   "id": "2973170d",
   "metadata": {},
   "outputs": [
    {
     "name": "stdout",
     "output_type": "stream",
     "text": [
      "nihcas"
     ]
    }
   ],
   "source": [
    "data = \"sachin\"\n",
    "while data:\n",
    "    print(data[-1], end=\"\")\n",
    "    data = data[:-1]"
   ]
  },
  {
   "cell_type": "code",
   "execution_count": null,
   "id": "bdf75bc7",
   "metadata": {},
   "outputs": [],
   "source": []
  },
  {
   "cell_type": "code",
   "execution_count": 34,
   "id": "e9967646",
   "metadata": {},
   "outputs": [
    {
     "name": "stdout",
     "output_type": "stream",
     "text": [
      "java\n",
      "c\n",
      "c++\n",
      "python\n",
      "ruby\n"
     ]
    }
   ],
   "source": [
    "names = [\"java\", \"c\", \"c++\", \"python\", \"ruby\"]\n",
    "\n",
    "while names:\n",
    "    print(names.pop(0))\n"
   ]
  },
  {
   "cell_type": "code",
   "execution_count": 35,
   "id": "6b374216",
   "metadata": {},
   "outputs": [
    {
     "name": "stdout",
     "output_type": "stream",
     "text": [
      "[]\n"
     ]
    }
   ],
   "source": [
    "print(names)"
   ]
  },
  {
   "cell_type": "code",
   "execution_count": 36,
   "id": "d78ade34",
   "metadata": {},
   "outputs": [
    {
     "name": "stdout",
     "output_type": "stream",
     "text": [
      "java\n",
      "c\n",
      "c++\n",
      "python\n",
      "ruby\n",
      "['java', 'c', 'c++', 'python', 'ruby']\n"
     ]
    }
   ],
   "source": [
    "names = [\"java\", \"c\", \"c++\", \"python\", \"ruby\"]\n",
    "\n",
    "x = names.copy()\n",
    "while x:\n",
    "    print(x.pop(0))\n",
    "\n",
    "print(names)"
   ]
  },
  {
   "cell_type": "markdown",
   "id": "9a5ec9e5",
   "metadata": {},
   "source": [
    "##### break"
   ]
  },
  {
   "cell_type": "markdown",
   "id": "6178aae9",
   "metadata": {},
   "source": [
    "break"
   ]
  },
  {
   "cell_type": "code",
   "execution_count": 37,
   "id": "2b1dd151",
   "metadata": {},
   "outputs": [
    {
     "name": "stdout",
     "output_type": "stream",
     "text": [
      "1\n",
      "2\n",
      "3\n",
      "4\n",
      "5\n"
     ]
    }
   ],
   "source": [
    "c = 1\n",
    "while c <= 5:\n",
    "    print(c)\n",
    "    break\n",
    "    c += 1"
   ]
  },
  {
   "cell_type": "code",
   "execution_count": 38,
   "id": "1c866a7a",
   "metadata": {},
   "outputs": [],
   "source": [
    "c = 1\n",
    "while c <= 5:\n",
    "    break\n",
    "    print(c)\n",
    "    c += 1"
   ]
  },
  {
   "cell_type": "code",
   "execution_count": 39,
   "id": "00185f75",
   "metadata": {},
   "outputs": [
    {
     "data": {
      "text/plain": [
       "2"
      ]
     },
     "execution_count": 39,
     "metadata": {},
     "output_type": "execute_result"
    }
   ],
   "source": [
    "2 % 3"
   ]
  },
  {
   "cell_type": "code",
   "execution_count": 40,
   "id": "11d65661",
   "metadata": {},
   "outputs": [],
   "source": [
    "c = 2\n",
    "while c<=10:\n",
    "    if c%3:\n",
    "        break\n",
    "    print(c)\n",
    "    c += 1"
   ]
  },
  {
   "cell_type": "code",
   "execution_count": null,
   "id": "7ba1fffd",
   "metadata": {},
   "outputs": [],
   "source": []
  },
  {
   "cell_type": "code",
   "execution_count": 41,
   "id": "ab1b3199",
   "metadata": {},
   "outputs": [
    {
     "name": "stdout",
     "output_type": "stream",
     "text": [
      "1\n",
      "3\n",
      "5\n",
      "7\n",
      "9\n"
     ]
    }
   ],
   "source": [
    "c = 1\n",
    "while c<=10:\n",
    "    if c%2 == 0:\n",
    "        break\n",
    "    print(c)\n",
    "    c += 2\n",
    "    "
   ]
  },
  {
   "cell_type": "markdown",
   "id": "3191d6a8",
   "metadata": {},
   "source": [
    "    ESC + ii  interrupt\n",
    "    ESC + 00   restart"
   ]
  },
  {
   "cell_type": "code",
   "execution_count": 42,
   "id": "26487fec",
   "metadata": {},
   "outputs": [
    {
     "name": "stdout",
     "output_type": "stream",
     "text": [
      "2\n",
      "4\n",
      "6\n",
      "8\n"
     ]
    }
   ],
   "source": [
    "c = 1\n",
    "while c<=10:\n",
    "    if c%2:\n",
    "        c+=1\n",
    "    if c%5==0:\n",
    "        break\n",
    "    print(c)\n",
    "    c += 1"
   ]
  },
  {
   "cell_type": "markdown",
   "id": "ec6c22ce",
   "metadata": {},
   "source": [
    "## continue"
   ]
  },
  {
   "cell_type": "code",
   "execution_count": 43,
   "id": "9d358512",
   "metadata": {},
   "outputs": [
    {
     "ename": "KeyboardInterrupt",
     "evalue": "",
     "output_type": "error",
     "traceback": [
      "\u001b[1;31m---------------------------------------------------------------------------\u001b[0m",
      "\u001b[1;31mKeyboardInterrupt\u001b[0m                         Traceback (most recent call last)",
      "Input \u001b[1;32mIn [43]\u001b[0m, in \u001b[0;36m<cell line: 2>\u001b[1;34m()\u001b[0m\n\u001b[0;32m      1\u001b[0m c \u001b[38;5;241m=\u001b[39m \u001b[38;5;241m1\u001b[39m\n\u001b[1;32m----> 2\u001b[0m \u001b[38;5;28;01mwhile\u001b[39;00m \u001b[43mc\u001b[49m\u001b[38;5;241m<\u001b[39m\u001b[38;5;241m=\u001b[39m\u001b[38;5;241m5\u001b[39m:\n\u001b[0;32m      3\u001b[0m     \u001b[38;5;28;01mcontinue\u001b[39;00m\n\u001b[0;32m      4\u001b[0m     \u001b[38;5;28mprint\u001b[39m(\u001b[38;5;124m\"\u001b[39m\u001b[38;5;124mtell me if you can?\u001b[39m\u001b[38;5;124m\"\u001b[39m)\n",
      "\u001b[1;31mKeyboardInterrupt\u001b[0m: "
     ]
    }
   ],
   "source": [
    "c = 1\n",
    "while c<=5:\n",
    "    continue\n",
    "    print(\"tell me if you can?\")\n",
    "    c += 1\n",
    "\n",
    "print(\"Namste\")"
   ]
  },
  {
   "cell_type": "code",
   "execution_count": 45,
   "id": "1c0f1cf6",
   "metadata": {},
   "outputs": [
    {
     "name": "stdout",
     "output_type": "stream",
     "text": [
      "Namste\n"
     ]
    }
   ],
   "source": [
    "c = 1\n",
    "while c<=5:\n",
    "    c += 1\n",
    "    continue\n",
    "    print(\"tell me if you can?\")\n",
    "    \n",
    "\n",
    "print(\"Namste\")"
   ]
  },
  {
   "cell_type": "code",
   "execution_count": 46,
   "id": "301d2f0e",
   "metadata": {},
   "outputs": [
    {
     "name": "stdout",
     "output_type": "stream",
     "text": [
      "3\n",
      "5\n",
      "7\n",
      "9\n",
      "11\n"
     ]
    }
   ],
   "source": [
    "c = 1\n",
    "while c<=10:\n",
    "    c += 1\n",
    "    if c%2==0:\n",
    "        continue\n",
    "    print(c)\n",
    "    c += 1"
   ]
  },
  {
   "cell_type": "code",
   "execution_count": null,
   "id": "ae5fb290",
   "metadata": {},
   "outputs": [],
   "source": [
    "c = 1\n",
    "while c<=10:\n",
    "    c += 1\n",
    "    if c%2==0:\n",
    "        continue\n",
    "    print(c) #  ?"
   ]
  }
 ],
 "metadata": {
  "kernelspec": {
   "display_name": "Python 3 (ipykernel)",
   "language": "python",
   "name": "python3"
  },
  "language_info": {
   "codemirror_mode": {
    "name": "ipython",
    "version": 3
   },
   "file_extension": ".py",
   "mimetype": "text/x-python",
   "name": "python",
   "nbconvert_exporter": "python",
   "pygments_lexer": "ipython3",
   "version": "3.10.5"
  }
 },
 "nbformat": 4,
 "nbformat_minor": 5
}
