{
 "cells": [
  {
   "cell_type": "markdown",
   "id": "b5b75bf1",
   "metadata": {},
   "source": [
    "#### Questions\n",
    "\n",
    "    try to tranform a list such that all even indexes contains even values\n",
    "    and all odd indexes contains odd values\n",
    "    \n",
    "    constraints / Conditions\n",
    "        size of list will be even\n",
    "        no of even items in list == no of odd items in list\n",
    "    Input \n",
    "        first line of input will value n represents no of items in list\n",
    "        next line contains n space seprated values of list\n",
    "        \n",
    "    Output\n",
    "        print transformed list as described\n",
    "    example\n",
    "    Input\n",
    "        10\n",
    "        1 2 4 5 3 7 9 6 8 10\n",
    "    Output\n",
    "       [2, 1, 4, 3, 6, 7, 8, 9, 10, 5]\n",
    "       [10, 9, 4, 1, 8, 3, 2, 5, 6, 7]\n",
    "       #0  1  2  3  4  5  6  7  8   9\n",
    "       \n",
    "       * ordere does not matter"
   ]
  },
  {
   "cell_type": "markdown",
   "id": "a09a0976",
   "metadata": {},
   "source": [
    "#### Types of Arguments \n",
    "\n",
    "    1. Positional Argument\n",
    "    2. Default/Optional/Keyword Arugments\n",
    "    3. Variable Length Arguments\n",
    "        * multiple positional arguments\n",
    "        * multiple keyword arguments"
   ]
  },
  {
   "cell_type": "markdown",
   "id": "5c5d6231",
   "metadata": {},
   "source": [
    "#### Notation"
   ]
  },
  {
   "cell_type": "code",
   "execution_count": 5,
   "id": "fee07a32",
   "metadata": {},
   "outputs": [],
   "source": [
    "def greatest(a: int, b: int, c: int)->int:\n",
    "    \"\"\"\n",
    "        return max value among a,b, and c\n",
    "        \n",
    "    example\n",
    "    \n",
    "    >>> greatest(5, 6, 3)\n",
    "    6\n",
    "    \"\"\"\n",
    "    if (a>b) and (a>c):\n",
    "        return a\n",
    "    elif (b>c):\n",
    "        return b\n",
    "    else:\n",
    "        return c"
   ]
  },
  {
   "cell_type": "code",
   "execution_count": 7,
   "id": "0fb25a85",
   "metadata": {},
   "outputs": [
    {
     "name": "stdout",
     "output_type": "stream",
     "text": [
      "Help on function greatest in module __main__:\n",
      "\n",
      "greatest(a: int, b: int, c: int) -> int\n",
      "        return max value among a,b, and c\n",
      "        \n",
      "    example\n",
      "    \n",
      "    >>> greatest(5, 6, 3)\n",
      "    6\n",
      "\n"
     ]
    }
   ],
   "source": [
    "help(greatest)"
   ]
  },
  {
   "cell_type": "code",
   "execution_count": 6,
   "id": "6ebe3d49",
   "metadata": {},
   "outputs": [
    {
     "data": {
      "text/plain": [
       "'la la'"
      ]
     },
     "execution_count": 6,
     "metadata": {},
     "output_type": "execute_result"
    }
   ],
   "source": [
    "greatest('ha ha', 'he he', 'la la')"
   ]
  },
  {
   "cell_type": "markdown",
   "id": "b38b6fd0",
   "metadata": {},
   "source": [
    "### Positional Arguments  Argument"
   ]
  },
  {
   "cell_type": "code",
   "execution_count": 24,
   "id": "85eceea8",
   "metadata": {},
   "outputs": [],
   "source": [
    "# keys -> (name, age)\n",
    "def can_drive(name, age):\n",
    "    #          0,   1\n",
    "    if age>=18:\n",
    "        print(f\"!Congrats! {name} can Drive!\")\n",
    "    else:\n",
    "        print(f\"!ohh! {name} have to wait for {18-age} years to drive.\")"
   ]
  },
  {
   "cell_type": "code",
   "execution_count": 48,
   "id": "a9804897",
   "metadata": {},
   "outputs": [
    {
     "name": "stdout",
     "output_type": "stream",
     "text": [
      "!Congrats! ha ha can Drive!\n"
     ]
    }
   ],
   "source": [
    "can_drive(age=90, name='ha ha')"
   ]
  },
  {
   "cell_type": "code",
   "execution_count": 45,
   "id": "2c07d6c6",
   "metadata": {},
   "outputs": [
    {
     "ename": "TypeError",
     "evalue": "can_drive() got an unexpected keyword argument 'kuch'",
     "output_type": "error",
     "traceback": [
      "\u001b[1;31m---------------------------------------------------------------------------\u001b[0m",
      "\u001b[1;31mTypeError\u001b[0m                                 Traceback (most recent call last)",
      "Input \u001b[1;32mIn [45]\u001b[0m, in \u001b[0;36m<cell line: 1>\u001b[1;34m()\u001b[0m\n\u001b[1;32m----> 1\u001b[0m \u001b[43mcan_drive\u001b[49m\u001b[43m(\u001b[49m\u001b[43mkuch\u001b[49m\u001b[38;5;241;43m=\u001b[39;49m\u001b[38;5;124;43m\"\u001b[39;49m\u001b[38;5;124;43mbhi\u001b[39;49m\u001b[38;5;124;43m\"\u001b[39;49m\u001b[43m,\u001b[49m\u001b[43m \u001b[49m\u001b[43mmein\u001b[49m\u001b[38;5;241;43m=\u001b[39;49m\u001b[38;5;124;43m\"\u001b[39;49m\u001b[38;5;124;43mpagal\u001b[39;49m\u001b[38;5;124;43m\"\u001b[39;49m\u001b[43m)\u001b[49m\n",
      "\u001b[1;31mTypeError\u001b[0m: can_drive() got an unexpected keyword argument 'kuch'"
     ]
    }
   ],
   "source": [
    "can_drive(kuch=\"bhi\", mein=\"pagal\")"
   ]
  },
  {
   "cell_type": "code",
   "execution_count": null,
   "id": "bdf363e8",
   "metadata": {},
   "outputs": [],
   "source": []
  },
  {
   "cell_type": "code",
   "execution_count": 42,
   "id": "86ad775f",
   "metadata": {},
   "outputs": [
    {
     "name": "stdout",
     "output_type": "stream",
     "text": [
      "!Congrats! sachin can Drive!\n"
     ]
    }
   ],
   "source": [
    "x = \"sachin\"\n",
    "y = 26\n",
    "can_drive(\"sachin\", age=18)\n",
    "# keyword"
   ]
  },
  {
   "cell_type": "code",
   "execution_count": 43,
   "id": "c1e0040b",
   "metadata": {},
   "outputs": [
    {
     "name": "stdout",
     "output_type": "stream",
     "text": [
      "hello\n",
      "world!\n"
     ]
    }
   ],
   "source": [
    "print(\"hello\", \"world!\", sep=\"\\n\")"
   ]
  },
  {
   "cell_type": "code",
   "execution_count": 44,
   "id": "331e6bb2",
   "metadata": {},
   "outputs": [
    {
     "ename": "SyntaxError",
     "evalue": "positional argument follows keyword argument (2659574835.py, line 1)",
     "output_type": "error",
     "traceback": [
      "\u001b[1;36m  Input \u001b[1;32mIn [44]\u001b[1;36m\u001b[0m\n\u001b[1;33m    print(sep=\"\\n\", \"hello\", \"world\")\u001b[0m\n\u001b[1;37m                                    ^\u001b[0m\n\u001b[1;31mSyntaxError\u001b[0m\u001b[1;31m:\u001b[0m positional argument follows keyword argument\n"
     ]
    }
   ],
   "source": [
    "print(sep=\"\\n\", \"hello\", \"world\")"
   ]
  },
  {
   "cell_type": "code",
   "execution_count": 41,
   "id": "dc69d3c2",
   "metadata": {},
   "outputs": [
    {
     "ename": "SyntaxError",
     "evalue": "positional argument follows keyword argument (3832387165.py, line 3)",
     "output_type": "error",
     "traceback": [
      "\u001b[1;36m  Input \u001b[1;32mIn [41]\u001b[1;36m\u001b[0m\n\u001b[1;33m    can_drive(age=18, \"sachin\")\u001b[0m\n\u001b[1;37m                              ^\u001b[0m\n\u001b[1;31mSyntaxError\u001b[0m\u001b[1;31m:\u001b[0m positional argument follows keyword argument\n"
     ]
    }
   ],
   "source": [
    "x = \"sachin\"\n",
    "y = 26\n",
    "can_drive(age=18, \"sachin\")\n",
    "# keyword"
   ]
  },
  {
   "cell_type": "code",
   "execution_count": 40,
   "id": "48ef7d4d",
   "metadata": {},
   "outputs": [
    {
     "name": "stdout",
     "output_type": "stream",
     "text": [
      "!Congrats! sachin can Drive!\n"
     ]
    }
   ],
   "source": [
    "x = \"sachin\"\n",
    "y = 26\n",
    "can_drive(name=x, age=y)\n",
    "# keyword"
   ]
  },
  {
   "cell_type": "code",
   "execution_count": 39,
   "id": "9b11a3ac",
   "metadata": {},
   "outputs": [
    {
     "name": "stdout",
     "output_type": "stream",
     "text": [
      "!Congrats! sachin can Drive!\n"
     ]
    }
   ],
   "source": [
    "x = \"sachin\"\n",
    "y = 26\n",
    "can_drive(x, y)\n",
    "# positional"
   ]
  },
  {
   "cell_type": "code",
   "execution_count": null,
   "id": "009a7869",
   "metadata": {},
   "outputs": [],
   "source": []
  },
  {
   "cell_type": "code",
   "execution_count": 35,
   "id": "3ee3f461",
   "metadata": {},
   "outputs": [
    {
     "name": "stdout",
     "output_type": "stream",
     "text": [
      "!ohh! yahoo have to wait for 6 years to drive.\n"
     ]
    }
   ],
   "source": [
    "can_drive(\"yahoo\", 12)"
   ]
  },
  {
   "cell_type": "code",
   "execution_count": 36,
   "id": "7e487749",
   "metadata": {},
   "outputs": [
    {
     "name": "stdout",
     "output_type": "stream",
     "text": [
      "!Congrats! yahoo can Drive!\n"
     ]
    }
   ],
   "source": [
    "can_drive(\"yahoo\", age=18)"
   ]
  },
  {
   "cell_type": "code",
   "execution_count": 37,
   "id": "fe00ab9c",
   "metadata": {},
   "outputs": [
    {
     "name": "stdout",
     "output_type": "stream",
     "text": [
      "!Congrats! sachin can Drive!\n"
     ]
    }
   ],
   "source": [
    "can_drive(age=21, name='sachin')"
   ]
  },
  {
   "cell_type": "code",
   "execution_count": 38,
   "id": "107aecc2",
   "metadata": {},
   "outputs": [
    {
     "name": "stdout",
     "output_type": "stream",
     "text": [
      "!Congrats! yahoo can Drive!\n"
     ]
    }
   ],
   "source": [
    "can_drive(name='yahoo', age=100)"
   ]
  },
  {
   "cell_type": "code",
   "execution_count": 34,
   "id": "b149a709",
   "metadata": {},
   "outputs": [
    {
     "ename": "SyntaxError",
     "evalue": "positional argument follows keyword argument (1281129035.py, line 1)",
     "output_type": "error",
     "traceback": [
      "\u001b[1;36m  Input \u001b[1;32mIn [34]\u001b[1;36m\u001b[0m\n\u001b[1;33m    print(\"hello\", \"world\", sep=\"\\n\", \"this is awesome\")\u001b[0m\n\u001b[1;37m                                                       ^\u001b[0m\n\u001b[1;31mSyntaxError\u001b[0m\u001b[1;31m:\u001b[0m positional argument follows keyword argument\n"
     ]
    }
   ],
   "source": [
    "print(\"hello\", \"world\", sep=\"\\n\", \"this is awesome\")\n",
    "#        0        1           2             keyword"
   ]
  },
  {
   "cell_type": "code",
   "execution_count": 33,
   "id": "3ea7f1a7",
   "metadata": {},
   "outputs": [
    {
     "name": "stdout",
     "output_type": "stream",
     "text": [
      "hello\n",
      "world\n",
      "this is awesome\n"
     ]
    }
   ],
   "source": [
    "print(\"hello\", \"world\", \"this is awesome\", sep=\"\\n\")\n",
    "#        0        1           2             keyword"
   ]
  },
  {
   "cell_type": "code",
   "execution_count": null,
   "id": "71d432f2",
   "metadata": {},
   "outputs": [],
   "source": []
  },
  {
   "cell_type": "code",
   "execution_count": 31,
   "id": "30132921",
   "metadata": {},
   "outputs": [
    {
     "name": "stdout",
     "output_type": "stream",
     "text": [
      "!ohh! jhon have to wait for 2 years to drive.\n"
     ]
    }
   ],
   "source": [
    "can_drive(\"jhon\", age=16)"
   ]
  },
  {
   "cell_type": "code",
   "execution_count": 30,
   "id": "544a1700",
   "metadata": {},
   "outputs": [
    {
     "ename": "SyntaxError",
     "evalue": "positional argument follows keyword argument (1305548571.py, line 1)",
     "output_type": "error",
     "traceback": [
      "\u001b[1;36m  Input \u001b[1;32mIn [30]\u001b[1;36m\u001b[0m\n\u001b[1;33m    can_drive(age=20, \"jhon\")\u001b[0m\n\u001b[1;37m                            ^\u001b[0m\n\u001b[1;31mSyntaxError\u001b[0m\u001b[1;31m:\u001b[0m positional argument follows keyword argument\n"
     ]
    }
   ],
   "source": [
    "can_drive(age=20, \"jhon\")\n",
    "#   "
   ]
  },
  {
   "cell_type": "code",
   "execution_count": 29,
   "id": "f7fb7db8",
   "metadata": {},
   "outputs": [
    {
     "ename": "TypeError",
     "evalue": "can_drive() got multiple values for argument 'name'",
     "output_type": "error",
     "traceback": [
      "\u001b[1;31m---------------------------------------------------------------------------\u001b[0m",
      "\u001b[1;31mTypeError\u001b[0m                                 Traceback (most recent call last)",
      "Input \u001b[1;32mIn [29]\u001b[0m, in \u001b[0;36m<cell line: 1>\u001b[1;34m()\u001b[0m\n\u001b[1;32m----> 1\u001b[0m \u001b[43mcan_drive\u001b[49m\u001b[43m(\u001b[49m\u001b[38;5;241;43m50\u001b[39;49m\u001b[43m,\u001b[49m\u001b[43m \u001b[49m\u001b[43mname\u001b[49m\u001b[38;5;241;43m=\u001b[39;49m\u001b[38;5;124;43m'\u001b[39;49m\u001b[38;5;124;43mjhon\u001b[39;49m\u001b[38;5;124;43m'\u001b[39;49m\u001b[43m)\u001b[49m\n",
      "\u001b[1;31mTypeError\u001b[0m: can_drive() got multiple values for argument 'name'"
     ]
    }
   ],
   "source": [
    "can_drive(50, name='jhon')\n",
    "#          0"
   ]
  },
  {
   "cell_type": "code",
   "execution_count": 28,
   "id": "607503e8",
   "metadata": {},
   "outputs": [
    {
     "name": "stdout",
     "output_type": "stream",
     "text": [
      "!Congrats! sachin can Drive!\n"
     ]
    }
   ],
   "source": [
    "can_drive(\"sachin\", age=20)\n",
    "#            0"
   ]
  },
  {
   "cell_type": "code",
   "execution_count": null,
   "id": "f5e0b0f9",
   "metadata": {},
   "outputs": [],
   "source": []
  },
  {
   "cell_type": "code",
   "execution_count": 26,
   "id": "40facea7",
   "metadata": {},
   "outputs": [
    {
     "name": "stdout",
     "output_type": "stream",
     "text": [
      "!Congrats! natasha can Drive!\n"
     ]
    }
   ],
   "source": [
    "can_drive(age=18, name=\"natasha\") # keyword arguments"
   ]
  },
  {
   "cell_type": "code",
   "execution_count": null,
   "id": "342e6131",
   "metadata": {},
   "outputs": [],
   "source": []
  },
  {
   "cell_type": "code",
   "execution_count": 25,
   "id": "b700fd1f",
   "metadata": {},
   "outputs": [
    {
     "name": "stdout",
     "output_type": "stream",
     "text": [
      "!Congrats! sachin can Drive!\n"
     ]
    }
   ],
   "source": [
    "can_drive(\"sachin\", 26)\n",
    "#            0       1"
   ]
  },
  {
   "cell_type": "code",
   "execution_count": null,
   "id": "0134323d",
   "metadata": {},
   "outputs": [],
   "source": []
  },
  {
   "cell_type": "code",
   "execution_count": null,
   "id": "b47c498f",
   "metadata": {},
   "outputs": [],
   "source": []
  },
  {
   "cell_type": "code",
   "execution_count": 14,
   "id": "94c0f0cf",
   "metadata": {},
   "outputs": [],
   "source": [
    "def greatest(a, b, c):\n",
    "    if (a>b) and (a>c):\n",
    "        return a\n",
    "    elif (b>c):\n",
    "        return b\n",
    "    else:\n",
    "        return c"
   ]
  },
  {
   "cell_type": "code",
   "execution_count": 20,
   "id": "e9181a57",
   "metadata": {},
   "outputs": [
    {
     "ename": "TypeError",
     "evalue": "greatest() missing 1 required positional argument: 'c'",
     "output_type": "error",
     "traceback": [
      "\u001b[1;31m---------------------------------------------------------------------------\u001b[0m",
      "\u001b[1;31mTypeError\u001b[0m                                 Traceback (most recent call last)",
      "Input \u001b[1;32mIn [20]\u001b[0m, in \u001b[0;36m<cell line: 1>\u001b[1;34m()\u001b[0m\n\u001b[1;32m----> 1\u001b[0m \u001b[43mgreatest\u001b[49m\u001b[43m(\u001b[49m\u001b[38;5;241;43m10\u001b[39;49m\u001b[43m,\u001b[49m\u001b[43m \u001b[49m\u001b[38;5;241;43m20\u001b[39;49m\u001b[43m)\u001b[49m\n",
      "\u001b[1;31mTypeError\u001b[0m: greatest() missing 1 required positional argument: 'c'"
     ]
    }
   ],
   "source": [
    "greatest(10, 20)"
   ]
  },
  {
   "cell_type": "code",
   "execution_count": null,
   "id": "9847aaa2",
   "metadata": {},
   "outputs": [],
   "source": []
  },
  {
   "cell_type": "code",
   "execution_count": 15,
   "id": "10e34d3f",
   "metadata": {},
   "outputs": [
    {
     "name": "stdout",
     "output_type": "stream",
     "text": [
      "40\n"
     ]
    }
   ],
   "source": [
    "x = greatest(10, 40, 20)\n",
    "print(x)"
   ]
  },
  {
   "cell_type": "code",
   "execution_count": null,
   "id": "ce07ada3",
   "metadata": {},
   "outputs": [],
   "source": []
  },
  {
   "cell_type": "markdown",
   "id": "1185f407",
   "metadata": {},
   "source": [
    "### 2. Optional Arguments / Default Argument"
   ]
  },
  {
   "cell_type": "code",
   "execution_count": 55,
   "id": "af959917",
   "metadata": {},
   "outputs": [],
   "source": [
    "def can_drive(name, age=16):\n",
    "    print(\"Name: \", name)\n",
    "    print(\"AGe: \", age)"
   ]
  },
  {
   "cell_type": "code",
   "execution_count": 60,
   "id": "c03f990b",
   "metadata": {},
   "outputs": [
    {
     "ename": "TypeError",
     "evalue": "can_drive() missing 1 required positional argument: 'name'",
     "output_type": "error",
     "traceback": [
      "\u001b[1;31m---------------------------------------------------------------------------\u001b[0m",
      "\u001b[1;31mTypeError\u001b[0m                                 Traceback (most recent call last)",
      "Input \u001b[1;32mIn [60]\u001b[0m, in \u001b[0;36m<cell line: 1>\u001b[1;34m()\u001b[0m\n\u001b[1;32m----> 1\u001b[0m \u001b[43mcan_drive\u001b[49m\u001b[43m(\u001b[49m\u001b[43mage\u001b[49m\u001b[38;5;241;43m=\u001b[39;49m\u001b[38;5;241;43m100\u001b[39;49m\u001b[43m)\u001b[49m\n",
      "\u001b[1;31mTypeError\u001b[0m: can_drive() missing 1 required positional argument: 'name'"
     ]
    }
   ],
   "source": [
    "can_drive(age=100)"
   ]
  },
  {
   "cell_type": "code",
   "execution_count": 56,
   "id": "7c5a3a50",
   "metadata": {},
   "outputs": [
    {
     "name": "stdout",
     "output_type": "stream",
     "text": [
      "Name:  sachin\n",
      "AGe:  16\n"
     ]
    }
   ],
   "source": [
    "can_drive(\"sachin\")"
   ]
  },
  {
   "cell_type": "code",
   "execution_count": 57,
   "id": "4bd85ff9",
   "metadata": {},
   "outputs": [
    {
     "name": "stdout",
     "output_type": "stream",
     "text": [
      "Name:  sachin\n",
      "AGe:  26\n"
     ]
    }
   ],
   "source": [
    "can_drive(\"sachin\", 26)"
   ]
  },
  {
   "cell_type": "code",
   "execution_count": 58,
   "id": "2be6690c",
   "metadata": {},
   "outputs": [
    {
     "name": "stdout",
     "output_type": "stream",
     "text": [
      "Name:  yahoo\n",
      "AGe:  100\n"
     ]
    }
   ],
   "source": [
    "can_drive(age=100, name=\"yahoo\")"
   ]
  },
  {
   "cell_type": "code",
   "execution_count": 59,
   "id": "52b56312",
   "metadata": {},
   "outputs": [
    {
     "name": "stdout",
     "output_type": "stream",
     "text": [
      "Name:  sachin\n",
      "AGe:  200\n"
     ]
    }
   ],
   "source": [
    "can_drive(\"sachin\", age=200)"
   ]
  },
  {
   "cell_type": "code",
   "execution_count": 54,
   "id": "1476b043",
   "metadata": {},
   "outputs": [
    {
     "ename": "TypeError",
     "evalue": "can_drive() missing 1 required positional argument: 'name'",
     "output_type": "error",
     "traceback": [
      "\u001b[1;31m---------------------------------------------------------------------------\u001b[0m",
      "\u001b[1;31mTypeError\u001b[0m                                 Traceback (most recent call last)",
      "Input \u001b[1;32mIn [54]\u001b[0m, in \u001b[0;36m<cell line: 1>\u001b[1;34m()\u001b[0m\n\u001b[1;32m----> 1\u001b[0m \u001b[43mcan_drive\u001b[49m\u001b[43m(\u001b[49m\u001b[43m)\u001b[49m\n",
      "\u001b[1;31mTypeError\u001b[0m: can_drive() missing 1 required positional argument: 'name'"
     ]
    }
   ],
   "source": [
    "can_drive()"
   ]
  },
  {
   "cell_type": "code",
   "execution_count": 63,
   "id": "65d997ff",
   "metadata": {},
   "outputs": [],
   "source": [
    "def can_drive(age, name=\"Anonymous\"):\n",
    "    # age = \"sachin\", name=26\n",
    "    if age>=18:\n",
    "        print(f\"{name} can drive!\")\n",
    "    else:\n",
    "        pritn(f\"{name} can not drive!\")"
   ]
  },
  {
   "cell_type": "code",
   "execution_count": 67,
   "id": "27cb80a4",
   "metadata": {},
   "outputs": [
    {
     "name": "stdout",
     "output_type": "stream",
     "text": [
      "sachin can drive!\n"
     ]
    }
   ],
   "source": [
    "can_drive(name=\"sachin\", age=26)"
   ]
  },
  {
   "cell_type": "code",
   "execution_count": 66,
   "id": "3ecc6d9e",
   "metadata": {},
   "outputs": [
    {
     "name": "stdout",
     "output_type": "stream",
     "text": [
      "sachin can drive!\n"
     ]
    }
   ],
   "source": [
    "can_drive(20, \"sachin\")"
   ]
  },
  {
   "cell_type": "code",
   "execution_count": 64,
   "id": "e5641783",
   "metadata": {},
   "outputs": [
    {
     "name": "stdout",
     "output_type": "stream",
     "text": [
      "Anonymous can drive!\n"
     ]
    }
   ],
   "source": [
    "can_drive(20)"
   ]
  },
  {
   "cell_type": "code",
   "execution_count": 65,
   "id": "89727173",
   "metadata": {},
   "outputs": [
    {
     "ename": "TypeError",
     "evalue": "'>=' not supported between instances of 'str' and 'int'",
     "output_type": "error",
     "traceback": [
      "\u001b[1;31m---------------------------------------------------------------------------\u001b[0m",
      "\u001b[1;31mTypeError\u001b[0m                                 Traceback (most recent call last)",
      "Input \u001b[1;32mIn [65]\u001b[0m, in \u001b[0;36m<cell line: 1>\u001b[1;34m()\u001b[0m\n\u001b[1;32m----> 1\u001b[0m \u001b[43mcan_drive\u001b[49m\u001b[43m(\u001b[49m\u001b[38;5;124;43m\"\u001b[39;49m\u001b[38;5;124;43msachin\u001b[39;49m\u001b[38;5;124;43m\"\u001b[39;49m\u001b[43m,\u001b[49m\u001b[43m \u001b[49m\u001b[38;5;241;43m26\u001b[39;49m\u001b[43m)\u001b[49m\n",
      "Input \u001b[1;32mIn [63]\u001b[0m, in \u001b[0;36mcan_drive\u001b[1;34m(age, name)\u001b[0m\n\u001b[0;32m      1\u001b[0m \u001b[38;5;28;01mdef\u001b[39;00m \u001b[38;5;21mcan_drive\u001b[39m(age, name\u001b[38;5;241m=\u001b[39m\u001b[38;5;124m\"\u001b[39m\u001b[38;5;124mAnonymous\u001b[39m\u001b[38;5;124m\"\u001b[39m):\n\u001b[0;32m      2\u001b[0m     \u001b[38;5;66;03m# age = \"sachin\", name=26\u001b[39;00m\n\u001b[1;32m----> 3\u001b[0m     \u001b[38;5;28;01mif\u001b[39;00m \u001b[43mage\u001b[49m\u001b[38;5;241;43m>\u001b[39;49m\u001b[38;5;241;43m=\u001b[39;49m\u001b[38;5;241;43m18\u001b[39;49m:\n\u001b[0;32m      4\u001b[0m         \u001b[38;5;28mprint\u001b[39m(\u001b[38;5;124mf\u001b[39m\u001b[38;5;124m\"\u001b[39m\u001b[38;5;132;01m{\u001b[39;00mname\u001b[38;5;132;01m}\u001b[39;00m\u001b[38;5;124m can drive!\u001b[39m\u001b[38;5;124m\"\u001b[39m)\n\u001b[0;32m      5\u001b[0m     \u001b[38;5;28;01melse\u001b[39;00m:\n",
      "\u001b[1;31mTypeError\u001b[0m: '>=' not supported between instances of 'str' and 'int'"
     ]
    }
   ],
   "source": [
    "can_drive(\"sachin\", 26)"
   ]
  },
  {
   "cell_type": "code",
   "execution_count": null,
   "id": "b514f912",
   "metadata": {},
   "outputs": [],
   "source": [
    "greatest(1, 2) # 2"
   ]
  },
  {
   "cell_type": "code",
   "execution_count": null,
   "id": "7b6467f3",
   "metadata": {},
   "outputs": [],
   "source": [
    "greatest(1, 2, 3)  # 3"
   ]
  },
  {
   "cell_type": "markdown",
   "id": "5319044e",
   "metadata": {},
   "source": [
    "Heron's forumla\n",
    "\n",
    "    s = (a+b+c)/2\n",
    "\n",
    "    area = (s*(s-a)*(s-b)*(s-c))"
   ]
  },
  {
   "cell_type": "code",
   "execution_count": 71,
   "id": "2aef8722",
   "metadata": {},
   "outputs": [
    {
     "name": "stdout",
     "output_type": "stream",
     "text": [
      "140718356339928\n"
     ]
    }
   ],
   "source": [
    "a = None\n",
    "print(id(a))"
   ]
  },
  {
   "cell_type": "code",
   "execution_count": 72,
   "id": "0e66571c",
   "metadata": {},
   "outputs": [
    {
     "name": "stdout",
     "output_type": "stream",
     "text": [
      "140718356339928\n"
     ]
    }
   ],
   "source": [
    "b = None\n",
    "print(id(b))"
   ]
  },
  {
   "cell_type": "code",
   "execution_count": 87,
   "id": "8e4d89dc",
   "metadata": {},
   "outputs": [],
   "source": [
    "def area(a, b=None, c=None):\n",
    "    if b is None and c is None:\n",
    "        area = 3.14*a*a\n",
    "        print(f\"Area of Circle is {area:.2f}\")\n",
    "    elif c is None:\n",
    "        area = a*b\n",
    "        print(f\"Area of Rectangle is {area:.2f}\")\n",
    "    elif b is not None and c is not None:\n",
    "        s = (a+b+c)/2\n",
    "        area = (s*(s-a)*(s-b)*(s-c))**(1/2)\n",
    "        print(f\"Area of Triangle is {area:.2f}\")\n",
    "    else:\n",
    "        print(\"Invaid parameters\")\n",
    "        "
   ]
  },
  {
   "cell_type": "code",
   "execution_count": 88,
   "id": "2d667b09",
   "metadata": {},
   "outputs": [
    {
     "name": "stdout",
     "output_type": "stream",
     "text": [
      "Area of Circle is 314.00\n"
     ]
    }
   ],
   "source": [
    "area(10)\n",
    "# Area of Circle is 314.0"
   ]
  },
  {
   "cell_type": "code",
   "execution_count": 89,
   "id": "36864139",
   "metadata": {},
   "outputs": [
    {
     "name": "stdout",
     "output_type": "stream",
     "text": [
      "Area of Rectangle is 200.00\n"
     ]
    }
   ],
   "source": [
    "area(10, 20)\n",
    "# Area of Rectangle is 200"
   ]
  },
  {
   "cell_type": "code",
   "execution_count": 90,
   "id": "74e3d6f6",
   "metadata": {},
   "outputs": [
    {
     "name": "stdout",
     "output_type": "stream",
     "text": [
      "Area of Triangle is 1558.85\n"
     ]
    }
   ],
   "source": [
    "area(60, 60, 60)\n",
    "# Area of Triangle is 1558.84"
   ]
  },
  {
   "cell_type": "code",
   "execution_count": 91,
   "id": "93bd4b2c",
   "metadata": {},
   "outputs": [
    {
     "ename": "TypeError",
     "evalue": "area() takes from 1 to 3 positional arguments but 4 were given",
     "output_type": "error",
     "traceback": [
      "\u001b[1;31m---------------------------------------------------------------------------\u001b[0m",
      "\u001b[1;31mTypeError\u001b[0m                                 Traceback (most recent call last)",
      "Input \u001b[1;32mIn [91]\u001b[0m, in \u001b[0;36m<cell line: 1>\u001b[1;34m()\u001b[0m\n\u001b[1;32m----> 1\u001b[0m \u001b[43marea\u001b[49m\u001b[43m(\u001b[49m\u001b[38;5;241;43m1\u001b[39;49m\u001b[43m,\u001b[49m\u001b[43m \u001b[49m\u001b[38;5;241;43m2\u001b[39;49m\u001b[43m,\u001b[49m\u001b[43m \u001b[49m\u001b[38;5;241;43m3\u001b[39;49m\u001b[43m \u001b[49m\u001b[43m,\u001b[49m\u001b[43m \u001b[49m\u001b[38;5;241;43m4\u001b[39;49m\u001b[43m)\u001b[49m\n",
      "\u001b[1;31mTypeError\u001b[0m: area() takes from 1 to 3 positional arguments but 4 were given"
     ]
    }
   ],
   "source": [
    "area(1, 2, 3 , 4)"
   ]
  },
  {
   "cell_type": "code",
   "execution_count": 92,
   "id": "36f59b54",
   "metadata": {},
   "outputs": [
    {
     "ename": "TypeError",
     "evalue": "area() missing 1 required positional argument: 'a'",
     "output_type": "error",
     "traceback": [
      "\u001b[1;31m---------------------------------------------------------------------------\u001b[0m",
      "\u001b[1;31mTypeError\u001b[0m                                 Traceback (most recent call last)",
      "Input \u001b[1;32mIn [92]\u001b[0m, in \u001b[0;36m<cell line: 1>\u001b[1;34m()\u001b[0m\n\u001b[1;32m----> 1\u001b[0m \u001b[43marea\u001b[49m\u001b[43m(\u001b[49m\u001b[43m)\u001b[49m\n",
      "\u001b[1;31mTypeError\u001b[0m: area() missing 1 required positional argument: 'a'"
     ]
    }
   ],
   "source": [
    "area()"
   ]
  },
  {
   "cell_type": "markdown",
   "id": "1ded2ea8",
   "metadata": {},
   "source": [
    "    area() -> Error\n",
    "    area(10, 20, 30, 40) -> Error"
   ]
  },
  {
   "cell_type": "markdown",
   "id": "618f52dc",
   "metadata": {},
   "source": [
    "    Heron's forumla\n",
    "    \n",
    "        s = (a+b+c)/2\n",
    "        \n",
    "        area = (s*(s-a)*(s-b)*(s-c))\n"
   ]
  },
  {
   "cell_type": "code",
   "execution_count": 70,
   "id": "50a3e8dd",
   "metadata": {},
   "outputs": [
    {
     "name": "stdout",
     "output_type": "stream",
     "text": [
      "1558.8457268119896\n"
     ]
    }
   ],
   "source": [
    "a,b,c = 60, 60, 60\n",
    "s = (a+b+c)/2\n",
    "area = (s*(s-a)*(s-b)*(s-c))**(1/2)\n",
    "print(area)"
   ]
  },
  {
   "cell_type": "code",
   "execution_count": null,
   "id": "732f8515",
   "metadata": {},
   "outputs": [],
   "source": [
    "int add(int x, in)"
   ]
  },
  {
   "cell_type": "code",
   "execution_count": null,
   "id": "c570b3e1",
   "metadata": {},
   "outputs": [],
   "source": []
  },
  {
   "cell_type": "markdown",
   "id": "99024cdb",
   "metadata": {},
   "source": [
    "**Function Overloading**"
   ]
  },
  {
   "cell_type": "code",
   "execution_count": 93,
   "id": "e51ebb38",
   "metadata": {},
   "outputs": [],
   "source": [
    "def sq_add(x, y, output=False):\n",
    "    r = x**2 + y**2\n",
    "    if output:\n",
    "        print(f\"x = {x:.2f}\")\n",
    "        print(f\"y = {y:.2f}\")\n",
    "        print(f\"x^2 + y^2 = {r:.2f}\")\n",
    "    return r"
   ]
  },
  {
   "cell_type": "code",
   "execution_count": 95,
   "id": "e8ff319e",
   "metadata": {},
   "outputs": [
    {
     "name": "stdout",
     "output_type": "stream",
     "text": [
      "x = 3.00\n",
      "y = 4.00\n",
      "x^2 + y^2 = 25.00\n",
      "25\n"
     ]
    }
   ],
   "source": [
    "ans = sq_add(3, 4, output=True)\n",
    "print(ans)"
   ]
  },
  {
   "cell_type": "code",
   "execution_count": 94,
   "id": "1f9cd255",
   "metadata": {},
   "outputs": [
    {
     "name": "stdout",
     "output_type": "stream",
     "text": [
      "25\n"
     ]
    }
   ],
   "source": [
    "ans = sq_add(3, 4)\n",
    "print(ans)"
   ]
  },
  {
   "cell_type": "code",
   "execution_count": null,
   "id": "2b3d94fa",
   "metadata": {},
   "outputs": [],
   "source": []
  }
 ],
 "metadata": {
  "kernelspec": {
   "display_name": "Python 3 (ipykernel)",
   "language": "python",
   "name": "python3"
  },
  "language_info": {
   "codemirror_mode": {
    "name": "ipython",
    "version": 3
   },
   "file_extension": ".py",
   "mimetype": "text/x-python",
   "name": "python",
   "nbconvert_exporter": "python",
   "pygments_lexer": "ipython3",
   "version": "3.9.12"
  }
 },
 "nbformat": 4,
 "nbformat_minor": 5
}
