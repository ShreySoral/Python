{
 "cells": [
  {
   "cell_type": "markdown",
   "id": "bafd5327",
   "metadata": {},
   "source": [
    "4.\tWrite a Python program to check whether a character is alphabet or not.\n",
    "5.\tWrite a Python program to input any alphabet and check whether it is vowel or consonant.\n",
    "6.\tWrite a Python program to input any character and check whether it is alphabet, digit or special character.\n",
    "7.\tWrite a Python program to check whether a character is uppercase or lowercase alphabet.\n",
    "8.\tWrite a Python program to input week number and print weekday.\n",
    "9.\tWrite a Python program to input angles of a triangle and check whether triangle is valid or not.\n",
    "10.\tWrite a Python program to input all sides of a triangle and check whether triangle is valid or not.\n",
    "11.\tWrite a Python program to check whether the triangle is equilateral, isosceles or scalene triangle.\n",
    "12.\tWrite a Python program to input marks of five subjects Physics, Chemistry, Biology, Mathematics and Computer. Calculate percentage and grade according to following: \n",
    "                   Percentage >= 90% : Grade A\n",
    "                   Percentage >= 80% : Grade B \n",
    "                   Percentage >= 70% : Grade C \n",
    "                               Percentage >= 60% : Grade D \n",
    "                               Percentage >= 40% : Grade E \n",
    "                               Percentage < 40% : Grade F\n",
    "13.\tWrite a Python program to input basic salary of an employee and calculate its Gross salary according to following: \n",
    "                Basic Salary <= 10000 : HRA = 20%, DA = 80% \n",
    "                Basic Salary <= 20000 : HRA = 25%, DA = 90% \n",
    "                Basic Salary > 20000 : HRA = 30%, DA = 95%\n",
    "14.\tWrite a Python Program to input electricity unit charges and calculate total electricity bill according to the given condition: \n",
    "    For first 50 units Rs. 0.50/unit\n",
    "    For next 100 units Rs. 0.75/unit\n",
    "    For next 100 units Rs. 1.20/unit\n",
    "    For unit above 250 Rs. 1.50/unit\n",
    "    An additional surcharge of 20% is added to the bill\n",
    "\n"
   ]
  },
  {
   "cell_type": "markdown",
   "id": "7ffda464",
   "metadata": {},
   "source": [
    "4.\tWrite a Python program to check whether a character is alphabet or not."
   ]
  },
  {
   "cell_type": "code",
   "execution_count": 6,
   "id": "0bb7400e",
   "metadata": {},
   "outputs": [
    {
     "name": "stdout",
     "output_type": "stream",
     "text": [
      "a\n",
      "given character is alphabate\n"
     ]
    }
   ],
   "source": [
    "char = input().lower()\n",
    "\n",
    "if char == 'a' or char == 'b' or char == 'c':\n",
    "    print('given character is alphabate')\n",
    "else:\n",
    "    print(\"it is not\")"
   ]
  },
  {
   "cell_type": "markdown",
   "id": "b990eddc",
   "metadata": {},
   "source": [
    "    ASCII - \n",
    "        \n",
    "        A - Z --> 65 to 90\n",
    "        a - z --> 97 to 122"
   ]
  },
  {
   "cell_type": "code",
   "execution_count": 33,
   "id": "89f4f380",
   "metadata": {},
   "outputs": [
    {
     "ename": "TypeError",
     "evalue": "'<=' not supported between instances of 'str' and 'int'",
     "output_type": "error",
     "traceback": [
      "\u001b[1;31m---------------------------------------------------------------------------\u001b[0m",
      "\u001b[1;31mTypeError\u001b[0m                                 Traceback (most recent call last)",
      "Input \u001b[1;32mIn [33]\u001b[0m, in \u001b[0;36m<cell line: 1>\u001b[1;34m()\u001b[0m\n\u001b[1;32m----> 1\u001b[0m \u001b[38;5;124;43m\"\u001b[39;49m\u001b[38;5;124;43ma\u001b[39;49m\u001b[38;5;124;43m\"\u001b[39;49m\u001b[43m \u001b[49m\u001b[38;5;241;43m<\u001b[39;49m\u001b[38;5;241;43m=\u001b[39;49m\u001b[43m \u001b[49m\u001b[38;5;241;43m65\u001b[39;49m\n",
      "\u001b[1;31mTypeError\u001b[0m: '<=' not supported between instances of 'str' and 'int'"
     ]
    }
   ],
   "source": [
    "\"a\" <= 65"
   ]
  },
  {
   "cell_type": "code",
   "execution_count": 32,
   "id": "abd612c1",
   "metadata": {},
   "outputs": [
    {
     "name": "stdout",
     "output_type": "stream",
     "text": [
      "6\n",
      "False\n"
     ]
    }
   ],
   "source": [
    "char = input()\n",
    "value = ord(char)\n",
    "\n",
    "if (value>=65 and value<=90) or (value>=97 and value<=122):\n",
    "    print(True)\n",
    "else:\n",
    "    print(False)"
   ]
  },
  {
   "cell_type": "code",
   "execution_count": null,
   "id": "97e3d211",
   "metadata": {},
   "outputs": [],
   "source": []
  },
  {
   "cell_type": "code",
   "execution_count": 29,
   "id": "5c3d4c43",
   "metadata": {},
   "outputs": [
    {
     "name": "stdout",
     "output_type": "stream",
     "text": [
      "9\n",
      "Given character 9 is not alphabate\n"
     ]
    }
   ],
   "source": [
    "char = input()\n",
    "value = ord(char)\n",
    "\n",
    "if (value>=65 and value<=90):\n",
    "    print(f\"Given character {char} is a capital alphabate\")\n",
    "elif (value>=97 and value<=122):\n",
    "    print(f\"Given character {char} is a Lower Case alphabate\")\n",
    "else:\n",
    "    print(f\"Given character {char} is not alphabate\")"
   ]
  },
  {
   "cell_type": "code",
   "execution_count": 34,
   "id": "92002371",
   "metadata": {},
   "outputs": [
    {
     "name": "stdout",
     "output_type": "stream",
     "text": [
      "['__add__', '__class__', '__contains__', '__delattr__', '__dir__', '__doc__', '__eq__', '__format__', '__ge__', '__getattribute__', '__getitem__', '__getnewargs__', '__gt__', '__hash__', '__init__', '__init_subclass__', '__iter__', '__le__', '__len__', '__lt__', '__mod__', '__mul__', '__ne__', '__new__', '__reduce__', '__reduce_ex__', '__repr__', '__rmod__', '__rmul__', '__setattr__', '__sizeof__', '__str__', '__subclasshook__', 'capitalize', 'casefold', 'center', 'count', 'encode', 'endswith', 'expandtabs', 'find', 'format', 'format_map', 'index', 'isalnum', 'isalpha', 'isascii', 'isdecimal', 'isdigit', 'isidentifier', 'islower', 'isnumeric', 'isprintable', 'isspace', 'istitle', 'isupper', 'join', 'ljust', 'lower', 'lstrip', 'maketrans', 'partition', 'removeprefix', 'removesuffix', 'replace', 'rfind', 'rindex', 'rjust', 'rpartition', 'rsplit', 'rstrip', 'split', 'splitlines', 'startswith', 'strip', 'swapcase', 'title', 'translate', 'upper', 'zfill']\n"
     ]
    }
   ],
   "source": [
    "print(dir(str))"
   ]
  },
  {
   "cell_type": "code",
   "execution_count": 39,
   "id": "38be82c7",
   "metadata": {},
   "outputs": [],
   "source": [
    "is_method = ['isalnum', 'isalpha', 'isascii', 'isdecimal', 'isdigit', 'isidentifier', 'islower', 'isnumeric', 'isprintable', 'isspace', 'istitle', 'isupper']"
   ]
  },
  {
   "cell_type": "markdown",
   "id": "d6b8f323",
   "metadata": {},
   "source": [
    "    is_alnum alphabates or numeric -> [A-Za-z0-9]\n",
    "    \n",
    "    is_alpha  alphabates [a-zA-Z]\n",
    "    \n",
    "    isascii   character is ascii char"
   ]
  },
  {
   "cell_type": "code",
   "execution_count": 50,
   "id": "201f9832",
   "metadata": {},
   "outputs": [
    {
     "data": {
      "text/plain": [
       "False"
      ]
     },
     "execution_count": 50,
     "metadata": {},
     "output_type": "execute_result"
    }
   ],
   "source": [
    "'palajslfdjlsdjflkasठjf'.isascii()"
   ]
  },
  {
   "cell_type": "code",
   "execution_count": 47,
   "id": "79a28dfa",
   "metadata": {},
   "outputs": [
    {
     "data": {
      "text/plain": [
       "False"
      ]
     },
     "execution_count": 47,
     "metadata": {},
     "output_type": "execute_result"
    }
   ],
   "source": [
    "'ठ'.isascii()"
   ]
  },
  {
   "cell_type": "code",
   "execution_count": 46,
   "id": "d4c6295e",
   "metadata": {},
   "outputs": [
    {
     "data": {
      "text/plain": [
       "'ठ'"
      ]
     },
     "execution_count": 46,
     "metadata": {},
     "output_type": "execute_result"
    }
   ],
   "source": [
    "chr(2336)"
   ]
  },
  {
   "cell_type": "code",
   "execution_count": 45,
   "id": "bb1e648b",
   "metadata": {},
   "outputs": [
    {
     "data": {
      "text/plain": [
       "True"
      ]
     },
     "execution_count": 45,
     "metadata": {},
     "output_type": "execute_result"
    }
   ],
   "source": [
    "\"9\".isalnum()"
   ]
  },
  {
   "cell_type": "markdown",
   "id": "f01bc6a4",
   "metadata": {},
   "source": [
    "     space = \" \\t\\n\\r\""
   ]
  },
  {
   "cell_type": "code",
   "execution_count": 40,
   "id": "568e0345",
   "metadata": {},
   "outputs": [
    {
     "name": "stdout",
     "output_type": "stream",
     "text": [
      "isalnum\n",
      "isalpha\n",
      "isascii\n",
      "isdecimal\n",
      "isdigit\n",
      "isidentifier\n",
      "islower\n",
      "isnumeric\n",
      "isprintable\n",
      "isspace\n",
      "istitle\n",
      "isupper\n"
     ]
    }
   ],
   "source": [
    "print(*is_method, sep='\\n')"
   ]
  },
  {
   "cell_type": "code",
   "execution_count": 37,
   "id": "8ea4f055",
   "metadata": {},
   "outputs": [],
   "source": [
    "s = \"hello World\""
   ]
  },
  {
   "cell_type": "code",
   "execution_count": 38,
   "id": "b498003a",
   "metadata": {},
   "outputs": [
    {
     "data": {
      "text/plain": [
       "False"
      ]
     },
     "execution_count": 38,
     "metadata": {},
     "output_type": "execute_result"
    }
   ],
   "source": [
    "s.islower()"
   ]
  },
  {
   "cell_type": "code",
   "execution_count": 54,
   "id": "490d2bc6",
   "metadata": {},
   "outputs": [
    {
     "name": "stdout",
     "output_type": "stream",
     "text": [
      "%\n",
      "False\n"
     ]
    }
   ],
   "source": [
    "char = input()\n",
    "if char.isalpha():\n",
    "    print(True)\n",
    "else:\n",
    "    print(False)"
   ]
  },
  {
   "cell_type": "markdown",
   "id": "193f59ef",
   "metadata": {},
   "source": [
    "## memership\n",
    "\n",
    "    in \n",
    "    not in"
   ]
  },
  {
   "cell_type": "markdown",
   "id": "65773659",
   "metadata": {},
   "source": [
    "item in sequence\n",
    "\n",
    "\n",
    "    sequence -> iterable -> string, list, tuple, dictionary, set, frozenset"
   ]
  },
  {
   "cell_type": "code",
   "execution_count": 64,
   "id": "bfb1d77c",
   "metadata": {},
   "outputs": [
    {
     "data": {
      "text/plain": [
       "False"
      ]
     },
     "execution_count": 64,
     "metadata": {},
     "output_type": "execute_result"
    }
   ],
   "source": [
    "[\"ram\", \"shyam\"] in [\"ram\", \"shyam\", \"hari\", \"sachin\" ]"
   ]
  },
  {
   "cell_type": "code",
   "execution_count": 56,
   "id": "8d646bf5",
   "metadata": {},
   "outputs": [
    {
     "data": {
      "text/plain": [
       "True"
      ]
     },
     "execution_count": 56,
     "metadata": {},
     "output_type": "execute_result"
    }
   ],
   "source": [
    "\"sachin\" in [\"ram\", \"shyam\", \"hari\", \"sachin\"]"
   ]
  },
  {
   "cell_type": "code",
   "execution_count": 57,
   "id": "d4f7702f",
   "metadata": {},
   "outputs": [
    {
     "data": {
      "text/plain": [
       "True"
      ]
     },
     "execution_count": 57,
     "metadata": {},
     "output_type": "execute_result"
    }
   ],
   "source": [
    "\"e\" in \"aeiou\""
   ]
  },
  {
   "cell_type": "code",
   "execution_count": 61,
   "id": "3f7b8d9a",
   "metadata": {},
   "outputs": [
    {
     "name": "stdout",
     "output_type": "stream",
     "text": [
      "9\n",
      "False\n"
     ]
    }
   ],
   "source": [
    "alpha = \"abcdefghijklmnopqrstuvwxyzABCDEFGHIJKLMNOPQRSTUVWXYZ\"\n",
    "char = input()\n",
    "if char in alpha:\n",
    "    print(True)\n",
    "else:\n",
    "    print(False)"
   ]
  },
  {
   "cell_type": "code",
   "execution_count": 67,
   "id": "34a0b79f",
   "metadata": {},
   "outputs": [
    {
     "name": "stdout",
     "output_type": "stream",
     "text": [
      "k\n",
      "True\n"
     ]
    }
   ],
   "source": [
    "alpha = ['a', 'b', 'c', 'd', 'e', 'f', 'g', 'h', 'i', 'j', 'k', 'l', 'm', 'n', 'o', 'p', 'q', 'r', 's', 't', 'u', 'v', 'w', 'x', 'y', 'z', 'A', 'B', 'C', 'D', 'E', 'F', 'G', 'H', 'I', 'J', 'K', 'L', 'M', 'N', 'O', 'P', 'Q', 'R', 'S', 'T', 'U', 'V', 'W', 'X', 'Y', 'Z']\n",
    "char = input()\n",
    "if char in alpha:\n",
    "    print(True)\n",
    "else:\n",
    "    print(False)"
   ]
  },
  {
   "cell_type": "code",
   "execution_count": 68,
   "id": "e3676a67",
   "metadata": {},
   "outputs": [],
   "source": [
    "s = \"hello\""
   ]
  },
  {
   "cell_type": "code",
   "execution_count": 71,
   "id": "9520b461",
   "metadata": {},
   "outputs": [
    {
     "data": {
      "text/plain": [
       "True"
      ]
     },
     "execution_count": 71,
     "metadata": {},
     "output_type": "execute_result"
    }
   ],
   "source": [
    "\"e\" in s"
   ]
  },
  {
   "cell_type": "code",
   "execution_count": 70,
   "id": "d6194071",
   "metadata": {},
   "outputs": [
    {
     "data": {
      "text/plain": [
       "False"
      ]
     },
     "execution_count": 70,
     "metadata": {},
     "output_type": "execute_result"
    }
   ],
   "source": [
    "\"k\" in s"
   ]
  },
  {
   "cell_type": "code",
   "execution_count": 74,
   "id": "47a172c3",
   "metadata": {},
   "outputs": [],
   "source": [
    "names = [ \"java\", \"c\", \"c++\", \"ruby\", \"perl\", \"python\"]"
   ]
  },
  {
   "cell_type": "code",
   "execution_count": 76,
   "id": "6bd7d42e",
   "metadata": {},
   "outputs": [
    {
     "data": {
      "text/plain": [
       "True"
      ]
     },
     "execution_count": 76,
     "metadata": {},
     "output_type": "execute_result"
    }
   ],
   "source": [
    "\"c++\" in names"
   ]
  },
  {
   "cell_type": "code",
   "execution_count": 75,
   "id": "53e4db26",
   "metadata": {},
   "outputs": [
    {
     "data": {
      "text/plain": [
       "False"
      ]
     },
     "execution_count": 75,
     "metadata": {},
     "output_type": "execute_result"
    }
   ],
   "source": [
    "\"html\" in names"
   ]
  },
  {
   "cell_type": "code",
   "execution_count": 85,
   "id": "d131cf4f",
   "metadata": {},
   "outputs": [
    {
     "data": {
      "text/plain": [
       "True"
      ]
     },
     "execution_count": 85,
     "metadata": {},
     "output_type": "execute_result"
    }
   ],
   "source": [
    "\"java\" == \"java\""
   ]
  },
  {
   "cell_type": "code",
   "execution_count": 86,
   "id": "02cc7f43",
   "metadata": {},
   "outputs": [
    {
     "data": {
      "text/plain": [
       "False"
      ]
     },
     "execution_count": 86,
     "metadata": {},
     "output_type": "execute_result"
    }
   ],
   "source": [
    "\"java\" == None"
   ]
  },
  {
   "cell_type": "code",
   "execution_count": 87,
   "id": "65cd29bd",
   "metadata": {},
   "outputs": [
    {
     "data": {
      "text/plain": [
       "False"
      ]
     },
     "execution_count": 87,
     "metadata": {},
     "output_type": "execute_result"
    }
   ],
   "source": [
    "\"java\" == 5"
   ]
  },
  {
   "cell_type": "code",
   "execution_count": 99,
   "id": "314c16ac",
   "metadata": {},
   "outputs": [
    {
     "data": {
      "text/plain": [
       "True"
      ]
     },
     "execution_count": 99,
     "metadata": {},
     "output_type": "execute_result"
    }
   ],
   "source": [
    "[1, 2, 3] == [1, 2, 3]"
   ]
  },
  {
   "cell_type": "code",
   "execution_count": 100,
   "id": "154293f1",
   "metadata": {},
   "outputs": [
    {
     "data": {
      "text/plain": [
       "False"
      ]
     },
     "execution_count": 100,
     "metadata": {},
     "output_type": "execute_result"
    }
   ],
   "source": [
    "4 == \"4\""
   ]
  },
  {
   "cell_type": "markdown",
   "id": "70d74ffe",
   "metadata": {},
   "source": [
    "    same type == same type"
   ]
  },
  {
   "cell_type": "code",
   "execution_count": 89,
   "id": "2d120941",
   "metadata": {},
   "outputs": [
    {
     "data": {
      "text/plain": [
       "False"
      ]
     },
     "execution_count": 89,
     "metadata": {},
     "output_type": "execute_result"
    }
   ],
   "source": [
    "\"java\" == [1, 2, 3]"
   ]
  },
  {
   "cell_type": "markdown",
   "id": "947ec242",
   "metadata": {},
   "source": [
    "    False -> None, empty object, 0, [], {}"
   ]
  },
  {
   "cell_type": "code",
   "execution_count": 98,
   "id": "6bc3f9c5",
   "metadata": {},
   "outputs": [
    {
     "name": "stdout",
     "output_type": "stream",
     "text": [
      "lkdjf\n",
      "ha ha\n"
     ]
    }
   ],
   "source": [
    "if \"lkdjf\":\n",
    "    print('ha ha')"
   ]
  },
  {
   "cell_type": "code",
   "execution_count": 94,
   "id": "95b4460e",
   "metadata": {},
   "outputs": [
    {
     "data": {
      "text/plain": [
       "0"
      ]
     },
     "execution_count": 94,
     "metadata": {},
     "output_type": "execute_result"
    }
   ],
   "source": [
    "4+4-8"
   ]
  },
  {
   "cell_type": "code",
   "execution_count": 96,
   "id": "b5c90ecb",
   "metadata": {},
   "outputs": [
    {
     "data": {
      "text/plain": [
       "False"
      ]
     },
     "execution_count": 96,
     "metadata": {},
     "output_type": "execute_result"
    }
   ],
   "source": [
    "\"java\" == [\"hi\", \"hello\"]"
   ]
  },
  {
   "cell_type": "code",
   "execution_count": 97,
   "id": "50478966",
   "metadata": {},
   "outputs": [],
   "source": [
    "if False:\n",
    "    print(\"hello\")"
   ]
  },
  {
   "cell_type": "code",
   "execution_count": 93,
   "id": "8ef778d0",
   "metadata": {},
   "outputs": [],
   "source": [
    "if 4+4-8:\n",
    "    print('hi')"
   ]
  },
  {
   "cell_type": "code",
   "execution_count": 88,
   "id": "db6393f5",
   "metadata": {},
   "outputs": [
    {
     "data": {
      "text/plain": [
       "False"
      ]
     },
     "execution_count": 88,
     "metadata": {},
     "output_type": "execute_result"
    }
   ],
   "source": [
    "\"java\" == \"ha ha\""
   ]
  },
  {
   "cell_type": "code",
   "execution_count": 84,
   "id": "7f8cee66",
   "metadata": {},
   "outputs": [
    {
     "data": {
      "text/plain": [
       "False"
      ]
     },
     "execution_count": 84,
     "metadata": {},
     "output_type": "execute_result"
    }
   ],
   "source": [
    "\"java\" == names"
   ]
  },
  {
   "cell_type": "markdown",
   "id": "495558c2",
   "metadata": {},
   "source": [
    "    O(n)"
   ]
  },
  {
   "cell_type": "code",
   "execution_count": 77,
   "id": "5400757a",
   "metadata": {},
   "outputs": [],
   "source": [
    "info = {\n",
    "    \"name\": \"sachin\",\n",
    "    \"age\": 26,\n",
    "    \"city\": \"jaipur\",\n",
    "}"
   ]
  },
  {
   "cell_type": "code",
   "execution_count": 82,
   "id": "c5f1f94b",
   "metadata": {},
   "outputs": [
    {
     "data": {
      "text/plain": [
       "True"
      ]
     },
     "execution_count": 82,
     "metadata": {},
     "output_type": "execute_result"
    }
   ],
   "source": [
    "(\"name\", \"sachin\") in info.items()"
   ]
  },
  {
   "cell_type": "code",
   "execution_count": 81,
   "id": "b1e2fa0f",
   "metadata": {},
   "outputs": [
    {
     "data": {
      "text/plain": [
       "True"
      ]
     },
     "execution_count": 81,
     "metadata": {},
     "output_type": "execute_result"
    }
   ],
   "source": [
    "\"sachin\" in info.values()"
   ]
  },
  {
   "cell_type": "code",
   "execution_count": 80,
   "id": "825a55a8",
   "metadata": {},
   "outputs": [
    {
     "data": {
      "text/plain": [
       "True"
      ]
     },
     "execution_count": 80,
     "metadata": {},
     "output_type": "execute_result"
    }
   ],
   "source": [
    "\"age\" in info.keys()"
   ]
  },
  {
   "cell_type": "code",
   "execution_count": null,
   "id": "417d773b",
   "metadata": {},
   "outputs": [],
   "source": []
  },
  {
   "cell_type": "code",
   "execution_count": null,
   "id": "4ef2f3a5",
   "metadata": {},
   "outputs": [],
   "source": []
  },
  {
   "cell_type": "code",
   "execution_count": 79,
   "id": "3b78fc87",
   "metadata": {},
   "outputs": [
    {
     "data": {
      "text/plain": [
       "True"
      ]
     },
     "execution_count": 79,
     "metadata": {},
     "output_type": "execute_result"
    }
   ],
   "source": [
    "\"city\" in info"
   ]
  },
  {
   "cell_type": "code",
   "execution_count": 78,
   "id": "c449333d",
   "metadata": {},
   "outputs": [
    {
     "data": {
      "text/plain": [
       "False"
      ]
     },
     "execution_count": 78,
     "metadata": {},
     "output_type": "execute_result"
    }
   ],
   "source": [
    "\"sachin\" in info"
   ]
  },
  {
   "cell_type": "code",
   "execution_count": 101,
   "id": "835aeeec",
   "metadata": {},
   "outputs": [
    {
     "data": {
      "text/plain": [
       "True"
      ]
     },
     "execution_count": 101,
     "metadata": {},
     "output_type": "execute_result"
    }
   ],
   "source": [
    "45 in [1,2 ,3 , 4, 45]"
   ]
  },
  {
   "cell_type": "code",
   "execution_count": 102,
   "id": "b07ad4df",
   "metadata": {},
   "outputs": [
    {
     "data": {
      "text/plain": [
       "True"
      ]
     },
     "execution_count": 102,
     "metadata": {},
     "output_type": "execute_result"
    }
   ],
   "source": [
    "45 == 45"
   ]
  },
  {
   "cell_type": "code",
   "execution_count": 103,
   "id": "1bb3af4b",
   "metadata": {},
   "outputs": [
    {
     "data": {
      "text/plain": [
       "False"
      ]
     },
     "execution_count": 103,
     "metadata": {},
     "output_type": "execute_result"
    }
   ],
   "source": [
    "45 == [1, 2, 3] # not a valid statement"
   ]
  },
  {
   "cell_type": "code",
   "execution_count": 104,
   "id": "af71c98d",
   "metadata": {},
   "outputs": [
    {
     "data": {
      "text/plain": [
       "True"
      ]
     },
     "execution_count": 104,
     "metadata": {},
     "output_type": "execute_result"
    }
   ],
   "source": [
    "[1, 2, 3] == [1, 2, 3]"
   ]
  },
  {
   "cell_type": "code",
   "execution_count": 105,
   "id": "06c011fe",
   "metadata": {},
   "outputs": [
    {
     "data": {
      "text/plain": [
       "False"
      ]
     },
     "execution_count": 105,
     "metadata": {},
     "output_type": "execute_result"
    }
   ],
   "source": [
    "[1, 3, 2] == [1, 2, 3]"
   ]
  },
  {
   "cell_type": "code",
   "execution_count": 106,
   "id": "e6a6d934",
   "metadata": {},
   "outputs": [
    {
     "data": {
      "text/plain": [
       "False"
      ]
     },
     "execution_count": 106,
     "metadata": {},
     "output_type": "execute_result"
    }
   ],
   "source": [
    "[1, 3, 2] == ['hi', 'bye', 'good bye']"
   ]
  },
  {
   "cell_type": "code",
   "execution_count": null,
   "id": "26fb328c",
   "metadata": {},
   "outputs": [],
   "source": [
    "a = 60"
   ]
  },
  {
   "cell_type": "code",
   "execution_count": 107,
   "id": "41172b58",
   "metadata": {},
   "outputs": [
    {
     "data": {
      "text/plain": [
       "False"
      ]
     },
     "execution_count": 107,
     "metadata": {},
     "output_type": "execute_result"
    }
   ],
   "source": [
    "60 == 70 == 80 == 60"
   ]
  },
  {
   "cell_type": "code",
   "execution_count": 108,
   "id": "003a9f7b",
   "metadata": {},
   "outputs": [
    {
     "data": {
      "text/plain": [
       "True"
      ]
     },
     "execution_count": 108,
     "metadata": {},
     "output_type": "execute_result"
    }
   ],
   "source": [
    "60 == 60 == 60 == 60"
   ]
  },
  {
   "cell_type": "code",
   "execution_count": null,
   "id": "74f642df",
   "metadata": {},
   "outputs": [],
   "source": [
    "(a == 60) and (b == 60) and (c == 60)"
   ]
  },
  {
   "cell_type": "code",
   "execution_count": null,
   "id": "1f0ec0d5",
   "metadata": {},
   "outputs": [],
   "source": []
  },
  {
   "cell_type": "code",
   "execution_count": 110,
   "id": "ae3f3e30",
   "metadata": {},
   "outputs": [
    {
     "name": "stdout",
     "output_type": "stream",
     "text": [
      "9\n",
      "not alphabate\n"
     ]
    }
   ],
   "source": [
    "char = input()\n",
    "\n",
    "if char.isalpha():\n",
    "    print(\"alphabate\")\n",
    "else:\n",
    "    print(\"not alphabate\")"
   ]
  },
  {
   "cell_type": "markdown",
   "id": "a02d54a5",
   "metadata": {},
   "source": [
    "5.\tWrite a Python program to input any alphabet and check whether it is vowel or consonant."
   ]
  },
  {
   "cell_type": "raw",
   "id": "aa278474",
   "metadata": {},
   "source": [
    "char = input(\"char: \")\n",
    "\n",
    "if (char==\"a\") or (char==\"e\") in \"aeiou\":\n",
    "    print(\"it's a vowel\")\n",
    "else:\n",
    "    print(\"it's a consonant\")"
   ]
  },
  {
   "cell_type": "code",
   "execution_count": 112,
   "id": "29bbb4db",
   "metadata": {},
   "outputs": [
    {
     "name": "stdout",
     "output_type": "stream",
     "text": [
      "char: k\n",
      "it's a consonant\n"
     ]
    }
   ],
   "source": [
    "char = input(\"char: \")\n",
    "\n",
    "if char in \"aeiou\":\n",
    "    print(\"it's a vowel\")\n",
    "else:\n",
    "    print(\"it's a consonant\")"
   ]
  },
  {
   "cell_type": "markdown",
   "id": "9fe9d4b4",
   "metadata": {},
   "source": [
    "6.\tWrite a Python program to input any character and check whether it is alphabet, digit or special character."
   ]
  },
  {
   "cell_type": "code",
   "execution_count": 116,
   "id": "45d287e9",
   "metadata": {},
   "outputs": [
    {
     "name": "stdout",
     "output_type": "stream",
     "text": [
      "char: a\n",
      "it's a alphabate\n"
     ]
    }
   ],
   "source": [
    "char = input(\"char: \")\n",
    "\n",
    "if char.isalpha():\n",
    "    print(\"it's a alphabate\")\n",
    "elif char.isdigit():\n",
    "    print(\"it's a digit\")\n",
    "else:\n",
    "    print(\"it's a special character\")\n"
   ]
  },
  {
   "cell_type": "markdown",
   "id": "650b886e",
   "metadata": {},
   "source": [
    "7.\tWrite a Python program to check whether a character is uppercase or lowercase alphabet."
   ]
  },
  {
   "cell_type": "markdown",
   "id": "aa94a3df",
   "metadata": {},
   "source": [
    "8.\tWrite a Python program to input week day number and print weekday.\n",
    "\n",
    "    0 Sunday\n",
    "    1 Monday\n",
    "    2 Tuesday\n",
    "    3 Wednesday\n",
    "    4 Thursday\n",
    "    5 Friday\n",
    "    6 Saturday\n",
    "    7 Sunday"
   ]
  },
  {
   "cell_type": "code",
   "execution_count": 119,
   "id": "7225440c",
   "metadata": {},
   "outputs": [
    {
     "name": "stdout",
     "output_type": "stream",
     "text": [
      "day number: 9\n",
      "Invalid Day Number\n"
     ]
    }
   ],
   "source": [
    "day = int(input(\"day number: \"))\n",
    "\n",
    "if (day==0) or (day==7):\n",
    "    print(\"Sunday\")\n",
    "elif (day==1):\n",
    "    print(\"Monday\")\n",
    "elif (day==2):\n",
    "    print(\"Tuesday\")\n",
    "elif (day==3):\n",
    "    print(\"Wednesday\")\n",
    "elif (day==4):\n",
    "    print(\"Thursday\")\n",
    "elif (day==5):\n",
    "    print(\"Friday\")\n",
    "elif (day==6):\n",
    "    print(\"Saturday\")\n",
    "else:\n",
    "    print(\"Invalid Day Number\")\n",
    "    "
   ]
  },
  {
   "cell_type": "code",
   "execution_count": 121,
   "id": "97b481a4",
   "metadata": {},
   "outputs": [
    {
     "name": "stdout",
     "output_type": "stream",
     "text": [
      "Enter day number: 6\n",
      "Saturday\n"
     ]
    }
   ],
   "source": [
    "days = [\"Sunday\", \"Monday\", \"Tuesday\", \"Wednesday\", \"Thursday\", \"Friday\", \"Saturday\", \"Sunday\"]\n",
    "#          0         1          2          3            4          5          6          7\n",
    "\n",
    "day_num = int(input(\"Enter day number: \"))\n",
    "\n",
    "if (day_num<0) or (day_num>7):\n",
    "    print(\"Invalid Day Number\")\n",
    "else:\n",
    "    print(days[day_num])\n",
    "    "
   ]
  },
  {
   "cell_type": "code",
   "execution_count": 132,
   "id": "db7b7c43",
   "metadata": {},
   "outputs": [
    {
     "name": "stdout",
     "output_type": "stream",
     "text": [
      "7\n",
      "Sunday\n"
     ]
    }
   ],
   "source": [
    "days = [\"Sunday\", \"Monday\", \"Tuesday\", \"Wednesday\", \"Thursday\", \"Friday\", \"Saturday\", \"Sunday\"]\n",
    "print(dict(zip(range(8),days)).get(int(input()),\"Invalid Day Number\"))"
   ]
  },
  {
   "cell_type": "code",
   "execution_count": 130,
   "id": "16a9894f",
   "metadata": {},
   "outputs": [
    {
     "name": "stdout",
     "output_type": "stream",
     "text": [
      "Enter day_number: 5\n",
      "Friday\n"
     ]
    }
   ],
   "source": [
    "print({0: 'Sunday',1: 'Monday',2: 'Tuesday',3: 'Wednesday',4: 'Thursday',5: 'Friday',6: 'Saturday',7: 'Sunday'}.get(int(input(\"Enter day_number: \")), \"Invalid Day Number\"))"
   ]
  },
  {
   "cell_type": "code",
   "execution_count": 134,
   "id": "34b0a949",
   "metadata": {},
   "outputs": [
    {
     "name": "stdout",
     "output_type": "stream",
     "text": [
      "Enter day number: 5\n",
      "Friday\n"
     ]
    }
   ],
   "source": [
    "days = {\n",
    " 0: 'Sunday',\n",
    " 1: 'Monday',\n",
    " 2: 'Tuesday',\n",
    " 3: 'Wednesday',\n",
    " 4: 'Thursday',\n",
    " 5: 'Friday',\n",
    " 6: 'Saturday',\n",
    " 7: 'Sunday'\n",
    "}\n",
    "\n",
    "day_num = int(input(\"Enter day number: \"))\n",
    "\n",
    "value = days.get(day_num, \"Invalid Day Number\")\n",
    "\n",
    "print(value)"
   ]
  },
  {
   "cell_type": "code",
   "execution_count": null,
   "id": "485a0c9a",
   "metadata": {},
   "outputs": [],
   "source": []
  }
 ],
 "metadata": {
  "kernelspec": {
   "display_name": "Python 3 (ipykernel)",
   "language": "python",
   "name": "python3"
  },
  "language_info": {
   "codemirror_mode": {
    "name": "ipython",
    "version": 3
   },
   "file_extension": ".py",
   "mimetype": "text/x-python",
   "name": "python",
   "nbconvert_exporter": "python",
   "pygments_lexer": "ipython3",
   "version": "3.9.12"
  }
 },
 "nbformat": 4,
 "nbformat_minor": 5
}
