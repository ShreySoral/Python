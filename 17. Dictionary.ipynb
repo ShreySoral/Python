{
 "cells": [
  {
   "cell_type": "code",
   "execution_count": 1,
   "id": "b558aa69",
   "metadata": {},
   "outputs": [
    {
     "name": "stdout",
     "output_type": "stream",
     "text": [
      "clear\n",
      "copy\n",
      "fromkeys\n",
      "get\n",
      "items\n",
      "keys\n",
      "pop\n",
      "popitem\n",
      "setdefault\n",
      "update\n",
      "values\n"
     ]
    }
   ],
   "source": [
    "print(*dir(dict)[-11:],sep=\"\\n\")"
   ]
  },
  {
   "cell_type": "code",
   "execution_count": 2,
   "id": "369bf77f",
   "metadata": {},
   "outputs": [],
   "source": [
    "mobiles={\n",
    "    \"names\":[\"vivo\",'samsung','iphone','one plus','mi'],\n",
    "    \"ram\":['4gb','4gb','4gb','4gb','4gb'],\n",
    "    \"cost\":[12000,7000,8000,9000,8000],\n",
    "    \"quantity\":[50,60,30,45,10]\n",
    "}"
   ]
  },
  {
   "cell_type": "code",
   "execution_count": 3,
   "id": "4df7587b",
   "metadata": {},
   "outputs": [],
   "source": [
    "mobiles[\"cost\"][2]+=5000"
   ]
  },
  {
   "cell_type": "code",
   "execution_count": 5,
   "id": "8a048e7f",
   "metadata": {},
   "outputs": [
    {
     "name": "stdout",
     "output_type": "stream",
     "text": [
      "{'names': ['vivo', 'samsung', 'iphone', 'one plus', 'mi'], 'ram': ['4gb', '4gb', '4gb', '4gb', '4gb'], 'cost': [12000, 7000, 13000, 9000, 8000], 'quantity': [50, 60, 30, 45, 10]}\n"
     ]
    }
   ],
   "source": [
    "print(mobiles)"
   ]
  },
  {
   "cell_type": "code",
   "execution_count": 6,
   "id": "d9583d5f",
   "metadata": {},
   "outputs": [],
   "source": [
    "# .get gives us the value of key from the dictionary if key exists else returns default value"
   ]
  },
  {
   "cell_type": "code",
   "execution_count": 7,
   "id": "8b0e15ba",
   "metadata": {},
   "outputs": [],
   "source": [
    "from pprint import pprint"
   ]
  },
  {
   "cell_type": "code",
   "execution_count": 8,
   "id": "3626947d",
   "metadata": {},
   "outputs": [
    {
     "name": "stdout",
     "output_type": "stream",
     "text": [
      "{'cost': [12000, 7000, 13000, 9000, 8000],\n",
      " 'names': ['vivo', 'samsung', 'iphone', 'one plus', 'mi'],\n",
      " 'quantity': [50, 60, 30, 45, 10],\n",
      " 'ram': ['4gb', '4gb', '4gb', '4gb', '4gb']}\n"
     ]
    }
   ],
   "source": [
    "pprint(mobiles)"
   ]
  },
  {
   "cell_type": "code",
   "execution_count": 9,
   "id": "abb8d34f",
   "metadata": {},
   "outputs": [
    {
     "name": "stdout",
     "output_type": "stream",
     "text": [
      "dict_keys(['names', 'ram', 'cost', 'quantity'])\n"
     ]
    }
   ],
   "source": [
    "pprint(mobiles.keys())"
   ]
  },
  {
   "cell_type": "code",
   "execution_count": 10,
   "id": "54fde7cc",
   "metadata": {},
   "outputs": [
    {
     "name": "stdout",
     "output_type": "stream",
     "text": [
      "dict_values([['vivo', 'samsung', 'iphone', 'one plus', 'mi'], ['4gb', '4gb', '4gb', '4gb', '4gb'], [12000, 7000, 13000, 9000, 8000], [50, 60, 30, 45, 10]])\n"
     ]
    }
   ],
   "source": [
    "pprint(mobiles.values())"
   ]
  },
  {
   "cell_type": "code",
   "execution_count": 11,
   "id": "847a7c76",
   "metadata": {},
   "outputs": [
    {
     "name": "stdout",
     "output_type": "stream",
     "text": [
      "dict_items([('names', ['vivo', 'samsung', 'iphone', 'one plus', 'mi']), ('ram', ['4gb', '4gb', '4gb', '4gb', '4gb']), ('cost', [12000, 7000, 13000, 9000, 8000]), ('quantity', [50, 60, 30, 45, 10])])\n"
     ]
    }
   ],
   "source": [
    "pprint(mobiles.items())"
   ]
  },
  {
   "cell_type": "code",
   "execution_count": 12,
   "id": "7dace699",
   "metadata": {},
   "outputs": [
    {
     "name": "stdout",
     "output_type": "stream",
     "text": [
      "None\n"
     ]
    }
   ],
   "source": [
    "pprint(mobiles.clear())"
   ]
  },
  {
   "cell_type": "code",
   "execution_count": 13,
   "id": "a95662c7",
   "metadata": {},
   "outputs": [],
   "source": [
    "mobiles.update(names='motorola',quantity=90)"
   ]
  },
  {
   "cell_type": "code",
   "execution_count": 14,
   "id": "6056febd",
   "metadata": {},
   "outputs": [
    {
     "name": "stdout",
     "output_type": "stream",
     "text": [
      "{'names': 'motorola', 'quantity': 90}\n"
     ]
    }
   ],
   "source": [
    "pprint(mobiles)"
   ]
  },
  {
   "cell_type": "code",
   "execution_count": 15,
   "id": "0436ba7d",
   "metadata": {},
   "outputs": [
    {
     "name": "stdout",
     "output_type": "stream",
     "text": [
      "{'names': 'motorola', 'quantity': 90}\n"
     ]
    }
   ],
   "source": [
    "print(mobiles)"
   ]
  },
  {
   "cell_type": "code",
   "execution_count": 16,
   "id": "9736ddc4",
   "metadata": {},
   "outputs": [
    {
     "name": "stdout",
     "output_type": "stream",
     "text": [
      "dict_items([('names', 'motorola'), ('quantity', 90)])\n"
     ]
    }
   ],
   "source": [
    "pprint(mobiles.items())"
   ]
  },
  {
   "cell_type": "code",
   "execution_count": 17,
   "id": "87c7a0ce",
   "metadata": {},
   "outputs": [
    {
     "name": "stdout",
     "output_type": "stream",
     "text": [
      "None\n"
     ]
    }
   ],
   "source": [
    "pprint(mobiles.update(mobiles))"
   ]
  },
  {
   "cell_type": "code",
   "execution_count": 18,
   "id": "d97eb2a4",
   "metadata": {},
   "outputs": [],
   "source": [
    "mobiles2={\n",
    "    \"names\":[\"vivo\",'samsung','iphone','one plus','mi'],\n",
    "    \"ram\":['4gb','4gb','4gb','4gb','4gb'],\n",
    "    \"cost\":[12000,7000,8000,9000,8000],\n",
    "    \"quantity\":[50,60,30,45,10]\n",
    "}"
   ]
  },
  {
   "cell_type": "code",
   "execution_count": 19,
   "id": "f0281560",
   "metadata": {},
   "outputs": [
    {
     "name": "stdout",
     "output_type": "stream",
     "text": [
      "None\n"
     ]
    }
   ],
   "source": [
    "pprint(mobiles.update(mobiles2))"
   ]
  },
  {
   "cell_type": "code",
   "execution_count": 20,
   "id": "60a77e11",
   "metadata": {},
   "outputs": [
    {
     "name": "stdout",
     "output_type": "stream",
     "text": [
      "{'cost': [12000, 7000, 8000, 9000, 8000],\n",
      " 'names': ['vivo', 'samsung', 'iphone', 'one plus', 'mi'],\n",
      " 'quantity': [50, 60, 30, 45, 10],\n",
      " 'ram': ['4gb', '4gb', '4gb', '4gb', '4gb']}\n"
     ]
    }
   ],
   "source": [
    "pprint(mobiles)"
   ]
  },
  {
   "cell_type": "code",
   "execution_count": 21,
   "id": "6f961431",
   "metadata": {},
   "outputs": [
    {
     "data": {
      "text/plain": [
       "('cost', [12000, 7000, 8000, 9000, 8000])"
      ]
     },
     "execution_count": 21,
     "metadata": {},
     "output_type": "execute_result"
    }
   ],
   "source": [
    "mobiles.popitem()"
   ]
  },
  {
   "cell_type": "code",
   "execution_count": 22,
   "id": "239cf669",
   "metadata": {},
   "outputs": [
    {
     "name": "stdout",
     "output_type": "stream",
     "text": [
      "{'names': ['vivo', 'samsung', 'iphone', 'one plus', 'mi'], 'quantity': [50, 60, 30, 45, 10], 'ram': ['4gb', '4gb', '4gb', '4gb', '4gb']}\n"
     ]
    }
   ],
   "source": [
    "print(mobiles)"
   ]
  },
  {
   "cell_type": "code",
   "execution_count": null,
   "id": "e323b0b4",
   "metadata": {},
   "outputs": [],
   "source": []
  }
 ],
 "metadata": {
  "kernelspec": {
   "display_name": "Python 3 (ipykernel)",
   "language": "python",
   "name": "python3"
  },
  "language_info": {
   "codemirror_mode": {
    "name": "ipython",
    "version": 3
   },
   "file_extension": ".py",
   "mimetype": "text/x-python",
   "name": "python",
   "nbconvert_exporter": "python",
   "pygments_lexer": "ipython3",
   "version": "3.10.5"
  }
 },
 "nbformat": 4,
 "nbformat_minor": 5
}
