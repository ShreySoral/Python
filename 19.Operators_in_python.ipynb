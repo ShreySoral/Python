{
 "cells": [
  {
   "cell_type": "markdown",
   "id": "5dc3faee",
   "metadata": {},
   "source": [
    "### Operators\n",
    "     special functions used to perform operations on data types\n",
    "     operands -> data types\n",
    "\n",
    "### TYPES OF OPERATORS\n",
    "\n",
    "    1. Unary operators:- one operand and one operator\n",
    "        -5,~4,not True\n",
    "    2. Binary operators:- two operands and one operator\n",
    "        4+5,5>6\n",
    "    3. Ternary operators:- three operands and two operators\n",
    "        true: 1?0\n",
    "        \n",
    "### Arithmetic operators\n",
    "    + add \n",
    "    - subtract\n",
    "    * multiplication\n",
    "    / division\n",
    "    // floor division\n",
    "    %  remainder operator\n",
    "    ** exponent/power\n",
    "    \n",
    "### Comparision operators\n",
    "    <  greater\n",
    "    >  less\n",
    "    >= greater than or equal to\n",
    "    <= less than or equal to\n",
    "    == equals\n",
    "    != not equals to\n",
    "    \n",
    "### Logical Operators\n",
    "    or logical or\n",
    "    AND logical and\n",
    "    Not logical not\n",
    "    \n",
    "### Membership operators\n",
    "    in \n",
    "    not in\n",
    "    \n",
    "### identity operators\n",
    "    is\n",
    "    is not\n",
    "    \n",
    "### Assignment operators\n",
    "    =\n",
    "    +=\n",
    "    -=\n",
    "    *=\n",
    "    /=\n",
    "\n",
    "### Bitwise operators\n",
    "    & bitwise and\n",
    "    | bitwise or\n",
    "    ~ bitwise negation\n",
    "    ^ bitwise xor\n",
    "    >> right shift\n",
    "    << left shift"
   ]
  },
  {
   "cell_type": "code",
   "execution_count": 1,
   "id": "fe82a7e4",
   "metadata": {},
   "outputs": [
    {
     "name": "stdout",
     "output_type": "stream",
     "text": [
      "20\n"
     ]
    }
   ],
   "source": [
    "a=10\n",
    "b=10\n",
    "r=a+b\n",
    "print(r)"
   ]
  },
  {
   "cell_type": "code",
   "execution_count": 3,
   "id": "11e16867",
   "metadata": {},
   "outputs": [
    {
     "name": "stdout",
     "output_type": "stream",
     "text": [
      "Enter a number20\n",
      "square root of 20.0 is 4.47213595499958\n"
     ]
    }
   ],
   "source": [
    "import math\n",
    "num=float(input(\"Enter a number\"))\n",
    "sq=math.sqrt(num)\n",
    "print(f\"square root of {num} is {sq}\")"
   ]
  },
  {
   "cell_type": "code",
   "execution_count": 4,
   "id": "8a5b993e",
   "metadata": {},
   "outputs": [
    {
     "name": "stdout",
     "output_type": "stream",
     "text": [
      "5.113495464043401\n"
     ]
    }
   ],
   "source": [
    "num=129866\n",
    "lg=math.log10(num)\n",
    "print(lg)"
   ]
  },
  {
   "cell_type": "code",
   "execution_count": 7,
   "id": "a60b9c27",
   "metadata": {},
   "outputs": [
    {
     "name": "stdout",
     "output_type": "stream",
     "text": [
      "num8\n",
      "floor,8\n"
     ]
    }
   ],
   "source": [
    "num=float(input(\"num\"))\n",
    "print(f'floor,{math.floor(num)}')"
   ]
  },
  {
   "cell_type": "code",
   "execution_count": 8,
   "id": "1fda922c",
   "metadata": {},
   "outputs": [
    {
     "name": "stdout",
     "output_type": "stream",
     "text": [
      "3\n"
     ]
    }
   ],
   "source": [
    "print(22//7)"
   ]
  },
  {
   "cell_type": "code",
   "execution_count": 9,
   "id": "1883ad4b",
   "metadata": {},
   "outputs": [
    {
     "name": "stdout",
     "output_type": "stream",
     "text": [
      "3.142857142857143\n"
     ]
    }
   ],
   "source": [
    "print(22/7)"
   ]
  },
  {
   "cell_type": "code",
   "execution_count": 10,
   "id": "ab88dd31",
   "metadata": {},
   "outputs": [
    {
     "name": "stdout",
     "output_type": "stream",
     "text": [
      "1\n"
     ]
    }
   ],
   "source": [
    "print(22%7)"
   ]
  },
  {
   "cell_type": "code",
   "execution_count": null,
   "id": "21297068",
   "metadata": {},
   "outputs": [],
   "source": []
  }
 ],
 "metadata": {
  "kernelspec": {
   "display_name": "Python 3 (ipykernel)",
   "language": "python",
   "name": "python3"
  },
  "language_info": {
   "codemirror_mode": {
    "name": "ipython",
    "version": 3
   },
   "file_extension": ".py",
   "mimetype": "text/x-python",
   "name": "python",
   "nbconvert_exporter": "python",
   "pygments_lexer": "ipython3",
   "version": "3.10.5"
  }
 },
 "nbformat": 4,
 "nbformat_minor": 5
}
