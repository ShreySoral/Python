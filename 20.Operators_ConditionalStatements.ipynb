{
 "cells": [
  {
   "cell_type": "markdown",
   "id": "7cfc77e7",
   "metadata": {},
   "source": [
    "### Operators"
   ]
  },
  {
   "cell_type": "code",
   "execution_count": 3,
   "id": "010c0238",
   "metadata": {},
   "outputs": [],
   "source": [
    "a = [ 355, 3677, 355]"
   ]
  },
  {
   "cell_type": "code",
   "execution_count": 4,
   "id": "5f5cc5bd",
   "metadata": {},
   "outputs": [
    {
     "name": "stdout",
     "output_type": "stream",
     "text": [
      "2408581578800\n",
      "2408581578800\n"
     ]
    }
   ],
   "source": [
    "print(id(a[0]))\n",
    "print(id(a[2]))"
   ]
  },
  {
   "cell_type": "code",
   "execution_count": 5,
   "id": "630d557c",
   "metadata": {},
   "outputs": [
    {
     "name": "stdout",
     "output_type": "stream",
     "text": [
      "2408581578864 2408581579088\n"
     ]
    }
   ],
   "source": [
    "a  = 355\n",
    "b = 355\n",
    "print(id(a), id(b))"
   ]
  },
  {
   "cell_type": "code",
   "execution_count": 6,
   "id": "1fde9dc7",
   "metadata": {},
   "outputs": [],
   "source": [
    "c = [ a, 100, b]"
   ]
  },
  {
   "cell_type": "code",
   "execution_count": 7,
   "id": "431524ef",
   "metadata": {},
   "outputs": [
    {
     "name": "stdout",
     "output_type": "stream",
     "text": [
      "[355, 100, 355]\n"
     ]
    }
   ],
   "source": [
    "print(c)"
   ]
  },
  {
   "cell_type": "code",
   "execution_count": 8,
   "id": "ef0fbc36",
   "metadata": {},
   "outputs": [
    {
     "name": "stdout",
     "output_type": "stream",
     "text": [
      "2408581578864\n",
      "2408581579088\n"
     ]
    }
   ],
   "source": [
    "print(id(c[0]))\n",
    "print(id(c[2]))"
   ]
  },
  {
   "cell_type": "markdown",
   "id": "1e730722",
   "metadata": {},
   "source": [
    "`shallow copy & deep copy`"
   ]
  },
  {
   "cell_type": "markdown",
   "id": "0358b182",
   "metadata": {},
   "source": [
    "#### Operators \n",
    "\n",
    "    Comparision Operators "
   ]
  },
  {
   "cell_type": "markdown",
   "id": "768a8a47",
   "metadata": {},
   "source": [
    "### Type Casting\n",
    "\n",
    "    converting a type into another type"
   ]
  },
  {
   "cell_type": "code",
   "execution_count": 12,
   "id": "c975b372",
   "metadata": {},
   "outputs": [],
   "source": [
    "s = \"hello\"\n",
    "\n",
    "x = list(s)"
   ]
  },
  {
   "cell_type": "code",
   "execution_count": 13,
   "id": "89c71f67",
   "metadata": {},
   "outputs": [
    {
     "name": "stdout",
     "output_type": "stream",
     "text": [
      "['h', 'e', 'l', 'l', 'o']\n"
     ]
    }
   ],
   "source": [
    "print(x)"
   ]
  },
  {
   "cell_type": "code",
   "execution_count": 9,
   "id": "1f29e25d",
   "metadata": {},
   "outputs": [
    {
     "data": {
      "text/plain": [
       "5"
      ]
     },
     "execution_count": 9,
     "metadata": {},
     "output_type": "execute_result"
    }
   ],
   "source": [
    "int(\"5\")"
   ]
  },
  {
   "cell_type": "code",
   "execution_count": 10,
   "id": "3cfc12a4",
   "metadata": {},
   "outputs": [
    {
     "data": {
      "text/plain": [
       "5.6"
      ]
     },
     "execution_count": 10,
     "metadata": {},
     "output_type": "execute_result"
    }
   ],
   "source": [
    "float(\"5.6\")"
   ]
  },
  {
   "cell_type": "code",
   "execution_count": 11,
   "id": "0e367696",
   "metadata": {},
   "outputs": [
    {
     "data": {
      "text/plain": [
       "'5'"
      ]
     },
     "execution_count": 11,
     "metadata": {},
     "output_type": "execute_result"
    }
   ],
   "source": [
    "str(5)"
   ]
  },
  {
   "cell_type": "code",
   "execution_count": 18,
   "id": "6e4e29c0",
   "metadata": {},
   "outputs": [],
   "source": [
    "data = [ [] ]* 5"
   ]
  },
  {
   "cell_type": "code",
   "execution_count": 19,
   "id": "6849c16a",
   "metadata": {},
   "outputs": [
    {
     "name": "stdout",
     "output_type": "stream",
     "text": [
      "[[], [], [], [], []]\n"
     ]
    }
   ],
   "source": [
    "print(data)"
   ]
  },
  {
   "cell_type": "code",
   "execution_count": 20,
   "id": "8124587f",
   "metadata": {},
   "outputs": [
    {
     "name": "stdout",
     "output_type": "stream",
     "text": [
      "2408581160576\n"
     ]
    }
   ],
   "source": [
    "print(id(data[0]))"
   ]
  },
  {
   "cell_type": "code",
   "execution_count": 21,
   "id": "4ab47f19",
   "metadata": {},
   "outputs": [
    {
     "name": "stdout",
     "output_type": "stream",
     "text": [
      "2408581160576\n"
     ]
    }
   ],
   "source": [
    "print(id(data[1]))"
   ]
  },
  {
   "cell_type": "code",
   "execution_count": 22,
   "id": "ea7a4812",
   "metadata": {},
   "outputs": [
    {
     "name": "stdout",
     "output_type": "stream",
     "text": [
      "2408581160576\n"
     ]
    }
   ],
   "source": [
    "print(id(data[2]))"
   ]
  },
  {
   "cell_type": "code",
   "execution_count": 23,
   "id": "78ec917a",
   "metadata": {},
   "outputs": [
    {
     "name": "stdout",
     "output_type": "stream",
     "text": [
      "2408581160576\n"
     ]
    }
   ],
   "source": [
    "print(id(data[3]))"
   ]
  },
  {
   "cell_type": "code",
   "execution_count": 14,
   "id": "fe113a02",
   "metadata": {},
   "outputs": [],
   "source": [
    "data = [ [] ]* 5"
   ]
  },
  {
   "cell_type": "code",
   "execution_count": 15,
   "id": "6bc523a2",
   "metadata": {},
   "outputs": [
    {
     "name": "stdout",
     "output_type": "stream",
     "text": [
      "[[], [], [], [], []]\n"
     ]
    }
   ],
   "source": [
    "print(data)"
   ]
  },
  {
   "cell_type": "code",
   "execution_count": 16,
   "id": "326b7dec",
   "metadata": {},
   "outputs": [],
   "source": [
    "data[0].append(\"hi\")"
   ]
  },
  {
   "cell_type": "code",
   "execution_count": 17,
   "id": "60455c7d",
   "metadata": {},
   "outputs": [
    {
     "name": "stdout",
     "output_type": "stream",
     "text": [
      "[['hi'], ['hi'], ['hi'], ['hi'], ['hi']]\n"
     ]
    }
   ],
   "source": [
    "print(data)"
   ]
  },
  {
   "cell_type": "code",
   "execution_count": 24,
   "id": "b670bce2",
   "metadata": {},
   "outputs": [
    {
     "name": "stdout",
     "output_type": "stream",
     "text": [
      "[[], [], [], [], []]\n",
      "[[45], [45], [45], [45], [45]]\n"
     ]
    }
   ],
   "source": [
    "data = [ [] ]* 5\n",
    "print(data)\n",
    "\n",
    "data[0].append(45)\n",
    "print(data)"
   ]
  },
  {
   "cell_type": "code",
   "execution_count": 25,
   "id": "3c8552f9",
   "metadata": {},
   "outputs": [],
   "source": [
    "a = [] # line -1\n",
    "\n",
    "b = a\n",
    "c = a\n",
    "d = a"
   ]
  },
  {
   "cell_type": "code",
   "execution_count": 26,
   "id": "e1d94aa6",
   "metadata": {},
   "outputs": [],
   "source": [
    "a.append('ha ha ha')"
   ]
  },
  {
   "cell_type": "code",
   "execution_count": 27,
   "id": "01b592c7",
   "metadata": {},
   "outputs": [
    {
     "name": "stdout",
     "output_type": "stream",
     "text": [
      "['ha ha ha']\n"
     ]
    }
   ],
   "source": [
    "print(b)"
   ]
  },
  {
   "cell_type": "code",
   "execution_count": 28,
   "id": "fc8c403d",
   "metadata": {},
   "outputs": [
    {
     "name": "stdout",
     "output_type": "stream",
     "text": [
      "['ha ha ha']\n"
     ]
    }
   ],
   "source": [
    "print(c)"
   ]
  },
  {
   "cell_type": "code",
   "execution_count": 29,
   "id": "ad514d89",
   "metadata": {},
   "outputs": [
    {
     "name": "stdout",
     "output_type": "stream",
     "text": [
      "['ha ha ha']\n"
     ]
    }
   ],
   "source": [
    "print(d)"
   ]
  },
  {
   "cell_type": "markdown",
   "id": "2533fe35",
   "metadata": {},
   "source": [
    "#### Boolean Data Type\n",
    "\n",
    "    True    --> yes / 1 \n",
    "    \n",
    "    False   --> no / 0"
   ]
  },
  {
   "cell_type": "code",
   "execution_count": 30,
   "id": "daa75cad",
   "metadata": {},
   "outputs": [
    {
     "data": {
      "text/plain": [
       "True"
      ]
     },
     "execution_count": 30,
     "metadata": {},
     "output_type": "execute_result"
    }
   ],
   "source": [
    "bool(\"lsdfk\")"
   ]
  },
  {
   "cell_type": "code",
   "execution_count": 31,
   "id": "f853cb0d",
   "metadata": {},
   "outputs": [
    {
     "data": {
      "text/plain": [
       "False"
      ]
     },
     "execution_count": 31,
     "metadata": {},
     "output_type": "execute_result"
    }
   ],
   "source": [
    "bool(0)"
   ]
  },
  {
   "cell_type": "code",
   "execution_count": 32,
   "id": "ecb42b11",
   "metadata": {},
   "outputs": [
    {
     "data": {
      "text/plain": [
       "True"
      ]
     },
     "execution_count": 32,
     "metadata": {},
     "output_type": "execute_result"
    }
   ],
   "source": [
    "bool(100)"
   ]
  },
  {
   "cell_type": "code",
   "execution_count": 33,
   "id": "ed380564",
   "metadata": {},
   "outputs": [
    {
     "data": {
      "text/plain": [
       "False"
      ]
     },
     "execution_count": 33,
     "metadata": {},
     "output_type": "execute_result"
    }
   ],
   "source": [
    "bool(\"\")"
   ]
  },
  {
   "cell_type": "code",
   "execution_count": 34,
   "id": "5a4c6157",
   "metadata": {},
   "outputs": [
    {
     "data": {
      "text/plain": [
       "True"
      ]
     },
     "execution_count": 34,
     "metadata": {},
     "output_type": "execute_result"
    }
   ],
   "source": [
    "bool(\" \")"
   ]
  },
  {
   "cell_type": "markdown",
   "id": "dd132ad7",
   "metadata": {},
   "source": [
    "    func_name() -> functon calling\n",
    "    (5*6) -> expression\n",
    "    (item1, item2) -> tuple"
   ]
  },
  {
   "cell_type": "code",
   "execution_count": 40,
   "id": "8bba39a2",
   "metadata": {},
   "outputs": [
    {
     "name": "stdout",
     "output_type": "stream",
     "text": [
      "() <class 'tuple'>\n"
     ]
    }
   ],
   "source": [
    "t = ()\n",
    "print(t, type(t))"
   ]
  },
  {
   "cell_type": "code",
   "execution_count": 36,
   "id": "0f5db529",
   "metadata": {},
   "outputs": [
    {
     "name": "stdout",
     "output_type": "stream",
     "text": [
      "()\n"
     ]
    }
   ],
   "source": [
    "t = tuple()\n",
    "print(t)"
   ]
  },
  {
   "cell_type": "code",
   "execution_count": 42,
   "id": "c25fd2f9",
   "metadata": {},
   "outputs": [
    {
     "name": "stdout",
     "output_type": "stream",
     "text": [
      "{'k': 'v'} <class 'dict'>\n"
     ]
    }
   ],
   "source": [
    "d1 = {'k':'v'}\n",
    "print(d1, type(d1))"
   ]
  },
  {
   "cell_type": "code",
   "execution_count": 43,
   "id": "11390dfa",
   "metadata": {},
   "outputs": [
    {
     "name": "stdout",
     "output_type": "stream",
     "text": [
      "{1} <class 'set'>\n"
     ]
    }
   ],
   "source": [
    "s = {1}\n",
    "print(s, type(s))"
   ]
  },
  {
   "cell_type": "code",
   "execution_count": 41,
   "id": "85daae5e",
   "metadata": {},
   "outputs": [
    {
     "name": "stdout",
     "output_type": "stream",
     "text": [
      "{} <class 'dict'>\n"
     ]
    }
   ],
   "source": [
    "s = {}\n",
    "print(s, type(s))"
   ]
  },
  {
   "cell_type": "code",
   "execution_count": 44,
   "id": "46a687a0",
   "metadata": {},
   "outputs": [
    {
     "name": "stdout",
     "output_type": "stream",
     "text": [
      "set() <class 'set'>\n"
     ]
    }
   ],
   "source": [
    "s = set()\n",
    "print(s, type(s))"
   ]
  },
  {
   "cell_type": "markdown",
   "id": "3aaec831",
   "metadata": {},
   "source": [
    "### Frozensets \n",
    "\n",
    "    immutable sets"
   ]
  },
  {
   "cell_type": "code",
   "execution_count": 45,
   "id": "1db08d8a",
   "metadata": {},
   "outputs": [
    {
     "name": "stdout",
     "output_type": "stream",
     "text": [
      "frozenset({1, 2, 3, 4, 5}) <class 'frozenset'>\n"
     ]
    }
   ],
   "source": [
    "s1 = frozenset([1, 2, 3, 4, 5, 4, 5, 3, 2,1 ])\n",
    "print(s1, type(s1))"
   ]
  },
  {
   "cell_type": "code",
   "execution_count": 46,
   "id": "130a255e",
   "metadata": {},
   "outputs": [
    {
     "name": "stdout",
     "output_type": "stream",
     "text": [
      "['__and__', '__class__', '__class_getitem__', '__contains__', '__delattr__', '__dir__', '__doc__', '__eq__', '__format__', '__ge__', '__getattribute__', '__gt__', '__hash__', '__init__', '__init_subclass__', '__iter__', '__le__', '__len__', '__lt__', '__ne__', '__new__', '__or__', '__rand__', '__reduce__', '__reduce_ex__', '__repr__', '__ror__', '__rsub__', '__rxor__', '__setattr__', '__sizeof__', '__str__', '__sub__', '__subclasshook__', '__xor__', 'copy', 'difference', 'intersection', 'isdisjoint', 'issubset', 'issuperset', 'symmetric_difference', 'union']\n"
     ]
    }
   ],
   "source": [
    "print(dir(s1))"
   ]
  },
  {
   "cell_type": "markdown",
   "id": "7d43fd84",
   "metadata": {},
   "source": [
    "    What values behave as False \n",
    "    \n",
    "        any empty object is considered as False in Python\n",
    "        \n",
    "        0, None, \"\", [], () / tuple(), {}, set(), frozenset(), ..."
   ]
  },
  {
   "cell_type": "code",
   "execution_count": 47,
   "id": "0c095a93",
   "metadata": {},
   "outputs": [
    {
     "data": {
      "text/plain": [
       "True"
      ]
     },
     "execution_count": 47,
     "metadata": {},
     "output_type": "execute_result"
    }
   ],
   "source": [
    "bool(1)"
   ]
  },
  {
   "cell_type": "code",
   "execution_count": 48,
   "id": "a8aef008",
   "metadata": {},
   "outputs": [
    {
     "data": {
      "text/plain": [
       "True"
      ]
     },
     "execution_count": 48,
     "metadata": {},
     "output_type": "execute_result"
    }
   ],
   "source": [
    "bool(-10)"
   ]
  },
  {
   "cell_type": "code",
   "execution_count": 49,
   "id": "ce338c36",
   "metadata": {},
   "outputs": [
    {
     "data": {
      "text/plain": [
       "False"
      ]
     },
     "execution_count": 49,
     "metadata": {},
     "output_type": "execute_result"
    }
   ],
   "source": [
    "bool(0)"
   ]
  },
  {
   "cell_type": "code",
   "execution_count": 50,
   "id": "874b8367",
   "metadata": {},
   "outputs": [
    {
     "data": {
      "text/plain": [
       "True"
      ]
     },
     "execution_count": 50,
     "metadata": {},
     "output_type": "execute_result"
    }
   ],
   "source": [
    "bool(\" \")"
   ]
  },
  {
   "cell_type": "code",
   "execution_count": 51,
   "id": "89971787",
   "metadata": {},
   "outputs": [
    {
     "data": {
      "text/plain": [
       "False"
      ]
     },
     "execution_count": 51,
     "metadata": {},
     "output_type": "execute_result"
    }
   ],
   "source": [
    "bool(\"\")"
   ]
  },
  {
   "cell_type": "code",
   "execution_count": 56,
   "id": "85074745",
   "metadata": {},
   "outputs": [],
   "source": [
    "if len([]):\n",
    "    print('false so it will not run')"
   ]
  },
  {
   "cell_type": "code",
   "execution_count": 58,
   "id": "21a9811b",
   "metadata": {},
   "outputs": [
    {
     "name": "stdout",
     "output_type": "stream",
     "text": [
      "becasuse i know empty list is False\n"
     ]
    }
   ],
   "source": [
    "if [\"\"]:\n",
    "    print('becasuse i know empty list is False')"
   ]
  },
  {
   "cell_type": "code",
   "execution_count": 62,
   "id": "75f4ea7e",
   "metadata": {},
   "outputs": [
    {
     "name": "stdout",
     "output_type": "stream",
     "text": [
      "then false\n"
     ]
    }
   ],
   "source": [
    "if not []:\n",
    "    print('then false')"
   ]
  },
  {
   "cell_type": "code",
   "execution_count": 61,
   "id": "48445fc9",
   "metadata": {},
   "outputs": [
    {
     "name": "stdout",
     "output_type": "stream",
     "text": [
      "then false\n"
     ]
    }
   ],
   "source": [
    "if len([]) == 0:\n",
    "    print('then false')"
   ]
  },
  {
   "cell_type": "code",
   "execution_count": 55,
   "id": "c9dc09b4",
   "metadata": {},
   "outputs": [
    {
     "name": "stdout",
     "output_type": "stream",
     "text": [
      "1\n"
     ]
    }
   ],
   "source": [
    "s = [\"\"]\n",
    "x = len(s)\n",
    "print(x)"
   ]
  },
  {
   "cell_type": "code",
   "execution_count": 52,
   "id": "a9181de3",
   "metadata": {},
   "outputs": [
    {
     "data": {
      "text/plain": [
       "True"
      ]
     },
     "execution_count": 52,
     "metadata": {},
     "output_type": "execute_result"
    }
   ],
   "source": [
    "bool([\"\"]) # list -> [ 0-> id-1123] # id1123 => \"\""
   ]
  },
  {
   "cell_type": "code",
   "execution_count": null,
   "id": "7623d9db",
   "metadata": {},
   "outputs": [],
   "source": [
    "bool([1,])"
   ]
  },
  {
   "cell_type": "code",
   "execution_count": 53,
   "id": "d3eaff4d",
   "metadata": {},
   "outputs": [
    {
     "data": {
      "text/plain": [
       "False"
      ]
     },
     "execution_count": 53,
     "metadata": {},
     "output_type": "execute_result"
    }
   ],
   "source": [
    "bool([])"
   ]
  },
  {
   "cell_type": "code",
   "execution_count": 54,
   "id": "807c70a3",
   "metadata": {},
   "outputs": [
    {
     "data": {
      "text/plain": [
       "False"
      ]
     },
     "execution_count": 54,
     "metadata": {},
     "output_type": "execute_result"
    }
   ],
   "source": [
    "bool({})"
   ]
  },
  {
   "cell_type": "code",
   "execution_count": 60,
   "id": "855d080c",
   "metadata": {},
   "outputs": [
    {
     "data": {
      "text/plain": [
       "True"
      ]
     },
     "execution_count": 60,
     "metadata": {},
     "output_type": "execute_result"
    }
   ],
   "source": [
    "bool({()})"
   ]
  },
  {
   "cell_type": "code",
   "execution_count": 64,
   "id": "8e1729b4",
   "metadata": {},
   "outputs": [
    {
     "data": {
      "text/plain": [
       "140723613980776"
      ]
     },
     "execution_count": 64,
     "metadata": {},
     "output_type": "execute_result"
    }
   ],
   "source": [
    "id(True)"
   ]
  },
  {
   "cell_type": "code",
   "execution_count": 66,
   "id": "99e7aac9",
   "metadata": {},
   "outputs": [
    {
     "data": {
      "text/plain": [
       "1"
      ]
     },
     "execution_count": 66,
     "metadata": {},
     "output_type": "execute_result"
    }
   ],
   "source": [
    "int(True) # true"
   ]
  },
  {
   "cell_type": "code",
   "execution_count": 67,
   "id": "436bd0b9",
   "metadata": {},
   "outputs": [
    {
     "data": {
      "text/plain": [
       "0"
      ]
     },
     "execution_count": 67,
     "metadata": {},
     "output_type": "execute_result"
    }
   ],
   "source": [
    "int(False)"
   ]
  },
  {
   "cell_type": "code",
   "execution_count": 68,
   "id": "d3209e78",
   "metadata": {},
   "outputs": [
    {
     "data": {
      "text/plain": [
       "'True'"
      ]
     },
     "execution_count": 68,
     "metadata": {},
     "output_type": "execute_result"
    }
   ],
   "source": [
    "str(True)"
   ]
  },
  {
   "cell_type": "code",
   "execution_count": 69,
   "id": "08463f54",
   "metadata": {},
   "outputs": [
    {
     "data": {
      "text/plain": [
       "'False'"
      ]
     },
     "execution_count": 69,
     "metadata": {},
     "output_type": "execute_result"
    }
   ],
   "source": [
    "str(False)"
   ]
  },
  {
   "cell_type": "code",
   "execution_count": 65,
   "id": "9d9ced03",
   "metadata": {},
   "outputs": [
    {
     "data": {
      "text/plain": [
       "2408494754096"
      ]
     },
     "execution_count": 65,
     "metadata": {},
     "output_type": "execute_result"
    }
   ],
   "source": [
    "id(1)"
   ]
  },
  {
   "cell_type": "code",
   "execution_count": 63,
   "id": "16568e8e",
   "metadata": {},
   "outputs": [
    {
     "data": {
      "text/plain": [
       "False"
      ]
     },
     "execution_count": 63,
     "metadata": {},
     "output_type": "execute_result"
    }
   ],
   "source": [
    "True\n",
    "\n",
    "\n",
    "False"
   ]
  },
  {
   "cell_type": "markdown",
   "id": "df6a9aaa",
   "metadata": {},
   "source": [
    "    empty objects can be considered as False\n",
    "\n",
    "    vice versa non empty object can be considered as True"
   ]
  },
  {
   "cell_type": "markdown",
   "id": "0d840e04",
   "metadata": {},
   "source": [
    "                True\n",
    "    condition \n",
    "\n",
    "                False"
   ]
  },
  {
   "cell_type": "markdown",
   "id": "a8eca670",
   "metadata": {},
   "source": [
    "    4 > 5 -> expression\n",
    "    \n",
    "    int.__gt__(4, 5) --> compare 4 and 5 ko \n",
    "    \n",
    "    evaluation --> return value False\n",
    "    \n",
    "    \n",
    "    False"
   ]
  },
  {
   "cell_type": "markdown",
   "id": "b0314038",
   "metadata": {},
   "source": [
    "#### Comparision Operators \n",
    "\n",
    "    to compare two or more objects"
   ]
  },
  {
   "cell_type": "code",
   "execution_count": 71,
   "id": "1abfb333",
   "metadata": {},
   "outputs": [
    {
     "name": "stdout",
     "output_type": "stream",
     "text": [
      "False\n"
     ]
    }
   ],
   "source": [
    "a = 4 > 5\n",
    "\n",
    "print(a)"
   ]
  },
  {
   "cell_type": "code",
   "execution_count": 72,
   "id": "3a246eef",
   "metadata": {},
   "outputs": [
    {
     "name": "stdout",
     "output_type": "stream",
     "text": [
      "True\n"
     ]
    }
   ],
   "source": [
    "a = 5 < 6\n",
    "\n",
    "print(a)"
   ]
  },
  {
   "cell_type": "code",
   "execution_count": 73,
   "id": "82e5808b",
   "metadata": {},
   "outputs": [
    {
     "name": "stdout",
     "output_type": "stream",
     "text": [
      "False\n"
     ]
    }
   ],
   "source": [
    "b = 5 < 5\n",
    "print(b)"
   ]
  },
  {
   "cell_type": "code",
   "execution_count": 76,
   "id": "cf9c2eb1",
   "metadata": {},
   "outputs": [
    {
     "name": "stdout",
     "output_type": "stream",
     "text": [
      "True\n"
     ]
    }
   ],
   "source": [
    "c = (6 <= 7) # less than or equal \n",
    "print(c)"
   ]
  },
  {
   "cell_type": "code",
   "execution_count": 77,
   "id": "472ffe1d",
   "metadata": {},
   "outputs": [
    {
     "name": "stdout",
     "output_type": "stream",
     "text": [
      "False\n"
     ]
    }
   ],
   "source": [
    "c = 5 != 5 # not equals to \n",
    "print(c)"
   ]
  },
  {
   "cell_type": "code",
   "execution_count": 78,
   "id": "f2ce2779",
   "metadata": {},
   "outputs": [
    {
     "name": "stdout",
     "output_type": "stream",
     "text": [
      "True\n"
     ]
    }
   ],
   "source": [
    "c = 5 == 5\n",
    "print(c)"
   ]
  },
  {
   "cell_type": "markdown",
   "id": "156d3261",
   "metadata": {},
   "source": [
    "    >, <, >=, <= , ==, !="
   ]
  },
  {
   "cell_type": "code",
   "execution_count": 79,
   "id": "745ad2f7",
   "metadata": {},
   "outputs": [
    {
     "data": {
      "text/plain": [
       "False"
      ]
     },
     "execution_count": 79,
     "metadata": {},
     "output_type": "execute_result"
    }
   ],
   "source": [
    "\"hello\" == \"Hello\""
   ]
  },
  {
   "cell_type": "code",
   "execution_count": 81,
   "id": "65ca23d4",
   "metadata": {},
   "outputs": [
    {
     "data": {
      "text/plain": [
       "False"
      ]
     },
     "execution_count": 81,
     "metadata": {},
     "output_type": "execute_result"
    }
   ],
   "source": [
    "[1, 3, 2] == [1, 2, 3]"
   ]
  },
  {
   "cell_type": "code",
   "execution_count": 84,
   "id": "1e634555",
   "metadata": {},
   "outputs": [
    {
     "data": {
      "text/plain": [
       "False"
      ]
     },
     "execution_count": 84,
     "metadata": {},
     "output_type": "execute_result"
    }
   ],
   "source": [
    "{1, 2, 3, 4, 6} == {3, 2, 1, 4} # symmetric diffrence"
   ]
  },
  {
   "cell_type": "code",
   "execution_count": 87,
   "id": "fa3eb632",
   "metadata": {},
   "outputs": [],
   "source": [
    "d1 = {\"name\":\"sachin\", \"age\": 22}\n",
    "d2 = { \"age\": 22, \"name\":\"sachin\",}"
   ]
  },
  {
   "cell_type": "code",
   "execution_count": 88,
   "id": "a7324700",
   "metadata": {},
   "outputs": [
    {
     "name": "stdout",
     "output_type": "stream",
     "text": [
      "2408617129088\n",
      "2408601453184\n"
     ]
    }
   ],
   "source": [
    "print(id(d1))\n",
    "print(id(d2))"
   ]
  },
  {
   "cell_type": "code",
   "execution_count": 89,
   "id": "8c93a041",
   "metadata": {},
   "outputs": [
    {
     "data": {
      "text/plain": [
       "True"
      ]
     },
     "execution_count": 89,
     "metadata": {},
     "output_type": "execute_result"
    }
   ],
   "source": [
    "d1 == d2"
   ]
  },
  {
   "cell_type": "markdown",
   "id": "167ce851",
   "metadata": {},
   "source": [
    "    an object can have multiple refrences \n",
    "    \n",
    "    \n",
    "    multiple objects can contain same value"
   ]
  },
  {
   "cell_type": "code",
   "execution_count": 92,
   "id": "703fab6c",
   "metadata": {},
   "outputs": [],
   "source": [
    "#\"hello\" > \"World\""
   ]
  },
  {
   "cell_type": "markdown",
   "id": "e22a26ae",
   "metadata": {},
   "source": [
    "##### Logical Operator \n",
    "\n",
    "    or\n",
    "    \n",
    "    and \n",
    "    \n",
    "    not"
   ]
  },
  {
   "cell_type": "markdown",
   "id": "5ae354b4",
   "metadata": {},
   "source": [
    "    OR\n",
    "    \n",
    "    \n",
    "    \n",
    "    Wife                 Husband             winner\n",
    "    \n",
    "    \n",
    "    Wrong                  Wrong           tie\n",
    "    \n",
    "    Correct                Wrong           wife\n",
    "    \n",
    "    Wrong                  Correct         wife\n",
    "    \n",
    "    correct                correct         wife"
   ]
  },
  {
   "cell_type": "code",
   "execution_count": 93,
   "id": "e3ebd629",
   "metadata": {},
   "outputs": [
    {
     "data": {
      "text/plain": [
       "True"
      ]
     },
     "execution_count": 93,
     "metadata": {},
     "output_type": "execute_result"
    }
   ],
   "source": [
    "True or True "
   ]
  },
  {
   "cell_type": "code",
   "execution_count": 94,
   "id": "1836b048",
   "metadata": {},
   "outputs": [
    {
     "data": {
      "text/plain": [
       "True"
      ]
     },
     "execution_count": 94,
     "metadata": {},
     "output_type": "execute_result"
    }
   ],
   "source": [
    "True or False"
   ]
  },
  {
   "cell_type": "code",
   "execution_count": 95,
   "id": "bfbbf62e",
   "metadata": {},
   "outputs": [
    {
     "data": {
      "text/plain": [
       "True"
      ]
     },
     "execution_count": 95,
     "metadata": {},
     "output_type": "execute_result"
    }
   ],
   "source": [
    "False or True"
   ]
  },
  {
   "cell_type": "code",
   "execution_count": 96,
   "id": "0b232f33",
   "metadata": {},
   "outputs": [
    {
     "data": {
      "text/plain": [
       "False"
      ]
     },
     "execution_count": 96,
     "metadata": {},
     "output_type": "execute_result"
    }
   ],
   "source": [
    "False or False"
   ]
  },
  {
   "cell_type": "markdown",
   "id": "56bc371d",
   "metadata": {},
   "source": [
    "## OR \n",
    "\n",
    "    if first condition is True than it does not check second condtion\n",
    "    \n",
    "    "
   ]
  },
  {
   "cell_type": "code",
   "execution_count": 97,
   "id": "1b5e9079",
   "metadata": {},
   "outputs": [
    {
     "data": {
      "text/plain": [
       "True"
      ]
     },
     "execution_count": 97,
     "metadata": {},
     "output_type": "execute_result"
    }
   ],
   "source": [
    "True or print(\"hello world!\")"
   ]
  },
  {
   "cell_type": "markdown",
   "id": "7b9019fc",
   "metadata": {},
   "source": [
    "True or True\n",
    "True or False\n",
    "\n",
    "True"
   ]
  },
  {
   "cell_type": "code",
   "execution_count": 98,
   "id": "59392374",
   "metadata": {},
   "outputs": [
    {
     "name": "stdout",
     "output_type": "stream",
     "text": [
      "hello\n"
     ]
    }
   ],
   "source": [
    "a = print('hello')\n",
    "# a = None"
   ]
  },
  {
   "cell_type": "code",
   "execution_count": 99,
   "id": "ec863de6",
   "metadata": {},
   "outputs": [
    {
     "name": "stdout",
     "output_type": "stream",
     "text": [
      "None\n"
     ]
    }
   ],
   "source": [
    "print(a)"
   ]
  },
  {
   "cell_type": "code",
   "execution_count": 100,
   "id": "748864db",
   "metadata": {},
   "outputs": [
    {
     "name": "stdout",
     "output_type": "stream",
     "text": [
      "hello\n",
      "ha ha ha ! clear your basic\n"
     ]
    }
   ],
   "source": [
    "if print('hello'):\n",
    "    print('can you solve it ?')\n",
    "else:\n",
    "    print('ha ha ha ! clear your basic')\n"
   ]
  },
  {
   "cell_type": "code",
   "execution_count": 101,
   "id": "7831e6b6",
   "metadata": {},
   "outputs": [
    {
     "name": "stdout",
     "output_type": "stream",
     "text": [
      "ha ha ha ! clear your basic\n"
     ]
    }
   ],
   "source": [
    "if None:\n",
    "    print('can you solve it ?')\n",
    "else:\n",
    "    print('ha ha ha ! clear your basic')\n"
   ]
  },
  {
   "cell_type": "markdown",
   "id": "eba2ea11",
   "metadata": {},
   "source": [
    "    1. can you solve it ?\n",
    "    \n",
    "    2. ha ha ha ! clear your basics\n",
    "    \n",
    "    3. Error because print('hello') is not a condition\n",
    "    \n",
    "    4. nahi ptta"
   ]
  },
  {
   "cell_type": "code",
   "execution_count": 108,
   "id": "554e0048",
   "metadata": {},
   "outputs": [
    {
     "name": "stdout",
     "output_type": "stream",
     "text": [
      "ohh! good boy\n"
     ]
    }
   ],
   "source": [
    "if \"a\":\n",
    "    print(\"ohh! good boy\")\n",
    "else:\n",
    "    print(\"you need to work really hard\")"
   ]
  },
  {
   "cell_type": "code",
   "execution_count": 107,
   "id": "3ebae1f5",
   "metadata": {},
   "outputs": [
    {
     "name": "stdout",
     "output_type": "stream",
     "text": [
      "a\n",
      "ohh! good boy\n"
     ]
    }
   ],
   "source": [
    "if input():\n",
    "    print(\"ohh! good boy\")\n",
    "else:\n",
    "    print(\"you need to work really hard\")"
   ]
  },
  {
   "cell_type": "code",
   "execution_count": 106,
   "id": "74325999",
   "metadata": {},
   "outputs": [
    {
     "name": "stdout",
     "output_type": "stream",
     "text": [
      "you need to work really hard\n"
     ]
    }
   ],
   "source": [
    "if \"\":\n",
    "    print(\"ohh! good boy\")\n",
    "else:\n",
    "    print(\"you need to work really hard\")"
   ]
  },
  {
   "cell_type": "code",
   "execution_count": 105,
   "id": "74ab053f",
   "metadata": {},
   "outputs": [
    {
     "name": "stdout",
     "output_type": "stream",
     "text": [
      "\n",
      "you need to work really hard\n"
     ]
    }
   ],
   "source": [
    "if input():\n",
    "    print(\"ohh! good boy\")\n",
    "else:\n",
    "    print(\"you need to work really hard\")"
   ]
  },
  {
   "cell_type": "code",
   "execution_count": 104,
   "id": "5a310a95",
   "metadata": {},
   "outputs": [
    {
     "name": "stdout",
     "output_type": "stream",
     "text": [
      "\n",
      "''\n"
     ]
    }
   ],
   "source": [
    "a = input()\n",
    "print(repr(a))"
   ]
  },
  {
   "cell_type": "code",
   "execution_count": 111,
   "id": "a9d5025c",
   "metadata": {},
   "outputs": [
    {
     "name": "stdout",
     "output_type": "stream",
     "text": [
      "hello world!\n",
      "bye world!\n",
      "None False\n"
     ]
    }
   ],
   "source": [
    "cond = print(\"hello world!\") or print(\"bye world!\")\n",
    "\n",
    "print(cond, bool(cond))"
   ]
  },
  {
   "cell_type": "code",
   "execution_count": 112,
   "id": "bae67b3a",
   "metadata": {},
   "outputs": [],
   "source": [
    "if None or None:\n",
    "    print(\"false\")"
   ]
  },
  {
   "cell_type": "code",
   "execution_count": 113,
   "id": "7cbbe1e5",
   "metadata": {},
   "outputs": [
    {
     "name": "stdout",
     "output_type": "stream",
     "text": [
      "None\n"
     ]
    }
   ],
   "source": [
    "a = None or None\n",
    "print(a)"
   ]
  },
  {
   "cell_type": "code",
   "execution_count": 117,
   "id": "b3bb339e",
   "metadata": {},
   "outputs": [
    {
     "data": {
      "text/plain": [
       "True"
      ]
     },
     "execution_count": 117,
     "metadata": {},
     "output_type": "execute_result"
    }
   ],
   "source": [
    "True or True"
   ]
  },
  {
   "cell_type": "code",
   "execution_count": 118,
   "id": "93a1d5d1",
   "metadata": {},
   "outputs": [
    {
     "data": {
      "text/plain": [
       "True"
      ]
     },
     "execution_count": 118,
     "metadata": {},
     "output_type": "execute_result"
    }
   ],
   "source": [
    "True or False"
   ]
  },
  {
   "cell_type": "code",
   "execution_count": 119,
   "id": "f7744f95",
   "metadata": {},
   "outputs": [
    {
     "data": {
      "text/plain": [
       "True"
      ]
     },
     "execution_count": 119,
     "metadata": {},
     "output_type": "execute_result"
    }
   ],
   "source": [
    "False or True"
   ]
  },
  {
   "cell_type": "code",
   "execution_count": 120,
   "id": "a0ccb93c",
   "metadata": {},
   "outputs": [
    {
     "data": {
      "text/plain": [
       "False"
      ]
     },
     "execution_count": 120,
     "metadata": {},
     "output_type": "execute_result"
    }
   ],
   "source": [
    "False or False"
   ]
  },
  {
   "cell_type": "code",
   "execution_count": 121,
   "id": "fd29b81f",
   "metadata": {},
   "outputs": [
    {
     "data": {
      "text/plain": [
       "True"
      ]
     },
     "execution_count": 121,
     "metadata": {},
     "output_type": "execute_result"
    }
   ],
   "source": [
    "True and True # "
   ]
  },
  {
   "cell_type": "code",
   "execution_count": 122,
   "id": "2ae147f8",
   "metadata": {},
   "outputs": [
    {
     "name": "stdout",
     "output_type": "stream",
     "text": [
      "0 False\n"
     ]
    }
   ],
   "source": [
    "ans = 4 and 0\n",
    "print(ans, bool(ans))"
   ]
  },
  {
   "cell_type": "code",
   "execution_count": 125,
   "id": "1090226b",
   "metadata": {},
   "outputs": [
    {
     "name": "stdout",
     "output_type": "stream",
     "text": [
      "0 False\n"
     ]
    }
   ],
   "source": [
    "ans = 0 and print('hi')\n",
    "print(ans, bool(ans))"
   ]
  },
  {
   "cell_type": "code",
   "execution_count": 126,
   "id": "56dd3001",
   "metadata": {},
   "outputs": [
    {
     "name": "stdout",
     "output_type": "stream",
     "text": [
      "4 <class 'int'>\n",
      "4 <class 'str'>\n"
     ]
    }
   ],
   "source": [
    "x = 4\n",
    "print(x, type(x))\n",
    "y = \"4\"\n",
    "print(y, type(y))"
   ]
  },
  {
   "cell_type": "code",
   "execution_count": null,
   "id": "4d9c5134",
   "metadata": {},
   "outputs": [],
   "source": [
    "name 10 \"10.2\""
   ]
  },
  {
   "cell_type": "code",
   "execution_count": null,
   "id": "83e49caa",
   "metadata": {},
   "outputs": [],
   "source": []
  },
  {
   "cell_type": "code",
   "execution_count": 127,
   "id": "630d30d6",
   "metadata": {},
   "outputs": [
    {
     "name": "stdout",
     "output_type": "stream",
     "text": [
      "[1, 2, 3]\n"
     ]
    }
   ],
   "source": [
    "ans = [1, 2, 3] or {}\n",
    "\n",
    "print(ans)"
   ]
  },
  {
   "cell_type": "code",
   "execution_count": 128,
   "id": "7fa4f213",
   "metadata": {},
   "outputs": [
    {
     "data": {
      "text/plain": [
       "True"
      ]
     },
     "execution_count": 128,
     "metadata": {},
     "output_type": "execute_result"
    }
   ],
   "source": [
    "True or False"
   ]
  },
  {
   "cell_type": "code",
   "execution_count": 129,
   "id": "bb2eea88",
   "metadata": {},
   "outputs": [
    {
     "data": {
      "text/plain": [
       "True"
      ]
     },
     "execution_count": 129,
     "metadata": {},
     "output_type": "execute_result"
    }
   ],
   "source": [
    "True and True"
   ]
  },
  {
   "cell_type": "markdown",
   "id": "74f7a617",
   "metadata": {},
   "source": [
    "False -> can any valid python statement which return a value which is equal to False"
   ]
  },
  {
   "cell_type": "code",
   "execution_count": 130,
   "id": "4b03a358",
   "metadata": {},
   "outputs": [
    {
     "data": {
      "text/plain": [
       "False"
      ]
     },
     "execution_count": 130,
     "metadata": {},
     "output_type": "execute_result"
    }
   ],
   "source": [
    "4 == 0"
   ]
  },
  {
   "cell_type": "code",
   "execution_count": 131,
   "id": "bf2cd177",
   "metadata": {},
   "outputs": [
    {
     "name": "stdout",
     "output_type": "stream",
     "text": [
      "34\n",
      "Even\n"
     ]
    }
   ],
   "source": [
    "num = int(input())\n",
    "\n",
    "if num % 2 == 0:\n",
    "    print(\"Even\")\n",
    "else:\n",
    "    print(\"Odd\")"
   ]
  },
  {
   "cell_type": "code",
   "execution_count": 132,
   "id": "179394cc",
   "metadata": {},
   "outputs": [
    {
     "name": "stdout",
     "output_type": "stream",
     "text": [
      "34\n",
      "even\n"
     ]
    }
   ],
   "source": [
    "num = int(input())\n",
    "\n",
    "if num % 2:\n",
    "    print(\"odd\")\n",
    "else:\n",
    "    print(\"even\")"
   ]
  },
  {
   "cell_type": "code",
   "execution_count": 133,
   "id": "269ebec6",
   "metadata": {},
   "outputs": [
    {
     "data": {
      "text/plain": [
       "65"
      ]
     },
     "execution_count": 133,
     "metadata": {},
     "output_type": "execute_result"
    }
   ],
   "source": [
    "45 and 65"
   ]
  },
  {
   "cell_type": "code",
   "execution_count": 134,
   "id": "f3e6b827",
   "metadata": {},
   "outputs": [
    {
     "name": "stdout",
     "output_type": "stream",
     "text": [
      "False\n"
     ]
    }
   ],
   "source": [
    "a = 4 >= 3 and 4 < 2\n",
    "print(a)"
   ]
  },
  {
   "cell_type": "code",
   "execution_count": 135,
   "id": "1f0f423c",
   "metadata": {},
   "outputs": [
    {
     "name": "stdout",
     "output_type": "stream",
     "text": [
      "False\n"
     ]
    }
   ],
   "source": [
    "a = True and False\n",
    "print(a)"
   ]
  },
  {
   "cell_type": "code",
   "execution_count": 136,
   "id": "bd60ba5b",
   "metadata": {},
   "outputs": [],
   "source": [
    "a = [1, 2, 3] and 100"
   ]
  },
  {
   "cell_type": "code",
   "execution_count": 137,
   "id": "9528a02f",
   "metadata": {},
   "outputs": [
    {
     "name": "stdout",
     "output_type": "stream",
     "text": [
      "100\n"
     ]
    }
   ],
   "source": [
    "print(a)"
   ]
  },
  {
   "cell_type": "code",
   "execution_count": 138,
   "id": "8b5d92e9",
   "metadata": {},
   "outputs": [
    {
     "data": {
      "text/plain": [
       "True"
      ]
     },
     "execution_count": 138,
     "metadata": {},
     "output_type": "execute_result"
    }
   ],
   "source": [
    "not False"
   ]
  },
  {
   "cell_type": "code",
   "execution_count": 140,
   "id": "aea98bbe",
   "metadata": {},
   "outputs": [
    {
     "data": {
      "text/plain": [
       "False"
      ]
     },
     "execution_count": 140,
     "metadata": {},
     "output_type": "execute_result"
    }
   ],
   "source": [
    "not True"
   ]
  },
  {
   "cell_type": "code",
   "execution_count": 141,
   "id": "89330f4c",
   "metadata": {},
   "outputs": [
    {
     "data": {
      "text/plain": [
       "True"
      ]
     },
     "execution_count": 141,
     "metadata": {},
     "output_type": "execute_result"
    }
   ],
   "source": [
    "not 0"
   ]
  },
  {
   "cell_type": "code",
   "execution_count": 142,
   "id": "4971106e",
   "metadata": {},
   "outputs": [
    {
     "data": {
      "text/plain": [
       "True"
      ]
     },
     "execution_count": 142,
     "metadata": {},
     "output_type": "execute_result"
    }
   ],
   "source": [
    "not \"\""
   ]
  },
  {
   "cell_type": "code",
   "execution_count": 143,
   "id": "2e66f2d8",
   "metadata": {},
   "outputs": [
    {
     "data": {
      "text/plain": [
       "True"
      ]
     },
     "execution_count": 143,
     "metadata": {},
     "output_type": "execute_result"
    }
   ],
   "source": [
    "not []"
   ]
  },
  {
   "cell_type": "code",
   "execution_count": 144,
   "id": "551f015e",
   "metadata": {},
   "outputs": [
    {
     "data": {
      "text/plain": [
       "True"
      ]
     },
     "execution_count": 144,
     "metadata": {},
     "output_type": "execute_result"
    }
   ],
   "source": [
    "not None"
   ]
  },
  {
   "cell_type": "code",
   "execution_count": 145,
   "id": "00ec7f42",
   "metadata": {},
   "outputs": [
    {
     "data": {
      "text/plain": [
       "False"
      ]
     },
     "execution_count": 145,
     "metadata": {},
     "output_type": "execute_result"
    }
   ],
   "source": [
    "not 1"
   ]
  },
  {
   "cell_type": "code",
   "execution_count": 146,
   "id": "62823b79",
   "metadata": {},
   "outputs": [
    {
     "data": {
      "text/plain": [
       "False"
      ]
     },
     "execution_count": 146,
     "metadata": {},
     "output_type": "execute_result"
    }
   ],
   "source": [
    "not 'hi'"
   ]
  },
  {
   "cell_type": "code",
   "execution_count": 147,
   "id": "005a5bc4",
   "metadata": {},
   "outputs": [
    {
     "data": {
      "text/plain": [
       "False"
      ]
     },
     "execution_count": 147,
     "metadata": {},
     "output_type": "execute_result"
    }
   ],
   "source": [
    "not [1, 2]"
   ]
  },
  {
   "cell_type": "code",
   "execution_count": 148,
   "id": "9c9ffd6f",
   "metadata": {},
   "outputs": [
    {
     "name": "stdout",
     "output_type": "stream",
     "text": [
      "ha ha\n"
     ]
    }
   ],
   "source": [
    "if 4 > 2 and 3 < 6:\n",
    "    print('ha ha')"
   ]
  },
  {
   "cell_type": "code",
   "execution_count": 149,
   "id": "855c94ed",
   "metadata": {},
   "outputs": [
    {
     "name": "stdout",
     "output_type": "stream",
     "text": [
      "%\n"
     ]
    }
   ],
   "source": [
    "print(\"%\")"
   ]
  },
  {
   "cell_type": "code",
   "execution_count": 152,
   "id": "9cba80b5",
   "metadata": {},
   "outputs": [
    {
     "data": {
      "text/plain": [
       "'20%'"
      ]
     },
     "execution_count": 152,
     "metadata": {},
     "output_type": "execute_result"
    }
   ],
   "source": [
    "str(20) + \"%\""
   ]
  },
  {
   "cell_type": "code",
   "execution_count": null,
   "id": "19e326cb",
   "metadata": {},
   "outputs": [],
   "source": []
  },
  {
   "cell_type": "code",
   "execution_count": 153,
   "id": "eaa793ed",
   "metadata": {},
   "outputs": [
    {
     "name": "stdout",
     "output_type": "stream",
     "text": [
      "discount is 2.0% on seletect itms\n"
     ]
    }
   ],
   "source": [
    "value = 2.0\n",
    "print(f\"discount is {value}% on seletect itms\")"
   ]
  },
  {
   "cell_type": "markdown",
   "id": "a52611ad",
   "metadata": {},
   "source": [
    "    if cond:\n",
    "        code-1\n",
    "    else:\n",
    "        code-2"
   ]
  }
 ],
 "metadata": {
  "kernelspec": {
   "display_name": "Python 3 (ipykernel)",
   "language": "python",
   "name": "python3"
  },
  "language_info": {
   "codemirror_mode": {
    "name": "ipython",
    "version": 3
   },
   "file_extension": ".py",
   "mimetype": "text/x-python",
   "name": "python",
   "nbconvert_exporter": "python",
   "pygments_lexer": "ipython3",
   "version": "3.10.5"
  }
 },
 "nbformat": 4,
 "nbformat_minor": 5
}
