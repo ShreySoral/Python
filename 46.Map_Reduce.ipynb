{
 "cells": [
  {
   "cell_type": "markdown",
   "id": "71fd41d9",
   "metadata": {},
   "source": [
    "### lambda "
   ]
  },
  {
   "cell_type": "code",
   "execution_count": 8,
   "id": "633f1434",
   "metadata": {},
   "outputs": [
    {
     "data": {
      "text/plain": [
       "'ky baat kar raha hai'"
      ]
     },
     "execution_count": 8,
     "metadata": {},
     "output_type": "execute_result"
    }
   ],
   "source": [
    "'jadu' if 0 else 'ky baat kar raha hai'"
   ]
  },
  {
   "cell_type": "code",
   "execution_count": null,
   "id": "e55e32b6",
   "metadata": {},
   "outputs": [],
   "source": [
    "lambda arg1, arg2, ...: return_value"
   ]
  },
  {
   "cell_type": "code",
   "execution_count": 1,
   "id": "8b94a77b",
   "metadata": {},
   "outputs": [],
   "source": [
    "f = lambda x, y: x**2+y if x>y else x+y**2"
   ]
  },
  {
   "cell_type": "code",
   "execution_count": 2,
   "id": "28f724ca",
   "metadata": {},
   "outputs": [
    {
     "name": "stdout",
     "output_type": "stream",
     "text": [
      "19\n"
     ]
    }
   ],
   "source": [
    "a = f(3, 4)\n",
    "print(a)"
   ]
  },
  {
   "cell_type": "code",
   "execution_count": null,
   "id": "a9d99038",
   "metadata": {},
   "outputs": [],
   "source": []
  },
  {
   "cell_type": "code",
   "execution_count": 21,
   "id": "1f57fcd3",
   "metadata": {},
   "outputs": [],
   "source": [
    "a = 10"
   ]
  },
  {
   "cell_type": "code",
   "execution_count": 20,
   "id": "a1fae748",
   "metadata": {},
   "outputs": [
    {
     "ename": "SyntaxError",
     "evalue": "invalid syntax (3174762230.py, line 1)",
     "output_type": "error",
     "traceback": [
      "\u001b[1;36m  Input \u001b[1;32mIn [20]\u001b[1;36m\u001b[0m\n\u001b[1;33m    if a=10:\u001b[0m\n\u001b[1;37m        ^\u001b[0m\n\u001b[1;31mSyntaxError\u001b[0m\u001b[1;31m:\u001b[0m invalid syntax\n"
     ]
    }
   ],
   "source": [
    "if a=10:\n",
    "    print('hi')"
   ]
  },
  {
   "cell_type": "code",
   "execution_count": null,
   "id": "33c53009",
   "metadata": {},
   "outputs": [],
   "source": []
  },
  {
   "cell_type": "code",
   "execution_count": 3,
   "id": "76a004ea",
   "metadata": {},
   "outputs": [],
   "source": [
    "def get_discount(price, age, gender):\n",
    "    if age<=18:\n",
    "        discount = price*0.25\n",
    "    elif gender==\"female\":\n",
    "        discount = price*0.20\n",
    "    else:\n",
    "        discount = price*0.10\n",
    "    return discount"
   ]
  },
  {
   "cell_type": "code",
   "execution_count": 18,
   "id": "f5637ace",
   "metadata": {},
   "outputs": [],
   "source": [
    "gt = lambda p, a, g: p*0.25 if a<=18 else p*0.20 if g == 'female' else p*0.10"
   ]
  },
  {
   "cell_type": "code",
   "execution_count": 19,
   "id": "1878d977",
   "metadata": {},
   "outputs": [
    {
     "data": {
      "text/plain": [
       "1000.0"
      ]
     },
     "execution_count": 19,
     "metadata": {},
     "output_type": "execute_result"
    }
   ],
   "source": [
    "gt(5000, 30, 'female')"
   ]
  },
  {
   "cell_type": "code",
   "execution_count": 4,
   "id": "d4ffdecd",
   "metadata": {},
   "outputs": [
    {
     "name": "stdout",
     "output_type": "stream",
     "text": [
      "500.0\n"
     ]
    }
   ],
   "source": [
    "r = get_discount(2000, 15, \"male\")\n",
    "print(r)"
   ]
  },
  {
   "cell_type": "code",
   "execution_count": 5,
   "id": "07437022",
   "metadata": {},
   "outputs": [
    {
     "name": "stdout",
     "output_type": "stream",
     "text": [
      "2000.0\n"
     ]
    }
   ],
   "source": [
    "r = get_discount(10000, 20, \"female\")\n",
    "print(r)"
   ]
  },
  {
   "cell_type": "code",
   "execution_count": 6,
   "id": "ae9533a3",
   "metadata": {},
   "outputs": [
    {
     "name": "stdout",
     "output_type": "stream",
     "text": [
      "100.0\n"
     ]
    }
   ],
   "source": [
    "r = get_discount(1000, 21, \"male\")\n",
    "print(r)"
   ]
  },
  {
   "cell_type": "markdown",
   "id": "eeab4ef8",
   "metadata": {},
   "source": [
    "    fib(n) = fib(n-1) + fib(n-2)\n",
    "     ...\n",
    "     \n",
    "    fib(8) = fib(7) + fib(6)\n",
    "    ...\n",
    "    fib(4) = fib(3) + fib(2)\n",
    "    \n",
    "    fib(3) = fib(2) + fib(1)\n",
    "    \n",
    "    fib(2) = fib(1) + fib(0)\n",
    "\n",
    "    fib(1) = 1\n",
    "\n",
    "    fib(0) = 0"
   ]
  },
  {
   "cell_type": "code",
   "execution_count": 31,
   "id": "3f094bac",
   "metadata": {},
   "outputs": [
    {
     "data": {
      "text/plain": [
       "55"
      ]
     },
     "execution_count": 31,
     "metadata": {},
     "output_type": "execute_result"
    }
   ],
   "source": [
    "f = lambda n: 0 if n==0 else 1 if n==1 else f(n-1)+f(n-2)\n",
    "\n",
    "f(10)"
   ]
  },
  {
   "cell_type": "code",
   "execution_count": 23,
   "id": "e48740bb",
   "metadata": {},
   "outputs": [],
   "source": [
    "def fib(n):\n",
    "    if n==0:\n",
    "        return 0\n",
    "    if n==1:\n",
    "        return 1\n",
    "    return fib(n-1) + fib(n-2) "
   ]
  },
  {
   "cell_type": "code",
   "execution_count": 28,
   "id": "e7570455",
   "metadata": {},
   "outputs": [
    {
     "name": "stdout",
     "output_type": "stream",
     "text": [
      "0 1 1 2 3 5 8 13 21 34 55 89 144 233 377 610 987 1597 2584 4181 "
     ]
    }
   ],
   "source": [
    "for i in range(20):\n",
    "    print(fib(i), end=\" \")"
   ]
  },
  {
   "cell_type": "code",
   "execution_count": 24,
   "id": "17a5e9af",
   "metadata": {},
   "outputs": [
    {
     "data": {
      "text/plain": [
       "0"
      ]
     },
     "execution_count": 24,
     "metadata": {},
     "output_type": "execute_result"
    }
   ],
   "source": [
    "fib(0)"
   ]
  },
  {
   "cell_type": "code",
   "execution_count": 25,
   "id": "ca8b0aa6",
   "metadata": {},
   "outputs": [
    {
     "data": {
      "text/plain": [
       "1"
      ]
     },
     "execution_count": 25,
     "metadata": {},
     "output_type": "execute_result"
    }
   ],
   "source": [
    "fib(1)"
   ]
  },
  {
   "cell_type": "code",
   "execution_count": 26,
   "id": "ef35283d",
   "metadata": {},
   "outputs": [
    {
     "data": {
      "text/plain": [
       "1"
      ]
     },
     "execution_count": 26,
     "metadata": {},
     "output_type": "execute_result"
    }
   ],
   "source": [
    "fib(2)"
   ]
  },
  {
   "cell_type": "code",
   "execution_count": 47,
   "id": "172d8cb6",
   "metadata": {},
   "outputs": [
    {
     "name": "stdout",
     "output_type": "stream",
     "text": [
      "number: 13\n",
      "13 % 2 = 1\n",
      "13 % 3 = 1\n",
      "13 % 4 = 1\n",
      "13 % 5 = 3\n",
      "13 % 6 = 1\n",
      "13 % 7 = 6\n",
      "13 % 8 = 5\n",
      "13 % 9 = 4\n",
      "13 % 10 = 3\n",
      "13 % 11 = 2\n",
      "13 % 12 = 1\n"
     ]
    }
   ],
   "source": [
    "n = int(input(\"number: \"))\n",
    "\n",
    "for c in range(2, n):\n",
    "    print(f\"{n} % {c} = {n%c}\")"
   ]
  },
  {
   "cell_type": "code",
   "execution_count": 34,
   "id": "8a89f1ec",
   "metadata": {},
   "outputs": [],
   "source": [
    "def prime(num, check=2):\n",
    "    if num<=1:\n",
    "        return False\n",
    "    if num in [2, 3, 5, 7, 11]:\n",
    "        return True\n",
    "    \n",
    "    if num%check==0:\n",
    "        return False\n",
    "    \n",
    "    if check>=(num**(1/2)):\n",
    "        return True\n",
    "    return prime(num, check+1)"
   ]
  },
  {
   "cell_type": "code",
   "execution_count": 37,
   "id": "46313505",
   "metadata": {},
   "outputs": [],
   "source": [
    "isp = lambda n,c=2:False if (n<=1) else (True if n in [2, 3, 5] else \\\n",
    "        (False if n%c==0 else (True if c>=n//2 else isp(n, c+1 ) ) ) )"
   ]
  },
  {
   "cell_type": "code",
   "execution_count": 42,
   "id": "d82d9cd0",
   "metadata": {},
   "outputs": [
    {
     "name": "stdout",
     "output_type": "stream",
     "text": [
      "[2, 3, 5, 7, 11, 13, 17, 19, 23, 29, 31, 37, 41, 43, 47, 53, 59, 61, 67, 71, 73, 79, 83, 89, 97]\n"
     ]
    }
   ],
   "source": [
    "print([ n for n in range(1, 100) if isp(n)])"
   ]
  },
  {
   "cell_type": "code",
   "execution_count": 38,
   "id": "0e1a94fd",
   "metadata": {},
   "outputs": [
    {
     "data": {
      "text/plain": [
       "True"
      ]
     },
     "execution_count": 38,
     "metadata": {},
     "output_type": "execute_result"
    }
   ],
   "source": [
    "isp(13)"
   ]
  },
  {
   "cell_type": "code",
   "execution_count": 39,
   "id": "855d63ca",
   "metadata": {},
   "outputs": [
    {
     "data": {
      "text/plain": [
       "True"
      ]
     },
     "execution_count": 39,
     "metadata": {},
     "output_type": "execute_result"
    }
   ],
   "source": [
    "isp(19)"
   ]
  },
  {
   "cell_type": "code",
   "execution_count": 40,
   "id": "be4445c3",
   "metadata": {},
   "outputs": [
    {
     "data": {
      "text/plain": [
       "False"
      ]
     },
     "execution_count": 40,
     "metadata": {},
     "output_type": "execute_result"
    }
   ],
   "source": [
    "isp(12)"
   ]
  },
  {
   "cell_type": "code",
   "execution_count": 35,
   "id": "86649f83",
   "metadata": {},
   "outputs": [
    {
     "name": "stdout",
     "output_type": "stream",
     "text": [
      "2 3 5 7 11 13 17 19 23 29 31 37 41 43 47 53 59 61 67 71 73 79 83 89 97 "
     ]
    }
   ],
   "source": [
    "for n in range(1, 101):\n",
    "    if prime(n):\n",
    "        print(n, end=\" \")"
   ]
  },
  {
   "cell_type": "markdown",
   "id": "b472ae79",
   "metadata": {},
   "source": []
  },
  {
   "cell_type": "code",
   "execution_count": null,
   "id": "b74bd0c0",
   "metadata": {},
   "outputs": [],
   "source": []
  },
  {
   "cell_type": "markdown",
   "id": "7ce195dd",
   "metadata": {},
   "source": [
    "    write a python program to take 5 number input from using and store them in a list"
   ]
  },
  {
   "cell_type": "code",
   "execution_count": 51,
   "id": "9b1b0b53",
   "metadata": {},
   "outputs": [
    {
     "name": "stdout",
     "output_type": "stream",
     "text": [
      "56\n",
      "45\n",
      "34\n",
      "20\n",
      "10\n"
     ]
    }
   ],
   "source": [
    "nums = []\n",
    "for _ in range(5):\n",
    "    num = int(input())\n",
    "    nums.append(num)"
   ]
  },
  {
   "cell_type": "code",
   "execution_count": 52,
   "id": "818a1d37",
   "metadata": {},
   "outputs": [
    {
     "name": "stdout",
     "output_type": "stream",
     "text": [
      "[56, 45, 34, 20, 10]\n"
     ]
    }
   ],
   "source": [
    "print(nums)"
   ]
  },
  {
   "cell_type": "code",
   "execution_count": 53,
   "id": "b1fea19d",
   "metadata": {},
   "outputs": [],
   "source": [
    "import random"
   ]
  },
  {
   "cell_type": "code",
   "execution_count": 54,
   "id": "96fb9b54",
   "metadata": {},
   "outputs": [],
   "source": [
    "nums = []\n",
    "for _ in range(10):\n",
    "    num = random.randint(10, 50)\n",
    "    nums.append(num)"
   ]
  },
  {
   "cell_type": "code",
   "execution_count": 55,
   "id": "4ba81d44",
   "metadata": {},
   "outputs": [
    {
     "name": "stdout",
     "output_type": "stream",
     "text": [
      "[29, 21, 30, 48, 20, 15, 32, 17, 30, 42]\n"
     ]
    }
   ],
   "source": [
    "print(nums)"
   ]
  },
  {
   "cell_type": "markdown",
   "id": "87a3f2ea",
   "metadata": {},
   "source": [
    "#### List Comprehension\n",
    "\n",
    "\n",
    "    Syntax:\n",
    "    \n",
    "        lst = [ statement for var in seq ]"
   ]
  },
  {
   "cell_type": "code",
   "execution_count": null,
   "id": "2ab198b9",
   "metadata": {},
   "outputs": [],
   "source": [
    "nums = [ 1, 2, 3, 4, 5, ...]"
   ]
  },
  {
   "cell_type": "code",
   "execution_count": 58,
   "id": "7f579cc1",
   "metadata": {},
   "outputs": [
    {
     "name": "stdout",
     "output_type": "stream",
     "text": [
      "[1, 2, 3, 4, 5, 6, 7, 8, 9, 10]\n"
     ]
    }
   ],
   "source": [
    "nums = [ n for n in range(1, 11) ]\n",
    "print(nums)"
   ]
  },
  {
   "cell_type": "markdown",
   "id": "9c095d62",
   "metadata": {},
   "source": [
    "`store square of first 10 numbers in a list using single line of code`"
   ]
  },
  {
   "cell_type": "code",
   "execution_count": 59,
   "id": "085f5339",
   "metadata": {},
   "outputs": [
    {
     "name": "stdout",
     "output_type": "stream",
     "text": [
      "[1, 4, 9, 16, 25, 36, 49, 64, 81, 100]\n"
     ]
    }
   ],
   "source": [
    "nums = [ n**2 for n in range(1, 11)]\n",
    "print(nums)"
   ]
  },
  {
   "cell_type": "markdown",
   "id": "e01f4bc0",
   "metadata": {},
   "source": [
    "`write a python program to take 5 number input from user and store them in a list`\n",
    "\n",
    "    you are only allowed to write single line of code"
   ]
  },
  {
   "cell_type": "code",
   "execution_count": 60,
   "id": "9464e5ad",
   "metadata": {},
   "outputs": [
    {
     "name": "stdout",
     "output_type": "stream",
     "text": [
      "50\n",
      "30\n",
      "10\n",
      "90\n",
      "20\n",
      "[50, 30, 10, 90, 20]\n"
     ]
    }
   ],
   "source": [
    "nums = [ int(input()) for n in range(5)]\n",
    "print(nums)"
   ]
  },
  {
   "cell_type": "markdown",
   "id": "40f01899",
   "metadata": {},
   "source": [
    "`write a python code to generate a list with 10 random numbers between 1-100`\n",
    "\n",
    "    you are allowed to write one line of code"
   ]
  },
  {
   "cell_type": "code",
   "execution_count": 62,
   "id": "6ec258fd",
   "metadata": {},
   "outputs": [],
   "source": [
    "from random import randint"
   ]
  },
  {
   "cell_type": "code",
   "execution_count": 64,
   "id": "1d57dfd2",
   "metadata": {},
   "outputs": [
    {
     "name": "stdout",
     "output_type": "stream",
     "text": [
      "[3, 58, 1, 20, 97, 14, 1, 82, 36, 8]\n"
     ]
    }
   ],
   "source": [
    "nums = [ randint(1, 100) for _ in range(10) ]\n",
    "print(nums)"
   ]
  },
  {
   "cell_type": "code",
   "execution_count": 73,
   "id": "a9fc9b99",
   "metadata": {},
   "outputs": [
    {
     "data": {
      "text/plain": [
       "'ऀ'"
      ]
     },
     "execution_count": 73,
     "metadata": {},
     "output_type": "execute_result"
    }
   ],
   "source": [
    "chr(2304)"
   ]
  },
  {
   "cell_type": "code",
   "execution_count": 89,
   "id": "e67bec54",
   "metadata": {},
   "outputs": [
    {
     "data": {
      "text/plain": [
       "'ঃ'"
      ]
     },
     "execution_count": 89,
     "metadata": {},
     "output_type": "execute_result"
    }
   ],
   "source": [
    "chr(2435)"
   ]
  },
  {
   "cell_type": "markdown",
   "id": "a77d071c",
   "metadata": {},
   "source": [
    "`Create a python list having all hindi letters in it using single line of code`\n",
    "\n",
    "    2304 to 2435"
   ]
  },
  {
   "cell_type": "code",
   "execution_count": 93,
   "id": "426aed23",
   "metadata": {},
   "outputs": [
    {
     "name": "stdout",
     "output_type": "stream",
     "text": [
      "['ऀ', 'ँ', 'ं', 'ः', 'ऄ', 'अ', 'आ', 'इ', 'ई', 'उ', 'ऊ', 'ऋ', 'ऌ', 'ऍ', 'ऎ', 'ए', 'ऐ', 'ऑ', 'ऒ', 'ओ', 'औ', 'क', 'ख', 'ग', 'घ', 'ङ', 'च', 'छ', 'ज', 'झ', 'ञ', 'ट', 'ठ', 'ड', 'ढ', 'ण', 'त', 'थ', 'द', 'ध', 'न', 'ऩ', 'प', 'फ', 'ब', 'भ', 'म', 'य', 'र', 'ऱ', 'ल', 'ळ', 'ऴ', 'व', 'श', 'ष', 'स', 'ह', 'ऺ', 'ऻ', '़', 'ऽ', 'ा', 'ि', 'ी', 'ु', 'ू', 'ृ', 'ॄ', 'ॅ', 'ॆ', 'े', 'ै', 'ॉ', 'ॊ', 'ो', 'ौ', '्', 'ॎ', 'ॏ', 'ॐ', '॑', '॒', '॓', '॔', 'ॕ', 'ॖ', 'ॗ', 'क़', 'ख़', 'ग़', 'ज़', 'ड़', 'ढ़', 'फ़', 'य़', 'ॠ', 'ॡ', 'ॢ', 'ॣ', '।', '॥', '०', '१', '२', '३', '४', '५', '६', '७', '८', '९', '॰', 'ॱ', 'ॲ', 'ॳ', 'ॴ', 'ॵ', 'ॶ', 'ॷ', 'ॸ', 'ॹ', 'ॺ', 'ॻ', 'ॼ', 'ॽ', 'ॾ', 'ॿ', 'ঀ', 'ঁ', 'ং', 'ঃ', '\\u0984']\n"
     ]
    }
   ],
   "source": [
    "hindi = []\n",
    "i = 2304\n",
    "while i<=2436:\n",
    "    hindi.append(chr(i))\n",
    "    i += 1\n",
    "print(hindi)"
   ]
  },
  {
   "cell_type": "code",
   "execution_count": 92,
   "id": "c6d2cfb6",
   "metadata": {},
   "outputs": [
    {
     "name": "stdout",
     "output_type": "stream",
     "text": [
      "['ऀ', 'ँ', 'ं', 'ः', 'ऄ', 'अ', 'आ', 'इ', 'ई', 'उ', 'ऊ', 'ऋ', 'ऌ', 'ऍ', 'ऎ', 'ए', 'ऐ', 'ऑ', 'ऒ', 'ओ', 'औ', 'क', 'ख', 'ग', 'घ', 'ङ', 'च', 'छ', 'ज', 'झ', 'ञ', 'ट', 'ठ', 'ड', 'ढ', 'ण', 'त', 'थ', 'द', 'ध', 'न', 'ऩ', 'प', 'फ', 'ब', 'भ', 'म', 'य', 'र', 'ऱ', 'ल', 'ळ', 'ऴ', 'व', 'श', 'ष', 'स', 'ह', 'ऺ', 'ऻ', '़', 'ऽ', 'ा', 'ि', 'ी', 'ु', 'ू', 'ृ', 'ॄ', 'ॅ', 'ॆ', 'े', 'ै', 'ॉ', 'ॊ', 'ो', 'ौ', '्', 'ॎ', 'ॏ', 'ॐ', '॑', '॒', '॓', '॔', 'ॕ', 'ॖ', 'ॗ', 'क़', 'ख़', 'ग़', 'ज़', 'ड़', 'ढ़', 'फ़', 'य़', 'ॠ', 'ॡ', 'ॢ', 'ॣ', '।', '॥', '०', '१', '२', '३', '४', '५', '६', '७', '८', '९', '॰', 'ॱ', 'ॲ', 'ॳ', 'ॴ', 'ॵ', 'ॶ', 'ॷ', 'ॸ', 'ॹ', 'ॺ', 'ॻ', 'ॼ', 'ॽ', 'ॾ', 'ॿ', 'ঀ', 'ঁ', 'ং', 'ঃ']\n"
     ]
    }
   ],
   "source": [
    "hindi = []\n",
    "\n",
    "for code in range(2304, 2436):\n",
    "    hindi.append(chr(code))\n",
    "    \n",
    "print(hindi)"
   ]
  },
  {
   "cell_type": "code",
   "execution_count": 90,
   "id": "6137f225",
   "metadata": {},
   "outputs": [],
   "source": [
    "hindi = [\n",
    "    chr(code) for code in range(2304, 2436)\n",
    "]"
   ]
  },
  {
   "cell_type": "code",
   "execution_count": 91,
   "id": "9e66a5f3",
   "metadata": {},
   "outputs": [
    {
     "name": "stdout",
     "output_type": "stream",
     "text": [
      "['ऀ', 'ँ', 'ं', 'ः', 'ऄ', 'अ', 'आ', 'इ', 'ई', 'उ', 'ऊ', 'ऋ', 'ऌ', 'ऍ', 'ऎ', 'ए', 'ऐ', 'ऑ', 'ऒ', 'ओ', 'औ', 'क', 'ख', 'ग', 'घ', 'ङ', 'च', 'छ', 'ज', 'झ', 'ञ', 'ट', 'ठ', 'ड', 'ढ', 'ण', 'त', 'थ', 'द', 'ध', 'न', 'ऩ', 'प', 'फ', 'ब', 'भ', 'म', 'य', 'र', 'ऱ', 'ल', 'ळ', 'ऴ', 'व', 'श', 'ष', 'स', 'ह', 'ऺ', 'ऻ', '़', 'ऽ', 'ा', 'ि', 'ी', 'ु', 'ू', 'ृ', 'ॄ', 'ॅ', 'ॆ', 'े', 'ै', 'ॉ', 'ॊ', 'ो', 'ौ', '्', 'ॎ', 'ॏ', 'ॐ', '॑', '॒', '॓', '॔', 'ॕ', 'ॖ', 'ॗ', 'क़', 'ख़', 'ग़', 'ज़', 'ड़', 'ढ़', 'फ़', 'य़', 'ॠ', 'ॡ', 'ॢ', 'ॣ', '।', '॥', '०', '१', '२', '३', '४', '५', '६', '७', '८', '९', '॰', 'ॱ', 'ॲ', 'ॳ', 'ॴ', 'ॵ', 'ॶ', 'ॷ', 'ॸ', 'ॹ', 'ॺ', 'ॻ', 'ॼ', 'ॽ', 'ॾ', 'ॿ', 'ঀ', 'ঁ', 'ং', 'ঃ']\n"
     ]
    }
   ],
   "source": [
    "print(hindi)"
   ]
  },
  {
   "cell_type": "code",
   "execution_count": 96,
   "id": "c3e7b25c",
   "metadata": {},
   "outputs": [
    {
     "name": "stdout",
     "output_type": "stream",
     "text": [
      "[21, 42, 63, 84]\n"
     ]
    }
   ],
   "source": [
    "nums = [ n for n in range(1, 101) if n%3==0 and n%7==0]\n",
    "print(nums)"
   ]
  },
  {
   "cell_type": "code",
   "execution_count": 94,
   "id": "432117a7",
   "metadata": {},
   "outputs": [],
   "source": [
    "nums = [\n",
    "    n\n",
    "    \n",
    "    for n in range(1, 31) if n%3==0\n",
    "]"
   ]
  },
  {
   "cell_type": "code",
   "execution_count": 95,
   "id": "83cf106a",
   "metadata": {},
   "outputs": [
    {
     "name": "stdout",
     "output_type": "stream",
     "text": [
      "[3, 6, 9, 12, 15, 18, 21, 24, 27, 30]\n"
     ]
    }
   ],
   "source": [
    "print(nums)"
   ]
  },
  {
   "cell_type": "code",
   "execution_count": 100,
   "id": "6855a1c3",
   "metadata": {},
   "outputs": [],
   "source": [
    "names = [\"sachin\", \"rajat\", \"nidhi\", \"simran\", \n",
    "        \"kushal\", \"ravi\", \"yadvendra\", \"shivani\", \n",
    "        \"gaurav\", \"Radheshyam\"]\n",
    "\n",
    "# list all names which starts with \"r\" using single line of code\n"
   ]
  },
  {
   "cell_type": "code",
   "execution_count": 101,
   "id": "1a14de24",
   "metadata": {},
   "outputs": [
    {
     "name": "stdout",
     "output_type": "stream",
     "text": [
      "['rajat', 'ravi', 'Radheshyam']\n"
     ]
    }
   ],
   "source": [
    "ans = [\n",
    "    n for n in names if n[0].lower() == 'r'\n",
    "]\n",
    "print(ans)"
   ]
  },
  {
   "cell_type": "code",
   "execution_count": 102,
   "id": "cbf2165b",
   "metadata": {},
   "outputs": [],
   "source": [
    "nums = [\n",
    "    (i, j)\n",
    "        for i in range(4)\n",
    "        for j in range(3)\n",
    "]"
   ]
  },
  {
   "cell_type": "code",
   "execution_count": 103,
   "id": "37705d16",
   "metadata": {},
   "outputs": [
    {
     "name": "stdout",
     "output_type": "stream",
     "text": [
      "[(0, 0), (0, 1), (0, 2), (1, 0), (1, 1), (1, 2), (2, 0), (2, 1), (2, 2), (3, 0), (3, 1), (3, 2)]\n"
     ]
    }
   ],
   "source": [
    "print(nums)"
   ]
  },
  {
   "cell_type": "code",
   "execution_count": null,
   "id": "968fcc85",
   "metadata": {},
   "outputs": [],
   "source": []
  }
 ],
 "metadata": {
  "kernelspec": {
   "display_name": "Python 3 (ipykernel)",
   "language": "python",
   "name": "python3"
  },
  "language_info": {
   "codemirror_mode": {
    "name": "ipython",
    "version": 3
   },
   "file_extension": ".py",
   "mimetype": "text/x-python",
   "name": "python",
   "nbconvert_exporter": "python",
   "pygments_lexer": "ipython3",
   "version": "3.9.12"
  }
 },
 "nbformat": 4,
 "nbformat_minor": 5
}
