{
 "cells": [
  {
   "cell_type": "markdown",
   "id": "b437d21b",
   "metadata": {},
   "source": [
    "## Operator Overloading"
   ]
  },
  {
   "cell_type": "code",
   "execution_count": 39,
   "id": "62fa48c1",
   "metadata": {},
   "outputs": [],
   "source": [
    "class Car:\n",
    "    def __init__(self, name, price, color, engine):\n",
    "        self.name = name\n",
    "        self.price = price\n",
    "        self.color = color\n",
    "        self.engine = engine\n",
    "    def get_info(self):\n",
    "        msg = f\"\"\"\n",
    "            Name   = {self.name}\n",
    "            Price  = {self.price}\n",
    "            Color  = {self.color}\n",
    "         Engine CC = {self.engine}\n",
    "        \"\"\"\n",
    "        print(msg)\n",
    "    def __eq__(self, other):\n",
    "        return self.engine == other.engine\n",
    "    def __gt__(self, other):\n",
    "        return self.engine > other.engine\n",
    "    def __ge__(self, other):\n",
    "        return self.engine >= other.engine\n",
    "    def __str__(self):\n",
    "        return f\"Car('{self.name}')\""
   ]
  },
  {
   "cell_type": "code",
   "execution_count": 40,
   "id": "fd1c2019",
   "metadata": {},
   "outputs": [],
   "source": [
    "c1 = Car(\"alto-800\", 500000, \"white\", 800)\n",
    "c2 = Car(\"swift\", 800000, \"black\", 1200)"
   ]
  },
  {
   "cell_type": "code",
   "execution_count": 44,
   "id": "b2465cd4",
   "metadata": {},
   "outputs": [
    {
     "data": {
      "text/plain": [
       "False"
      ]
     },
     "execution_count": 44,
     "metadata": {},
     "output_type": "execute_result"
    }
   ],
   "source": [
    "c1 > c2"
   ]
  },
  {
   "cell_type": "code",
   "execution_count": 43,
   "id": "aaa8e0cf",
   "metadata": {},
   "outputs": [
    {
     "data": {
      "text/plain": [
       "True"
      ]
     },
     "execution_count": 43,
     "metadata": {},
     "output_type": "execute_result"
    }
   ],
   "source": [
    "c1 != c2  # (> <) (== !=) (>= <=)"
   ]
  },
  {
   "cell_type": "code",
   "execution_count": 42,
   "id": "fe5ce341",
   "metadata": {},
   "outputs": [
    {
     "data": {
      "text/plain": [
       "False"
      ]
     },
     "execution_count": 42,
     "metadata": {},
     "output_type": "execute_result"
    }
   ],
   "source": [
    "c2 <= c1 # Car.__gt__(c2, c1)"
   ]
  },
  {
   "cell_type": "code",
   "execution_count": 21,
   "id": "0a59c3e5",
   "metadata": {},
   "outputs": [
    {
     "name": "stdout",
     "output_type": "stream",
     "text": [
      "\n",
      "            Name   = swift\n",
      "            Price  = 800000\n",
      "            Color  = black\n",
      "         Engine CC = 1200\n",
      "        \n"
     ]
    }
   ],
   "source": [
    "c2.get_info()"
   ]
  },
  {
   "cell_type": "code",
   "execution_count": 19,
   "id": "c8b5d59d",
   "metadata": {},
   "outputs": [
    {
     "name": "stdout",
     "output_type": "stream",
     "text": [
      "Car('alto-800')\n",
      "Car('swift')\n"
     ]
    }
   ],
   "source": [
    "print(c1)\n",
    "print(c2)"
   ]
  },
  {
   "cell_type": "code",
   "execution_count": null,
   "id": "7f5f26e1",
   "metadata": {},
   "outputs": [],
   "source": []
  },
  {
   "cell_type": "code",
   "execution_count": null,
   "id": "eed82ac4",
   "metadata": {},
   "outputs": [],
   "source": []
  },
  {
   "cell_type": "code",
   "execution_count": null,
   "id": "6e7051d3",
   "metadata": {},
   "outputs": [],
   "source": []
  },
  {
   "cell_type": "code",
   "execution_count": 10,
   "id": "0edf3f3d",
   "metadata": {},
   "outputs": [],
   "source": [
    "class A:\n",
    "    def __init__(self, name):\n",
    "        self.name = name\n",
    "    def __str__(self):\n",
    "        return f\"<{self.name}>\"\n",
    "    def __add__(self, other):\n",
    "        name = self.name + \" \" + other.name\n",
    "        return A(name)"
   ]
  },
  {
   "cell_type": "code",
   "execution_count": 11,
   "id": "22a5028c",
   "metadata": {},
   "outputs": [
    {
     "name": "stdout",
     "output_type": "stream",
     "text": [
      "<sachin>\n"
     ]
    }
   ],
   "source": [
    "x = A(\"sachin\")\n",
    "y = A(\"yadav\")\n",
    "print(x) # __str__"
   ]
  },
  {
   "cell_type": "code",
   "execution_count": 12,
   "id": "95e4abad",
   "metadata": {},
   "outputs": [
    {
     "name": "stdout",
     "output_type": "stream",
     "text": [
      "<sachin yadav> <class '__main__.A'>\n"
     ]
    }
   ],
   "source": [
    "r = x + y # __add__\n",
    "print(r, type(r))"
   ]
  },
  {
   "cell_type": "code",
   "execution_count": 54,
   "id": "ce2fc2f9",
   "metadata": {},
   "outputs": [],
   "source": [
    "class A:\n",
    "    def __getitem__(self, key):\n",
    "        return \"!magic methods!\""
   ]
  },
  {
   "cell_type": "code",
   "execution_count": 55,
   "id": "71ea324f",
   "metadata": {},
   "outputs": [],
   "source": [
    "x = A()\n",
    "# [] --> __getitem__"
   ]
  },
  {
   "cell_type": "code",
   "execution_count": 56,
   "id": "f9e0d228",
   "metadata": {},
   "outputs": [
    {
     "data": {
      "text/plain": [
       "'!magic methods!'"
      ]
     },
     "execution_count": 56,
     "metadata": {},
     "output_type": "execute_result"
    }
   ],
   "source": [
    "x[0] # 4 + 5 -> int.__add__(4, 5)\n",
    "# subscriptable"
   ]
  },
  {
   "cell_type": "code",
   "execution_count": 57,
   "id": "944be7cf",
   "metadata": {},
   "outputs": [
    {
     "data": {
      "text/plain": [
       "'!magic methods!'"
      ]
     },
     "execution_count": 57,
     "metadata": {},
     "output_type": "execute_result"
    }
   ],
   "source": [
    "x[100]"
   ]
  },
  {
   "cell_type": "code",
   "execution_count": 65,
   "id": "76423ba3",
   "metadata": {},
   "outputs": [
    {
     "data": {
      "text/plain": [
       "False"
      ]
     },
     "execution_count": 65,
     "metadata": {},
     "output_type": "execute_result"
    }
   ],
   "source": [
    "type(\"5\") == int"
   ]
  },
  {
   "cell_type": "code",
   "execution_count": 66,
   "id": "7eddb679",
   "metadata": {},
   "outputs": [],
   "source": [
    "class Customer:\n",
    "    acc_no = 1000 # class variable\n",
    "    def __init__(self, name, balance, password):\n",
    "        self.name = name\n",
    "        self.balance = balance\n",
    "        self.password = password\n",
    "        Customer.acc_no += 1\n",
    "        self.account = Customer.acc_no\n",
    "        print(f\"Account {self.account} Created Sucessfully!\")\n",
    "    def __getitem__(self, key):\n",
    "        if key == \"account\" or key == 0:\n",
    "            return self.account\n",
    "        elif key == \"name\" or key == 1:\n",
    "            return self.name\n",
    "        elif key == \"balance\" or key == 2:\n",
    "            return self.balance\n",
    "        elif key == \"password\" or key == 3:\n",
    "            return self.password\n",
    "        else:\n",
    "            raise KeyError(\"Invalid Error!\")"
   ]
  },
  {
   "cell_type": "code",
   "execution_count": 67,
   "id": "c69506c8",
   "metadata": {},
   "outputs": [
    {
     "name": "stdout",
     "output_type": "stream",
     "text": [
      "Account 1001 Created Sucessfully!\n",
      "Account 1002 Created Sucessfully!\n"
     ]
    }
   ],
   "source": [
    "c1 = Customer(\"sachin\", 6000, \"yahoo\")\n",
    "c2 = Customer(\"harry\", 5000, \"google\")\n"
   ]
  },
  {
   "cell_type": "code",
   "execution_count": 69,
   "id": "40603353",
   "metadata": {},
   "outputs": [
    {
     "data": {
      "text/plain": [
       "1001"
      ]
     },
     "execution_count": 69,
     "metadata": {},
     "output_type": "execute_result"
    }
   ],
   "source": [
    "c1[0] # account\n"
   ]
  },
  {
   "cell_type": "code",
   "execution_count": 70,
   "id": "00866a47",
   "metadata": {},
   "outputs": [
    {
     "data": {
      "text/plain": [
       "1001"
      ]
     },
     "execution_count": 70,
     "metadata": {},
     "output_type": "execute_result"
    }
   ],
   "source": [
    "c1[\"account\"]"
   ]
  },
  {
   "cell_type": "code",
   "execution_count": 71,
   "id": "8fed1a96",
   "metadata": {},
   "outputs": [
    {
     "data": {
      "text/plain": [
       "'sachin'"
      ]
     },
     "execution_count": 71,
     "metadata": {},
     "output_type": "execute_result"
    }
   ],
   "source": [
    "c1[1] # name"
   ]
  },
  {
   "cell_type": "code",
   "execution_count": 72,
   "id": "632cb991",
   "metadata": {},
   "outputs": [
    {
     "data": {
      "text/plain": [
       "'sachin'"
      ]
     },
     "execution_count": 72,
     "metadata": {},
     "output_type": "execute_result"
    }
   ],
   "source": [
    "c1[\"name\"]"
   ]
  },
  {
   "cell_type": "code",
   "execution_count": 73,
   "id": "52c31432",
   "metadata": {},
   "outputs": [
    {
     "data": {
      "text/plain": [
       "6000"
      ]
     },
     "execution_count": 73,
     "metadata": {},
     "output_type": "execute_result"
    }
   ],
   "source": [
    "c1[2] #"
   ]
  },
  {
   "cell_type": "code",
   "execution_count": 74,
   "id": "164e6f5c",
   "metadata": {},
   "outputs": [
    {
     "data": {
      "text/plain": [
       "6000"
      ]
     },
     "execution_count": 74,
     "metadata": {},
     "output_type": "execute_result"
    }
   ],
   "source": [
    "c1[\"balance\"]"
   ]
  },
  {
   "cell_type": "code",
   "execution_count": 75,
   "id": "ddb7f0fc",
   "metadata": {},
   "outputs": [
    {
     "data": {
      "text/plain": [
       "'yahoo'"
      ]
     },
     "execution_count": 75,
     "metadata": {},
     "output_type": "execute_result"
    }
   ],
   "source": [
    "c1[3]"
   ]
  },
  {
   "cell_type": "code",
   "execution_count": 76,
   "id": "d1293f6a",
   "metadata": {},
   "outputs": [
    {
     "data": {
      "text/plain": [
       "'yahoo'"
      ]
     },
     "execution_count": 76,
     "metadata": {},
     "output_type": "execute_result"
    }
   ],
   "source": [
    "c1[\"password\"]"
   ]
  },
  {
   "cell_type": "code",
   "execution_count": 77,
   "id": "2954c035",
   "metadata": {},
   "outputs": [
    {
     "ename": "KeyError",
     "evalue": "'Invalid Error!'",
     "output_type": "error",
     "traceback": [
      "\u001b[1;31m---------------------------------------------------------------------------\u001b[0m",
      "\u001b[1;31mKeyError\u001b[0m                                  Traceback (most recent call last)",
      "\u001b[1;32m~\\AppData\\Local\\Temp\\ipykernel_7232\\575246569.py\u001b[0m in \u001b[0;36m<module>\u001b[1;34m\u001b[0m\n\u001b[1;32m----> 1\u001b[1;33m \u001b[0mc1\u001b[0m\u001b[1;33m[\u001b[0m\u001b[1;36m4\u001b[0m\u001b[1;33m]\u001b[0m\u001b[1;33m\u001b[0m\u001b[1;33m\u001b[0m\u001b[0m\n\u001b[0m",
      "\u001b[1;32m~\\AppData\\Local\\Temp\\ipykernel_7232\\319091025.py\u001b[0m in \u001b[0;36m__getitem__\u001b[1;34m(self, key)\u001b[0m\n\u001b[0;32m     18\u001b[0m             \u001b[1;32mreturn\u001b[0m \u001b[0mself\u001b[0m\u001b[1;33m.\u001b[0m\u001b[0mpassword\u001b[0m\u001b[1;33m\u001b[0m\u001b[1;33m\u001b[0m\u001b[0m\n\u001b[0;32m     19\u001b[0m         \u001b[1;32melse\u001b[0m\u001b[1;33m:\u001b[0m\u001b[1;33m\u001b[0m\u001b[1;33m\u001b[0m\u001b[0m\n\u001b[1;32m---> 20\u001b[1;33m             \u001b[1;32mraise\u001b[0m \u001b[0mKeyError\u001b[0m\u001b[1;33m(\u001b[0m\u001b[1;34m\"Invalid Error!\"\u001b[0m\u001b[1;33m)\u001b[0m\u001b[1;33m\u001b[0m\u001b[1;33m\u001b[0m\u001b[0m\n\u001b[0m",
      "\u001b[1;31mKeyError\u001b[0m: 'Invalid Error!'"
     ]
    }
   ],
   "source": [
    "c1[4]"
   ]
  },
  {
   "cell_type": "code",
   "execution_count": 81,
   "id": "e72b72e1",
   "metadata": {},
   "outputs": [],
   "source": [
    "class Customer:\n",
    "    acc_no = 1000 # class variable\n",
    "    def __init__(self, name, balance, password):\n",
    "        self.name = name\n",
    "        self.balance = balance\n",
    "        self.password = password\n",
    "        Customer.acc_no += 1\n",
    "        self.account = Customer.acc_no\n",
    "        print(f\"Account {self.account} Created Sucessfully!\")\n",
    "    def __getitem__(self, key):\n",
    "        if key == \"account\" or key == 0:\n",
    "            return self.account\n",
    "        elif key == \"name\" or key == 1:\n",
    "            return self.name\n",
    "        elif key == \"balance\" or key == 2:\n",
    "            return self.balance\n",
    "        elif key == \"password\" or key == 3:\n",
    "            return self.password\n",
    "        else:\n",
    "            raise IndexError(\"Invalid Error!\")"
   ]
  },
  {
   "cell_type": "code",
   "execution_count": 82,
   "id": "ac0ab749",
   "metadata": {},
   "outputs": [
    {
     "name": "stdout",
     "output_type": "stream",
     "text": [
      "Account 1001 Created Sucessfully!\n"
     ]
    }
   ],
   "source": [
    "c1 = Customer(\"sachin\", 6000, \"yahoo\")"
   ]
  },
  {
   "cell_type": "code",
   "execution_count": 83,
   "id": "82c3acba",
   "metadata": {},
   "outputs": [
    {
     "name": "stdout",
     "output_type": "stream",
     "text": [
      "1001\n",
      "sachin\n",
      "6000\n",
      "yahoo\n"
     ]
    }
   ],
   "source": [
    "for item in c1:\n",
    "    print(item)"
   ]
  },
  {
   "cell_type": "code",
   "execution_count": 85,
   "id": "2a214b4e",
   "metadata": {},
   "outputs": [
    {
     "data": {
      "text/plain": [
       "False"
      ]
     },
     "execution_count": 85,
     "metadata": {},
     "output_type": "execute_result"
    }
   ],
   "source": [
    "\"rajat\" in c1"
   ]
  },
  {
   "cell_type": "code",
   "execution_count": 84,
   "id": "a74926f1",
   "metadata": {},
   "outputs": [
    {
     "data": {
      "text/plain": [
       "True"
      ]
     },
     "execution_count": 84,
     "metadata": {},
     "output_type": "execute_result"
    }
   ],
   "source": [
    "\"sachin\" in c1"
   ]
  },
  {
   "cell_type": "code",
   "execution_count": 86,
   "id": "b984da0d",
   "metadata": {},
   "outputs": [
    {
     "name": "stdout",
     "output_type": "stream",
     "text": [
      "1\n",
      "3\n",
      "5\n",
      "[4, 5]\n"
     ]
    }
   ],
   "source": [
    "nums = [ 1, 2, 3, 4, 5]\n",
    "\n",
    "# [ 4, 5]\n",
    "#   0  1  2  3  4\n",
    "for item in nums: # nums[3]\n",
    "    print(item) # 1 3 5\n",
    "    nums.pop(0)\n",
    "    \n",
    "print(nums) # [4, 5]"
   ]
  },
  {
   "cell_type": "code",
   "execution_count": 89,
   "id": "58c80f48",
   "metadata": {},
   "outputs": [],
   "source": [
    "names = [\"c\", \"c++\", \"c\", \"ruby\", \"c\", \"c\", \"python\", \"perl\", \"c\"]\n",
    "\n",
    "# [\"c++\",\"ruby\", \"python\", \"perl\", \"c\"]\n",
    "# [ 0,    1,     2,    3,         4,   5,     6,       7,     8 ]\n",
    "\n",
    "for name in names: # names[5]\n",
    "    if name == \"c\":\n",
    "        names.remove(\"c\")\n"
   ]
  },
  {
   "cell_type": "code",
   "execution_count": 90,
   "id": "789aef1b",
   "metadata": {},
   "outputs": [
    {
     "name": "stdout",
     "output_type": "stream",
     "text": [
      "['c++', 'ruby', 'python', 'perl', 'c']\n"
     ]
    }
   ],
   "source": [
    "print(names) # ? "
   ]
  },
  {
   "cell_type": "code",
   "execution_count": 91,
   "id": "5cfbdab3",
   "metadata": {},
   "outputs": [],
   "source": [
    "names = [\"c\", \"c++\", \"c\", \"ruby\", \"c\", \"c\", \"python\", \"perl\", \"c\"]\n",
    "\n",
    "# [\"c++\",\"ruby\", \"python\", \"perl\", \"c\"]\n",
    "# [ 0,    1,     2,    3,         4,   5,     6,       7,     8 ]\n",
    "\n",
    "for name in names.copy(): # names[5]\n",
    "    if name == \"c\":\n",
    "        names.remove(\"c\")\n"
   ]
  },
  {
   "cell_type": "code",
   "execution_count": 92,
   "id": "44e440b2",
   "metadata": {},
   "outputs": [
    {
     "name": "stdout",
     "output_type": "stream",
     "text": [
      "['c++', 'ruby', 'python', 'perl']\n"
     ]
    }
   ],
   "source": [
    "print(names)"
   ]
  },
  {
   "cell_type": "code",
   "execution_count": 93,
   "id": "ad7e421a",
   "metadata": {},
   "outputs": [],
   "source": [
    "names = [\"c\", \"c++\", \"c\", \"ruby\", \"c\", \"c\", \"python\", \"perl\", \"c\"]\n",
    "\n",
    "# [\"c++\",\"ruby\", \"python\", \"perl\", \"c\"]\n",
    "# [ 0,    1,     2,    3,         4,   5,     6,       7,     8 ]\n",
    "\n",
    "for name in names[:]: # names[5]\n",
    "    if name == \"c\":\n",
    "        names.remove(\"c\")\n"
   ]
  },
  {
   "cell_type": "code",
   "execution_count": 94,
   "id": "2361dac8",
   "metadata": {},
   "outputs": [
    {
     "name": "stdout",
     "output_type": "stream",
     "text": [
      "['c++', 'ruby', 'python', 'perl']\n"
     ]
    }
   ],
   "source": [
    "print(names)"
   ]
  },
  {
   "cell_type": "code",
   "execution_count": null,
   "id": "8495ec74",
   "metadata": {},
   "outputs": [],
   "source": []
  },
  {
   "cell_type": "code",
   "execution_count": null,
   "id": "f22afb62",
   "metadata": {},
   "outputs": [],
   "source": []
  }
 ],
 "metadata": {
  "kernelspec": {
   "display_name": "Python 3 (ipykernel)",
   "language": "python",
   "name": "python3"
  },
  "language_info": {
   "codemirror_mode": {
    "name": "ipython",
    "version": 3
   },
   "file_extension": ".py",
   "mimetype": "text/x-python",
   "name": "python",
   "nbconvert_exporter": "python",
   "pygments_lexer": "ipython3",
   "version": "3.9.13"
  }
 },
 "nbformat": 4,
 "nbformat_minor": 5
}
