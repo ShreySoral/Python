{
 "cells": [
  {
   "cell_type": "markdown",
   "id": "6c3d7a99",
   "metadata": {},
   "source": [
    "# Dictionary\n",
    "\n",
    "  also known as hash map\n",
    "  \n",
    "  collection of unordered key value pairs\n",
    "  \n",
    "  values can be any valid python type\n",
    "  \n",
    "  mutable data type"
   ]
  },
  {
   "cell_type": "code",
   "execution_count": null,
   "id": "12d60cba",
   "metadata": {},
   "outputs": [],
   "source": []
  }
 ],
 "metadata": {
  "kernelspec": {
   "display_name": "Python 3 (ipykernel)",
   "language": "python",
   "name": "python3"
  },
  "language_info": {
   "codemirror_mode": {
    "name": "ipython",
    "version": 3
   },
   "file_extension": ".py",
   "mimetype": "text/x-python",
   "name": "python",
   "nbconvert_exporter": "python",
   "pygments_lexer": "ipython3",
   "version": "3.10.5"
  }
 },
 "nbformat": 4,
 "nbformat_minor": 5
}
