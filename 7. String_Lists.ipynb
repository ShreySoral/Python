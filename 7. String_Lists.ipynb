{
 "cells": [
  {
   "cell_type": "code",
   "execution_count": 5,
   "id": "a8c13367",
   "metadata": {},
   "outputs": [],
   "source": [
    "# Class and objects\n",
    "# class is collection of methods by which we can define behaviour\n",
    "\n",
    "# numbers\n",
    "# immutable can't be changed\n",
    "# used to store and process numbers mathematically\n",
    "# 1 integer\n",
    "# 2 float\n",
    "# 3 complex"
   ]
  },
  {
   "cell_type": "code",
   "execution_count": 6,
   "id": "f824a5ed",
   "metadata": {},
   "outputs": [
    {
     "name": "stdout",
     "output_type": "stream",
     "text": [
      "before\n",
      "5 1771248288112\n",
      "5 1771248288112\n",
      "after\n",
      "10 1771248288272\n",
      "5 1771248288112\n"
     ]
    }
   ],
   "source": [
    "x=5\n",
    "z=x\n",
    "print(\"before\")\n",
    "print(x,id(x))\n",
    "print(z,id(z))\n",
    "\n",
    "print(\"after\")\n",
    "x=x+5\n",
    "print(x,id(x))\n",
    "print(z,id(z))\n"
   ]
  },
  {
   "cell_type": "code",
   "execution_count": 7,
   "id": "c8ccbe69",
   "metadata": {},
   "outputs": [],
   "source": [
    "# mutability data which can be changed"
   ]
  },
  {
   "cell_type": "code",
   "execution_count": 8,
   "id": "fa21fec5",
   "metadata": {},
   "outputs": [
    {
     "name": "stdout",
     "output_type": "stream",
     "text": [
      "['sachin', 'rajat'] 1771355320448\n"
     ]
    }
   ],
   "source": [
    "data=[\"sachin\",\"rajat\"]\n",
    "print(data,id(data))\n"
   ]
  },
  {
   "cell_type": "code",
   "execution_count": 9,
   "id": "43ab8bc3",
   "metadata": {},
   "outputs": [],
   "source": [
    "data.append(\"ravi\")"
   ]
  },
  {
   "cell_type": "code",
   "execution_count": 10,
   "id": "18c94430",
   "metadata": {},
   "outputs": [
    {
     "name": "stdout",
     "output_type": "stream",
     "text": [
      "['sachin', 'rajat', 'ravi'] 1771355320448\n"
     ]
    }
   ],
   "source": [
    "print(data,id(data))"
   ]
  },
  {
   "cell_type": "code",
   "execution_count": 11,
   "id": "612328fb",
   "metadata": {},
   "outputs": [
    {
     "name": "stdout",
     "output_type": "stream",
     "text": [
      "single line and multi-line comment\n"
     ]
    }
   ],
   "source": [
    "# String\n",
    "# sequential data type \n",
    "# we can do indexing or slicing to access elements\n",
    "# immutable\n",
    "# single line string\n",
    "# multi lined string\n",
    "# single line comment\n",
    "\"\"\"\n",
    "this will work like \n",
    "multiline comment \n",
    "in python\n",
    "\"\"\"\n",
    "print('single line and multi-line comment')"
   ]
  },
  {
   "cell_type": "code",
   "execution_count": 14,
   "id": "f6ae512c",
   "metadata": {},
   "outputs": [
    {
     "name": "stdout",
     "output_type": "stream",
     "text": [
      "hello 1771322659120\n",
      "HELLO 1771355323568\n"
     ]
    }
   ],
   "source": [
    "s=\"hello\"\n",
    "print(s,id(s))\n",
    "s=s.upper()\n",
    "print(s,id(s))"
   ]
  },
  {
   "cell_type": "code",
   "execution_count": null,
   "id": "c981a74b",
   "metadata": {},
   "outputs": [],
   "source": []
  }
 ],
 "metadata": {
  "kernelspec": {
   "display_name": "Python 3 (ipykernel)",
   "language": "python",
   "name": "python3"
  },
  "language_info": {
   "codemirror_mode": {
    "name": "ipython",
    "version": 3
   },
   "file_extension": ".py",
   "mimetype": "text/x-python",
   "name": "python",
   "nbconvert_exporter": "python",
   "pygments_lexer": "ipython3",
   "version": "3.10.5"
  }
 },
 "nbformat": 4,
 "nbformat_minor": 5
}
