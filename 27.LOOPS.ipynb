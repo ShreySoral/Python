{
 "cells": [
  {
   "cell_type": "markdown",
   "id": "4860f55e",
   "metadata": {},
   "source": [
    "### LOOPs in Programming"
   ]
  },
  {
   "cell_type": "code",
   "execution_count": 2,
   "id": "e9db57cf",
   "metadata": {},
   "outputs": [
    {
     "name": "stdout",
     "output_type": "stream",
     "text": [
      "hello world!\n"
     ]
    }
   ],
   "source": [
    "ouput = print(\"hello world!\")"
   ]
  },
  {
   "cell_type": "code",
   "execution_count": 3,
   "id": "e59ffeb7",
   "metadata": {},
   "outputs": [
    {
     "name": "stdout",
     "output_type": "stream",
     "text": [
      "None\n"
     ]
    }
   ],
   "source": [
    "print(ouput)"
   ]
  },
  {
   "cell_type": "code",
   "execution_count": 4,
   "id": "e6be8e9a",
   "metadata": {},
   "outputs": [],
   "source": [
    "def greatest(x, y):\n",
    "    if x > y:\n",
    "        print(x)\n",
    "    else:\n",
    "        print(y)"
   ]
  },
  {
   "cell_type": "code",
   "execution_count": 6,
   "id": "54ac4f55",
   "metadata": {},
   "outputs": [
    {
     "name": "stdout",
     "output_type": "stream",
     "text": [
      "50\n",
      "None\n"
     ]
    }
   ],
   "source": [
    "output = greatest(40, 50)\n",
    "# output = None\n",
    "\n",
    "print(output)"
   ]
  },
  {
   "cell_type": "code",
   "execution_count": 10,
   "id": "531cc4f7",
   "metadata": {},
   "outputs": [],
   "source": [
    "def greatest(x, y):\n",
    "    if x > y:\n",
    "        print(x)\n",
    "    else:\n",
    "        print(y)"
   ]
  },
  {
   "cell_type": "code",
   "execution_count": 11,
   "id": "fbb1a0b0",
   "metadata": {},
   "outputs": [
    {
     "name": "stdout",
     "output_type": "stream",
     "text": [
      "50\n",
      "no no no\n"
     ]
    }
   ],
   "source": [
    "if greatest(40, 50):\n",
    "    print(\"ha ha ha\")\n",
    "else:\n",
    "    print(\"no no no\")"
   ]
  },
  {
   "cell_type": "code",
   "execution_count": 12,
   "id": "ad649ac6",
   "metadata": {},
   "outputs": [],
   "source": [
    "def greatest(x, y):\n",
    "    if x > y:\n",
    "        return x\n",
    "    else:\n",
    "        return y"
   ]
  },
  {
   "cell_type": "code",
   "execution_count": 13,
   "id": "96399e05",
   "metadata": {},
   "outputs": [],
   "source": [
    "ans = greatest(40, 50)\n",
    "# ans = 50"
   ]
  },
  {
   "cell_type": "code",
   "execution_count": 14,
   "id": "aa055819",
   "metadata": {},
   "outputs": [
    {
     "name": "stdout",
     "output_type": "stream",
     "text": [
      "50\n"
     ]
    }
   ],
   "source": [
    "print(ans)"
   ]
  },
  {
   "cell_type": "code",
   "execution_count": 15,
   "id": "5aa9b8e8",
   "metadata": {},
   "outputs": [],
   "source": [
    "def is_even(num):\n",
    "    if num % 2 == 0:\n",
    "        return True\n",
    "    else:\n",
    "        return False"
   ]
  },
  {
   "cell_type": "code",
   "execution_count": 16,
   "id": "fc51eba6",
   "metadata": {},
   "outputs": [
    {
     "name": "stdout",
     "output_type": "stream",
     "text": [
      "number: 13\n",
      "Given number 13 is ODD\n"
     ]
    }
   ],
   "source": [
    "num = int(input(\"number: \"))\n",
    "\n",
    "if is_even(num):\n",
    "    print(f\"Given number {num} is EVEN\")\n",
    "else:\n",
    "    print(f\"Given number {num} is ODD\")"
   ]
  },
  {
   "cell_type": "code",
   "execution_count": null,
   "id": "fa7d180a",
   "metadata": {},
   "outputs": [],
   "source": [
    "# complete other questions"
   ]
  },
  {
   "cell_type": "markdown",
   "id": "71030c7d",
   "metadata": {},
   "source": [
    "#### LOOPs"
   ]
  },
  {
   "cell_type": "markdown",
   "id": "afdcf0eb",
   "metadata": {},
   "source": [
    "<h1 style=\"color:red\"> what is loop ?</h1>"
   ]
  },
  {
   "cell_type": "markdown",
   "id": "d74244df",
   "metadata": {},
   "source": [
    "    repeation"
   ]
  },
  {
   "cell_type": "markdown",
   "id": "190a13f8",
   "metadata": {},
   "source": [
    "    print hello world! 10 times "
   ]
  },
  {
   "cell_type": "code",
   "execution_count": 19,
   "id": "15703340",
   "metadata": {},
   "outputs": [
    {
     "name": "stdout",
     "output_type": "stream",
     "text": [
      "Hello Hello Hello Hello Hello Hello Hello Hello Hello Hello \n"
     ]
    }
   ],
   "source": [
    "print(\"Hello \"*10)"
   ]
  },
  {
   "cell_type": "code",
   "execution_count": null,
   "id": "73c9c4df",
   "metadata": {},
   "outputs": [],
   "source": []
  },
  {
   "cell_type": "markdown",
   "id": "7dbfbda0",
   "metadata": {},
   "source": [
    "     hello world!\n",
    "     hello world!\n",
    "     hello world!\n",
    "     ...\n",
    "     hello world!"
   ]
  },
  {
   "cell_type": "code",
   "execution_count": 20,
   "id": "09a974c1",
   "metadata": {},
   "outputs": [
    {
     "name": "stdout",
     "output_type": "stream",
     "text": [
      "Hello World!\n",
      "Hello World!\n",
      "Hello World!\n",
      "Hello World!\n",
      "Hello World!\n",
      "Hello World!\n",
      "Hello World!\n",
      "Hello World!\n",
      "Hello World!\n",
      "Hello World!\n"
     ]
    }
   ],
   "source": [
    "print(\"Hello World!\")\n",
    "print(\"Hello World!\")\n",
    "print(\"Hello World!\")\n",
    "print(\"Hello World!\")\n",
    "print(\"Hello World!\")\n",
    "print(\"Hello World!\")\n",
    "print(\"Hello World!\")\n",
    "print(\"Hello World!\")\n",
    "print(\"Hello World!\")\n",
    "print(\"Hello World!\")\n"
   ]
  },
  {
   "cell_type": "code",
   "execution_count": 21,
   "id": "7fa19650",
   "metadata": {},
   "outputs": [
    {
     "name": "stdout",
     "output_type": "stream",
     "text": [
      "Hello World!\n",
      "Hello World!\n",
      "Hello World!\n",
      "Hello World!\n",
      "Hello World!\n",
      "Hello World!\n",
      "Hello World!\n",
      "Hello World!\n",
      "Hello World!\n",
      "Hello World!\n"
     ]
    }
   ],
   "source": [
    "for _ in range(10):\n",
    "    print(\"Hello World!\")"
   ]
  },
  {
   "cell_type": "code",
   "execution_count": 22,
   "id": "f013466c",
   "metadata": {},
   "outputs": [
    {
     "name": "stdout",
     "output_type": "stream",
     "text": [
      "Enter a number: 5\n"
     ]
    }
   ],
   "source": [
    "num = int(input(\"Enter a number: \"))"
   ]
  },
  {
   "cell_type": "markdown",
   "id": "4ff3716f",
   "metadata": {},
   "source": [
    "    ouput\n",
    "    \n",
    "        5 x 1 = 5\n",
    "        5 x 2 = 10\n",
    "        5 x 3 = 15\n",
    "        ....\n",
    "        \n",
    "        5 x 10 = 50"
   ]
  },
  {
   "cell_type": "code",
   "execution_count": 32,
   "id": "93fd5e66",
   "metadata": {},
   "outputs": [
    {
     "name": "stdout",
     "output_type": "stream",
     "text": [
      "Enter a number: 7\n",
      "7 x 1  = 7\n",
      "7 x 2  = 14\n",
      "7 x 3  = 21\n",
      "7 x 4  = 28\n",
      "7 x 5  = 35\n",
      "7 x 6  = 42\n",
      "7 x 7  = 49\n",
      "7 x 8  = 56\n",
      "7 x 9  = 63\n",
      "7 x 10  = 70\n"
     ]
    }
   ],
   "source": [
    "num = int(input(\"Enter a number: \"))\n",
    "\n",
    "for c in range(1, 11):\n",
    "    print(f\"{num} x {c}  = {num*c}\")"
   ]
  },
  {
   "cell_type": "code",
   "execution_count": 28,
   "id": "a8232355",
   "metadata": {},
   "outputs": [
    {
     "name": "stdout",
     "output_type": "stream",
     "text": [
      "Enter a number: 7\n",
      "7 x 1  = 7\n",
      "7 x 2  = 14\n",
      "7 x 3  = 21\n",
      "7 x 4  = 28\n",
      "7 x 5  = 35\n",
      "7 x 6  = 42\n",
      "7 x 7  = 49\n",
      "7 x 8  = 56\n",
      "7 x 9  = 63\n",
      "7 x 10 = 70\n"
     ]
    }
   ],
   "source": [
    "num = int(input(\"Enter a number: \"))\n",
    "\n",
    "print(f\"{num} x 1  = {num*1}\")\n",
    "print(f\"{num} x 2  = {num*2}\")\n",
    "print(f\"{num} x 3  = {num*3}\")\n",
    "print(f\"{num} x 4  = {num*4}\")\n",
    "print(f\"{num} x 5  = {num*5}\")\n",
    "print(f\"{num} x 6  = {num*6}\")\n",
    "print(f\"{num} x 7  = {num*7}\")\n",
    "print(f\"{num} x 8  = {num*8}\")\n",
    "print(f\"{num} x 9  = {num*9}\")\n",
    "print(f\"{num} x 10 = {num*10}\")"
   ]
  },
  {
   "cell_type": "raw",
   "id": "f89c7908",
   "metadata": {},
   "source": [
    "c = 100\n",
    "while c>0:\n",
    "    print(c)\n",
    "# ESC + ii # interrupt\n",
    "# ESC + 00 # restart"
   ]
  },
  {
   "cell_type": "code",
   "execution_count": 34,
   "id": "daef5ee3",
   "metadata": {},
   "outputs": [
    {
     "name": "stdout",
     "output_type": "stream",
     "text": [
      "100\n",
      "50\n",
      "25\n",
      "12\n",
      "6\n",
      "3\n",
      "1\n"
     ]
    }
   ],
   "source": [
    "c = 100\n",
    "\n",
    "while c>0:\n",
    "    print(c)\n",
    "    c = c // 2"
   ]
  },
  {
   "cell_type": "code",
   "execution_count": 36,
   "id": "efdf104b",
   "metadata": {},
   "outputs": [
    {
     "name": "stdout",
     "output_type": "stream",
     "text": [
      "100\n",
      "50\n",
      "25\n",
      "12\n",
      "6\n",
      "3\n",
      "1\n"
     ]
    }
   ],
   "source": [
    "c = 100\n",
    "while c>0:\n",
    "    print(c)\n",
    "    c = c//2"
   ]
  },
  {
   "cell_type": "code",
   "execution_count": 37,
   "id": "5c120fc4",
   "metadata": {},
   "outputs": [
    {
     "name": "stdout",
     "output_type": "stream",
     "text": [
      "start\n",
      "1\n",
      "2\n",
      "4\n",
      "8\n",
      "16\n",
      "32\n",
      "64\n",
      "end\n"
     ]
    }
   ],
   "source": [
    "c = 1\n",
    "print(\"start\")\n",
    "while c <= 100:\n",
    "    print(c)\n",
    "    c = c * 2\n",
    "print(\"end\")\n",
    "    "
   ]
  },
  {
   "cell_type": "code",
   "execution_count": 38,
   "id": "5b95eeef",
   "metadata": {},
   "outputs": [
    {
     "name": "stdout",
     "output_type": "stream",
     "text": [
      "4\n",
      "6\n",
      "8\n",
      "10\n",
      "12\n",
      "14\n",
      "16\n",
      "18\n",
      "20\n",
      "22\n"
     ]
    }
   ],
   "source": [
    "c = 1\n",
    "while c<=20:\n",
    "    if c%2:\n",
    "        c = c + 3\n",
    "    else:\n",
    "        c = c + 2\n",
    "    print(c)"
   ]
  },
  {
   "cell_type": "code",
   "execution_count": 1,
   "id": "764eeb7c",
   "metadata": {},
   "outputs": [
    {
     "name": "stdout",
     "output_type": "stream",
     "text": [
      "4\n",
      "5\n",
      "8\n",
      "9\n",
      "12\n",
      "13\n",
      "16\n",
      "17\n",
      "20\n",
      "21\n"
     ]
    }
   ],
   "source": [
    "c = 1\n",
    "while c<=20:\n",
    "    if c%2:\n",
    "        c = c + 3\n",
    "    else:\n",
    "        c = c + 1\n",
    "    print(c)"
   ]
  },
  {
   "cell_type": "code",
   "execution_count": null,
   "id": "c31d59ab",
   "metadata": {},
   "outputs": [],
   "source": []
  }
 ],
 "metadata": {
  "kernelspec": {
   "display_name": "Python 3 (ipykernel)",
   "language": "python",
   "name": "python3"
  },
  "language_info": {
   "codemirror_mode": {
    "name": "ipython",
    "version": 3
   },
   "file_extension": ".py",
   "mimetype": "text/x-python",
   "name": "python",
   "nbconvert_exporter": "python",
   "pygments_lexer": "ipython3",
   "version": "3.10.5"
  }
 },
 "nbformat": 4,
 "nbformat_minor": 5
}
