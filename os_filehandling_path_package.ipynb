{
 "cells": [
  {
   "cell_type": "code",
   "execution_count": 1,
   "metadata": {},
   "outputs": [
    {
     "name": "stdout",
     "output_type": "stream",
     "text": [
      "Hello world\n"
     ]
    }
   ],
   "source": [
    "print(\"Hello world\")"
   ]
  },
  {
   "cell_type": "code",
   "execution_count": 2,
   "metadata": {},
   "outputs": [],
   "source": [
    "import os\n",
    "curr_path=os.getcwd()"
   ]
  },
  {
   "cell_type": "code",
   "execution_count": 3,
   "metadata": {},
   "outputs": [
    {
     "name": "stdout",
     "output_type": "stream",
     "text": [
      "c:\\Users\\Shruy\\Desktop\\Computer science\\Python\\Advance Python\\Modules_Packages\\13.Packages_FileHandling\n"
     ]
    }
   ],
   "source": [
    "print(curr_path)"
   ]
  },
  {
   "cell_type": "code",
   "execution_count": 4,
   "metadata": {},
   "outputs": [],
   "source": [
    "status_code=os.system(\"notepad\")"
   ]
  },
  {
   "cell_type": "code",
   "execution_count": 5,
   "metadata": {},
   "outputs": [
    {
     "name": "stdout",
     "output_type": "stream",
     "text": [
      "0\n"
     ]
    }
   ],
   "source": [
    "print(status_code)"
   ]
  },
  {
   "cell_type": "code",
   "execution_count": 7,
   "metadata": {},
   "outputs": [],
   "source": [
    "d=os.system(\"abcdefghi\")"
   ]
  },
  {
   "cell_type": "code",
   "execution_count": 8,
   "metadata": {},
   "outputs": [
    {
     "name": "stdout",
     "output_type": "stream",
     "text": [
      "1\n"
     ]
    }
   ],
   "source": [
    "print(d)"
   ]
  },
  {
   "cell_type": "code",
   "execution_count": 9,
   "metadata": {},
   "outputs": [
    {
     "data": {
      "text/plain": [
       "0"
      ]
     },
     "execution_count": 9,
     "metadata": {},
     "output_type": "execute_result"
    }
   ],
   "source": [
    "os.system(\"dir C:\\\\users\\\\Shruy\\\\Desktop\")"
   ]
  },
  {
   "cell_type": "code",
   "execution_count": 10,
   "metadata": {},
   "outputs": [],
   "source": [
    "import subprocess\n",
    "status,output=subprocess.getstatusoutput(\"dir C:\\\\users\\Shruy\\\\Desktop\")"
   ]
  },
  {
   "cell_type": "code",
   "execution_count": 11,
   "metadata": {},
   "outputs": [
    {
     "name": "stdout",
     "output_type": "stream",
     "text": [
      "0  Volume in drive C is Windows\n",
      " Volume Serial Number is 1860-1F59\n",
      "\n",
      " Directory of C:\\users\\Shruy\\Desktop\n",
      "\n",
      "14-12-2022  12:04    <DIR>          .\n",
      "14-12-2022  12:09    <DIR>          ..\n",
      "15-07-2021  15:51            78,594 barcode.jpg\n",
      "15-07-2021  15:51         1,090,197 barcode1.png\n",
      "15-07-2021  15:51            86,591 bill.jpg\n",
      "15-07-2021  15:52           152,508 bill1.jpg\n",
      "25-07-2022  12:26           520,256 birth Certificate07252022114025.pdf\n",
      "04-11-2022  19:35    <DIR>          books\n",
      "02-12-2022  13:44    <DIR>          Certs\n",
      "05-12-2022  18:37    <DIR>          Computer science\n",
      "13-12-2022  16:55            15,955 Document (63).docx\n",
      "29-11-2022  09:21    <DIR>          Documents\n",
      "08-12-2022  13:55    <DIR>          German\n",
      "23-07-2022  23:01    <DIR>          Shrey\n",
      "12-09-2022  22:32             2,401 shrey - Chrome.lnk\n",
      "08-10-2022  11:35         3,355,483 ShreySoral_test1.pdf\n",
      "30-06-2022  12:23             1,411 Visual Studio Code.lnk\n",
      "01-11-2022  22:01             1,963 Zoom.lnk\n",
      "              10 File(s)      5,305,359 bytes\n",
      "               8 Dir(s)  37,605,482,496 bytes free\n"
     ]
    }
   ],
   "source": [
    "print(status,output)"
   ]
  },
  {
   "cell_type": "code",
   "execution_count": 12,
   "metadata": {},
   "outputs": [],
   "source": [
    "status, output=subprocess.getstatusoutput(\"mkdir C:\\\\users\\\\shruy\\\\Desktop\\\\ABCD\")"
   ]
  },
  {
   "cell_type": "code",
   "execution_count": 13,
   "metadata": {},
   "outputs": [
    {
     "name": "stdout",
     "output_type": "stream",
     "text": [
      "0 \n"
     ]
    }
   ],
   "source": [
    "print(status,output)"
   ]
  },
  {
   "cell_type": "code",
   "execution_count": 14,
   "metadata": {},
   "outputs": [
    {
     "name": "stderr",
     "output_type": "stream",
     "text": [
      "'pwd' is not recognized as an internal or external command,\n",
      "operable program or batch file.\n"
     ]
    }
   ],
   "source": [
    "!pwd"
   ]
  },
  {
   "cell_type": "code",
   "execution_count": 15,
   "metadata": {},
   "outputs": [],
   "source": [
    "pwd=os.getcwd()"
   ]
  },
  {
   "cell_type": "code",
   "execution_count": 16,
   "metadata": {},
   "outputs": [
    {
     "name": "stdout",
     "output_type": "stream",
     "text": [
      "c:\\Users\\Shruy\\Desktop\\Computer science\\Python\\Advance Python\\Modules_Packages\\13.Packages_FileHandling\n"
     ]
    }
   ],
   "source": [
    "print(pwd)"
   ]
  },
  {
   "cell_type": "code",
   "execution_count": 19,
   "metadata": {},
   "outputs": [],
   "source": [
    "files=os.listdir(\"C:\\\\users\\\\shruy\\\\desktop\")"
   ]
  },
  {
   "cell_type": "code",
   "execution_count": 20,
   "metadata": {},
   "outputs": [
    {
     "name": "stdout",
     "output_type": "stream",
     "text": [
      "['.git', 'barcode.jpg', 'barcode1.png', 'bill.jpg', 'bill1.jpg', 'birth Certificate07252022114025.pdf', 'books', 'Certs', 'Computer science', 'desktop.ini', 'Document (63).docx', 'Documents', 'German', 'Shrey', 'shrey - Chrome.lnk', 'ShreySoral_test1.pdf', 'Visual Studio Code.lnk', 'Zoom.lnk']\n"
     ]
    }
   ],
   "source": [
    "print(files)"
   ]
  },
  {
   "cell_type": "code",
   "execution_count": 21,
   "metadata": {},
   "outputs": [],
   "source": [
    "# os.path is a module by which you can work with path"
   ]
  },
  {
   "cell_type": "code",
   "execution_count": 22,
   "metadata": {},
   "outputs": [],
   "source": [
    "a=os.path.exists(\"C:\\\\agggg\\\\kuch\\\\bhi\")"
   ]
  },
  {
   "cell_type": "code",
   "execution_count": 23,
   "metadata": {},
   "outputs": [
    {
     "name": "stdout",
     "output_type": "stream",
     "text": [
      "False\n"
     ]
    }
   ],
   "source": [
    "print(a)"
   ]
  },
  {
   "cell_type": "code",
   "execution_count": 24,
   "metadata": {},
   "outputs": [
    {
     "name": "stdout",
     "output_type": "stream",
     "text": [
      "Path exists\n"
     ]
    }
   ],
   "source": [
    "path=input(\"Path: \")\n",
    "if os.path.exists(path):\n",
    "    print(\"Path exists\")\n",
    "else:\n",
    "    print(\"Path does not exists\")"
   ]
  },
  {
   "cell_type": "code",
   "execution_count": 25,
   "metadata": {},
   "outputs": [],
   "source": [
    "DIR_PATH=\"C:\\\\users\\\\sachin\\\\Desktop\""
   ]
  },
  {
   "cell_type": "code",
   "execution_count": 26,
   "metadata": {},
   "outputs": [
    {
     "data": {
      "text/plain": [
       "'\\\\Users\\\\Shruy'"
      ]
     },
     "execution_count": 26,
     "metadata": {},
     "output_type": "execute_result"
    }
   ],
   "source": [
    "os.environ[\"HOMEPATH\"]"
   ]
  },
  {
   "cell_type": "code",
   "execution_count": 39,
   "metadata": {},
   "outputs": [
    {
     "name": "stdout",
     "output_type": "stream",
     "text": [
      "Created file Hello.txt on the PATH\n"
     ]
    }
   ],
   "source": [
    "# type of files\n",
    "# t- text file these files are human readable\n",
    "# b- byte files these files are not human readable\n",
    "\n",
    "\n",
    "# mode of files\n",
    "# r readonly[throw an error if file does not exist]\n",
    "# w write[if file doesn't exist it creates a new file]\n",
    "# a append [create new file if file does not exist]\n",
    "# x write new file only mode if file already exist then throw an error\n",
    "# Set the path of the file\n",
    "file_path = os.path.join(os.environ[\"HOMEPATH\"], \"Downloads\", \"Hello.txt\")\n",
    "\n",
    "# Check if the file exists\n",
    "if os.path.exists(file_path):\n",
    "    print(\"File exists\")\n",
    "else:\n",
    "    # Create the file on the specified path\n",
    "    with open(file_path, \"w\") as file:\n",
    "        print('Created file Hello.txt on the PATH')\n"
   ]
  },
  {
   "cell_type": "code",
   "execution_count": 40,
   "metadata": {},
   "outputs": [
    {
     "name": "stdout",
     "output_type": "stream",
     "text": [
      "Writing abcd.txt\n"
     ]
    }
   ],
   "source": [
    "%%writefile abcd.txt\n",
    "    Hello world!\n",
    "        From a file"
   ]
  },
  {
   "cell_type": "code",
   "execution_count": null,
   "metadata": {},
   "outputs": [],
   "source": []
  },
  {
   "cell_type": "code",
   "execution_count": null,
   "metadata": {},
   "outputs": [],
   "source": []
  }
 ],
 "metadata": {
  "kernelspec": {
   "display_name": "Python 3.10.5 64-bit",
   "language": "python",
   "name": "python3"
  },
  "language_info": {
   "codemirror_mode": {
    "name": "ipython",
    "version": 3
   },
   "file_extension": ".py",
   "mimetype": "text/x-python",
   "name": "python",
   "nbconvert_exporter": "python",
   "pygments_lexer": "ipython3",
   "version": "3.10.5"
  },
  "orig_nbformat": 4,
  "vscode": {
   "interpreter": {
    "hash": "99b4d5e1c846a82edbf8bc2f68c9ae72137f89fea0c9c349faef6dfe4bf5f3ed"
   }
  }
 },
 "nbformat": 4,
 "nbformat_minor": 2
}
