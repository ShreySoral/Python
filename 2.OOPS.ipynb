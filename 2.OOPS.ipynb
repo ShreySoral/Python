{
 "cells": [
  {
   "cell_type": "markdown",
   "id": "0695c604",
   "metadata": {},
   "source": [
    "## OOPS \n",
    "    class and object"
   ]
  },
  {
   "cell_type": "code",
   "execution_count": 1,
   "id": "d7ab548e",
   "metadata": {},
   "outputs": [
    {
     "name": "stdout",
     "output_type": "stream",
     "text": [
      "5 <class 'int'>\n",
      "10.5 <class 'float'>\n",
      "[1, 2, 3] <class 'list'>\n"
     ]
    }
   ],
   "source": [
    "x=int(5)\n",
    "y=float(10.5)\n",
    "z=list([1,2,3])\n",
    "print(x,type(x))\n",
    "print(y,type(y))\n",
    "print(z,type(z))"
   ]
  },
  {
   "cell_type": "code",
   "execution_count": 2,
   "id": "8b4604cb",
   "metadata": {},
   "outputs": [
    {
     "name": "stdout",
     "output_type": "stream",
     "text": [
      "[10, 20, 30] <class 'list'>\n"
     ]
    }
   ],
   "source": [
    "a=list([10,20,30])\n",
    "print(a,type(a))"
   ]
  },
  {
   "cell_type": "markdown",
   "id": "15828c88",
   "metadata": {},
   "source": [
    "## constructor\n",
    "    methods which participates during instantiation of an instance\n",
    "    instantiation is a process of creations of object\n",
    "    \n",
    "    constructor allocates memory to an instance\n",
    "    \n",
    "    \n",
    "    also known as magic methods\n",
    "    \n",
    "    \n",
    "            `__new__` used to allocate memory for newly created object\n",
    "            `__init__` it is used to initialize initial values passed during instantiation\n",
    "            \n",
    "            \n",
    "            Representation methods\n",
    "            `__str__` string representation of an object / print(obj)\n",
    "            \n",
    "            `__repr__`  returns the object representation in string format. This method is called when repr() function is invoked on the object."
   ]
  },
  {
   "cell_type": "code",
   "execution_count": 3,
   "id": "986bc4e3",
   "metadata": {},
   "outputs": [
    {
     "name": "stdout",
     "output_type": "stream",
     "text": [
      "[1, 2, 3, 10]\n"
     ]
    }
   ],
   "source": [
    "x=[1,2,3]\n",
    "x.append(10)\n",
    "print(x)"
   ]
  },
  {
   "cell_type": "code",
   "execution_count": 4,
   "id": "143f503e",
   "metadata": {},
   "outputs": [],
   "source": [
    "one=[1,2]\n",
    "two=[4,5]\n",
    "three=one+two"
   ]
  },
  {
   "cell_type": "code",
   "execution_count": 5,
   "id": "9466b47c",
   "metadata": {},
   "outputs": [
    {
     "name": "stdout",
     "output_type": "stream",
     "text": [
      "[1, 2, 4, 5]\n"
     ]
    }
   ],
   "source": [
    "print(three)"
   ]
  },
  {
   "cell_type": "code",
   "execution_count": 6,
   "id": "1408dd79",
   "metadata": {},
   "outputs": [
    {
     "name": "stdout",
     "output_type": "stream",
     "text": [
      "[1, 2, 4, 5]\n"
     ]
    }
   ],
   "source": [
    "three=list.__add__(one,two)\n",
    "print(three)"
   ]
  },
  {
   "cell_type": "code",
   "execution_count": 7,
   "id": "f7e20572",
   "metadata": {},
   "outputs": [],
   "source": [
    "a=list([1,2,3])\n",
    "# instantiation"
   ]
  },
  {
   "cell_type": "code",
   "execution_count": 8,
   "id": "ce8aacf5",
   "metadata": {},
   "outputs": [
    {
     "name": "stdout",
     "output_type": "stream",
     "text": [
      "[1, 2, 3]\n"
     ]
    }
   ],
   "source": [
    "print(a)"
   ]
  },
  {
   "cell_type": "code",
   "execution_count": 9,
   "id": "d26a93b0",
   "metadata": {},
   "outputs": [],
   "source": [
    "# new is used to allocate memory or newly created objects and bind it to the class"
   ]
  },
  {
   "cell_type": "code",
   "execution_count": 10,
   "id": "6db5af0b",
   "metadata": {},
   "outputs": [],
   "source": [
    "# objects are created by constructors"
   ]
  },
  {
   "cell_type": "code",
   "execution_count": 12,
   "id": "50d78bdc",
   "metadata": {},
   "outputs": [
    {
     "name": "stdout",
     "output_type": "stream",
     "text": [
      "[1, 2, 3]\n",
      "[1, 2, 3]\n"
     ]
    }
   ],
   "source": [
    "x=[1,2,3]\n",
    "print(x)\n",
    "print(list.__str__(x))"
   ]
  },
  {
   "cell_type": "code",
   "execution_count": 13,
   "id": "107a2095",
   "metadata": {},
   "outputs": [],
   "source": [
    "class phone:\n",
    "    def call(self):\n",
    "        print(\"call\")\n",
    "    def msg(self):\n",
    "        print(\"text\")"
   ]
  },
  {
   "cell_type": "code",
   "execution_count": 14,
   "id": "468f464d",
   "metadata": {},
   "outputs": [],
   "source": [
    "class Iphone(phone):\n",
    "    def vcall(self):\n",
    "        print(\"video call\")"
   ]
  },
  {
   "cell_type": "code",
   "execution_count": 15,
   "id": "5288e9f8",
   "metadata": {},
   "outputs": [
    {
     "name": "stdout",
     "output_type": "stream",
     "text": [
      "<__main__.Iphone object at 0x00000237130C5930>\n"
     ]
    }
   ],
   "source": [
    "iphone6=Iphone()\n",
    "print(iphone6)"
   ]
  },
  {
   "cell_type": "code",
   "execution_count": 16,
   "id": "d644fe2d",
   "metadata": {},
   "outputs": [
    {
     "name": "stdout",
     "output_type": "stream",
     "text": [
      "<__main__.A object at 0x00000237130C7B20>\n"
     ]
    }
   ],
   "source": [
    "class A:\n",
    "    pass\n",
    "a=A()\n",
    "print(a)"
   ]
  },
  {
   "cell_type": "code",
   "execution_count": 17,
   "id": "efc899fc",
   "metadata": {},
   "outputs": [
    {
     "name": "stdout",
     "output_type": "stream",
     "text": [
      "text\n"
     ]
    }
   ],
   "source": [
    "iphone6.msg()"
   ]
  },
  {
   "cell_type": "code",
   "execution_count": 18,
   "id": "79be6eac",
   "metadata": {},
   "outputs": [
    {
     "name": "stdout",
     "output_type": "stream",
     "text": [
      "['__class__', '__delattr__', '__dir__', '__doc__', '__eq__', '__format__', '__ge__', '__getattribute__', '__gt__', '__hash__', '__init__', '__init_subclass__', '__le__', '__lt__', '__ne__', '__new__', '__reduce__', '__reduce_ex__', '__repr__', '__setattr__', '__sizeof__', '__str__', '__subclasshook__']\n"
     ]
    }
   ],
   "source": [
    "print(dir(object))"
   ]
  },
  {
   "cell_type": "code",
   "execution_count": 19,
   "id": "15b38b66",
   "metadata": {},
   "outputs": [],
   "source": [
    "class A:\n",
    "    def hello(self):\n",
    "        print(\"hello\")\n",
    "\n",
    "class B(A):\n",
    "    pass"
   ]
  },
  {
   "cell_type": "code",
   "execution_count": 20,
   "id": "53cbdc04",
   "metadata": {},
   "outputs": [
    {
     "name": "stdout",
     "output_type": "stream",
     "text": [
      "hello\n"
     ]
    }
   ],
   "source": [
    "b1=B()\n",
    "b1.hello()"
   ]
  },
  {
   "cell_type": "code",
   "execution_count": 23,
   "id": "9e50b16b",
   "metadata": {},
   "outputs": [],
   "source": [
    "class A:\n",
    "    def hello(self):\n",
    "        print(\"hello\")\n",
    "\n",
    "class B(A):\n",
    "#     over-riding\n",
    "    def hello(self):\n",
    "        print(\"solve\")"
   ]
  },
  {
   "cell_type": "code",
   "execution_count": 24,
   "id": "0dad1a69",
   "metadata": {},
   "outputs": [
    {
     "name": "stdout",
     "output_type": "stream",
     "text": [
      "solve\n"
     ]
    }
   ],
   "source": [
    "b1=B()\n",
    "b1.hello()"
   ]
  },
  {
   "cell_type": "code",
   "execution_count": 27,
   "id": "ae97aff4",
   "metadata": {},
   "outputs": [],
   "source": [
    "class A:\n",
    "    def __new__(cls,*args,**kwargs):\n",
    "        print(f\"creating an instance of {cls}\")\n",
    "        self=object.__new__(cls)\n",
    "        print(f\"instance {self} has been created\")\n",
    "        return self\n",
    "    def __str__(self):\n",
    "        return \"I am an object of class A\""
   ]
  },
  {
   "cell_type": "code",
   "execution_count": 26,
   "id": "34bbd02a",
   "metadata": {},
   "outputs": [
    {
     "name": "stdout",
     "output_type": "stream",
     "text": [
      "creating an instance of <class '__main__.A'>\n",
      "instance <__main__.A object at 0x00000237130C7AC0> has been created\n",
      "<__main__.A object at 0x00000237130C7AC0>\n"
     ]
    }
   ],
   "source": [
    "a=A()\n",
    "print(a)"
   ]
  },
  {
   "cell_type": "code",
   "execution_count": 28,
   "id": "a850569a",
   "metadata": {},
   "outputs": [
    {
     "name": "stdout",
     "output_type": "stream",
     "text": [
      "creating an instance of <class '__main__.A'>\n",
      "instance I am an object of class A has been created\n"
     ]
    }
   ],
   "source": [
    "x=A()"
   ]
  },
  {
   "cell_type": "code",
   "execution_count": 29,
   "id": "be738e82",
   "metadata": {},
   "outputs": [
    {
     "name": "stdout",
     "output_type": "stream",
     "text": [
      "I am an object of class A\n"
     ]
    }
   ],
   "source": [
    "print(x)"
   ]
  },
  {
   "cell_type": "code",
   "execution_count": null,
   "id": "1995ad70",
   "metadata": {},
   "outputs": [],
   "source": []
  }
 ],
 "metadata": {
  "kernelspec": {
   "display_name": "Python 3 (ipykernel)",
   "language": "python",
   "name": "python3"
  },
  "language_info": {
   "codemirror_mode": {
    "name": "ipython",
    "version": 3
   },
   "file_extension": ".py",
   "mimetype": "text/x-python",
   "name": "python",
   "nbconvert_exporter": "python",
   "pygments_lexer": "ipython3",
   "version": "3.10.5"
  }
 },
 "nbformat": 4,
 "nbformat_minor": 5
}
