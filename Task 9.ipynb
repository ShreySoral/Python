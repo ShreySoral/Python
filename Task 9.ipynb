{
 "cells": [
  {
   "cell_type": "code",
   "execution_count": 1,
   "id": "94284848",
   "metadata": {},
   "outputs": [
    {
     "name": "stdout",
     "output_type": "stream",
     "text": [
      "enter the number\n",
      "9\n",
      "positive\n"
     ]
    }
   ],
   "source": [
    "num=int(input(\"enter the number\\n\"))\n",
    "if num<0:\n",
    "    print(\"negative\")\n",
    "if num ==0:\n",
    "    print(\"0\")\n",
    "if num>0:\n",
    "    print(\"positive\")"
   ]
  },
  {
   "cell_type": "code",
   "execution_count": 3,
   "id": "b169f06c",
   "metadata": {},
   "outputs": [
    {
     "name": "stdout",
     "output_type": "stream",
     "text": [
      "enter a number8\n",
      "divisible\n"
     ]
    }
   ],
   "source": [
    "number=int(input(\"enter a number\"))\n",
    "if number/5 and 11:\n",
    "    print(\"divisible\")"
   ]
  },
  {
   "cell_type": "code",
   "execution_count": 4,
   "id": "87bdf587",
   "metadata": {},
   "outputs": [
    {
     "name": "stdout",
     "output_type": "stream",
     "text": [
      "2000 is a leap year\n"
     ]
    }
   ],
   "source": [
    "# Python program to check if year is a leap year or not\n",
    "\n",
    "year = 2000\n",
    "\n",
    "# To get year (integer input) from the user\n",
    "# year = int(input(\"Enter a year: \"))\n",
    "\n",
    "# divided by 100 means century year (ending with 00)\n",
    "# century year divided by 400 is leap year\n",
    "if (year % 400 == 0) and (year % 100 == 0):\n",
    "    print(\"{0} is a leap year\".format(year))\n",
    "\n",
    "# not divided by 100 means not a century year\n",
    "# year divided by 4 is a leap year\n",
    "elif (year % 4 ==0) and (year % 100 != 0):\n",
    "    print(\"{0} is a leap year\".format(year))\n",
    "\n",
    "# if not divided by both 400 (century year) and 4 (not century year)\n",
    "# year is not leap year\n",
    "else:\n",
    "    print(\"{0} is not a leap year\".format(year))"
   ]
  },
  {
   "cell_type": "code",
   "execution_count": null,
   "id": "888685aa",
   "metadata": {},
   "outputs": [],
   "source": [
    "print(\"Enter a Character: \")\n",
    "c = input()\n",
    "if c>='a' and c<='z':\n",
    "    print(\"\\nIt is an alphabet\")\n",
    "elif c>='A' and c<='z':\n",
    "    print(\"\\nIt is an alphabet\")\n",
    "else:\n",
    "    print(\"\\nIt is not an alphabet!\")"
   ]
  },
  {
   "cell_type": "code",
   "execution_count": null,
   "id": "b4735187",
   "metadata": {},
   "outputs": [],
   "source": [
    "c = 'a'\n",
    "\n",
    "# checking for vowels\n",
    "if c == 'a' or c == 'e' or c == 'i' or c == 'o' or c == 'u' or c == 'A' or c == 'E' or c == 'I' or c == 'O' or c == 'U':\n",
    "    print(c, \"is a vowel\")  # condition true input is vowel\n",
    "else:\n",
    "    print(c, \"is a consonant\")  # condition true input is consonant"
   ]
  },
  {
   "cell_type": "code",
   "execution_count": null,
   "id": "b3e47c99",
   "metadata": {},
   "outputs": [],
   "source": [
    "# Take character input from user\n",
    "ch = input(\"Enter any character : \")\n",
    "\n",
    "# Check for alphabet and digit.\n",
    "if ch[0].isalpha() :\n",
    "    print(\"\\n\" + ch[0], \"is A ALPHABET.\")\n",
    "elif ch[0].isdigit() :\n",
    "    print(\"\\n\" + ch[0], \"is A DIGIT.\")\n",
    "else :\n",
    "    print(\"\\n\" + ch[0], \"is A SPECIAL CHARACTER.\")"
   ]
  },
  {
   "cell_type": "code",
   "execution_count": null,
   "id": "abdbf14f",
   "metadata": {},
   "outputs": [],
   "source": []
  }
 ],
 "metadata": {
  "kernelspec": {
   "display_name": "Python 3 (ipykernel)",
   "language": "python",
   "name": "python3"
  },
  "language_info": {
   "codemirror_mode": {
    "name": "ipython",
    "version": 3
   },
   "file_extension": ".py",
   "mimetype": "text/x-python",
   "name": "python",
   "nbconvert_exporter": "python",
   "pygments_lexer": "ipython3",
   "version": "3.10.5"
  }
 },
 "nbformat": 4,
 "nbformat_minor": 5
}
