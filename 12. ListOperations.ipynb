{
 "cells": [
  {
   "cell_type": "markdown",
   "id": "2482be33",
   "metadata": {},
   "source": [
    "### List\n",
    "\n",
    "  1. collection of homogenous or hetrogenous elements / items \n",
    "  \n",
    "  2. ordered sequential data type\n",
    "  \n",
    "  3. mutable data type\n",
    "  \n",
    "  4. support indexing and slicing"
   ]
  },
  {
   "cell_type": "code",
   "execution_count": 1,
   "id": "2bd892a6",
   "metadata": {},
   "outputs": [],
   "source": [
    "language=[\"python\",\"java\",\"c\",\"c++\"]\n"
   ]
  },
  {
   "cell_type": "code",
   "execution_count": 4,
   "id": "9ae947e3",
   "metadata": {},
   "outputs": [
    {
     "name": "stdout",
     "output_type": "stream",
     "text": [
      "<class 'list'>\n",
      "1762235076032\n",
      "['__add__', '__class__', '__class_getitem__', '__contains__', '__delattr__', '__delitem__', '__dir__', '__doc__', '__eq__', '__format__', '__ge__', '__getattribute__', '__getitem__', '__gt__', '__hash__', '__iadd__', '__imul__', '__init__', '__init_subclass__', '__iter__', '__le__', '__len__', '__lt__', '__mul__', '__ne__', '__new__', '__reduce__', '__reduce_ex__', '__repr__', '__reversed__', '__rmul__', '__setattr__', '__setitem__', '__sizeof__', '__str__', '__subclasshook__', 'append', 'clear', 'copy', 'count', 'extend', 'index', 'insert', 'pop', 'remove', 'reverse', 'sort']\n"
     ]
    }
   ],
   "source": [
    "print(type(language))\n",
    "print(id(language))\n",
    "print(dir(language))"
   ]
  },
  {
   "cell_type": "markdown",
   "id": "03148c0f",
   "metadata": {},
   "source": [
    "### to add an element\n",
    "1. list.append(item)- will add item at the end\n",
    "2. .insert will add item at index location\n",
    "3. .extend - will iterate each item sequentially and add them sequentially at the end of list\n",
    "\n"
   ]
  },
  {
   "cell_type": "markdown",
   "id": "095b6cb8",
   "metadata": {},
   "source": [
    "### to delete an element\n",
    "1. item =list.pop - delete and return last item from list\n",
    "2. .remove(item) search and delete the first occurence of item from a list"
   ]
  },
  {
   "cell_type": "code",
   "execution_count": 5,
   "id": "1b8d2f9f",
   "metadata": {},
   "outputs": [
    {
     "name": "stdout",
     "output_type": "stream",
     "text": [
      "first output ['java', 'python', 'c++', 'ruby', 'go', 'perl']\n",
      "second output ['java', 'python', 'c++', 'ruby', 'go', 'perl', 'swift']\n",
      "third output is ['java', 'c++', 'ruby', 'go', 'perl', 'swift', ['html', 'css', 'js'], 'p', 'y', 't', 'h', 'o', 'n']\n"
     ]
    }
   ],
   "source": [
    "data=['java','c']\n",
    "data.append(\"c++\")\n",
    "data.insert(1,\"python\")\n",
    "data.extend(['ruby','go','perl'])\n",
    "data.pop(2)\n",
    "# first output\n",
    "print(f\"first output\", data)\n",
    "data.append('swift')\n",
    "data.insert(0,'go')\n",
    "data.remove('go')\n",
    "# second output\n",
    "print(f\"second output\", data)\n",
    "data.append(['html','css','js'])\n",
    "data.pop(1)\n",
    "data.extend('python')\n",
    "# third output\n",
    "print(f\"third output is\", data)"
   ]
  },
  {
   "cell_type": "code",
   "execution_count": 6,
   "id": "242a1542",
   "metadata": {},
   "outputs": [],
   "source": [
    "a=[]\n",
    "a.append(123)"
   ]
  },
  {
   "cell_type": "code",
   "execution_count": 7,
   "id": "759df461",
   "metadata": {},
   "outputs": [
    {
     "name": "stdout",
     "output_type": "stream",
     "text": [
      "[123]\n"
     ]
    }
   ],
   "source": [
    "print(a)"
   ]
  },
  {
   "cell_type": "code",
   "execution_count": 8,
   "id": "f64eed45",
   "metadata": {},
   "outputs": [
    {
     "ename": "TypeError",
     "evalue": "'int' object is not iterable",
     "output_type": "error",
     "traceback": [
      "\u001b[1;31m---------------------------------------------------------------------------\u001b[0m",
      "\u001b[1;31mTypeError\u001b[0m                                 Traceback (most recent call last)",
      "Input \u001b[1;32mIn [8]\u001b[0m, in \u001b[0;36m<cell line: 1>\u001b[1;34m()\u001b[0m\n\u001b[1;32m----> 1\u001b[0m \u001b[43ma\u001b[49m\u001b[38;5;241;43m.\u001b[39;49m\u001b[43mextend\u001b[49m\u001b[43m(\u001b[49m\u001b[38;5;241;43m123\u001b[39;49m\u001b[43m)\u001b[49m\n",
      "\u001b[1;31mTypeError\u001b[0m: 'int' object is not iterable"
     ]
    }
   ],
   "source": [
    "a.extend(123)"
   ]
  },
  {
   "cell_type": "code",
   "execution_count": 9,
   "id": "c4b7a215",
   "metadata": {},
   "outputs": [
    {
     "name": "stdout",
     "output_type": "stream",
     "text": [
      "[123, '1', '2', '3']\n"
     ]
    }
   ],
   "source": [
    "a.extend('123')\n",
    "print(a)"
   ]
  },
  {
   "cell_type": "markdown",
   "id": "40f14aaf",
   "metadata": {},
   "source": [
    "### add/remove\n",
    "append\n",
    "insert\n",
    "extend\n",
    "\n",
    "pop\n",
    "remove"
   ]
  },
  {
   "cell_type": "markdown",
   "id": "5eccc75d",
   "metadata": {},
   "source": [
    "### common operations on list\n",
    "1. sort only applicable if list is homogenous arrange in ascending or descending order"
   ]
  },
  {
   "cell_type": "code",
   "execution_count": 10,
   "id": "4f502609",
   "metadata": {},
   "outputs": [],
   "source": [
    "from random import randint\n",
    "nums=[randint(10,50) for _ in range(10)]"
   ]
  },
  {
   "cell_type": "code",
   "execution_count": 11,
   "id": "3c4c92ff",
   "metadata": {},
   "outputs": [
    {
     "data": {
      "text/plain": [
       "[25, 39, 35, 33, 33, 39, 46, 24, 36, 49]"
      ]
     },
     "execution_count": 11,
     "metadata": {},
     "output_type": "execute_result"
    }
   ],
   "source": [
    "nums"
   ]
  },
  {
   "cell_type": "code",
   "execution_count": 13,
   "id": "b666d13c",
   "metadata": {},
   "outputs": [
    {
     "name": "stdout",
     "output_type": "stream",
     "text": [
      "[47, 23, 18]\n"
     ]
    }
   ],
   "source": [
    "b=[randint(10,50),randint(10,50),randint(10,50)]\n",
    "print(b)"
   ]
  },
  {
   "cell_type": "code",
   "execution_count": 16,
   "id": "57b916a8",
   "metadata": {},
   "outputs": [],
   "source": [
    "nums.sort()"
   ]
  },
  {
   "cell_type": "code",
   "execution_count": 17,
   "id": "0acec7a0",
   "metadata": {},
   "outputs": [
    {
     "name": "stdout",
     "output_type": "stream",
     "text": [
      "[24, 25, 33, 33, 35, 36, 39, 39, 46, 49]\n"
     ]
    }
   ],
   "source": [
    "print(nums)"
   ]
  },
  {
   "cell_type": "code",
   "execution_count": 19,
   "id": "83ebdfec",
   "metadata": {},
   "outputs": [
    {
     "name": "stdout",
     "output_type": "stream",
     "text": [
      "Help on built-in function sort:\n",
      "\n",
      "sort(*, key=None, reverse=False) method of builtins.list instance\n",
      "    Sort the list in ascending order and return None.\n",
      "    \n",
      "    The sort is in-place (i.e. the list itself is modified) and stable (i.e. the\n",
      "    order of two equal elements is maintained).\n",
      "    \n",
      "    If a key function is given, apply it once to each list item and sort them,\n",
      "    ascending or descending, according to their function values.\n",
      "    \n",
      "    The reverse flag can be set to sort in descending order.\n",
      "\n"
     ]
    }
   ],
   "source": [
    "help(nums.sort)"
   ]
  },
  {
   "cell_type": "code",
   "execution_count": 20,
   "id": "7875f680",
   "metadata": {},
   "outputs": [],
   "source": [
    "names=[\"shrey\",\"sachin\",\"ravi\",\"nidhi\",\"rajat\",\"kalpana\",\"shivani\",\"simran\"]"
   ]
  },
  {
   "cell_type": "code",
   "execution_count": 22,
   "id": "9ad35655",
   "metadata": {},
   "outputs": [
    {
     "name": "stdout",
     "output_type": "stream",
     "text": [
      "['kalpana', 'nidhi', 'rajat', 'ravi', 'sachin', 'shivani', 'shrey', 'simran']\n"
     ]
    }
   ],
   "source": [
    "names.sort()\n",
    "print(names)\n",
    "# case sensitive if a letter is capital then that name will be first"
   ]
  },
  {
   "cell_type": "code",
   "execution_count": 24,
   "id": "335af597",
   "metadata": {},
   "outputs": [],
   "source": [
    "marks=[\n",
    "    [\"shrey\",randint(50,100)],\n",
    "    [\"shyam\",randint(50,100)],\n",
    "    [\"rohit\",randint(50,100)],\n",
    "    [\"jethalal\",randint(50,100)],\n",
    "    [\"mangilal\",randint(50,100)],\n",
    "]\n",
    "# nested data structure or nested list"
   ]
  },
  {
   "cell_type": "code",
   "execution_count": 27,
   "id": "938afab8",
   "metadata": {},
   "outputs": [],
   "source": [
    "from pprint import pprint"
   ]
  },
  {
   "cell_type": "code",
   "execution_count": 28,
   "id": "bed36060",
   "metadata": {},
   "outputs": [
    {
     "name": "stdout",
     "output_type": "stream",
     "text": [
      "[['shrey', 56],\n",
      " ['shyam', 58],\n",
      " ['rohit', 60],\n",
      " ['jethalal', 84],\n",
      " ['mangilal', 64]]\n"
     ]
    }
   ],
   "source": [
    "pprint(marks)"
   ]
  },
  {
   "cell_type": "code",
   "execution_count": 31,
   "id": "ebb64158",
   "metadata": {},
   "outputs": [
    {
     "name": "stdout",
     "output_type": "stream",
     "text": [
      "[['shyam', 58],\n",
      " ['shrey', 56],\n",
      " ['rohit', 60],\n",
      " ['mangilal', 64],\n",
      " ['jethalal', 84]]\n"
     ]
    }
   ],
   "source": [
    "marks.sort(reverse=True)\n",
    "pprint(marks)"
   ]
  },
  {
   "cell_type": "code",
   "execution_count": 30,
   "id": "7cf22c87",
   "metadata": {},
   "outputs": [
    {
     "name": "stdout",
     "output_type": "stream",
     "text": [
      "Help on method_descriptor:\n",
      "\n",
      "sort(self, /, *, key=None, reverse=False)\n",
      "    Sort the list in ascending order and return None.\n",
      "    \n",
      "    The sort is in-place (i.e. the list itself is modified) and stable (i.e. the\n",
      "    order of two equal elements is maintained).\n",
      "    \n",
      "    If a key function is given, apply it once to each list item and sort them,\n",
      "    ascending or descending, according to their function values.\n",
      "    \n",
      "    The reverse flag can be set to sort in descending order.\n",
      "\n"
     ]
    }
   ],
   "source": [
    "help(list.sort)"
   ]
  },
  {
   "cell_type": "code",
   "execution_count": 36,
   "id": "7ec5f0b0",
   "metadata": {},
   "outputs": [],
   "source": [
    "from operator import itemgetter\n",
    "marks.sort(reverse=True,key=itemgetter(1))"
   ]
  },
  {
   "cell_type": "code",
   "execution_count": 33,
   "id": "b9cef3ff",
   "metadata": {},
   "outputs": [],
   "source": [
    "f=itemgetter(1)"
   ]
  },
  {
   "cell_type": "code",
   "execution_count": 34,
   "id": "0ebacf4a",
   "metadata": {},
   "outputs": [
    {
     "data": {
      "text/plain": [
       "2"
      ]
     },
     "execution_count": 34,
     "metadata": {},
     "output_type": "execute_result"
    }
   ],
   "source": [
    "f([1,2,3])"
   ]
  },
  {
   "cell_type": "code",
   "execution_count": 35,
   "id": "4de3b202",
   "metadata": {},
   "outputs": [
    {
     "data": {
      "text/plain": [
       "'hello'"
      ]
     },
     "execution_count": 35,
     "metadata": {},
     "output_type": "execute_result"
    }
   ],
   "source": [
    "f(['hi','hello','bye'])"
   ]
  },
  {
   "cell_type": "code",
   "execution_count": 38,
   "id": "678decb5",
   "metadata": {},
   "outputs": [
    {
     "name": "stdout",
     "output_type": "stream",
     "text": [
      "[['jethalal', 84],\n",
      " ['mangilal', 64],\n",
      " ['rohit', 60],\n",
      " ['shyam', 58],\n",
      " ['shrey', 56]]\n"
     ]
    }
   ],
   "source": [
    "pprint(marks)"
   ]
  },
  {
   "cell_type": "code",
   "execution_count": null,
   "id": "d08c5bea",
   "metadata": {},
   "outputs": [],
   "source": []
  }
 ],
 "metadata": {
  "kernelspec": {
   "display_name": "Python 3 (ipykernel)",
   "language": "python",
   "name": "python3"
  },
  "language_info": {
   "codemirror_mode": {
    "name": "ipython",
    "version": 3
   },
   "file_extension": ".py",
   "mimetype": "text/x-python",
   "name": "python",
   "nbconvert_exporter": "python",
   "pygments_lexer": "ipython3",
   "version": "3.10.5"
  }
 },
 "nbformat": 4,
 "nbformat_minor": 5
}
