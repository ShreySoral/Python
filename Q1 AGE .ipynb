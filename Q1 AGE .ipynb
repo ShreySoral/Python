{
 "cells": [
  {
   "cell_type": "code",
   "execution_count": 2,
   "id": "ad1644ee",
   "metadata": {},
   "outputs": [],
   "source": [
    "# Q1. Write a python code to print a persons age given by year\n",
    "    \n",
    "#         example: \n",
    "\n",
    " \n",
    "\n",
    "#             Input:\n",
    "\n",
    " \n",
    "\n",
    "#                 Enter your name: Sachin Yadav\n",
    "#                 Enter your birth year: 1996\n",
    "\n",
    " \n",
    "\n",
    "#             Ouput: \n",
    "\n",
    " \n",
    "\n",
    "#                 Hello Sachin Yadav you are 26 years old."
   ]
  },
  {
   "cell_type": "code",
   "execution_count": 3,
   "id": "44e6fb8c",
   "metadata": {},
   "outputs": [
    {
     "name": "stdout",
     "output_type": "stream",
     "text": [
      "Enter your name\n",
      "shrey\n",
      "Enter your birth year\n",
      "2004\n",
      "Enter the current year\n",
      "2022\n",
      "Hello shrey you are 18 years old\n",
      "\n"
     ]
    }
   ],
   "source": [
    "name=input(\"Enter your name\\n\")\n",
    "year=int(input(\"Enter your birth year\\n\"))\n",
    "current_year=int(input(\"Enter the current year\\n\"))\n",
    "arithmetic=current_year-year\n",
    "print(f\"Hello {name} you are {arithmetic} years old\\n\")"
   ]
  },
  {
   "cell_type": "code",
   "execution_count": null,
   "id": "60502f6b",
   "metadata": {},
   "outputs": [],
   "source": []
  }
 ],
 "metadata": {
  "kernelspec": {
   "display_name": "Python 3 (ipykernel)",
   "language": "python",
   "name": "python3"
  },
  "language_info": {
   "codemirror_mode": {
    "name": "ipython",
    "version": 3
   },
   "file_extension": ".py",
   "mimetype": "text/x-python",
   "name": "python",
   "nbconvert_exporter": "python",
   "pygments_lexer": "ipython3",
   "version": "3.10.5"
  }
 },
 "nbformat": 4,
 "nbformat_minor": 5
}
